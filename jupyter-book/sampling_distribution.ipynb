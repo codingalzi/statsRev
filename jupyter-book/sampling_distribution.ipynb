{
 "cells": [
  {
   "cell_type": "markdown",
   "metadata": {
    "ExecuteTime": {
     "end_time": "2018-03-06T03:37:40.696920Z",
     "start_time": "2018-03-06T03:37:40.690655Z"
    }
   },
   "source": [
    "(ch:sampling-distribution)=\n",
    "# 표본분포"
   ]
  },
  {
   "cell_type": "markdown",
   "metadata": {},
   "source": [
    "**기본 설정**"
   ]
  },
  {
   "cell_type": "markdown",
   "metadata": {
    "ExecuteTime": {
     "end_time": "2018-08-03T08:26:15.690793Z",
     "start_time": "2018-08-03T08:26:15.507201Z"
    }
   },
   "source": [
    "`numpy`와 `pandas` 라이브러리를 각각 `np`와 `pd`로 불러온다."
   ]
  },
  {
   "cell_type": "code",
   "execution_count": 1,
   "metadata": {
    "ExecuteTime": {
     "end_time": "2018-08-14T06:43:30.149227Z",
     "start_time": "2018-08-14T06:43:29.960007Z"
    }
   },
   "outputs": [],
   "source": [
    "import numpy as np\n",
    "import pandas as pd"
   ]
  },
  {
   "cell_type": "markdown",
   "metadata": {},
   "source": [
    "데이터프레임의 [chained indexing을 금지시키기 위한 설정](https://pandas.pydata.org/pandas-docs/stable/user_guide/indexing.html#returning-a-view-versus-a-copy)을 지정한다.\n",
    "Pandas 3.0 버전부터는 기본 옵션으로 지정된다."
   ]
  },
  {
   "cell_type": "code",
   "execution_count": 2,
   "metadata": {},
   "outputs": [],
   "source": [
    "pd.options.mode.copy_on_write = True"
   ]
  },
  {
   "cell_type": "markdown",
   "metadata": {
    "ExecuteTime": {
     "end_time": "2018-08-14T06:43:30.149227Z",
     "start_time": "2018-08-14T06:43:29.960007Z"
    }
   },
   "source": [
    "주피터 노트북에서 부동소수점의 출력을 소수점 이하 6자리로 제한한다.\n",
    "아래 코드는 주피터 노트북에서만 사용하며 일반적인 파이썬 코드가 아니다."
   ]
  },
  {
   "cell_type": "code",
   "execution_count": 3,
   "metadata": {
    "ExecuteTime": {
     "end_time": "2018-08-14T06:43:30.149227Z",
     "start_time": "2018-08-14T06:43:29.960007Z"
    }
   },
   "outputs": [
    {
     "data": {
      "text/plain": [
       "'%.6f'"
      ]
     },
     "execution_count": 3,
     "metadata": {},
     "output_type": "execute_result"
    }
   ],
   "source": [
    "%precision 6"
   ]
  },
  {
   "cell_type": "markdown",
   "metadata": {
    "ExecuteTime": {
     "end_time": "2018-08-14T06:43:30.149227Z",
     "start_time": "2018-08-14T06:43:29.960007Z"
    }
   },
   "source": [
    "아래 코드는 데이터프레임 내에서 부동소수점의 출력을 소수점 이하 6자리로 제한한다."
   ]
  },
  {
   "cell_type": "code",
   "execution_count": 4,
   "metadata": {
    "ExecuteTime": {
     "end_time": "2018-08-14T06:43:30.149227Z",
     "start_time": "2018-08-14T06:43:29.960007Z"
    }
   },
   "outputs": [],
   "source": [
    "pd.set_option('display.precision', 6)"
   ]
  },
  {
   "cell_type": "markdown",
   "metadata": {},
   "source": [
    "데이터 시각화를 위해 `matplotlib.pyplot`를 `plt`로,\n",
    "`seaborn`을 `sns`로 불러온다.\n",
    "`seaborn` 라이브러리는 통계 관련 데이터의 정보를 보다 세련되고 정확하게 전달하는 그래프를 그리는 도구를 제공한다.\n",
    "`matplotlib` 라이브러리를 바탕으로 만들어져서 함께 사용해도 된다."
   ]
  },
  {
   "cell_type": "code",
   "execution_count": 5,
   "metadata": {},
   "outputs": [],
   "source": [
    "import matplotlib.pyplot as plt\n",
    "import seaborn as sns"
   ]
  },
  {
   "cell_type": "markdown",
   "metadata": {},
   "source": [
    "그래프 스타일을 `seaborn`에서 제공하는 `white` 스타일로 지정한다."
   ]
  },
  {
   "cell_type": "code",
   "execution_count": 6,
   "metadata": {},
   "outputs": [],
   "source": [
    "sns.set_style(\"white\")"
   ]
  },
  {
   "cell_type": "markdown",
   "metadata": {},
   "source": [
    "**데이터 저장소 디렉토리**"
   ]
  },
  {
   "cell_type": "markdown",
   "metadata": {},
   "source": [
    "코드에 사용되는 [데이터 저장소의 기본 디렉토리](https://github.com/codingalzi/DataSci/tree/master/data)를 지정한다."
   ]
  },
  {
   "cell_type": "code",
   "execution_count": 7,
   "metadata": {},
   "outputs": [],
   "source": [
    "data_url = 'https://raw.githubusercontent.com/codingalzi/DataSci/refs/heads/master/data/'"
   ]
  },
  {
   "cell_type": "markdown",
   "metadata": {},
   "source": [
    "**주요 내용**"
   ]
  },
  {
   "cell_type": "markdown",
   "metadata": {},
   "source": [
    "표본 분포의 주요 개념을 소개한다.\n",
    "\n",
    "- 독립동일분포\n",
    "- 정규분포 연산\n",
    "- 표본평균의 분포\n",
    "- 중심극한정리\n",
    "- 큰 수의 법칙"
   ]
  },
  {
   "cell_type": "markdown",
   "metadata": {},
   "source": [
    "## 독립성과 상관성"
   ]
  },
  {
   "cell_type": "markdown",
   "metadata": {},
   "source": [
    "### 독립성"
   ]
  },
  {
   "cell_type": "markdown",
   "metadata": {},
   "source": [
    "확률변수 $X$와 $Y$가 서로 어떤 영향도 끼치지 않을 때 상호 독립이라 한다.\n",
    "수식으로 표혀하면 다음 수식이 성립할 때 두 확률변수가 상호 독립이라 정의한다.\n",
    "\n",
    "$$\n",
    "f_{XY}(x, y) = f_X(x) \\cdot f_Y(y)\n",
    "$$\n",
    "\n",
    "위 수식에서 $f_X$와 $f_Y$ 는 각각 $X$와 $Y$에 대한 주변확률을 계산하는 함수를 가리킨다.\n",
    "$X$와 $Y$가 이산확률변수인 경우 주변확률질량함수는 다음과 같이 정의된다.\n",
    "\n",
    "$$\n",
    "f_X(x) = \\sum_k f_{XY}(x, y_k) \\qquad f_Y(y) = \\sum_n f_{XY}(x_n, y)\n",
    "$$\n",
    "\n",
    "$x_n$과 $y_k$는 각각 확률변수 $X$와 $Y$가 가리킬 수 있는 유한개의 값을 나타낸다."
   ]
  },
  {
   "cell_type": "markdown",
   "metadata": {},
   "source": [
    "**예제**"
   ]
  },
  {
   "cell_type": "markdown",
   "metadata": {},
   "source": [
    "예를 들어 $X$는 공정한 주사위를 던져서 나오는 값을 가리키는 확률변수라 하자.\n",
    "$X$의 확률분포는 다음과 같다.\n",
    "\n",
    "| X | 1 | 2 | 3 | 4 | 5 | 6|\n",
    "| :---: | :---: | :---: | :---: | :---: | :---: | :---: |\n",
    "| 확률 | 1/6 | 1/6 | 1/6 | 1/6 | 1/6 | 1/6 |"
   ]
  },
  {
   "cell_type": "markdown",
   "metadata": {},
   "source": [
    "반면에 $Y$는 아래 확률분포를 갖는 불공정한 주사위를 던져서 나오는 값을 가리키는 확률 변수라 하자.\n",
    "\n",
    "| Y | 1 | 2 | 3 | 4 | 5 | 6|\n",
    "| :---: | :---: | :---: | :---: | :---: | :---: | :---: |\n",
    "| 확률 | 1/21 | 2/21 | 3/21 | 4/21 | 5/21 | 6/21 |"
   ]
  },
  {
   "cell_type": "markdown",
   "metadata": {},
   "source": [
    "공정한 주사위와 불공정한 주사위를 동시에 던져서 나오는 값으로 구성된 $(x, y)$ 가 발생할 확률은\n",
    "단순히 $x$가 발생할 확률과 $y$가 발생할 확률의 곱이다.\n",
    "두 주사위의 결과 $x$와 $y$가 서로 어떤 영향도 주고받지 않기 때문에 각각의 경우가 발생할 확률을 곱한다.\n",
    "\n",
    "$x$가 발생할 확률은 항상 1/6이고 $y$가 발생할 확률은 $y/21$이기게 결합확률질량함수는 다음과 같다."
   ]
  },
  {
   "cell_type": "code",
   "execution_count": 8,
   "metadata": {},
   "outputs": [],
   "source": [
    "def f_XY(x, y):\n",
    "    if y in range(1, 7):\n",
    "        return (1/6) * (y/21) # x의 확률은 항상 1/6\n",
    "    else:\n",
    "        return 0"
   ]
  },
  {
   "cell_type": "markdown",
   "metadata": {},
   "source": [
    "확률변수 각각에 대한 주변확률질량함수를 `f_XY()`를 이용하여 정의해보자."
   ]
  },
  {
   "cell_type": "markdown",
   "metadata": {},
   "source": [
    "- $X$에 대한 주변확률질량함수"
   ]
  },
  {
   "cell_type": "code",
   "execution_count": 9,
   "metadata": {},
   "outputs": [],
   "source": [
    "def f_X(x):\n",
    "    y_probs = [f_XY(x, y) for y in range(1, 7)]\n",
    "    return np.sum(y_probs)"
   ]
  },
  {
   "cell_type": "markdown",
   "metadata": {},
   "source": [
    "- $Y$에 대한 주변확률질량함수"
   ]
  },
  {
   "cell_type": "code",
   "execution_count": 10,
   "metadata": {},
   "outputs": [],
   "source": [
    "def f_Y(y):\n",
    "    x_probs = [f_XY(x, y) for x in range(1, 7)]\n",
    "    return np.sum(x_probs)"
   ]
  },
  {
   "cell_type": "markdown",
   "metadata": {},
   "source": [
    "아래 코드가 두 확률변수의 독립성을 확인해준다"
   ]
  },
  {
   "cell_type": "code",
   "execution_count": 11,
   "metadata": {},
   "outputs": [
    {
     "data": {
      "text/plain": [
       "True"
      ]
     },
     "execution_count": 11,
     "metadata": {},
     "output_type": "execute_result"
    }
   ],
   "source": [
    "xy = [f_XY(x, y) for x in range(1, 7) for y in range(1, 7)]\n",
    "xMy = [f_X(x) * f_Y(y) for x in range(1, 7) for y in range(1, 7)]\n",
    "np.allclose(xy, xMy)"
   ]
  },
  {
   "cell_type": "markdown",
   "metadata": {},
   "source": [
    "### 독립성 대 무상관성"
   ]
  },
  {
   "cell_type": "markdown",
   "metadata": {},
   "source": [
    "확률변수 $X$와 $Y$가 상호 독립이면 두 확률변수 사이에 어떠한 상관성도 존재하지 않는다.\n",
    "예를 들어, 결합확률분포의 공분산과 상관계수도 0이 된다.\n",
    "여기서는 두 개의 이산 확률변수 $X$와 $Y$로 구성된 결합확률변수 $(X, Y)$를 \n",
    "이용하여 독립성과 무상관성을 설명한다. \n",
    "\n",
    "$(X, Y)$의 확률질량함수를 $f_{XY}$ 할 때 각 확률변수에 대한 \n",
    "주변확률질량함수, 기댓값, 분산과\n",
    "두 확률변수의 선형 상관관계를 측정하는 공분산과 피어슨 상관계수는\n",
    "아래와 같이 정의된다."
   ]
  },
  {
   "cell_type": "markdown",
   "metadata": {},
   "source": [
    "- 기댓값"
   ]
  },
  {
   "cell_type": "markdown",
   "metadata": {},
   "source": [
    "$$\n",
    "\\begin{align*}\n",
    "E[X] &= \\sum_n x_n\\, f_X(x_n) = \\sum_n x_n\\, \\sum_k f_{XY}(x_n, y_k)\\\\[.5ex] \n",
    "E[Y]&= \\sum_k y_k\\, f_Y(y_k) = \\sum_k y_k\\, \\sum_n f_{XY}(x_n, y_k)\\\\[.5ex]\n",
    "\\end{align*}\n",
    "$$"
   ]
  },
  {
   "cell_type": "markdown",
   "metadata": {},
   "source": [
    "- 분산"
   ]
  },
  {
   "cell_type": "markdown",
   "metadata": {},
   "source": [
    "$$\n",
    "\\begin{align*}\n",
    "Var(X) &= \\sum_n (x_n-E[X])^2\\, f_X(x_n)\\\\[.5ex] \n",
    "Var(Y) &= \\sum_k (y_k-E[Y])^2\\, f_Y(y_k)\\\\[.5ex] \n",
    "\\end{align*}\n",
    "$$"
   ]
  },
  {
   "cell_type": "markdown",
   "metadata": {},
   "source": [
    "- 공분산과 피어슨 상관계수"
   ]
  },
  {
   "cell_type": "markdown",
   "metadata": {},
   "source": [
    "$$\n",
    "\\begin{align*}\n",
    "Cov(X, Y) &= \\sum_n\\sum_k (x_n-E[X])\\, (y_k-E[Y]) \\, f_{XY}(x_n, y_k)\\\\[1ex]\n",
    "Corr(X, Y) &= \\frac{Cov(X, Y)}{\\sqrt{Var(X)\\, Var(Y)}}\\\n",
    "\\end{align*}\n",
    "$$"
   ]
  },
  {
   "cell_type": "markdown",
   "metadata": {},
   "source": [
    "**독립이면 무상관이다!**"
   ]
  },
  {
   "cell_type": "markdown",
   "metadata": {},
   "source": [
    "아래 식은 두 확률변수가 상호 독립이면 공분산이 0임을 증명한다."
   ]
  },
  {
   "cell_type": "markdown",
   "metadata": {},
   "source": [
    "$$\n",
    "\\begin{align*}\n",
    "Cov(X, Y) &= \\sum_n\\sum_k (x_n - E[X])\\, (y_k - E[Y]) \\, f_{XY}(x_n, y_k)\\\\[1ex]\n",
    " &= \\sum_n\\sum_k (x_n - E[X])\\, (y_k - E[Y]) \\, f_n(x_n)\\, f_{Y}(y_k)\\\\[1ex]\n",
    " &= \\sum_n\\big( (x_n - E[X])\\, f_n(x)\\, \\sum_k (y_k - E[Y]) \\, f_{Y}(y_k)\\big )\\\\[1ex]\n",
    " &= 0\n",
    "\\end{align*}\n",
    "$$"
   ]
  },
  {
   "cell_type": "markdown",
   "metadata": {},
   "source": [
    "위 수식에서 마지막줄이 0인 이유는 바로 윗줄에 포함된 아래 수식이 0으로 계산되기 때문이다.\n",
    "\n",
    "$$\n",
    "\\begin{align*}\n",
    "\\sum_k (y_k-E[Y]) \\, f_{Y}(y_k) &= \\sum_k y \\, f_{Y}(y_k) - \\sum_k E[Y] \\, f_{Y}(y_k) \\\\[.5ex]\n",
    "    &= E[Y] - E[Y] \\, \\sum_k f_{Y}(y_k) \\\\[.5ex]\n",
    "    &= E[Y] - E[Y] \\\\[.5ex]\n",
    "    &= 0\n",
    "\\end{align*}\n",
    "$$"
   ]
  },
  {
   "cell_type": "markdown",
   "metadata": {},
   "source": [
    "실제로 공정한 주사위를 던진 결과와 불공정한 주사위를 던진 결과의 공분산은 0으로 계산된다.\n",
    "공분산이 0이면 피어슨 상관계수다 당연히 0이다."
   ]
  },
  {
   "cell_type": "markdown",
   "metadata": {},
   "source": [
    "- $X$의 기댓값: $E[X]$"
   ]
  },
  {
   "cell_type": "code",
   "execution_count": 12,
   "metadata": {},
   "outputs": [
    {
     "data": {
      "text/plain": [
       "3.500000"
      ]
     },
     "execution_count": 12,
     "metadata": {},
     "output_type": "execute_result"
    }
   ],
   "source": [
    "E_X = np.sum([x * f_XY(x, y) for x in range(1, 7) for y in range(1, 7)])\n",
    "E_X"
   ]
  },
  {
   "cell_type": "markdown",
   "metadata": {},
   "source": [
    "- $Y$의 기댓값: $E[Y]$"
   ]
  },
  {
   "cell_type": "code",
   "execution_count": 13,
   "metadata": {},
   "outputs": [
    {
     "data": {
      "text/plain": [
       "4.333333"
      ]
     },
     "execution_count": 13,
     "metadata": {},
     "output_type": "execute_result"
    }
   ],
   "source": [
    "E_Y = np.sum([y * f_XY(x, y) for x in range(1, 7) for y in range(1, 7)])\n",
    "E_Y"
   ]
  },
  {
   "cell_type": "markdown",
   "metadata": {},
   "source": [
    "- $X$와 $Y$의 공분산: $Cov(X, Y)$"
   ]
  },
  {
   "cell_type": "code",
   "execution_count": 14,
   "metadata": {},
   "outputs": [
    {
     "data": {
      "text/plain": [
       "-0.000000"
      ]
     },
     "execution_count": 14,
     "metadata": {},
     "output_type": "execute_result"
    }
   ],
   "source": [
    "Cov_XY = np.sum([(x-E_X)*(y-E_Y)*f_XY(x, y) for x in range(1, 7) for y in range(1, 7)])\n",
    "Cov_XY"
   ]
  },
  {
   "cell_type": "markdown",
   "metadata": {},
   "source": [
    "**무상관이지만 독립이 아닐 수 있다!**"
   ]
  },
  {
   "cell_type": "markdown",
   "metadata": {},
   "source": [
    "결합확률변수 $XY$가 다음과 같이 정의된다."
   ]
  },
  {
   "cell_type": "code",
   "execution_count": 15,
   "metadata": {},
   "outputs": [
    {
     "data": {
      "text/html": [
       "<div>\n",
       "<style scoped>\n",
       "    .dataframe tbody tr th:only-of-type {\n",
       "        vertical-align: middle;\n",
       "    }\n",
       "\n",
       "    .dataframe tbody tr th {\n",
       "        vertical-align: top;\n",
       "    }\n",
       "\n",
       "    .dataframe thead th {\n",
       "        text-align: right;\n",
       "    }\n",
       "</style>\n",
       "<table border=\"1\" class=\"dataframe\">\n",
       "  <thead>\n",
       "    <tr style=\"text-align: right;\">\n",
       "      <th></th>\n",
       "      <th>X</th>\n",
       "      <th>Y</th>\n",
       "    </tr>\n",
       "  </thead>\n",
       "  <tbody>\n",
       "    <tr>\n",
       "      <th>0</th>\n",
       "      <td>1</td>\n",
       "      <td>0</td>\n",
       "    </tr>\n",
       "    <tr>\n",
       "      <th>1</th>\n",
       "      <td>0</td>\n",
       "      <td>1</td>\n",
       "    </tr>\n",
       "    <tr>\n",
       "      <th>2</th>\n",
       "      <td>-1</td>\n",
       "      <td>0</td>\n",
       "    </tr>\n",
       "    <tr>\n",
       "      <th>3</th>\n",
       "      <td>0</td>\n",
       "      <td>-1</td>\n",
       "    </tr>\n",
       "  </tbody>\n",
       "</table>\n",
       "</div>"
      ],
      "text/plain": [
       "   X  Y\n",
       "0  1  0\n",
       "1  0  1\n",
       "2 -1  0\n",
       "3  0 -1"
      ]
     },
     "execution_count": 15,
     "metadata": {},
     "output_type": "execute_result"
    }
   ],
   "source": [
    "x=np.array([1,0,-1,0])\n",
    "y=np.array([0,1,0,-1])\n",
    "\n",
    "XY = pd.DataFrame({'X':x, 'Y':y})\n",
    "XY"
   ]
  },
  {
   "cell_type": "markdown",
   "metadata": {},
   "source": [
    "네 가지 경우가 모두 한 번씩만 사용되기에 $XY$는 균등분포를 따른다."
   ]
  },
  {
   "cell_type": "markdown",
   "metadata": {},
   "source": [
    "| XY | (1, 0) | (0, 1) | (-1, 0) | (0, -1)|\n",
    "| :---: | :---: | :---: | :---: | :---: |\n",
    "| 확률 | 1/4 | 1/4 | 1/4 | 1/4 |"
   ]
  },
  {
   "cell_type": "markdown",
   "metadata": {},
   "source": [
    "함수 `f_XY()` 가 $XY$의 결합확률질량함수를 가리킨다."
   ]
  },
  {
   "cell_type": "code",
   "execution_count": 16,
   "metadata": {},
   "outputs": [],
   "source": [
    "def f_XY(x, y):\n",
    "    if (x, y) in [(1, 0), (0, 1), (-1, 0), (0, -1)]:\n",
    "        return 1/4\n",
    "    else:\n",
    "        return 0"
   ]
  },
  {
   "cell_type": "markdown",
   "metadata": {},
   "source": [
    "확률변수 각각에 대한 주변확률질량함수는 다음과 같다."
   ]
  },
  {
   "cell_type": "markdown",
   "metadata": {},
   "source": [
    "- $X$에 대한 주변확률질량함수"
   ]
  },
  {
   "cell_type": "code",
   "execution_count": 17,
   "metadata": {},
   "outputs": [],
   "source": [
    "def f_X(x):\n",
    "    y_probs = [f_XY(x, y) for y in range(-1, 2)]\n",
    "    return np.sum(y_probs)"
   ]
  },
  {
   "cell_type": "markdown",
   "metadata": {},
   "source": [
    "- $Y$에 대한 주변확률질량함수"
   ]
  },
  {
   "cell_type": "code",
   "execution_count": 18,
   "metadata": {},
   "outputs": [],
   "source": [
    "def f_Y(y):\n",
    "    x_probs = [f_XY(x, y) for x in range(-1, 2)]\n",
    "    return np.sum(x_probs)"
   ]
  },
  {
   "cell_type": "markdown",
   "metadata": {},
   "source": [
    "이제 확률변수 $X$와 $Y$의 공분산을 확인한다.\n",
    "먼저 각 확률변수에 대한 기댓값을 계산한다."
   ]
  },
  {
   "cell_type": "markdown",
   "metadata": {},
   "source": [
    "- $X$의 기댓값: $E[X]$"
   ]
  },
  {
   "cell_type": "code",
   "execution_count": 19,
   "metadata": {},
   "outputs": [
    {
     "data": {
      "text/plain": [
       "0.000000"
      ]
     },
     "execution_count": 19,
     "metadata": {},
     "output_type": "execute_result"
    }
   ],
   "source": [
    "E_X = np.sum([x * f_X(x) for x in range(-1, 2)])\n",
    "E_X"
   ]
  },
  {
   "cell_type": "markdown",
   "metadata": {},
   "source": [
    "- $Y$의 기댓값: $E[Y]$"
   ]
  },
  {
   "cell_type": "code",
   "execution_count": 20,
   "metadata": {},
   "outputs": [
    {
     "data": {
      "text/plain": [
       "0.000000"
      ]
     },
     "execution_count": 20,
     "metadata": {},
     "output_type": "execute_result"
    }
   ],
   "source": [
    "E_Y = np.sum([y * f_Y(y) for y in range(-1, 2)])\n",
    "E_Y"
   ]
  },
  {
   "cell_type": "markdown",
   "metadata": {},
   "source": [
    "아래 코드는 $X$와 $Y$의 공분산으로 0으로 계산한다."
   ]
  },
  {
   "cell_type": "code",
   "execution_count": 21,
   "metadata": {},
   "outputs": [
    {
     "data": {
      "text/plain": [
       "0.000000"
      ]
     },
     "execution_count": 21,
     "metadata": {},
     "output_type": "execute_result"
    }
   ],
   "source": [
    "np.sum([(x-E_X)*(y-E_Y)*f_XY(x, y) for x in range(-1, 2) for y in range(-1, 2)])"
   ]
  },
  {
   "cell_type": "markdown",
   "metadata": {},
   "source": [
    "**균등분포의 공분산**"
   ]
  },
  {
   "cell_type": "markdown",
   "metadata": {},
   "source": [
    "$XY$가 균등분포를 따르기에 \n",
    "데이터프레임의 `cov()` 메서드를 이용하여 공분산을 확률을 무시한 채 바로 계산할 수 있으며\n",
    "앞서 확인한 대로 두 확률변수의 공분산이 0으로 계산된다."
   ]
  },
  {
   "cell_type": "code",
   "execution_count": 22,
   "metadata": {},
   "outputs": [
    {
     "data": {
      "text/html": [
       "<div>\n",
       "<style scoped>\n",
       "    .dataframe tbody tr th:only-of-type {\n",
       "        vertical-align: middle;\n",
       "    }\n",
       "\n",
       "    .dataframe tbody tr th {\n",
       "        vertical-align: top;\n",
       "    }\n",
       "\n",
       "    .dataframe thead th {\n",
       "        text-align: right;\n",
       "    }\n",
       "</style>\n",
       "<table border=\"1\" class=\"dataframe\">\n",
       "  <thead>\n",
       "    <tr style=\"text-align: right;\">\n",
       "      <th></th>\n",
       "      <th>X</th>\n",
       "      <th>Y</th>\n",
       "    </tr>\n",
       "  </thead>\n",
       "  <tbody>\n",
       "    <tr>\n",
       "      <th>X</th>\n",
       "      <td>0.5</td>\n",
       "      <td>0.0</td>\n",
       "    </tr>\n",
       "    <tr>\n",
       "      <th>Y</th>\n",
       "      <td>0.0</td>\n",
       "      <td>0.5</td>\n",
       "    </tr>\n",
       "  </tbody>\n",
       "</table>\n",
       "</div>"
      ],
      "text/plain": [
       "     X    Y\n",
       "X  0.5  0.0\n",
       "Y  0.0  0.5"
      ]
     },
     "execution_count": 22,
     "metadata": {},
     "output_type": "execute_result"
    }
   ],
   "source": [
    "XY.cov(ddof=0)"
   ]
  },
  {
   "cell_type": "markdown",
   "metadata": {},
   "source": [
    "공분산이 0이기에 $X$와 $Y$ 사이에는 선형 상관관계가 없다.\n",
    "하지만 선형이 아닌 다른 상관관계가 있음을 아래 코드가 그리는 그래프가 보여준다."
   ]
  },
  {
   "cell_type": "code",
   "execution_count": 23,
   "metadata": {},
   "outputs": [
    {
     "data": {
      "image/png": "[encoded data removed]",
      "text/plain": [
       "<Figure size 500x500 with 1 Axes>"
      ]
     },
     "metadata": {},
     "output_type": "display_data"
    }
   ],
   "source": [
    "# 원 그래프 좌표 생성\n",
    "# cos(theta)**2 + sin(theta)**2 = 1 \n",
    "# theta 는 0부터 2*pi 까지 변함.\n",
    "\n",
    "theta = np.linspace(0, 2*np.pi, 300)\n",
    "x = np.cos(theta)\n",
    "y = np.sin(theta)\n",
    "\n",
    "# 반지름인 1인 원 위에 위치한 정수 좌표 4개\n",
    "points = [(1, 0), (-1, 0), (0, 1), (0, -1)]\n",
    "\n",
    "fig, ax = plt.subplots(figsize=(5, 5))\n",
    "\n",
    "# 원 그리기\n",
    "ax.plot(x, y, label=\"\")\n",
    "\n",
    "# 네 정수 좌표 산점도\n",
    "x_ = [i for (i, j) in points] # points의 x-좌표값들\n",
    "y_ = [j for (i, j) in points] # points의 y-좌표값들\n",
    "ax.scatter(x_, y_, color='red', label=\"Integer points\")\n",
    "\n",
    "# x-축을 그래프의 중앙(y=0)에 배치\n",
    "ax.spines['bottom'].set_position(('data', 0))\n",
    "ax.spines['left'].set_position(('data', 0))\n",
    "\n",
    "# 불필요한 테두리 숨김\n",
    "ax.spines['top'].set_color('none')\n",
    "ax.spines['right'].set_color('none')\n",
    "\n",
    "# 축 범위와 눈금 지정\n",
    "ax.set_xlim(-1.2, 1.2)\n",
    "ax.set_ylim(-1.2, 1.2)\n",
    "\n",
    "# 눈금 위치 및 값 지정\n",
    "ax.set_xticks([-1.05, 0.05, 1.05])\n",
    "ax.set_xticklabels([-1, 0, 1])\n",
    "\n",
    "ax.set_yticks([-1.05, 1.05])\n",
    "ax.set_yticklabels([-1, 1])\n",
    "\n",
    "ax.legend()\n",
    "ax.set_aspect('equal')\n",
    "\n",
    "plt.show()"
   ]
  },
  {
   "cell_type": "markdown",
   "metadata": {},
   "source": [
    "위 그래프에서 네 개의 빨강점은 $XY$가 가리킬 수 있는 네 개의 값을 네 개의 좌표로 보았을 때 그려진 점들이다.\n",
    "사실 네 개의 점은 반지름이 1인 원에 포함된 점들 중에서 좌표가 정수인 유일한 네 개의 점이다.\n",
    "즉 다음이 성립한다.\n",
    "\n",
    "$$\n",
    "x^2 + y^2 = 1^2\n",
    "$$\n",
    "\n",
    "이를 통해 $X$와 $Y$가 가리키는 값들 사이에 상관성이 있음을 알 수 있다.\n",
    "실제로 주변확률질량함수의 곱과 결합확률질량함수가 서로 다름을 아래 코드가 확인해준다,"
   ]
  },
  {
   "cell_type": "code",
   "execution_count": 24,
   "metadata": {},
   "outputs": [
    {
     "data": {
      "text/plain": [
       "False"
      ]
     },
     "execution_count": 24,
     "metadata": {},
     "output_type": "execute_result"
    }
   ],
   "source": [
    "f_XY(1, 0) == f_X(1) * f_Y(0)"
   ]
  },
  {
   "cell_type": "markdown",
   "metadata": {
    "id": "wUMnPIRtJl8J"
   },
   "source": [
    "## 확률변수 연산과 선형변환"
   ]
  },
  {
   "cell_type": "markdown",
   "metadata": {},
   "source": [
    "**확률변수 합과 차**"
   ]
  },
  {
   "cell_type": "markdown",
   "metadata": {},
   "source": [
    "$X$와 $Y$ 두 개의 확률변수가 주어졌을 때 $X+Y$와 $X-Y$는 각각\n",
    "두 확률변수의 합과 차를 가리키는 확률변수다.\n",
    "즉, $X+Y$는 $X$가 가리키는 임의의 값과 $Y$가 가리키는 임의의 원소의 합을,\n",
    "$X-Y$는 $X$가 가리키는 임의의 값과 $Y$가 가리키는 임의의 원소의 차를 가리킨다.\n",
    "\n",
    "두 확률분포의 합의 분포와 차의 분포에 대한 확률함수를 직접 계산하기는 일반적으로 매우 어렵다.\n",
    "반면에 합과 차의 분포의 기댓값과 분산은 아래 수식으로 쉽게 계산된다.\n",
    "증명은 생략한다.\n",
    "\n",
    "$$\n",
    "E[X \\pm Y] = E[X] \\pm E[Y] \\qquad V(X \\pm Y) = V(X) \\pm V(Y)\n",
    "$$"
   ]
  },
  {
   "cell_type": "markdown",
   "metadata": {},
   "source": [
    "**확률변수 선형변환**"
   ]
  },
  {
   "cell_type": "markdown",
   "metadata": {},
   "source": [
    "확률변수 $X$와 임의의 실수 $a, b$가 주어졌을 때 $aX+b$는\n",
    "$X$가 가리키는 값을 $a$배한 다음에 $b$를 더해준 값들을 가리키는 확률변수다.\n",
    "선형변환된 확률분포의 기댓값과 분산은 다음과 같이 계산된다.\n",
    "증명은 생략한다.\n",
    "\n",
    "$$\n",
    "E[aX + b] = aE[X] + b \\qquad V(aX + b) = a^2V(X)\n",
    "$$"
   ]
  },
  {
   "cell_type": "markdown",
   "metadata": {
    "id": "wUMnPIRtJl8J"
   },
   "source": [
    "### 정규분포 합과 차"
   ]
  },
  {
   "cell_type": "markdown",
   "metadata": {
    "id": "wUMnPIRtJl8J"
   },
   "source": [
    "상호 독립인 확률변수 $X$와 $Y$가 정규분포를 따른다고 가정한다.\n",
    "\n",
    "$$\n",
    "X \\sim N(\\mu_X, \\sigma_X^2) \\qquad Y \\sim N(\\mu_y, \\sigma_y^2)\n",
    "$$"
   ]
  },
  {
   "cell_type": "markdown",
   "metadata": {
    "id": "wUMnPIRtJl8J"
   },
   "source": [
    "그러면 두 확률 번수의 합과 차를 확률변수 $X+Y$와 $X-Y$ 모두 정규분포를 따르며\n",
    "두 분포가 따르는 정규분포는 다음과 같다.\n",
    "\n",
    "$$\n",
    "X+Y \\sim N(\\mu_X+\\mu_Y,\\sigma_{X}^{2}+\\sigma_{Y}^{2}) \\qquad X-Y \\sim N(\\mu_X-\\mu_Y,\\ \\sigma_{X}^{2}+\\sigma_{Y}^{2})\n",
    "$$\n",
    "\n",
    "즉, $X+Y$의 평균값과 분산은 두 확률변수 각각의 평균값의 합과 분산의 합으로,\n",
    "$X-Y$의 평균값과 분산은 두 확률변수 각각의 평균값의 차와 분산의 합으로 계산된다.\n",
    "$X+Y$와 $X-Y$의 분산이 두 확률변수 각각의 분산의 합으로 계산되는 이유를 직관적으로 설명하기 위해\n",
    "다음 두 예제를 이용한다."
   ]
  },
  {
   "cell_type": "markdown",
   "metadata": {
    "id": "1CXFHBfSSpJR"
   },
   "source": [
    "**예제: 남성, 여성 체중의 합의 분포**"
   ]
  },
  {
   "cell_type": "markdown",
   "metadata": {},
   "source": [
    "한국 20대 남성, 여성의 체중 분포 $X$와 $Y$는 다음과 같다고 가정한다."
   ]
  },
  {
   "cell_type": "markdown",
   "metadata": {
    "id": "1CXFHBfSSpJR"
   },
   "source": [
    "$$\n",
    "X \\sim N(76.59, 11.73^2) \\qquad Y \\sim N(58.17, 9.28^2)\n",
    "$$\n",
    "\n",
    "만약 남성과 여성의 체중이 상호 독립이면 남성과 여성의 체중의 합은\n",
    "다음 분포를 따라야 한다. \n",
    "\n",
    "$$\n",
    "X+Y \\sim N(134.76, 14.96^2)\n",
    "$$"
   ]
  },
  {
   "cell_type": "markdown",
   "metadata": {},
   "source": [
    "위 사실을 코드로 확인해보기 위해 언급된\n",
    "평균값과 표준편차를 갖는 정규분포를 이용하여\n",
    "남성과 여성의 체중 데이터를 각각 1천개씩 무작위로 생성한다."
   ]
  },
  {
   "cell_type": "code",
   "execution_count": 25,
   "metadata": {},
   "outputs": [],
   "source": [
    "from scipy.stats import norm"
   ]
  },
  {
   "cell_type": "markdown",
   "metadata": {},
   "source": [
    "- 남녀 체중의 평균값과 표준편차 지정"
   ]
  },
  {
   "cell_type": "code",
   "execution_count": 26,
   "metadata": {},
   "outputs": [],
   "source": [
    "mu_men = 76.59\n",
    "sigma_men = 11.73\n",
    "\n",
    "mu_wemen = 58.17\n",
    "sigma_wemen = 9.28"
   ]
  },
  {
   "cell_type": "markdown",
   "metadata": {},
   "source": [
    "- 평균값의 합과 차, 분산 합의 제곱근값 계산"
   ]
  },
  {
   "cell_type": "code",
   "execution_count": 27,
   "metadata": {},
   "outputs": [
    {
     "name": "stdout",
     "output_type": "stream",
     "text": [
      "평균값 합: 134.76\n",
      "평균값 차: 18.42\n",
      "분산 합의 제곱근: 14.96\n"
     ]
    }
   ],
   "source": [
    "mu_sum = mu_men + mu_wemen\n",
    "mu_diff = mu_men - mu_wemen\n",
    "\n",
    "sigma_sum = np.sqrt(sigma_men**2 + sigma_wemen**2)\n",
    "\n",
    "print(\"평균값 합:\", mu_sum)\n",
    "print(\"평균값 차:\", mu_diff)\n",
    "print(\"분산 합의 제곱근:\", round(sigma_sum, 2))"
   ]
  },
  {
   "cell_type": "markdown",
   "metadata": {},
   "source": [
    "- 남성, 여성, 합, 차의 정규분포 지정"
   ]
  },
  {
   "cell_type": "code",
   "execution_count": 28,
   "metadata": {},
   "outputs": [],
   "source": [
    "X_men = norm(mu_men, sigma_men)\n",
    "Y_wemen = norm(mu_wemen, sigma_wemen)\n",
    "\n",
    "X_sum = norm(mu_sum, sigma_sum)\n",
    "X_diff = norm(mu_diff, sigma_sum)"
   ]
  },
  {
   "cell_type": "markdown",
   "metadata": {},
   "source": [
    "지정된 정규분포를 이용하여 남녀 각각 1천 개 데이터 샘플을 무작위로 생성한다.\n",
    "`norm` 객체의 `rvs()` 메서드를 이용한다.\n",
    "`rvs()` 메서드는 누적분포함수의 역함수에 해당한다."
   ]
  },
  {
   "cell_type": "code",
   "execution_count": 29,
   "metadata": {},
   "outputs": [],
   "source": [
    "np.random.seed(17)\n",
    "\n",
    "data_men = X_men.rvs(size=1000)\n",
    "data_wemen = Y_wemen.rvs(size=1000)"
   ]
  },
  {
   "cell_type": "markdown",
   "metadata": {},
   "source": [
    "생성된 남녀 데이터는 다음과 같다."
   ]
  },
  {
   "cell_type": "code",
   "execution_count": 30,
   "metadata": {},
   "outputs": [
    {
     "data": {
      "text/html": [
       "<div>\n",
       "<style scoped>\n",
       "    .dataframe tbody tr th:only-of-type {\n",
       "        vertical-align: middle;\n",
       "    }\n",
       "\n",
       "    .dataframe tbody tr th {\n",
       "        vertical-align: top;\n",
       "    }\n",
       "\n",
       "    .dataframe thead th {\n",
       "        text-align: right;\n",
       "    }\n",
       "</style>\n",
       "<table border=\"1\" class=\"dataframe\">\n",
       "  <thead>\n",
       "    <tr style=\"text-align: right;\">\n",
       "      <th></th>\n",
       "      <th>Men</th>\n",
       "      <th>Wemen</th>\n",
       "    </tr>\n",
       "  </thead>\n",
       "  <tbody>\n",
       "    <tr>\n",
       "      <th>0</th>\n",
       "      <td>79.830599</td>\n",
       "      <td>60.074171</td>\n",
       "    </tr>\n",
       "    <tr>\n",
       "      <th>1</th>\n",
       "      <td>54.835213</td>\n",
       "      <td>54.710194</td>\n",
       "    </tr>\n",
       "    <tr>\n",
       "      <th>2</th>\n",
       "      <td>83.908360</td>\n",
       "      <td>64.312568</td>\n",
       "    </tr>\n",
       "    <tr>\n",
       "      <th>3</th>\n",
       "      <td>90.024501</td>\n",
       "      <td>55.311428</td>\n",
       "    </tr>\n",
       "    <tr>\n",
       "      <th>4</th>\n",
       "      <td>88.756244</td>\n",
       "      <td>59.580689</td>\n",
       "    </tr>\n",
       "    <tr>\n",
       "      <th>...</th>\n",
       "      <td>...</td>\n",
       "      <td>...</td>\n",
       "    </tr>\n",
       "    <tr>\n",
       "      <th>995</th>\n",
       "      <td>79.400000</td>\n",
       "      <td>43.422549</td>\n",
       "    </tr>\n",
       "    <tr>\n",
       "      <th>996</th>\n",
       "      <td>94.674727</td>\n",
       "      <td>73.472021</td>\n",
       "    </tr>\n",
       "    <tr>\n",
       "      <th>997</th>\n",
       "      <td>72.251896</td>\n",
       "      <td>60.795651</td>\n",
       "    </tr>\n",
       "    <tr>\n",
       "      <th>998</th>\n",
       "      <td>59.569254</td>\n",
       "      <td>44.340925</td>\n",
       "    </tr>\n",
       "    <tr>\n",
       "      <th>999</th>\n",
       "      <td>74.087383</td>\n",
       "      <td>70.547387</td>\n",
       "    </tr>\n",
       "  </tbody>\n",
       "</table>\n",
       "<p>1000 rows × 2 columns</p>\n",
       "</div>"
      ],
      "text/plain": [
       "           Men      Wemen\n",
       "0    79.830599  60.074171\n",
       "1    54.835213  54.710194\n",
       "2    83.908360  64.312568\n",
       "3    90.024501  55.311428\n",
       "4    88.756244  59.580689\n",
       "..         ...        ...\n",
       "995  79.400000  43.422549\n",
       "996  94.674727  73.472021\n",
       "997  72.251896  60.795651\n",
       "998  59.569254  44.340925\n",
       "999  74.087383  70.547387\n",
       "\n",
       "[1000 rows x 2 columns]"
      ]
     },
     "execution_count": 30,
     "metadata": {},
     "output_type": "execute_result"
    }
   ],
   "source": [
    "data = pd.DataFrame({'Men': data_men, 'Wemen':data_wemen})\n",
    "data"
   ]
  },
  {
   "cell_type": "markdown",
   "metadata": {},
   "source": [
    "남녀 데이터의 합과 차를 추가한다."
   ]
  },
  {
   "cell_type": "code",
   "execution_count": 31,
   "metadata": {},
   "outputs": [
    {
     "data": {
      "text/html": [
       "<div>\n",
       "<style scoped>\n",
       "    .dataframe tbody tr th:only-of-type {\n",
       "        vertical-align: middle;\n",
       "    }\n",
       "\n",
       "    .dataframe tbody tr th {\n",
       "        vertical-align: top;\n",
       "    }\n",
       "\n",
       "    .dataframe thead th {\n",
       "        text-align: right;\n",
       "    }\n",
       "</style>\n",
       "<table border=\"1\" class=\"dataframe\">\n",
       "  <thead>\n",
       "    <tr style=\"text-align: right;\">\n",
       "      <th></th>\n",
       "      <th>Men</th>\n",
       "      <th>Wemen</th>\n",
       "      <th>Men+Wemen</th>\n",
       "      <th>Men-Wemen</th>\n",
       "    </tr>\n",
       "  </thead>\n",
       "  <tbody>\n",
       "    <tr>\n",
       "      <th>0</th>\n",
       "      <td>79.830599</td>\n",
       "      <td>60.074171</td>\n",
       "      <td>139.904770</td>\n",
       "      <td>19.756428</td>\n",
       "    </tr>\n",
       "    <tr>\n",
       "      <th>1</th>\n",
       "      <td>54.835213</td>\n",
       "      <td>54.710194</td>\n",
       "      <td>109.545407</td>\n",
       "      <td>0.125018</td>\n",
       "    </tr>\n",
       "    <tr>\n",
       "      <th>2</th>\n",
       "      <td>83.908360</td>\n",
       "      <td>64.312568</td>\n",
       "      <td>148.220928</td>\n",
       "      <td>19.595792</td>\n",
       "    </tr>\n",
       "    <tr>\n",
       "      <th>3</th>\n",
       "      <td>90.024501</td>\n",
       "      <td>55.311428</td>\n",
       "      <td>145.335930</td>\n",
       "      <td>34.713073</td>\n",
       "    </tr>\n",
       "    <tr>\n",
       "      <th>4</th>\n",
       "      <td>88.756244</td>\n",
       "      <td>59.580689</td>\n",
       "      <td>148.336934</td>\n",
       "      <td>29.175555</td>\n",
       "    </tr>\n",
       "    <tr>\n",
       "      <th>...</th>\n",
       "      <td>...</td>\n",
       "      <td>...</td>\n",
       "      <td>...</td>\n",
       "      <td>...</td>\n",
       "    </tr>\n",
       "    <tr>\n",
       "      <th>995</th>\n",
       "      <td>79.400000</td>\n",
       "      <td>43.422549</td>\n",
       "      <td>122.822549</td>\n",
       "      <td>35.977451</td>\n",
       "    </tr>\n",
       "    <tr>\n",
       "      <th>996</th>\n",
       "      <td>94.674727</td>\n",
       "      <td>73.472021</td>\n",
       "      <td>168.146749</td>\n",
       "      <td>21.202706</td>\n",
       "    </tr>\n",
       "    <tr>\n",
       "      <th>997</th>\n",
       "      <td>72.251896</td>\n",
       "      <td>60.795651</td>\n",
       "      <td>133.047546</td>\n",
       "      <td>11.456245</td>\n",
       "    </tr>\n",
       "    <tr>\n",
       "      <th>998</th>\n",
       "      <td>59.569254</td>\n",
       "      <td>44.340925</td>\n",
       "      <td>103.910179</td>\n",
       "      <td>15.228329</td>\n",
       "    </tr>\n",
       "    <tr>\n",
       "      <th>999</th>\n",
       "      <td>74.087383</td>\n",
       "      <td>70.547387</td>\n",
       "      <td>144.634770</td>\n",
       "      <td>3.539996</td>\n",
       "    </tr>\n",
       "  </tbody>\n",
       "</table>\n",
       "<p>1000 rows × 4 columns</p>\n",
       "</div>"
      ],
      "text/plain": [
       "           Men      Wemen   Men+Wemen  Men-Wemen\n",
       "0    79.830599  60.074171  139.904770  19.756428\n",
       "1    54.835213  54.710194  109.545407   0.125018\n",
       "2    83.908360  64.312568  148.220928  19.595792\n",
       "3    90.024501  55.311428  145.335930  34.713073\n",
       "4    88.756244  59.580689  148.336934  29.175555\n",
       "..         ...        ...         ...        ...\n",
       "995  79.400000  43.422549  122.822549  35.977451\n",
       "996  94.674727  73.472021  168.146749  21.202706\n",
       "997  72.251896  60.795651  133.047546  11.456245\n",
       "998  59.569254  44.340925  103.910179  15.228329\n",
       "999  74.087383  70.547387  144.634770   3.539996\n",
       "\n",
       "[1000 rows x 4 columns]"
      ]
     },
     "execution_count": 31,
     "metadata": {},
     "output_type": "execute_result"
    }
   ],
   "source": [
    "data['Men+Wemen'] = data_men + data_wemen\n",
    "data['Men-Wemen'] = data_men - data_wemen\n",
    "data"
   ]
  },
  {
   "cell_type": "markdown",
   "metadata": {},
   "source": [
    "생성된 데이터셋의 평균값과 표준편차를 확인한다."
   ]
  },
  {
   "cell_type": "code",
   "execution_count": 32,
   "metadata": {},
   "outputs": [
    {
     "data": {
      "text/html": [
       "<div>\n",
       "<style scoped>\n",
       "    .dataframe tbody tr th:only-of-type {\n",
       "        vertical-align: middle;\n",
       "    }\n",
       "\n",
       "    .dataframe tbody tr th {\n",
       "        vertical-align: top;\n",
       "    }\n",
       "\n",
       "    .dataframe thead th {\n",
       "        text-align: right;\n",
       "    }\n",
       "</style>\n",
       "<table border=\"1\" class=\"dataframe\">\n",
       "  <thead>\n",
       "    <tr style=\"text-align: right;\">\n",
       "      <th></th>\n",
       "      <th>Men</th>\n",
       "      <th>Wemen</th>\n",
       "      <th>Men+Wemen</th>\n",
       "      <th>Men-Wemen</th>\n",
       "    </tr>\n",
       "  </thead>\n",
       "  <tbody>\n",
       "    <tr>\n",
       "      <th>count</th>\n",
       "      <td>1000.000000</td>\n",
       "      <td>1000.000000</td>\n",
       "      <td>1000.000000</td>\n",
       "      <td>1000.000000</td>\n",
       "    </tr>\n",
       "    <tr>\n",
       "      <th>mean</th>\n",
       "      <td>76.841535</td>\n",
       "      <td>58.787949</td>\n",
       "      <td>135.629484</td>\n",
       "      <td>18.053586</td>\n",
       "    </tr>\n",
       "    <tr>\n",
       "      <th>std</th>\n",
       "      <td>11.952291</td>\n",
       "      <td>9.389426</td>\n",
       "      <td>14.921088</td>\n",
       "      <td>15.472502</td>\n",
       "    </tr>\n",
       "    <tr>\n",
       "      <th>min</th>\n",
       "      <td>36.708812</td>\n",
       "      <td>23.967999</td>\n",
       "      <td>93.151749</td>\n",
       "      <td>-37.877773</td>\n",
       "    </tr>\n",
       "    <tr>\n",
       "      <th>25%</th>\n",
       "      <td>69.057471</td>\n",
       "      <td>52.263616</td>\n",
       "      <td>124.968788</td>\n",
       "      <td>8.278447</td>\n",
       "    </tr>\n",
       "    <tr>\n",
       "      <th>50%</th>\n",
       "      <td>76.948344</td>\n",
       "      <td>58.753895</td>\n",
       "      <td>135.646115</td>\n",
       "      <td>18.080370</td>\n",
       "    </tr>\n",
       "    <tr>\n",
       "      <th>75%</th>\n",
       "      <td>84.615042</td>\n",
       "      <td>65.509813</td>\n",
       "      <td>145.498712</td>\n",
       "      <td>27.586009</td>\n",
       "    </tr>\n",
       "    <tr>\n",
       "      <th>max</th>\n",
       "      <td>120.078704</td>\n",
       "      <td>93.156649</td>\n",
       "      <td>180.354708</td>\n",
       "      <td>78.752267</td>\n",
       "    </tr>\n",
       "  </tbody>\n",
       "</table>\n",
       "</div>"
      ],
      "text/plain": [
       "               Men        Wemen    Men+Wemen    Men-Wemen\n",
       "count  1000.000000  1000.000000  1000.000000  1000.000000\n",
       "mean     76.841535    58.787949   135.629484    18.053586\n",
       "std      11.952291     9.389426    14.921088    15.472502\n",
       "min      36.708812    23.967999    93.151749   -37.877773\n",
       "25%      69.057471    52.263616   124.968788     8.278447\n",
       "50%      76.948344    58.753895   135.646115    18.080370\n",
       "75%      84.615042    65.509813   145.498712    27.586009\n",
       "max     120.078704    93.156649   180.354708    78.752267"
      ]
     },
     "execution_count": 32,
     "metadata": {},
     "output_type": "execute_result"
    }
   ],
   "source": [
    "data.describe()"
   ]
  },
  {
   "cell_type": "markdown",
   "metadata": {},
   "source": [
    "정규분포를 따르는 데 확률변수의 합과 차 데이터또한 \n",
    "이론적으로 추청된 평균값과 표준편차를 갖는 정규분포를 따른다.\n",
    "아래 코드는 이를 그래프로 확인해준다."
   ]
  },
  {
   "cell_type": "markdown",
   "metadata": {},
   "source": [
    "- 합 데이터 분포 그래프"
   ]
  },
  {
   "cell_type": "code",
   "execution_count": 33,
   "metadata": {
    "colab": {
     "base_uri": "https://localhost:8080/",
     "height": 265
    },
    "executionInfo": {
     "elapsed": 505,
     "status": "ok",
     "timestamp": 1677562090025,
     "user": {
      "displayName": "심지혜",
      "userId": "04812080460422707380"
     },
     "user_tz": -540
    },
    "id": "J1S4jNBqUjes",
    "outputId": "448189ea-76fd-454f-e221-5872843c1eb3"
   },
   "outputs": [
    {
     "data": {
      "image/png": "[encoded data removed]",
      "text/plain": [
       "<Figure size 640x480 with 1 Axes>"
      ]
     },
     "metadata": {},
     "output_type": "display_data"
    }
   ],
   "source": [
    "fig, ax = plt.subplots()\n",
    "\n",
    "sns.kdeplot(ax=ax, data=data['Men'], label='Men')\n",
    "sns.kdeplot(ax=ax, data=data['Wemen'], label='Wemen')\n",
    "sns.kdeplot(ax=ax, data=data['Men+Wemen'], label='Men+Wemen')\n",
    "\n",
    "x = np.arange(85, 200, 0.01)\n",
    "ax.plot(x, X_sum.pdf(x), linestyle=':', label=r'$N(\\mu_{sum}, \\sigma_{sum}^2)$')\n",
    "\n",
    "x_ticks = np.append(ax.get_xticks(), [mu_men, mu_wemen, mu_sum])\n",
    "x_ticks_ = np.append(ax.get_xticks(), [r'$\\mu_{men}$', r'$\\mu_{wemen}$', r'$\\mu_{sum}$']) # 실제로 보이는 눈금 기호\n",
    "\n",
    "ax.set_xticks(x_ticks, x_ticks_, rotation=90)\n",
    "ax.get_xticklabels()[-3].set_color(\"red\") # a 눈금 색 지정\n",
    "ax.get_xticklabels()[-2].set_color(\"red\") # a 눈금 색 지정\n",
    "ax.get_xticklabels()[-1].set_color(\"red\") # a 눈금 색 지정\n",
    "\n",
    "ax.set_xlabel('Weight')\n",
    "ax.legend()\n",
    "\n",
    "plt.show()"
   ]
  },
  {
   "cell_type": "markdown",
   "metadata": {},
   "source": [
    "- 차 데이터 분포 그래프"
   ]
  },
  {
   "cell_type": "code",
   "execution_count": 34,
   "metadata": {
    "colab": {
     "base_uri": "https://localhost:8080/",
     "height": 265
    },
    "executionInfo": {
     "elapsed": 505,
     "status": "ok",
     "timestamp": 1677562090025,
     "user": {
      "displayName": "심지혜",
      "userId": "04812080460422707380"
     },
     "user_tz": -540
    },
    "id": "J1S4jNBqUjes",
    "outputId": "448189ea-76fd-454f-e221-5872843c1eb3"
   },
   "outputs": [
    {
     "data": {
      "image/png": "[encoded data removed]",
      "text/plain": [
       "<Figure size 640x480 with 1 Axes>"
      ]
     },
     "metadata": {},
     "output_type": "display_data"
    }
   ],
   "source": [
    "fig, ax = plt.subplots()\n",
    "\n",
    "sns.kdeplot(ax=ax, data=data['Men'], label='Men')\n",
    "sns.kdeplot(ax=ax, data=data['Wemen'], label='Wemen')\n",
    "sns.kdeplot(ax=ax, data=data['Men-Wemen'], label='Men-Wemen')\n",
    "\n",
    "x = np.arange(-35, 80, 0.01)\n",
    "ax.plot(x, X_diff.pdf(x), linestyle=':', label=r'$N(\\mu_{diff}, \\sigma_{diff}^2)$')\n",
    "\n",
    "x_ticks = np.append(ax.get_xticks(), [71.2, 53.7, 17.5])\n",
    "x_ticks_ = np.append(ax.get_xticks(), [r'$\\mu_{men}$', r'$\\mu_{wemen}$', r'$\\mu_{diff}$']) # 실제로 보이는 눈금 기호\n",
    "\n",
    "ax.set_xticks(x_ticks, x_ticks_, rotation=90)\n",
    "ax.get_xticklabels()[-3].set_color(\"red\") # a 눈금 색 지정\n",
    "ax.get_xticklabels()[-2].set_color(\"red\") # a 눈금 색 지정\n",
    "ax.get_xticklabels()[-1].set_color(\"red\") # a 눈금 색 지정\n",
    "\n",
    "ax.set_xlabel('Weight')\n",
    "ax.legend()\n",
    "\n",
    "plt.show()"
   ]
  },
  {
   "cell_type": "markdown",
   "metadata": {},
   "source": [
    "### 독립성의 중요성"
   ]
  },
  {
   "cell_type": "markdown",
   "metadata": {},
   "source": [
    "$X$와 $Y$가 상호 독립이지 않으면 정규분포의 합과 차가 정규분포를 따르지 않을 수 있다.\n",
    "설명을 위해 {numref}`%s장 <ch:normal-distribution>`에서 소개한\n",
    "피어슨의 아버지와 아들의 키 데이터셋을 활용한다.\n",
    "이유는 아들 키는 아버지의 키 유전자에 많은 영향을 받아 절대로 독립적일 수 없기 때문이다."
   ]
  },
  {
   "cell_type": "markdown",
   "metadata": {},
   "source": [
    "아래 코드는 피어슨<font size='2'>Pearson</font>이 1903년에 실험을 위해 수집한\n",
    "아버지와 아들의 키로 구성된 데이터셋을 불러온다.\n",
    "원래 인치 단위를 사용하지만 편의를 위해 센티미터 단위로 변환되었다."
   ]
  },
  {
   "cell_type": "code",
   "execution_count": 35,
   "metadata": {},
   "outputs": [],
   "source": [
    "pearson = pd.read_csv(data_url+\"pearson_dataset.csv\", header=0)"
   ]
  },
  {
   "cell_type": "markdown",
   "metadata": {},
   "source": [
    "아버지 키와 아들 키 각각 총 1,078개의 부동소수점 값이 포함되었다."
   ]
  },
  {
   "cell_type": "code",
   "execution_count": 36,
   "metadata": {},
   "outputs": [
    {
     "name": "stdout",
     "output_type": "stream",
     "text": [
      "<class 'pandas.core.frame.DataFrame'>\n",
      "RangeIndex: 1078 entries, 0 to 1077\n",
      "Data columns (total 2 columns):\n",
      " #   Column  Non-Null Count  Dtype  \n",
      "---  ------  --------------  -----  \n",
      " 0   Father  1078 non-null   float64\n",
      " 1   Son     1078 non-null   float64\n",
      "dtypes: float64(2)\n",
      "memory usage: 17.0 KB\n"
     ]
    }
   ],
   "source": [
    "pearson.info()"
   ]
  },
  {
   "cell_type": "markdown",
   "metadata": {},
   "source": [
    "**아버지 키와 아들 키의 상관관계**"
   ]
  },
  {
   "cell_type": "markdown",
   "metadata": {},
   "source": [
    "예상대로 아버지 키와 아들 키 데이터의 공분산이 0이 아니다."
   ]
  },
  {
   "cell_type": "code",
   "execution_count": 37,
   "metadata": {},
   "outputs": [
    {
     "data": {
      "text/html": [
       "<div>\n",
       "<style scoped>\n",
       "    .dataframe tbody tr th:only-of-type {\n",
       "        vertical-align: middle;\n",
       "    }\n",
       "\n",
       "    .dataframe tbody tr th {\n",
       "        vertical-align: top;\n",
       "    }\n",
       "\n",
       "    .dataframe thead th {\n",
       "        text-align: right;\n",
       "    }\n",
       "</style>\n",
       "<table border=\"1\" class=\"dataframe\">\n",
       "  <thead>\n",
       "    <tr style=\"text-align: right;\">\n",
       "      <th></th>\n",
       "      <th>Father</th>\n",
       "      <th>Son</th>\n",
       "    </tr>\n",
       "  </thead>\n",
       "  <tbody>\n",
       "    <tr>\n",
       "      <th>Father</th>\n",
       "      <td>48.612085</td>\n",
       "      <td>24.984513</td>\n",
       "    </tr>\n",
       "    <tr>\n",
       "      <th>Son</th>\n",
       "      <td>24.984513</td>\n",
       "      <td>51.125832</td>\n",
       "    </tr>\n",
       "  </tbody>\n",
       "</table>\n",
       "</div>"
      ],
      "text/plain": [
       "           Father        Son\n",
       "Father  48.612085  24.984513\n",
       "Son     24.984513  51.125832"
      ]
     },
     "execution_count": 37,
     "metadata": {},
     "output_type": "execute_result"
    }
   ],
   "source": [
    "pearson.cov(ddof=0)"
   ]
  },
  {
   "cell_type": "markdown",
   "metadata": {},
   "source": [
    "피어슨 상관계수를 보면 0.5 정도로 상당히 높은 편이다.\n",
    "아버지 키가 아들 키에 많은 영향을 준다는 것이 확실하다."
   ]
  },
  {
   "cell_type": "code",
   "execution_count": 38,
   "metadata": {},
   "outputs": [
    {
     "data": {
      "text/html": [
       "<div>\n",
       "<style scoped>\n",
       "    .dataframe tbody tr th:only-of-type {\n",
       "        vertical-align: middle;\n",
       "    }\n",
       "\n",
       "    .dataframe tbody tr th {\n",
       "        vertical-align: top;\n",
       "    }\n",
       "\n",
       "    .dataframe thead th {\n",
       "        text-align: right;\n",
       "    }\n",
       "</style>\n",
       "<table border=\"1\" class=\"dataframe\">\n",
       "  <thead>\n",
       "    <tr style=\"text-align: right;\">\n",
       "      <th></th>\n",
       "      <th>Father</th>\n",
       "      <th>Son</th>\n",
       "    </tr>\n",
       "  </thead>\n",
       "  <tbody>\n",
       "    <tr>\n",
       "      <th>Father</th>\n",
       "      <td>1.000000</td>\n",
       "      <td>0.501163</td>\n",
       "    </tr>\n",
       "    <tr>\n",
       "      <th>Son</th>\n",
       "      <td>0.501163</td>\n",
       "      <td>1.000000</td>\n",
       "    </tr>\n",
       "  </tbody>\n",
       "</table>\n",
       "</div>"
      ],
      "text/plain": [
       "          Father       Son\n",
       "Father  1.000000  0.501163\n",
       "Son     0.501163  1.000000"
      ]
     },
     "execution_count": 38,
     "metadata": {},
     "output_type": "execute_result"
    }
   ],
   "source": [
    "pearson.corr()"
   ]
  },
  {
   "cell_type": "markdown",
   "metadata": {},
   "source": [
    "결론적으로 두 데이터는 상호 독립이 절대로 아니다.\n",
    "실제로 아버지키와 아들 키의 합은 정규분포를 따르지 않음을\n",
    "아래 코드가 보여준다."
   ]
  },
  {
   "cell_type": "code",
   "execution_count": 39,
   "metadata": {},
   "outputs": [
    {
     "data": {
      "text/html": [
       "<div>\n",
       "<style scoped>\n",
       "    .dataframe tbody tr th:only-of-type {\n",
       "        vertical-align: middle;\n",
       "    }\n",
       "\n",
       "    .dataframe tbody tr th {\n",
       "        vertical-align: top;\n",
       "    }\n",
       "\n",
       "    .dataframe thead th {\n",
       "        text-align: right;\n",
       "    }\n",
       "</style>\n",
       "<table border=\"1\" class=\"dataframe\">\n",
       "  <thead>\n",
       "    <tr style=\"text-align: right;\">\n",
       "      <th></th>\n",
       "      <th>Father</th>\n",
       "      <th>Son</th>\n",
       "      <th>Father+Son</th>\n",
       "    </tr>\n",
       "  </thead>\n",
       "  <tbody>\n",
       "    <tr>\n",
       "      <th>count</th>\n",
       "      <td>1078.000000</td>\n",
       "      <td>1078.000000</td>\n",
       "      <td>1078.000000</td>\n",
       "    </tr>\n",
       "    <tr>\n",
       "      <th>mean</th>\n",
       "      <td>171.922635</td>\n",
       "      <td>174.457978</td>\n",
       "      <td>346.380612</td>\n",
       "    </tr>\n",
       "    <tr>\n",
       "      <th>std</th>\n",
       "      <td>6.975473</td>\n",
       "      <td>7.153552</td>\n",
       "      <td>12.241158</td>\n",
       "    </tr>\n",
       "    <tr>\n",
       "      <th>min</th>\n",
       "      <td>149.900000</td>\n",
       "      <td>148.600000</td>\n",
       "      <td>307.800000</td>\n",
       "    </tr>\n",
       "    <tr>\n",
       "      <th>25%</th>\n",
       "      <td>167.100000</td>\n",
       "      <td>169.900000</td>\n",
       "      <td>338.025000</td>\n",
       "    </tr>\n",
       "    <tr>\n",
       "      <th>50%</th>\n",
       "      <td>172.200000</td>\n",
       "      <td>174.200000</td>\n",
       "      <td>346.400000</td>\n",
       "    </tr>\n",
       "    <tr>\n",
       "      <th>75%</th>\n",
       "      <td>176.800000</td>\n",
       "      <td>179.100000</td>\n",
       "      <td>354.800000</td>\n",
       "    </tr>\n",
       "    <tr>\n",
       "      <th>max</th>\n",
       "      <td>191.500000</td>\n",
       "      <td>199.100000</td>\n",
       "      <td>381.000000</td>\n",
       "    </tr>\n",
       "  </tbody>\n",
       "</table>\n",
       "</div>"
      ],
      "text/plain": [
       "            Father          Son   Father+Son\n",
       "count  1078.000000  1078.000000  1078.000000\n",
       "mean    171.922635   174.457978   346.380612\n",
       "std       6.975473     7.153552    12.241158\n",
       "min     149.900000   148.600000   307.800000\n",
       "25%     167.100000   169.900000   338.025000\n",
       "50%     172.200000   174.200000   346.400000\n",
       "75%     176.800000   179.100000   354.800000\n",
       "max     191.500000   199.100000   381.000000"
      ]
     },
     "execution_count": 39,
     "metadata": {},
     "output_type": "execute_result"
    }
   ],
   "source": [
    "pearson['Father+Son'] = pearson['Father'] + pearson['Son']\n",
    "\n",
    "pearson_desc = pearson.describe()\n",
    "pearson_desc"
   ]
  },
  {
   "cell_type": "markdown",
   "metadata": {},
   "source": [
    "평균값의 합은 유지된다."
   ]
  },
  {
   "cell_type": "code",
   "execution_count": 40,
   "metadata": {},
   "outputs": [
    {
     "data": {
      "text/plain": [
       "346.380612"
      ]
     },
     "execution_count": 40,
     "metadata": {},
     "output_type": "execute_result"
    }
   ],
   "source": [
    "mu_FS = pearson_desc.loc['mean', 'Father'] + pearson_desc.loc['mean', 'Son']\n",
    "mu_FS"
   ]
  },
  {
   "cell_type": "markdown",
   "metadata": {},
   "source": [
    "그런데 합의 분산이 두 분산의 합과 다르다."
   ]
  },
  {
   "cell_type": "markdown",
   "metadata": {},
   "source": [
    "- 분산의 합"
   ]
  },
  {
   "cell_type": "code",
   "execution_count": 41,
   "metadata": {},
   "outputs": [
    {
     "data": {
      "text/plain": [
       "99.830524"
      ]
     },
     "execution_count": 41,
     "metadata": {},
     "output_type": "execute_result"
    }
   ],
   "source": [
    "sigma_FS_squared = pearson_desc.loc['std', 'Father'] ** 2 + pearson_desc.loc['std', 'Son'] ** 2\n",
    "sigma_FS_squared"
   ]
  },
  {
   "cell_type": "markdown",
   "metadata": {},
   "source": [
    "- 이론적인 아버지 키와 아들 키의 합의 표준편차"
   ]
  },
  {
   "cell_type": "code",
   "execution_count": 42,
   "metadata": {},
   "outputs": [
    {
     "data": {
      "text/plain": [
       "9.991523"
      ]
     },
     "execution_count": 42,
     "metadata": {},
     "output_type": "execute_result"
    }
   ],
   "source": [
    "sigma_FS = np.sqrt(sigma_FS_squared)\n",
    "sigma_FS"
   ]
  },
  {
   "cell_type": "markdown",
   "metadata": {},
   "source": [
    "이론과 실제 계산된 표준편차가 많이 다르다."
   ]
  },
  {
   "cell_type": "markdown",
   "metadata": {},
   "source": [
    "- 실제 아버지 키와 아들 키의 합의 표준편차"
   ]
  },
  {
   "cell_type": "code",
   "execution_count": 43,
   "metadata": {},
   "outputs": [
    {
     "data": {
      "text/plain": [
       "12.241158"
      ]
     },
     "execution_count": 43,
     "metadata": {},
     "output_type": "execute_result"
    }
   ],
   "source": [
    "sigma_FaddS = pearson_desc.loc['std', 'Father+Son']\n",
    "sigma_FaddS"
   ]
  },
  {
   "cell_type": "markdown",
   "metadata": {},
   "source": [
    "데이터의 분포를 그래프로 그려보면 합의 분포가 정규분포가 아님을 \n",
    "보다 명확하게 확인할 수 있다."
   ]
  },
  {
   "cell_type": "markdown",
   "metadata": {},
   "source": [
    "- (아버지 키 + 아들 키)의 이론적 정규분포"
   ]
  },
  {
   "cell_type": "code",
   "execution_count": 44,
   "metadata": {},
   "outputs": [],
   "source": [
    "from scipy.stats import norm\n",
    "\n",
    "X_FS = norm(mu_FS, sigma_FS)"
   ]
  },
  {
   "cell_type": "markdown",
   "metadata": {},
   "source": [
    "- 확률 밀도 함수 그래프로 구분하기"
   ]
  },
  {
   "cell_type": "code",
   "execution_count": 45,
   "metadata": {},
   "outputs": [
    {
     "data": {
      "image/png": "[encoded data removed]",
      "text/plain": [
       "<Figure size 640x480 with 1 Axes>"
      ]
     },
     "metadata": {},
     "output_type": "display_data"
    }
   ],
   "source": [
    "fig, ax = plt.subplots()\n",
    "\n",
    "# KDE 기법으로 계산된 확률 밀도 함수 그래프\n",
    "# 아버지 키의 정규분포\n",
    "sns.kdeplot(ax=ax, data=pearson['Father'], label='Father')\n",
    "# 아들 키의 정규분포\n",
    "sns.kdeplot(ax=ax, data=pearson['Son'], label='Son')\n",
    "# (아버지 키+아들 키)의 실제 분포: 정규분포 아님\n",
    "sns.kdeplot(ax=ax, data=pearson['Father+Son'], label='Father+Son')\n",
    "\n",
    "# (아버지 키+아들 키)의 이론적 정규분포\n",
    "x = np.linspace(300, 400, 100)\n",
    "ax.plot(x, X_FS.pdf(x), linestyle=':', label=r'$N(\\mu_{FS}, \\sigma_{FS})$')\n",
    "\n",
    "ax.set_xlabel('Height')\n",
    "ax.set_ylabel('Density')\n",
    "\n",
    "ax.legend()\n",
    "plt.show()"
   ]
  },
  {
   "cell_type": "markdown",
   "metadata": {},
   "source": [
    "## 표본평균의 분포"
   ]
  },
  {
   "cell_type": "markdown",
   "metadata": {},
   "source": [
    "**독립동일분포**"
   ]
  },
  {
   "cell_type": "markdown",
   "metadata": {},
   "source": [
    "확률론에서 **독립동일분포**는 특정 확률분포를 따르는 데이터셋에서 무작위로 표본을 독립적으로 여러 번 추출해서 얻어진 값들로 구성된 데이터를 가리키는 다차원 확률변수를 의미한다.\n",
    "독립동일분포는 보통 'independently and identically distributed'의 표현의 줄임말인 **iid**로 불린다.\n",
    "\n",
    "예를 들어 동일한 주사위를 10 번 던져서 나온 값들로 구성된 튜플을 가리키는 iid는 $(X_1, X_2, \\dots, X_{10})$으로,\n",
    "무작위로 선택된 100명에게 물은 동일한 질문에 대한 답으로 구성된 튜플을 가리키는 iid는 $(X_1, X_2, \\dots, X_{100})$으로\n",
    "표기된다."
   ]
  },
  {
   "cell_type": "markdown",
   "metadata": {},
   "source": [
    "**표본평균의 분포**"
   ]
  },
  {
   "cell_type": "markdown",
   "metadata": {},
   "source": [
    "독립동일분포인 다차원 확률변수 $(X_1, X_2, \\cdots, X_n)$의 평균값이 따르는 분포가\n",
    "**표본평균의 분포**다.\n",
    "즉, 아래와 같이 정의된 확률변수 $\\overline{X}$의 확률분포를 가리킨다.\n",
    "\n",
    "$$\n",
    "\\overline{X} = \\frac{X_1 + X_2 + \\cdots + X_n}{n}\n",
    "$$"
   ]
  },
  {
   "cell_type": "markdown",
   "metadata": {},
   "source": [
    "$\\overline{X}$의 기댓값과 분산은 다음과 같이 계산된다."
   ]
  },
  {
   "cell_type": "markdown",
   "metadata": {},
   "source": [
    "- 표본평균의 기댓값"
   ]
  },
  {
   "cell_type": "markdown",
   "metadata": {},
   "source": [
    "$$\n",
    "\\begin{align*}\n",
    "E[\\overline{X}] &= E \\left[ \\frac{X_1 + X_2 + \\cdots + X_n}{n} \\right] \\\\[2ex]\n",
    "    &= \\frac{E[X_1] + E[X_2] + \\cdots + E[X_n]}{n} \\\\[1.5ex]\n",
    "    &= \\frac{n \\mu}{n} \\\\[1ex]\n",
    "    &= \\mu\n",
    "\\end{align*}\n",
    "$$"
   ]
  },
  {
   "cell_type": "markdown",
   "metadata": {},
   "source": [
    "- 표본평균의 분산"
   ]
  },
  {
   "cell_type": "markdown",
   "metadata": {},
   "source": [
    "$$\n",
    "\\begin{align*}\n",
    "V(\\overline{X}) &= V \\left( \\frac{X_1 + X_2 + \\cdots + X_n}{n} \\right) \\\\[2ex]\n",
    "    &= \\frac{V(X_1) + V(X_2) + \\cdots + V(X_n)}{n^2} \\\\[1.5ex]\n",
    "    &= \\frac{n \\sigma^2}{n^2} \\\\[1ex]\n",
    "    &= \\frac{\\sigma^2}{n}\n",
    "\\end{align*}\n",
    "$$"
   ]
  },
  {
   "cell_type": "markdown",
   "metadata": {},
   "source": [
    "### 중심극한정리"
   ]
  },
  {
   "cell_type": "markdown",
   "metadata": {},
   "source": [
    "확률변수 $X_1, X_2, \\dots, X_n$이 서로 독립이고\n",
    "모두 기댓값이 $\\mu$, 분산이 $\\sigma^2$인 동일한 확률분포를 따른다고 가정하자.\n",
    "그러면 $n$이 충분히 클 때 표본평균 $\\overline X$의 분포는 다음 정규분포를 따른다.\n",
    "\n",
    "$$\n",
    "\\overline{X} \\sim N \\left( \\mu, \\frac{\\sigma^2}{n} \\right)\n",
    "$$"
   ]
  },
  {
   "cell_type": "markdown",
   "metadata": {},
   "source": [
    "**예제: 캘리포니아 주택가격 데이터셋**"
   ]
  },
  {
   "cell_type": "markdown",
   "metadata": {},
   "source": [
    "{numref}`%s장 <ch:smapling>`에서 모집단과 표본을 설명할 때 사용한 캘리포니아 주택가격 데이터셋을 다시 활용하여\n",
    "표본평균의 분포를 확인한다."
   ]
  },
  {
   "cell_type": "markdown",
   "metadata": {},
   "source": [
    " 먼저 캘리포니아 주택가격 데이터셋을 불러온다."
   ]
  },
  {
   "cell_type": "code",
   "execution_count": 46,
   "metadata": {},
   "outputs": [
    {
     "data": {
      "text/html": [
       "<div>\n",
       "<style scoped>\n",
       "    .dataframe tbody tr th:only-of-type {\n",
       "        vertical-align: middle;\n",
       "    }\n",
       "\n",
       "    .dataframe tbody tr th {\n",
       "        vertical-align: top;\n",
       "    }\n",
       "\n",
       "    .dataframe thead th {\n",
       "        text-align: right;\n",
       "    }\n",
       "</style>\n",
       "<table border=\"1\" class=\"dataframe\">\n",
       "  <thead>\n",
       "    <tr style=\"text-align: right;\">\n",
       "      <th></th>\n",
       "      <th>longitude</th>\n",
       "      <th>latitude</th>\n",
       "      <th>housing_median_age</th>\n",
       "      <th>total_rooms</th>\n",
       "      <th>total_bedrooms</th>\n",
       "      <th>population</th>\n",
       "      <th>households</th>\n",
       "      <th>median_income</th>\n",
       "      <th>median_house_value</th>\n",
       "      <th>ocean_proximity</th>\n",
       "    </tr>\n",
       "  </thead>\n",
       "  <tbody>\n",
       "    <tr>\n",
       "      <th>0</th>\n",
       "      <td>-122.23</td>\n",
       "      <td>37.88</td>\n",
       "      <td>41.0</td>\n",
       "      <td>880.0</td>\n",
       "      <td>129.0</td>\n",
       "      <td>322.0</td>\n",
       "      <td>126.0</td>\n",
       "      <td>8.3252</td>\n",
       "      <td>452600.0</td>\n",
       "      <td>NEAR BAY</td>\n",
       "    </tr>\n",
       "    <tr>\n",
       "      <th>1</th>\n",
       "      <td>-122.22</td>\n",
       "      <td>37.86</td>\n",
       "      <td>21.0</td>\n",
       "      <td>7099.0</td>\n",
       "      <td>1106.0</td>\n",
       "      <td>2401.0</td>\n",
       "      <td>1138.0</td>\n",
       "      <td>8.3014</td>\n",
       "      <td>358500.0</td>\n",
       "      <td>NEAR BAY</td>\n",
       "    </tr>\n",
       "    <tr>\n",
       "      <th>2</th>\n",
       "      <td>-122.24</td>\n",
       "      <td>37.85</td>\n",
       "      <td>52.0</td>\n",
       "      <td>1467.0</td>\n",
       "      <td>190.0</td>\n",
       "      <td>496.0</td>\n",
       "      <td>177.0</td>\n",
       "      <td>7.2574</td>\n",
       "      <td>352100.0</td>\n",
       "      <td>NEAR BAY</td>\n",
       "    </tr>\n",
       "    <tr>\n",
       "      <th>3</th>\n",
       "      <td>-122.25</td>\n",
       "      <td>37.85</td>\n",
       "      <td>52.0</td>\n",
       "      <td>1274.0</td>\n",
       "      <td>235.0</td>\n",
       "      <td>558.0</td>\n",
       "      <td>219.0</td>\n",
       "      <td>5.6431</td>\n",
       "      <td>341300.0</td>\n",
       "      <td>NEAR BAY</td>\n",
       "    </tr>\n",
       "    <tr>\n",
       "      <th>4</th>\n",
       "      <td>-122.25</td>\n",
       "      <td>37.85</td>\n",
       "      <td>52.0</td>\n",
       "      <td>1627.0</td>\n",
       "      <td>280.0</td>\n",
       "      <td>565.0</td>\n",
       "      <td>259.0</td>\n",
       "      <td>3.8462</td>\n",
       "      <td>342200.0</td>\n",
       "      <td>NEAR BAY</td>\n",
       "    </tr>\n",
       "    <tr>\n",
       "      <th>...</th>\n",
       "      <td>...</td>\n",
       "      <td>...</td>\n",
       "      <td>...</td>\n",
       "      <td>...</td>\n",
       "      <td>...</td>\n",
       "      <td>...</td>\n",
       "      <td>...</td>\n",
       "      <td>...</td>\n",
       "      <td>...</td>\n",
       "      <td>...</td>\n",
       "    </tr>\n",
       "    <tr>\n",
       "      <th>20635</th>\n",
       "      <td>-121.09</td>\n",
       "      <td>39.48</td>\n",
       "      <td>25.0</td>\n",
       "      <td>1665.0</td>\n",
       "      <td>374.0</td>\n",
       "      <td>845.0</td>\n",
       "      <td>330.0</td>\n",
       "      <td>1.5603</td>\n",
       "      <td>78100.0</td>\n",
       "      <td>INLAND</td>\n",
       "    </tr>\n",
       "    <tr>\n",
       "      <th>20636</th>\n",
       "      <td>-121.21</td>\n",
       "      <td>39.49</td>\n",
       "      <td>18.0</td>\n",
       "      <td>697.0</td>\n",
       "      <td>150.0</td>\n",
       "      <td>356.0</td>\n",
       "      <td>114.0</td>\n",
       "      <td>2.5568</td>\n",
       "      <td>77100.0</td>\n",
       "      <td>INLAND</td>\n",
       "    </tr>\n",
       "    <tr>\n",
       "      <th>20637</th>\n",
       "      <td>-121.22</td>\n",
       "      <td>39.43</td>\n",
       "      <td>17.0</td>\n",
       "      <td>2254.0</td>\n",
       "      <td>485.0</td>\n",
       "      <td>1007.0</td>\n",
       "      <td>433.0</td>\n",
       "      <td>1.7000</td>\n",
       "      <td>92300.0</td>\n",
       "      <td>INLAND</td>\n",
       "    </tr>\n",
       "    <tr>\n",
       "      <th>20638</th>\n",
       "      <td>-121.32</td>\n",
       "      <td>39.43</td>\n",
       "      <td>18.0</td>\n",
       "      <td>1860.0</td>\n",
       "      <td>409.0</td>\n",
       "      <td>741.0</td>\n",
       "      <td>349.0</td>\n",
       "      <td>1.8672</td>\n",
       "      <td>84700.0</td>\n",
       "      <td>INLAND</td>\n",
       "    </tr>\n",
       "    <tr>\n",
       "      <th>20639</th>\n",
       "      <td>-121.24</td>\n",
       "      <td>39.37</td>\n",
       "      <td>16.0</td>\n",
       "      <td>2785.0</td>\n",
       "      <td>616.0</td>\n",
       "      <td>1387.0</td>\n",
       "      <td>530.0</td>\n",
       "      <td>2.3886</td>\n",
       "      <td>89400.0</td>\n",
       "      <td>INLAND</td>\n",
       "    </tr>\n",
       "  </tbody>\n",
       "</table>\n",
       "<p>20640 rows × 10 columns</p>\n",
       "</div>"
      ],
      "text/plain": [
       "       longitude  latitude  housing_median_age  total_rooms  total_bedrooms  \\\n",
       "0        -122.23     37.88                41.0        880.0           129.0   \n",
       "1        -122.22     37.86                21.0       7099.0          1106.0   \n",
       "2        -122.24     37.85                52.0       1467.0           190.0   \n",
       "3        -122.25     37.85                52.0       1274.0           235.0   \n",
       "4        -122.25     37.85                52.0       1627.0           280.0   \n",
       "...          ...       ...                 ...          ...             ...   \n",
       "20635    -121.09     39.48                25.0       1665.0           374.0   \n",
       "20636    -121.21     39.49                18.0        697.0           150.0   \n",
       "20637    -121.22     39.43                17.0       2254.0           485.0   \n",
       "20638    -121.32     39.43                18.0       1860.0           409.0   \n",
       "20639    -121.24     39.37                16.0       2785.0           616.0   \n",
       "\n",
       "       population  households  median_income  median_house_value  \\\n",
       "0           322.0       126.0         8.3252            452600.0   \n",
       "1          2401.0      1138.0         8.3014            358500.0   \n",
       "2           496.0       177.0         7.2574            352100.0   \n",
       "3           558.0       219.0         5.6431            341300.0   \n",
       "4           565.0       259.0         3.8462            342200.0   \n",
       "...           ...         ...            ...                 ...   \n",
       "20635       845.0       330.0         1.5603             78100.0   \n",
       "20636       356.0       114.0         2.5568             77100.0   \n",
       "20637      1007.0       433.0         1.7000             92300.0   \n",
       "20638       741.0       349.0         1.8672             84700.0   \n",
       "20639      1387.0       530.0         2.3886             89400.0   \n",
       "\n",
       "      ocean_proximity  \n",
       "0            NEAR BAY  \n",
       "1            NEAR BAY  \n",
       "2            NEAR BAY  \n",
       "3            NEAR BAY  \n",
       "4            NEAR BAY  \n",
       "...               ...  \n",
       "20635          INLAND  \n",
       "20636          INLAND  \n",
       "20637          INLAND  \n",
       "20638          INLAND  \n",
       "20639          INLAND  \n",
       "\n",
       "[20640 rows x 10 columns]"
      ]
     },
     "execution_count": 46,
     "metadata": {},
     "output_type": "execute_result"
    }
   ],
   "source": [
    "housing = pd.read_csv(data_url+\"california_housing.csv\")\n",
    "housing"
   ]
  },
  {
   "cell_type": "markdown",
   "metadata": {},
   "source": [
    "가구중위소득과 주택중위가격만 활용한다."
   ]
  },
  {
   "cell_type": "code",
   "execution_count": 47,
   "metadata": {},
   "outputs": [
    {
     "data": {
      "text/html": [
       "<div>\n",
       "<style scoped>\n",
       "    .dataframe tbody tr th:only-of-type {\n",
       "        vertical-align: middle;\n",
       "    }\n",
       "\n",
       "    .dataframe tbody tr th {\n",
       "        vertical-align: top;\n",
       "    }\n",
       "\n",
       "    .dataframe thead th {\n",
       "        text-align: right;\n",
       "    }\n",
       "</style>\n",
       "<table border=\"1\" class=\"dataframe\">\n",
       "  <thead>\n",
       "    <tr style=\"text-align: right;\">\n",
       "      <th></th>\n",
       "      <th>median_income</th>\n",
       "      <th>median_house_value</th>\n",
       "    </tr>\n",
       "  </thead>\n",
       "  <tbody>\n",
       "    <tr>\n",
       "      <th>0</th>\n",
       "      <td>8.3252</td>\n",
       "      <td>452600.0</td>\n",
       "    </tr>\n",
       "    <tr>\n",
       "      <th>1</th>\n",
       "      <td>8.3014</td>\n",
       "      <td>358500.0</td>\n",
       "    </tr>\n",
       "    <tr>\n",
       "      <th>2</th>\n",
       "      <td>7.2574</td>\n",
       "      <td>352100.0</td>\n",
       "    </tr>\n",
       "    <tr>\n",
       "      <th>3</th>\n",
       "      <td>5.6431</td>\n",
       "      <td>341300.0</td>\n",
       "    </tr>\n",
       "    <tr>\n",
       "      <th>4</th>\n",
       "      <td>3.8462</td>\n",
       "      <td>342200.0</td>\n",
       "    </tr>\n",
       "    <tr>\n",
       "      <th>...</th>\n",
       "      <td>...</td>\n",
       "      <td>...</td>\n",
       "    </tr>\n",
       "    <tr>\n",
       "      <th>20635</th>\n",
       "      <td>1.5603</td>\n",
       "      <td>78100.0</td>\n",
       "    </tr>\n",
       "    <tr>\n",
       "      <th>20636</th>\n",
       "      <td>2.5568</td>\n",
       "      <td>77100.0</td>\n",
       "    </tr>\n",
       "    <tr>\n",
       "      <th>20637</th>\n",
       "      <td>1.7000</td>\n",
       "      <td>92300.0</td>\n",
       "    </tr>\n",
       "    <tr>\n",
       "      <th>20638</th>\n",
       "      <td>1.8672</td>\n",
       "      <td>84700.0</td>\n",
       "    </tr>\n",
       "    <tr>\n",
       "      <th>20639</th>\n",
       "      <td>2.3886</td>\n",
       "      <td>89400.0</td>\n",
       "    </tr>\n",
       "  </tbody>\n",
       "</table>\n",
       "<p>20640 rows × 2 columns</p>\n",
       "</div>"
      ],
      "text/plain": [
       "       median_income  median_house_value\n",
       "0             8.3252            452600.0\n",
       "1             8.3014            358500.0\n",
       "2             7.2574            352100.0\n",
       "3             5.6431            341300.0\n",
       "4             3.8462            342200.0\n",
       "...              ...                 ...\n",
       "20635         1.5603             78100.0\n",
       "20636         2.5568             77100.0\n",
       "20637         1.7000             92300.0\n",
       "20638         1.8672             84700.0\n",
       "20639         2.3886             89400.0\n",
       "\n",
       "[20640 rows x 2 columns]"
      ]
     },
     "execution_count": 47,
     "metadata": {},
     "output_type": "execute_result"
    }
   ],
   "source": [
    "housing = housing.loc[:, ['median_income', 'median_house_value']]\n",
    "housing"
   ]
  },
  {
   "cell_type": "markdown",
   "metadata": {},
   "source": [
    "중위주택가격이 50만을 초과하는 경우는 삭제하고 인덱스를 초기화한다."
   ]
  },
  {
   "cell_type": "code",
   "execution_count": 48,
   "metadata": {},
   "outputs": [
    {
     "data": {
      "text/html": [
       "<div>\n",
       "<style scoped>\n",
       "    .dataframe tbody tr th:only-of-type {\n",
       "        vertical-align: middle;\n",
       "    }\n",
       "\n",
       "    .dataframe tbody tr th {\n",
       "        vertical-align: top;\n",
       "    }\n",
       "\n",
       "    .dataframe thead th {\n",
       "        text-align: right;\n",
       "    }\n",
       "</style>\n",
       "<table border=\"1\" class=\"dataframe\">\n",
       "  <thead>\n",
       "    <tr style=\"text-align: right;\">\n",
       "      <th></th>\n",
       "      <th>median_income</th>\n",
       "      <th>median_house_value</th>\n",
       "    </tr>\n",
       "    <tr>\n",
       "      <th>district</th>\n",
       "      <th></th>\n",
       "      <th></th>\n",
       "    </tr>\n",
       "  </thead>\n",
       "  <tbody>\n",
       "    <tr>\n",
       "      <th>0</th>\n",
       "      <td>8.3252</td>\n",
       "      <td>452600.0</td>\n",
       "    </tr>\n",
       "    <tr>\n",
       "      <th>1</th>\n",
       "      <td>8.3014</td>\n",
       "      <td>358500.0</td>\n",
       "    </tr>\n",
       "    <tr>\n",
       "      <th>2</th>\n",
       "      <td>7.2574</td>\n",
       "      <td>352100.0</td>\n",
       "    </tr>\n",
       "    <tr>\n",
       "      <th>3</th>\n",
       "      <td>5.6431</td>\n",
       "      <td>341300.0</td>\n",
       "    </tr>\n",
       "    <tr>\n",
       "      <th>4</th>\n",
       "      <td>3.8462</td>\n",
       "      <td>342200.0</td>\n",
       "    </tr>\n",
       "    <tr>\n",
       "      <th>...</th>\n",
       "      <td>...</td>\n",
       "      <td>...</td>\n",
       "    </tr>\n",
       "    <tr>\n",
       "      <th>19670</th>\n",
       "      <td>1.5603</td>\n",
       "      <td>78100.0</td>\n",
       "    </tr>\n",
       "    <tr>\n",
       "      <th>19671</th>\n",
       "      <td>2.5568</td>\n",
       "      <td>77100.0</td>\n",
       "    </tr>\n",
       "    <tr>\n",
       "      <th>19672</th>\n",
       "      <td>1.7000</td>\n",
       "      <td>92300.0</td>\n",
       "    </tr>\n",
       "    <tr>\n",
       "      <th>19673</th>\n",
       "      <td>1.8672</td>\n",
       "      <td>84700.0</td>\n",
       "    </tr>\n",
       "    <tr>\n",
       "      <th>19674</th>\n",
       "      <td>2.3886</td>\n",
       "      <td>89400.0</td>\n",
       "    </tr>\n",
       "  </tbody>\n",
       "</table>\n",
       "<p>19675 rows × 2 columns</p>\n",
       "</div>"
      ],
      "text/plain": [
       "          median_income  median_house_value\n",
       "district                                   \n",
       "0                8.3252            452600.0\n",
       "1                8.3014            358500.0\n",
       "2                7.2574            352100.0\n",
       "3                5.6431            341300.0\n",
       "4                3.8462            342200.0\n",
       "...                 ...                 ...\n",
       "19670            1.5603             78100.0\n",
       "19671            2.5568             77100.0\n",
       "19672            1.7000             92300.0\n",
       "19673            1.8672             84700.0\n",
       "19674            2.3886             89400.0\n",
       "\n",
       "[19675 rows x 2 columns]"
      ]
     },
     "execution_count": 48,
     "metadata": {},
     "output_type": "execute_result"
    }
   ],
   "source": [
    "house_value_max = housing['median_house_value'].max() # 500,001\n",
    "mask = housing['median_house_value'] >= house_value_max\n",
    "housing = housing[~mask]\n",
    "housing = housing.reset_index(drop=True)\n",
    "housing.index.name = 'district'\n",
    "housing"
   ]
  },
  {
   "cell_type": "markdown",
   "metadata": {},
   "source": [
    "**10% 표본추출**"
   ]
  },
  {
   "cell_type": "markdown",
   "metadata": {},
   "source": [
    "전체 데이터셋의 10%를 표본으로 추출한다.\n",
    "총 인덱스에서 무작위로 10%의 인덱스를 선택한다."
   ]
  },
  {
   "cell_type": "code",
   "execution_count": 49,
   "metadata": {},
   "outputs": [],
   "source": [
    "np.random.seed(17)\n",
    "total_number = housing.shape[0]\n",
    "percent = 0.1\n",
    "sample_size = int(total_number * percent)\n",
    "random_indices = np.random.choice(total_number, sample_size)"
   ]
  },
  {
   "cell_type": "markdown",
   "metadata": {},
   "source": [
    "추출된 인덱스를 갖는 샘플만 선택하여 표본으로 지정한다."
   ]
  },
  {
   "cell_type": "code",
   "execution_count": 50,
   "metadata": {},
   "outputs": [
    {
     "data": {
      "text/html": [
       "<div>\n",
       "<style scoped>\n",
       "    .dataframe tbody tr th:only-of-type {\n",
       "        vertical-align: middle;\n",
       "    }\n",
       "\n",
       "    .dataframe tbody tr th {\n",
       "        vertical-align: top;\n",
       "    }\n",
       "\n",
       "    .dataframe thead th {\n",
       "        text-align: right;\n",
       "    }\n",
       "</style>\n",
       "<table border=\"1\" class=\"dataframe\">\n",
       "  <thead>\n",
       "    <tr style=\"text-align: right;\">\n",
       "      <th></th>\n",
       "      <th>median_income</th>\n",
       "      <th>median_house_value</th>\n",
       "    </tr>\n",
       "    <tr>\n",
       "      <th>district</th>\n",
       "      <th></th>\n",
       "      <th></th>\n",
       "    </tr>\n",
       "  </thead>\n",
       "  <tbody>\n",
       "    <tr>\n",
       "      <th>10863</th>\n",
       "      <td>6.1572</td>\n",
       "      <td>344000.0</td>\n",
       "    </tr>\n",
       "    <tr>\n",
       "      <th>2191</th>\n",
       "      <td>7.4201</td>\n",
       "      <td>229700.0</td>\n",
       "    </tr>\n",
       "    <tr>\n",
       "      <th>13702</th>\n",
       "      <td>2.4821</td>\n",
       "      <td>140600.0</td>\n",
       "    </tr>\n",
       "    <tr>\n",
       "      <th>406</th>\n",
       "      <td>8.8342</td>\n",
       "      <td>430500.0</td>\n",
       "    </tr>\n",
       "    <tr>\n",
       "      <th>9529</th>\n",
       "      <td>3.7426</td>\n",
       "      <td>162700.0</td>\n",
       "    </tr>\n",
       "    <tr>\n",
       "      <th>...</th>\n",
       "      <td>...</td>\n",
       "      <td>...</td>\n",
       "    </tr>\n",
       "    <tr>\n",
       "      <th>12936</th>\n",
       "      <td>3.2232</td>\n",
       "      <td>88300.0</td>\n",
       "    </tr>\n",
       "    <tr>\n",
       "      <th>6778</th>\n",
       "      <td>3.6458</td>\n",
       "      <td>208100.0</td>\n",
       "    </tr>\n",
       "    <tr>\n",
       "      <th>2969</th>\n",
       "      <td>2.5575</td>\n",
       "      <td>100200.0</td>\n",
       "    </tr>\n",
       "    <tr>\n",
       "      <th>11636</th>\n",
       "      <td>3.1591</td>\n",
       "      <td>189700.0</td>\n",
       "    </tr>\n",
       "    <tr>\n",
       "      <th>4002</th>\n",
       "      <td>3.4150</td>\n",
       "      <td>382500.0</td>\n",
       "    </tr>\n",
       "  </tbody>\n",
       "</table>\n",
       "<p>1967 rows × 2 columns</p>\n",
       "</div>"
      ],
      "text/plain": [
       "          median_income  median_house_value\n",
       "district                                   \n",
       "10863            6.1572            344000.0\n",
       "2191             7.4201            229700.0\n",
       "13702            2.4821            140600.0\n",
       "406              8.8342            430500.0\n",
       "9529             3.7426            162700.0\n",
       "...                 ...                 ...\n",
       "12936            3.2232             88300.0\n",
       "6778             3.6458            208100.0\n",
       "2969             2.5575            100200.0\n",
       "11636            3.1591            189700.0\n",
       "4002             3.4150            382500.0\n",
       "\n",
       "[1967 rows x 2 columns]"
      ]
     },
     "execution_count": 50,
     "metadata": {},
     "output_type": "execute_result"
    }
   ],
   "source": [
    "sampling = housing.iloc[random_indices]\n",
    "sampling"
   ]
  },
  {
   "cell_type": "markdown",
   "metadata": {},
   "source": [
    "선택된 표본의 평균값은 다음과 같다."
   ]
  },
  {
   "cell_type": "code",
   "execution_count": 51,
   "metadata": {},
   "outputs": [
    {
     "data": {
      "text/plain": [
       "median_income              3.670131\n",
       "median_house_value    192042.297407\n",
       "dtype: float64"
      ]
     },
     "execution_count": 51,
     "metadata": {},
     "output_type": "execute_result"
    }
   ],
   "source": [
    "sampling.mean()"
   ]
  },
  {
   "cell_type": "markdown",
   "metadata": {},
   "source": [
    "모평균과 매우 유사하다."
   ]
  },
  {
   "cell_type": "code",
   "execution_count": 52,
   "metadata": {},
   "outputs": [
    {
     "data": {
      "text/plain": [
       "median_income              3.676717\n",
       "median_house_value    192477.921017\n",
       "dtype: float64"
      ]
     },
     "execution_count": 52,
     "metadata": {},
     "output_type": "execute_result"
    }
   ],
   "source": [
    "housing.mean()"
   ]
  },
  {
   "cell_type": "markdown",
   "metadata": {},
   "source": [
    "**표본추출 반복**"
   ]
  },
  {
   "cell_type": "markdown",
   "metadata": {},
   "source": [
    "아래 코드의 `X_income10p`와 `X_value10p`는 각각 \n",
    "캘리포니아 데이터셋에서 무작위로 10%의 샘플을 선택하는 과정을\n",
    "1만번 반복할 때마다 계산된 중위소득 평균값과 중위주택가격의 평균값을 포함한다."
   ]
  },
  {
   "cell_type": "code",
   "execution_count": 53,
   "metadata": {},
   "outputs": [],
   "source": [
    "np.random.seed(17)\n",
    "sampling_count = 10000\n",
    "\n",
    "X_income10p = np.zeros(sampling_count)\n",
    "X_value10p = np.zeros(sampling_count)\n",
    "\n",
    "total_number = housing.shape[0]\n",
    "percent = 0.1\n",
    "sample_size = int(total_number * percent)\n",
    "\n",
    "for i in range(sampling_count):\n",
    "    random_indices = np.random.choice(total_number, sample_size)\n",
    "    sampling = housing.iloc[random_indices]\n",
    "    X_income10p[i] = sampling['median_income'].mean()\n",
    "    X_value10p[i] = sampling['median_house_value'].mean()    "
   ]
  },
  {
   "cell_type": "markdown",
   "metadata": {},
   "source": [
    "두 리스트를 모아 데이터프레임을 생성한다."
   ]
  },
  {
   "cell_type": "code",
   "execution_count": 54,
   "metadata": {},
   "outputs": [
    {
     "data": {
      "text/html": [
       "<div>\n",
       "<style scoped>\n",
       "    .dataframe tbody tr th:only-of-type {\n",
       "        vertical-align: middle;\n",
       "    }\n",
       "\n",
       "    .dataframe tbody tr th {\n",
       "        vertical-align: top;\n",
       "    }\n",
       "\n",
       "    .dataframe thead th {\n",
       "        text-align: right;\n",
       "    }\n",
       "</style>\n",
       "<table border=\"1\" class=\"dataframe\">\n",
       "  <thead>\n",
       "    <tr style=\"text-align: right;\">\n",
       "      <th></th>\n",
       "      <th>중위소득 표본평균</th>\n",
       "      <th>중위주택가격 표본평균</th>\n",
       "    </tr>\n",
       "  </thead>\n",
       "  <tbody>\n",
       "    <tr>\n",
       "      <th>0</th>\n",
       "      <td>3.670131</td>\n",
       "      <td>192042.297407</td>\n",
       "    </tr>\n",
       "    <tr>\n",
       "      <th>1</th>\n",
       "      <td>3.657893</td>\n",
       "      <td>193126.792069</td>\n",
       "    </tr>\n",
       "    <tr>\n",
       "      <th>2</th>\n",
       "      <td>3.714175</td>\n",
       "      <td>194317.691917</td>\n",
       "    </tr>\n",
       "    <tr>\n",
       "      <th>3</th>\n",
       "      <td>3.644522</td>\n",
       "      <td>192156.532791</td>\n",
       "    </tr>\n",
       "    <tr>\n",
       "      <th>4</th>\n",
       "      <td>3.612762</td>\n",
       "      <td>190589.781393</td>\n",
       "    </tr>\n",
       "    <tr>\n",
       "      <th>...</th>\n",
       "      <td>...</td>\n",
       "      <td>...</td>\n",
       "    </tr>\n",
       "    <tr>\n",
       "      <th>9995</th>\n",
       "      <td>3.653294</td>\n",
       "      <td>192425.470259</td>\n",
       "    </tr>\n",
       "    <tr>\n",
       "      <th>9996</th>\n",
       "      <td>3.657381</td>\n",
       "      <td>190748.906965</td>\n",
       "    </tr>\n",
       "    <tr>\n",
       "      <th>9997</th>\n",
       "      <td>3.662978</td>\n",
       "      <td>192748.601423</td>\n",
       "    </tr>\n",
       "    <tr>\n",
       "      <th>9998</th>\n",
       "      <td>3.671054</td>\n",
       "      <td>192748.296390</td>\n",
       "    </tr>\n",
       "    <tr>\n",
       "      <th>9999</th>\n",
       "      <td>3.681082</td>\n",
       "      <td>192780.071174</td>\n",
       "    </tr>\n",
       "  </tbody>\n",
       "</table>\n",
       "<p>10000 rows × 2 columns</p>\n",
       "</div>"
      ],
      "text/plain": [
       "      중위소득 표본평균    중위주택가격 표본평균\n",
       "0      3.670131  192042.297407\n",
       "1      3.657893  193126.792069\n",
       "2      3.714175  194317.691917\n",
       "3      3.644522  192156.532791\n",
       "4      3.612762  190589.781393\n",
       "...         ...            ...\n",
       "9995   3.653294  192425.470259\n",
       "9996   3.657381  190748.906965\n",
       "9997   3.662978  192748.601423\n",
       "9998   3.671054  192748.296390\n",
       "9999   3.681082  192780.071174\n",
       "\n",
       "[10000 rows x 2 columns]"
      ]
     },
     "execution_count": 54,
     "metadata": {},
     "output_type": "execute_result"
    }
   ],
   "source": [
    "X_10p = pd.DataFrame({'중위소득 표본평균':X_income10p, '중위주택가격 표본평균':X_value10p})\n",
    "X_10p"
   ]
  },
  {
   "cell_type": "markdown",
   "metadata": {},
   "source": [
    "모아진 표본평균 자체로 새로운 분포를 가지며 두 특성의 표본평균의 평균값과 다음과 같다."
   ]
  },
  {
   "cell_type": "code",
   "execution_count": 55,
   "metadata": {},
   "outputs": [
    {
     "data": {
      "text/plain": [
       "중위소득 표본평균           3.676474\n",
       "중위주택가격 표본평균    192458.915808\n",
       "dtype: float64"
      ]
     },
     "execution_count": 55,
     "metadata": {},
     "output_type": "execute_result"
    }
   ],
   "source": [
    "X_10p.mean()"
   ]
  },
  {
   "cell_type": "markdown",
   "metadata": {},
   "source": [
    "두 특성 모두 모평균과 매우 유사하다."
   ]
  },
  {
   "cell_type": "code",
   "execution_count": 56,
   "metadata": {},
   "outputs": [
    {
     "data": {
      "text/plain": [
       "median_income              3.676717\n",
       "median_house_value    192477.921017\n",
       "dtype: float64"
      ]
     },
     "execution_count": 56,
     "metadata": {},
     "output_type": "execute_result"
    }
   ],
   "source": [
    "housing.mean()"
   ]
  },
  {
   "cell_type": "markdown",
   "metadata": {},
   "source": [
    "반면에 표본평균의 분산은 모분산을 표본의 크기인 `sample_size10`로 나눈 값과 유사하다."
   ]
  },
  {
   "cell_type": "code",
   "execution_count": 57,
   "metadata": {},
   "outputs": [
    {
     "data": {
      "text/plain": [
       "중위소득 표본평균      1.239007e-03\n",
       "중위주택가격 표본평균    4.815000e+06\n",
       "dtype: float64"
      ]
     },
     "execution_count": 57,
     "metadata": {},
     "output_type": "execute_result"
    }
   ],
   "source": [
    "X_10p.var(ddof=0)"
   ]
  },
  {
   "cell_type": "code",
   "execution_count": 58,
   "metadata": {},
   "outputs": [
    {
     "data": {
      "text/plain": [
       "median_income         1.253496e-03\n",
       "median_house_value    4.853612e+06\n",
       "dtype: float64"
      ]
     },
     "execution_count": 58,
     "metadata": {},
     "output_type": "execute_result"
    }
   ],
   "source": [
    "housing.var(ddof=0) / sample_size"
   ]
  },
  {
   "cell_type": "markdown",
   "metadata": {},
   "source": [
    "아래 코드는 중위소득 표본평균의 분포가 \n",
    "전체 데이터셋의 중위소득의 평균값을 평균값으로, 모분산을 샘플크기로 나눈 값을 분산으로 갖는 정규분포를 따름을 그래프로 보인다."
   ]
  },
  {
   "cell_type": "code",
   "execution_count": 71,
   "metadata": {},
   "outputs": [
    {
     "data": {
      "image/png": "[encoded data removed]",
      "text/plain": [
       "<Figure size 640x480 with 1 Axes>"
      ]
     },
     "metadata": {},
     "output_type": "display_data"
    }
   ],
   "source": [
    "from scipy.stats import norm\n",
    "\n",
    "fig, ax = plt.subplots()\n",
    "\n",
    "# 구간별 밀도 히스토그램\n",
    "ax.hist(X_10p['중위소득 표본평균'], bins=50, density=True, label='Sample means')\n",
    "\n",
    "# 모평균을 평균값으로 ,모분산을 샘플크기로 나눈 값을 분산으로 갖는 정규분포 그래프\n",
    "mu_income = housing.mean().iloc[0]\n",
    "sigma_income = np.sqrt((housing.var().iloc[0]) / sample_size)\n",
    "\n",
    "X10_normal = norm(loc=mu_income, scale=sigma_income)\n",
    "x = np.linspace(3.55, 3.80, 100)\n",
    "ax.plot(x, X10_normal.pdf(x), label=r'$N(\\mu_{income}, \\sigma_{income})$')\n",
    "\n",
    "ax.set_xlabel('Median income sample mean')\n",
    "ax.set_ylabel('Density')\n",
    "\n",
    "ax.legend()\n",
    "\n",
    "plt.show()"
   ]
  },
  {
   "cell_type": "markdown",
   "metadata": {},
   "source": [
    "아래 코드는 중위주택가격 표본평균의 분포가 \n",
    "전체 데이터셋의 중위주택가격의 평균값을 평균값으로, \n",
    "모분산을 샘플크기로 나눈 값을 분산으로 갖는 정규분포를 따름을 그래프로 보인다."
   ]
  },
  {
   "cell_type": "code",
   "execution_count": 72,
   "metadata": {},
   "outputs": [
    {
     "data": {
      "image/png": "[encoded data removed]",
      "text/plain": [
       "<Figure size 640x480 with 1 Axes>"
      ]
     },
     "metadata": {},
     "output_type": "display_data"
    }
   ],
   "source": [
    "from scipy.stats import norm\n",
    "\n",
    "fig, ax = plt.subplots()\n",
    "\n",
    "# 구간별 밀도 히스토그램\n",
    "ax.hist(X_10p['중위주택가격 표본평균'], bins=50, density=True, label='Sample means')\n",
    "\n",
    "# 모평균을 평균값으로 ,모분산을 샘플크기로 나눈 값을 분산으로 갖는 정규분포 그래프\n",
    "mu_value = housing.mean().iloc[1]\n",
    "sigma_value = np.sqrt((housing.var().iloc[1]) / sample_size)\n",
    "\n",
    "Y10_normal = norm(loc=mu_value, scale=sigma_value)\n",
    "y = np.linspace(185000, 200000, 100)\n",
    "ax.plot(y, Y10_normal.pdf(y), label=r'$N(\\mu_{value}, \\sigma_{value})$')\n",
    "\n",
    "ax.set_xlabel('Median house value sample mean')\n",
    "ax.set_ylabel('Density')\n",
    "\n",
    "ax.legend()\n",
    "\n",
    "plt.show()"
   ]
  },
  {
   "cell_type": "markdown",
   "metadata": {},
   "source": [
    "### 큰 수의 법칙"
   ]
  },
  {
   "cell_type": "markdown",
   "metadata": {},
   "source": [
    "확률변수 $X_1, X_2, \\dots, X_n$이 서로 독립이고\n",
    "모두 기댓값이 $\\mu$, 분산이 $\\sigma^2$인 동일한 확률분포를 따른다고 가정하자.\n",
    "그러면 $n$이 증가할 때 표본평균 $\\overline X$는 모평균 $\\mu$에 수렴한다."
   ]
  },
  {
   "cell_type": "markdown",
   "metadata": {},
   "source": [
    "캘리포니아 데이터셋에서 선택한 표본의 크기를 최대 30%까지 키울 때 표본평균의 변화를 살펴본다.\n",
    "아래 코드는 캘리포니아 데이터셋의 30% 정도 크기의 표본을 무작위로 선택한다."
   ]
  },
  {
   "cell_type": "code",
   "execution_count": 60,
   "metadata": {},
   "outputs": [],
   "source": [
    "np.random.seed(1)\n",
    "\n",
    "total_number = housing.shape[0]\n",
    "percent = 0.3\n",
    "sample_size = int(total_number * percent)\n",
    "random_indices = np.random.choice(total_number, sample_size)\n",
    "sampling = housing.iloc[random_indices]"
   ]
  },
  {
   "cell_type": "markdown",
   "metadata": {},
   "source": [
    "아래 코드는 인덱스 `i`가 1부터 1만까지 변할 때 슬라이싱을 이용하여\n",
    "두 특성에 대한 `i`개의 샘플의 평균값을 계산한다.\n",
    "즉, 누적 평균값을 계산하며 계산된 누적 평균값으로 구성된 데이터프레임을 생성한다."
   ]
  },
  {
   "cell_type": "code",
   "execution_count": 61,
   "metadata": {},
   "outputs": [
    {
     "data": {
      "text/html": [
       "<div>\n",
       "<style scoped>\n",
       "    .dataframe tbody tr th:only-of-type {\n",
       "        vertical-align: middle;\n",
       "    }\n",
       "\n",
       "    .dataframe tbody tr th {\n",
       "        vertical-align: top;\n",
       "    }\n",
       "\n",
       "    .dataframe thead th {\n",
       "        text-align: right;\n",
       "    }\n",
       "</style>\n",
       "<table border=\"1\" class=\"dataframe\">\n",
       "  <thead>\n",
       "    <tr style=\"text-align: right;\">\n",
       "      <th></th>\n",
       "      <th>중위소득 표본평균</th>\n",
       "      <th>중위주택가격 표본평균</th>\n",
       "    </tr>\n",
       "  </thead>\n",
       "  <tbody>\n",
       "    <tr>\n",
       "      <th>0</th>\n",
       "      <td>2.666700</td>\n",
       "      <td>122000.000000</td>\n",
       "    </tr>\n",
       "    <tr>\n",
       "      <th>1</th>\n",
       "      <td>2.242150</td>\n",
       "      <td>141450.000000</td>\n",
       "    </tr>\n",
       "    <tr>\n",
       "      <th>2</th>\n",
       "      <td>2.835800</td>\n",
       "      <td>212266.666667</td>\n",
       "    </tr>\n",
       "    <tr>\n",
       "      <th>3</th>\n",
       "      <td>3.749675</td>\n",
       "      <td>262175.000000</td>\n",
       "    </tr>\n",
       "    <tr>\n",
       "      <th>4</th>\n",
       "      <td>3.584740</td>\n",
       "      <td>244940.000000</td>\n",
       "    </tr>\n",
       "    <tr>\n",
       "      <th>...</th>\n",
       "      <td>...</td>\n",
       "      <td>...</td>\n",
       "    </tr>\n",
       "    <tr>\n",
       "      <th>5897</th>\n",
       "      <td>3.678435</td>\n",
       "      <td>191343.048321</td>\n",
       "    </tr>\n",
       "    <tr>\n",
       "      <th>5898</th>\n",
       "      <td>3.678052</td>\n",
       "      <td>191342.752839</td>\n",
       "    </tr>\n",
       "    <tr>\n",
       "      <th>5899</th>\n",
       "      <td>3.677689</td>\n",
       "      <td>191319.898136</td>\n",
       "    </tr>\n",
       "    <tr>\n",
       "      <th>5900</th>\n",
       "      <td>3.677514</td>\n",
       "      <td>191316.031012</td>\n",
       "    </tr>\n",
       "    <tr>\n",
       "      <th>5901</th>\n",
       "      <td>3.677627</td>\n",
       "      <td>191329.599966</td>\n",
       "    </tr>\n",
       "  </tbody>\n",
       "</table>\n",
       "<p>5902 rows × 2 columns</p>\n",
       "</div>"
      ],
      "text/plain": [
       "      중위소득 표본평균    중위주택가격 표본평균\n",
       "0      2.666700  122000.000000\n",
       "1      2.242150  141450.000000\n",
       "2      2.835800  212266.666667\n",
       "3      3.749675  262175.000000\n",
       "4      3.584740  244940.000000\n",
       "...         ...            ...\n",
       "5897   3.678435  191343.048321\n",
       "5898   3.678052  191342.752839\n",
       "5899   3.677689  191319.898136\n",
       "5900   3.677514  191316.031012\n",
       "5901   3.677627  191329.599966\n",
       "\n",
       "[5902 rows x 2 columns]"
      ]
     },
     "execution_count": 61,
     "metadata": {},
     "output_type": "execute_result"
    }
   ],
   "source": [
    "income_means = np.zeros(sample_size)\n",
    "value_means = np.zeros(sample_size)\n",
    "\n",
    "for i in range(sample_size):\n",
    "    sampling_i = sampling.iloc[:i+1]\n",
    "    income_means[i] = sampling_i.mean().iloc[0]\n",
    "    value_means[i] = sampling_i.mean().iloc[1]    \n",
    "\n",
    "sample_means = pd.DataFrame({'중위소득 표본평균':income_means, '중위주택가격 표본평균':value_means})\n",
    "sample_means"
   ]
  },
  {
   "cell_type": "markdown",
   "metadata": {},
   "source": [
    "아래 코드는 중위소득 표본평균의 누적 평균이 표본의 크기가 커짐에 따라 중위소득 모평균에 수렴함을 보여준다."
   ]
  },
  {
   "cell_type": "code",
   "execution_count": 62,
   "metadata": {},
   "outputs": [
    {
     "data": {
      "image/png": "[encoded data removed]",
      "text/plain": [
       "<Figure size 600x400 with 1 Axes>"
      ]
     },
     "metadata": {},
     "output_type": "display_data"
    }
   ],
   "source": [
    "fig = plt.figure(figsize=(6,4 ))\n",
    "ax = fig.add_subplot(111)\n",
    "\n",
    "sample_means['중위소득 표본평균'].plot()\n",
    "\n",
    "# 표본평균의 평균값\n",
    "mu_population = housing.mean().iloc[0]\n",
    "ax.hlines(mu_population, 0, sample_size, color='red')\n",
    "\n",
    "ax.set_xlabel('Sample size')\n",
    "ax.set_ylabel('Sample mean')\n",
    "\n",
    "plt.show()"
   ]
  },
  {
   "cell_type": "markdown",
   "metadata": {},
   "source": [
    "반면에 아래 코드는 중위주택가격 표본평균의 누적 평균이 표본의 크기가 커짐에 따라 중위주택가격 모평균에 수렴함을 보여준다."
   ]
  },
  {
   "cell_type": "code",
   "execution_count": 63,
   "metadata": {},
   "outputs": [
    {
     "data": {
      "image/png": "[encoded data removed]",
      "text/plain": [
       "<Figure size 600x400 with 1 Axes>"
      ]
     },
     "metadata": {},
     "output_type": "display_data"
    }
   ],
   "source": [
    "fig = plt.figure(figsize=(6,4 ))\n",
    "ax = fig.add_subplot(111)\n",
    "\n",
    "sample_means['중위주택가격 표본평균'].plot(color='tab:green')\n",
    "\n",
    "# 표본평균의 평균값\n",
    "mu_population = housing.mean().iloc[1]\n",
    "ax.hlines(mu_population, 0, sample_size, color='red')\n",
    "\n",
    "ax.set_xlabel('Sample size')\n",
    "ax.set_ylabel('Sample mean')\n",
    "\n",
    "plt.show()"
   ]
  },
  {
   "cell_type": "markdown",
   "metadata": {},
   "source": [
    "## 연습문제"
   ]
  },
  {
   "cell_type": "markdown",
   "metadata": {},
   "source": [
    "참고: [(연습) 표본 분포](https://colab.research.google.com/github/codingalzi/DataSci/blob/master/practices/practice-sampling_distribution.ipynb)"
   ]
  }
 ],
 "metadata": {
  "kernelspec": {
   "display_name": "Python 3 (ipykernel)",
   "language": "python",
   "name": "python3"
  },
  "language_info": {
   "codemirror_mode": {
    "name": "ipython",
    "version": 3
   },
   "file_extension": ".py",
   "mimetype": "text/x-python",
   "name": "python",
   "nbconvert_exporter": "python",
   "pygments_lexer": "ipython3",
   "version": "3.12.2"
  },
  "toc": {
   "nav_menu": {},
   "number_sections": true,
   "sideBar": true,
   "skip_h1_title": false,
   "toc_cell": false,
   "toc_position": {},
   "toc_section_display": "block",
   "toc_window_display": false
  }
 },
 "nbformat": 4,
 "nbformat_minor": 2
}
