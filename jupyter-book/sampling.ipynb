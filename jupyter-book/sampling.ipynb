{
 "cells": [
  {
   "cell_type": "markdown",
   "metadata": {
    "ExecuteTime": {
     "end_time": "2018-03-06T03:37:40.696920Z",
     "start_time": "2018-03-06T03:37:40.690655Z"
    },
    "id": "SgfDh2bKFKX-"
   },
   "source": [
    "(ch:smapling)=\n",
    "# 모집단과 표본"
   ]
  },
  {
   "cell_type": "markdown",
   "metadata": {
    "id": "tf-vjCwNFKX_"
   },
   "source": [
    "**기본 설정**"
   ]
  },
  {
   "cell_type": "markdown",
   "metadata": {
    "ExecuteTime": {
     "end_time": "2018-08-03T08:26:15.690793Z",
     "start_time": "2018-08-03T08:26:15.507201Z"
    },
    "id": "tDJ6fF2tFKYA"
   },
   "source": [
    "`numpy`와 `pandas` 라이브러리를 각각 `np`와 `pd`로 불러온다."
   ]
  },
  {
   "cell_type": "code",
   "execution_count": 1,
   "metadata": {
    "ExecuteTime": {
     "end_time": "2018-08-14T06:43:30.149227Z",
     "start_time": "2018-08-14T06:43:29.960007Z"
    },
    "executionInfo": {
     "elapsed": 17,
     "status": "ok",
     "timestamp": 1752584643912,
     "user": {
      "displayName": "ter wa",
      "userId": "01448980402448893441"
     },
     "user_tz": -540
    },
    "id": "c_HQt6xgFKYA"
   },
   "outputs": [],
   "source": [
    "import numpy as np\n",
    "import pandas as pd"
   ]
  },
  {
   "cell_type": "markdown",
   "metadata": {
    "id": "SzlHRmcsFKYA"
   },
   "source": [
    "데이터프레임의 [chained indexing을 금지시키기 위한 설정](https://pandas.pydata.org/pandas-docs/stable/user_guide/indexing.html#returning-a-view-versus-a-copy)을 지정한다.\n",
    "Pandas 3.0 버전부터는 기본 옵션으로 지정된다."
   ]
  },
  {
   "cell_type": "code",
   "execution_count": 2,
   "metadata": {
    "executionInfo": {
     "elapsed": 1,
     "status": "ok",
     "timestamp": 1752584643915,
     "user": {
      "displayName": "ter wa",
      "userId": "01448980402448893441"
     },
     "user_tz": -540
    },
    "id": "QEKqBEo_FKYB"
   },
   "outputs": [],
   "source": [
    "pd.options.mode.copy_on_write = True"
   ]
  },
  {
   "cell_type": "markdown",
   "metadata": {
    "ExecuteTime": {
     "end_time": "2018-08-14T06:43:30.149227Z",
     "start_time": "2018-08-14T06:43:29.960007Z"
    },
    "id": "TT1iChR2FKYB"
   },
   "source": [
    "주피터 노트북에서 부동소수점의 출력을 소수점 이하 6자리로 제한한다.\n",
    "아래 코드는 주피터 노트북에서만 사용하며 일반적인 파이썬 코드가 아니다."
   ]
  },
  {
   "cell_type": "code",
   "execution_count": 3,
   "metadata": {
    "ExecuteTime": {
     "end_time": "2018-08-14T06:43:30.149227Z",
     "start_time": "2018-08-14T06:43:29.960007Z"
    },
    "colab": {
     "base_uri": "https://localhost:8080/",
     "height": 35
    },
    "executionInfo": {
     "elapsed": 5,
     "status": "ok",
     "timestamp": 1752584643921,
     "user": {
      "displayName": "ter wa",
      "userId": "01448980402448893441"
     },
     "user_tz": -540
    },
    "id": "X5Ne95S8FKYB",
    "outputId": "cc0e8a14-55e1-46ca-da60-95c212c8d45c"
   },
   "outputs": [
    {
     "data": {
      "text/plain": [
       "'%.6f'"
      ]
     },
     "execution_count": 3,
     "metadata": {},
     "output_type": "execute_result"
    }
   ],
   "source": [
    "%precision 6"
   ]
  },
  {
   "cell_type": "markdown",
   "metadata": {
    "ExecuteTime": {
     "end_time": "2018-08-14T06:43:30.149227Z",
     "start_time": "2018-08-14T06:43:29.960007Z"
    },
    "id": "D_CsX-ajFKYC"
   },
   "source": [
    "아래 코드는 데이터프레임 내에서 부동소수점의 출력을 소수점 이하 6자리로 제한한다."
   ]
  },
  {
   "cell_type": "code",
   "execution_count": 4,
   "metadata": {
    "ExecuteTime": {
     "end_time": "2018-08-14T06:43:30.149227Z",
     "start_time": "2018-08-14T06:43:29.960007Z"
    },
    "executionInfo": {
     "elapsed": 3,
     "status": "ok",
     "timestamp": 1752584643922,
     "user": {
      "displayName": "ter wa",
      "userId": "01448980402448893441"
     },
     "user_tz": -540
    },
    "id": "gS-cUyGmFKYC"
   },
   "outputs": [],
   "source": [
    "pd.set_option('display.precision', 6)"
   ]
  },
  {
   "cell_type": "markdown",
   "metadata": {
    "id": "Y9_tM67iFKYC"
   },
   "source": [
    "코드에 사용되는 [데이터 저장소의 기본 디렉토리](https://github.com/codingalzi/statsRev/tree/master/data)를 지정한다."
   ]
  },
  {
   "cell_type": "code",
   "execution_count": 5,
   "metadata": {
    "executionInfo": {
     "elapsed": 3,
     "status": "ok",
     "timestamp": 1752584643926,
     "user": {
      "displayName": "ter wa",
      "userId": "01448980402448893441"
     },
     "user_tz": -540
    },
    "id": "ByQER6PXFKYD"
   },
   "outputs": [],
   "source": [
    "data_url = 'https://raw.githubusercontent.com/codingalzi/statsRev/refs/heads/master/data/'"
   ]
  },
  {
   "cell_type": "markdown",
   "metadata": {
    "id": "aHbtViKpFKYC"
   },
   "source": [
    "데이터 시각화를 위해 `matplotlib.pyplot`를 `plt`라는 별칭으로 불러온다."
   ]
  },
  {
   "cell_type": "code",
   "execution_count": 6,
   "metadata": {
    "executionInfo": {
     "elapsed": 6,
     "status": "ok",
     "timestamp": 1752584643930,
     "user": {
      "displayName": "ter wa",
      "userId": "01448980402448893441"
     },
     "user_tz": -540
    },
    "id": "OJqa-Ey_FKYC"
   },
   "outputs": [],
   "source": [
    "import matplotlib.pyplot as plt"
   ]
  },
  {
   "cell_type": "markdown",
   "metadata": {
    "id": "BFNZ0LbGFKYD"
   },
   "source": [
    "**주요 내용**"
   ]
  },
  {
   "cell_type": "markdown",
   "metadata": {
    "id": "q6PByg2cFKYD"
   },
   "source": [
    "이 장에서는 모집단과 표본, 무작위 추출과 층화표집의 차이 등 추측통계의 기본 개념을 설명하고, 표본추출의 구체적인 과정들을 살펴본다."
   ]
  },
  {
   "cell_type": "markdown",
   "metadata": {
    "id": "MRNG-z2fFKYD"
   },
   "source": [
    "## 모집단"
   ]
  },
  {
   "cell_type": "markdown",
   "metadata": {
    "id": "HeO8jm42FKYD"
   },
   "source": [
    "모집단<font size='2'>population</font>은 통계적 성질을 알고자 하는 관측 대상들의 집단 전체를 가리킨다.\n",
    "반면에 표본<font size='2'>sample</font>은 관측 대상 중에 실제로 측정된 또는 관찰된 결과들의 집합이다.\n",
    "표본추출<font size='2'>sampling</font>은 모집단에서 표본을 선택하는 과정이다.\n",
    "\n",
    "모집단에 대한 평균값과 분산인 모평균, 모분산 등은 모수<font size='2'>parameter</font>라 부르며, 표본추출을 통해 얻어진 표본의 평균값, 분산 등이 (표본)통계량<font size='2'>statistic</font>이라 부른다.\n",
    "모수를 파악하는 일은 일반적으로 매우 어렵거나 불가능하다. 따라서 표본통계량을 이용하여 모수를 추정하며,\n",
    "이런 의미에서 표본평균, 표본분산 등을 모수에 대한 추정값으로 부른다.\n",
    "이런 과정을 통틀어 추측통계<font size='2'>inferential statistics</font>라 부른다.\n",
    "아래 그림은 추측통계의 주요 개념인 모집단, 표본, (표본)통계량, 모수의 관계를 설명한다."
   ]
  },
  {
   "cell_type": "markdown",
   "metadata": {
    "id": "KuPdsJ25FKYD"
   },
   "source": [
    "<p><div align=\"center\"><img src=\"https://github.com/codingalzi/statsRev/blob/master/jupyter-book/images/sampling.png?raw=true\" style=\"width:500px\"></div></p>"
   ]
  },
  {
   "cell_type": "markdown",
   "metadata": {
    "id": "mWQIM7NGFKYD"
   },
   "source": [
    "### 캘리포니아 주택가격 데이터셋"
   ]
  },
  {
   "cell_type": "markdown",
   "metadata": {
    "id": "1i30pWqnFKYD"
   },
   "source": [
    "이 장부터 다룰 통계 데이터의 모집단은 캘리포니아 주택가격 데이터이다. 1990년도에 시행된 미국 캘리포니아 주의 20,640개 구역별 주택가격 데이터셋은\n",
    "구역별로 경도, 위도, 주택 건물 중위연령, 총 방 수, 총 침실 수, 인구, 가구수, 중위가구소득, 중위주택가격, 해안근접도\n",
    "등 총 10개의 **특성**<font size='2'>feature</font>을 포함하는 인구조사 자료다.\n",
    "통계 분야에서는 특성을 변수 또는 변인 등으로 부르지만 머신러닝 분야에서는 특성이라 부르는 게 일반적이다.\n",
    "또한 지금부터는 편의상 '중위가구소득'을 '가구소득', '중위주택가격'을 '주택가격'으로 부르기로 한다."
   ]
  },
  {
   "cell_type": "markdown",
   "metadata": {
    "id": "U2-NUDdIFKYD"
   },
   "source": [
    "<p><div align=\"center\"><img src=\"https://raw.githubusercontent.com/codingalzi/handson-ml3/master/jupyter-book/imgs/ch02/LA-USA01.png\" width=\"600\"></div></p>"
   ]
  },
  {
   "cell_type": "markdown",
   "metadata": {
    "id": "-Bow9rs4FKYD"
   },
   "source": [
    "**데이터 정보 요약**"
   ]
  },
  {
   "cell_type": "markdown",
   "metadata": {
    "id": "ir6KCRsyFKYD"
   },
   "source": [
    "데이터 기본저장소에서 캘리포니아 주택가격 데이터를 담고 있는 csv 파일을 데이터프레임으로 불러온다.\n",
    "단, 앞으로 설명에 필요한 중위가구소득과 중위주택가격 특성만 포함된 데이터셋을 활용한다."
   ]
  },
  {
   "cell_type": "code",
   "execution_count": 8,
   "metadata": {
    "colab": {
     "base_uri": "https://localhost:8080/",
     "height": 443
    },
    "executionInfo": {
     "elapsed": 481,
     "status": "ok",
     "timestamp": 1752584644412,
     "user": {
      "displayName": "ter wa",
      "userId": "01448980402448893441"
     },
     "user_tz": -540
    },
    "id": "Rsyz8MoSFKYD",
    "outputId": "347e878e-a7ef-44af-c67e-5bc5bcb1d237",
    "scrolled": false
   },
   "outputs": [
    {
     "data": {
      "text/html": [
       "<div>\n",
       "<style scoped>\n",
       "    .dataframe tbody tr th:only-of-type {\n",
       "        vertical-align: middle;\n",
       "    }\n",
       "\n",
       "    .dataframe tbody tr th {\n",
       "        vertical-align: top;\n",
       "    }\n",
       "\n",
       "    .dataframe thead th {\n",
       "        text-align: right;\n",
       "    }\n",
       "</style>\n",
       "<table border=\"1\" class=\"dataframe\">\n",
       "  <thead>\n",
       "    <tr style=\"text-align: right;\">\n",
       "      <th></th>\n",
       "      <th>median_income</th>\n",
       "      <th>median_house_value</th>\n",
       "    </tr>\n",
       "  </thead>\n",
       "  <tbody>\n",
       "    <tr>\n",
       "      <th>0</th>\n",
       "      <td>8.3252</td>\n",
       "      <td>452600.0</td>\n",
       "    </tr>\n",
       "    <tr>\n",
       "      <th>1</th>\n",
       "      <td>8.3014</td>\n",
       "      <td>358500.0</td>\n",
       "    </tr>\n",
       "    <tr>\n",
       "      <th>2</th>\n",
       "      <td>7.2574</td>\n",
       "      <td>352100.0</td>\n",
       "    </tr>\n",
       "    <tr>\n",
       "      <th>3</th>\n",
       "      <td>5.6431</td>\n",
       "      <td>341300.0</td>\n",
       "    </tr>\n",
       "    <tr>\n",
       "      <th>4</th>\n",
       "      <td>3.8462</td>\n",
       "      <td>342200.0</td>\n",
       "    </tr>\n",
       "    <tr>\n",
       "      <th>...</th>\n",
       "      <td>...</td>\n",
       "      <td>...</td>\n",
       "    </tr>\n",
       "    <tr>\n",
       "      <th>20635</th>\n",
       "      <td>1.5603</td>\n",
       "      <td>78100.0</td>\n",
       "    </tr>\n",
       "    <tr>\n",
       "      <th>20636</th>\n",
       "      <td>2.5568</td>\n",
       "      <td>77100.0</td>\n",
       "    </tr>\n",
       "    <tr>\n",
       "      <th>20637</th>\n",
       "      <td>1.7000</td>\n",
       "      <td>92300.0</td>\n",
       "    </tr>\n",
       "    <tr>\n",
       "      <th>20638</th>\n",
       "      <td>1.8672</td>\n",
       "      <td>84700.0</td>\n",
       "    </tr>\n",
       "    <tr>\n",
       "      <th>20639</th>\n",
       "      <td>2.3886</td>\n",
       "      <td>89400.0</td>\n",
       "    </tr>\n",
       "  </tbody>\n",
       "</table>\n",
       "<p>20640 rows × 2 columns</p>\n",
       "</div>"
      ],
      "text/plain": [
       "       median_income  median_house_value\n",
       "0             8.3252            452600.0\n",
       "1             8.3014            358500.0\n",
       "2             7.2574            352100.0\n",
       "3             5.6431            341300.0\n",
       "4             3.8462            342200.0\n",
       "...              ...                 ...\n",
       "20635         1.5603             78100.0\n",
       "20636         2.5568             77100.0\n",
       "20637         1.7000             92300.0\n",
       "20638         1.8672             84700.0\n",
       "20639         2.3886             89400.0\n",
       "\n",
       "[20640 rows x 2 columns]"
      ]
     },
     "execution_count": 8,
     "metadata": {},
     "output_type": "execute_result"
    }
   ],
   "source": [
    "housing = pd.read_csv(data_url+\"california_housing_mini.csv\")\n",
    "housing"
   ]
  },
  {
   "cell_type": "markdown",
   "metadata": {
    "id": "d-5hv6MjFKYD"
   },
   "source": [
    "`info()` 메서드가 보여주는 캘리포니아 주택가격 데이터셋의 두 특성에 대한 정보는 다음과 같다.\n",
    "원래 20,640 개 구역별로 10개의 특성 조사했지만 여기서는 가구소득<font size='2'>`median income`</font>과 주태가격<font size='2'>`median_house_value`</font> 두 특성만 포함되었음을 보여준다."
   ]
  },
  {
   "cell_type": "code",
   "execution_count": 10,
   "metadata": {
    "colab": {
     "base_uri": "https://localhost:8080/"
    },
    "executionInfo": {
     "elapsed": 24,
     "status": "ok",
     "timestamp": 1752584644433,
     "user": {
      "displayName": "ter wa",
      "userId": "01448980402448893441"
     },
     "user_tz": -540
    },
    "id": "vQ0T7V5_FKYE",
    "outputId": "09684390-ec40-42c3-b639-429ac7362198"
   },
   "outputs": [
    {
     "name": "stdout",
     "output_type": "stream",
     "text": [
      "<class 'pandas.core.frame.DataFrame'>\n",
      "RangeIndex: 20640 entries, 0 to 20639\n",
      "Data columns (total 2 columns):\n",
      " #   Column              Non-Null Count  Dtype  \n",
      "---  ------              --------------  -----  \n",
      " 0   median_income       20640 non-null  float64\n",
      " 1   median_house_value  20640 non-null  float64\n",
      "dtypes: float64(2)\n",
      "memory usage: 322.6 KB\n"
     ]
    }
   ],
   "source": [
    "housing.info()"
   ]
  },
  {
   "cell_type": "markdown",
   "metadata": {
    "id": "0DIQn-jOFKYE"
   },
   "source": [
    "**산점도 확인**"
   ]
  },
  {
   "cell_type": "markdown",
   "metadata": {
    "id": "kWOjROUgFKYE"
   },
   "source": [
    "가구소득이 많을수록 비싼 집에 사는 경향이 클 것이므로,\n",
    "주택가격과 가구소득의 산점도를 통해 이러한 경향을 확인해보자.\n",
    "여기서는 `plot()` 함수가 자체적으로 제공하는 산점도 기능을 이용해본다."
   ]
  },
  {
   "cell_type": "code",
   "execution_count": 12,
   "metadata": {
    "colab": {
     "base_uri": "https://localhost:8080/",
     "height": 450
    },
    "executionInfo": {
     "elapsed": 597,
     "status": "ok",
     "timestamp": 1752584645127,
     "user": {
      "displayName": "ter wa",
      "userId": "01448980402448893441"
     },
     "user_tz": -540
    },
    "id": "kQAs4DIpFKYE",
    "outputId": "80bb662e-16f7-4ed4-e8d5-f6bec7c60c69"
   },
   "outputs": [
    {
     "data": {
      "image/png": "[encoded data removed]",
      "text/plain": [
       "<Figure size 640x480 with 1 Axes>"
      ]
     },
     "metadata": {},
     "output_type": "display_data"
    }
   ],
   "source": [
    "housing.plot(x='median_income', y='median_house_value', kind='scatter')\n",
    "plt.show()"
   ]
  },
  {
   "cell_type": "markdown",
   "metadata": {
    "id": "or2STKomFKYE"
   },
   "source": [
    "주택가격 500,000 부근에 직선 형태로 점들이 분포되어 있는데,\n",
    "그 이유를 알아보기 위해 데이터의 수치적 지표들을 확인해본다."
   ]
  },
  {
   "cell_type": "code",
   "execution_count": 13,
   "metadata": {
    "colab": {
     "base_uri": "https://localhost:8080/",
     "height": 300
    },
    "executionInfo": {
     "elapsed": 20,
     "status": "ok",
     "timestamp": 1752584645128,
     "user": {
      "displayName": "ter wa",
      "userId": "01448980402448893441"
     },
     "user_tz": -540
    },
    "id": "kSL5bXK1FKYI",
    "outputId": "978bd45a-f836-4716-d7a5-7bcb300bceed"
   },
   "outputs": [
    {
     "data": {
      "text/html": [
       "<div>\n",
       "<style scoped>\n",
       "    .dataframe tbody tr th:only-of-type {\n",
       "        vertical-align: middle;\n",
       "    }\n",
       "\n",
       "    .dataframe tbody tr th {\n",
       "        vertical-align: top;\n",
       "    }\n",
       "\n",
       "    .dataframe thead th {\n",
       "        text-align: right;\n",
       "    }\n",
       "</style>\n",
       "<table border=\"1\" class=\"dataframe\">\n",
       "  <thead>\n",
       "    <tr style=\"text-align: right;\">\n",
       "      <th></th>\n",
       "      <th>median_income</th>\n",
       "      <th>median_house_value</th>\n",
       "    </tr>\n",
       "  </thead>\n",
       "  <tbody>\n",
       "    <tr>\n",
       "      <th>count</th>\n",
       "      <td>20640.000000</td>\n",
       "      <td>20640.000000</td>\n",
       "    </tr>\n",
       "    <tr>\n",
       "      <th>mean</th>\n",
       "      <td>3.870671</td>\n",
       "      <td>206855.816909</td>\n",
       "    </tr>\n",
       "    <tr>\n",
       "      <th>std</th>\n",
       "      <td>1.899822</td>\n",
       "      <td>115395.615874</td>\n",
       "    </tr>\n",
       "    <tr>\n",
       "      <th>min</th>\n",
       "      <td>0.499900</td>\n",
       "      <td>14999.000000</td>\n",
       "    </tr>\n",
       "    <tr>\n",
       "      <th>25%</th>\n",
       "      <td>2.563400</td>\n",
       "      <td>119600.000000</td>\n",
       "    </tr>\n",
       "    <tr>\n",
       "      <th>50%</th>\n",
       "      <td>3.534800</td>\n",
       "      <td>179700.000000</td>\n",
       "    </tr>\n",
       "    <tr>\n",
       "      <th>75%</th>\n",
       "      <td>4.743250</td>\n",
       "      <td>264725.000000</td>\n",
       "    </tr>\n",
       "    <tr>\n",
       "      <th>max</th>\n",
       "      <td>15.000100</td>\n",
       "      <td>500001.000000</td>\n",
       "    </tr>\n",
       "  </tbody>\n",
       "</table>\n",
       "</div>"
      ],
      "text/plain": [
       "       median_income  median_house_value\n",
       "count   20640.000000        20640.000000\n",
       "mean        3.870671       206855.816909\n",
       "std         1.899822       115395.615874\n",
       "min         0.499900        14999.000000\n",
       "25%         2.563400       119600.000000\n",
       "50%         3.534800       179700.000000\n",
       "75%         4.743250       264725.000000\n",
       "max        15.000100       500001.000000"
      ]
     },
     "execution_count": 13,
     "metadata": {},
     "output_type": "execute_result"
    }
   ],
   "source": [
    "housing.describe()"
   ]
  },
  {
   "cell_type": "markdown",
   "metadata": {
    "id": "X4JTsiuQFKYI"
   },
   "source": [
    "주택가격의 최댓값이 500,001인데 자연스럽지 못하다.\n",
    "아마도 50만 달러 이상은 50만 1달러로 지정한 것으로 보인다.\n",
    "따라서 50만 달러를 초과하는 데이터는 **이상치<font size='2'>outlier**</font>로 간주해 데이터셋에서 제외시키는 것이 바람직하다."
   ]
  },
  {
   "cell_type": "markdown",
   "metadata": {
    "id": "YNf3-n2qFKYI"
   },
   "source": [
    "### 데이터 이상치 제거"
   ]
  },
  {
   "cell_type": "markdown",
   "metadata": {
    "id": "ox9XipcaFKYI"
   },
   "source": [
    "주택가격이 50만 달러를 초과하는 데이터들을 삭제하기 위해 부울 인덱싱을 활용한다."
   ]
  },
  {
   "cell_type": "markdown",
   "metadata": {
    "id": "MQXKDaP9FKYI"
   },
   "source": [
    "**부울 인덱싱**"
   ]
  },
  {
   "cell_type": "markdown",
   "metadata": {
    "id": "gqg6_zWWFKYI"
   },
   "source": [
    "부울 인덱싱<font size='2'>Boolean indexing</font>은\n",
    "`True` 또는 `False`의 진리값으로만 구성된 어레이 또는 데이터프레임을 이용하여\n",
    "`True`에 해당하는 행 또는 열만 남기고 나머지는 제거하는 기법이다.\n",
    "부울 인덱싱에 사용되는 진리값으로만 구성된 1차원 어레이, 리스트, 데이터프레임을\n",
    "마스크<font size='2'>mask</font>라 부른다."
   ]
  },
  {
   "cell_type": "markdown",
   "metadata": {
    "id": "s6AlIOCmFKYI"
   },
   "source": [
    "주택가격이 50만 달러를 초과하는 구역을 삭제하기 위해\n",
    "먼저 주택가격이 50만 달러를 초과하는 경우에만 `True` 값을 갖는 시리즈를 생성한다. 아래 코드에서는 단일값인 `house_value_max`를 시리즈와 비교하는데 브로드캐스팅 기능을 활용했다."
   ]
  },
  {
   "cell_type": "code",
   "execution_count": 14,
   "metadata": {
    "colab": {
     "base_uri": "https://localhost:8080/",
     "height": 458
    },
    "executionInfo": {
     "elapsed": 40,
     "status": "ok",
     "timestamp": 1752584645164,
     "user": {
      "displayName": "ter wa",
      "userId": "01448980402448893441"
     },
     "user_tz": -540
    },
    "id": "iM1VUdL2FKYI",
    "outputId": "a4932ea5-da7c-409e-bc89-aa5a772ccffc"
   },
   "outputs": [
    {
     "data": {
      "text/plain": [
       "0        False\n",
       "1        False\n",
       "2        False\n",
       "3        False\n",
       "4        False\n",
       "         ...  \n",
       "20635    False\n",
       "20636    False\n",
       "20637    False\n",
       "20638    False\n",
       "20639    False\n",
       "Name: median_house_value, Length: 20640, dtype: bool"
      ]
     },
     "execution_count": 14,
     "metadata": {},
     "output_type": "execute_result"
    }
   ],
   "source": [
    "house_value_max = housing['median_house_value'].max() # 500,001\n",
    "\n",
    "mask = housing['median_house_value'] >= house_value_max\n",
    "mask"
   ]
  },
  {
   "cell_type": "markdown",
   "metadata": {
    "id": "mkNb-vdHFKYJ"
   },
   "source": [
    "`mask`가 가리키는 어레이에는 총 965개의 `True`가 포함되어 있다. 즉, 주택가격이 50만 달러를 초과해서 제거해야 하는 구역이 총 965개이다.\n",
    "`sum()` 메서드는 `True`는 1로, `False`는 0으로 취급한다."
   ]
  },
  {
   "cell_type": "code",
   "execution_count": 16,
   "metadata": {
    "colab": {
     "base_uri": "https://localhost:8080/"
    },
    "executionInfo": {
     "elapsed": 22,
     "status": "ok",
     "timestamp": 1752584645164,
     "user": {
      "displayName": "ter wa",
      "userId": "01448980402448893441"
     },
     "user_tz": -540
    },
    "id": "ywfrPiOxFKYJ",
    "outputId": "1c4627e5-7274-496c-9e3d-1c89a12c9aaa"
   },
   "outputs": [
    {
     "data": {
      "text/plain": [
       "965"
      ]
     },
     "execution_count": 16,
     "metadata": {},
     "output_type": "execute_result"
    }
   ],
   "source": [
    "mask.sum()"
   ]
  },
  {
   "cell_type": "markdown",
   "metadata": {
    "id": "leLoukioFKYJ"
   },
   "source": [
    "이제 50만 달러 이하의 경우만 남기기 위해 `mask`를 다음과 같이 이용한다.\n",
    "물결 기호, 영어로 틸데<font size='2'>tilde</font> 기호 `~`는 부정 논리연산자이므로, `mask`에서 `False`인 데이터들만 새로운 데이터프레임으로 옮긴다. 새로운 데이터프레임의 모양을 체크해보면 965개의 항목이 제거되었음이 확인된다."
   ]
  },
  {
   "cell_type": "code",
   "execution_count": 17,
   "metadata": {
    "colab": {
     "base_uri": "https://localhost:8080/"
    },
    "executionInfo": {
     "elapsed": 10,
     "status": "ok",
     "timestamp": 1752584645165,
     "user": {
      "displayName": "ter wa",
      "userId": "01448980402448893441"
     },
     "user_tz": -540
    },
    "id": "eKlqvhFuFKYJ",
    "outputId": "01412661-f787-4048-b150-0a31899acf39"
   },
   "outputs": [
    {
     "data": {
      "text/plain": [
       "(19675, 2)"
      ]
     },
     "execution_count": 17,
     "metadata": {},
     "output_type": "execute_result"
    }
   ],
   "source": [
    "housing = housing[~mask]\n",
    "housing.shape"
   ]
  },
  {
   "cell_type": "markdown",
   "metadata": {
    "id": "yKE_z4i2FKYJ"
   },
   "source": [
    "이상치가 제거된 데이터셋의 산점도를 확인하면 이상치들이 제거되어 직선 형태이 점분포가 사라졌음을 알 수 있다."
   ]
  },
  {
   "cell_type": "code",
   "execution_count": 18,
   "metadata": {
    "colab": {
     "base_uri": "https://localhost:8080/",
     "height": 450
    },
    "executionInfo": {
     "elapsed": 167,
     "status": "ok",
     "timestamp": 1752584645329,
     "user": {
      "displayName": "ter wa",
      "userId": "01448980402448893441"
     },
     "user_tz": -540
    },
    "id": "xgYnXDIkFKYJ",
    "outputId": "679b0ef2-0348-412f-ba0d-ec93173df39d"
   },
   "outputs": [
    {
     "data": {
      "image/png": "[encoded data removed]",
      "text/plain": [
       "<Figure size 640x480 with 1 Axes>"
      ]
     },
     "metadata": {},
     "output_type": "display_data"
    }
   ],
   "source": [
    "housing.plot('median_income', 'median_house_value', kind='scatter')\n",
    "plt.show()"
   ]
  },
  {
   "cell_type": "markdown",
   "metadata": {
    "id": "hU1M5-GwFKYJ"
   },
   "source": [
    "**인덱스 초기화**"
   ]
  },
  {
   "cell_type": "markdown",
   "metadata": {
    "id": "-DougjfxFKYJ"
   },
   "source": [
    "965개의 이상치가 제거되면서 인덱스와 데이터셋의 크기가 매칭되지 않는다."
   ]
  },
  {
   "cell_type": "code",
   "execution_count": 19,
   "metadata": {
    "colab": {
     "base_uri": "https://localhost:8080/",
     "height": 423
    },
    "executionInfo": {
     "elapsed": 32,
     "status": "ok",
     "timestamp": 1752584645357,
     "user": {
      "displayName": "ter wa",
      "userId": "01448980402448893441"
     },
     "user_tz": -540
    },
    "id": "peBWy3C4FKYK",
    "outputId": "12aee920-8a9c-4a9f-ba6f-bb9bc94fcaf4"
   },
   "outputs": [
    {
     "data": {
      "text/html": [
       "<div>\n",
       "<style scoped>\n",
       "    .dataframe tbody tr th:only-of-type {\n",
       "        vertical-align: middle;\n",
       "    }\n",
       "\n",
       "    .dataframe tbody tr th {\n",
       "        vertical-align: top;\n",
       "    }\n",
       "\n",
       "    .dataframe thead th {\n",
       "        text-align: right;\n",
       "    }\n",
       "</style>\n",
       "<table border=\"1\" class=\"dataframe\">\n",
       "  <thead>\n",
       "    <tr style=\"text-align: right;\">\n",
       "      <th></th>\n",
       "      <th>median_income</th>\n",
       "      <th>median_house_value</th>\n",
       "    </tr>\n",
       "  </thead>\n",
       "  <tbody>\n",
       "    <tr>\n",
       "      <th>0</th>\n",
       "      <td>8.3252</td>\n",
       "      <td>452600.0</td>\n",
       "    </tr>\n",
       "    <tr>\n",
       "      <th>1</th>\n",
       "      <td>8.3014</td>\n",
       "      <td>358500.0</td>\n",
       "    </tr>\n",
       "    <tr>\n",
       "      <th>2</th>\n",
       "      <td>7.2574</td>\n",
       "      <td>352100.0</td>\n",
       "    </tr>\n",
       "    <tr>\n",
       "      <th>3</th>\n",
       "      <td>5.6431</td>\n",
       "      <td>341300.0</td>\n",
       "    </tr>\n",
       "    <tr>\n",
       "      <th>4</th>\n",
       "      <td>3.8462</td>\n",
       "      <td>342200.0</td>\n",
       "    </tr>\n",
       "    <tr>\n",
       "      <th>...</th>\n",
       "      <td>...</td>\n",
       "      <td>...</td>\n",
       "    </tr>\n",
       "    <tr>\n",
       "      <th>20635</th>\n",
       "      <td>1.5603</td>\n",
       "      <td>78100.0</td>\n",
       "    </tr>\n",
       "    <tr>\n",
       "      <th>20636</th>\n",
       "      <td>2.5568</td>\n",
       "      <td>77100.0</td>\n",
       "    </tr>\n",
       "    <tr>\n",
       "      <th>20637</th>\n",
       "      <td>1.7000</td>\n",
       "      <td>92300.0</td>\n",
       "    </tr>\n",
       "    <tr>\n",
       "      <th>20638</th>\n",
       "      <td>1.8672</td>\n",
       "      <td>84700.0</td>\n",
       "    </tr>\n",
       "    <tr>\n",
       "      <th>20639</th>\n",
       "      <td>2.3886</td>\n",
       "      <td>89400.0</td>\n",
       "    </tr>\n",
       "  </tbody>\n",
       "</table>\n",
       "<p>19675 rows × 2 columns</p>\n",
       "</div>"
      ],
      "text/plain": [
       "       median_income  median_house_value\n",
       "0             8.3252            452600.0\n",
       "1             8.3014            358500.0\n",
       "2             7.2574            352100.0\n",
       "3             5.6431            341300.0\n",
       "4             3.8462            342200.0\n",
       "...              ...                 ...\n",
       "20635         1.5603             78100.0\n",
       "20636         2.5568             77100.0\n",
       "20637         1.7000             92300.0\n",
       "20638         1.8672             84700.0\n",
       "20639         2.3886             89400.0\n",
       "\n",
       "[19675 rows x 2 columns]"
      ]
     },
     "execution_count": 19,
     "metadata": {},
     "output_type": "execute_result"
    }
   ],
   "source": [
    "housing"
   ]
  },
  {
   "cell_type": "markdown",
   "metadata": {
    "id": "rbTB_zZ8FKYK"
   },
   "source": [
    "아래 코드는 인덱스를 초기화하여 0부터 19,674까지의 새로운 기본 정수 인덱스로 지정되도록 한다.\n",
    "\n",
    "데이터프레임의 `reset_index()` 메서드는 기존 인덱스를 일반 열(특성)으로 변환하고, 0부터 시작하는 새로운 정수 인덱스를 생성한다. `drop=True` 인자는 기존 인덱스의 열을 제거하도록 지정하며, 생략하거나 `drop=False`를 사용하면 새로운 정수 인덱스 열의 오른쪽에 `index`라는 일반 특성으로 남겨진다."
   ]
  },
  {
   "cell_type": "code",
   "execution_count": 20,
   "metadata": {
    "executionInfo": {
     "elapsed": 3,
     "status": "ok",
     "timestamp": 1752584645360,
     "user": {
      "displayName": "ter wa",
      "userId": "01448980402448893441"
     },
     "user_tz": -540
    },
    "id": "5DVZyMvXFKYK"
   },
   "outputs": [],
   "source": [
    "housing = housing.reset_index(drop=True)"
   ]
  },
  {
   "cell_type": "markdown",
   "metadata": {
    "id": "cMZP7hykFKYK"
   },
   "source": [
    "새로운 정수 인덱스의 이름을 구역이라는 뜻의 `district`로 설정한다."
   ]
  },
  {
   "cell_type": "code",
   "execution_count": 21,
   "metadata": {
    "colab": {
     "base_uri": "https://localhost:8080/",
     "height": 455
    },
    "executionInfo": {
     "elapsed": 79,
     "status": "ok",
     "timestamp": 1752584645441,
     "user": {
      "displayName": "ter wa",
      "userId": "01448980402448893441"
     },
     "user_tz": -540
    },
    "id": "AtCIv-MZFKYK",
    "outputId": "fc9082e4-abfb-42c5-faf8-4f79fe836432"
   },
   "outputs": [
    {
     "data": {
      "text/html": [
       "<div>\n",
       "<style scoped>\n",
       "    .dataframe tbody tr th:only-of-type {\n",
       "        vertical-align: middle;\n",
       "    }\n",
       "\n",
       "    .dataframe tbody tr th {\n",
       "        vertical-align: top;\n",
       "    }\n",
       "\n",
       "    .dataframe thead th {\n",
       "        text-align: right;\n",
       "    }\n",
       "</style>\n",
       "<table border=\"1\" class=\"dataframe\">\n",
       "  <thead>\n",
       "    <tr style=\"text-align: right;\">\n",
       "      <th></th>\n",
       "      <th>median_income</th>\n",
       "      <th>median_house_value</th>\n",
       "    </tr>\n",
       "    <tr>\n",
       "      <th>district</th>\n",
       "      <th></th>\n",
       "      <th></th>\n",
       "    </tr>\n",
       "  </thead>\n",
       "  <tbody>\n",
       "    <tr>\n",
       "      <th>0</th>\n",
       "      <td>8.3252</td>\n",
       "      <td>452600.0</td>\n",
       "    </tr>\n",
       "    <tr>\n",
       "      <th>1</th>\n",
       "      <td>8.3014</td>\n",
       "      <td>358500.0</td>\n",
       "    </tr>\n",
       "    <tr>\n",
       "      <th>2</th>\n",
       "      <td>7.2574</td>\n",
       "      <td>352100.0</td>\n",
       "    </tr>\n",
       "    <tr>\n",
       "      <th>3</th>\n",
       "      <td>5.6431</td>\n",
       "      <td>341300.0</td>\n",
       "    </tr>\n",
       "    <tr>\n",
       "      <th>4</th>\n",
       "      <td>3.8462</td>\n",
       "      <td>342200.0</td>\n",
       "    </tr>\n",
       "    <tr>\n",
       "      <th>...</th>\n",
       "      <td>...</td>\n",
       "      <td>...</td>\n",
       "    </tr>\n",
       "    <tr>\n",
       "      <th>19670</th>\n",
       "      <td>1.5603</td>\n",
       "      <td>78100.0</td>\n",
       "    </tr>\n",
       "    <tr>\n",
       "      <th>19671</th>\n",
       "      <td>2.5568</td>\n",
       "      <td>77100.0</td>\n",
       "    </tr>\n",
       "    <tr>\n",
       "      <th>19672</th>\n",
       "      <td>1.7000</td>\n",
       "      <td>92300.0</td>\n",
       "    </tr>\n",
       "    <tr>\n",
       "      <th>19673</th>\n",
       "      <td>1.8672</td>\n",
       "      <td>84700.0</td>\n",
       "    </tr>\n",
       "    <tr>\n",
       "      <th>19674</th>\n",
       "      <td>2.3886</td>\n",
       "      <td>89400.0</td>\n",
       "    </tr>\n",
       "  </tbody>\n",
       "</table>\n",
       "<p>19675 rows × 2 columns</p>\n",
       "</div>"
      ],
      "text/plain": [
       "          median_income  median_house_value\n",
       "district                                   \n",
       "0                8.3252            452600.0\n",
       "1                8.3014            358500.0\n",
       "2                7.2574            352100.0\n",
       "3                5.6431            341300.0\n",
       "4                3.8462            342200.0\n",
       "...                 ...                 ...\n",
       "19670            1.5603             78100.0\n",
       "19671            2.5568             77100.0\n",
       "19672            1.7000             92300.0\n",
       "19673            1.8672             84700.0\n",
       "19674            2.3886             89400.0\n",
       "\n",
       "[19675 rows x 2 columns]"
      ]
     },
     "execution_count": 21,
     "metadata": {},
     "output_type": "execute_result"
    }
   ],
   "source": [
    "housing.index.name = 'district'\n",
    "housing"
   ]
  },
  {
   "cell_type": "markdown",
   "metadata": {
    "id": "iq2XUEJoFKYK"
   },
   "source": [
    "## 표본"
   ]
  },
  {
   "cell_type": "markdown",
   "metadata": {
    "id": "eg199xD7FKYK"
   },
   "source": [
    "19,675개 구역의 1%에 해당하는 1,968개 구역의 데이터를 선택하여 표본으로 지정한다.\n",
    "표본추출은 보통 무작위 추출 방식으로 진행되지만 경우에 따라 층화표집도 자주 사용된다.\n",
    "여기서는 두 표본추출 방식을 소개하고, 이들의 차이점을 살펴본다."
   ]
  },
  {
   "cell_type": "markdown",
   "metadata": {
    "id": "mLK8-vQiFKYK"
   },
   "source": [
    "### 무작위 추출"
   ]
  },
  {
   "cell_type": "markdown",
   "metadata": {
    "id": "I4y6njXAFKYK"
   },
   "source": [
    "무작위 추출은 모집단에서 임의로 하나의 값을 선택하는 방법이다.\n",
    "아래 코드는 `housing`에 포함된 전체 구역의 1%를 무작위로 선택하기 위해\n",
    "데이터프레임의 `sample()` 메서드를 활용한다.\n",
    "\n",
    "`sample()` 메서드의 주요 인자는 다음과 같다.\n",
    "- `frac` 또는 `n`: `frac`은 전체 데이터 대비 샘플링의 비율을, `n`은 샘플의 개수를 설정함. 예를 들어, `frac=0.01`로 지정하면 전체 데이터의 1%를 추출하고, `n=100`으로 지정하면 100개의 샘플을 추출함.\n",
    "- `random_state`: 무작위 추출의 시드(seed) 값으로, 임의의 정수로 설정하면 됨. 시드를 지정하면 매번 동일한 무작위 샘플이 생성되어 이후 작업의 결과를 동일하게 유지할 수 있으나, 지정하지 않으면 매번 다른 무작위 샘플이 추출되므로 이후 작업의 동일한 재현은 거의 불가능해짐."
   ]
  },
  {
   "cell_type": "code",
   "execution_count": 22,
   "metadata": {
    "colab": {
     "base_uri": "https://localhost:8080/",
     "height": 455
    },
    "executionInfo": {
     "elapsed": 15,
     "status": "ok",
     "timestamp": 1752584645458,
     "user": {
      "displayName": "ter wa",
      "userId": "01448980402448893441"
     },
     "user_tz": -540
    },
    "id": "9DovopT3FKYK",
    "outputId": "ce200407-6477-4fdc-9326-4e66d7dac4d5"
   },
   "outputs": [
    {
     "data": {
      "text/html": [
       "<div>\n",
       "<style scoped>\n",
       "    .dataframe tbody tr th:only-of-type {\n",
       "        vertical-align: middle;\n",
       "    }\n",
       "\n",
       "    .dataframe tbody tr th {\n",
       "        vertical-align: top;\n",
       "    }\n",
       "\n",
       "    .dataframe thead th {\n",
       "        text-align: right;\n",
       "    }\n",
       "</style>\n",
       "<table border=\"1\" class=\"dataframe\">\n",
       "  <thead>\n",
       "    <tr style=\"text-align: right;\">\n",
       "      <th></th>\n",
       "      <th>median_income</th>\n",
       "      <th>median_house_value</th>\n",
       "    </tr>\n",
       "    <tr>\n",
       "      <th>district</th>\n",
       "      <th></th>\n",
       "      <th></th>\n",
       "    </tr>\n",
       "  </thead>\n",
       "  <tbody>\n",
       "    <tr>\n",
       "      <th>14447</th>\n",
       "      <td>1.8357</td>\n",
       "      <td>104200.0</td>\n",
       "    </tr>\n",
       "    <tr>\n",
       "      <th>13921</th>\n",
       "      <td>4.2109</td>\n",
       "      <td>171200.0</td>\n",
       "    </tr>\n",
       "    <tr>\n",
       "      <th>12981</th>\n",
       "      <td>4.0481</td>\n",
       "      <td>97300.0</td>\n",
       "    </tr>\n",
       "    <tr>\n",
       "      <th>2579</th>\n",
       "      <td>3.5380</td>\n",
       "      <td>102700.0</td>\n",
       "    </tr>\n",
       "    <tr>\n",
       "      <th>12162</th>\n",
       "      <td>2.2000</td>\n",
       "      <td>116500.0</td>\n",
       "    </tr>\n",
       "    <tr>\n",
       "      <th>...</th>\n",
       "      <td>...</td>\n",
       "      <td>...</td>\n",
       "    </tr>\n",
       "    <tr>\n",
       "      <th>6415</th>\n",
       "      <td>3.3750</td>\n",
       "      <td>260400.0</td>\n",
       "    </tr>\n",
       "    <tr>\n",
       "      <th>218</th>\n",
       "      <td>2.8750</td>\n",
       "      <td>143800.0</td>\n",
       "    </tr>\n",
       "    <tr>\n",
       "      <th>18090</th>\n",
       "      <td>3.2768</td>\n",
       "      <td>117600.0</td>\n",
       "    </tr>\n",
       "    <tr>\n",
       "      <th>1712</th>\n",
       "      <td>3.5463</td>\n",
       "      <td>130800.0</td>\n",
       "    </tr>\n",
       "    <tr>\n",
       "      <th>5144</th>\n",
       "      <td>3.7813</td>\n",
       "      <td>336300.0</td>\n",
       "    </tr>\n",
       "  </tbody>\n",
       "</table>\n",
       "<p>197 rows × 2 columns</p>\n",
       "</div>"
      ],
      "text/plain": [
       "          median_income  median_house_value\n",
       "district                                   \n",
       "14447            1.8357            104200.0\n",
       "13921            4.2109            171200.0\n",
       "12981            4.0481             97300.0\n",
       "2579             3.5380            102700.0\n",
       "12162            2.2000            116500.0\n",
       "...                 ...                 ...\n",
       "6415             3.3750            260400.0\n",
       "218              2.8750            143800.0\n",
       "18090            3.2768            117600.0\n",
       "1712             3.5463            130800.0\n",
       "5144             3.7813            336300.0\n",
       "\n",
       "[197 rows x 2 columns]"
      ]
     },
     "execution_count": 22,
     "metadata": {},
     "output_type": "execute_result"
    }
   ],
   "source": [
    "random_sampling = housing.sample(frac=0.01, random_state=42)\n",
    "random_sampling"
   ]
  },
  {
   "cell_type": "markdown",
   "metadata": {
    "id": "fU78KrijFKYK"
   },
   "source": [
    "**표본통계량 vs 모수**"
   ]
  },
  {
   "cell_type": "markdown",
   "metadata": {
    "id": "Y-3PZfK1FKYK"
   },
   "source": [
    "무작위로 선택된 1,968개 샘플들의 통계 정보는 다음과 같다."
   ]
  },
  {
   "cell_type": "code",
   "execution_count": 23,
   "metadata": {
    "colab": {
     "base_uri": "https://localhost:8080/",
     "height": 300
    },
    "executionInfo": {
     "elapsed": 34,
     "status": "ok",
     "timestamp": 1752584645494,
     "user": {
      "displayName": "ter wa",
      "userId": "01448980402448893441"
     },
     "user_tz": -540
    },
    "id": "gCwl1uv6FKYK",
    "outputId": "aa33a56a-61b4-4773-ac80-6c615b98e1ff"
   },
   "outputs": [
    {
     "data": {
      "text/html": [
       "<div>\n",
       "<style scoped>\n",
       "    .dataframe tbody tr th:only-of-type {\n",
       "        vertical-align: middle;\n",
       "    }\n",
       "\n",
       "    .dataframe tbody tr th {\n",
       "        vertical-align: top;\n",
       "    }\n",
       "\n",
       "    .dataframe thead th {\n",
       "        text-align: right;\n",
       "    }\n",
       "</style>\n",
       "<table border=\"1\" class=\"dataframe\">\n",
       "  <thead>\n",
       "    <tr style=\"text-align: right;\">\n",
       "      <th></th>\n",
       "      <th>median_income</th>\n",
       "      <th>median_house_value</th>\n",
       "    </tr>\n",
       "  </thead>\n",
       "  <tbody>\n",
       "    <tr>\n",
       "      <th>count</th>\n",
       "      <td>197.000000</td>\n",
       "      <td>197.000000</td>\n",
       "    </tr>\n",
       "    <tr>\n",
       "      <th>mean</th>\n",
       "      <td>3.742413</td>\n",
       "      <td>189908.121827</td>\n",
       "    </tr>\n",
       "    <tr>\n",
       "      <th>std</th>\n",
       "      <td>1.553336</td>\n",
       "      <td>93704.934938</td>\n",
       "    </tr>\n",
       "    <tr>\n",
       "      <th>min</th>\n",
       "      <td>0.980900</td>\n",
       "      <td>42100.000000</td>\n",
       "    </tr>\n",
       "    <tr>\n",
       "      <th>25%</th>\n",
       "      <td>2.584800</td>\n",
       "      <td>119300.000000</td>\n",
       "    </tr>\n",
       "    <tr>\n",
       "      <th>50%</th>\n",
       "      <td>3.538000</td>\n",
       "      <td>174500.000000</td>\n",
       "    </tr>\n",
       "    <tr>\n",
       "      <th>75%</th>\n",
       "      <td>4.642400</td>\n",
       "      <td>252600.000000</td>\n",
       "    </tr>\n",
       "    <tr>\n",
       "      <th>max</th>\n",
       "      <td>8.680300</td>\n",
       "      <td>479500.000000</td>\n",
       "    </tr>\n",
       "  </tbody>\n",
       "</table>\n",
       "</div>"
      ],
      "text/plain": [
       "       median_income  median_house_value\n",
       "count     197.000000          197.000000\n",
       "mean        3.742413       189908.121827\n",
       "std         1.553336        93704.934938\n",
       "min         0.980900        42100.000000\n",
       "25%         2.584800       119300.000000\n",
       "50%         3.538000       174500.000000\n",
       "75%         4.642400       252600.000000\n",
       "max         8.680300       479500.000000"
      ]
     },
     "execution_count": 23,
     "metadata": {},
     "output_type": "execute_result"
    }
   ],
   "source": [
    "random_sampling.describe()"
   ]
  },
  {
   "cell_type": "markdown",
   "metadata": {
    "id": "ExoJ6a4OFKYL"
   },
   "source": [
    "모수, 즉 모집단의 통계 정보는 표본의 경우와 비슷하지만 약간 다르다."
   ]
  },
  {
   "cell_type": "code",
   "execution_count": 24,
   "metadata": {
    "colab": {
     "base_uri": "https://localhost:8080/",
     "height": 300
    },
    "executionInfo": {
     "elapsed": 8,
     "status": "ok",
     "timestamp": 1752584645496,
     "user": {
      "displayName": "ter wa",
      "userId": "01448980402448893441"
     },
     "user_tz": -540
    },
    "id": "c6NPt2UBFKYL",
    "outputId": "0236bc37-231d-47c8-c492-ba9375d46224"
   },
   "outputs": [
    {
     "data": {
      "text/html": [
       "<div>\n",
       "<style scoped>\n",
       "    .dataframe tbody tr th:only-of-type {\n",
       "        vertical-align: middle;\n",
       "    }\n",
       "\n",
       "    .dataframe tbody tr th {\n",
       "        vertical-align: top;\n",
       "    }\n",
       "\n",
       "    .dataframe thead th {\n",
       "        text-align: right;\n",
       "    }\n",
       "</style>\n",
       "<table border=\"1\" class=\"dataframe\">\n",
       "  <thead>\n",
       "    <tr style=\"text-align: right;\">\n",
       "      <th></th>\n",
       "      <th>median_income</th>\n",
       "      <th>median_house_value</th>\n",
       "    </tr>\n",
       "  </thead>\n",
       "  <tbody>\n",
       "    <tr>\n",
       "      <th>count</th>\n",
       "      <td>19675.000000</td>\n",
       "      <td>19675.000000</td>\n",
       "    </tr>\n",
       "    <tr>\n",
       "      <th>mean</th>\n",
       "      <td>3.676717</td>\n",
       "      <td>192477.921017</td>\n",
       "    </tr>\n",
       "    <tr>\n",
       "      <th>std</th>\n",
       "      <td>1.570272</td>\n",
       "      <td>97711.509613</td>\n",
       "    </tr>\n",
       "    <tr>\n",
       "      <th>min</th>\n",
       "      <td>0.499900</td>\n",
       "      <td>14999.000000</td>\n",
       "    </tr>\n",
       "    <tr>\n",
       "      <th>25%</th>\n",
       "      <td>2.526800</td>\n",
       "      <td>116600.000000</td>\n",
       "    </tr>\n",
       "    <tr>\n",
       "      <th>50%</th>\n",
       "      <td>3.450000</td>\n",
       "      <td>173800.000000</td>\n",
       "    </tr>\n",
       "    <tr>\n",
       "      <th>75%</th>\n",
       "      <td>4.582600</td>\n",
       "      <td>248200.000000</td>\n",
       "    </tr>\n",
       "    <tr>\n",
       "      <th>max</th>\n",
       "      <td>15.000100</td>\n",
       "      <td>500000.000000</td>\n",
       "    </tr>\n",
       "  </tbody>\n",
       "</table>\n",
       "</div>"
      ],
      "text/plain": [
       "       median_income  median_house_value\n",
       "count   19675.000000        19675.000000\n",
       "mean        3.676717       192477.921017\n",
       "std         1.570272        97711.509613\n",
       "min         0.499900        14999.000000\n",
       "25%         2.526800       116600.000000\n",
       "50%         3.450000       173800.000000\n",
       "75%         4.582600       248200.000000\n",
       "max        15.000100       500000.000000"
      ]
     },
     "execution_count": 24,
     "metadata": {},
     "output_type": "execute_result"
    }
   ],
   "source": [
    "housing.describe()"
   ]
  },
  {
   "cell_type": "markdown",
   "metadata": {
    "id": "vzIxXhXNFKYL"
   },
   "source": [
    "분산 또한 표본과 모집단의 정보가 조금 다르다.\n",
    "모집단의 경우엔 편향분산을 사용해야 하며,\n",
    "[6장](https://codingalzi.github.io/statsRev/oneD_data.html)에서 설명한 대로 표본의 불편분산은 (편향)분산보다 조금 더 크다."
   ]
  },
  {
   "cell_type": "markdown",
   "metadata": {
    "id": "14w22sp_FKYL"
   },
   "source": [
    "- 모집단의 (편향)분산"
   ]
  },
  {
   "cell_type": "code",
   "execution_count": 28,
   "metadata": {
    "colab": {
     "base_uri": "https://localhost:8080/",
     "height": 147
    },
    "executionInfo": {
     "elapsed": 6,
     "status": "ok",
     "timestamp": 1752584645498,
     "user": {
      "displayName": "ter wa",
      "userId": "01448980402448893441"
     },
     "user_tz": -540
    },
    "id": "62MWVeyYFKYL",
    "outputId": "85b2d9a3-5706-4c89-f38a-6f53860efbed"
   },
   "outputs": [
    {
     "data": {
      "text/plain": [
       "median_income         2.465628e+00\n",
       "median_house_value    9.547054e+09\n",
       "dtype: float64"
      ]
     },
     "execution_count": 28,
     "metadata": {},
     "output_type": "execute_result"
    }
   ],
   "source": [
    "housing.var(ddof=0) # ddof=1 이 기본값"
   ]
  },
  {
   "cell_type": "markdown",
   "metadata": {
    "id": "AZtAteLuFKYL"
   },
   "source": [
    "- 표본의 불편분산"
   ]
  },
  {
   "cell_type": "code",
   "execution_count": 26,
   "metadata": {
    "colab": {
     "base_uri": "https://localhost:8080/",
     "height": 147
    },
    "executionInfo": {
     "elapsed": 28,
     "status": "ok",
     "timestamp": 1752584645528,
     "user": {
      "displayName": "ter wa",
      "userId": "01448980402448893441"
     },
     "user_tz": -540
    },
    "id": "7bQJdRHWFKYL",
    "outputId": "19f384d9-8e4c-4645-9d4d-c6bbefcb8088"
   },
   "outputs": [
    {
     "data": {
      "text/plain": [
       "median_income         2.412851e+00\n",
       "median_house_value    8.780615e+09\n",
       "dtype: float64"
      ]
     },
     "execution_count": 26,
     "metadata": {},
     "output_type": "execute_result"
    }
   ],
   "source": [
    "random_sampling.var() # ddof=1 이 기본값"
   ]
  },
  {
   "cell_type": "markdown",
   "metadata": {
    "id": "uspvnjgbFKYL"
   },
   "source": [
    "- 표본의 (편향)분산"
   ]
  },
  {
   "cell_type": "code",
   "execution_count": 27,
   "metadata": {
    "colab": {
     "base_uri": "https://localhost:8080/",
     "height": 147
    },
    "executionInfo": {
     "elapsed": 47,
     "status": "ok",
     "timestamp": 1752584645576,
     "user": {
      "displayName": "ter wa",
      "userId": "01448980402448893441"
     },
     "user_tz": -540
    },
    "id": "0RISGbBpFKYL",
    "outputId": "28922629-20b1-4056-eb3a-30b7a8449a79"
   },
   "outputs": [
    {
     "data": {
      "text/plain": [
       "median_income         2.400603e+00\n",
       "median_house_value    8.736043e+09\n",
       "dtype: float64"
      ]
     },
     "execution_count": 27,
     "metadata": {},
     "output_type": "execute_result"
    }
   ],
   "source": [
    "random_sampling.var(ddof=0)"
   ]
  },
  {
   "cell_type": "markdown",
   "metadata": {
    "id": "E4y-NU35FKYL"
   },
   "source": [
    "이번 표본의 경우, 가구소득과 주택가격의 불편분산과 편향분산 모두 모분산에 비해 작게 나왔지만,\n",
    "표본을 다르게 하면 다른 결과가 나온다.\n",
    "예를 들어, 아래 코드는 무작위 추출의 시드를 17로 지정했을 때 두 경우 모두 보다 큰 분산이\n",
    "계산됨을 보여준다."
   ]
  },
  {
   "cell_type": "code",
   "execution_count": 35,
   "metadata": {
    "colab": {
     "base_uri": "https://localhost:8080/",
     "height": 147
    },
    "executionInfo": {
     "elapsed": 3,
     "status": "ok",
     "timestamp": 1752584645582,
     "user": {
      "displayName": "ter wa",
      "userId": "01448980402448893441"
     },
     "user_tz": -540
    },
    "id": "AgHUz30xFKYL",
    "outputId": "6349f860-6517-4f5c-8ab2-360a345d42c6"
   },
   "outputs": [
    {
     "data": {
      "text/plain": [
       "median_income         2.484291e+00\n",
       "median_house_value    1.122830e+10\n",
       "dtype: float64"
      ]
     },
     "execution_count": 35,
     "metadata": {},
     "output_type": "execute_result"
    }
   ],
   "source": [
    "random_sampling = housing.sample(frac=0.01, random_state=17)\n",
    "random_sampling.var()  # 이번 표본의 불편분산"
   ]
  },
  {
   "cell_type": "code",
   "execution_count": 36,
   "metadata": {
    "colab": {
     "base_uri": "https://localhost:8080/",
     "height": 147
    },
    "executionInfo": {
     "elapsed": 5,
     "status": "ok",
     "timestamp": 1752584645588,
     "user": {
      "displayName": "ter wa",
      "userId": "01448980402448893441"
     },
     "user_tz": -540
    },
    "id": "rXSrrmu4QE3J",
    "outputId": "ac63f6a4-937c-42ac-d414-ea06be9180a7"
   },
   "outputs": [
    {
     "data": {
      "text/plain": [
       "median_income         2.471680e+00\n",
       "median_house_value    1.117131e+10\n",
       "dtype: float64"
      ]
     },
     "execution_count": 36,
     "metadata": {},
     "output_type": "execute_result"
    }
   ],
   "source": [
    "random_sampling.var(ddof=0) # 이번 표본의 (편향)분산"
   ]
  },
  {
   "cell_type": "markdown",
   "metadata": {
    "id": "PxkAXZEQFKYL"
   },
   "source": [
    "표본 불편분산의 기댓값이 모분산이 되는 것은 수학적으로 쉽게 증명 가능하다.\n",
    "기댓값<font size='2'>expectation value</font>은 어떤 확률적 사건의 평균값을 말하는데,\n",
    "자세한 설명은 [14장](https://codingalzi.github.io/statsRev/expected_values.html) 또는 [표본분산의 기댓값](https://hsm-edu.tistory.com/15)을 참고한다.\n",
    "\n",
    "아래 두 개의 코드는 무작위 표본추출을 1만번 시행해서 불편분산들의 평균값과 편향분산들의 평균값 중 어느 값이 더 모분산에 가까운지 확인해보는 실험이다.\n",
    "\n",
    "첫번째 코드는 불편분산의 평균값을 계산하는 부분이다.\n",
    "각 반복에서 계산한 두 가지 값(`median_income`의 불편분산과 `median_house_value`의 불편분산)을 저장할 (10000, 2) 모양의 어레이를 0으로 초기화하여 준비한다. 시드 `seed`를 0부터 9999까지 증가시키면서 무작위 표본추출을 시행하고, 두 가지 불편분산을 계산해 `vars[seed]`에 저장한다.\n",
    "\n",
    "반복이 끝난 후, `mean()` 메서드를 이용해 `vars` 어레이에 저장된 1만 개의 불편분산의 평균을 계산한다. 열별로 평균을 구해야 하므로 `axis=0` 인자를 사용해야 한다. `median_income` 분산들의 평균과 `median_house_value` 분산들의 평균이 반환된다."
   ]
  },
  {
   "cell_type": "code",
   "execution_count": 66,
   "metadata": {
    "colab": {
     "base_uri": "https://localhost:8080/"
    },
    "executionInfo": {
     "elapsed": 13384,
     "status": "ok",
     "timestamp": 1752584658975,
     "user": {
      "displayName": "ter wa",
      "userId": "01448980402448893441"
     },
     "user_tz": -540
    },
    "id": "Wnma2h5KFKYL",
    "outputId": "3d65f01b-5d8b-4aea-db01-a20c913ce9cd"
   },
   "outputs": [
    {
     "data": {
      "text/plain": [
       "array([2.464743e+00, 9.561272e+09])"
      ]
     },
     "execution_count": 66,
     "metadata": {},
     "output_type": "execute_result"
    }
   ],
   "source": [
    "trial = 10000\n",
    "vars = np.zeros((trial, 2))\n",
    "for seed in range(trial):\n",
    "    random_sampling = housing.sample(frac=0.01, random_state=seed)\n",
    "    var_income, var_value = random_sampling.var()\n",
    "    vars[seed] = var_income, var_value\n",
    "\n",
    "vars.mean(axis=0)"
   ]
  },
  {
   "cell_type": "markdown",
   "metadata": {
    "id": "s5bIQgDEFKYM"
   },
   "source": [
    "두번째 코드는 동일한 계산을 편향분산에 대해 수행한다."
   ]
  },
  {
   "cell_type": "code",
   "execution_count": 67,
   "metadata": {
    "colab": {
     "base_uri": "https://localhost:8080/"
    },
    "executionInfo": {
     "elapsed": 15046,
     "status": "ok",
     "timestamp": 1752584674018,
     "user": {
      "displayName": "ter wa",
      "userId": "01448980402448893441"
     },
     "user_tz": -540
    },
    "id": "3ncbQTXIFKYM",
    "outputId": "e13ea2c1-fe85-4037-81e8-06c0ca1545d4"
   },
   "outputs": [
    {
     "data": {
      "text/plain": [
       "array([2.452232e+00, 9.512738e+09])"
      ]
     },
     "execution_count": 67,
     "metadata": {},
     "output_type": "execute_result"
    }
   ],
   "source": [
    "trial = 10000\n",
    "vars = np.zeros((trial, 2))\n",
    "for seed in range(trial):\n",
    "    random_sampling = housing.sample(frac=0.01, random_state=seed)\n",
    "    var_income, var_value = random_sampling.var(ddof=0)\n",
    "    vars[seed] = var_income, var_value\n",
    "\n",
    "vars.mean(axis=0)"
   ]
  },
  {
   "cell_type": "markdown",
   "metadata": {
    "id": "qpB7zXVeFKYM"
   },
   "source": [
    "실험 결과, 불편분산의 평균값들이 편향분산의 평균값들보다 모분산인 `2.465628e+00`과 `9.547054e+09`에 더 가까운 근사값임이 확인된다."
   ]
  },
  {
   "cell_type": "markdown",
   "metadata": {
    "id": "ylmPAUNgFKYM"
   },
   "source": [
    "### 층화표집"
   ]
  },
  {
   "cell_type": "markdown",
   "metadata": {
    "id": "iwDzRLacFKYM"
   },
   "source": [
    "주택가격은 가구소득과 밀접하게 연관된다.\n",
    "따라서 주택가격에 대한 표본통계량을 확인하고자 할 때\n",
    "표본이 가구소득별로 적절한 비율을 유지하는지 확인할 필요가 있다."
   ]
  },
  {
   "cell_type": "markdown",
   "metadata": {
    "id": "pmzjBWQuFKYM"
   },
   "source": [
    "**가구소득 범주 지정**"
   ]
  },
  {
   "cell_type": "markdown",
   "metadata": {
    "id": "pSY1dmllFKYM"
   },
   "source": [
    "가구소득을 아래 표에 언급된 5개의 구간으로 쪼개고, 1부터 5까지의 정수를 가구소득 범주의 레이블(이름)로 지정해보자."
   ]
  },
  {
   "cell_type": "markdown",
   "metadata": {
    "id": "yzHucg4aFKYM"
   },
   "source": [
    "| 구간 | 범위 |\n",
    "| :---: | :--- |\n",
    "| 1 | 0.0 - 1.5 |\n",
    "| 2 | 1.5 - 3.0 |\n",
    "| 3 | 3.0 - 4.5 |\n",
    "| 4 | 4.5 - 6.0 |\n",
    "| 5 | 6.0 -  |"
   ]
  },
  {
   "cell_type": "markdown",
   "metadata": {
    "id": "s74aNynuFKYM"
   },
   "source": [
    "아래 코드는 판다스의 `cut()` 함수를 이용하여\n",
    "모든 구역의 가구소득을 가구소득 범주 `bins`에 할당하고, 가구소득 범주의 이름인 1부터 5까지의 정수를 `income_cat`이라는 새로운 열(특성)으로 추가한다.\n",
    "\n",
    "`cut()` 함수는 연속적인 데이터를 이산적인 구간으로 나눠 범주형 데이터로 변환하는 함수이다. 주어진 데이터를 그룹화하는데 유용하게 사용된다. 주요 인수에 대한 설명은 다음과 같다.\n",
    "- `x`: 입력 데이터(필수)\n",
    "- `bins`: 구간을 나눌 기준(필수). `bins=k`로 지정하면 데이터 `x`의 최솟값부터 최댓값까지를 k개만큼 동일한 너비의 구간으로 나누고, 아래 코드에서처럼 시퀀스를 지정하면 이 숫자들을 구간의 경계(오른쪽 경계값 포함)로 이용함.\n",
    "- `labels`: 각 구간에 붙일 레이블(선택). 생략하면 각 구간 객체의 이름이 레이블로 사용됨.\n",
    "- `bins`나 `labels`을 미리 지정된 리스트, 어레이로 넘겨줘도 됨."
   ]
  },
  {
   "cell_type": "code",
   "execution_count": 68,
   "metadata": {
    "colab": {
     "base_uri": "https://localhost:8080/",
     "height": 455
    },
    "executionInfo": {
     "elapsed": 50,
     "status": "ok",
     "timestamp": 1752584674070,
     "user": {
      "displayName": "ter wa",
      "userId": "01448980402448893441"
     },
     "user_tz": -540
    },
    "id": "vQHGVLz0FKYM",
    "outputId": "6df7bf21-7374-4161-9013-a1cb0b24878f"
   },
   "outputs": [
    {
     "data": {
      "text/html": [
       "<div>\n",
       "<style scoped>\n",
       "    .dataframe tbody tr th:only-of-type {\n",
       "        vertical-align: middle;\n",
       "    }\n",
       "\n",
       "    .dataframe tbody tr th {\n",
       "        vertical-align: top;\n",
       "    }\n",
       "\n",
       "    .dataframe thead th {\n",
       "        text-align: right;\n",
       "    }\n",
       "</style>\n",
       "<table border=\"1\" class=\"dataframe\">\n",
       "  <thead>\n",
       "    <tr style=\"text-align: right;\">\n",
       "      <th></th>\n",
       "      <th>median_income</th>\n",
       "      <th>median_house_value</th>\n",
       "      <th>income_cat</th>\n",
       "    </tr>\n",
       "    <tr>\n",
       "      <th>district</th>\n",
       "      <th></th>\n",
       "      <th></th>\n",
       "      <th></th>\n",
       "    </tr>\n",
       "  </thead>\n",
       "  <tbody>\n",
       "    <tr>\n",
       "      <th>0</th>\n",
       "      <td>8.3252</td>\n",
       "      <td>452600.0</td>\n",
       "      <td>5</td>\n",
       "    </tr>\n",
       "    <tr>\n",
       "      <th>1</th>\n",
       "      <td>8.3014</td>\n",
       "      <td>358500.0</td>\n",
       "      <td>5</td>\n",
       "    </tr>\n",
       "    <tr>\n",
       "      <th>2</th>\n",
       "      <td>7.2574</td>\n",
       "      <td>352100.0</td>\n",
       "      <td>5</td>\n",
       "    </tr>\n",
       "    <tr>\n",
       "      <th>3</th>\n",
       "      <td>5.6431</td>\n",
       "      <td>341300.0</td>\n",
       "      <td>4</td>\n",
       "    </tr>\n",
       "    <tr>\n",
       "      <th>4</th>\n",
       "      <td>3.8462</td>\n",
       "      <td>342200.0</td>\n",
       "      <td>3</td>\n",
       "    </tr>\n",
       "    <tr>\n",
       "      <th>...</th>\n",
       "      <td>...</td>\n",
       "      <td>...</td>\n",
       "      <td>...</td>\n",
       "    </tr>\n",
       "    <tr>\n",
       "      <th>19670</th>\n",
       "      <td>1.5603</td>\n",
       "      <td>78100.0</td>\n",
       "      <td>2</td>\n",
       "    </tr>\n",
       "    <tr>\n",
       "      <th>19671</th>\n",
       "      <td>2.5568</td>\n",
       "      <td>77100.0</td>\n",
       "      <td>2</td>\n",
       "    </tr>\n",
       "    <tr>\n",
       "      <th>19672</th>\n",
       "      <td>1.7000</td>\n",
       "      <td>92300.0</td>\n",
       "      <td>2</td>\n",
       "    </tr>\n",
       "    <tr>\n",
       "      <th>19673</th>\n",
       "      <td>1.8672</td>\n",
       "      <td>84700.0</td>\n",
       "      <td>2</td>\n",
       "    </tr>\n",
       "    <tr>\n",
       "      <th>19674</th>\n",
       "      <td>2.3886</td>\n",
       "      <td>89400.0</td>\n",
       "      <td>2</td>\n",
       "    </tr>\n",
       "  </tbody>\n",
       "</table>\n",
       "<p>19675 rows × 3 columns</p>\n",
       "</div>"
      ],
      "text/plain": [
       "          median_income  median_house_value income_cat\n",
       "district                                              \n",
       "0                8.3252            452600.0          5\n",
       "1                8.3014            358500.0          5\n",
       "2                7.2574            352100.0          5\n",
       "3                5.6431            341300.0          4\n",
       "4                3.8462            342200.0          3\n",
       "...                 ...                 ...        ...\n",
       "19670            1.5603             78100.0          2\n",
       "19671            2.5568             77100.0          2\n",
       "19672            1.7000             92300.0          2\n",
       "19673            1.8672             84700.0          2\n",
       "19674            2.3886             89400.0          2\n",
       "\n",
       "[19675 rows x 3 columns]"
      ]
     },
     "execution_count": 68,
     "metadata": {},
     "output_type": "execute_result"
    }
   ],
   "source": [
    "housing[\"income_cat\"] = pd.cut(housing[\"median_income\"],\n",
    "                               bins=[0., 1.5, 3.0, 4.5, 6., np.inf],\n",
    "                               labels=[1, 2, 3, 4, 5])\n",
    "\n",
    "housing"
   ]
  },
  {
   "cell_type": "markdown",
   "metadata": {
    "id": "8FuiCpcwFKYM"
   },
   "source": [
    "이제 위에서 지정한 가구소득 범주별로 동일한 비율의 표본을 추출하는 일이 남았다. 여기에는 데이터프레임의  `groupby()` 메서드가 유용하다."
   ]
  },
  {
   "cell_type": "markdown",
   "metadata": {
    "id": "tMB1nrWIFKYM"
   },
   "source": [
    "**데이터프레임 `groupby()` 메서드 활용**"
   ]
  },
  {
   "cell_type": "markdown",
   "metadata": {
    "id": "BXgOEbA5FKYM"
   },
   "source": [
    "데이터프레임의 `groupby()` 메서드는 데이터를 하나 이상의 기준(열)에 따라 그룹으로 묶고, 각 그룹에 대해 별도의 연산(집계, 변환, 필터링 등)을 적용할 수 있게 해준다.  \n",
    "아래 코드는 이 메서드를 통해 `income_cat` 열(특성)이 나타내는 5개의 가구소득 범주로 전체 데이터를 분류하고 그룹화하는 부분이다. 코드에서 사용한 인수에 대한 설명은 다음과 같다.\n",
    "- `group_keys=True`: 그룹화된 결과에 그룹 키(여기서는 'income_cat' 값)를 인덱스로 추가함. 아래에서 다룰 `apply()` 메서드 등을 사용하여 그룹별 연산을 수행한 후 결과를 재조합할 때 유용함.\n",
    "- `observed=True`: 실제로 데이터에 나타나는 레이블만으로 그룹을 생성하라는 의미. 예를 들어, `housing`의 19,675 항목중에 가구소득 범주 2에 해당하는 항목이 없는 경우, `True`는 총 4개의 그룹만 생성해 그룹화하지만, `False`는 하나의 빈 그룹을 포함한 5개의 그룹을 생성함."
   ]
  },
  {
   "cell_type": "code",
   "execution_count": 69,
   "metadata": {
    "executionInfo": {
     "elapsed": 2,
     "status": "ok",
     "timestamp": 1752584674090,
     "user": {
      "displayName": "ter wa",
      "userId": "01448980402448893441"
     },
     "user_tz": -540
    },
    "id": "zI3Ul8qNFKYM"
   },
   "outputs": [],
   "source": [
    "stratification = housing.groupby('income_cat', observed=True, group_keys=True)"
   ]
  },
  {
   "cell_type": "markdown",
   "metadata": {
    "id": "CU2ySKalFKYM"
   },
   "source": [
    "생성된 `DataFrameGroupBy` 객체는 내부를 바로 보여주지는 않는다."
   ]
  },
  {
   "cell_type": "code",
   "execution_count": 70,
   "metadata": {
    "colab": {
     "base_uri": "https://localhost:8080/"
    },
    "executionInfo": {
     "elapsed": 7,
     "status": "ok",
     "timestamp": 1752584674099,
     "user": {
      "displayName": "ter wa",
      "userId": "01448980402448893441"
     },
     "user_tz": -540
    },
    "id": "SBRpamxvFKYN",
    "outputId": "b872caac-9c8c-4f1c-e955-37d71ee2dc13"
   },
   "outputs": [
    {
     "name": "stdout",
     "output_type": "stream",
     "text": [
      "<pandas.core.groupby.generic.DataFrameGroupBy object at 0x7cc385d76570>\n"
     ]
    }
   ],
   "source": [
    "print(stratification)"
   ]
  },
  {
   "cell_type": "markdown",
   "metadata": {
    "id": "rK_9dkwzFKYN"
   },
   "source": [
    "하지만 내부적으로 `income_cat`의 값에 따라 그룹별로 분류되어 있음을 아래의 코드를 이용해 확인할 수 있다.\n",
    "여기서 `if .. break` 명령문은 처음 두 개의 그룹만 화면에 출력하기 위함이다. 이를 제거하면 모든 그룹들이 출력된다."
   ]
  },
  {
   "cell_type": "code",
   "execution_count": 71,
   "metadata": {
    "colab": {
     "base_uri": "https://localhost:8080/"
    },
    "executionInfo": {
     "elapsed": 6,
     "status": "ok",
     "timestamp": 1752584674106,
     "user": {
      "displayName": "ter wa",
      "userId": "01448980402448893441"
     },
     "user_tz": -540
    },
    "id": "FJEQnBXNFKYN",
    "outputId": "ab8d938a-a942-404d-a60c-cd96845bf683"
   },
   "outputs": [
    {
     "name": "stdout",
     "output_type": "stream",
     "text": [
      "그룹 1\n",
      "---\n",
      "          median_income  median_house_value income_cat\n",
      "district                                              \n",
      "20               1.3578            147500.0          1\n",
      "33               1.3750            104900.0          1\n",
      "35               1.4861             97200.0          1\n",
      "36               1.0972            104500.0          1\n",
      "37               1.4103            103900.0          1\n",
      "...                 ...                 ...        ...\n",
      "19638            1.3375             59600.0          1\n",
      "19645            1.3631             45500.0          1\n",
      "19646            1.2857             47000.0          1\n",
      "19647            1.4934             48300.0          1\n",
      "19648            1.4958             53400.0          1\n",
      "\n",
      "[814 rows x 3 columns]\n",
      "\n",
      "그룹 2\n",
      "---\n",
      "          median_income  median_house_value income_cat\n",
      "district                                              \n",
      "8                2.0804            226700.0          2\n",
      "13               2.6736            191300.0          2\n",
      "14               1.9167            159200.0          2\n",
      "15               2.1250            140000.0          2\n",
      "16               2.7750            152500.0          2\n",
      "...                 ...                 ...        ...\n",
      "19670            1.5603             78100.0          2\n",
      "19671            2.5568             77100.0          2\n",
      "19672            1.7000             92300.0          2\n",
      "19673            1.8672             84700.0          2\n",
      "19674            2.3886             89400.0          2\n",
      "\n",
      "[6552 rows x 3 columns]\n",
      "\n"
     ]
    }
   ],
   "source": [
    "for name, group in stratification:\n",
    "    print(f\"그룹 {name}\")\n",
    "    print(\"---\")\n",
    "    print(group)\n",
    "    print() # 한 칸 띄우기 용도\n",
    "    if name == 2:\n",
    "        break"
   ]
  },
  {
   "cell_type": "markdown",
   "metadata": {
    "id": "S7a1EgHAFKYN"
   },
   "source": [
    "`groupby()` 메서드에 의해 생성된 객체는 `DataFrameGroupBy` 자료형이며,\n",
    "객체에 포함된 각 그룹에 대해 다양한 통계 메서드를 제공한다."
   ]
  },
  {
   "cell_type": "markdown",
   "metadata": {
    "id": "rOvpj7tlFKYN"
   },
   "source": [
    "- `count()` 메서드: 그룹별 도수(항목수) 계산"
   ]
  },
  {
   "cell_type": "code",
   "execution_count": 72,
   "metadata": {
    "colab": {
     "base_uri": "https://localhost:8080/",
     "height": 237
    },
    "executionInfo": {
     "elapsed": 20,
     "status": "ok",
     "timestamp": 1752584674129,
     "user": {
      "displayName": "ter wa",
      "userId": "01448980402448893441"
     },
     "user_tz": -540
    },
    "id": "s3gIt00hFKYN",
    "outputId": "1c3bcca7-25c7-4181-d988-43a01de01b16"
   },
   "outputs": [
    {
     "data": {
      "text/html": [
       "<div>\n",
       "<style scoped>\n",
       "    .dataframe tbody tr th:only-of-type {\n",
       "        vertical-align: middle;\n",
       "    }\n",
       "\n",
       "    .dataframe tbody tr th {\n",
       "        vertical-align: top;\n",
       "    }\n",
       "\n",
       "    .dataframe thead th {\n",
       "        text-align: right;\n",
       "    }\n",
       "</style>\n",
       "<table border=\"1\" class=\"dataframe\">\n",
       "  <thead>\n",
       "    <tr style=\"text-align: right;\">\n",
       "      <th></th>\n",
       "      <th>median_income</th>\n",
       "      <th>median_house_value</th>\n",
       "    </tr>\n",
       "    <tr>\n",
       "      <th>income_cat</th>\n",
       "      <th></th>\n",
       "      <th></th>\n",
       "    </tr>\n",
       "  </thead>\n",
       "  <tbody>\n",
       "    <tr>\n",
       "      <th>1</th>\n",
       "      <td>814</td>\n",
       "      <td>814</td>\n",
       "    </tr>\n",
       "    <tr>\n",
       "      <th>2</th>\n",
       "      <td>6552</td>\n",
       "      <td>6552</td>\n",
       "    </tr>\n",
       "    <tr>\n",
       "      <th>3</th>\n",
       "      <td>7103</td>\n",
       "      <td>7103</td>\n",
       "    </tr>\n",
       "    <tr>\n",
       "      <th>4</th>\n",
       "      <td>3502</td>\n",
       "      <td>3502</td>\n",
       "    </tr>\n",
       "    <tr>\n",
       "      <th>5</th>\n",
       "      <td>1704</td>\n",
       "      <td>1704</td>\n",
       "    </tr>\n",
       "  </tbody>\n",
       "</table>\n",
       "</div>"
      ],
      "text/plain": [
       "            median_income  median_house_value\n",
       "income_cat                                   \n",
       "1                     814                 814\n",
       "2                    6552                6552\n",
       "3                    7103                7103\n",
       "4                    3502                3502\n",
       "5                    1704                1704"
      ]
     },
     "execution_count": 72,
     "metadata": {},
     "output_type": "execute_result"
    }
   ],
   "source": [
    "stratification.count()"
   ]
  },
  {
   "cell_type": "markdown",
   "metadata": {
    "id": "jUwcN3l3FKYN"
   },
   "source": [
    "- `sum()` 메서드: 그룹별 값들의 합 계산"
   ]
  },
  {
   "cell_type": "code",
   "execution_count": 73,
   "metadata": {
    "colab": {
     "base_uri": "https://localhost:8080/",
     "height": 237
    },
    "executionInfo": {
     "elapsed": 6,
     "status": "ok",
     "timestamp": 1752584674137,
     "user": {
      "displayName": "ter wa",
      "userId": "01448980402448893441"
     },
     "user_tz": -540
    },
    "id": "ouXWOr4XFKYN",
    "outputId": "c38f3e1c-25f7-4be6-af2d-ea380213c0c9"
   },
   "outputs": [
    {
     "data": {
      "text/html": [
       "<div>\n",
       "<style scoped>\n",
       "    .dataframe tbody tr th:only-of-type {\n",
       "        vertical-align: middle;\n",
       "    }\n",
       "\n",
       "    .dataframe tbody tr th {\n",
       "        vertical-align: top;\n",
       "    }\n",
       "\n",
       "    .dataframe thead th {\n",
       "        text-align: right;\n",
       "    }\n",
       "</style>\n",
       "<table border=\"1\" class=\"dataframe\">\n",
       "  <thead>\n",
       "    <tr style=\"text-align: right;\">\n",
       "      <th></th>\n",
       "      <th>median_income</th>\n",
       "      <th>median_house_value</th>\n",
       "    </tr>\n",
       "    <tr>\n",
       "      <th>income_cat</th>\n",
       "      <th></th>\n",
       "      <th></th>\n",
       "    </tr>\n",
       "  </thead>\n",
       "  <tbody>\n",
       "    <tr>\n",
       "      <th>1</th>\n",
       "      <td>988.6214</td>\n",
       "      <td>8.816690e+07</td>\n",
       "    </tr>\n",
       "    <tr>\n",
       "      <th>2</th>\n",
       "      <td>15234.0468</td>\n",
       "      <td>8.840968e+08</td>\n",
       "    </tr>\n",
       "    <tr>\n",
       "      <th>3</th>\n",
       "      <td>26161.8582</td>\n",
       "      <td>1.377902e+09</td>\n",
       "    </tr>\n",
       "    <tr>\n",
       "      <th>4</th>\n",
       "      <td>17960.4249</td>\n",
       "      <td>8.714170e+08</td>\n",
       "    </tr>\n",
       "    <tr>\n",
       "      <th>5</th>\n",
       "      <td>11994.4543</td>\n",
       "      <td>5.654208e+08</td>\n",
       "    </tr>\n",
       "  </tbody>\n",
       "</table>\n",
       "</div>"
      ],
      "text/plain": [
       "            median_income  median_house_value\n",
       "income_cat                                   \n",
       "1                988.6214        8.816690e+07\n",
       "2              15234.0468        8.840968e+08\n",
       "3              26161.8582        1.377902e+09\n",
       "4              17960.4249        8.714170e+08\n",
       "5              11994.4543        5.654208e+08"
      ]
     },
     "execution_count": 73,
     "metadata": {},
     "output_type": "execute_result"
    }
   ],
   "source": [
    "stratification.sum()"
   ]
  },
  {
   "cell_type": "markdown",
   "metadata": {
    "id": "9bS6Z4MFFKYN"
   },
   "source": [
    "- `mean()` 메서드: 그룹별 평균값 계산"
   ]
  },
  {
   "cell_type": "code",
   "execution_count": 74,
   "metadata": {
    "colab": {
     "base_uri": "https://localhost:8080/",
     "height": 237
    },
    "executionInfo": {
     "elapsed": 30,
     "status": "ok",
     "timestamp": 1752584674172,
     "user": {
      "displayName": "ter wa",
      "userId": "01448980402448893441"
     },
     "user_tz": -540
    },
    "id": "ljad0_4sFKYN",
    "outputId": "5942960a-6ce1-48ec-a397-0f58da8d8a0a"
   },
   "outputs": [
    {
     "data": {
      "text/html": [
       "<div>\n",
       "<style scoped>\n",
       "    .dataframe tbody tr th:only-of-type {\n",
       "        vertical-align: middle;\n",
       "    }\n",
       "\n",
       "    .dataframe tbody tr th {\n",
       "        vertical-align: top;\n",
       "    }\n",
       "\n",
       "    .dataframe thead th {\n",
       "        text-align: right;\n",
       "    }\n",
       "</style>\n",
       "<table border=\"1\" class=\"dataframe\">\n",
       "  <thead>\n",
       "    <tr style=\"text-align: right;\">\n",
       "      <th></th>\n",
       "      <th>median_income</th>\n",
       "      <th>median_house_value</th>\n",
       "    </tr>\n",
       "    <tr>\n",
       "      <th>income_cat</th>\n",
       "      <th></th>\n",
       "      <th></th>\n",
       "    </tr>\n",
       "  </thead>\n",
       "  <tbody>\n",
       "    <tr>\n",
       "      <th>1</th>\n",
       "      <td>1.214523</td>\n",
       "      <td>108313.143735</td>\n",
       "    </tr>\n",
       "    <tr>\n",
       "      <th>2</th>\n",
       "      <td>2.325099</td>\n",
       "      <td>134935.408730</td>\n",
       "    </tr>\n",
       "    <tr>\n",
       "      <th>3</th>\n",
       "      <td>3.683212</td>\n",
       "      <td>193988.680698</td>\n",
       "    </tr>\n",
       "    <tr>\n",
       "      <th>4</th>\n",
       "      <td>5.128619</td>\n",
       "      <td>248834.094803</td>\n",
       "    </tr>\n",
       "    <tr>\n",
       "      <th>5</th>\n",
       "      <td>7.038999</td>\n",
       "      <td>331819.718310</td>\n",
       "    </tr>\n",
       "  </tbody>\n",
       "</table>\n",
       "</div>"
      ],
      "text/plain": [
       "            median_income  median_house_value\n",
       "income_cat                                   \n",
       "1                1.214523       108313.143735\n",
       "2                2.325099       134935.408730\n",
       "3                3.683212       193988.680698\n",
       "4                5.128619       248834.094803\n",
       "5                7.038999       331819.718310"
      ]
     },
     "execution_count": 74,
     "metadata": {},
     "output_type": "execute_result"
    }
   ],
   "source": [
    "stratification.mean()"
   ]
  },
  {
   "cell_type": "markdown",
   "metadata": {
    "id": "zqOqm3rvFKYN"
   },
   "source": [
    "- `std()` 메서드: 그룹별 표준편차 계산"
   ]
  },
  {
   "cell_type": "code",
   "execution_count": 75,
   "metadata": {
    "colab": {
     "base_uri": "https://localhost:8080/",
     "height": 237
    },
    "executionInfo": {
     "elapsed": 6,
     "status": "ok",
     "timestamp": 1752584674176,
     "user": {
      "displayName": "ter wa",
      "userId": "01448980402448893441"
     },
     "user_tz": -540
    },
    "id": "sPW3L0pRFKYN",
    "outputId": "b4d33dbf-18ce-4fd4-bcaf-536d9d1dabe3"
   },
   "outputs": [
    {
     "data": {
      "text/html": [
       "<div>\n",
       "<style scoped>\n",
       "    .dataframe tbody tr th:only-of-type {\n",
       "        vertical-align: middle;\n",
       "    }\n",
       "\n",
       "    .dataframe tbody tr th {\n",
       "        vertical-align: top;\n",
       "    }\n",
       "\n",
       "    .dataframe thead th {\n",
       "        text-align: right;\n",
       "    }\n",
       "</style>\n",
       "<table border=\"1\" class=\"dataframe\">\n",
       "  <thead>\n",
       "    <tr style=\"text-align: right;\">\n",
       "      <th></th>\n",
       "      <th>median_income</th>\n",
       "      <th>median_house_value</th>\n",
       "    </tr>\n",
       "    <tr>\n",
       "      <th>income_cat</th>\n",
       "      <th></th>\n",
       "      <th></th>\n",
       "    </tr>\n",
       "  </thead>\n",
       "  <tbody>\n",
       "    <tr>\n",
       "      <th>1</th>\n",
       "      <td>0.233626</td>\n",
       "      <td>69314.530601</td>\n",
       "    </tr>\n",
       "    <tr>\n",
       "      <th>2</th>\n",
       "      <td>0.406648</td>\n",
       "      <td>69001.703453</td>\n",
       "    </tr>\n",
       "    <tr>\n",
       "      <th>3</th>\n",
       "      <td>0.426619</td>\n",
       "      <td>81583.050538</td>\n",
       "    </tr>\n",
       "    <tr>\n",
       "      <th>4</th>\n",
       "      <td>0.410023</td>\n",
       "      <td>80596.339192</td>\n",
       "    </tr>\n",
       "    <tr>\n",
       "      <th>5</th>\n",
       "      <td>1.070536</td>\n",
       "      <td>80536.125453</td>\n",
       "    </tr>\n",
       "  </tbody>\n",
       "</table>\n",
       "</div>"
      ],
      "text/plain": [
       "            median_income  median_house_value\n",
       "income_cat                                   \n",
       "1                0.233626        69314.530601\n",
       "2                0.406648        69001.703453\n",
       "3                0.426619        81583.050538\n",
       "4                0.410023        80596.339192\n",
       "5                1.070536        80536.125453"
      ]
     },
     "execution_count": 75,
     "metadata": {},
     "output_type": "execute_result"
    }
   ],
   "source": [
    "stratification.std()"
   ]
  },
  {
   "cell_type": "markdown",
   "metadata": {
    "id": "Xt7447sSFKYN"
   },
   "source": [
    "- `var()` 메서드: 그룹별 분산 계산"
   ]
  },
  {
   "cell_type": "code",
   "execution_count": 76,
   "metadata": {
    "colab": {
     "base_uri": "https://localhost:8080/",
     "height": 237
    },
    "executionInfo": {
     "elapsed": 5,
     "status": "ok",
     "timestamp": 1752584674215,
     "user": {
      "displayName": "ter wa",
      "userId": "01448980402448893441"
     },
     "user_tz": -540
    },
    "id": "HGvM8rX2FKYN",
    "outputId": "176ece04-033f-4793-e223-fd2d7332368f"
   },
   "outputs": [
    {
     "data": {
      "text/html": [
       "<div>\n",
       "<style scoped>\n",
       "    .dataframe tbody tr th:only-of-type {\n",
       "        vertical-align: middle;\n",
       "    }\n",
       "\n",
       "    .dataframe tbody tr th {\n",
       "        vertical-align: top;\n",
       "    }\n",
       "\n",
       "    .dataframe thead th {\n",
       "        text-align: right;\n",
       "    }\n",
       "</style>\n",
       "<table border=\"1\" class=\"dataframe\">\n",
       "  <thead>\n",
       "    <tr style=\"text-align: right;\">\n",
       "      <th></th>\n",
       "      <th>median_income</th>\n",
       "      <th>median_house_value</th>\n",
       "    </tr>\n",
       "    <tr>\n",
       "      <th>income_cat</th>\n",
       "      <th></th>\n",
       "      <th></th>\n",
       "    </tr>\n",
       "  </thead>\n",
       "  <tbody>\n",
       "    <tr>\n",
       "      <th>1</th>\n",
       "      <td>0.054581</td>\n",
       "      <td>4.804504e+09</td>\n",
       "    </tr>\n",
       "    <tr>\n",
       "      <th>2</th>\n",
       "      <td>0.165363</td>\n",
       "      <td>4.761235e+09</td>\n",
       "    </tr>\n",
       "    <tr>\n",
       "      <th>3</th>\n",
       "      <td>0.182003</td>\n",
       "      <td>6.655794e+09</td>\n",
       "    </tr>\n",
       "    <tr>\n",
       "      <th>4</th>\n",
       "      <td>0.168119</td>\n",
       "      <td>6.495770e+09</td>\n",
       "    </tr>\n",
       "    <tr>\n",
       "      <th>5</th>\n",
       "      <td>1.146047</td>\n",
       "      <td>6.486068e+09</td>\n",
       "    </tr>\n",
       "  </tbody>\n",
       "</table>\n",
       "</div>"
      ],
      "text/plain": [
       "            median_income  median_house_value\n",
       "income_cat                                   \n",
       "1                0.054581        4.804504e+09\n",
       "2                0.165363        4.761235e+09\n",
       "3                0.182003        6.655794e+09\n",
       "4                0.168119        6.495770e+09\n",
       "5                1.146047        6.486068e+09"
      ]
     },
     "execution_count": 76,
     "metadata": {},
     "output_type": "execute_result"
    }
   ],
   "source": [
    "stratification.var()"
   ]
  },
  {
   "cell_type": "markdown",
   "metadata": {
    "id": "NRCqCOx7FKYN"
   },
   "source": [
    "**`apply()` 메서드**"
   ]
  },
  {
   "cell_type": "markdown",
   "metadata": {
    "id": "Wb5bKkVgFKYN"
   },
   "source": [
    "`DataFrameGroupBy` 자료형이 제공하지 않는 그룹별 연산을 하려면 `apply()` 메서드를 이용한다.\n",
    "\n",
    "예를 들어, 아래 코드는 각 그룹별로 1%의 샘플을 무작위로 추출한다.\n",
    "- 인자로 지정된 아래의 lambda 함수는 매개변수 `y`에 각 그룹 객체(데이터프레임)를 받아서, 그 그룹 내에서 1% 크기의 표본을 무작위로 추출한다.\n",
    "\n",
    "    ```python\n",
    "    lambda y:y.sample(frac=0.01, random_state=42)\n",
    "    ```\n",
    "    \n",
    "- `include_groups=False` 인자는 `apply()` 메서드가 반환하는 데이터프레임에 그룹 키가 인덱스로 별도로 추가되는 것을 방지한다. 현재까지의 판다스 버전에서는 기본값이 `True`로 설정되어 있기 때문이다."
   ]
  },
  {
   "cell_type": "code",
   "execution_count": 77,
   "metadata": {
    "colab": {
     "base_uri": "https://localhost:8080/",
     "height": 455
    },
    "executionInfo": {
     "elapsed": 24,
     "status": "ok",
     "timestamp": 1752584674240,
     "user": {
      "displayName": "ter wa",
      "userId": "01448980402448893441"
     },
     "user_tz": -540
    },
    "id": "2gFdZ1azFKYO",
    "outputId": "711e9f8f-b387-48c0-cdfb-e8738de38766"
   },
   "outputs": [
    {
     "data": {
      "text/html": [
       "<div>\n",
       "<style scoped>\n",
       "    .dataframe tbody tr th:only-of-type {\n",
       "        vertical-align: middle;\n",
       "    }\n",
       "\n",
       "    .dataframe tbody tr th {\n",
       "        vertical-align: top;\n",
       "    }\n",
       "\n",
       "    .dataframe thead th {\n",
       "        text-align: right;\n",
       "    }\n",
       "</style>\n",
       "<table border=\"1\" class=\"dataframe\">\n",
       "  <thead>\n",
       "    <tr style=\"text-align: right;\">\n",
       "      <th></th>\n",
       "      <th></th>\n",
       "      <th>median_income</th>\n",
       "      <th>median_house_value</th>\n",
       "    </tr>\n",
       "    <tr>\n",
       "      <th>income_cat</th>\n",
       "      <th>district</th>\n",
       "      <th></th>\n",
       "      <th></th>\n",
       "    </tr>\n",
       "  </thead>\n",
       "  <tbody>\n",
       "    <tr>\n",
       "      <th rowspan=\"5\" valign=\"top\">1</th>\n",
       "      <th>4388</th>\n",
       "      <td>1.1868</td>\n",
       "      <td>93800.0</td>\n",
       "    </tr>\n",
       "    <tr>\n",
       "      <th>13310</th>\n",
       "      <td>1.3811</td>\n",
       "      <td>51300.0</td>\n",
       "    </tr>\n",
       "    <tr>\n",
       "      <th>3262</th>\n",
       "      <td>1.1650</td>\n",
       "      <td>53300.0</td>\n",
       "    </tr>\n",
       "    <tr>\n",
       "      <th>4752</th>\n",
       "      <td>0.9234</td>\n",
       "      <td>187500.0</td>\n",
       "    </tr>\n",
       "    <tr>\n",
       "      <th>12210</th>\n",
       "      <td>1.4861</td>\n",
       "      <td>63100.0</td>\n",
       "    </tr>\n",
       "    <tr>\n",
       "      <th>...</th>\n",
       "      <th>...</th>\n",
       "      <td>...</td>\n",
       "      <td>...</td>\n",
       "    </tr>\n",
       "    <tr>\n",
       "      <th rowspan=\"5\" valign=\"top\">5</th>\n",
       "      <th>1334</th>\n",
       "      <td>6.0497</td>\n",
       "      <td>177500.0</td>\n",
       "    </tr>\n",
       "    <tr>\n",
       "      <th>10235</th>\n",
       "      <td>7.8496</td>\n",
       "      <td>490800.0</td>\n",
       "    </tr>\n",
       "    <tr>\n",
       "      <th>3986</th>\n",
       "      <td>6.1274</td>\n",
       "      <td>315900.0</td>\n",
       "    </tr>\n",
       "    <tr>\n",
       "      <th>8559</th>\n",
       "      <td>6.4310</td>\n",
       "      <td>492500.0</td>\n",
       "    </tr>\n",
       "    <tr>\n",
       "      <th>8728</th>\n",
       "      <td>7.6059</td>\n",
       "      <td>323700.0</td>\n",
       "    </tr>\n",
       "  </tbody>\n",
       "</table>\n",
       "<p>197 rows × 2 columns</p>\n",
       "</div>"
      ],
      "text/plain": [
       "                     median_income  median_house_value\n",
       "income_cat district                                   \n",
       "1          4388             1.1868             93800.0\n",
       "           13310            1.3811             51300.0\n",
       "           3262             1.1650             53300.0\n",
       "           4752             0.9234            187500.0\n",
       "           12210            1.4861             63100.0\n",
       "...                            ...                 ...\n",
       "5          1334             6.0497            177500.0\n",
       "           10235            7.8496            490800.0\n",
       "           3986             6.1274            315900.0\n",
       "           8559             6.4310            492500.0\n",
       "           8728             7.6059            323700.0\n",
       "\n",
       "[197 rows x 2 columns]"
      ]
     },
     "execution_count": 77,
     "metadata": {},
     "output_type": "execute_result"
    }
   ],
   "source": [
    "stratified_sampling = stratification.apply(lambda y:y.sample(frac=0.01, random_state=42), include_groups=False)\n",
    "stratified_sampling"
   ]
  },
  {
   "cell_type": "markdown",
   "metadata": {
    "id": "SG8VsrlDnemp"
   },
   "source": [
    ":::{admonition} lambda 함수\n",
    ":class: note\n",
    "\n",
    "Python에서 lambda 함수는 작고 익명인 함수를 만들 때 사용된다. 일반적으로 한 줄로 간단한 연산을 수행하는 함수를 정의할 때 유용하며, 특히 map(), filter(), sorted()와 같은 함수나 판다스의 apply(), groupby() 등과 함께 사용하여 데이터를 효율적으로 처리할 때 많이 활용된다.\n",
    "\n",
    "lambda 함수의 기본 문법은\n",
    "`lambda 매개변수: 수행할 연산의 표현식`이며, 이 표현식의 결과가 함수의 반환값이다.\n",
    ":::"
   ]
  },
  {
   "cell_type": "markdown",
   "metadata": {
    "id": "FODIZP9gFKYO"
   },
   "source": [
    "`apply()` 메서드의 출력 결과를 보면, 총 1,966개 구역의 층화표집된 데이터를 담은 데이터프레임이 새로 생성되었으며,\n",
    "기존 인덱스였던 `district` 외에도 데이터가 속한 가구소득 범주 `income_cat`도 인덱스로 간주되고 있음을 알 수 있다. 여기서는 `income_cat`를 인덱스보다는 일반 특성으로 사용하는 것이 자연스럽다.\n",
    "아래 코드는 `reset_index()` 메서드를 이용하여\n",
    "특정 인덱스를 특성으로 변환시키는 코드를 보여준다.\n",
    "`level`이라는 인자로 변환시키고자 하는 인덱스를 구분하는데, 레벨값은 가장 왼편에 위치한 인덱스부터 0, 1, 2, 등으로 지정된다."
   ]
  },
  {
   "cell_type": "code",
   "execution_count": 78,
   "metadata": {
    "colab": {
     "base_uri": "https://localhost:8080/",
     "height": 455
    },
    "executionInfo": {
     "elapsed": 29,
     "status": "ok",
     "timestamp": 1752584674273,
     "user": {
      "displayName": "ter wa",
      "userId": "01448980402448893441"
     },
     "user_tz": -540
    },
    "id": "N6dOnO07FKYO",
    "outputId": "264be3e2-7d13-40b5-a7ec-2dfa78d506a2"
   },
   "outputs": [
    {
     "data": {
      "text/html": [
       "<div>\n",
       "<style scoped>\n",
       "    .dataframe tbody tr th:only-of-type {\n",
       "        vertical-align: middle;\n",
       "    }\n",
       "\n",
       "    .dataframe tbody tr th {\n",
       "        vertical-align: top;\n",
       "    }\n",
       "\n",
       "    .dataframe thead th {\n",
       "        text-align: right;\n",
       "    }\n",
       "</style>\n",
       "<table border=\"1\" class=\"dataframe\">\n",
       "  <thead>\n",
       "    <tr style=\"text-align: right;\">\n",
       "      <th></th>\n",
       "      <th>income_cat</th>\n",
       "      <th>median_income</th>\n",
       "      <th>median_house_value</th>\n",
       "    </tr>\n",
       "    <tr>\n",
       "      <th>district</th>\n",
       "      <th></th>\n",
       "      <th></th>\n",
       "      <th></th>\n",
       "    </tr>\n",
       "  </thead>\n",
       "  <tbody>\n",
       "    <tr>\n",
       "      <th>4388</th>\n",
       "      <td>1</td>\n",
       "      <td>1.1868</td>\n",
       "      <td>93800.0</td>\n",
       "    </tr>\n",
       "    <tr>\n",
       "      <th>13310</th>\n",
       "      <td>1</td>\n",
       "      <td>1.3811</td>\n",
       "      <td>51300.0</td>\n",
       "    </tr>\n",
       "    <tr>\n",
       "      <th>3262</th>\n",
       "      <td>1</td>\n",
       "      <td>1.1650</td>\n",
       "      <td>53300.0</td>\n",
       "    </tr>\n",
       "    <tr>\n",
       "      <th>4752</th>\n",
       "      <td>1</td>\n",
       "      <td>0.9234</td>\n",
       "      <td>187500.0</td>\n",
       "    </tr>\n",
       "    <tr>\n",
       "      <th>12210</th>\n",
       "      <td>1</td>\n",
       "      <td>1.4861</td>\n",
       "      <td>63100.0</td>\n",
       "    </tr>\n",
       "    <tr>\n",
       "      <th>...</th>\n",
       "      <td>...</td>\n",
       "      <td>...</td>\n",
       "      <td>...</td>\n",
       "    </tr>\n",
       "    <tr>\n",
       "      <th>1334</th>\n",
       "      <td>5</td>\n",
       "      <td>6.0497</td>\n",
       "      <td>177500.0</td>\n",
       "    </tr>\n",
       "    <tr>\n",
       "      <th>10235</th>\n",
       "      <td>5</td>\n",
       "      <td>7.8496</td>\n",
       "      <td>490800.0</td>\n",
       "    </tr>\n",
       "    <tr>\n",
       "      <th>3986</th>\n",
       "      <td>5</td>\n",
       "      <td>6.1274</td>\n",
       "      <td>315900.0</td>\n",
       "    </tr>\n",
       "    <tr>\n",
       "      <th>8559</th>\n",
       "      <td>5</td>\n",
       "      <td>6.4310</td>\n",
       "      <td>492500.0</td>\n",
       "    </tr>\n",
       "    <tr>\n",
       "      <th>8728</th>\n",
       "      <td>5</td>\n",
       "      <td>7.6059</td>\n",
       "      <td>323700.0</td>\n",
       "    </tr>\n",
       "  </tbody>\n",
       "</table>\n",
       "<p>197 rows × 3 columns</p>\n",
       "</div>"
      ],
      "text/plain": [
       "         income_cat  median_income  median_house_value\n",
       "district                                              \n",
       "4388              1         1.1868             93800.0\n",
       "13310             1         1.3811             51300.0\n",
       "3262              1         1.1650             53300.0\n",
       "4752              1         0.9234            187500.0\n",
       "12210             1         1.4861             63100.0\n",
       "...             ...            ...                 ...\n",
       "1334              5         6.0497            177500.0\n",
       "10235             5         7.8496            490800.0\n",
       "3986              5         6.1274            315900.0\n",
       "8559              5         6.4310            492500.0\n",
       "8728              5         7.6059            323700.0\n",
       "\n",
       "[197 rows x 3 columns]"
      ]
     },
     "execution_count": 78,
     "metadata": {},
     "output_type": "execute_result"
    }
   ],
   "source": [
    "stratified_sampling = stratified_sampling.reset_index(level=0)\n",
    "stratified_sampling"
   ]
  },
  {
   "cell_type": "markdown",
   "metadata": {
    "id": "emd2zIvnFKYO"
   },
   "source": [
    "가구소득 범주인 `income_cat`이 일반 특성(열)로 변경되었음을 알 수 있다. 반드시 필요한 일은 아니지만\n",
    "이전 데이터프레임과의 형식을 맞추기 위해 `income_cat` 특성을 오른쪽 끝으로 보내기로 하자."
   ]
  },
  {
   "cell_type": "code",
   "execution_count": 79,
   "metadata": {
    "colab": {
     "base_uri": "https://localhost:8080/",
     "height": 455
    },
    "executionInfo": {
     "elapsed": 31,
     "status": "ok",
     "timestamp": 1752584674305,
     "user": {
      "displayName": "ter wa",
      "userId": "01448980402448893441"
     },
     "user_tz": -540
    },
    "id": "bJIlj6E5FKYO",
    "outputId": "e638042a-a7a8-48aa-ce9e-a99daca4d8dd"
   },
   "outputs": [
    {
     "data": {
      "text/html": [
       "<div>\n",
       "<style scoped>\n",
       "    .dataframe tbody tr th:only-of-type {\n",
       "        vertical-align: middle;\n",
       "    }\n",
       "\n",
       "    .dataframe tbody tr th {\n",
       "        vertical-align: top;\n",
       "    }\n",
       "\n",
       "    .dataframe thead th {\n",
       "        text-align: right;\n",
       "    }\n",
       "</style>\n",
       "<table border=\"1\" class=\"dataframe\">\n",
       "  <thead>\n",
       "    <tr style=\"text-align: right;\">\n",
       "      <th></th>\n",
       "      <th>median_income</th>\n",
       "      <th>median_house_value</th>\n",
       "      <th>income_cat</th>\n",
       "    </tr>\n",
       "    <tr>\n",
       "      <th>district</th>\n",
       "      <th></th>\n",
       "      <th></th>\n",
       "      <th></th>\n",
       "    </tr>\n",
       "  </thead>\n",
       "  <tbody>\n",
       "    <tr>\n",
       "      <th>4388</th>\n",
       "      <td>1.1868</td>\n",
       "      <td>93800.0</td>\n",
       "      <td>1</td>\n",
       "    </tr>\n",
       "    <tr>\n",
       "      <th>13310</th>\n",
       "      <td>1.3811</td>\n",
       "      <td>51300.0</td>\n",
       "      <td>1</td>\n",
       "    </tr>\n",
       "    <tr>\n",
       "      <th>3262</th>\n",
       "      <td>1.1650</td>\n",
       "      <td>53300.0</td>\n",
       "      <td>1</td>\n",
       "    </tr>\n",
       "    <tr>\n",
       "      <th>4752</th>\n",
       "      <td>0.9234</td>\n",
       "      <td>187500.0</td>\n",
       "      <td>1</td>\n",
       "    </tr>\n",
       "    <tr>\n",
       "      <th>12210</th>\n",
       "      <td>1.4861</td>\n",
       "      <td>63100.0</td>\n",
       "      <td>1</td>\n",
       "    </tr>\n",
       "    <tr>\n",
       "      <th>...</th>\n",
       "      <td>...</td>\n",
       "      <td>...</td>\n",
       "      <td>...</td>\n",
       "    </tr>\n",
       "    <tr>\n",
       "      <th>1334</th>\n",
       "      <td>6.0497</td>\n",
       "      <td>177500.0</td>\n",
       "      <td>5</td>\n",
       "    </tr>\n",
       "    <tr>\n",
       "      <th>10235</th>\n",
       "      <td>7.8496</td>\n",
       "      <td>490800.0</td>\n",
       "      <td>5</td>\n",
       "    </tr>\n",
       "    <tr>\n",
       "      <th>3986</th>\n",
       "      <td>6.1274</td>\n",
       "      <td>315900.0</td>\n",
       "      <td>5</td>\n",
       "    </tr>\n",
       "    <tr>\n",
       "      <th>8559</th>\n",
       "      <td>6.4310</td>\n",
       "      <td>492500.0</td>\n",
       "      <td>5</td>\n",
       "    </tr>\n",
       "    <tr>\n",
       "      <th>8728</th>\n",
       "      <td>7.6059</td>\n",
       "      <td>323700.0</td>\n",
       "      <td>5</td>\n",
       "    </tr>\n",
       "  </tbody>\n",
       "</table>\n",
       "<p>197 rows × 3 columns</p>\n",
       "</div>"
      ],
      "text/plain": [
       "          median_income  median_house_value income_cat\n",
       "district                                              \n",
       "4388             1.1868             93800.0          1\n",
       "13310            1.3811             51300.0          1\n",
       "3262             1.1650             53300.0          1\n",
       "4752             0.9234            187500.0          1\n",
       "12210            1.4861             63100.0          1\n",
       "...                 ...                 ...        ...\n",
       "1334             6.0497            177500.0          5\n",
       "10235            7.8496            490800.0          5\n",
       "3986             6.1274            315900.0          5\n",
       "8559             6.4310            492500.0          5\n",
       "8728             7.6059            323700.0          5\n",
       "\n",
       "[197 rows x 3 columns]"
      ]
     },
     "execution_count": 79,
     "metadata": {},
     "output_type": "execute_result"
    }
   ],
   "source": [
    "stratified_sampling = stratified_sampling[['median_income', 'median_house_value', 'income_cat']]\n",
    "stratified_sampling"
   ]
  },
  {
   "cell_type": "markdown",
   "metadata": {
    "id": "517RsDJ0FKYO"
   },
   "source": [
    "아래 코드는 표본추출 결과를 가구소득 범주별로 그룹화한 후, 구간별로 선택된 샘플의 개수를 확인한다."
   ]
  },
  {
   "cell_type": "code",
   "execution_count": 80,
   "metadata": {
    "colab": {
     "base_uri": "https://localhost:8080/",
     "height": 237
    },
    "executionInfo": {
     "elapsed": 27,
     "status": "ok",
     "timestamp": 1752584674326,
     "user": {
      "displayName": "ter wa",
      "userId": "01448980402448893441"
     },
     "user_tz": -540
    },
    "id": "sKZYbUm1FKYO",
    "outputId": "d80e85a9-d5c2-470a-83ac-975063467f0a"
   },
   "outputs": [
    {
     "data": {
      "text/html": [
       "<div>\n",
       "<style scoped>\n",
       "    .dataframe tbody tr th:only-of-type {\n",
       "        vertical-align: middle;\n",
       "    }\n",
       "\n",
       "    .dataframe tbody tr th {\n",
       "        vertical-align: top;\n",
       "    }\n",
       "\n",
       "    .dataframe thead th {\n",
       "        text-align: right;\n",
       "    }\n",
       "</style>\n",
       "<table border=\"1\" class=\"dataframe\">\n",
       "  <thead>\n",
       "    <tr style=\"text-align: right;\">\n",
       "      <th></th>\n",
       "      <th>median_income</th>\n",
       "      <th>median_house_value</th>\n",
       "    </tr>\n",
       "    <tr>\n",
       "      <th>income_cat</th>\n",
       "      <th></th>\n",
       "      <th></th>\n",
       "    </tr>\n",
       "  </thead>\n",
       "  <tbody>\n",
       "    <tr>\n",
       "      <th>1</th>\n",
       "      <td>8</td>\n",
       "      <td>8</td>\n",
       "    </tr>\n",
       "    <tr>\n",
       "      <th>2</th>\n",
       "      <td>66</td>\n",
       "      <td>66</td>\n",
       "    </tr>\n",
       "    <tr>\n",
       "      <th>3</th>\n",
       "      <td>71</td>\n",
       "      <td>71</td>\n",
       "    </tr>\n",
       "    <tr>\n",
       "      <th>4</th>\n",
       "      <td>35</td>\n",
       "      <td>35</td>\n",
       "    </tr>\n",
       "    <tr>\n",
       "      <th>5</th>\n",
       "      <td>17</td>\n",
       "      <td>17</td>\n",
       "    </tr>\n",
       "  </tbody>\n",
       "</table>\n",
       "</div>"
      ],
      "text/plain": [
       "            median_income  median_house_value\n",
       "income_cat                                   \n",
       "1                       8                   8\n",
       "2                      66                  66\n",
       "3                      71                  71\n",
       "4                      35                  35\n",
       "5                      17                  17"
      ]
     },
     "execution_count": 80,
     "metadata": {},
     "output_type": "execute_result"
    }
   ],
   "source": [
    "stratified_sampling_count = stratified_sampling.groupby('income_cat', observed=False).count()\n",
    "stratified_sampling_count"
   ]
  },
  {
   "cell_type": "markdown",
   "metadata": {
    "id": "FjNtWOy_FKYO"
   },
   "source": [
    "각 구간별 도수를 보면 정확히 모집단의 구간별 도수의 1%(소숫점 이하 절사)만큼 샘플링된 것이 확인된다."
   ]
  },
  {
   "cell_type": "code",
   "execution_count": 81,
   "metadata": {
    "colab": {
     "base_uri": "https://localhost:8080/",
     "height": 237
    },
    "executionInfo": {
     "elapsed": 48,
     "status": "ok",
     "timestamp": 1752584674375,
     "user": {
      "displayName": "ter wa",
      "userId": "01448980402448893441"
     },
     "user_tz": -540
    },
    "id": "4g8a4gbAFKYO",
    "outputId": "0be5e2b7-107b-4e0f-f1ff-d3c8632bb237"
   },
   "outputs": [
    {
     "data": {
      "text/html": [
       "<div>\n",
       "<style scoped>\n",
       "    .dataframe tbody tr th:only-of-type {\n",
       "        vertical-align: middle;\n",
       "    }\n",
       "\n",
       "    .dataframe tbody tr th {\n",
       "        vertical-align: top;\n",
       "    }\n",
       "\n",
       "    .dataframe thead th {\n",
       "        text-align: right;\n",
       "    }\n",
       "</style>\n",
       "<table border=\"1\" class=\"dataframe\">\n",
       "  <thead>\n",
       "    <tr style=\"text-align: right;\">\n",
       "      <th></th>\n",
       "      <th>median_income</th>\n",
       "      <th>median_house_value</th>\n",
       "    </tr>\n",
       "    <tr>\n",
       "      <th>income_cat</th>\n",
       "      <th></th>\n",
       "      <th></th>\n",
       "    </tr>\n",
       "  </thead>\n",
       "  <tbody>\n",
       "    <tr>\n",
       "      <th>1</th>\n",
       "      <td>814</td>\n",
       "      <td>814</td>\n",
       "    </tr>\n",
       "    <tr>\n",
       "      <th>2</th>\n",
       "      <td>6552</td>\n",
       "      <td>6552</td>\n",
       "    </tr>\n",
       "    <tr>\n",
       "      <th>3</th>\n",
       "      <td>7103</td>\n",
       "      <td>7103</td>\n",
       "    </tr>\n",
       "    <tr>\n",
       "      <th>4</th>\n",
       "      <td>3502</td>\n",
       "      <td>3502</td>\n",
       "    </tr>\n",
       "    <tr>\n",
       "      <th>5</th>\n",
       "      <td>1704</td>\n",
       "      <td>1704</td>\n",
       "    </tr>\n",
       "  </tbody>\n",
       "</table>\n",
       "</div>"
      ],
      "text/plain": [
       "            median_income  median_house_value\n",
       "income_cat                                   \n",
       "1                     814                 814\n",
       "2                    6552                6552\n",
       "3                    7103                7103\n",
       "4                    3502                3502\n",
       "5                    1704                1704"
      ]
     },
     "execution_count": 81,
     "metadata": {},
     "output_type": "execute_result"
    }
   ],
   "source": [
    "stratified_count = stratification.count()\n",
    "stratified_count"
   ]
  },
  {
   "cell_type": "markdown",
   "metadata": {
    "id": "a7U4dVENFKYO"
   },
   "source": [
    "### 무작위 추출 vs 층화표집"
   ]
  },
  {
   "cell_type": "markdown",
   "metadata": {
    "id": "aTm4yA3TFKYO"
   },
   "source": [
    "이제 무작위 추출과 층화표집간의 통계적 차이를 확인하자. 무작위 추출된 표본을 만들기 위해, 가구소득 범주를 무시하고 무작위 추출을 진행해서 크기 1,968인 표본을 생성한다."
   ]
  },
  {
   "cell_type": "code",
   "execution_count": 82,
   "metadata": {
    "colab": {
     "base_uri": "https://localhost:8080/",
     "height": 455
    },
    "executionInfo": {
     "elapsed": 38,
     "status": "ok",
     "timestamp": 1752584674411,
     "user": {
      "displayName": "ter wa",
      "userId": "01448980402448893441"
     },
     "user_tz": -540
    },
    "id": "HejgR_lhFKYO",
    "outputId": "45e87ef6-8dd7-4285-dc23-80a164c208c7"
   },
   "outputs": [
    {
     "data": {
      "text/html": [
       "<div>\n",
       "<style scoped>\n",
       "    .dataframe tbody tr th:only-of-type {\n",
       "        vertical-align: middle;\n",
       "    }\n",
       "\n",
       "    .dataframe tbody tr th {\n",
       "        vertical-align: top;\n",
       "    }\n",
       "\n",
       "    .dataframe thead th {\n",
       "        text-align: right;\n",
       "    }\n",
       "</style>\n",
       "<table border=\"1\" class=\"dataframe\">\n",
       "  <thead>\n",
       "    <tr style=\"text-align: right;\">\n",
       "      <th></th>\n",
       "      <th>median_income</th>\n",
       "      <th>median_house_value</th>\n",
       "      <th>income_cat</th>\n",
       "    </tr>\n",
       "    <tr>\n",
       "      <th>district</th>\n",
       "      <th></th>\n",
       "      <th></th>\n",
       "      <th></th>\n",
       "    </tr>\n",
       "  </thead>\n",
       "  <tbody>\n",
       "    <tr>\n",
       "      <th>14447</th>\n",
       "      <td>1.8357</td>\n",
       "      <td>104200.0</td>\n",
       "      <td>2</td>\n",
       "    </tr>\n",
       "    <tr>\n",
       "      <th>13921</th>\n",
       "      <td>4.2109</td>\n",
       "      <td>171200.0</td>\n",
       "      <td>3</td>\n",
       "    </tr>\n",
       "    <tr>\n",
       "      <th>12981</th>\n",
       "      <td>4.0481</td>\n",
       "      <td>97300.0</td>\n",
       "      <td>3</td>\n",
       "    </tr>\n",
       "    <tr>\n",
       "      <th>2579</th>\n",
       "      <td>3.5380</td>\n",
       "      <td>102700.0</td>\n",
       "      <td>3</td>\n",
       "    </tr>\n",
       "    <tr>\n",
       "      <th>12162</th>\n",
       "      <td>2.2000</td>\n",
       "      <td>116500.0</td>\n",
       "      <td>2</td>\n",
       "    </tr>\n",
       "    <tr>\n",
       "      <th>...</th>\n",
       "      <td>...</td>\n",
       "      <td>...</td>\n",
       "      <td>...</td>\n",
       "    </tr>\n",
       "    <tr>\n",
       "      <th>6415</th>\n",
       "      <td>3.3750</td>\n",
       "      <td>260400.0</td>\n",
       "      <td>3</td>\n",
       "    </tr>\n",
       "    <tr>\n",
       "      <th>218</th>\n",
       "      <td>2.8750</td>\n",
       "      <td>143800.0</td>\n",
       "      <td>2</td>\n",
       "    </tr>\n",
       "    <tr>\n",
       "      <th>18090</th>\n",
       "      <td>3.2768</td>\n",
       "      <td>117600.0</td>\n",
       "      <td>3</td>\n",
       "    </tr>\n",
       "    <tr>\n",
       "      <th>1712</th>\n",
       "      <td>3.5463</td>\n",
       "      <td>130800.0</td>\n",
       "      <td>3</td>\n",
       "    </tr>\n",
       "    <tr>\n",
       "      <th>5144</th>\n",
       "      <td>3.7813</td>\n",
       "      <td>336300.0</td>\n",
       "      <td>3</td>\n",
       "    </tr>\n",
       "  </tbody>\n",
       "</table>\n",
       "<p>197 rows × 3 columns</p>\n",
       "</div>"
      ],
      "text/plain": [
       "          median_income  median_house_value income_cat\n",
       "district                                              \n",
       "14447            1.8357            104200.0          2\n",
       "13921            4.2109            171200.0          3\n",
       "12981            4.0481             97300.0          3\n",
       "2579             3.5380            102700.0          3\n",
       "12162            2.2000            116500.0          2\n",
       "...                 ...                 ...        ...\n",
       "6415             3.3750            260400.0          3\n",
       "218              2.8750            143800.0          2\n",
       "18090            3.2768            117600.0          3\n",
       "1712             3.5463            130800.0          3\n",
       "5144             3.7813            336300.0          3\n",
       "\n",
       "[197 rows x 3 columns]"
      ]
     },
     "execution_count": 82,
     "metadata": {},
     "output_type": "execute_result"
    }
   ],
   "source": [
    "random_sampling = housing.sample(frac=0.01, random_state=42)\n",
    "random_sampling"
   ]
  },
  {
   "cell_type": "markdown",
   "metadata": {
    "id": "-QGCshGsFKYO"
   },
   "source": [
    "가구소득 범주별로 샘플의 개수를 확인한다."
   ]
  },
  {
   "cell_type": "code",
   "execution_count": 83,
   "metadata": {
    "colab": {
     "base_uri": "https://localhost:8080/",
     "height": 237
    },
    "executionInfo": {
     "elapsed": 3,
     "status": "ok",
     "timestamp": 1752584674415,
     "user": {
      "displayName": "ter wa",
      "userId": "01448980402448893441"
     },
     "user_tz": -540
    },
    "id": "qcHZ0m0-FKYO",
    "outputId": "f9cace27-f2a2-462f-eb2e-914db2a927be"
   },
   "outputs": [
    {
     "data": {
      "text/html": [
       "<div>\n",
       "<style scoped>\n",
       "    .dataframe tbody tr th:only-of-type {\n",
       "        vertical-align: middle;\n",
       "    }\n",
       "\n",
       "    .dataframe tbody tr th {\n",
       "        vertical-align: top;\n",
       "    }\n",
       "\n",
       "    .dataframe thead th {\n",
       "        text-align: right;\n",
       "    }\n",
       "</style>\n",
       "<table border=\"1\" class=\"dataframe\">\n",
       "  <thead>\n",
       "    <tr style=\"text-align: right;\">\n",
       "      <th></th>\n",
       "      <th>median_income</th>\n",
       "      <th>median_house_value</th>\n",
       "    </tr>\n",
       "    <tr>\n",
       "      <th>income_cat</th>\n",
       "      <th></th>\n",
       "      <th></th>\n",
       "    </tr>\n",
       "  </thead>\n",
       "  <tbody>\n",
       "    <tr>\n",
       "      <th>1</th>\n",
       "      <td>6</td>\n",
       "      <td>6</td>\n",
       "    </tr>\n",
       "    <tr>\n",
       "      <th>2</th>\n",
       "      <td>67</td>\n",
       "      <td>67</td>\n",
       "    </tr>\n",
       "    <tr>\n",
       "      <th>3</th>\n",
       "      <td>64</td>\n",
       "      <td>64</td>\n",
       "    </tr>\n",
       "    <tr>\n",
       "      <th>4</th>\n",
       "      <td>39</td>\n",
       "      <td>39</td>\n",
       "    </tr>\n",
       "    <tr>\n",
       "      <th>5</th>\n",
       "      <td>21</td>\n",
       "      <td>21</td>\n",
       "    </tr>\n",
       "  </tbody>\n",
       "</table>\n",
       "</div>"
      ],
      "text/plain": [
       "            median_income  median_house_value\n",
       "income_cat                                   \n",
       "1                       6                   6\n",
       "2                      67                  67\n",
       "3                      64                  64\n",
       "4                      39                  39\n",
       "5                      21                  21"
      ]
     },
     "execution_count": 83,
     "metadata": {},
     "output_type": "execute_result"
    }
   ],
   "source": [
    "random_sampling_count = random_sampling.groupby('income_cat', observed=False).count()\n",
    "random_sampling_count"
   ]
  },
  {
   "cell_type": "markdown",
   "metadata": {
    "id": "M3PYvwQJFKYO"
   },
   "source": [
    "**상대도수와 분산 비교**"
   ]
  },
  {
   "cell_type": "markdown",
   "metadata": {
    "id": "34Mi6tpJFKYO"
   },
   "source": [
    "먼저, 가구소득 범주별 상대도수를 기준으로 무작위 추출과 층화표집을 비교한다."
   ]
  },
  {
   "cell_type": "markdown",
   "metadata": {
    "id": "Emvr-yXHFKYO"
   },
   "source": [
    "- 두 표본의 크기: 무작위 추출의 경우는 정확히 모집단의 1%(소수점 이하 절사)이고, 층화표집은 5개 가구소득 구간으로 분류한 후에 구간별로 1%를 추출했으므로 전체의 1%보다 약간 작다."
   ]
  },
  {
   "cell_type": "code",
   "execution_count": 84,
   "metadata": {
    "colab": {
     "base_uri": "https://localhost:8080/",
     "height": 147
    },
    "executionInfo": {
     "elapsed": 6,
     "status": "ok",
     "timestamp": 1752584674422,
     "user": {
      "displayName": "ter wa",
      "userId": "01448980402448893441"
     },
     "user_tz": -540
    },
    "id": "DqgiYCSIFKYP",
    "outputId": "ede40d16-36c0-47c5-a0ed-77a9d40cc009"
   },
   "outputs": [
    {
     "data": {
      "text/plain": [
       "median_income         197\n",
       "median_house_value    197\n",
       "dtype: int64"
      ]
     },
     "execution_count": 84,
     "metadata": {},
     "output_type": "execute_result"
    }
   ],
   "source": [
    "random_total = random_sampling_count.sum()\n",
    "random_total"
   ]
  },
  {
   "cell_type": "code",
   "execution_count": 85,
   "metadata": {
    "colab": {
     "base_uri": "https://localhost:8080/",
     "height": 147
    },
    "executionInfo": {
     "elapsed": 35,
     "status": "ok",
     "timestamp": 1752584674454,
     "user": {
      "displayName": "ter wa",
      "userId": "01448980402448893441"
     },
     "user_tz": -540
    },
    "id": "cx8dmyvCFKYP",
    "outputId": "c28a9b81-75ee-43a4-e61d-33f8ffd24996"
   },
   "outputs": [
    {
     "data": {
      "text/plain": [
       "median_income         197\n",
       "median_house_value    197\n",
       "dtype: int64"
      ]
     },
     "execution_count": 85,
     "metadata": {},
     "output_type": "execute_result"
    }
   ],
   "source": [
    "stratified_total = stratified_sampling_count.sum()\n",
    "stratified_total"
   ]
  },
  {
   "cell_type": "markdown",
   "metadata": {
    "id": "92Q-w7qbFKYP"
   },
   "source": [
    "- 가구소득 범주별 상대도수: 어느 정도 차이가 있다."
   ]
  },
  {
   "cell_type": "code",
   "execution_count": 86,
   "metadata": {
    "colab": {
     "base_uri": "https://localhost:8080/",
     "height": 237
    },
    "executionInfo": {
     "elapsed": 3,
     "status": "ok",
     "timestamp": 1752584674458,
     "user": {
      "displayName": "ter wa",
      "userId": "01448980402448893441"
     },
     "user_tz": -540
    },
    "id": "Otk5etsuFKYP",
    "outputId": "f27168da-21ba-4657-e91a-7ad636484b8f"
   },
   "outputs": [
    {
     "data": {
      "text/html": [
       "<div>\n",
       "<style scoped>\n",
       "    .dataframe tbody tr th:only-of-type {\n",
       "        vertical-align: middle;\n",
       "    }\n",
       "\n",
       "    .dataframe tbody tr th {\n",
       "        vertical-align: top;\n",
       "    }\n",
       "\n",
       "    .dataframe thead th {\n",
       "        text-align: right;\n",
       "    }\n",
       "</style>\n",
       "<table border=\"1\" class=\"dataframe\">\n",
       "  <thead>\n",
       "    <tr style=\"text-align: right;\">\n",
       "      <th></th>\n",
       "      <th>median_income</th>\n",
       "      <th>median_house_value</th>\n",
       "    </tr>\n",
       "    <tr>\n",
       "      <th>income_cat</th>\n",
       "      <th></th>\n",
       "      <th></th>\n",
       "    </tr>\n",
       "  </thead>\n",
       "  <tbody>\n",
       "    <tr>\n",
       "      <th>1</th>\n",
       "      <td>0.030457</td>\n",
       "      <td>0.030457</td>\n",
       "    </tr>\n",
       "    <tr>\n",
       "      <th>2</th>\n",
       "      <td>0.340102</td>\n",
       "      <td>0.340102</td>\n",
       "    </tr>\n",
       "    <tr>\n",
       "      <th>3</th>\n",
       "      <td>0.324873</td>\n",
       "      <td>0.324873</td>\n",
       "    </tr>\n",
       "    <tr>\n",
       "      <th>4</th>\n",
       "      <td>0.197970</td>\n",
       "      <td>0.197970</td>\n",
       "    </tr>\n",
       "    <tr>\n",
       "      <th>5</th>\n",
       "      <td>0.106599</td>\n",
       "      <td>0.106599</td>\n",
       "    </tr>\n",
       "  </tbody>\n",
       "</table>\n",
       "</div>"
      ],
      "text/plain": [
       "            median_income  median_house_value\n",
       "income_cat                                   \n",
       "1                0.030457            0.030457\n",
       "2                0.340102            0.340102\n",
       "3                0.324873            0.324873\n",
       "4                0.197970            0.197970\n",
       "5                0.106599            0.106599"
      ]
     },
     "execution_count": 86,
     "metadata": {},
     "output_type": "execute_result"
    }
   ],
   "source": [
    "random_sampling_ratio = random_sampling_count / random_total\n",
    "random_sampling_ratio"
   ]
  },
  {
   "cell_type": "code",
   "execution_count": 87,
   "metadata": {
    "colab": {
     "base_uri": "https://localhost:8080/",
     "height": 237
    },
    "executionInfo": {
     "elapsed": 6,
     "status": "ok",
     "timestamp": 1752584674465,
     "user": {
      "displayName": "ter wa",
      "userId": "01448980402448893441"
     },
     "user_tz": -540
    },
    "id": "9f0L10CkFKYP",
    "outputId": "ff959524-d64a-437b-d060-6972a03f1cea"
   },
   "outputs": [
    {
     "data": {
      "text/html": [
       "<div>\n",
       "<style scoped>\n",
       "    .dataframe tbody tr th:only-of-type {\n",
       "        vertical-align: middle;\n",
       "    }\n",
       "\n",
       "    .dataframe tbody tr th {\n",
       "        vertical-align: top;\n",
       "    }\n",
       "\n",
       "    .dataframe thead th {\n",
       "        text-align: right;\n",
       "    }\n",
       "</style>\n",
       "<table border=\"1\" class=\"dataframe\">\n",
       "  <thead>\n",
       "    <tr style=\"text-align: right;\">\n",
       "      <th></th>\n",
       "      <th>median_income</th>\n",
       "      <th>median_house_value</th>\n",
       "    </tr>\n",
       "    <tr>\n",
       "      <th>income_cat</th>\n",
       "      <th></th>\n",
       "      <th></th>\n",
       "    </tr>\n",
       "  </thead>\n",
       "  <tbody>\n",
       "    <tr>\n",
       "      <th>1</th>\n",
       "      <td>0.040609</td>\n",
       "      <td>0.040609</td>\n",
       "    </tr>\n",
       "    <tr>\n",
       "      <th>2</th>\n",
       "      <td>0.335025</td>\n",
       "      <td>0.335025</td>\n",
       "    </tr>\n",
       "    <tr>\n",
       "      <th>3</th>\n",
       "      <td>0.360406</td>\n",
       "      <td>0.360406</td>\n",
       "    </tr>\n",
       "    <tr>\n",
       "      <th>4</th>\n",
       "      <td>0.177665</td>\n",
       "      <td>0.177665</td>\n",
       "    </tr>\n",
       "    <tr>\n",
       "      <th>5</th>\n",
       "      <td>0.086294</td>\n",
       "      <td>0.086294</td>\n",
       "    </tr>\n",
       "  </tbody>\n",
       "</table>\n",
       "</div>"
      ],
      "text/plain": [
       "            median_income  median_house_value\n",
       "income_cat                                   \n",
       "1                0.040609            0.040609\n",
       "2                0.335025            0.335025\n",
       "3                0.360406            0.360406\n",
       "4                0.177665            0.177665\n",
       "5                0.086294            0.086294"
      ]
     },
     "execution_count": 87,
     "metadata": {},
     "output_type": "execute_result"
    }
   ],
   "source": [
    "stratified_sampling_ratio = stratified_sampling_count / stratified_total\n",
    "stratified_sampling_ratio"
   ]
  },
  {
   "cell_type": "markdown",
   "metadata": {
    "id": "5U35oSk0FKYP"
   },
   "source": [
    "참고로 모집단에서의 가구소득 범주별 상대도수는 다음과 같다."
   ]
  },
  {
   "cell_type": "code",
   "execution_count": 88,
   "metadata": {
    "colab": {
     "base_uri": "https://localhost:8080/",
     "height": 237
    },
    "executionInfo": {
     "elapsed": 49,
     "status": "ok",
     "timestamp": 1752584674511,
     "user": {
      "displayName": "ter wa",
      "userId": "01448980402448893441"
     },
     "user_tz": -540
    },
    "id": "wQBG4YYbFKYP",
    "outputId": "7baf0c91-3575-4cd2-f588-fba2b62270be"
   },
   "outputs": [
    {
     "data": {
      "text/html": [
       "<div>\n",
       "<style scoped>\n",
       "    .dataframe tbody tr th:only-of-type {\n",
       "        vertical-align: middle;\n",
       "    }\n",
       "\n",
       "    .dataframe tbody tr th {\n",
       "        vertical-align: top;\n",
       "    }\n",
       "\n",
       "    .dataframe thead th {\n",
       "        text-align: right;\n",
       "    }\n",
       "</style>\n",
       "<table border=\"1\" class=\"dataframe\">\n",
       "  <thead>\n",
       "    <tr style=\"text-align: right;\">\n",
       "      <th></th>\n",
       "      <th>median_income</th>\n",
       "      <th>median_house_value</th>\n",
       "    </tr>\n",
       "    <tr>\n",
       "      <th>income_cat</th>\n",
       "      <th></th>\n",
       "      <th></th>\n",
       "    </tr>\n",
       "  </thead>\n",
       "  <tbody>\n",
       "    <tr>\n",
       "      <th>1</th>\n",
       "      <td>0.041372</td>\n",
       "      <td>0.041372</td>\n",
       "    </tr>\n",
       "    <tr>\n",
       "      <th>2</th>\n",
       "      <td>0.333011</td>\n",
       "      <td>0.333011</td>\n",
       "    </tr>\n",
       "    <tr>\n",
       "      <th>3</th>\n",
       "      <td>0.361017</td>\n",
       "      <td>0.361017</td>\n",
       "    </tr>\n",
       "    <tr>\n",
       "      <th>4</th>\n",
       "      <td>0.177992</td>\n",
       "      <td>0.177992</td>\n",
       "    </tr>\n",
       "    <tr>\n",
       "      <th>5</th>\n",
       "      <td>0.086607</td>\n",
       "      <td>0.086607</td>\n",
       "    </tr>\n",
       "  </tbody>\n",
       "</table>\n",
       "</div>"
      ],
      "text/plain": [
       "            median_income  median_house_value\n",
       "income_cat                                   \n",
       "1                0.041372            0.041372\n",
       "2                0.333011            0.333011\n",
       "3                0.361017            0.361017\n",
       "4                0.177992            0.177992\n",
       "5                0.086607            0.086607"
      ]
     },
     "execution_count": 88,
     "metadata": {},
     "output_type": "execute_result"
    }
   ],
   "source": [
    "stratified_ratio = stratified_count/(housing.shape)[0]\n",
    "stratified_ratio"
   ]
  },
  {
   "cell_type": "markdown",
   "metadata": {
    "id": "lyxVKBycFKYP"
   },
   "source": [
    "아래 코드는 주택가격을 기준으로 모집단과 두 표본의 가구소득 범주별 상대도수를 하나로 묶어 데이터프레임을 생성한다. `concat()` 함수의 내부 인자들을 보면, 모집단과 표본들의 데이터프레임에서 주택가격에 해당하는 열번호는 1번이며, 열들을 묶는 것이므로 `axis=1`로 지정했다."
   ]
  },
  {
   "cell_type": "code",
   "execution_count": 89,
   "metadata": {
    "colab": {
     "base_uri": "https://localhost:8080/",
     "height": 237
    },
    "executionInfo": {
     "elapsed": 8,
     "status": "ok",
     "timestamp": 1752584674515,
     "user": {
      "displayName": "ter wa",
      "userId": "01448980402448893441"
     },
     "user_tz": -540
    },
    "id": "S4YyqJSrFKYP",
    "outputId": "ac867312-56ed-4878-ea1d-14189dca18de"
   },
   "outputs": [
    {
     "data": {
      "text/html": [
       "<div>\n",
       "<style scoped>\n",
       "    .dataframe tbody tr th:only-of-type {\n",
       "        vertical-align: middle;\n",
       "    }\n",
       "\n",
       "    .dataframe tbody tr th {\n",
       "        vertical-align: top;\n",
       "    }\n",
       "\n",
       "    .dataframe thead th {\n",
       "        text-align: right;\n",
       "    }\n",
       "</style>\n",
       "<table border=\"1\" class=\"dataframe\">\n",
       "  <thead>\n",
       "    <tr style=\"text-align: right;\">\n",
       "      <th></th>\n",
       "      <th>전체</th>\n",
       "      <th>층화표집</th>\n",
       "      <th>무작위 추출</th>\n",
       "    </tr>\n",
       "    <tr>\n",
       "      <th>가구소득 범주</th>\n",
       "      <th></th>\n",
       "      <th></th>\n",
       "      <th></th>\n",
       "    </tr>\n",
       "  </thead>\n",
       "  <tbody>\n",
       "    <tr>\n",
       "      <th>1</th>\n",
       "      <td>0.041372</td>\n",
       "      <td>0.040609</td>\n",
       "      <td>0.030457</td>\n",
       "    </tr>\n",
       "    <tr>\n",
       "      <th>2</th>\n",
       "      <td>0.333011</td>\n",
       "      <td>0.335025</td>\n",
       "      <td>0.340102</td>\n",
       "    </tr>\n",
       "    <tr>\n",
       "      <th>3</th>\n",
       "      <td>0.361017</td>\n",
       "      <td>0.360406</td>\n",
       "      <td>0.324873</td>\n",
       "    </tr>\n",
       "    <tr>\n",
       "      <th>4</th>\n",
       "      <td>0.177992</td>\n",
       "      <td>0.177665</td>\n",
       "      <td>0.197970</td>\n",
       "    </tr>\n",
       "    <tr>\n",
       "      <th>5</th>\n",
       "      <td>0.086607</td>\n",
       "      <td>0.086294</td>\n",
       "      <td>0.106599</td>\n",
       "    </tr>\n",
       "  </tbody>\n",
       "</table>\n",
       "</div>"
      ],
      "text/plain": [
       "               전체      층화표집    무작위 추출\n",
       "가구소득 범주                              \n",
       "1        0.041372  0.040609  0.030457\n",
       "2        0.333011  0.335025  0.340102\n",
       "3        0.361017  0.360406  0.324873\n",
       "4        0.177992  0.177665  0.197970\n",
       "5        0.086607  0.086294  0.106599"
      ]
     },
     "execution_count": 89,
     "metadata": {},
     "output_type": "execute_result"
    }
   ],
   "source": [
    "proportions = pd.concat([stratified_ratio.iloc[:, [1]],\n",
    "                         stratified_sampling_ratio.iloc[:, [1]],\n",
    "                         random_sampling_ratio.iloc[:, [1]]],\n",
    "                         axis=1)\n",
    "\n",
    "proportions.columns = ['전체', '층화표집', '무작위 추출']\n",
    "proportions.index.name = '가구소득 범주'\n",
    "proportions"
   ]
  },
  {
   "cell_type": "markdown",
   "metadata": {
    "id": "53xtMliMFKYP"
   },
   "source": [
    "모집단의 가구소득 범주별 상대도수를 기준으로 각 표본의 상대도수의 오차율을 새로운 특성으로 추가한다."
   ]
  },
  {
   "cell_type": "code",
   "execution_count": 90,
   "metadata": {
    "colab": {
     "base_uri": "https://localhost:8080/",
     "height": 237
    },
    "executionInfo": {
     "elapsed": 3,
     "status": "ok",
     "timestamp": 1752584674557,
     "user": {
      "displayName": "ter wa",
      "userId": "01448980402448893441"
     },
     "user_tz": -540
    },
    "id": "Q7hlXPhuFKYP",
    "outputId": "3ac3f62c-623b-460f-8c1a-e0f1f94c772a"
   },
   "outputs": [
    {
     "data": {
      "text/html": [
       "<div>\n",
       "<style scoped>\n",
       "    .dataframe tbody tr th:only-of-type {\n",
       "        vertical-align: middle;\n",
       "    }\n",
       "\n",
       "    .dataframe tbody tr th {\n",
       "        vertical-align: top;\n",
       "    }\n",
       "\n",
       "    .dataframe thead th {\n",
       "        text-align: right;\n",
       "    }\n",
       "</style>\n",
       "<table border=\"1\" class=\"dataframe\">\n",
       "  <thead>\n",
       "    <tr style=\"text-align: right;\">\n",
       "      <th></th>\n",
       "      <th>전체</th>\n",
       "      <th>층화표집</th>\n",
       "      <th>무작위 추출</th>\n",
       "      <th>층화표집 오차율</th>\n",
       "      <th>무작위 추출 오차율</th>\n",
       "    </tr>\n",
       "    <tr>\n",
       "      <th>가구소득 범주</th>\n",
       "      <th></th>\n",
       "      <th></th>\n",
       "      <th></th>\n",
       "      <th></th>\n",
       "      <th></th>\n",
       "    </tr>\n",
       "  </thead>\n",
       "  <tbody>\n",
       "    <tr>\n",
       "      <th>1</th>\n",
       "      <td>0.041372</td>\n",
       "      <td>0.040609</td>\n",
       "      <td>0.030457</td>\n",
       "      <td>-0.018446</td>\n",
       "      <td>-0.263835</td>\n",
       "    </tr>\n",
       "    <tr>\n",
       "      <th>2</th>\n",
       "      <td>0.333011</td>\n",
       "      <td>0.335025</td>\n",
       "      <td>0.340102</td>\n",
       "      <td>0.006048</td>\n",
       "      <td>0.021291</td>\n",
       "    </tr>\n",
       "    <tr>\n",
       "      <th>3</th>\n",
       "      <td>0.361017</td>\n",
       "      <td>0.360406</td>\n",
       "      <td>0.324873</td>\n",
       "      <td>-0.001691</td>\n",
       "      <td>-0.100116</td>\n",
       "    </tr>\n",
       "    <tr>\n",
       "      <th>4</th>\n",
       "      <td>0.177992</td>\n",
       "      <td>0.177665</td>\n",
       "      <td>0.197970</td>\n",
       "      <td>-0.001839</td>\n",
       "      <td>0.112236</td>\n",
       "    </tr>\n",
       "    <tr>\n",
       "      <th>5</th>\n",
       "      <td>0.086607</td>\n",
       "      <td>0.086294</td>\n",
       "      <td>0.106599</td>\n",
       "      <td>-0.003613</td>\n",
       "      <td>0.230830</td>\n",
       "    </tr>\n",
       "  </tbody>\n",
       "</table>\n",
       "</div>"
      ],
      "text/plain": [
       "               전체      층화표집    무작위 추출  층화표집 오차율  무작위 추출 오차율\n",
       "가구소득 범주                                                    \n",
       "1        0.041372  0.040609  0.030457 -0.018446   -0.263835\n",
       "2        0.333011  0.335025  0.340102  0.006048    0.021291\n",
       "3        0.361017  0.360406  0.324873 -0.001691   -0.100116\n",
       "4        0.177992  0.177665  0.197970 -0.001839    0.112236\n",
       "5        0.086607  0.086294  0.106599 -0.003613    0.230830"
      ]
     },
     "execution_count": 90,
     "metadata": {},
     "output_type": "execute_result"
    }
   ],
   "source": [
    "proportions[\"층화표집 오차율\"] = (proportions[\"층화표집\"] / proportions[\"전체\"] - 1)\n",
    "proportions[\"무작위 추출 오차율\"] = (proportions[\"무작위 추출\"] / proportions[\"전체\"] - 1)\n",
    "\n",
    "proportions"
   ]
  },
  {
   "cell_type": "markdown",
   "metadata": {
    "id": "SZWFKFoVFKYP"
   },
   "source": [
    "결과적으로, 층화표집 표본의 가구소득 범주별 상대도수가 무작위 추출 표본의 그것보다 참값, 즉 모집단의 상대도수에 훨씬 더 근접함을 알 수 있다.\n",
    "참고로 층화표집으로 생성된 표본을 이용한 가구소득과 주택가격의 산점도는 다음과 같다."
   ]
  },
  {
   "cell_type": "code",
   "execution_count": 91,
   "metadata": {
    "colab": {
     "base_uri": "https://localhost:8080/",
     "height": 450
    },
    "executionInfo": {
     "elapsed": 539,
     "status": "ok",
     "timestamp": 1752584675098,
     "user": {
      "displayName": "ter wa",
      "userId": "01448980402448893441"
     },
     "user_tz": -540
    },
    "id": "4qeDkqUSFKYP",
    "outputId": "926020df-d0b1-4f25-dc90-eb2da75b2f19"
   },
   "outputs": [
    {
     "data": {
      "image/png": "[encoded data removed]",
      "text/plain": [
       "<Figure size 640x480 with 1 Axes>"
      ]
     },
     "metadata": {},
     "output_type": "display_data"
    }
   ],
   "source": [
    "stratified_sampling.plot('median_income', 'median_house_value', kind='scatter')\n",
    "plt.show()"
   ]
  },
  {
   "cell_type": "markdown",
   "metadata": {
    "id": "Rv_jZyUPFKYP"
   },
   "source": [
    "이제 분산을 기준으로 두 표본을 비교해보자. 먼저 모집단의 가구소득과 주택가격의 (편향)분산을 출력해본다. `housing` 데이터프레임의 처음 두 열(특성)을 슬라이싱해서 `ddof=0` 인자를 사용해 분산을 구하면 된다."
   ]
  },
  {
   "cell_type": "markdown",
   "metadata": {
    "id": "QN8lm-JTFKYQ"
   },
   "source": [
    "- 모집단의 (편향)분산"
   ]
  },
  {
   "cell_type": "code",
   "execution_count": 92,
   "metadata": {
    "colab": {
     "base_uri": "https://localhost:8080/",
     "height": 147
    },
    "executionInfo": {
     "elapsed": 17,
     "status": "ok",
     "timestamp": 1752584675331,
     "user": {
      "displayName": "ter wa",
      "userId": "01448980402448893441"
     },
     "user_tz": -540
    },
    "id": "iD-vwYHzFKYQ",
    "outputId": "2ee2e92c-1fdd-4a2e-b81f-e52bdc2cd77b"
   },
   "outputs": [
    {
     "data": {
      "text/plain": [
       "median_income         2.465628e+00\n",
       "median_house_value    9.547054e+09\n",
       "dtype: float64"
      ]
     },
     "execution_count": 92,
     "metadata": {},
     "output_type": "execute_result"
    }
   ],
   "source": [
    "housing.iloc[:, :2].var(ddof=0)"
   ]
  },
  {
   "cell_type": "markdown",
   "metadata": {
    "id": "vz1f_LoPFKYP"
   },
   "source": [
    "- 층화표집 표본과 무작위 추출 표본의 불편분산"
   ]
  },
  {
   "cell_type": "code",
   "execution_count": 93,
   "metadata": {
    "colab": {
     "base_uri": "https://localhost:8080/",
     "height": 147
    },
    "executionInfo": {
     "elapsed": 21,
     "status": "ok",
     "timestamp": 1752585161233,
     "user": {
      "displayName": "ter wa",
      "userId": "01448980402448893441"
     },
     "user_tz": -540
    },
    "id": "BIO7HUoYFKYP",
    "outputId": "4a4dc339-4db0-47fd-e21e-31cfea1a6dfd"
   },
   "outputs": [
    {
     "data": {
      "text/plain": [
       "median_income         2.317274e+00\n",
       "median_house_value    9.486647e+09\n",
       "dtype: float64"
      ]
     },
     "execution_count": 93,
     "metadata": {},
     "output_type": "execute_result"
    }
   ],
   "source": [
    "stratified_sampling.iloc[:, :2].var()"
   ]
  },
  {
   "cell_type": "code",
   "execution_count": 94,
   "metadata": {
    "colab": {
     "base_uri": "https://localhost:8080/",
     "height": 147
    },
    "executionInfo": {
     "elapsed": 23,
     "status": "ok",
     "timestamp": 1752584675175,
     "user": {
      "displayName": "ter wa",
      "userId": "01448980402448893441"
     },
     "user_tz": -540
    },
    "id": "hOHwdhiYFKYQ",
    "outputId": "fe2bb9fe-ec62-40a6-9a73-b6b4761fde2b"
   },
   "outputs": [
    {
     "data": {
      "text/plain": [
       "median_income         2.412851e+00\n",
       "median_house_value    8.780615e+09\n",
       "dtype: float64"
      ]
     },
     "execution_count": 94,
     "metadata": {},
     "output_type": "execute_result"
    }
   ],
   "source": [
    "random_sampling.iloc[:, :2].var()"
   ]
  },
  {
   "cell_type": "markdown",
   "metadata": {
    "id": "prv8xy9iFKYQ"
   },
   "source": [
    "- 층화표집 표본과 무작위 추출 표본의 편향분산"
   ]
  },
  {
   "cell_type": "code",
   "execution_count": 95,
   "metadata": {
    "colab": {
     "base_uri": "https://localhost:8080/",
     "height": 147
    },
    "executionInfo": {
     "elapsed": 17,
     "status": "ok",
     "timestamp": 1752584675204,
     "user": {
      "displayName": "ter wa",
      "userId": "01448980402448893441"
     },
     "user_tz": -540
    },
    "id": "bAurCaXgFKYQ",
    "outputId": "dd95bd9c-5934-4d27-b39a-9139edafbb38"
   },
   "outputs": [
    {
     "data": {
      "text/plain": [
       "median_income         2.305512e+00\n",
       "median_house_value    9.438491e+09\n",
       "dtype: float64"
      ]
     },
     "execution_count": 95,
     "metadata": {},
     "output_type": "execute_result"
    }
   ],
   "source": [
    "stratified_sampling.iloc[:, :2].var(ddof=0)"
   ]
  },
  {
   "cell_type": "code",
   "execution_count": 96,
   "metadata": {
    "colab": {
     "base_uri": "https://localhost:8080/",
     "height": 147
    },
    "executionInfo": {
     "elapsed": 85,
     "status": "ok",
     "timestamp": 1752584675297,
     "user": {
      "displayName": "ter wa",
      "userId": "01448980402448893441"
     },
     "user_tz": -540
    },
    "id": "Euz3cbV4FKYQ",
    "outputId": "4ba41fe6-5324-4568-b924-eb013377c52a"
   },
   "outputs": [
    {
     "data": {
      "text/plain": [
       "median_income         2.400603e+00\n",
       "median_house_value    8.736043e+09\n",
       "dtype: float64"
      ]
     },
     "execution_count": 96,
     "metadata": {},
     "output_type": "execute_result"
    }
   ],
   "source": [
    "random_sampling.iloc[:, :2].var(ddof=0)"
   ]
  },
  {
   "cell_type": "markdown",
   "metadata": {
    "id": "-Hn4WbpjP2pP"
   },
   "source": [
    "결론적으로, 분산의 경우에도, 층화표집으로 생성된 표본의 불편분산이 모집단의 (편향)분산에 더 근접하며, 무작위 추출로 생성된 표본의 불편분산보다 작다.\n",
    "\n",
    "또한 {numref}`%s장 <ch:hyp_testing>`에서 다루는 가설검정을 통해\n",
    "층화표집으로 생성된 표본의 평균값이 무작위로 추출한 표본의 평균값보다 높은 확률로 모평균을 대변한다는 사실을 보여준다."
   ]
  },
  {
   "cell_type": "markdown",
   "metadata": {
    "id": "f8A0dA8qFKYQ"
   },
   "source": [
    "## 연습문제"
   ]
  },
  {
   "cell_type": "markdown",
   "metadata": {
    "id": "78nWDIQxFKYQ"
   },
   "source": [
    "참고: [(연습) 모집단과 표본](https://colab.research.google.com/github/codingalzi/statsRev/blob/master/practices/practice-sampling.ipynb)"
   ]
  }
 ],
 "metadata": {
  "colab": {
   "provenance": [
    {
     "file_id": "https://github.com/codingalzi/statsRev/blob/master/jupyter-book/sampling.ipynb",
     "timestamp": 1752482231212
    }
   ]
  },
  "kernelspec": {
   "display_name": "Python 3 (ipykernel)",
   "language": "python",
   "name": "python3"
  },
  "language_info": {
   "codemirror_mode": {
    "name": "ipython",
    "version": 3
   },
   "file_extension": ".py",
   "mimetype": "text/x-python",
   "name": "python",
   "nbconvert_exporter": "python",
   "pygments_lexer": "ipython3",
   "version": "3.12.2"
  },
  "toc": {
   "nav_menu": {},
   "number_sections": true,
   "sideBar": true,
   "skip_h1_title": false,
   "toc_cell": false,
   "toc_position": {},
   "toc_section_display": "block",
   "toc_window_display": false
  }
 },
 "nbformat": 4,
 "nbformat_minor": 1
}
