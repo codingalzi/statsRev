{
 "cells": [
  {
   "cell_type": "markdown",
   "metadata": {
    "id": "GE3FBBsy_lI9"
   },
   "source": [
    "(ch:lists_dicts)=\n",
    "# 리스트와 사전"
   ]
  },
  {
   "cell_type": "markdown",
   "metadata": {},
   "source": [
    "아래 그림은 여러 개의 값을 하나의 값으로 묶어 처리할 수 있도록 도와주는 네 개의 \n",
    "**내장 자료 구조**<font size='2'>built-in data structure</font>를 표현한다.\n",
    "내장<font size='2'>built-in</font>은 파이썬이 기본으로 제공한다는 의미다.\n",
    "반면에 **자료 구조**<font size='2'>data structure</font>는 \n",
    "정수, 부동소수점, 문자열과는 다르게\n",
    "여러 개의 값으로 구성된 보다 복잡한 값을 표현하는 객체를 가리킨다."
   ]
  },
  {
   "cell_type": "markdown",
   "metadata": {},
   "source": [
    "<div align=\"center\" border=\"1px\"><img src=\"https://raw.githubusercontent.com/codingalzi/42H/master/jupyter-book/images/built-in-types.png\" width=\"350\"/></div>\n",
    "<br>"
   ]
  },
  {
   "cell_type": "markdown",
   "metadata": {},
   "source": [
    "데이터 사이언스에서 가장 많이 활용되는 넘파이 어레이 객체와 판다스 데이터프레임 객체의\n",
    "활용법 이해에 도움이 되는 리스트와 사전을 간략하게 소개한다."
   ]
  },
  {
   "cell_type": "markdown",
   "metadata": {
    "id": "236OtYrY2kOd"
   },
   "source": [
    "## 리스트"
   ]
  },
  {
   "cell_type": "markdown",
   "metadata": {
    "id": "3VWbchqD2kOd"
   },
   "source": [
    "리스트는 여러 개의 값들을 순차적으로 모아놓은 객체이다.\n",
    "아래 코드에서\n",
    "`int_list`는 정수로 구성된 리스트를,\n",
    "`float_list`는 부동소수점으로 구성된 리스트를,\n",
    "`str_list`는 문자열로 구성된 리스트를 \n",
    "가리킨다."
   ]
  },
  {
   "cell_type": "code",
   "execution_count": 1,
   "metadata": {
    "colab": {
     "base_uri": "https://localhost:8080/"
    },
    "executionInfo": {
     "elapsed": 23,
     "status": "ok",
     "timestamp": 1750914865625,
     "user": {
      "displayName": "ter wa",
      "userId": "01448980402448893441"
     },
     "user_tz": -540
    },
    "id": "zNfVIUZA2kOd",
    "outputId": "bc14200e-6c1d-4b20-c236-46f968c14db3"
   },
   "outputs": [],
   "source": [
    "int_list = [2, 3, 7, 11]\n",
    "float_list = [3.14, 2.17, 7.0, -0.856, 20.8]\n",
    "str_list = ['foo', 'bar', 'baz']"
   ]
  },
  {
   "cell_type": "markdown",
   "metadata": {
    "id": "3VWbchqD2kOd"
   },
   "source": [
    "반면에 아래 코드의 변수 `comp_list`처럼, \n",
    "하나의 리스트에 정수, 소수, 문자열, 리스트 등 다양한 유형의 값들이 함께 담길 수 있다.\n",
    "리스트를 항목으로 갖는 리스트를 중첩 리스트라 부른다.\n",
    "`list_ragged` 변수가 가리키는 리스트처럼\n",
    "항목으로 사용된 리스트들의 길이가 서로 달라도 무방하다."
   ]
  },
  {
   "cell_type": "code",
   "execution_count": 2,
   "metadata": {
    "colab": {
     "base_uri": "https://localhost:8080/"
    },
    "executionInfo": {
     "elapsed": 23,
     "status": "ok",
     "timestamp": 1750914865625,
     "user": {
      "displayName": "ter wa",
      "userId": "01448980402448893441"
     },
     "user_tz": -540
    },
    "id": "zNfVIUZA2kOd",
    "outputId": "bc14200e-6c1d-4b20-c236-46f968c14db3"
   },
   "outputs": [],
   "source": [
    "comp_list = [2, 3.14, 'foo', int_list]\n",
    "list_ragged = [[1, 2, 3, 4], [5, 6, 7], [8, 9]]"
   ]
  },
  {
   "cell_type": "markdown",
   "metadata": {
    "id": "3VWbchqD2kOd"
   },
   "source": [
    "리스트의 자료형은 포함된 항목의 자료형과 무관하게 `list`로 지정된다."
   ]
  },
  {
   "cell_type": "code",
   "execution_count": 3,
   "metadata": {
    "colab": {
     "base_uri": "https://localhost:8080/"
    },
    "executionInfo": {
     "elapsed": 24,
     "status": "ok",
     "timestamp": 1750914930724,
     "user": {
      "displayName": "ter wa",
      "userId": "01448980402448893441"
     },
     "user_tz": -540
    },
    "id": "XnoUQG5L2kOe",
    "outputId": "80dbd780-5526-4662-87e4-9e3fa7039f3b"
   },
   "outputs": [
    {
     "data": {
      "text/plain": [
       "list"
      ]
     },
     "execution_count": 3,
     "metadata": {},
     "output_type": "execute_result"
    }
   ],
   "source": [
    "type(int_list)"
   ]
  },
  {
   "cell_type": "code",
   "execution_count": 4,
   "metadata": {},
   "outputs": [
    {
     "data": {
      "text/plain": [
       "list"
      ]
     },
     "execution_count": 4,
     "metadata": {},
     "output_type": "execute_result"
    }
   ],
   "source": [
    "type(comp_list)"
   ]
  },
  {
   "cell_type": "code",
   "execution_count": 5,
   "metadata": {},
   "outputs": [
    {
     "data": {
      "text/plain": [
       "list"
      ]
     },
     "execution_count": 5,
     "metadata": {},
     "output_type": "execute_result"
    }
   ],
   "source": [
    "type(list_ragged)"
   ]
  },
  {
   "cell_type": "markdown",
   "metadata": {},
   "source": [
    "리스트의 길이는 포함된 항목의 개수를 가리킨다.\n",
    "중첩 리스트의 길이는 항목으로 사용된 리스트의 길이와 무관하다."
   ]
  },
  {
   "cell_type": "code",
   "execution_count": 6,
   "metadata": {},
   "outputs": [
    {
     "data": {
      "text/plain": [
       "5"
      ]
     },
     "execution_count": 6,
     "metadata": {},
     "output_type": "execute_result"
    }
   ],
   "source": [
    "len(float_list)"
   ]
  },
  {
   "cell_type": "code",
   "execution_count": 7,
   "metadata": {},
   "outputs": [
    {
     "data": {
      "text/plain": [
       "4"
      ]
     },
     "execution_count": 7,
     "metadata": {},
     "output_type": "execute_result"
    }
   ],
   "source": [
    "len(comp_list)"
   ]
  },
  {
   "cell_type": "code",
   "execution_count": 8,
   "metadata": {},
   "outputs": [
    {
     "data": {
      "text/plain": [
       "3"
      ]
     },
     "execution_count": 8,
     "metadata": {},
     "output_type": "execute_result"
    }
   ],
   "source": [
    "len(list_ragged)"
   ]
  },
  {
   "cell_type": "markdown",
   "metadata": {
    "id": "nETs4xCi2kOg"
   },
   "source": [
    "### 리스트 인덱싱"
   ]
  },
  {
   "cell_type": "markdown",
   "metadata": {
    "id": "VwJQOejN2kOg"
   },
   "source": [
    "리스트에 포함된 항목의 위치를 가리키는 인덱스<font size='2'>index</font>를 이용하여 항목을 확인하거나 다른 값으로 대체할 수 있다."
   ]
  },
  {
   "cell_type": "code",
   "execution_count": 9,
   "metadata": {
    "colab": {
     "base_uri": "https://localhost:8080/"
    },
    "executionInfo": {
     "elapsed": 31,
     "status": "ok",
     "timestamp": 1750915155010,
     "user": {
      "displayName": "ter wa",
      "userId": "01448980402448893441"
     },
     "user_tz": -540
    },
    "id": "a9xfUuqw2kOh",
    "outputId": "afbdeaf7-1ef8-453f-9157-5f9ba7c4a958"
   },
   "outputs": [
    {
     "data": {
      "text/plain": [
       "2"
      ]
     },
     "execution_count": 9,
     "metadata": {},
     "output_type": "execute_result"
    }
   ],
   "source": [
    "int_list[0]"
   ]
  },
  {
   "cell_type": "code",
   "execution_count": 10,
   "metadata": {},
   "outputs": [
    {
     "data": {
      "text/plain": [
       "[1, 3, 7, 11]"
      ]
     },
     "execution_count": 10,
     "metadata": {},
     "output_type": "execute_result"
    }
   ],
   "source": [
    "int_list[0] = 1\n",
    "int_list"
   ]
  },
  {
   "cell_type": "code",
   "execution_count": 11,
   "metadata": {
    "colab": {
     "base_uri": "https://localhost:8080/"
    },
    "executionInfo": {
     "elapsed": 17,
     "status": "ok",
     "timestamp": 1750915187481,
     "user": {
      "displayName": "ter wa",
      "userId": "01448980402448893441"
     },
     "user_tz": -540
    },
    "id": "RfXH-M762kOh",
    "outputId": "4b4588c9-987d-49a1-8bbf-c737f8306105"
   },
   "outputs": [
    {
     "data": {
      "text/plain": [
       "[1, 3, 7, 11]"
      ]
     },
     "execution_count": 11,
     "metadata": {},
     "output_type": "execute_result"
    }
   ],
   "source": [
    "comp_list[3]"
   ]
  },
  {
   "cell_type": "code",
   "execution_count": 12,
   "metadata": {},
   "outputs": [
    {
     "data": {
      "text/plain": [
       "[2, 'peekaboo', 'foo', [1, 3, 7, 11]]"
      ]
     },
     "execution_count": 12,
     "metadata": {},
     "output_type": "execute_result"
    }
   ],
   "source": [
    "comp_list[1] = 'peekaboo'\n",
    "comp_list"
   ]
  },
  {
   "cell_type": "markdown",
   "metadata": {
    "id": "VwJQOejN2kOg"
   },
   "source": [
    "중첩 리스트에 대해서는 인덱싱을 반복적으로 적용할 수 있다."
   ]
  },
  {
   "cell_type": "code",
   "execution_count": 13,
   "metadata": {
    "colab": {
     "base_uri": "https://localhost:8080/"
    },
    "executionInfo": {
     "elapsed": 45,
     "status": "ok",
     "timestamp": 1750915151433,
     "user": {
      "displayName": "ter wa",
      "userId": "01448980402448893441"
     },
     "user_tz": -540
    },
    "id": "UGfYexBc2kOh",
    "outputId": "c4c283f0-764b-4104-9c61-6ad025a25d96"
   },
   "outputs": [
    {
     "data": {
      "text/plain": [
       "[8, 9]"
      ]
     },
     "execution_count": 13,
     "metadata": {},
     "output_type": "execute_result"
    }
   ],
   "source": [
    "list_ragged[2]"
   ]
  },
  {
   "cell_type": "code",
   "execution_count": 14,
   "metadata": {},
   "outputs": [
    {
     "data": {
      "text/plain": [
       "9"
      ]
     },
     "execution_count": 14,
     "metadata": {},
     "output_type": "execute_result"
    }
   ],
   "source": [
    "list_ragged[2][1]"
   ]
  },
  {
   "cell_type": "code",
   "execution_count": 15,
   "metadata": {},
   "outputs": [
    {
     "data": {
      "text/plain": [
       "[[1, 2, 3, 4], [5, 6, 7], [10, 11, 12, 14]]"
      ]
     },
     "execution_count": 15,
     "metadata": {},
     "output_type": "execute_result"
    }
   ],
   "source": [
    "list_ragged[2] = [10,11,12,13]\n",
    "list_ragged[2][3] = 14\n",
    "list_ragged"
   ]
  },
  {
   "cell_type": "markdown",
   "metadata": {
    "id": "a0p4DZKmtTCi"
   },
   "source": [
    "-1, -2, -3 등 음수 인덱스는 리스트 오른쪽에서부터 위치이다. \n",
    "-1번 인덱스는 리스트의 오른쪽 끝 항목, -2번 인덱스는 오른쪽 끝에서 두번째 항목과 같은 식이며,이는 중첩 리스트에서도 동일하게 적용된다."
   ]
  },
  {
   "cell_type": "code",
   "execution_count": 16,
   "metadata": {
    "colab": {
     "base_uri": "https://localhost:8080/"
    },
    "executionInfo": {
     "elapsed": 44,
     "status": "ok",
     "timestamp": 1750916240059,
     "user": {
      "displayName": "ter wa",
      "userId": "01448980402448893441"
     },
     "user_tz": -540
    },
    "id": "9dZ0mZcz2kOh",
    "outputId": "c59ee80b-4151-4e8e-eb38-6eb802bb9891"
   },
   "outputs": [
    {
     "data": {
      "text/plain": [
       "[5, 6, 7]"
      ]
     },
     "execution_count": 16,
     "metadata": {},
     "output_type": "execute_result"
    }
   ],
   "source": [
    "list_ragged[-2]"
   ]
  },
  {
   "cell_type": "code",
   "execution_count": 17,
   "metadata": {
    "colab": {
     "base_uri": "https://localhost:8080/"
    },
    "executionInfo": {
     "elapsed": 28,
     "status": "ok",
     "timestamp": 1750916316132,
     "user": {
      "displayName": "ter wa",
      "userId": "01448980402448893441"
     },
     "user_tz": -540
    },
    "id": "zNmBiBUW2kOh",
    "outputId": "8d422793-16f5-407e-8942-4626ec11e64a"
   },
   "outputs": [
    {
     "data": {
      "text/plain": [
       "[[1, 2, 8, 4], [5, 6, 7], [10, 11, 12, 14]]"
      ]
     },
     "execution_count": 17,
     "metadata": {},
     "output_type": "execute_result"
    }
   ],
   "source": [
    "list_ragged[-3][-2] = 8\n",
    "list_ragged"
   ]
  },
  {
   "cell_type": "markdown",
   "metadata": {
    "id": "TGsX-gzq2kOi"
   },
   "source": [
    "### 리스트 슬라이싱"
   ]
  },
  {
   "cell_type": "markdown",
   "metadata": {
    "id": "syMct8Ma2kOi"
   },
   "source": [
    "슬라이싱은 두 개의 인덱스로 지정된 구간에 포함된 항목들을 추출해 별도의 리스트를 생성한다.\n",
    "보폭을 통해 몇 걸음씩 건너뛸지도 설정할 수 있다.\n",
    "\n",
    "- 시작 인덱스: 슬라이싱 구간 시작 인덱스. 생략되면 기본값인 0을 적용.\n",
    "- 끝 인덱스: 슬라이싱 구간 끝 인덱스. 실제 구간은 이 인덱스의 이전 항목까지임. 생략되면 기본값인 리스트의 길이(즉, 오른쪽 끝 인덱스+1)를 적용.\n",
    "- 보폭: 구간 시작부터 몇 개씩 건너뛰며 항목을 확인할 것인지 지정. 생략되면 기본값인 1을 적용."
   ]
  },
  {
   "cell_type": "markdown",
   "metadata": {
    "id": "syMct8Ma2kOi"
   },
   "source": [
    "| 구분 | 기능 |\n",
    "| :---: | :--- |\n",
    "| 시작 인덱스 | 슬라이싱 구간 시작 인덱스. 생략되면 기본값인 0을 적용. |\n",
    "| 끝 인덱스 | 슬라이싱 구간 끝 인덱스. 실제 구간은 이 인덱스의 이전 항목까지임. 생략되면 기본값인 리스트의 길이(즉, 오른쪽 끝 인덱스+1)를 적용. |\n",
    "| 보폭 | 구간 시작부터 몇 개씩 건너뛰며 항목을 확인할 것인지 지정. 생략되면 기본값인 1을 적용. |"
   ]
  },
  {
   "cell_type": "markdown",
   "metadata": {
    "id": "syMct8Ma2kOi"
   },
   "source": [
    "아래 코드는 1번부터 4번 인덱스의 항목들로 이루어진 별도의 리스트 `sub_seq`를 생성한다. \n",
    "이어지는 그림은 `seq`와 `sub_seq` 두 변수 각각이 가리키는 리스트가 메모리에 저장된 상태를 보여준다."
   ]
  },
  {
   "cell_type": "code",
   "execution_count": 18,
   "metadata": {
    "colab": {
     "base_uri": "https://localhost:8080/"
    },
    "executionInfo": {
     "elapsed": 23,
     "status": "ok",
     "timestamp": 1750919704056,
     "user": {
      "displayName": "ter wa",
      "userId": "01448980402448893441"
     },
     "user_tz": -540
    },
    "id": "ie1TnFwR2kOi",
    "outputId": "e391479f-c03a-4e25-ac32-a2a6cc3a0883"
   },
   "outputs": [
    {
     "data": {
      "text/plain": [
       "[2, 3, 7, 5]"
      ]
     },
     "execution_count": 18,
     "metadata": {},
     "output_type": "execute_result"
    }
   ],
   "source": [
    "seq = [7, 2, 3, 7, 5, 6, 0, 1]\n",
    "sub_seq = seq[1:5]\n",
    "\n",
    "sub_seq"
   ]
  },
  {
   "cell_type": "markdown",
   "metadata": {
    "id": "xMF-ejSn2kOi"
   },
   "source": [
    "<div align=\"center\"><img src=\"https://github.com/codingalzi/pydata/blob/master/notebooks/images/list_slicing10.png?raw=1\" style=\"width:420px;\"></div>"
   ]
  },
  {
   "cell_type": "markdown",
   "metadata": {
    "id": "RMoXgfDX2kOi"
   },
   "source": [
    "슬라이싱 명령문의 시작과 끝 인덱스, 보폭은 모두 필요에 따라 생략될 수 있다. 시작 인덱스가 생략되면 리스트의 처음(인덱스 0)을, 끝 인덱스가 생략되면 리스트의 길이(즉, 오른쪽 끝 인덱스+1)를, 보폭이 생략되면 1을 적용한다. 음수의 보폭을 사용하면 역순으로 항목들이 추출되는데, 첫째 인자는 원하는 구간의 오른쪽 끝 인덱스, 둘째 인자는 원하는 구간의 왼쪽끝 인덱스-1로 설정해야 한다."
   ]
  },
  {
   "cell_type": "markdown",
   "metadata": {},
   "source": [
    "| 리스트 슬라이싱 표현식 | 실제 의미 | 출력 결과 |\n",
    "| :---: | :---: | :---: |\n",
    "|`seq[1:5]` |`1번 항목부터 4번 항목까지 추출`| [2,3,7,5] |\n",
    "| `seq[:5]` | `0번 항목부터 4번 항목까지 추출`| [7,2,3,7,5] |\n",
    "| `seq[3:]` | `3번 항목부터 7번 항목까지 추출`| [7,5,6,0,1]|\n",
    "| `seq[-4:7]` | `-4번 항목부터 6번 항목까지 추출`| [5, 6, 0]|\n",
    "| `seq[-6:-2]` | `-6번 항목부터 -3번 항목까지 추출`| [3, 7, 5, 6]|\n",
    "| `seq[::2]` | `0번 항목부터 7번 항목까지 보폭 2로 건너뛰며 추출`| [7,3,5,0]|\n",
    "| `seq[7:0:-2]` | `7번 항목부터 1번 항목까지 역순으로 보폭 2로 건너뛰며 추출`| [1,6,7,2]|\n",
    "| `seq[-1::-1]` | `-1번 항목부터 0번 항목까지 역순으로 추출`| [1, 0, 6, 5, 7, 3, 2, 7]|"
   ]
  },
  {
   "cell_type": "markdown",
   "metadata": {
    "id": "fmYqOuiS2kOn"
   },
   "source": [
    "### 리스트 연산"
   ]
  },
  {
   "cell_type": "markdown",
   "metadata": {
    "id": "DAch6xID2kOn"
   },
   "source": [
    "두 개의 리스트를 이어붙이거나 하나의 리스트를 복제해서 이어붙이는 기능을 지원한다.\n",
    "아래 코드는 두 개의 리스트를 이어붙여서 새로운 리스트를 생성하는 방법을 보여준다."
   ]
  },
  {
   "cell_type": "code",
   "execution_count": 19,
   "metadata": {},
   "outputs": [
    {
     "data": {
      "text/plain": [
       "[2, 3, 7, 11, 'foo', 'bar', 'baz']"
      ]
     },
     "execution_count": 19,
     "metadata": {},
     "output_type": "execute_result"
    }
   ],
   "source": [
    "int_list = [2, 3, 7, 11]\n",
    "str_list = ['foo', 'bar', 'baz']\n",
    "int_list + str_list"
   ]
  },
  {
   "cell_type": "markdown",
   "metadata": {
    "id": "c7SfUdxp2kOn"
   },
   "source": [
    "아래 코드는 하나의 리스트를 지정된 정수만큼 복제해서 이어붙인다."
   ]
  },
  {
   "cell_type": "code",
   "execution_count": 20,
   "metadata": {
    "id": "KCRA3v_L2kOn",
    "outputId": "26da351a-5640-4a36-cb52-f75f6e336bee"
   },
   "outputs": [
    {
     "data": {
      "text/plain": [
       "[2, 3, 7, 11, 2, 3, 7, 11, 2, 3, 7, 11]"
      ]
     },
     "execution_count": 20,
     "metadata": {},
     "output_type": "execute_result"
    }
   ],
   "source": [
    "int_list * 3"
   ]
  },
  {
   "cell_type": "code",
   "execution_count": 21,
   "metadata": {
    "id": "uh_Bpd5r2kOn",
    "outputId": "b18e36c4-84c3-415d-d4be-2a185ac6266d"
   },
   "outputs": [
    {
     "data": {
      "text/plain": [
       "[2, 3, 7, 11, 2, 3, 7, 11]"
      ]
     },
     "execution_count": 21,
     "metadata": {},
     "output_type": "execute_result"
    }
   ],
   "source": [
    "2 * int_list"
   ]
  },
  {
   "cell_type": "markdown",
   "metadata": {
    "id": "3x7ntECh2kOt"
   },
   "source": [
    "## 사전"
   ]
  },
  {
   "cell_type": "markdown",
   "metadata": {
    "id": "0RQVracz2kOt"
   },
   "source": [
    "현대 프로그래밍 언어 분야, 특히 데이터 분석 분야에서 가장 중요하게 사용되는 자료형 중의 하나가 사전 `dict` 이다.\n",
    "언어에 따라 표현과 사용법에 조금씩 차이가 있지만 연관 배열<font size='2'>associative array</font> 또는 해시 테이블<font size='2'>hash table</font>로 불린다."
   ]
  },
  {
   "cell_type": "markdown",
   "metadata": {
    "id": "a08Fpc4u2kOt"
   },
   "source": [
    "사전 자료형은 **키**<font size='2'>key</font>와\n",
    "**값**<font size='2'>value</font>의\n",
    "쌍으로 구성된 항목들의 모음이며, 아래 형식으로 키와 값의 관계를 지정한다.\n",
    "\n",
    "```python\n",
    "키 : 값\n",
    "```"
   ]
  },
  {
   "cell_type": "markdown",
   "metadata": {
    "id": "96UBxAY92kOt"
   },
   "source": [
    "**사전 객체 생성**"
   ]
  },
  {
   "cell_type": "markdown",
   "metadata": {
    "id": "HpgqYVOX2kOt"
   },
   "source": [
    "사전 객체를 생성하기 위해서는 중괄호 또는 `dict()` 함수가 사용된다.\n",
    "예를 들어 비어 있는 사전 객체는 다음과 같이 생성한다."
   ]
  },
  {
   "cell_type": "code",
   "execution_count": 22,
   "metadata": {},
   "outputs": [
    {
     "data": {
      "text/plain": [
       "{}"
      ]
     },
     "execution_count": 22,
     "metadata": {},
     "output_type": "execute_result"
    }
   ],
   "source": [
    "empty_dict = {}\n",
    "empty_dict"
   ]
  },
  {
   "cell_type": "markdown",
   "metadata": {},
   "source": [
    "첫번째 코드는 중괄호 내부에 `키:값` 형식의 항목들을 입력하여 사전 객체를 생성하는 방법이고, 두번째 코드는 `dict()` 함수에 튜플의 리스트를  입력하여 사전을 생성하는 방법이다."
   ]
  },
  {
   "cell_type": "code",
   "execution_count": 23,
   "metadata": {},
   "outputs": [
    {
     "data": {
      "text/plain": [
       "{'a': 'some value', 'b': [1, 2, 3, 4]}"
      ]
     },
     "execution_count": 23,
     "metadata": {},
     "output_type": "execute_result"
    }
   ],
   "source": [
    "dict_ab = {'a' : 'some value', 'b' : [1, 2, 3, 4]}\n",
    "dict_ab"
   ]
  },
  {
   "cell_type": "code",
   "execution_count": 24,
   "metadata": {},
   "outputs": [
    {
     "data": {
      "text/plain": [
       "{1: 'a', 2: 'b'}"
      ]
     },
     "execution_count": 24,
     "metadata": {},
     "output_type": "execute_result"
    }
   ],
   "source": [
    "dict([(1, 'a'), (2, 'b')])"
   ]
  },
  {
   "cell_type": "code",
   "execution_count": 25,
   "metadata": {},
   "outputs": [
    {
     "data": {
      "text/plain": [
       "{1: 'a', 2: 'b'}"
      ]
     },
     "execution_count": 25,
     "metadata": {},
     "output_type": "execute_result"
    }
   ],
   "source": [
    "dict([[1, 'a'], [2, 'b']])"
   ]
  },
  {
   "cell_type": "markdown",
   "metadata": {
    "id": "y8atQaUw2kOu"
   },
   "source": [
    "**`keys()` 메서드와 `values()` 매서드**"
   ]
  },
  {
   "cell_type": "markdown",
   "metadata": {
    "id": "6Jp1GYCB2kOu"
   },
   "source": [
    "`key()` 메서드는 사전의 키만 모아 별도의 리스트를 생성하고, `value()` 메서드는 값만을 모은 리스트를 만든다."
   ]
  },
  {
   "cell_type": "code",
   "execution_count": 26,
   "metadata": {
    "colab": {
     "base_uri": "https://localhost:8080/"
    },
    "executionInfo": {
     "elapsed": 32,
     "status": "ok",
     "timestamp": 1750946468442,
     "user": {
      "displayName": "ter wa",
      "userId": "01448980402448893441"
     },
     "user_tz": -540
    },
    "id": "2yCVkfyC2kOu",
    "outputId": "a51708cc-d5fe-4860-9ee9-cc04e2b42216"
   },
   "outputs": [
    {
     "data": {
      "text/plain": [
       "['a', 'b']"
      ]
     },
     "execution_count": 26,
     "metadata": {},
     "output_type": "execute_result"
    }
   ],
   "source": [
    "list(dict_ab.keys())"
   ]
  },
  {
   "cell_type": "code",
   "execution_count": 27,
   "metadata": {
    "colab": {
     "base_uri": "https://localhost:8080/"
    },
    "executionInfo": {
     "elapsed": 43,
     "status": "ok",
     "timestamp": 1750946477728,
     "user": {
      "displayName": "ter wa",
      "userId": "01448980402448893441"
     },
     "user_tz": -540
    },
    "id": "_7ueQUP22kOv",
    "outputId": "25932063-b1dd-4698-af80-d1df656e3166"
   },
   "outputs": [
    {
     "data": {
      "text/plain": [
       "['some value', [1, 2, 3, 4]]"
      ]
     },
     "execution_count": 27,
     "metadata": {},
     "output_type": "execute_result"
    }
   ],
   "source": [
    "list(dict_ab.values())"
   ]
  },
  {
   "cell_type": "markdown",
   "metadata": {
    "id": "96UBxAY92kOt"
   },
   "source": [
    "**사전의 항목 추가 및 업데이트**"
   ]
  },
  {
   "cell_type": "markdown",
   "metadata": {
    "id": "vRR6Iwgx2kOt"
   },
   "source": [
    "사전 `dict_ab`에 새로운 항목 `7 : 'an integer'` 를 추가하려면 아래와 같이 진행해야 한다."
   ]
  },
  {
   "cell_type": "code",
   "execution_count": 28,
   "metadata": {
    "id": "gS-UBqNG2kOt"
   },
   "outputs": [
    {
     "data": {
      "text/plain": [
       "{'a': 'some value', 'b': [1, 2, 3, 4], 7: 'an integer'}"
      ]
     },
     "execution_count": 28,
     "metadata": {},
     "output_type": "execute_result"
    }
   ],
   "source": [
    "dict_ab[7] = 'an integer'\n",
    "dict_ab"
   ]
  },
  {
   "cell_type": "markdown",
   "metadata": {
    "id": "7RDUZrsc2kOt"
   },
   "source": [
    "아래 코드는 `'language' : 'python'` 을 추가한다."
   ]
  },
  {
   "cell_type": "code",
   "execution_count": 29,
   "metadata": {
    "id": "t10EuW6q2kOu",
    "outputId": "86ff42b7-0c8a-4611-bcf7-f3ec1fe8d511"
   },
   "outputs": [
    {
     "data": {
      "text/plain": [
       "{'a': 'some value', 'b': [1, 2, 3, 4], 7: 'an integer', 'language': 'python'}"
      ]
     },
     "execution_count": 29,
     "metadata": {},
     "output_type": "execute_result"
    }
   ],
   "source": [
    "dict_ab['language'] = 'python'\n",
    "dict_ab"
   ]
  },
  {
   "cell_type": "markdown",
   "metadata": {},
   "source": [
    "항목의 키를 이용 기존의 항목 키-값 에서 값을 변경할 수 있다.\n",
    "예를 들어, 아래 코드는 키 `'language'`에 대응하는 값을 `'python'` 에서 `'python3'`로 업데이트한다."
   ]
  },
  {
   "cell_type": "code",
   "execution_count": 30,
   "metadata": {},
   "outputs": [
    {
     "data": {
      "text/plain": [
       "{'a': 'some value', 'b': [1, 2, 3, 4], 7: 'an integer', 'language': 'python3'}"
      ]
     },
     "execution_count": 30,
     "metadata": {},
     "output_type": "execute_result"
    }
   ],
   "source": [
    "dict_ab['language'] = 'python3'\n",
    "dict_ab"
   ]
  },
  {
   "cell_type": "markdown",
   "metadata": {},
   "source": [
    "**사전의 항목 확인**"
   ]
  },
  {
   "cell_type": "markdown",
   "metadata": {
    "id": "BqSSIk8e2kOu"
   },
   "source": [
    "특정 키가 사전에 사용되었는지 여부를 확인할 때 `in` 연산자를 활용한다."
   ]
  },
  {
   "cell_type": "code",
   "execution_count": 31,
   "metadata": {
    "id": "_s1yI7972kOu",
    "outputId": "55651a12-7498-468c-897e-5d89a58bfb7c"
   },
   "outputs": [
    {
     "data": {
      "text/plain": [
       "True"
      ]
     },
     "execution_count": 31,
     "metadata": {},
     "output_type": "execute_result"
    }
   ],
   "source": [
    "'b' in dict_ab"
   ]
  },
  {
   "cell_type": "markdown",
   "metadata": {
    "id": "-GDiFRF92kOu"
   },
   "source": [
    "특정 키와 연관된 값을 확인하려면 인덱싱 방식처럼 키를 사용하면 된다."
   ]
  },
  {
   "cell_type": "code",
   "execution_count": 32,
   "metadata": {
    "colab": {
     "base_uri": "https://localhost:8080/"
    },
    "executionInfo": {
     "elapsed": 45,
     "status": "ok",
     "timestamp": 1750944108568,
     "user": {
      "displayName": "ter wa",
      "userId": "01448980402448893441"
     },
     "user_tz": -540
    },
    "id": "shqdPFNX2kOu",
    "outputId": "40fd2352-a8d1-4cce-9aeb-ad5859beee83"
   },
   "outputs": [
    {
     "data": {
      "text/plain": [
       "[1, 2, 3, 4]"
      ]
     },
     "execution_count": 32,
     "metadata": {},
     "output_type": "execute_result"
    }
   ],
   "source": [
    "dict_ab['b']"
   ]
  },
  {
   "cell_type": "markdown",
   "metadata": {},
   "source": [
    "## 리스트, 사전과 함께 사용하기 유용한 함수"
   ]
  },
  {
   "cell_type": "markdown",
   "metadata": {},
   "source": [
    "**`range()` 함수**"
   ]
  },
  {
   "cell_type": "markdown",
   "metadata": {},
   "source": [
    "`range()` 함수는 규칙성을 가진 정수들의 모음을 반환한다. \n",
    "첫째 인자는 원하는 정수 구간의 시작값을, 둘째 인자는 원하는 구간의 끝값보다 1만큼 큰 값으로 입력해야 한다. 반환값의 자료형은 `range` 객체이다.\n",
    "예를 들어, 0부터 9까지의 정수들로 이루어진 `range` 객체를 다음과 같이 생성한다."
   ]
  },
  {
   "cell_type": "code",
   "execution_count": 33,
   "metadata": {},
   "outputs": [
    {
     "data": {
      "text/plain": [
       "range(0, 10)"
      ]
     },
     "execution_count": 33,
     "metadata": {},
     "output_type": "execute_result"
    }
   ],
   "source": [
    "range(10)"
   ]
  },
  {
   "cell_type": "code",
   "execution_count": 34,
   "metadata": {},
   "outputs": [
    {
     "data": {
      "text/plain": [
       "range"
      ]
     },
     "execution_count": 34,
     "metadata": {},
     "output_type": "execute_result"
    }
   ],
   "source": [
    "type(range(10))"
   ]
  },
  {
   "cell_type": "markdown",
   "metadata": {},
   "source": [
    "반면에 아래 코드는 1부터 9까지의 정수를 담은 `range` 객체를 생성한다."
   ]
  },
  {
   "cell_type": "code",
   "execution_count": 35,
   "metadata": {},
   "outputs": [
    {
     "data": {
      "text/plain": [
       "range(1, 10)"
      ]
     },
     "execution_count": 35,
     "metadata": {},
     "output_type": "execute_result"
    }
   ],
   "source": [
    "range(1, 10)"
   ]
  },
  {
   "cell_type": "markdown",
   "metadata": {},
   "source": [
    "`range(0, 10)`은 `range(10)`과 동일한데 이유는 첫째 인자가 0일 때 생략 가능하기 때문이다."
   ]
  },
  {
   "cell_type": "code",
   "execution_count": 36,
   "metadata": {},
   "outputs": [
    {
     "data": {
      "text/plain": [
       "range(0, 10)"
      ]
     },
     "execution_count": 36,
     "metadata": {},
     "output_type": "execute_result"
    }
   ],
   "source": [
    "range(0, 10)"
   ]
  },
  {
   "cell_type": "markdown",
   "metadata": {},
   "source": [
    "`list` 객체와 달리 `range` 객체의 내부는 들여다볼 수 없다."
   ]
  },
  {
   "cell_type": "code",
   "execution_count": 37,
   "metadata": {},
   "outputs": [
    {
     "name": "stdout",
     "output_type": "stream",
     "text": [
      "range(0, 10)\n"
     ]
    }
   ],
   "source": [
    "print(range(0,10))"
   ]
  },
  {
   "cell_type": "markdown",
   "metadata": {},
   "source": [
    "리스트로 형변환하면 그제서야 `range` 객체를 리스트 객체로 변환해서 항목들을 보여준다.\n",
    "이처럼 `range()` 함수를 이용하여 `range` 객체를 생성한 다음, 리스트로 형변환하여 활용하는 방법이 매우 빈번하게 사용된다."
   ]
  },
  {
   "cell_type": "code",
   "execution_count": 38,
   "metadata": {},
   "outputs": [
    {
     "data": {
      "text/plain": [
       "[0, 1, 2, 3, 4, 5, 6, 7, 8, 9]"
      ]
     },
     "execution_count": 38,
     "metadata": {},
     "output_type": "execute_result"
    }
   ],
   "source": [
    "list(range(0,10))"
   ]
  },
  {
   "cell_type": "markdown",
   "metadata": {},
   "source": [
    "`range()` 함수에서도 보폭을 사용할 수 있다.\n",
    "예를 들어, 0에서 19까지의 정수중에서 짝수만으로 이루어진 `range` 객체는 다음과 같이 보폭 2를 셋째 인자로 지정하여 생성한다."
   ]
  },
  {
   "cell_type": "code",
   "execution_count": 39,
   "metadata": {},
   "outputs": [
    {
     "data": {
      "text/plain": [
       "[0, 2, 4, 6, 8, 10, 12, 14, 16, 18]"
      ]
     },
     "execution_count": 39,
     "metadata": {},
     "output_type": "execute_result"
    }
   ],
   "source": [
    "list(range(0, 20, 2))"
   ]
  },
  {
   "cell_type": "markdown",
   "metadata": {},
   "source": [
    "리스트 슬라이싱에서처럼 음수의 보폭을 이용해 크기 역순으로 정수를 담는 `range` 객체를 만들 수도 있다.\n",
    "첫째 인자는 원하는 구간의 오른쪽 끝 정수, 둘째 인자는 원하는 구간의 왼쪽끝 정수보다 1만큼 작은 값으로 설정하면 된다."
   ]
  },
  {
   "cell_type": "code",
   "execution_count": 40,
   "metadata": {},
   "outputs": [
    {
     "data": {
      "text/plain": [
       "[5, 3, 1]"
      ]
     },
     "execution_count": 40,
     "metadata": {},
     "output_type": "execute_result"
    }
   ],
   "source": [
    "list(range(5, 0, -2))"
   ]
  },
  {
   "cell_type": "markdown",
   "metadata": {},
   "source": [
    "`range` 객체가 리스트보다 훨씬 적은 메모리를 사용하기 때문에, `for` 반복문의 인덱스 집합으로 자주 활용된다.\n",
    "예를 들어, 아래 두 코드는 0부터 99,999 까지의 정수 중에서 3 또는 5의 배수를 모두 더하는 경우와, 리스트의 길이 정보를 이용해 활용되는 예를 보여준다."
   ]
  },
  {
   "cell_type": "code",
   "execution_count": 41,
   "metadata": {},
   "outputs": [
    {
     "name": "stdout",
     "output_type": "stream",
     "text": [
      "2333316668\n"
     ]
    }
   ],
   "source": [
    "sum = 0\n",
    "\n",
    "for i in range(100_000):\n",
    "    # %는 나머지 연산자\n",
    "    if i % 3 == 0 or i % 5 == 0:\n",
    "        sum += i\n",
    "\n",
    "print(sum)"
   ]
  },
  {
   "cell_type": "code",
   "execution_count": 42,
   "metadata": {},
   "outputs": [
    {
     "name": "stdout",
     "output_type": "stream",
     "text": [
      "1\n",
      "2\n",
      "3\n",
      "4\n"
     ]
    }
   ],
   "source": [
    "seq = [1, 2, 3, 4]\n",
    "for i in range(len(seq)):\n",
    "    val = seq[i]\n",
    "    print(val)"
   ]
  },
  {
   "cell_type": "markdown",
   "metadata": {},
   "source": [
    "**`enumerate()` 함수**"
   ]
  },
  {
   "cell_type": "markdown",
   "metadata": {},
   "source": [
    "리스트의 항목과 해당 항목의 인덱스 정보를 함께 활용해야 할 때, `enumerate()` 함수가 매우 유용하다.\n",
    "\n",
    "`enumerate()` 함수는 리스트를 받아서\n",
    "리스트의 항목과 인덱스의 정보를 제공하는 객체를 지정한다.\n",
    "아래 코드는 `for` 반복문을 이용하여 리스트의 내용을 확인하는 예로서, 짝수 인덱스에 해당하는 리스트 항목만 출력한다."
   ]
  },
  {
   "cell_type": "code",
   "execution_count": 43,
   "metadata": {},
   "outputs": [
    {
     "name": "stdout",
     "output_type": "stream",
     "text": [
      "foo\n",
      "baz\n",
      "thon\n"
     ]
    }
   ],
   "source": [
    "some_list = ['foo', 'bar', 'baz', 'pyt', 'thon']\n",
    "\n",
    "for i, v in enumerate(some_list):\n",
    "    if i % 2 == 0:\n",
    "        print(v)"
   ]
  },
  {
   "cell_type": "markdown",
   "metadata": {},
   "source": [
    "반면에 아래 코드는 리스트의 항목을 키(key)로, 인덱스는 값(value)으로 갖는 항목들로 이루어진 사전 객체를 생성한다."
   ]
  },
  {
   "cell_type": "code",
   "execution_count": 44,
   "metadata": {},
   "outputs": [
    {
     "data": {
      "text/plain": [
       "{'foo': 0, 'bar': 1, 'baz': 2, 'pyt': 3, 'thon': 4}"
      ]
     },
     "execution_count": 44,
     "metadata": {},
     "output_type": "execute_result"
    }
   ],
   "source": [
    "mapping = {}\n",
    "\n",
    "for i, v in enumerate(some_list):\n",
    "    mapping[v] = i\n",
    "\n",
    "mapping"
   ]
  },
  {
   "cell_type": "markdown",
   "metadata": {},
   "source": [
    "**`zip()` 함수**"
   ]
  },
  {
   "cell_type": "markdown",
   "metadata": {},
   "source": [
    "`zip()` 함수는 문자열, 튜플, 리스트 여러 개의 항목을 순서대로 짝지어서 튜플의 리스트 형식의 객체를 생성한다. 'range()' 객체에서처럼, 리스트로 형변환해야만 내용이 확인된다."
   ]
  },
  {
   "cell_type": "code",
   "execution_count": 45,
   "metadata": {},
   "outputs": [
    {
     "data": {
      "text/plain": [
       "[('a', 'e'), ('b', 'f'), ('c', 'g')]"
      ]
     },
     "execution_count": 45,
     "metadata": {},
     "output_type": "execute_result"
    }
   ],
   "source": [
    "list(zip(\"abc\", \"efg\"))"
   ]
  },
  {
   "cell_type": "markdown",
   "metadata": {},
   "source": [
    "자료형이 달라도 되며, 각 자료형의 길이가 다르면 짧은 길이에 맞춰서 짝을 짓는다."
   ]
  },
  {
   "cell_type": "code",
   "execution_count": 46,
   "metadata": {},
   "outputs": [
    {
     "data": {
      "text/plain": [
       "[('a', 1), ('b', 2)]"
      ]
     },
     "execution_count": 46,
     "metadata": {},
     "output_type": "execute_result"
    }
   ],
   "source": [
    "list(zip(\"abc\", [1, 2]))"
   ]
  },
  {
   "cell_type": "code",
   "execution_count": 47,
   "metadata": {},
   "outputs": [
    {
     "data": {
      "text/plain": [
       "[('foo', 'one'), ('bar', 'two'), ('baz', 'three')]"
      ]
     },
     "execution_count": 47,
     "metadata": {},
     "output_type": "execute_result"
    }
   ],
   "source": [
    "seq1 = ['foo', 'bar', 'baz']\n",
    "seq2 = ['one', 'two', 'three']\n",
    "\n",
    "zipped = zip(seq1, seq2)\n",
    "list(zipped)"
   ]
  },
  {
   "cell_type": "markdown",
   "metadata": {},
   "source": [
    "앞의 함수들처럼 `for` 반복문에 자주 활용된다.\n",
    "아래 코드는 두 개의 리스트의 항목을 짝을 지은 후 인덱스와 함께 출력해준다."
   ]
  },
  {
   "cell_type": "code",
   "execution_count": 48,
   "metadata": {},
   "outputs": [
    {
     "name": "stdout",
     "output_type": "stream",
     "text": [
      "0: foo, 2\n",
      "1: bar, 2\n",
      "2: baz, 2\n"
     ]
    }
   ],
   "source": [
    "for i, (a, b) in enumerate(zip(seq1, seq2)):\n",
    "    print(f\"{i}: {a}, {2}\")"
   ]
  },
  {
   "cell_type": "markdown",
   "metadata": {},
   "source": [
    "사전 객체 생성에도 자주 활용된다."
   ]
  },
  {
   "cell_type": "code",
   "execution_count": 49,
   "metadata": {},
   "outputs": [
    {
     "data": {
      "text/plain": [
       "{0: 4, 1: 3, 2: 2, 3: 1, 4: 0}"
      ]
     },
     "execution_count": 49,
     "metadata": {},
     "output_type": "execute_result"
    }
   ],
   "source": [
    "mapping = dict(zip(range(5), reversed(range(5))))\n",
    "mapping"
   ]
  },
  {
   "cell_type": "markdown",
   "metadata": {},
   "source": [
    ":::{admonition}  **f-문자열** <font size='2'>f-string</font>\n",
    ":class: note\n",
    "\n",
    " f-문자열은 Python 3.6부터 도입된 기능으로 문자열 포맷팅을 간결하고 읽기 쉽게 만들어준다. 문자열 앞에 f를 붙이면 문자열 내부에 값이 확정되지 않는 변수나 {}로 감싼 표현식을 넣을 수 있다.\n",
    "\n",
    "주요 사용법은 다음과 같다.\n",
    "\n",
    "| 기능                 | 설명                                                                 | 예시 코드                                  | 출력 결과         |\n",
    "| :--------------------- | :------------------------------------------------------------------- | :----------------------------------------- | :---------------- |\n",
    "| 변수 삽입              | 문자열 내부에 변수 값을 직접 삽입                                    | `name = \"Alice\"`<br>`print(f\"안녕, {name}!\")` | 안녕, Alice!      |\n",
    "| 표현식 삽입            | 문자열 내부에 간단한 파이썬 표현식 삽입                              | `x = 10`<br>`y = 20`<br>`print(f\"{x} + {y} = {x + y}\")` | 10 + 20 = 30      |\n",
    "| 소수점 자릿수 제한     | 부동소수점 숫자의 소수점 이하 자릿수 지정                            | `pi = 3.14159`<br>`print(f\"{pi:.2f}\")`      | 3.14              |\n",
    "| 지수 표기법            | 숫자를 과학적(지수) 표기법으로 표시                                  | `large = 1230000`<br>`print(f\"{large:.1e}\")` | 1.2e+06           |\n",
    "| 천 단위 구분 기호      | 정수 또는 부동소수점 숫자에 천 단위 구분 기호(쉼표) 추가             | `num = 1234567`<br>`print(f\"{num:,}\")`      | 1,234,567         |\n",
    "| 백분율 표시            | 숫자를 백분율로 표시                                                 | `ratio = 0.752`<br>`print(f\"{ratio:.2%}\")`   | 75.20%               |\n",
    "\n",
    "\n",
    ":::"
   ]
  }
 ],
 "metadata": {
  "colab": {
   "provenance": [
    {
     "file_id": "1IMVuHA0BX-8H3YJucWxJBdivhGVWdBpL",
     "timestamp": 1750849460794
    },
    {
     "file_id": "https://github.com/codingalzi/statsRev/blob/master/jupyter-book/lists_dicts.ipynb",
     "timestamp": 1750837708589
    }
   ],
   "toc_visible": true
  },
  "kernelspec": {
   "display_name": "base",
   "language": "python",
   "name": "python3"
  },
  "language_info": {
   "codemirror_mode": {
    "name": "ipython",
    "version": 3
   },
   "file_extension": ".py",
   "mimetype": "text/x-python",
   "name": "python",
   "nbconvert_exporter": "python",
   "pygments_lexer": "ipython3",
   "version": "3.12.2"
  },
  "toc": {
   "nav_menu": {},
   "number_sections": true,
   "sideBar": true,
   "skip_h1_title": false,
   "toc_cell": false,
   "toc_position": {},
   "toc_section_display": "block",
   "toc_window_display": false
  }
 },
 "nbformat": 4,
 "nbformat_minor": 1
}