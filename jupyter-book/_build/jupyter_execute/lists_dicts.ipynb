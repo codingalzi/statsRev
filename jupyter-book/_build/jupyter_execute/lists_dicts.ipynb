{
 "cells": [
  {
   "cell_type": "markdown",
   "metadata": {
    "id": "GE3FBBsy_lI9"
   },
   "source": [
    "(ch:lists_dicts)=\n",
    "# 리스트와 사전"
   ]
  },
  {
   "cell_type": "markdown",
   "metadata": {},
   "source": [
    "아래 그림은 여러 개의 값을 하나의 값으로 묶어 처리할 수 있도록 도와주는 네 개의 \n",
    "**내장 자료 구조**<font size='2'>built-in data structure</font>를 표현한다.\n",
    "내장<font size='2'>built-in</font>은 파이썬이 기본으로 제공한다는 의미다.\n",
    "반면에 **자료 구조**<font size='2'>data structure</font>는 여러 개의 값으로 구성된 보다 복잡한 객체를 가리킨다."
   ]
  },
  {
   "cell_type": "markdown",
   "metadata": {},
   "source": [
    "<div align=\"center\" border=\"1px\"><img src=\"https://raw.githubusercontent.com/codingalzi/42H/master/jupyter-book/images/built-in-types.png\" width=\"350\"/></div>\n",
    "<br>"
   ]
  },
  {
   "cell_type": "markdown",
   "metadata": {},
   "source": [
    "데이터 사이언스에서 가장 많이 활용되는 넘파이 어레이 객체와 판다스 데이터프레임 객체의\n",
    "활용법 이해에 도움이 되는 리스트와 사전을 간략하게 소개한다."
   ]
  },
  {
   "cell_type": "markdown",
   "metadata": {
    "id": "236OtYrY2kOd"
   },
   "source": [
    "## 리스트"
   ]
  },
  {
   "cell_type": "markdown",
   "metadata": {
    "id": "3VWbchqD2kOd"
   },
   "source": [
    "리스트는 여러 개의 값들을 순차적으로 모아놓은 객체이다.\n",
    "아래 코드에서\n",
    "`int_list`는 정수로 구성된 리스트를,\n",
    "`float_list`는 부동소수점으로 구성된 리스트를,\n",
    "`str_list`는 문자열로 구성된 리스트를 \n",
    "가리킨다."
   ]
  },
  {
   "cell_type": "code",
   "execution_count": 1,
   "metadata": {
    "colab": {
     "base_uri": "https://localhost:8080/"
    },
    "executionInfo": {
     "elapsed": 23,
     "status": "ok",
     "timestamp": 1750914865625,
     "user": {
      "displayName": "ter wa",
      "userId": "01448980402448893441"
     },
     "user_tz": -540
    },
    "id": "zNfVIUZA2kOd",
    "outputId": "bc14200e-6c1d-4b20-c236-46f968c14db3"
   },
   "outputs": [],
   "source": [
    "int_list = [2, 3, 7, 11]\n",
    "float_list = [3.14, 2.17, 7.0, -0.856, 20.8]\n",
    "str_list = ['foo', 'bar', 'baz']"
   ]
  },
  {
   "cell_type": "markdown",
   "metadata": {
    "id": "3VWbchqD2kOd"
   },
   "source": [
    "아래 코드의 변수 `comp_list`처럼, \n",
    "하나의 리스트에 정수, 소수, 문자열, 리스트 등 다양한 유형의 값들이 함께 담길 수 있다."
   ]
  },
  {
   "cell_type": "code",
   "execution_count": 2,
   "metadata": {
    "colab": {
     "base_uri": "https://localhost:8080/"
    },
    "executionInfo": {
     "elapsed": 23,
     "status": "ok",
     "timestamp": 1750914865625,
     "user": {
      "displayName": "ter wa",
      "userId": "01448980402448893441"
     },
     "user_tz": -540
    },
    "id": "zNfVIUZA2kOd",
    "outputId": "bc14200e-6c1d-4b20-c236-46f968c14db3"
   },
   "outputs": [
    {
     "data": {
      "text/plain": [
       "[2, 3.14, 'foo', [2, 3, 7, 11]]"
      ]
     },
     "execution_count": 2,
     "metadata": {},
     "output_type": "execute_result"
    }
   ],
   "source": [
    "comp_list = [2, 3.14, 'foo', int_list]\n",
    "comp_list"
   ]
  },
  {
   "cell_type": "markdown",
   "metadata": {
    "id": "3VWbchqD2kOd"
   },
   "source": [
    "리스트의 자료형은 포함된 항목의 자료형과 무관하게 `list`로 지정된다."
   ]
  },
  {
   "cell_type": "code",
   "execution_count": 3,
   "metadata": {
    "colab": {
     "base_uri": "https://localhost:8080/"
    },
    "executionInfo": {
     "elapsed": 24,
     "status": "ok",
     "timestamp": 1750914930724,
     "user": {
      "displayName": "ter wa",
      "userId": "01448980402448893441"
     },
     "user_tz": -540
    },
    "id": "XnoUQG5L2kOe",
    "outputId": "80dbd780-5526-4662-87e4-9e3fa7039f3b"
   },
   "outputs": [
    {
     "data": {
      "text/plain": [
       "list"
      ]
     },
     "execution_count": 3,
     "metadata": {},
     "output_type": "execute_result"
    }
   ],
   "source": [
    "type(int_list)"
   ]
  },
  {
   "cell_type": "code",
   "execution_count": 4,
   "metadata": {
    "colab": {
     "base_uri": "https://localhost:8080/"
    },
    "executionInfo": {
     "elapsed": 24,
     "status": "ok",
     "timestamp": 1750914930724,
     "user": {
      "displayName": "ter wa",
      "userId": "01448980402448893441"
     },
     "user_tz": -540
    },
    "id": "XnoUQG5L2kOe",
    "outputId": "80dbd780-5526-4662-87e4-9e3fa7039f3b"
   },
   "outputs": [
    {
     "data": {
      "text/plain": [
       "list"
      ]
     },
     "execution_count": 4,
     "metadata": {},
     "output_type": "execute_result"
    }
   ],
   "source": [
    "type(float_list)"
   ]
  },
  {
   "cell_type": "code",
   "execution_count": 5,
   "metadata": {
    "colab": {
     "base_uri": "https://localhost:8080/"
    },
    "executionInfo": {
     "elapsed": 23,
     "status": "ok",
     "timestamp": 1750914905137,
     "user": {
      "displayName": "ter wa",
      "userId": "01448980402448893441"
     },
     "user_tz": -540
    },
    "id": "ap2JD15O2kOf",
    "outputId": "ae4cc155-6689-4896-bdda-63571bd760a8"
   },
   "outputs": [
    {
     "data": {
      "text/plain": [
       "list"
      ]
     },
     "execution_count": 5,
     "metadata": {},
     "output_type": "execute_result"
    }
   ],
   "source": [
    "type(str_list)"
   ]
  },
  {
   "cell_type": "code",
   "execution_count": 6,
   "metadata": {
    "colab": {
     "base_uri": "https://localhost:8080/"
    },
    "executionInfo": {
     "elapsed": 9,
     "status": "ok",
     "timestamp": 1750914915362,
     "user": {
      "displayName": "ter wa",
      "userId": "01448980402448893441"
     },
     "user_tz": -540
    },
    "id": "Abbfk5Xb2kOf",
    "outputId": "4208c949-6086-4804-fd60-a04a298375e7"
   },
   "outputs": [
    {
     "data": {
      "text/plain": [
       "list"
      ]
     },
     "execution_count": 6,
     "metadata": {},
     "output_type": "execute_result"
    }
   ],
   "source": [
    "type(comp_list)"
   ]
  },
  {
   "cell_type": "markdown",
   "metadata": {
    "id": "Z9AszUtN2kOg"
   },
   "source": [
    "중첩 리스트는 리스트로 구성된 리스트를 의미한다.\n",
    "아래 코드의 `list_ragged` 변수가 가리키는 리스트처럼\n",
    "항목으로 사용된 리스트들의 길이가 서로 달라도 무방하다."
   ]
  },
  {
   "cell_type": "code",
   "execution_count": 7,
   "metadata": {
    "colab": {
     "base_uri": "https://localhost:8080/"
    },
    "executionInfo": {
     "elapsed": 68,
     "status": "ok",
     "timestamp": 1750915028319,
     "user": {
      "displayName": "ter wa",
      "userId": "01448980402448893441"
     },
     "user_tz": -540
    },
    "id": "PDvygucP2kOg",
    "outputId": "7a83b424-ce77-41b6-adf8-dbc2a7d55b31"
   },
   "outputs": [
    {
     "data": {
      "text/plain": [
       "[[1, 2, 3, 4], [5, 6, 7], [8, 9]]"
      ]
     },
     "execution_count": 7,
     "metadata": {},
     "output_type": "execute_result"
    }
   ],
   "source": [
    "list_ragged = [[1, 2, 3, 4], [5, 6, 7], [8, 9]]\n",
    "list_ragged"
   ]
  },
  {
   "cell_type": "markdown",
   "metadata": {
    "id": "Z9AszUtN2kOg"
   },
   "source": [
    "중첩 리스트 자체의 길이는 항목으로 사용된 리스트의 길이와 무관하다."
   ]
  },
  {
   "cell_type": "code",
   "execution_count": 8,
   "metadata": {
    "colab": {
     "base_uri": "https://localhost:8080/"
    },
    "executionInfo": {
     "elapsed": 39,
     "status": "ok",
     "timestamp": 1750915587262,
     "user": {
      "displayName": "ter wa",
      "userId": "01448980402448893441"
     },
     "user_tz": -540
    },
    "id": "6pLLT2FXsxlB",
    "outputId": "8df83ce3-b133-43f7-9a29-75307e49a238"
   },
   "outputs": [
    {
     "data": {
      "text/plain": [
       "3"
      ]
     },
     "execution_count": 8,
     "metadata": {},
     "output_type": "execute_result"
    }
   ],
   "source": [
    "len(list_ragged)"
   ]
  },
  {
   "cell_type": "markdown",
   "metadata": {
    "id": "nETs4xCi2kOg"
   },
   "source": [
    "### 리스트 인덱싱"
   ]
  },
  {
   "cell_type": "markdown",
   "metadata": {
    "id": "VwJQOejN2kOg"
   },
   "source": [
    "인덱스를 이용하여 지정된 위치의 항목을 추출할 수 있다."
   ]
  },
  {
   "cell_type": "code",
   "execution_count": 9,
   "metadata": {
    "colab": {
     "base_uri": "https://localhost:8080/"
    },
    "executionInfo": {
     "elapsed": 31,
     "status": "ok",
     "timestamp": 1750915155010,
     "user": {
      "displayName": "ter wa",
      "userId": "01448980402448893441"
     },
     "user_tz": -540
    },
    "id": "a9xfUuqw2kOh",
    "outputId": "afbdeaf7-1ef8-453f-9157-5f9ba7c4a958"
   },
   "outputs": [
    {
     "data": {
      "text/plain": [
       "2"
      ]
     },
     "execution_count": 9,
     "metadata": {},
     "output_type": "execute_result"
    }
   ],
   "source": [
    "int_list[0]"
   ]
  },
  {
   "cell_type": "code",
   "execution_count": 10,
   "metadata": {
    "colab": {
     "base_uri": "https://localhost:8080/"
    },
    "executionInfo": {
     "elapsed": 17,
     "status": "ok",
     "timestamp": 1750915187481,
     "user": {
      "displayName": "ter wa",
      "userId": "01448980402448893441"
     },
     "user_tz": -540
    },
    "id": "RfXH-M762kOh",
    "outputId": "4b4588c9-987d-49a1-8bbf-c737f8306105"
   },
   "outputs": [
    {
     "data": {
      "text/plain": [
       "[2, 3, 7, 11]"
      ]
     },
     "execution_count": 10,
     "metadata": {},
     "output_type": "execute_result"
    }
   ],
   "source": [
    "comp_list[3]"
   ]
  },
  {
   "cell_type": "markdown",
   "metadata": {},
   "source": [
    "**중첩 리스트 인덱싱**"
   ]
  },
  {
   "cell_type": "markdown",
   "metadata": {
    "id": "VwJQOejN2kOg"
   },
   "source": [
    "중첩 리스트에 대해서는 인덱싱을 반복적으로 적용할 수 있다."
   ]
  },
  {
   "cell_type": "code",
   "execution_count": 11,
   "metadata": {
    "colab": {
     "base_uri": "https://localhost:8080/"
    },
    "executionInfo": {
     "elapsed": 45,
     "status": "ok",
     "timestamp": 1750915151433,
     "user": {
      "displayName": "ter wa",
      "userId": "01448980402448893441"
     },
     "user_tz": -540
    },
    "id": "UGfYexBc2kOh",
    "outputId": "c4c283f0-764b-4104-9c61-6ad025a25d96"
   },
   "outputs": [
    {
     "data": {
      "text/plain": [
       "9"
      ]
     },
     "execution_count": 11,
     "metadata": {},
     "output_type": "execute_result"
    }
   ],
   "source": [
    "list_ragged[2][1]"
   ]
  },
  {
   "cell_type": "markdown",
   "metadata": {},
   "source": [
    "**리스트 항목 수정**"
   ]
  },
  {
   "cell_type": "markdown",
   "metadata": {
    "id": "96rvnhg52kOh"
   },
   "source": [
    "리스트는 항목을 수정할 수 있는 가변 자료형으로서, 인덱싱을 이용하여 특정 위치의 항목을 수정할 수 있다."
   ]
  },
  {
   "cell_type": "code",
   "execution_count": 12,
   "metadata": {
    "colab": {
     "base_uri": "https://localhost:8080/"
    },
    "executionInfo": {
     "elapsed": 23,
     "status": "ok",
     "timestamp": 1750915972781,
     "user": {
      "displayName": "ter wa",
      "userId": "01448980402448893441"
     },
     "user_tz": -540
    },
    "id": "d6d0qtuu2kOh",
    "outputId": "7efd735b-07d3-47e1-b77a-f1f8ca60a036"
   },
   "outputs": [
    {
     "data": {
      "text/plain": [
       "[1, 3, 7, 11]"
      ]
     },
     "execution_count": 12,
     "metadata": {},
     "output_type": "execute_result"
    }
   ],
   "source": [
    "int_list[0] = 1\n",
    "int_list"
   ]
  },
  {
   "cell_type": "code",
   "execution_count": 13,
   "metadata": {
    "colab": {
     "base_uri": "https://localhost:8080/"
    },
    "executionInfo": {
     "elapsed": 30,
     "status": "ok",
     "timestamp": 1750915973936,
     "user": {
      "displayName": "ter wa",
      "userId": "01448980402448893441"
     },
     "user_tz": -540
    },
    "id": "L0C7vvKE2kOh",
    "outputId": "61281409-44d4-4bc6-c1ff-486244f1a4fe"
   },
   "outputs": [
    {
     "data": {
      "text/plain": [
       "['foo', 'peekaboo', 'baz']"
      ]
     },
     "execution_count": 13,
     "metadata": {},
     "output_type": "execute_result"
    }
   ],
   "source": [
    "str_list[1] = 'peekaboo'\n",
    "str_list"
   ]
  },
  {
   "cell_type": "code",
   "execution_count": 14,
   "metadata": {
    "colab": {
     "base_uri": "https://localhost:8080/"
    },
    "executionInfo": {
     "elapsed": 182,
     "status": "ok",
     "timestamp": 1750916100755,
     "user": {
      "displayName": "ter wa",
      "userId": "01448980402448893441"
     },
     "user_tz": -540
    },
    "id": "u0jf_fJs2kOi",
    "outputId": "0211d5f7-ef97-4099-91f3-92d30fcac0f1"
   },
   "outputs": [
    {
     "data": {
      "text/plain": [
       "[[1, 2, 3, 4], [5, 6, 7], [10, 11, 12, 14]]"
      ]
     },
     "execution_count": 14,
     "metadata": {},
     "output_type": "execute_result"
    }
   ],
   "source": [
    "list_ragged[2] = [10,11,12,13]\n",
    "list_ragged[2][3] = 14\n",
    "list_ragged"
   ]
  },
  {
   "cell_type": "markdown",
   "metadata": {},
   "source": [
    "**음수 인덱스**"
   ]
  },
  {
   "cell_type": "markdown",
   "metadata": {
    "id": "a0p4DZKmtTCi"
   },
   "source": [
    "-1, -2, -3 등 음수 인덱스는 리스트 오른쪽에서부터 위치를 찾는다. -1번 인덱스는 리스트의 오른쪽 끝 항목, -2번 인덱스는 오른쪽 끝에서 두번째 항목과 같은 식이며,이는 중첩 리스트에서도 마찬가지로 적용된다."
   ]
  },
  {
   "cell_type": "code",
   "execution_count": 15,
   "metadata": {
    "colab": {
     "base_uri": "https://localhost:8080/"
    },
    "executionInfo": {
     "elapsed": 44,
     "status": "ok",
     "timestamp": 1750916240059,
     "user": {
      "displayName": "ter wa",
      "userId": "01448980402448893441"
     },
     "user_tz": -540
    },
    "id": "9dZ0mZcz2kOh",
    "outputId": "c59ee80b-4151-4e8e-eb38-6eb802bb9891"
   },
   "outputs": [
    {
     "data": {
      "text/plain": [
       "[5, 6, 7]"
      ]
     },
     "execution_count": 15,
     "metadata": {},
     "output_type": "execute_result"
    }
   ],
   "source": [
    "list_ragged[-2]"
   ]
  },
  {
   "cell_type": "code",
   "execution_count": 16,
   "metadata": {
    "colab": {
     "base_uri": "https://localhost:8080/"
    },
    "executionInfo": {
     "elapsed": 28,
     "status": "ok",
     "timestamp": 1750916316132,
     "user": {
      "displayName": "ter wa",
      "userId": "01448980402448893441"
     },
     "user_tz": -540
    },
    "id": "zNmBiBUW2kOh",
    "outputId": "8d422793-16f5-407e-8942-4626ec11e64a"
   },
   "outputs": [
    {
     "data": {
      "text/plain": [
       "[[1, 2, 8, 4], [5, 6, 7], [10, 11, 12, 14]]"
      ]
     },
     "execution_count": 16,
     "metadata": {},
     "output_type": "execute_result"
    }
   ],
   "source": [
    "list_ragged[-3][-2] = 8\n",
    "list_ragged"
   ]
  },
  {
   "cell_type": "markdown",
   "metadata": {
    "id": "TGsX-gzq2kOi"
   },
   "source": [
    "### 리스트 슬라이싱"
   ]
  },
  {
   "cell_type": "markdown",
   "metadata": {
    "id": "syMct8Ma2kOi"
   },
   "source": [
    "슬라이싱은 두 개의 인덱스로 지정된 구간에 포함된 항목들을 추출해 별도의 리스트를 생성한다.\n",
    "스텝을 통해 몇 걸음씩 건너뛸지도 지정할 수 있다."
   ]
  },
  {
   "cell_type": "markdown",
   "metadata": {
    "id": "syMct8Ma2kOi"
   },
   "source": [
    "- 시작 인덱스: 슬라이싱 구간 시작 인덱스. 생략되면 0을 기본값으로 사용.\n",
    "- 끝 인덱스: 슬라이싱 구간 끝 인덱스. 실제 구간은 이 인덱스의 이전 항목까지임. 생략되면 오른쪽 끝까지를 의미함.\n",
    "- 스텝: 구간 시작부터 몇 개씩 건너뛰며 항목을 확인할 것인지 결정. 스텝이 1이면 생략 가능."
   ]
  },
  {
   "cell_type": "markdown",
   "metadata": {
    "id": "syMct8Ma2kOi"
   },
   "source": [
    ":::{list-table} 슬라이싱 인자 기능\n",
    ":widths: 10 55\n",
    ":header-rows: 1\n",
    ":name: slicing-arguments\n",
    "\n",
    "*   - 구분\n",
    "    - 기능\n",
    "*   - 시작 인덱스\n",
    "    - 슬라이싱 구간 시작 인덱스. 생략되면 0을 기본값으로 사용.\n",
    "*   - 끝 인덱스\n",
    "    - 슬라이싱 구간 끝 인덱스. 실제 구간은 이 인덱스의 이전 항목까지임. 생략되면 오른쪽 끝까지를 의미함.\n",
    "*   - 스텝\n",
    "    - 구간 시작부터 몇 개씩 건너뛰며 항목을 확인할 것인지 결정. 스텝이 1이면 생략 가능.\n",
    ":::"
   ]
  },
  {
   "cell_type": "markdown",
   "metadata": {
    "id": "syMct8Ma2kOi"
   },
   "source": [
    "아래 코드는 1번부터 4번 인덱스의 값으로 이루어진 별도의 리스트 `sub_seq`를 생성한다. "
   ]
  },
  {
   "cell_type": "code",
   "execution_count": 17,
   "metadata": {
    "colab": {
     "base_uri": "https://localhost:8080/"
    },
    "executionInfo": {
     "elapsed": 23,
     "status": "ok",
     "timestamp": 1750919704056,
     "user": {
      "displayName": "ter wa",
      "userId": "01448980402448893441"
     },
     "user_tz": -540
    },
    "id": "ie1TnFwR2kOi",
    "outputId": "e391479f-c03a-4e25-ac32-a2a6cc3a0883"
   },
   "outputs": [
    {
     "data": {
      "text/plain": [
       "[2, 3, 7, 5]"
      ]
     },
     "execution_count": 17,
     "metadata": {},
     "output_type": "execute_result"
    }
   ],
   "source": [
    "seq = [7, 2, 3, 7, 5, 6, 0, 1]\n",
    "sub_seq = seq[1:5]\n",
    "\n",
    "sub_seq"
   ]
  },
  {
   "cell_type": "markdown",
   "metadata": {
    "id": "syMct8Ma2kOi"
   },
   "source": [
    "아래 그림은 두 개의 리스트 `seq`와 `sub_seq`가 메모리에 저장된 상황을 보여준다."
   ]
  },
  {
   "cell_type": "markdown",
   "metadata": {
    "id": "xMF-ejSn2kOi"
   },
   "source": [
    "<div align=\"center\"><img src=\"https://github.com/codingalzi/pydata/blob/master/notebooks/images/list_slicing10.png?raw=1\" style=\"width:420px;\"></div>"
   ]
  },
  {
   "cell_type": "markdown",
   "metadata": {},
   "source": [
    "**슬라이싱 인자 생략**"
   ]
  },
  {
   "cell_type": "markdown",
   "metadata": {
    "id": "RMoXgfDX2kOi"
   },
   "source": [
    "슬라이싱 명령문의 시작 인덱스와 끝 인덱스, 스텝 각각은 필요에 따라 생략될 수 있다.\n",
    "\n",
    "- 시작 인덱스 생략: 0을 의미함. 즉, 리스트의 처음부터.\n",
    "- 끝 인덱스 생략: 오른쪽 끝 인덱스+1을 의미함. 즉, 리스트의 끝까지.\n",
    "- 스텝 생략: 1을 의미. 즉, 지정된 구간의 모든 항목 대상."
   ]
  },
  {
   "cell_type": "markdown",
   "metadata": {
    "id": "RMoXgfDX2kOi"
   },
   "source": [
    "예를 들어, 아래 코드는 0번 인덱스부터 4번 인덱스까지의 구간을 대상으로 한다."
   ]
  },
  {
   "cell_type": "code",
   "execution_count": 18,
   "metadata": {
    "colab": {
     "base_uri": "https://localhost:8080/"
    },
    "executionInfo": {
     "elapsed": 23,
     "status": "ok",
     "timestamp": 1750919706439,
     "user": {
      "displayName": "ter wa",
      "userId": "01448980402448893441"
     },
     "user_tz": -540
    },
    "id": "6xuVtsI82kOi",
    "outputId": "dd4c4c21-2790-4937-b4da-efed46a39645"
   },
   "outputs": [
    {
     "data": {
      "text/plain": [
       "[7, 2, 3, 7, 5]"
      ]
     },
     "execution_count": 18,
     "metadata": {},
     "output_type": "execute_result"
    }
   ],
   "source": [
    "seq[:5]"
   ]
  },
  {
   "cell_type": "markdown",
   "metadata": {
    "id": "ACJOlbCn2kOi"
   },
   "source": [
    "아래 두 코드 모두 3번 인덱스부터 리스트 오른편 끝까지를 대상으로 한다."
   ]
  },
  {
   "cell_type": "code",
   "execution_count": 19,
   "metadata": {
    "colab": {
     "base_uri": "https://localhost:8080/"
    },
    "executionInfo": {
     "elapsed": 27,
     "status": "ok",
     "timestamp": 1750919709353,
     "user": {
      "displayName": "ter wa",
      "userId": "01448980402448893441"
     },
     "user_tz": -540
    },
    "id": "CwyUxUGA2kOi",
    "outputId": "990959b5-0107-4315-bb42-1c5832f299b6"
   },
   "outputs": [
    {
     "data": {
      "text/plain": [
       "[7, 5, 6, 0, 1]"
      ]
     },
     "execution_count": 19,
     "metadata": {},
     "output_type": "execute_result"
    }
   ],
   "source": [
    "seq[3:]"
   ]
  },
  {
   "cell_type": "code",
   "execution_count": 20,
   "metadata": {
    "colab": {
     "base_uri": "https://localhost:8080/"
    },
    "executionInfo": {
     "elapsed": 44,
     "status": "ok",
     "timestamp": 1750919903672,
     "user": {
      "displayName": "ter wa",
      "userId": "01448980402448893441"
     },
     "user_tz": -540
    },
    "id": "BYvdUX6I8y4D",
    "outputId": "791ee7a8-726d-4b85-8437-58617d2c098b"
   },
   "outputs": [
    {
     "data": {
      "text/plain": [
       "[7, 5, 6, 0, 1]"
      ]
     },
     "execution_count": 20,
     "metadata": {},
     "output_type": "execute_result"
    }
   ],
   "source": [
    "seq[3:8]"
   ]
  },
  {
   "cell_type": "markdown",
   "metadata": {
    "id": "1pJYfG0H2kOi"
   },
   "source": [
    "아래 코드는 끝에서 4번째부터 마지막 항목까지를 대상으로 하고, 그 다음 코드는 끝에서 6번째부터 끝에서 두번째 이전, 즉, 끝에서 세번째 항목까지를 슬라이싱한다."
   ]
  },
  {
   "cell_type": "code",
   "execution_count": 21,
   "metadata": {
    "colab": {
     "base_uri": "https://localhost:8080/"
    },
    "executionInfo": {
     "elapsed": 40,
     "status": "ok",
     "timestamp": 1750919961407,
     "user": {
      "displayName": "ter wa",
      "userId": "01448980402448893441"
     },
     "user_tz": -540
    },
    "id": "wNOiOghb2kOj",
    "outputId": "a4ca74b0-7c16-4994-908e-01941f09ae47"
   },
   "outputs": [
    {
     "data": {
      "text/plain": [
       "[5, 6, 0]"
      ]
     },
     "execution_count": 21,
     "metadata": {},
     "output_type": "execute_result"
    }
   ],
   "source": [
    "seq[-4:7]"
   ]
  },
  {
   "cell_type": "code",
   "execution_count": 22,
   "metadata": {
    "colab": {
     "base_uri": "https://localhost:8080/"
    },
    "executionInfo": {
     "elapsed": 35,
     "status": "ok",
     "timestamp": 1750921127004,
     "user": {
      "displayName": "ter wa",
      "userId": "01448980402448893441"
     },
     "user_tz": -540
    },
    "id": "mdUglkiK2kOj",
    "outputId": "f3fd97cc-4a19-49a5-b963-397478446c23"
   },
   "outputs": [
    {
     "data": {
      "text/plain": [
       "[3, 7, 5, 6]"
      ]
     },
     "execution_count": 22,
     "metadata": {},
     "output_type": "execute_result"
    }
   ],
   "source": [
    "seq[-6:-2]"
   ]
  },
  {
   "cell_type": "markdown",
   "metadata": {
    "id": "3Uuze-vC2kOm"
   },
   "source": [
    "아래 코드는 리스트의 처음 항목부터 끝 항목까지 2 스텝씩 건너뛰며 슬라이싱한다.\n",
    "즉, 0, 2, 4, ... 등의 인덱스 항목들이 추출된다."
   ]
  },
  {
   "cell_type": "code",
   "execution_count": 23,
   "metadata": {
    "colab": {
     "base_uri": "https://localhost:8080/"
    },
    "executionInfo": {
     "elapsed": 50,
     "status": "ok",
     "timestamp": 1750921131916,
     "user": {
      "displayName": "ter wa",
      "userId": "01448980402448893441"
     },
     "user_tz": -540
    },
    "id": "s21H2c1R2kOm",
    "outputId": "d174fb19-7f0b-4de3-e466-0ac1cbb716fe"
   },
   "outputs": [
    {
     "data": {
      "text/plain": [
       "[7, 3, 5, 0]"
      ]
     },
     "execution_count": 23,
     "metadata": {},
     "output_type": "execute_result"
    }
   ],
   "source": [
    "seq[::2]"
   ]
  },
  {
   "cell_type": "markdown",
   "metadata": {},
   "source": [
    "**음수 스텝**"
   ]
  },
  {
   "cell_type": "markdown",
   "metadata": {
    "id": "yg-nR9tK2kOm"
   },
   "source": [
    "음수의 스텝이 사용되면 역순으로 슬라이싱된다.\n",
    "아래 코드는 리스트의 오른편 끝에서 왼편으로 역순으로 슬라이싱한다.\n",
    "즉, 기존의 리스트의 항목을 뒤집어서 새로운 리스트를 생성한다."
   ]
  },
  {
   "cell_type": "code",
   "execution_count": 24,
   "metadata": {
    "colab": {
     "base_uri": "https://localhost:8080/"
    },
    "executionInfo": {
     "elapsed": 25,
     "status": "ok",
     "timestamp": 1750921135814,
     "user": {
      "displayName": "ter wa",
      "userId": "01448980402448893441"
     },
     "user_tz": -540
    },
    "id": "aI65XMv02kOm",
    "outputId": "29c4499a-4e7c-44ba-ccbd-c7d28fdcfa95"
   },
   "outputs": [
    {
     "data": {
      "text/plain": [
       "[1, 0, 6, 5, 7, 3, 2, 7]"
      ]
     },
     "execution_count": 24,
     "metadata": {},
     "output_type": "execute_result"
    }
   ],
   "source": [
    "seq[::-1]"
   ]
  },
  {
   "cell_type": "markdown",
   "metadata": {
    "id": "ZYbyO7XF2kOm"
   },
   "source": [
    "리스트의 마지막 항목의 인덱스는 아래 두 가지 방식으로 표현한다.\n",
    "\n",
    "* 방법 1: 리스트의 길이에서 1을 뺀 값\n",
    "* 방법 2: -1\n",
    "\n",
    "따라서 위 코드는 아래 코드와 동일하다."
   ]
  },
  {
   "cell_type": "code",
   "execution_count": 25,
   "metadata": {
    "colab": {
     "base_uri": "https://localhost:8080/"
    },
    "executionInfo": {
     "elapsed": 28,
     "status": "ok",
     "timestamp": 1750921150097,
     "user": {
      "displayName": "ter wa",
      "userId": "01448980402448893441"
     },
     "user_tz": -540
    },
    "id": "iRQ_0wa42kOm",
    "outputId": "fa77183f-d5e4-42c7-ae92-9b4713e2b29a"
   },
   "outputs": [
    {
     "data": {
      "text/plain": [
       "[1, 0, 6, 5, 7, 3, 2, 7]"
      ]
     },
     "execution_count": 25,
     "metadata": {},
     "output_type": "execute_result"
    }
   ],
   "source": [
    "seq[-1::-1]"
   ]
  },
  {
   "cell_type": "markdown",
   "metadata": {
    "id": "kNMPyB3d2kOn"
   },
   "source": [
    "리스트의 길이가 10 이므로, 아래 코드의 결과물도 같다."
   ]
  },
  {
   "cell_type": "code",
   "execution_count": 26,
   "metadata": {
    "colab": {
     "base_uri": "https://localhost:8080/"
    },
    "executionInfo": {
     "elapsed": 38,
     "status": "ok",
     "timestamp": 1750921153113,
     "user": {
      "displayName": "ter wa",
      "userId": "01448980402448893441"
     },
     "user_tz": -540
    },
    "id": "Qp7oZwTY2kOn",
    "outputId": "b21e1fb8-64ec-4fff-807f-2c7aeba153b4"
   },
   "outputs": [
    {
     "data": {
      "text/plain": [
       "[1, 0, 6, 5, 7, 3, 2, 7]"
      ]
     },
     "execution_count": 26,
     "metadata": {},
     "output_type": "execute_result"
    }
   ],
   "source": [
    "seq[9::-1]"
   ]
  },
  {
   "cell_type": "markdown",
   "metadata": {
    "id": "d9059acf"
   },
   "source": [
    "슬라이싱에 리스트의 크기를 벗어나는 인덱스를 사용하더라도 오류가 발생하지 않는다.\n",
    "대신 허용되는 인덱스의 구간에 대해서만 슬라이싱이 적용된다. 아래 코드는 4번 인덱스부터 10번 인덱스까지 추출하려 하지만 결국엔 리스트의 오른쪽 끝 인덱스인 7번 항목까지만 추출하게 된다."
   ]
  },
  {
   "cell_type": "code",
   "execution_count": 27,
   "metadata": {
    "colab": {
     "base_uri": "https://localhost:8080/"
    },
    "executionInfo": {
     "elapsed": 74,
     "status": "ok",
     "timestamp": 1750920720386,
     "user": {
      "displayName": "ter wa",
      "userId": "01448980402448893441"
     },
     "user_tz": -540
    },
    "id": "15edf461",
    "outputId": "51a6b540-7375-47b4-b490-50c40b66fcbd"
   },
   "outputs": [
    {
     "data": {
      "text/plain": [
       "[5, 6, 0, 1]"
      ]
     },
     "execution_count": 27,
     "metadata": {},
     "output_type": "execute_result"
    }
   ],
   "source": [
    "seq[4:11]"
   ]
  },
  {
   "cell_type": "markdown",
   "metadata": {
    "id": "7def74af"
   },
   "source": [
    "스텝을 2 이상으로 지정해도 허용된 인덱스의 범위를 벗어난 인덱스는 무시된다."
   ]
  },
  {
   "cell_type": "code",
   "execution_count": 28,
   "metadata": {
    "colab": {
     "base_uri": "https://localhost:8080/"
    },
    "executionInfo": {
     "elapsed": 46,
     "status": "ok",
     "timestamp": 1750921161675,
     "user": {
      "displayName": "ter wa",
      "userId": "01448980402448893441"
     },
     "user_tz": -540
    },
    "id": "ec08ad9a",
    "outputId": "2a3c534e-091c-46db-889b-f4af8729ef37"
   },
   "outputs": [
    {
     "data": {
      "text/plain": [
       "[5, 0]"
      ]
     },
     "execution_count": 28,
     "metadata": {},
     "output_type": "execute_result"
    }
   ],
   "source": [
    "seq[4:11:2]"
   ]
  },
  {
   "cell_type": "markdown",
   "metadata": {
    "id": "fmYqOuiS2kOn"
   },
   "source": [
    "### 리스트 연산"
   ]
  },
  {
   "cell_type": "markdown",
   "metadata": {
    "id": "DAch6xID2kOn"
   },
   "source": [
    "두 개의 리스트를 이어붙이거나 하나의 리스트를 복제해서 이어붙이는 기능을 지원한다.\n",
    "아래 코드는 두 개의 리스트를 이어붙여서 새로운 리스틀 생성하는 방법을 보여준다."
   ]
  },
  {
   "cell_type": "code",
   "execution_count": 29,
   "metadata": {
    "id": "Y8v_bW8R2kOn",
    "outputId": "4d8afe5e-50dc-4787-d19e-f03b34677967"
   },
   "outputs": [
    {
     "data": {
      "text/plain": [
       "[3.14, 2.17, 7.0, -0.856, 20.8, 'foo', 'peekaboo', 'baz']"
      ]
     },
     "execution_count": 29,
     "metadata": {},
     "output_type": "execute_result"
    }
   ],
   "source": [
    "float_list + str_list"
   ]
  },
  {
   "cell_type": "markdown",
   "metadata": {
    "id": "c7SfUdxp2kOn"
   },
   "source": [
    "아래 코드는 하나의 리스트를 지정된 정수만큼 복제해서 이어붙인다."
   ]
  },
  {
   "cell_type": "code",
   "execution_count": 30,
   "metadata": {
    "id": "KCRA3v_L2kOn",
    "outputId": "26da351a-5640-4a36-cb52-f75f6e336bee"
   },
   "outputs": [
    {
     "data": {
      "text/plain": [
       "[1, 3, 7, 11, 1, 3, 7, 11, 1, 3, 7, 11]"
      ]
     },
     "execution_count": 30,
     "metadata": {},
     "output_type": "execute_result"
    }
   ],
   "source": [
    "int_list * 3"
   ]
  },
  {
   "cell_type": "code",
   "execution_count": 31,
   "metadata": {
    "id": "uh_Bpd5r2kOn",
    "outputId": "b18e36c4-84c3-415d-d4be-2a185ac6266d"
   },
   "outputs": [
    {
     "data": {
      "text/plain": [
       "[1, 3, 7, 11, 1, 3, 7, 11]"
      ]
     },
     "execution_count": 31,
     "metadata": {},
     "output_type": "execute_result"
    }
   ],
   "source": [
    "2 * int_list"
   ]
  },
  {
   "cell_type": "markdown",
   "metadata": {
    "id": "uMOJ1igd2kOn"
   },
   "source": [
    "(sec:range)=\n",
    "## `range()` 함수"
   ]
  },
  {
   "cell_type": "markdown",
   "metadata": {
    "id": "p9BTYrlY2kOn"
   },
   "source": [
    "`range()` 함수는 규칙성을 가진 정수들의 모음을 반환한다.\n",
    "반환값의 자료형은 `range` 객체이다.\n",
    "예를 들어, 0부터 9까지의 정수들로 이루어진 `range` 객체를 다음과 같이 생성한다."
   ]
  },
  {
   "cell_type": "code",
   "execution_count": 32,
   "metadata": {
    "colab": {
     "base_uri": "https://localhost:8080/"
    },
    "executionInfo": {
     "elapsed": 44,
     "status": "ok",
     "timestamp": 1750933724504,
     "user": {
      "displayName": "ter wa",
      "userId": "01448980402448893441"
     },
     "user_tz": -540
    },
    "id": "HADqH-pN2kOn",
    "outputId": "e7f800d0-094a-40a8-b630-9c029baa38d9"
   },
   "outputs": [
    {
     "data": {
      "text/plain": [
       "range(0, 10)"
      ]
     },
     "execution_count": 32,
     "metadata": {},
     "output_type": "execute_result"
    }
   ],
   "source": [
    "range(10)"
   ]
  },
  {
   "cell_type": "code",
   "execution_count": 33,
   "metadata": {
    "colab": {
     "base_uri": "https://localhost:8080/"
    },
    "executionInfo": {
     "elapsed": 12,
     "status": "ok",
     "timestamp": 1750933726128,
     "user": {
      "displayName": "ter wa",
      "userId": "01448980402448893441"
     },
     "user_tz": -540
    },
    "id": "YBotrRdU2kOo",
    "outputId": "7d52cd69-6674-4f49-ea2f-9c9164fb1961"
   },
   "outputs": [
    {
     "data": {
      "text/plain": [
       "range"
      ]
     },
     "execution_count": 33,
     "metadata": {},
     "output_type": "execute_result"
    }
   ],
   "source": [
    "type(range(10))"
   ]
  },
  {
   "cell_type": "markdown",
   "metadata": {
    "id": "oh0abm1v2kOn"
   },
   "source": [
    "`range(0, 10)`은 `range(10)`과 동일하다. 이때 첫째 인자 0은 원하는 정수 구간의 시작값을, 둘째 인자 10은 원하는 구간의 끝값보다 1만큼 큰 값으로 입력해야 한다."
   ]
  },
  {
   "cell_type": "markdown",
   "metadata": {
    "id": "K4Wc_NQUzwM4"
   },
   "source": [
    "`list` 객체와 달리 `range` 객체의 내부는 들여다볼 수 없다. 그러나, 리스트로 형변환을 하면 `list` 객체가 된다. 따라서 `range()` 함수를 이용하여 `range` 객체를 생성한 다음, 리스트로 형변환하여 활용하는 방법이 유용하게 활용된다."
   ]
  },
  {
   "cell_type": "code",
   "execution_count": 34,
   "metadata": {
    "colab": {
     "base_uri": "https://localhost:8080/"
    },
    "executionInfo": {
     "elapsed": 29,
     "status": "ok",
     "timestamp": 1750933867131,
     "user": {
      "displayName": "ter wa",
      "userId": "01448980402448893441"
     },
     "user_tz": -540
    },
    "id": "2KqWQi7s2kOq",
    "outputId": "3bbe3ad6-f6bf-42bd-8f59-bf9933c52a50"
   },
   "outputs": [
    {
     "name": "stdout",
     "output_type": "stream",
     "text": [
      "range(0, 10)\n"
     ]
    }
   ],
   "source": [
    "print(range(0,10))"
   ]
  },
  {
   "cell_type": "code",
   "execution_count": 35,
   "metadata": {
    "colab": {
     "base_uri": "https://localhost:8080/"
    },
    "executionInfo": {
     "elapsed": 30,
     "status": "ok",
     "timestamp": 1750933876339,
     "user": {
      "displayName": "ter wa",
      "userId": "01448980402448893441"
     },
     "user_tz": -540
    },
    "id": "cK_YNDR-2kOq",
    "outputId": "c9abbd1b-b9ec-4f8a-8fc3-5639e7eeed86"
   },
   "outputs": [
    {
     "data": {
      "text/plain": [
       "[0, 1, 2, 3, 4, 5, 6, 7, 8, 9]"
      ]
     },
     "execution_count": 35,
     "metadata": {},
     "output_type": "execute_result"
    }
   ],
   "source": [
    "list(range(0,10))"
   ]
  },
  {
   "cell_type": "markdown",
   "metadata": {
    "id": "FIbQhu422kOq"
   },
   "source": [
    ":::{admonition} `range` 객체와 이터레이터\n",
    ":class: note\n",
    "\n",
    "`range` 객체는 리스트와는 달리 필요한 항목을 미리 한꺼번에 생성하지 않고 필요에 따라\n",
    "하나씩 생성하기 때문에 항목을 미리 보여줄 수 없고, 리스트로 형변환을 시도하면\n",
    "그제서야 필요한 항목들을 생성해서 리스트로 변환해서 보여준다.\n",
    "\n",
    "이런 자료형을 이터레이터라고 하는데\n",
    "자세한 설명은 생략한다.\n",
    "파이썬 프로그래밍에 보다 관심이 있는 경우 [(코딩알지) 이터러블, 이터레이터, 제너레이터](https://codingalzi.github.io/pybook/iterator_generator.html)를\n",
    "읽어 보기를 권장한다.\n",
    ":::"
   ]
  },
  {
   "cell_type": "markdown",
   "metadata": {
    "id": "eFDRaNQP2kOq"
   },
   "source": [
    "리스트 슬라이싱에서처럼 스텝을 사용할 수 있다.\n",
    "예를 들어, 0에서 19까지의 정수중에서 짝수만으로 이루어진 `range` 객체는 다음과 같이\n",
    "스텝 크기 2를 셋째 인자로 지정하여 생성한다."
   ]
  },
  {
   "cell_type": "code",
   "execution_count": 36,
   "metadata": {
    "id": "gQY9rC_X2kOq",
    "outputId": "fa7517ed-d933-4577-f5c5-1439e63efaa2"
   },
   "outputs": [
    {
     "data": {
      "text/plain": [
       "[0, 2, 4, 6, 8, 10, 12, 14, 16, 18]"
      ]
     },
     "execution_count": 36,
     "metadata": {},
     "output_type": "execute_result"
    }
   ],
   "source": [
    "list(range(0, 20, 2))"
   ]
  },
  {
   "cell_type": "markdown",
   "metadata": {
    "id": "3t8N-ldb2kOr"
   },
   "source": [
    "스텝 크기를 음수로 지정하면 크기 역순으로 이루어진 `range` 객체를 생성한다.\n",
    "음수 스텝을 사용할 경우 둘째 인자는 원하는 구간의 왼쪽끝 값보다 1만큼 작은 값을 사용해야 함에 주의한다."
   ]
  },
  {
   "cell_type": "code",
   "execution_count": 37,
   "metadata": {
    "id": "rak4MV7C2kOr",
    "outputId": "4cb28148-d41c-4ba7-f2ee-cd5333d388df"
   },
   "outputs": [
    {
     "data": {
      "text/plain": [
       "[5, 4, 3, 2, 1]"
      ]
     },
     "execution_count": 37,
     "metadata": {},
     "output_type": "execute_result"
    }
   ],
   "source": [
    "list(range(5, 0, -1))"
   ]
  },
  {
   "cell_type": "code",
   "execution_count": 38,
   "metadata": {
    "id": "Or7vFt8X2kOr",
    "outputId": "8ff47d5d-1128-4749-fcb6-a64c8230ef87"
   },
   "outputs": [
    {
     "data": {
      "text/plain": [
       "[5, 3, 1]"
      ]
     },
     "execution_count": 38,
     "metadata": {},
     "output_type": "execute_result"
    }
   ],
   "source": [
    "list(range(5, 0, -2))"
   ]
  },
  {
   "cell_type": "markdown",
   "metadata": {
    "id": "ntD0JbrS2kOr"
   },
   "source": [
    "`range()` 함수는 `for` 반복문에서 일정 횟수의 반복을 처리하는 용도로 주로 사용된다.\n",
    "예를 들어, 아래 코드는 0부터 99,999 까지의 정수 중에서 3 또는 5의 배수를 모두 더한다."
   ]
  },
  {
   "cell_type": "code",
   "execution_count": 39,
   "metadata": {
    "id": "DdqsXV_d2kOr",
    "outputId": "33d38b60-932f-4bf0-e243-c126e1db5bc5"
   },
   "outputs": [
    {
     "name": "stdout",
     "output_type": "stream",
     "text": [
      "2333316668\n"
     ]
    }
   ],
   "source": [
    "sum = 0\n",
    "\n",
    "for i in range(100_000):\n",
    "    # %는 나머지 연산자\n",
    "    if i % 3 == 0 or i % 5 == 0:\n",
    "        sum += i\n",
    "\n",
    "print(sum)"
   ]
  },
  {
   "cell_type": "markdown",
   "metadata": {
    "id": "ntD0JbrS2kOr"
   },
   "source": [
    "아래 코드는 `for` 반복문에서 리스트의 길이 정보를 이용하여 인덱싱 적용할 때 \n",
    "`range()` 함수의 활용법을 잘 보여준다."
   ]
  },
  {
   "cell_type": "code",
   "execution_count": 40,
   "metadata": {
    "id": "y6ydwgHQ2kOr"
   },
   "outputs": [
    {
     "name": "stdout",
     "output_type": "stream",
     "text": [
      "10\n"
     ]
    }
   ],
   "source": [
    "seq = [1, 2, 3, 4]\n",
    "sum = 0\n",
    "for i in range(len(seq)):\n",
    "    sum += seq[i]\n",
    "\n",
    "print(sum)"
   ]
  },
  {
   "cell_type": "markdown",
   "metadata": {
    "id": "3x7ntECh2kOt"
   },
   "source": [
    "## 사전"
   ]
  },
  {
   "cell_type": "markdown",
   "metadata": {
    "id": "0RQVracz2kOt"
   },
   "source": [
    "현대 프로그래밍 언어 분야, 특히 데이터 분석 분야에서 가장 중요하게 사용되는 자료형중의 하나가 사전 `dict` 이다.\n",
    "언어에 따라 조금씩 차이가 있겠지만, 일반적으로 리스트, 배열과 같은 순차 자료형에 대비되는 의미로, \n",
    "연관 자료형 또는 연관 컨테이너<font size='2'>associative container</font>로 불린다."
   ]
  },
  {
   "cell_type": "markdown",
   "metadata": {
    "id": "a08Fpc4u2kOt"
   },
   "source": [
    "사전 자료형은 **키**<font size='2'>key</font>와\n",
    "**값**<font size='2'>value</font>의\n",
    "쌍으로 구성된 항목들의 모음이며, 아래 형식으로 키와 값의 관계를 지정한다.\n",
    "\n",
    "```python\n",
    "키 : 값\n",
    "```"
   ]
  },
  {
   "cell_type": "markdown",
   "metadata": {
    "id": "96UBxAY92kOt"
   },
   "source": [
    "### 사전 객체 생성"
   ]
  },
  {
   "cell_type": "markdown",
   "metadata": {
    "id": "HpgqYVOX2kOt"
   },
   "source": [
    "사전 객체는 중괄호를 사용한다.\n",
    "집합에 사용되는 기호와 동일하지만 항목이 `키:값` 형식이라면 사전 객체로 인식된다. 아래 코드는 항목이 전혀 없는 비어있는 사전 `empty_dict`와 두 개의 항목을 갖는 사전 `dict_ab`를 생성한다."
   ]
  },
  {
   "cell_type": "code",
   "execution_count": 41,
   "metadata": {
    "id": "uBrX_RYI2kOt"
   },
   "outputs": [
    {
     "data": {
      "text/plain": [
       "{}"
      ]
     },
     "execution_count": 41,
     "metadata": {},
     "output_type": "execute_result"
    }
   ],
   "source": [
    "empty_dict = {}\n",
    "empty_dict"
   ]
  },
  {
   "cell_type": "code",
   "execution_count": 42,
   "metadata": {
    "colab": {
     "base_uri": "https://localhost:8080/"
    },
    "executionInfo": {
     "elapsed": 23,
     "status": "ok",
     "timestamp": 1750938240618,
     "user": {
      "displayName": "ter wa",
      "userId": "01448980402448893441"
     },
     "user_tz": -540
    },
    "id": "EGoqXKEW2kOt",
    "outputId": "289afc7d-6b20-42ef-bcd0-78834d4b0dd5"
   },
   "outputs": [
    {
     "data": {
      "text/plain": [
       "{'a': 'some value', 'b': [1, 2, 3, 4]}"
      ]
     },
     "execution_count": 42,
     "metadata": {},
     "output_type": "execute_result"
    }
   ],
   "source": [
    "dict_ab = {'a' : 'some value', 'b' : [1, 2, 3, 4]}\n",
    "dict_ab"
   ]
  },
  {
   "cell_type": "markdown",
   "metadata": {},
   "source": [
    "항목의 자료형과 상관없이 사전의 자료형은 항상 `dict`다."
   ]
  },
  {
   "cell_type": "code",
   "execution_count": 43,
   "metadata": {
    "colab": {
     "base_uri": "https://localhost:8080/"
    },
    "executionInfo": {
     "elapsed": 35,
     "status": "ok",
     "timestamp": 1750938168360,
     "user": {
      "displayName": "ter wa",
      "userId": "01448980402448893441"
     },
     "user_tz": -540
    },
    "id": "Fp2dCrlO2kOt",
    "outputId": "1c1c26af-63c2-4a00-efa1-4e6b6f3cb91c"
   },
   "outputs": [
    {
     "data": {
      "text/plain": [
       "dict"
      ]
     },
     "execution_count": 43,
     "metadata": {},
     "output_type": "execute_result"
    }
   ],
   "source": [
    "type(empty_dict)"
   ]
  },
  {
   "cell_type": "code",
   "execution_count": 44,
   "metadata": {
    "colab": {
     "base_uri": "https://localhost:8080/"
    },
    "executionInfo": {
     "elapsed": 35,
     "status": "ok",
     "timestamp": 1750938168360,
     "user": {
      "displayName": "ter wa",
      "userId": "01448980402448893441"
     },
     "user_tz": -540
    },
    "id": "Fp2dCrlO2kOt",
    "outputId": "1c1c26af-63c2-4a00-efa1-4e6b6f3cb91c"
   },
   "outputs": [
    {
     "data": {
      "text/plain": [
       "dict"
      ]
     },
     "execution_count": 44,
     "metadata": {},
     "output_type": "execute_result"
    }
   ],
   "source": [
    "type(dict_ab)"
   ]
  },
  {
   "cell_type": "markdown",
   "metadata": {
    "id": "Y6kPMzrM2kOv"
   },
   "source": [
    "모든 항목이 길이가 2인 튜플 또는 리스트에 `dict()` 함수를 적용하면\n",
    "첫째 항목을 키로, 둘째 항목을 값으로 사용하는 사전이 생성된다."
   ]
  },
  {
   "cell_type": "code",
   "execution_count": 45,
   "metadata": {
    "id": "Hh14rSGB2kOv",
    "outputId": "30fa35a8-1668-4a38-e1fb-447fc8567c13"
   },
   "outputs": [
    {
     "data": {
      "text/plain": [
       "{1: 'a', 2: 'b'}"
      ]
     },
     "execution_count": 45,
     "metadata": {},
     "output_type": "execute_result"
    }
   ],
   "source": [
    "dict([(1, 'a'), (2, 'b')])"
   ]
  },
  {
   "cell_type": "code",
   "execution_count": 46,
   "metadata": {
    "id": "P4XRTFUe2kOv",
    "outputId": "87eacb38-4023-4f1e-a583-a251f17bb3ef"
   },
   "outputs": [
    {
     "data": {
      "text/plain": [
       "{1: 'a', 2: 'b'}"
      ]
     },
     "execution_count": 46,
     "metadata": {},
     "output_type": "execute_result"
    }
   ],
   "source": [
    "dict(([1, 'a'], [2, 'b']))"
   ]
  },
  {
   "cell_type": "markdown",
   "metadata": {
    "id": "y8atQaUw2kOu"
   },
   "source": [
    "**`keys()` 메서드와 `values()` 매서드**"
   ]
  },
  {
   "cell_type": "markdown",
   "metadata": {
    "id": "6Jp1GYCB2kOu"
   },
   "source": [
    "`key()` 메서드는 사전의 키만 모아 별도의 리스트를 생성하고, `value()` 메서드는 값만을 모은 리스트를 만든다."
   ]
  },
  {
   "cell_type": "code",
   "execution_count": 47,
   "metadata": {
    "colab": {
     "base_uri": "https://localhost:8080/"
    },
    "executionInfo": {
     "elapsed": 32,
     "status": "ok",
     "timestamp": 1750946468442,
     "user": {
      "displayName": "ter wa",
      "userId": "01448980402448893441"
     },
     "user_tz": -540
    },
    "id": "2yCVkfyC2kOu",
    "outputId": "a51708cc-d5fe-4860-9ee9-cc04e2b42216"
   },
   "outputs": [
    {
     "data": {
      "text/plain": [
       "['a', 'b']"
      ]
     },
     "execution_count": 47,
     "metadata": {},
     "output_type": "execute_result"
    }
   ],
   "source": [
    "list(dict_ab.keys())"
   ]
  },
  {
   "cell_type": "code",
   "execution_count": 48,
   "metadata": {
    "colab": {
     "base_uri": "https://localhost:8080/"
    },
    "executionInfo": {
     "elapsed": 43,
     "status": "ok",
     "timestamp": 1750946477728,
     "user": {
      "displayName": "ter wa",
      "userId": "01448980402448893441"
     },
     "user_tz": -540
    },
    "id": "_7ueQUP22kOv",
    "outputId": "25932063-b1dd-4698-af80-d1df656e3166"
   },
   "outputs": [
    {
     "data": {
      "text/plain": [
       "['some value', [1, 2, 3, 4]]"
      ]
     },
     "execution_count": 48,
     "metadata": {},
     "output_type": "execute_result"
    }
   ],
   "source": [
    "list(dict_ab.values())"
   ]
  },
  {
   "cell_type": "markdown",
   "metadata": {
    "id": "96UBxAY92kOt"
   },
   "source": [
    "### 사전 항목 추가와 수정"
   ]
  },
  {
   "cell_type": "markdown",
   "metadata": {
    "id": "vRR6Iwgx2kOt"
   },
   "source": [
    "사전 `dict_ab`에 새로운 항목 `7 : 'an integer'` 를 추가하려면 아래와 같이 진행해야 한다."
   ]
  },
  {
   "cell_type": "code",
   "execution_count": 49,
   "metadata": {
    "id": "gS-UBqNG2kOt"
   },
   "outputs": [],
   "source": [
    "dict_ab[7] = 'an integer'"
   ]
  },
  {
   "cell_type": "code",
   "execution_count": 50,
   "metadata": {
    "colab": {
     "base_uri": "https://localhost:8080/"
    },
    "executionInfo": {
     "elapsed": 36,
     "status": "ok",
     "timestamp": 1750938399801,
     "user": {
      "displayName": "ter wa",
      "userId": "01448980402448893441"
     },
     "user_tz": -540
    },
    "id": "4F-D_cIg2kOt",
    "outputId": "e60dd3c8-ba28-48bd-ffb2-97af2ffb0196"
   },
   "outputs": [
    {
     "data": {
      "text/plain": [
       "{'a': 'some value', 'b': [1, 2, 3, 4], 7: 'an integer'}"
      ]
     },
     "execution_count": 50,
     "metadata": {},
     "output_type": "execute_result"
    }
   ],
   "source": [
    "dict_ab"
   ]
  },
  {
   "cell_type": "markdown",
   "metadata": {
    "id": "7RDUZrsc2kOt"
   },
   "source": [
    "다음은 `'language' : 'python'` 을 추가해보자."
   ]
  },
  {
   "cell_type": "code",
   "execution_count": 51,
   "metadata": {
    "id": "t10EuW6q2kOu",
    "outputId": "86ff42b7-0c8a-4611-bcf7-f3ec1fe8d511"
   },
   "outputs": [
    {
     "data": {
      "text/plain": [
       "{'a': 'some value', 'b': [1, 2, 3, 4], 7: 'an integer', 'language': 'python'}"
      ]
     },
     "execution_count": 51,
     "metadata": {},
     "output_type": "execute_result"
    }
   ],
   "source": [
    "dict_ab['language'] = 'python'\n",
    "dict_ab"
   ]
  },
  {
   "cell_type": "markdown",
   "metadata": {
    "id": "BqSSIk8e2kOu"
   },
   "source": [
    "특정 키가 사전에 사용되었는지 여부를 확인할 때 `in` 연산자를 활용한다."
   ]
  },
  {
   "cell_type": "code",
   "execution_count": 52,
   "metadata": {
    "id": "_s1yI7972kOu",
    "outputId": "55651a12-7498-468c-897e-5d89a58bfb7c"
   },
   "outputs": [
    {
     "data": {
      "text/plain": [
       "True"
      ]
     },
     "execution_count": 52,
     "metadata": {},
     "output_type": "execute_result"
    }
   ],
   "source": [
    "'b' in dict_ab"
   ]
  },
  {
   "cell_type": "markdown",
   "metadata": {
    "id": "-GDiFRF92kOu"
   },
   "source": [
    "특정 키와 연관된 값을 확인하려면 인덱싱 방식처럼 키를 사용하면 된다."
   ]
  },
  {
   "cell_type": "code",
   "execution_count": 53,
   "metadata": {
    "colab": {
     "base_uri": "https://localhost:8080/"
    },
    "executionInfo": {
     "elapsed": 45,
     "status": "ok",
     "timestamp": 1750944108568,
     "user": {
      "displayName": "ter wa",
      "userId": "01448980402448893441"
     },
     "user_tz": -540
    },
    "id": "shqdPFNX2kOu",
    "outputId": "40fd2352-a8d1-4cce-9aeb-ad5859beee83"
   },
   "outputs": [
    {
     "data": {
      "text/plain": [
       "[1, 2, 3, 4]"
      ]
     },
     "execution_count": 53,
     "metadata": {},
     "output_type": "execute_result"
    }
   ],
   "source": [
    "dict_ab['b']"
   ]
  },
  {
   "cell_type": "markdown",
   "metadata": {
    "id": "q6-cWKJf2kOv"
   },
   "source": [
    "항목의 키를 이용 기존의 항목 키-값 에서 값을 변경할 수 있다.\n",
    "예를 들어, 아래 코드는 키 `'language'`에 대응하는 값을 `'python'` 에서 `'python3'`로 업데이트한다."
   ]
  },
  {
   "cell_type": "code",
   "execution_count": 54,
   "metadata": {
    "colab": {
     "base_uri": "https://localhost:8080/"
    },
    "executionInfo": {
     "elapsed": 55,
     "status": "ok",
     "timestamp": 1750943891232,
     "user": {
      "displayName": "ter wa",
      "userId": "01448980402448893441"
     },
     "user_tz": -540
    },
    "id": "jxzjGJ4T2kOv",
    "outputId": "eb0e691b-9b71-45be-9d83-cb9d13d9ac84"
   },
   "outputs": [
    {
     "data": {
      "text/plain": [
       "{'a': 'some value', 'b': [1, 2, 3, 4], 7: 'an integer', 'language': 'python3'}"
      ]
     },
     "execution_count": 54,
     "metadata": {},
     "output_type": "execute_result"
    }
   ],
   "source": [
    "dict_ab['language'] = 'python3'\n",
    "dict_ab"
   ]
  },
  {
   "cell_type": "markdown",
   "metadata": {
    "id": "W3RaBCS82kOr"
   },
   "source": [
    "## 순차 자료형에 유용한 함수"
   ]
  },
  {
   "cell_type": "markdown",
   "metadata": {
    "id": "lPKXeerd2kOs"
   },
   "source": [
    "### `enumerate()` 함수"
   ]
  },
  {
   "cell_type": "markdown",
   "metadata": {
    "id": "y5AlaGdP2kOs"
   },
   "source": [
    "리스트의 인덱스를 리스트 자체에서 눈으로 확인할 수 없다.\n",
    "하지만 항목과 해당 항목의 인덱스 정보를 함께 활용해야 할 때가 있는데\n",
    "이때 `enumerate()` 함수가 매우 유용하다."
   ]
  },
  {
   "cell_type": "code",
   "execution_count": 55,
   "metadata": {
    "id": "Nb6VT9sP2kOs"
   },
   "outputs": [],
   "source": [
    "some_list = ['foo', 'bar', 'baz', 'pyt', 'thon']"
   ]
  },
  {
   "cell_type": "markdown",
   "metadata": {
    "id": "usxVN_Z72kOs"
   },
   "source": [
    "`enumerate()` 함수는 리스트를 받아서\n",
    "리스트의 항목과 인덱스의 정보를 제공하는 객체를 지정한다.\n",
    "하지만 `range` 객체처럼 이렇게 준비된 객체의 내부를 미리 들여다보지는 못한다."
   ]
  },
  {
   "cell_type": "code",
   "execution_count": 56,
   "metadata": {
    "id": "viIrg5P-2kOs",
    "outputId": "8cf67ae1-2f75-4b94-f1c5-a90a079bb43b"
   },
   "outputs": [
    {
     "name": "stdout",
     "output_type": "stream",
     "text": [
      "<enumerate object at 0x7f8d1011fc90>\n"
     ]
    }
   ],
   "source": [
    "print(enumerate(some_list))"
   ]
  },
  {
   "cell_type": "markdown",
   "metadata": {
    "id": "KaPbaYvU2kOs"
   },
   "source": [
    "하지만 `for` 반복문을 이용하여 그 내용을 확인하고 활용할 수 있다.\n",
    "예를 들어, 아래 코드는 짝수 인덱스의 값들만 출력하도록 한다."
   ]
  },
  {
   "cell_type": "code",
   "execution_count": 57,
   "metadata": {
    "id": "7K2eQ0GW2kOs",
    "outputId": "4f338928-35bb-432d-f066-937dc034a3e0"
   },
   "outputs": [
    {
     "name": "stdout",
     "output_type": "stream",
     "text": [
      "foo\n",
      "baz\n",
      "thon\n"
     ]
    }
   ],
   "source": [
    "for i, v in enumerate(some_list):\n",
    "    if i % 2 == 0:\n",
    "        print(v)"
   ]
  },
  {
   "cell_type": "markdown",
   "metadata": {
    "id": "18wrRGVp2kOs"
   },
   "source": [
    "반면에 아래 코드는 리스트의 항목을 키(key)로, 인덱스는 값(value)으로 하는 항목들로 이루어진\n",
    "사전 객체를 생성한다."
   ]
  },
  {
   "cell_type": "code",
   "execution_count": 58,
   "metadata": {
    "id": "bZXJv_Rp2kOs",
    "outputId": "fd250834-015d-4b43-eda2-e1dc906f843b"
   },
   "outputs": [
    {
     "data": {
      "text/plain": [
       "{'foo': 0, 'bar': 1, 'baz': 2, 'pyt': 3, 'thon': 4}"
      ]
     },
     "execution_count": 58,
     "metadata": {},
     "output_type": "execute_result"
    }
   ],
   "source": [
    "mapping = {}\n",
    "\n",
    "for i, v in enumerate(some_list):\n",
    "    mapping[v] = i\n",
    "\n",
    "mapping"
   ]
  },
  {
   "cell_type": "markdown",
   "metadata": {
    "id": "__rlj-zq2kOs"
   },
   "source": [
    "### `zip()` 함수"
   ]
  },
  {
   "cell_type": "markdown",
   "metadata": {
    "id": "jekTefdD2kOs"
   },
   "source": [
    "문자열, 튜플, 리스트 여러 개의 항목을 순서대로 짝지어서 튜플의 리스트 형식의 객체를 생성한다.\n",
    "단, `zip()` 함수의 반환값은 `enumerate()`, `range()` 함수처럼 구체적으로 명시해주지는 않는다."
   ]
  },
  {
   "cell_type": "code",
   "execution_count": 59,
   "metadata": {
    "id": "vvHdftCT2kOs",
    "outputId": "ace339c0-ee66-400e-ef3f-d242e2a6b372"
   },
   "outputs": [
    {
     "data": {
      "text/plain": [
       "<zip at 0x7f8d10123b40>"
      ]
     },
     "execution_count": 59,
     "metadata": {},
     "output_type": "execute_result"
    }
   ],
   "source": [
    "zip(\"abc\", \"efg\")"
   ]
  },
  {
   "cell_type": "markdown",
   "metadata": {
    "id": "3bfik5Oq2kOs"
   },
   "source": [
    "하지만 리스트로 변환하면 쉽게 내용을 확인할 수 있다."
   ]
  },
  {
   "cell_type": "code",
   "execution_count": 60,
   "metadata": {
    "colab": {
     "base_uri": "https://localhost:8080/"
    },
    "executionInfo": {
     "elapsed": 54,
     "status": "ok",
     "timestamp": 1750934548519,
     "user": {
      "displayName": "ter wa",
      "userId": "01448980402448893441"
     },
     "user_tz": -540
    },
    "id": "9ZkqPURJ2kOs",
    "outputId": "7ae45826-a4c3-454b-ed2b-8f66f05386fc"
   },
   "outputs": [
    {
     "data": {
      "text/plain": [
       "[('a', 'e'), ('b', 'f'), ('c', 'g')]"
      ]
     },
     "execution_count": 60,
     "metadata": {},
     "output_type": "execute_result"
    }
   ],
   "source": [
    "list(zip(\"abc\", \"efg\"))"
   ]
  },
  {
   "cell_type": "markdown",
   "metadata": {
    "id": "6KLXWMae2kOs"
   },
   "source": [
    "자료형이 달라도 되며, 각 자료형의 길이가 다르면 짧은 길이에 맞춰서 짝을 짓는다."
   ]
  },
  {
   "cell_type": "code",
   "execution_count": 61,
   "metadata": {
    "colab": {
     "base_uri": "https://localhost:8080/"
    },
    "executionInfo": {
     "elapsed": 23,
     "status": "ok",
     "timestamp": 1750934549866,
     "user": {
      "displayName": "ter wa",
      "userId": "01448980402448893441"
     },
     "user_tz": -540
    },
    "id": "X4bks7IR2kOs",
    "outputId": "5231a51d-ebee-4bc2-d68d-0316d3133c62"
   },
   "outputs": [
    {
     "data": {
      "text/plain": [
       "[('a', 1), ('b', 2)]"
      ]
     },
     "execution_count": 61,
     "metadata": {},
     "output_type": "execute_result"
    }
   ],
   "source": [
    "list(zip(\"abc\", [1, 2]))"
   ]
  },
  {
   "cell_type": "code",
   "execution_count": 62,
   "metadata": {
    "colab": {
     "base_uri": "https://localhost:8080/"
    },
    "executionInfo": {
     "elapsed": 38,
     "status": "ok",
     "timestamp": 1750934553757,
     "user": {
      "displayName": "ter wa",
      "userId": "01448980402448893441"
     },
     "user_tz": -540
    },
    "id": "3FhtXwHR2kOs",
    "outputId": "191aa7d7-7daa-451d-bcc1-88740e763e80"
   },
   "outputs": [
    {
     "data": {
      "text/plain": [
       "[('foo', 'one'), ('bar', 'two'), ('baz', 'three')]"
      ]
     },
     "execution_count": 62,
     "metadata": {},
     "output_type": "execute_result"
    }
   ],
   "source": [
    "seq1 = ['foo', 'bar', 'baz']\n",
    "seq2 = ['one', 'two', 'three']\n",
    "\n",
    "zipped = zip(seq1, seq2)\n",
    "list(zipped)"
   ]
  },
  {
   "cell_type": "markdown",
   "metadata": {
    "id": "tOwWKaJz2kOt"
   },
   "source": [
    "`enumerate()` 처럼 `for` 반복문에 자주 활용된다.\n",
    "아래 코드는 두 개의 리스트의 항목을 짝을 지은 후 인덱스와 함께 출력해준다."
   ]
  },
  {
   "cell_type": "code",
   "execution_count": 64,
   "metadata": {
    "colab": {
     "base_uri": "https://localhost:8080/"
    },
    "executionInfo": {
     "elapsed": 41,
     "status": "ok",
     "timestamp": 1750934558879,
     "user": {
      "displayName": "ter wa",
      "userId": "01448980402448893441"
     },
     "user_tz": -540
    },
    "id": "M8Skbr8A2kOt",
    "outputId": "c6d6c03b-3226-4c49-b329-86fefec4bb42"
   },
   "outputs": [
    {
     "name": "stdout",
     "output_type": "stream",
     "text": [
      "0: foo, 2\n",
      "1: bar, 2\n",
      "2: baz, 2\n"
     ]
    }
   ],
   "source": [
    "for i, (a, b) in enumerate(zip(seq1, seq2)):\n",
    "    print(f\"{i}: {a}, {2}\")"
   ]
  },
  {
   "cell_type": "markdown",
   "metadata": {},
   "source": [
    "**추가사항:**\n",
    "\n",
    "f-문자열에 대한 설명 필요."
   ]
  },
  {
   "cell_type": "markdown",
   "metadata": {
    "id": "ODVmM6oO2kOw"
   },
   "source": [
    "## 예제"
   ]
  },
  {
   "cell_type": "markdown",
   "metadata": {
    "id": "fW20vwYC2kOw"
   },
   "source": [
    "준비중 ..."
   ]
  }
 ],
 "metadata": {
  "colab": {
   "provenance": [
    {
     "file_id": "1IMVuHA0BX-8H3YJucWxJBdivhGVWdBpL",
     "timestamp": 1750849460794
    },
    {
     "file_id": "https://github.com/codingalzi/statsRev/blob/master/jupyter-book/lists_dicts.ipynb",
     "timestamp": 1750837708589
    }
   ],
   "toc_visible": true
  },
  "kernelspec": {
   "display_name": "Python 3 (ipykernel)",
   "language": "python",
   "name": "python3"
  },
  "language_info": {
   "codemirror_mode": {
    "name": "ipython",
    "version": 3
   },
   "file_extension": ".py",
   "mimetype": "text/x-python",
   "name": "python",
   "nbconvert_exporter": "python",
   "pygments_lexer": "ipython3",
   "version": "3.12.2"
  },
  "toc": {
   "nav_menu": {},
   "number_sections": true,
   "sideBar": true,
   "skip_h1_title": false,
   "toc_cell": false,
   "toc_position": {},
   "toc_section_display": "block",
   "toc_window_display": false
  }
 },
 "nbformat": 4,
 "nbformat_minor": 1
}