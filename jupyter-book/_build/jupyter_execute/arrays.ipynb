{
 "cells": [
  {
   "cell_type": "markdown",
   "metadata": {
    "id": "UHj-LDYynbQo"
   },
   "source": [
    "(ch-numpy-array)=\n",
    "# 넘파이 어레이"
   ]
  },
  {
   "cell_type": "markdown",
   "metadata": {
    "id": "ETtG6daZnbQp"
   },
   "source": [
    "**기본 설정**"
   ]
  },
  {
   "cell_type": "markdown",
   "metadata": {
    "ExecuteTime": {
     "end_time": "2018-08-03T08:26:15.690793Z",
     "start_time": "2018-08-03T08:26:15.507201Z"
    },
    "id": "gIhZ5b1gnbQq"
   },
   "source": [
    "`numpy` 라이브러리를 별칭 `np`로 불러온다."
   ]
  },
  {
   "cell_type": "code",
   "execution_count": null,
   "metadata": {
    "ExecuteTime": {
     "end_time": "2018-08-14T06:43:30.149227Z",
     "start_time": "2018-08-14T06:43:29.960007Z"
    },
    "id": "xECDkrIYnbQr"
   },
   "outputs": [],
   "source": [
    "import numpy as np"
   ]
  },
  {
   "cell_type": "markdown",
   "metadata": {
    "id": "mTP00zLcnbQr"
   },
   "source": [
    "**넘파이**<font size='2'>numpy</font>는 NUMerical PYthon의 줄임말이며,\n",
    "파이썬 데이터 과학에서 가장 중요한 도구를 제공하는 라이브러리다.\n",
    "넘파이가 제공하는 가장 중요한 요소는 아래 두 가지이다.\n",
    "\n",
    "* 다차원 어레이(배열)\n",
    "* 메모리 효율적이며 빠른 어레이 연산"
   ]
  },
  {
   "cell_type": "markdown",
   "metadata": {
    "id": "-NfYwZIxnbQs"
   },
   "source": [
    "## 다차원 어레이"
   ]
  },
  {
   "cell_type": "markdown",
   "metadata": {
    "id": "-n83gKGHnbQs"
   },
   "source": [
    "넘파이 어레이는 리스트와는 달리 항목으로 사용된 값 자체뿐만 아니라\n",
    "포함된 데이터들의 모양, 항목들의 자료형 등에 대한 정보도 포함한다.\n",
    "모양에 따라 차원이 결정되며, 모든 항목은 동일한 자료형을 가져야 한다.\n",
    "3차원, 4차원 등의 고차원 어레이도 데이터 분석에서 많이 다루지만\n",
    "여기서는 가장 많이 활용되는 1차원 어레이와 2차원 어레이의 사용법을 익혀본다."
   ]
  },
  {
   "cell_type": "markdown",
   "metadata": {
    "id": "_xRsvCTAnbQs"
   },
   "source": [
    "### 1차원 어레이"
   ]
  },
  {
   "cell_type": "markdown",
   "metadata": {
    "id": "wz7jAuEfnbQs"
   },
   "source": [
    "1차원 어레이는 중첩이 없는 리스트와 동일한 모양을 가지며, 리스트 등에 `np.array()` 함수를 적용하여 생성할 수 있다.\n",
    "1차원 어레이는 **벡터**<font size='2'>vector</font>로도 불리며,\n",
    "한 개의 **축**<font size='2'>axis</font>을 갖는다."
   ]
  },
  {
   "cell_type": "code",
   "execution_count": null,
   "metadata": {
    "colab": {
     "base_uri": "https://localhost:8080/"
    },
    "executionInfo": {
     "elapsed": 27,
     "status": "ok",
     "timestamp": 1750948242495,
     "user": {
      "displayName": "ter wa",
      "userId": "01448980402448893441"
     },
     "user_tz": -540
    },
    "id": "QVH5omY8nbQt",
    "outputId": "ed776acf-e9c8-4219-8f76-1db624040dba"
   },
   "outputs": [
    {
     "data": {
      "text/plain": [
       "array([6. , 7.5, 8. , 0. , 1. ])"
      ]
     },
     "execution_count": 3,
     "metadata": {},
     "output_type": "execute_result"
    }
   ],
   "source": [
    "data1 = [6, 7.5, 8, 0, 1]\n",
    "\n",
    "arr1 = np.array(data1)\n",
    "arr1"
   ]
  },
  {
   "cell_type": "markdown",
   "metadata": {
    "id": "Sm4ISoFbnbQt"
   },
   "source": [
    "**`ndarray` 자료형**\n",
    "\n",
    "넘파이 어레이는 `numpy.ndarray` 클래스의 객체다."
   ]
  },
  {
   "cell_type": "code",
   "execution_count": null,
   "metadata": {
    "colab": {
     "base_uri": "https://localhost:8080/"
    },
    "executionInfo": {
     "elapsed": 31,
     "status": "ok",
     "timestamp": 1750948244902,
     "user": {
      "displayName": "ter wa",
      "userId": "01448980402448893441"
     },
     "user_tz": -540
    },
    "id": "CJ_jqgmInbQt",
    "outputId": "8ab3b00e-9de1-4ebe-ba25-60d3297ef6bf"
   },
   "outputs": [
    {
     "data": {
      "text/plain": [
       "numpy.ndarray"
      ]
     },
     "execution_count": 4,
     "metadata": {},
     "output_type": "execute_result"
    }
   ],
   "source": [
    "type(arr1)"
   ]
  },
  {
   "cell_type": "markdown",
   "metadata": {
    "id": "HzGfqGY2nbQt"
   },
   "source": [
    "### 2차원 어레이"
   ]
  },
  {
   "cell_type": "code",
   "execution_count": null,
   "metadata": {
    "colab": {
     "base_uri": "https://localhost:8080/"
    },
    "executionInfo": {
     "elapsed": 25,
     "status": "ok",
     "timestamp": 1750948247655,
     "user": {
      "displayName": "ter wa",
      "userId": "01448980402448893441"
     },
     "user_tz": -540
    },
    "id": "BM0nk6HsnbQt",
    "outputId": "a5f7fe39-884a-4778-d3c2-8b7c2b9a7c28"
   },
   "outputs": [
    {
     "data": {
      "text/plain": [
       "array([[1, 2, 3, 4],\n",
       "       [5, 6, 7, 8]])"
      ]
     },
     "execution_count": 5,
     "metadata": {},
     "output_type": "execute_result"
    }
   ],
   "source": [
    "data2 = [[1, 2, 3, 4],\n",
    "         [5, 6, 7, 8]]\n",
    "\n",
    "arr2 = np.array(data2)\n",
    "arr2"
   ]
  },
  {
   "cell_type": "markdown",
   "metadata": {
    "id": "CS_4TjIJnbQt"
   },
   "source": [
    "2차원 어레이의 모든 항목은 동일한 크기의 1차원 어레이어야 한다. 따라서 동일한 길이의 리스트를 항목으로 갖는 중첩 리스트를 2차원 어레이로 변환할 수 있다. 아래 코드는 길이 4인 두 개의 리스트를 항목으로 갖는 중첩 리스트 `data2`를 2차원 어레이 `arr2`로 변환한다.\n",
    "2차원 어레이는 **행**<font size='2'>row</font>과 **열**<font size='2'>column</font>\n",
    "두 개의 축을 가지며, 이런 의미에서 **행렬**<font size='2'>matrix</font>로 불린다."
   ]
  },
  {
   "cell_type": "markdown",
   "metadata": {
    "id": "cM1-Rr2bnbQu"
   },
   "source": [
    "아래 `list_ragged`처럼 중첩 리스트의 항목이 서로 길이가 다른 리스트로 이루어져 있으면 어레이로의 변환이 허용되지 않는다."
   ]
  },
  {
   "cell_type": "code",
   "execution_count": null,
   "metadata": {
    "colab": {
     "base_uri": "https://localhost:8080/"
    },
    "executionInfo": {
     "elapsed": 11,
     "status": "ok",
     "timestamp": 1750948252729,
     "user": {
      "displayName": "ter wa",
      "userId": "01448980402448893441"
     },
     "user_tz": -540
    },
    "id": "9Na_GVhRnbQu",
    "outputId": "832c6679-080a-47f3-b3bb-802828db94b9"
   },
   "outputs": [
    {
     "data": {
      "text/plain": [
       "[[1, 2, 3, 4], [5, 6, 7], [8, 9]]"
      ]
     },
     "execution_count": 6,
     "metadata": {},
     "output_type": "execute_result"
    }
   ],
   "source": [
    "list_ragged = [[1, 2, 3, 4], [5, 6, 7], [8, 9]]\n",
    "list_ragged"
   ]
  },
  {
   "cell_type": "code",
   "execution_count": null,
   "metadata": {
    "id": "Rmm-LK8CnbQu",
    "outputId": "b8e2cda6-3115-4ebc-9b39-0c420bdaa2a9"
   },
   "outputs": [
    {
     "ename": "ValueError",
     "evalue": "setting an array element with a sequence. The requested array has an inhomogeneous shape after 1 dimensions. The detected shape was (3,) + inhomogeneous part.",
     "output_type": "error",
     "traceback": [
      "\u001b[0;31m---------------------------------------------------------------------------\u001b[0m",
      "\u001b[0;31mValueError\u001b[0m                                Traceback (most recent call last)",
      "Cell \u001b[0;32mIn[6], line 1\u001b[0m\n\u001b[0;32m----> 1\u001b[0m np\u001b[38;5;241m.\u001b[39marray(list_ragged)\n",
      "\u001b[0;31mValueError\u001b[0m: setting an array element with a sequence. The requested array has an inhomogeneous shape after 1 dimensions. The detected shape was (3,) + inhomogeneous part."
     ]
    }
   ],
   "source": [
    "np.array(list_ragged)"
   ]
  },
  {
   "cell_type": "markdown",
   "metadata": {
    "id": "aRshA1RTnbQu"
   },
   "source": [
    "**`shape`** 속성"
   ]
  },
  {
   "cell_type": "markdown",
   "metadata": {
    "id": "Eej6dOflnbQu"
   },
   "source": [
    "어레이 객체의 `shape` 속성은 어레이의 모양을 저장하고 있다. 예를 들어, 위에서 생성한 2차원 어레이 `arr2`의 `shape`은 행과 열의 개수로 구성된 튜플 `(2, 4)`이다."
   ]
  },
  {
   "cell_type": "code",
   "execution_count": null,
   "metadata": {
    "colab": {
     "base_uri": "https://localhost:8080/"
    },
    "executionInfo": {
     "elapsed": 17,
     "status": "ok",
     "timestamp": 1750948538536,
     "user": {
      "displayName": "ter wa",
      "userId": "01448980402448893441"
     },
     "user_tz": -540
    },
    "id": "J4llNfTVnbQu",
    "outputId": "c6823e92-3613-4145-8a29-e85f0c6b915e"
   },
   "outputs": [
    {
     "data": {
      "text/plain": [
       "(2, 4)"
      ]
     },
     "execution_count": 7,
     "metadata": {},
     "output_type": "execute_result"
    }
   ],
   "source": [
    "arr2.shape"
   ]
  },
  {
   "cell_type": "markdown",
   "metadata": {
    "id": "z5WejWScnbQu"
   },
   "source": [
    "1차원 어레이, 즉 벡터의 모양은 벡터에 포함된 항목의 개수로 구성된\n",
    "길이가 1인 튜플로 표현된다."
   ]
  },
  {
   "cell_type": "code",
   "execution_count": null,
   "metadata": {
    "colab": {
     "base_uri": "https://localhost:8080/"
    },
    "executionInfo": {
     "elapsed": 33,
     "status": "ok",
     "timestamp": 1750948542896,
     "user": {
      "displayName": "ter wa",
      "userId": "01448980402448893441"
     },
     "user_tz": -540
    },
    "id": "TXxIlOmunbQu",
    "outputId": "15caa417-2d62-4f58-eb11-e37be307218e"
   },
   "outputs": [
    {
     "data": {
      "text/plain": [
       "(5,)"
      ]
     },
     "execution_count": 8,
     "metadata": {},
     "output_type": "execute_result"
    }
   ],
   "source": [
    "arr1.shape"
   ]
  },
  {
   "cell_type": "markdown",
   "metadata": {
    "id": "WvlU_FypnbQu"
   },
   "source": [
    "참고로 길이가 1인 튜플은 반드시 쉼표를 포함해야 함에 주의한다.\n",
    "쉼표를 표시하지 않으면 튜플이 아니다."
   ]
  },
  {
   "cell_type": "code",
   "execution_count": null,
   "metadata": {
    "colab": {
     "base_uri": "https://localhost:8080/"
    },
    "executionInfo": {
     "elapsed": 63,
     "status": "ok",
     "timestamp": 1750948677229,
     "user": {
      "displayName": "ter wa",
      "userId": "01448980402448893441"
     },
     "user_tz": -540
    },
    "id": "mvRGNVJXnbQv",
    "outputId": "f0d6b912-d412-4f47-e3a4-d3ffd33844bc"
   },
   "outputs": [
    {
     "data": {
      "text/plain": [
       "tuple"
      ]
     },
     "execution_count": 9,
     "metadata": {},
     "output_type": "execute_result"
    }
   ],
   "source": [
    "type((5,))"
   ]
  },
  {
   "cell_type": "code",
   "execution_count": null,
   "metadata": {
    "colab": {
     "base_uri": "https://localhost:8080/"
    },
    "executionInfo": {
     "elapsed": 23,
     "status": "ok",
     "timestamp": 1750948679102,
     "user": {
      "displayName": "ter wa",
      "userId": "01448980402448893441"
     },
     "user_tz": -540
    },
    "id": "7d7jdqrRnbQv",
    "outputId": "17f2c5ce-cd40-4cc5-f868-517f9538b8c5"
   },
   "outputs": [
    {
     "data": {
      "text/plain": [
       "int"
      ]
     },
     "execution_count": 10,
     "metadata": {},
     "output_type": "execute_result"
    }
   ],
   "source": [
    "type((5))"
   ]
  },
  {
   "cell_type": "markdown",
   "metadata": {
    "id": "I-VLtAOanbQv"
   },
   "source": [
    "**`ndim` 속성**"
   ]
  },
  {
   "cell_type": "markdown",
   "metadata": {
    "id": "aX8oyVGGnbQv"
   },
   "source": [
    "어레이의 차원은 `ndim` 속성에 저장되며, `shape`에 저장된 튜플의 길이와 동일하다. 2차원 어레이 `arr2`의 `ndim`은 2이고, 1차원 어레이 `arr1`의 `ndim`은 1이다."
   ]
  },
  {
   "cell_type": "code",
   "execution_count": null,
   "metadata": {
    "colab": {
     "base_uri": "https://localhost:8080/"
    },
    "executionInfo": {
     "elapsed": 44,
     "status": "ok",
     "timestamp": 1750948798356,
     "user": {
      "displayName": "ter wa",
      "userId": "01448980402448893441"
     },
     "user_tz": -540
    },
    "id": "BNFW0JqInbQv",
    "outputId": "5dd1e6e5-eab2-4a3a-804b-8601eeb7e6fd"
   },
   "outputs": [
    {
     "data": {
      "text/plain": [
       "2"
      ]
     },
     "execution_count": 11,
     "metadata": {},
     "output_type": "execute_result"
    }
   ],
   "source": [
    "arr2.ndim"
   ]
  },
  {
   "cell_type": "code",
   "execution_count": null,
   "metadata": {
    "colab": {
     "base_uri": "https://localhost:8080/"
    },
    "executionInfo": {
     "elapsed": 29,
     "status": "ok",
     "timestamp": 1750948799467,
     "user": {
      "displayName": "ter wa",
      "userId": "01448980402448893441"
     },
     "user_tz": -540
    },
    "id": "qtf5ZvBxnbQv",
    "outputId": "fd3ee517-8424-4fa1-f04b-f00b1c40e641"
   },
   "outputs": [
    {
     "data": {
      "text/plain": [
       "1"
      ]
     },
     "execution_count": 12,
     "metadata": {},
     "output_type": "execute_result"
    }
   ],
   "source": [
    "arr1.ndim"
   ]
  },
  {
   "cell_type": "markdown",
   "metadata": {
    "id": "j-D99vhZnbQv"
   },
   "source": [
    "**`np.arange()` 함수**"
   ]
  },
  {
   "cell_type": "markdown",
   "metadata": {
    "id": "Q45xdsSYnbQv"
   },
   "source": [
    "`np.arange()` 함수는 앞에서 살펴본 `range()` 함수와 유사한 역할을 하지만, 반환값이 리스트가 아닌 넘파이 어레이이다."
   ]
  },
  {
   "cell_type": "code",
   "execution_count": null,
   "metadata": {
    "id": "7zy1UJNnnbQv",
    "outputId": "34bd5058-45d3-4601-f6eb-055f0ccdae33"
   },
   "outputs": [
    {
     "data": {
      "text/plain": [
       "array([0, 1, 2, 3, 4, 5, 6, 7, 8, 9])"
      ]
     },
     "execution_count": 13,
     "metadata": {},
     "output_type": "execute_result"
    }
   ],
   "source": [
    "np.arange(10)"
   ]
  },
  {
   "cell_type": "markdown",
   "metadata": {
    "id": "ZQo22KaZnbQv"
   },
   "source": [
    "그리고 부동소수점을 스텝으로 사용할 수도 있다.\n",
    "예를 들어 아래 코드는 0부터 1까지 스텝 0.1씩 증가시켜 1차원 어레이를 생성한다. 시작점 0은 어레이의 항목이 되지만, 오른쪽 끝값인 1은 어레이의 항목이 아님에 유의한다."
   ]
  },
  {
   "cell_type": "code",
   "execution_count": null,
   "metadata": {
    "colab": {
     "base_uri": "https://localhost:8080/"
    },
    "executionInfo": {
     "elapsed": 37,
     "status": "ok",
     "timestamp": 1750949272771,
     "user": {
      "displayName": "ter wa",
      "userId": "01448980402448893441"
     },
     "user_tz": -540
    },
    "id": "8c3GMHLenbQw",
    "outputId": "5f84b385-0921-450d-cecf-086840b26ed5"
   },
   "outputs": [
    {
     "data": {
      "text/plain": [
       "array([0. , 0.1, 0.2, 0.3, 0.4, 0.5, 0.6, 0.7, 0.8, 0.9])"
      ]
     },
     "execution_count": 14,
     "metadata": {},
     "output_type": "execute_result"
    }
   ],
   "source": [
    "np.arange(0, 1, 0.1)"
   ]
  },
  {
   "cell_type": "markdown",
   "metadata": {
    "id": "xEFcgF1knbQz"
   },
   "source": [
    "### `dtype` 종류"
   ]
  },
  {
   "cell_type": "markdown",
   "metadata": {
    "id": "C1VM5s7bnbQz"
   },
   "source": [
    "넘파이 어레이의 `dtype` 속성은 어레이 항목의 자료형을 담고 있는데, 저장된 자료형은 파이썬 표준 라이브러리에서 제공하는\n",
    "`int`, `float`, `str` 등의 세분화 버전이다.\n",
    "파이썬 표준은 기본적으로 정수와 부동소수점을 64비트로 처리하지만,\n",
    "필요에 따라 `astype()` 라는 어레이 메서드를 이용하여 32비트, 16비트, 8비트 형식으로 미리 지정할 수도 있다."
   ]
  },
  {
   "cell_type": "markdown",
   "metadata": {
    "id": "hCvLK5q8nbQz"
   },
   "source": [
    "**`float` 자료형**"
   ]
  },
  {
   "cell_type": "code",
   "execution_count": null,
   "metadata": {
    "colab": {
     "base_uri": "https://localhost:8080/"
    },
    "executionInfo": {
     "elapsed": 9,
     "status": "ok",
     "timestamp": 1750950094378,
     "user": {
      "displayName": "ter wa",
      "userId": "01448980402448893441"
     },
     "user_tz": -540
    },
    "id": "ZdQ8gB6znbQz",
    "outputId": "55b76079-a66d-48b7-da64-1cf86be0f0f4"
   },
   "outputs": [
    {
     "data": {
      "text/plain": [
       "dtype('float64')"
      ]
     },
     "execution_count": 16,
     "metadata": {},
     "output_type": "execute_result"
    }
   ],
   "source": [
    "arr1 = np.array([1.0, 2, 3.2])\n",
    "\n",
    "arr1.dtype"
   ]
  },
  {
   "cell_type": "markdown",
   "metadata": {
    "id": "vPVQESPLnbQz"
   },
   "source": [
    "아래 코드는 `astype()` 메서드를 이용해 16비트 형식의 부동소수점으로 항목들의 자료형을 지정한다. 소수점 이하의 자릿수를 줄이므로 메모리 사용량을 절약할 수 있다."
   ]
  },
  {
   "cell_type": "code",
   "execution_count": null,
   "metadata": {
    "colab": {
     "base_uri": "https://localhost:8080/"
    },
    "executionInfo": {
     "elapsed": 24,
     "status": "ok",
     "timestamp": 1750950527744,
     "user": {
      "displayName": "ter wa",
      "userId": "01448980402448893441"
     },
     "user_tz": -540
    },
    "id": "En6CGU8inbQz",
    "outputId": "3d2fce61-2a5e-4ce5-dee4-aac0c9b390ef"
   },
   "outputs": [
    {
     "data": {
      "text/plain": [
       "dtype('float16')"
      ]
     },
     "execution_count": 21,
     "metadata": {},
     "output_type": "execute_result"
    }
   ],
   "source": [
    "arr1 = np.array([1.0, 2, 3.2]).astype('float16')\n",
    "\n",
    "arr1.dtype"
   ]
  },
  {
   "cell_type": "markdown",
   "metadata": {
    "id": "BxmRwsQ2nbQ0"
   },
   "source": [
    "**`int` 자료형**"
   ]
  },
  {
   "cell_type": "markdown",
   "metadata": {
    "id": "evCer8CPnbQ0"
   },
   "source": [
    "정수의 경우도 부동소수점의 처리 방식과 동일하다."
   ]
  },
  {
   "cell_type": "code",
   "execution_count": null,
   "metadata": {
    "colab": {
     "base_uri": "https://localhost:8080/"
    },
    "executionInfo": {
     "elapsed": 26,
     "status": "ok",
     "timestamp": 1750950530869,
     "user": {
      "displayName": "ter wa",
      "userId": "01448980402448893441"
     },
     "user_tz": -540
    },
    "id": "CwNKxpP_nbQ0",
    "outputId": "81e03e7e-527f-40c4-aedc-02841833448e"
   },
   "outputs": [
    {
     "data": {
      "text/plain": [
       "dtype('int64')"
      ]
     },
     "execution_count": 22,
     "metadata": {},
     "output_type": "execute_result"
    }
   ],
   "source": [
    "arr2 = np.array([1, 2, 3])\n",
    "\n",
    "arr2.dtype"
   ]
  },
  {
   "cell_type": "code",
   "execution_count": null,
   "metadata": {
    "colab": {
     "base_uri": "https://localhost:8080/"
    },
    "executionInfo": {
     "elapsed": 23,
     "status": "ok",
     "timestamp": 1750950533391,
     "user": {
      "displayName": "ter wa",
      "userId": "01448980402448893441"
     },
     "user_tz": -540
    },
    "id": "TUHvOmKrnbQ0",
    "outputId": "21367bbe-f0cd-41cb-917d-e2bf7c877936"
   },
   "outputs": [
    {
     "data": {
      "text/plain": [
       "dtype('int16')"
      ]
     },
     "execution_count": 23,
     "metadata": {},
     "output_type": "execute_result"
    }
   ],
   "source": [
    "arr2 = np.array([1, 2, 3]).astype('int16')\n",
    "\n",
    "arr2.dtype"
   ]
  },
  {
   "cell_type": "markdown",
   "metadata": {
    "id": "hXDLfGW5nbQ0"
   },
   "source": [
    "**문자열 자료형**"
   ]
  },
  {
   "cell_type": "markdown",
   "metadata": {
    "id": "qwLOSH8hnbQ0"
   },
   "source": [
    "문자열은 기본적으로 유니코드로 처리되며 크기는 최장 길이의 문자열에 맞춰 결정된다.\n",
    "예를 들어 아래 코드는 어레이에 포함된 가장 긴 문자열 `'python'` 의 길이인 `<U6`가 자료형으로 지정됨을 보여준다."
   ]
  },
  {
   "cell_type": "code",
   "execution_count": null,
   "metadata": {
    "colab": {
     "base_uri": "https://localhost:8080/"
    },
    "executionInfo": {
     "elapsed": 49,
     "status": "ok",
     "timestamp": 1750950537201,
     "user": {
      "displayName": "ter wa",
      "userId": "01448980402448893441"
     },
     "user_tz": -540
    },
    "id": "xxa3CE4cnbQ0",
    "outputId": "2406c295-d0dd-444e-e226-51d00c46d333"
   },
   "outputs": [
    {
     "data": {
      "text/plain": [
       "dtype('<U6')"
      ]
     },
     "execution_count": 24,
     "metadata": {},
     "output_type": "execute_result"
    }
   ],
   "source": [
    "np.array(['python', 'data']).dtype"
   ]
  },
  {
   "cell_type": "markdown",
   "metadata": {
    "id": "R7jTDZmZnbQ0"
   },
   "source": [
    "반면에 아래 어레이의 자료형은 `<U4`인데, 문자열 `'1.25'`가 길이가 가장 긴 항목이기 때문이다."
   ]
  },
  {
   "cell_type": "code",
   "execution_count": null,
   "metadata": {
    "colab": {
     "base_uri": "https://localhost:8080/"
    },
    "executionInfo": {
     "elapsed": 17,
     "status": "ok",
     "timestamp": 1750950539095,
     "user": {
      "displayName": "ter wa",
      "userId": "01448980402448893441"
     },
     "user_tz": -540
    },
    "id": "Pvkutuw2nbQ0",
    "outputId": "17fb9b18-9cb2-427f-85d0-82a02de44af8"
   },
   "outputs": [
    {
     "data": {
      "text/plain": [
       "dtype('<U4')"
      ]
     },
     "execution_count": 25,
     "metadata": {},
     "output_type": "execute_result"
    }
   ],
   "source": [
    "numeric_strings = np.array(['1.25', '-9.6', '42'])\n",
    "numeric_strings.dtype"
   ]
  },
  {
   "cell_type": "markdown",
   "metadata": {
    "id": "k0XMQjarnbQ0"
   },
   "source": [
    "## 어레이 연산"
   ]
  },
  {
   "cell_type": "markdown",
   "metadata": {
    "id": "3x8KY1ManbQ0"
   },
   "source": [
    "넘파이 어레이 연산은 기본적으로 항목별로 이루어진다.\n",
    "즉, 지정된 연산을 동일한 위치의 항목끼리 실행하여 새로운, 동일한 모양의 어레이를 생성한다."
   ]
  },
  {
   "cell_type": "code",
   "execution_count": null,
   "metadata": {
    "colab": {
     "base_uri": "https://localhost:8080/"
    },
    "executionInfo": {
     "elapsed": 20,
     "status": "ok",
     "timestamp": 1750950541572,
     "user": {
      "displayName": "ter wa",
      "userId": "01448980402448893441"
     },
     "user_tz": -540
    },
    "id": "NVc1MepynbQ0",
    "outputId": "fb9619a3-a7db-4988-82bc-4794aa060c79"
   },
   "outputs": [
    {
     "data": {
      "text/plain": [
       "array([2.       , 4.       , 6.1992188], dtype=float32)"
      ]
     },
     "execution_count": 26,
     "metadata": {},
     "output_type": "execute_result"
    }
   ],
   "source": [
    "arr1 + arr2"
   ]
  },
  {
   "cell_type": "code",
   "execution_count": null,
   "metadata": {
    "colab": {
     "base_uri": "https://localhost:8080/"
    },
    "executionInfo": {
     "elapsed": 31,
     "status": "ok",
     "timestamp": 1750950636066,
     "user": {
      "displayName": "ter wa",
      "userId": "01448980402448893441"
     },
     "user_tz": -540
    },
    "id": "Gc-0n3LqnbQ1",
    "outputId": "1ad63f09-8ddc-45ec-ee0a-bb71d00caabb"
   },
   "outputs": [
    {
     "data": {
      "text/plain": [
       "array([1.      , 4.      , 9.597656], dtype=float32)"
      ]
     },
     "execution_count": 30,
     "metadata": {},
     "output_type": "execute_result"
    }
   ],
   "source": [
    "arr1 * arr2"
   ]
  },
  {
   "cell_type": "markdown",
   "metadata": {
    "id": "O0WI4nTTnbQ0"
   },
   "source": [
    "모양이 맞지 않아도 브로드캐스팅 기법으로 모양을 맞출 수 있는 경우에는 연산이 가능하다.\n",
    "따라서 숫자와의 연산은 모든 항목에 동일한 값을 사용하게 된다."
   ]
  },
  {
   "cell_type": "code",
   "execution_count": null,
   "metadata": {
    "colab": {
     "base_uri": "https://localhost:8080/"
    },
    "executionInfo": {
     "elapsed": 22,
     "status": "ok",
     "timestamp": 1750950637598,
     "user": {
      "displayName": "ter wa",
      "userId": "01448980402448893441"
     },
     "user_tz": -540
    },
    "id": "csxceFtjnbQ0",
    "outputId": "01c75952-ba3a-4006-f644-4b8935a2f50d"
   },
   "outputs": [
    {
     "data": {
      "text/plain": [
       "array([-1.   ,  0.   ,  1.199], dtype=float16)"
      ]
     },
     "execution_count": 31,
     "metadata": {},
     "output_type": "execute_result"
    }
   ],
   "source": [
    "arr1 - 2"
   ]
  },
  {
   "cell_type": "code",
   "execution_count": null,
   "metadata": {
    "colab": {
     "base_uri": "https://localhost:8080/"
    },
    "executionInfo": {
     "elapsed": 27,
     "status": "ok",
     "timestamp": 1750950639340,
     "user": {
      "displayName": "ter wa",
      "userId": "01448980402448893441"
     },
     "user_tz": -540
    },
    "id": "y5Sl9j1GnbQ1",
    "outputId": "92193621-3b35-47a7-bf60-8fc2fbef637a"
   },
   "outputs": [
    {
     "data": {
      "text/plain": [
       "array([0.4346, 0.869 , 1.391 ], dtype=float16)"
      ]
     },
     "execution_count": 32,
     "metadata": {},
     "output_type": "execute_result"
    }
   ],
   "source": [
    "arr1 / 2.3"
   ]
  },
  {
   "cell_type": "markdown",
   "metadata": {
    "id": "UWpLmzWunbQ1"
   },
   "source": [
    ":::{admonition} 어레이 브로드캐스팅\n",
    ":class: note\n",
    "\n",
    "원하는 경우 [(코딩알지) 브로드캐스팅](https://codingalzi.github.io/datapy/numpy_4.html#id7)을 읽어볼 것을 권장한다.\n",
    ":::"
   ]
  },
  {
   "cell_type": "markdown",
   "metadata": {
    "id": "VNc830Z9nbQ1"
   },
   "source": [
    "2차원 어레이 연산도 동일한 방식으로 진행된다."
   ]
  },
  {
   "cell_type": "code",
   "execution_count": null,
   "metadata": {
    "colab": {
     "base_uri": "https://localhost:8080/"
    },
    "executionInfo": {
     "elapsed": 20,
     "status": "ok",
     "timestamp": 1750950653259,
     "user": {
      "displayName": "ter wa",
      "userId": "01448980402448893441"
     },
     "user_tz": -540
    },
    "id": "_2R_ba-GnbQ1",
    "outputId": "50b12797-d480-4deb-82a2-bc8900be9527"
   },
   "outputs": [
    {
     "data": {
      "text/plain": [
       "array([[1., 2., 3.],\n",
       "       [4., 5., 6.]])"
      ]
     },
     "execution_count": 33,
     "metadata": {},
     "output_type": "execute_result"
    }
   ],
   "source": [
    "arr3= np.array([[1., 2., 3.], [4., 5., 6.]])\n",
    "arr3"
   ]
  },
  {
   "cell_type": "code",
   "execution_count": null,
   "metadata": {
    "colab": {
     "base_uri": "https://localhost:8080/"
    },
    "executionInfo": {
     "elapsed": 46,
     "status": "ok",
     "timestamp": 1750950656323,
     "user": {
      "displayName": "ter wa",
      "userId": "01448980402448893441"
     },
     "user_tz": -540
    },
    "id": "E6QuQyn5nbQ1",
    "outputId": "5b9f0fdd-4dc9-434c-916d-328d659c03fd"
   },
   "outputs": [
    {
     "data": {
      "text/plain": [
       "array([[ 3.,  2.,  1.],\n",
       "       [ 4.,  2., 12.]])"
      ]
     },
     "execution_count": 34,
     "metadata": {},
     "output_type": "execute_result"
    }
   ],
   "source": [
    "arr4 = np.array([[3., 2., 1.], [4., 2., 12.]])\n",
    "arr4"
   ]
  },
  {
   "cell_type": "code",
   "execution_count": null,
   "metadata": {
    "colab": {
     "base_uri": "https://localhost:8080/"
    },
    "executionInfo": {
     "elapsed": 22,
     "status": "ok",
     "timestamp": 1750950664334,
     "user": {
      "displayName": "ter wa",
      "userId": "01448980402448893441"
     },
     "user_tz": -540
    },
    "id": "ie0UuC0unbQ1",
    "outputId": "4aa11f9f-e072-4966-94e0-970959f86270"
   },
   "outputs": [
    {
     "data": {
      "text/plain": [
       "array([[ 4.,  4.,  4.],\n",
       "       [ 8.,  7., 18.]])"
      ]
     },
     "execution_count": 35,
     "metadata": {},
     "output_type": "execute_result"
    }
   ],
   "source": [
    "arr3 + arr4"
   ]
  },
  {
   "cell_type": "code",
   "execution_count": null,
   "metadata": {
    "id": "R-CwBFp8nbQ1",
    "outputId": "f0eb72f4-b4e6-4138-982c-249497bbb269"
   },
   "outputs": [
    {
     "data": {
      "text/plain": [
       "array([[-2.,  0.,  2.],\n",
       "       [ 0.,  3., -6.]])"
      ]
     },
     "execution_count": 28,
     "metadata": {},
     "output_type": "execute_result"
    }
   ],
   "source": [
    "arr3 - arr4"
   ]
  },
  {
   "cell_type": "code",
   "execution_count": null,
   "metadata": {
    "colab": {
     "base_uri": "https://localhost:8080/"
    },
    "executionInfo": {
     "elapsed": 21,
     "status": "ok",
     "timestamp": 1750950665644,
     "user": {
      "displayName": "ter wa",
      "userId": "01448980402448893441"
     },
     "user_tz": -540
    },
    "id": "6D1VeD35nbQ1",
    "outputId": "6c400ac2-9672-44b8-8757-20462c076d65"
   },
   "outputs": [
    {
     "data": {
      "text/plain": [
       "array([[ 3.,  4.,  3.],\n",
       "       [16., 10., 72.]])"
      ]
     },
     "execution_count": 36,
     "metadata": {},
     "output_type": "execute_result"
    }
   ],
   "source": [
    "arr3 * arr4"
   ]
  },
  {
   "cell_type": "code",
   "execution_count": null,
   "metadata": {
    "colab": {
     "base_uri": "https://localhost:8080/"
    },
    "executionInfo": {
     "elapsed": 27,
     "status": "ok",
     "timestamp": 1750950667903,
     "user": {
      "displayName": "ter wa",
      "userId": "01448980402448893441"
     },
     "user_tz": -540
    },
    "id": "gCwy_rjmnbQ1",
    "outputId": "7aa15393-9dc9-4157-ad87-d143a221c59c"
   },
   "outputs": [
    {
     "data": {
      "text/plain": [
       "array([[0.33333333, 1.        , 3.        ],\n",
       "       [1.        , 2.5       , 0.5       ]])"
      ]
     },
     "execution_count": 37,
     "metadata": {},
     "output_type": "execute_result"
    }
   ],
   "source": [
    "arr3 / arr4"
   ]
  },
  {
   "cell_type": "code",
   "execution_count": null,
   "metadata": {
    "colab": {
     "base_uri": "https://localhost:8080/"
    },
    "executionInfo": {
     "elapsed": 21,
     "status": "ok",
     "timestamp": 1750950669821,
     "user": {
      "displayName": "ter wa",
      "userId": "01448980402448893441"
     },
     "user_tz": -540
    },
    "id": "bTQgr9a9nbQ1",
    "outputId": "c219214a-42e5-44bc-d885-666d82c0a61a"
   },
   "outputs": [
    {
     "data": {
      "text/plain": [
       "array([[3.4, 4.4, 5.4],\n",
       "       [6.4, 7.4, 8.4]])"
      ]
     },
     "execution_count": 38,
     "metadata": {},
     "output_type": "execute_result"
    }
   ],
   "source": [
    "arr3 + 2.4"
   ]
  },
  {
   "cell_type": "code",
   "execution_count": null,
   "metadata": {
    "colab": {
     "base_uri": "https://localhost:8080/"
    },
    "executionInfo": {
     "elapsed": 21,
     "status": "ok",
     "timestamp": 1750950671042,
     "user": {
      "displayName": "ter wa",
      "userId": "01448980402448893441"
     },
     "user_tz": -540
    },
    "id": "1Y7DsSnKnbQ1",
    "outputId": "78d46a79-c64a-4f3e-d65e-0b8625a69385"
   },
   "outputs": [
    {
     "data": {
      "text/plain": [
       "array([[ 2.78,  1.78,  0.78],\n",
       "       [-0.22, -1.22, -2.22]])"
      ]
     },
     "execution_count": 39,
     "metadata": {},
     "output_type": "execute_result"
    }
   ],
   "source": [
    "3.78 - arr3"
   ]
  },
  {
   "cell_type": "markdown",
   "metadata": {
    "id": "CwQQE8B7nbQ1"
   },
   "source": [
    "**비교 연산**"
   ]
  },
  {
   "cell_type": "markdown",
   "metadata": {
    "id": "NxrNDGv6nbQ1"
   },
   "source": [
    "모양이 동일한 두 어레이의 값 비교도 항목별로 수행된다."
   ]
  },
  {
   "cell_type": "code",
   "execution_count": null,
   "metadata": {
    "colab": {
     "base_uri": "https://localhost:8080/"
    },
    "executionInfo": {
     "elapsed": 55,
     "status": "ok",
     "timestamp": 1750950720192,
     "user": {
      "displayName": "ter wa",
      "userId": "01448980402448893441"
     },
     "user_tz": -540
    },
    "id": "62QTZPpEnbQ1",
    "outputId": "dba69950-53be-417b-f3cb-ab26d6bc7f5b"
   },
   "outputs": [
    {
     "data": {
      "text/plain": [
       "array([[ True, False, False],\n",
       "       [False, False,  True]])"
      ]
     },
     "execution_count": 40,
     "metadata": {},
     "output_type": "execute_result"
    }
   ],
   "source": [
    "arr4 > arr3"
   ]
  },
  {
   "cell_type": "code",
   "execution_count": null,
   "metadata": {
    "colab": {
     "base_uri": "https://localhost:8080/"
    },
    "executionInfo": {
     "elapsed": 9,
     "status": "ok",
     "timestamp": 1750950722063,
     "user": {
      "displayName": "ter wa",
      "userId": "01448980402448893441"
     },
     "user_tz": -540
    },
    "id": "KeMCAWi2nbQ2",
    "outputId": "119da202-7477-4946-8443-08140e30b343"
   },
   "outputs": [
    {
     "data": {
      "text/plain": [
       "array([[False,  True,  True],\n",
       "       [ True,  True, False]])"
      ]
     },
     "execution_count": 41,
     "metadata": {},
     "output_type": "execute_result"
    }
   ],
   "source": [
    "arr4 <= arr3"
   ]
  },
  {
   "cell_type": "code",
   "execution_count": null,
   "metadata": {
    "colab": {
     "base_uri": "https://localhost:8080/"
    },
    "executionInfo": {
     "elapsed": 11,
     "status": "ok",
     "timestamp": 1750950728600,
     "user": {
      "displayName": "ter wa",
      "userId": "01448980402448893441"
     },
     "user_tz": -540
    },
    "id": "8f_5RVlknbQ2",
    "outputId": "7f4d8cd2-46aa-441b-c88d-5772560814bf"
   },
   "outputs": [
    {
     "data": {
      "text/plain": [
       "array([[ True, False,  True],\n",
       "       [False,  True,  True]])"
      ]
     },
     "execution_count": 44,
     "metadata": {},
     "output_type": "execute_result"
    }
   ],
   "source": [
    "arr3 != arr4"
   ]
  },
  {
   "cell_type": "code",
   "execution_count": null,
   "metadata": {
    "colab": {
     "base_uri": "https://localhost:8080/"
    },
    "executionInfo": {
     "elapsed": 19,
     "status": "ok",
     "timestamp": 1750950753432,
     "user": {
      "displayName": "ter wa",
      "userId": "01448980402448893441"
     },
     "user_tz": -540
    },
    "id": "7PVOQybCnbQ2",
    "outputId": "8598a34a-8863-403e-d3cf-0b00cd8dc321"
   },
   "outputs": [
    {
     "data": {
      "text/plain": [
       "array([[ True,  True,  True],\n",
       "       [ True,  True,  True]])"
      ]
     },
     "execution_count": 45,
     "metadata": {},
     "output_type": "execute_result"
    }
   ],
   "source": [
    "arr3 == arr3"
   ]
  },
  {
   "cell_type": "code",
   "execution_count": null,
   "metadata": {
    "colab": {
     "base_uri": "https://localhost:8080/"
    },
    "executionInfo": {
     "elapsed": 18,
     "status": "ok",
     "timestamp": 1750950754757,
     "user": {
      "displayName": "ter wa",
      "userId": "01448980402448893441"
     },
     "user_tz": -540
    },
    "id": "CD8Ph9a3nbQ2",
    "outputId": "60fcd825-2dbe-4226-d802-15d1612cd443"
   },
   "outputs": [
    {
     "data": {
      "text/plain": [
       "array([[False,  True,  True],\n",
       "       [ True,  True,  True]])"
      ]
     },
     "execution_count": 46,
     "metadata": {},
     "output_type": "execute_result"
    }
   ],
   "source": [
    "1.2 < arr3"
   ]
  },
  {
   "cell_type": "code",
   "execution_count": null,
   "metadata": {
    "colab": {
     "base_uri": "https://localhost:8080/"
    },
    "executionInfo": {
     "elapsed": 18,
     "status": "ok",
     "timestamp": 1750950756053,
     "user": {
      "displayName": "ter wa",
      "userId": "01448980402448893441"
     },
     "user_tz": -540
    },
    "id": "MhHPoFXrnbQ2",
    "outputId": "2b5da639-19a1-4949-cec7-c74a500d1368"
   },
   "outputs": [
    {
     "data": {
      "text/plain": [
       "array([[False, False,  True],\n",
       "       [False, False, False]])"
      ]
     },
     "execution_count": 47,
     "metadata": {},
     "output_type": "execute_result"
    }
   ],
   "source": [
    "1.2 >= arr4"
   ]
  },
  {
   "cell_type": "markdown",
   "metadata": {
    "id": "zMBOQa2AnbQ2"
   },
   "source": [
    "**논리 연산**"
   ]
  },
  {
   "cell_type": "markdown",
   "metadata": {
    "id": "7MS3r2hRnbQ2"
   },
   "source": [
    "어레이를 대상으로 사용 가능한 논리 연산은 아래 세 가지이며, 결과물로 생성되는 어레이는 모든 항목이 `bool` 자료형, 즉 `True` 또는 `False`이다.\n",
    "\n",
    "* `~`: 부정(not) 연산자\n",
    "* `&`: 논리곱(and) 연산자\n",
    "* `|`: 논리합(or) 연산자"
   ]
  },
  {
   "cell_type": "code",
   "execution_count": null,
   "metadata": {
    "colab": {
     "base_uri": "https://localhost:8080/"
    },
    "executionInfo": {
     "elapsed": 23,
     "status": "ok",
     "timestamp": 1750950930567,
     "user": {
      "displayName": "ter wa",
      "userId": "01448980402448893441"
     },
     "user_tz": -540
    },
    "id": "bTELhctqnbQ2",
    "outputId": "beb57ac6-ca44-4492-d109-dbbd61fc1fbb"
   },
   "outputs": [
    {
     "data": {
      "text/plain": [
       "array([[False, False, False],\n",
       "       [False, False, False]])"
      ]
     },
     "execution_count": 48,
     "metadata": {},
     "output_type": "execute_result"
    }
   ],
   "source": [
    "~(arr3 == arr3)"
   ]
  },
  {
   "cell_type": "code",
   "execution_count": null,
   "metadata": {
    "colab": {
     "base_uri": "https://localhost:8080/"
    },
    "executionInfo": {
     "elapsed": 24,
     "status": "ok",
     "timestamp": 1750950937729,
     "user": {
      "displayName": "ter wa",
      "userId": "01448980402448893441"
     },
     "user_tz": -540
    },
    "id": "EzCGP4hlnbQ2",
    "outputId": "425cf880-f40a-4c42-df36-750fad2723ee"
   },
   "outputs": [
    {
     "data": {
      "text/plain": [
       "array([[ True,  True,  True],\n",
       "       [ True,  True,  True]])"
      ]
     },
     "execution_count": 49,
     "metadata": {},
     "output_type": "execute_result"
    }
   ],
   "source": [
    "(arr3 == arr3) & (arr4 == arr4)"
   ]
  },
  {
   "cell_type": "code",
   "execution_count": null,
   "metadata": {
    "colab": {
     "base_uri": "https://localhost:8080/"
    },
    "executionInfo": {
     "elapsed": 27,
     "status": "ok",
     "timestamp": 1750950943106,
     "user": {
      "displayName": "ter wa",
      "userId": "01448980402448893441"
     },
     "user_tz": -540
    },
    "id": "FzOiDYW9nbQ2",
    "outputId": "8769f927-0da6-415c-d659-156931acac16"
   },
   "outputs": [
    {
     "data": {
      "text/plain": [
       "array([[ True,  True,  True],\n",
       "       [ True,  True,  True]])"
      ]
     },
     "execution_count": 50,
     "metadata": {},
     "output_type": "execute_result"
    }
   ],
   "source": [
    "~(arr3 == arr3) | (arr4 == arr4)"
   ]
  },
  {
   "cell_type": "markdown",
   "metadata": {
    "id": "PkuLP8d-nbQ2"
   },
   "source": [
    "## 어레이 모양 변형"
   ]
  },
  {
   "cell_type": "markdown",
   "metadata": {
    "id": "x262uJ-8nbQ2"
   },
   "source": [
    "어레이의 항목을 그대로 유지하면서 모양만 변형시키는 방식과\n",
    "활용법을 소개한다."
   ]
  },
  {
   "cell_type": "markdown",
   "metadata": {
    "id": "C08m8jOonbQ2"
   },
   "source": [
    "**`reshape()` 메서드**"
   ]
  },
  {
   "cell_type": "markdown",
   "metadata": {
    "id": "lQjj0WGJnbQ2"
   },
   "source": [
    "`reshape()` 메서드는 어레이의 모양을 변형하는데 쓰인다. 단, 전체 항목의 수가 변하지 않도록 모양을 지정해야 한다.\n",
    "예를 들어, 길이 8인 1차원 어레이는 (4,2) 모양의 2차원 어레이로 변형할 수 있지만, (4,3) 모양의 어레이로 변형하려 하면 오류를 발생시킨다."
   ]
  },
  {
   "cell_type": "code",
   "execution_count": null,
   "metadata": {
    "colab": {
     "base_uri": "https://localhost:8080/"
    },
    "executionInfo": {
     "elapsed": 28,
     "status": "ok",
     "timestamp": 1750987951283,
     "user": {
      "displayName": "ter wa",
      "userId": "01448980402448893441"
     },
     "user_tz": -540
    },
    "id": "B7FJMZXjnbQ2",
    "outputId": "58e0edd0-aa57-4121-dbd8-10aeb8307ba2"
   },
   "outputs": [
    {
     "data": {
      "text/plain": [
       "array([0, 1, 2, 3, 4, 5, 6, 7])"
      ]
     },
     "execution_count": 6,
     "metadata": {},
     "output_type": "execute_result"
    }
   ],
   "source": [
    "arr = np.arange(8)\n",
    "arr"
   ]
  },
  {
   "cell_type": "code",
   "execution_count": null,
   "metadata": {
    "colab": {
     "base_uri": "https://localhost:8080/"
    },
    "executionInfo": {
     "elapsed": 25,
     "status": "ok",
     "timestamp": 1750988248911,
     "user": {
      "displayName": "ter wa",
      "userId": "01448980402448893441"
     },
     "user_tz": -540
    },
    "id": "UIm2YIuknbQ3",
    "outputId": "8d551ec7-4851-4be6-c8c2-d8576f73c1e8"
   },
   "outputs": [
    {
     "data": {
      "text/plain": [
       "array([[0, 1],\n",
       "       [2, 3],\n",
       "       [4, 5],\n",
       "       [6, 7]])"
      ]
     },
     "execution_count": 9,
     "metadata": {},
     "output_type": "execute_result"
    }
   ],
   "source": [
    "arr2 = arr.reshape((4, 2))\n",
    "arr2"
   ]
  },
  {
   "cell_type": "code",
   "execution_count": null,
   "metadata": {
    "colab": {
     "base_uri": "https://localhost:8080/",
     "height": 141
    },
    "executionInfo": {
     "elapsed": 52,
     "status": "error",
     "timestamp": 1750988353211,
     "user": {
      "displayName": "ter wa",
      "userId": "01448980402448893441"
     },
     "user_tz": -540
    },
    "id": "YWfB6-LLCTjd",
    "outputId": "f0e31029-06a8-45f9-9bf3-888524dbc457"
   },
   "outputs": [
    {
     "ename": "ValueError",
     "evalue": "cannot reshape array of size 8 into shape (4,3)",
     "output_type": "error",
     "traceback": [
      "\u001b[0;31m---------------------------------------------------------------------------\u001b[0m",
      "\u001b[0;31mValueError\u001b[0m                                Traceback (most recent call last)",
      "\u001b[0;32m/tmp/ipython-input-11-2858205448.py\u001b[0m in \u001b[0;36m<cell line: 0>\u001b[0;34m()\u001b[0m\n\u001b[0;32m----> 1\u001b[0;31m \u001b[0marr\u001b[0m\u001b[0;34m.\u001b[0m\u001b[0mreshape\u001b[0m\u001b[0;34m(\u001b[0m\u001b[0;34m(\u001b[0m\u001b[0;36m4\u001b[0m\u001b[0;34m,\u001b[0m \u001b[0;36m3\u001b[0m\u001b[0;34m)\u001b[0m\u001b[0;34m)\u001b[0m\u001b[0;34m\u001b[0m\u001b[0;34m\u001b[0m\u001b[0m\n\u001b[0m",
      "\u001b[0;31mValueError\u001b[0m: cannot reshape array of size 8 into shape (4,3)"
     ]
    }
   ],
   "source": [
    "arr.reshape((4, 3))"
   ]
  },
  {
   "cell_type": "markdown",
   "metadata": {
    "id": "h74chPjonbQ3"
   },
   "source": [
    "**`-1`의 역할**"
   ]
  },
  {
   "cell_type": "markdown",
   "metadata": {
    "id": "0UQPj5nonbQ3"
   },
   "source": [
    "어레이의 모양을 지정하는 튜플의 특정 위치에 -1을 사용하면, 그 위치의 값은 어레이의 전체 항목 수와 튜플의 다른 항목에 의해 자동으로 결정된다.\n",
    "예를 들어, 아래 코드에서 -1은 4로 결정된다. 20개의 항목을 5개의 행을 가진 2차원 어레이로 지정하려면 열의 개수가 4가 되기 때문이다."
   ]
  },
  {
   "cell_type": "code",
   "execution_count": null,
   "metadata": {
    "colab": {
     "base_uri": "https://localhost:8080/"
    },
    "executionInfo": {
     "elapsed": 16,
     "status": "ok",
     "timestamp": 1751607805308,
     "user": {
      "displayName": "ter wa",
      "userId": "01448980402448893441"
     },
     "user_tz": -540
    },
    "id": "Wpc0TinPnbQ3",
    "outputId": "5b391a2e-a5aa-4274-d578-7a0d5a0a39f9"
   },
   "outputs": [
    {
     "data": {
      "text/plain": [
       "array([[ 0,  1,  2,  3],\n",
       "       [ 4,  5,  6,  7],\n",
       "       [ 8,  9, 10, 11],\n",
       "       [12, 13, 14, 15],\n",
       "       [16, 17, 18, 19]])"
      ]
     },
     "execution_count": 11,
     "metadata": {},
     "output_type": "execute_result"
    }
   ],
   "source": [
    "arr = np.arange(20)\n",
    "arr.reshape((5, -1))"
   ]
  },
  {
   "cell_type": "code",
   "execution_count": null,
   "metadata": {
    "colab": {
     "base_uri": "https://localhost:8080/"
    },
    "executionInfo": {
     "elapsed": 19,
     "status": "ok",
     "timestamp": 1751607806872,
     "user": {
      "displayName": "ter wa",
      "userId": "01448980402448893441"
     },
     "user_tz": -540
    },
    "id": "NKZ3jPopnbQ3",
    "outputId": "7e96cc9d-804f-449d-cd32-f9577e25aab0"
   },
   "outputs": [
    {
     "data": {
      "text/plain": [
       "array([[ 0,  1,  2,  3],\n",
       "       [ 4,  5,  6,  7],\n",
       "       [ 8,  9, 10, 11],\n",
       "       [12, 13, 14, 15],\n",
       "       [16, 17, 18, 19]])"
      ]
     },
     "execution_count": 12,
     "metadata": {},
     "output_type": "execute_result"
    }
   ],
   "source": [
    "arr.reshape((5, 4))"
   ]
  },
  {
   "cell_type": "markdown",
   "metadata": {
    "id": "HFDLeReEnbQ3"
   },
   "source": [
    "마찬가지로, 아래 코드에서 -1은 5를 의미한다."
   ]
  },
  {
   "cell_type": "code",
   "execution_count": null,
   "metadata": {
    "colab": {
     "base_uri": "https://localhost:8080/"
    },
    "executionInfo": {
     "elapsed": 11,
     "status": "ok",
     "timestamp": 1751607811466,
     "user": {
      "displayName": "ter wa",
      "userId": "01448980402448893441"
     },
     "user_tz": -540
    },
    "id": "whZUlFVynbQ3",
    "outputId": "7f1a5f3b-94fc-4102-e888-9750c14961fd"
   },
   "outputs": [
    {
     "data": {
      "text/plain": [
       "array([[ 0,  1,  2,  3],\n",
       "       [ 4,  5,  6,  7],\n",
       "       [ 8,  9, 10, 11],\n",
       "       [12, 13, 14, 15],\n",
       "       [16, 17, 18, 19]])"
      ]
     },
     "execution_count": 13,
     "metadata": {},
     "output_type": "execute_result"
    }
   ],
   "source": [
    "arr.reshape((-1, 4))"
   ]
  },
  {
   "cell_type": "markdown",
   "metadata": {
    "id": "aaq1yezw1fS1"
   },
   "source": [
    "## 브로드캐스팅"
   ]
  },
  {
   "cell_type": "markdown",
   "metadata": {
    "id": "DKbvooid1fS1"
   },
   "source": [
    "**브로드캐스팅**<font size='2'>broadcasting</font>\n",
    "기능은 모양이 서로 다른 두 어레이가 주어졌을 때 두 모양을 통일시킬 수 있다면 두 어레이의 연산이 가능하도록\n",
    "도와주는 기능이다.\n",
    "설명을 위해 하나의 어레이와 하나의 정수의 곱셈이 작동하는 과정을 살펴본다."
   ]
  },
  {
   "cell_type": "code",
   "execution_count": null,
   "metadata": {
    "id": "gjRDzhI01fS2",
    "outputId": "c4fcb9cd-afda-4cda-d486-7a863e85fce9"
   },
   "outputs": [
    {
     "data": {
      "text/plain": [
       "array([[0, 1, 2],\n",
       "       [3, 4, 5]])"
      ]
     },
     "execution_count": 35,
     "metadata": {},
     "output_type": "execute_result"
    }
   ],
   "source": [
    "arr = np.arange(6).reshape((2,3))\n",
    "arr"
   ]
  },
  {
   "cell_type": "markdown",
   "metadata": {
    "id": "RiYEKdLU1fS2"
   },
   "source": [
    "위 어레이에 4를 곱한 결과는 다음과 같다."
   ]
  },
  {
   "cell_type": "code",
   "execution_count": null,
   "metadata": {
    "id": "qKJbQ_A51fS2",
    "outputId": "1043abec-4b1a-4978-f389-ccb638b74039"
   },
   "outputs": [
    {
     "data": {
      "text/plain": [
       "array([[ 0,  4,  8],\n",
       "       [12, 16, 20]])"
      ]
     },
     "execution_count": 36,
     "metadata": {},
     "output_type": "execute_result"
    }
   ],
   "source": [
    "arr * 4"
   ]
  },
  {
   "cell_type": "markdown",
   "metadata": {
    "id": "r8Xouw2O1fS2"
   },
   "source": [
    "결과가 항목별로 곱해지는 이유는 `arr * 4` 가 아래 어레이의 곱셈과 동일하게 작동하기 때문이다.\n",
    "즉, 정수 4로 채워진 동일한 모양의 어레이를 먼저 생성한 후에 항목별 곱셈을 진행한다."
   ]
  },
  {
   "cell_type": "markdown",
   "metadata": {
    "id": "iKhTRvvD1fS2"
   },
   "source": [
    "<div align=\"center\"><img src=\"https://raw.githubusercontent.com/codingalzi/datapy/master/jupyter-book/images/broadcasting14.png?raw=true\" style=\"width:300px;\"></div>"
   ]
  },
  {
   "cell_type": "markdown",
   "metadata": {
    "id": "A95khyjj1fS2"
   },
   "source": [
    "이와 같이 어레이의 모양을 확장하여 항목별 연산을 해주는 브로드캐스팅 기능은 두 어레이의 모양이 항목별 연산을 일괄적으로 적용시켜도 무방한 경우에는 자동 적용된다."
   ]
  },
  {
   "cell_type": "markdown",
   "metadata": {
    "id": "U5WRChXh1fS2"
   },
   "source": [
    "아래 예제는 (4,3) 모양의 2차원 어레이와 (1,3) 모양의 1차원 어레이의 덧셈을 실행해서 브로드캐스팅 기능이 어떻게 작용하는지를 보여준다. 먼저 1차원 어레이를 (4,1) 모양의 2차원 어레이로 변형한 후, (4,3) 모양의 어레이로 확장시킨다."
   ]
  },
  {
   "cell_type": "code",
   "execution_count": null,
   "metadata": {
    "colab": {
     "base_uri": "https://localhost:8080/"
    },
    "executionInfo": {
     "elapsed": 45,
     "status": "ok",
     "timestamp": 1751607726229,
     "user": {
      "displayName": "ter wa",
      "userId": "01448980402448893441"
     },
     "user_tz": -540
    },
    "id": "uh34mSFx1fS2",
    "outputId": "a785fd37-4447-4df4-8a95-5119fdcfe58a"
   },
   "outputs": [
    {
     "data": {
      "text/plain": [
       "array([[0, 0, 0],\n",
       "       [1, 1, 1],\n",
       "       [2, 2, 2],\n",
       "       [3, 3, 3]])"
      ]
     },
     "execution_count": 4,
     "metadata": {},
     "output_type": "execute_result"
    }
   ],
   "source": [
    "arr2 = np.arange(4).reshape((4,1)).repeat(3,axis=1)\n",
    "arr2"
   ]
  },
  {
   "cell_type": "markdown",
   "metadata": {
    "id": "ExxYSE4C7oNR"
   },
   "source": [
    "또다른 어레이는 (1,3) 모양으로 생성한 후, 앞의 어레이와 덧셈을 실행해 본다."
   ]
  },
  {
   "cell_type": "code",
   "execution_count": null,
   "metadata": {
    "colab": {
     "base_uri": "https://localhost:8080/"
    },
    "executionInfo": {
     "elapsed": 10,
     "status": "ok",
     "timestamp": 1751607766439,
     "user": {
      "displayName": "ter wa",
      "userId": "01448980402448893441"
     },
     "user_tz": -540
    },
    "id": "Nz2o-lJm1fS2",
    "outputId": "14eb3147-da68-4c80-b396-a3971fe247f5"
   },
   "outputs": [
    {
     "data": {
      "text/plain": [
       "array([1, 2, 3])"
      ]
     },
     "execution_count": 7,
     "metadata": {},
     "output_type": "execute_result"
    }
   ],
   "source": [
    "arr3 = np.arange(1, 4)\n",
    "arr3"
   ]
  },
  {
   "cell_type": "code",
   "execution_count": null,
   "metadata": {
    "colab": {
     "base_uri": "https://localhost:8080/"
    },
    "executionInfo": {
     "elapsed": 18,
     "status": "ok",
     "timestamp": 1751607771632,
     "user": {
      "displayName": "ter wa",
      "userId": "01448980402448893441"
     },
     "user_tz": -540
    },
    "id": "sqcFMxe_1fS2",
    "outputId": "d552ce55-effc-4e54-d82a-bd153bcac604"
   },
   "outputs": [
    {
     "data": {
      "text/plain": [
       "array([[1, 2, 3],\n",
       "       [2, 3, 4],\n",
       "       [3, 4, 5],\n",
       "       [4, 5, 6]])"
      ]
     },
     "execution_count": 8,
     "metadata": {},
     "output_type": "execute_result"
    }
   ],
   "source": [
    "arr2 + arr3"
   ]
  },
  {
   "cell_type": "markdown",
   "metadata": {
    "id": "7U0x-D531fS2"
   },
   "source": [
    "위 연산이 작동하는 이유는 아래 그림을 통해 이해할 수 있다."
   ]
  },
  {
   "cell_type": "markdown",
   "metadata": {
    "id": "zzHd8X-91fS3"
   },
   "source": [
    "<div align=\"center\"><img src=\"https://raw.githubusercontent.com/codingalzi/datapy/master/jupyter-book/images/broadcasting10.png?raw=true\" style=\"width:400px;\"></div>"
   ]
  },
  {
   "cell_type": "markdown",
   "metadata": {
    "id": "O6F0HBq-1fS3"
   },
   "source": [
    "마찬가지로, (4,3) 모양의 `arr2`와 (4,1) 모양의 어레이 `arr4`의 덧셈에도 브로드캐스팅 기능이 자동 적용된다."
   ]
  },
  {
   "cell_type": "code",
   "execution_count": null,
   "metadata": {
    "colab": {
     "base_uri": "https://localhost:8080/"
    },
    "executionInfo": {
     "elapsed": 19,
     "status": "ok",
     "timestamp": 1751609087015,
     "user": {
      "displayName": "ter wa",
      "userId": "01448980402448893441"
     },
     "user_tz": -540
    },
    "id": "mrhc0FZZ1fS3",
    "outputId": "8acd99cb-532f-4e3d-fd26-662b928e09f1"
   },
   "outputs": [
    {
     "data": {
      "text/plain": [
       "array([[1],\n",
       "       [2],\n",
       "       [3],\n",
       "       [4]])"
      ]
     },
     "execution_count": 14,
     "metadata": {},
     "output_type": "execute_result"
    }
   ],
   "source": [
    "arr4 = np.arange(1, 5).reshape((4,1))\n",
    "arr4"
   ]
  },
  {
   "cell_type": "code",
   "execution_count": null,
   "metadata": {
    "colab": {
     "base_uri": "https://localhost:8080/"
    },
    "executionInfo": {
     "elapsed": 19,
     "status": "ok",
     "timestamp": 1751609142085,
     "user": {
      "displayName": "ter wa",
      "userId": "01448980402448893441"
     },
     "user_tz": -540
    },
    "id": "nDsPFZwF1fS3",
    "outputId": "032cc6f4-5e39-4870-d35d-ce1cefafbb2f"
   },
   "outputs": [
    {
     "data": {
      "text/plain": [
       "array([[1, 1, 1],\n",
       "       [3, 3, 3],\n",
       "       [5, 5, 5],\n",
       "       [7, 7, 7]])"
      ]
     },
     "execution_count": 15,
     "metadata": {},
     "output_type": "execute_result"
    }
   ],
   "source": [
    "arr2 + arr4"
   ]
  },
  {
   "cell_type": "markdown",
   "metadata": {
    "id": "j5CA1bt71fS3"
   },
   "source": [
    "<div align=\"center\"><img src=\"https://raw.githubusercontent.com/codingalzi/datapy/master/jupyter-book/images/broadcasting11.png?raw=true\" style=\"width:400px;\"></div>"
   ]
  },
  {
   "cell_type": "markdown",
   "metadata": {
    "id": "piH5stO51fS3"
   },
   "source": [
    "하지만 (4,3) 모양의 어레이와 (1,4) 모양의 어레이의 항목별 연산은 정의될 수가 없으므로, 브로드캐스팅이 가능하지 않고 오류가 발생한다."
   ]
  },
  {
   "cell_type": "code",
   "execution_count": null,
   "metadata": {
    "colab": {
     "base_uri": "https://localhost:8080/"
    },
    "executionInfo": {
     "elapsed": 15,
     "status": "ok",
     "timestamp": 1751609788567,
     "user": {
      "displayName": "ter wa",
      "userId": "01448980402448893441"
     },
     "user_tz": -540
    },
    "id": "-iaGF5uC1fS3",
    "outputId": "dc64be43-91ff-4763-8a47-4144ad690003"
   },
   "outputs": [
    {
     "data": {
      "text/plain": [
       "array([[1, 2, 3, 4]])"
      ]
     },
     "execution_count": 19,
     "metadata": {},
     "output_type": "execute_result"
    }
   ],
   "source": [
    "arr5 = arr4.reshape(1,4)\n",
    "arr5"
   ]
  },
  {
   "cell_type": "code",
   "execution_count": null,
   "metadata": {
    "collapsed": true,
    "id": "UVJ-9zcQFfIO"
   },
   "outputs": [],
   "source": [
    "arr2 + arr5"
   ]
  },
  {
   "cell_type": "markdown",
   "metadata": {
    "id": "Cs25ezyG1fS3"
   },
   "source": [
    "```python\n",
    "-------------------------------------------------------------------------\n",
    "ValueError                                Traceback (most recent call last)\n",
    "/tmp/ipython-input-20-897499081.py in <cell line: 0>()\n",
    "----> 1 arr2 + arr5\n",
    "\n",
    "ValueError: operands could not be broadcast together with shapes (4,3) (1,4)\n",
    "```"
   ]
  },
  {
   "cell_type": "markdown",
   "metadata": {
    "id": "L0ia00JB1fS3"
   },
   "source": [
    "아래 그림이 이유를 설명해준다."
   ]
  },
  {
   "cell_type": "markdown",
   "metadata": {
    "id": "qoXPm4CE1fS3"
   },
   "source": [
    "<div align=\"center\"><img src=\"https://raw.githubusercontent.com/codingalzi/datapy/master/jupyter-book/images/broadcasting11a.png?raw=true\" style=\"width:380px;\"></div>\n",
    "\n",
    "<p><div style=\"text-align: center\">&lt;그림 출처: <a href=\"https://numpy.org/doc/stable/user/basics.broadcasting.html\">NumPy: Broadcasting</a>&gt;</div></p>"
   ]
  },
  {
   "cell_type": "markdown",
   "metadata": {
    "id": "VHM0WAwCnbQ3"
   },
   "source": [
    "## 어레이 인덱싱/슬라이싱"
   ]
  },
  {
   "cell_type": "markdown",
   "metadata": {
    "id": "ZUEDCtVlnbQ3"
   },
   "source": [
    "**1차원 어레이 인덱싱/슬라이싱**"
   ]
  },
  {
   "cell_type": "markdown",
   "metadata": {
    "id": "Q84lNm7bnbQ3"
   },
   "source": [
    "1차원 어레이의 인덱싱은 리스트와 거의 동일하다."
   ]
  },
  {
   "cell_type": "code",
   "execution_count": null,
   "metadata": {
    "colab": {
     "base_uri": "https://localhost:8080/"
    },
    "executionInfo": {
     "elapsed": 22,
     "status": "ok",
     "timestamp": 1750989065419,
     "user": {
      "displayName": "ter wa",
      "userId": "01448980402448893441"
     },
     "user_tz": -540
    },
    "id": "Ox51C7H_nbQ3",
    "outputId": "41c45caf-362f-4226-ac9a-7e1ce171299d"
   },
   "outputs": [
    {
     "data": {
      "text/plain": [
       "array([0, 1, 2, 3, 4, 5, 6, 7, 8, 9])"
      ]
     },
     "execution_count": 15,
     "metadata": {},
     "output_type": "execute_result"
    }
   ],
   "source": [
    "arr = np.arange(10)\n",
    "arr"
   ]
  },
  {
   "cell_type": "code",
   "execution_count": null,
   "metadata": {
    "colab": {
     "base_uri": "https://localhost:8080/"
    },
    "executionInfo": {
     "elapsed": 33,
     "status": "ok",
     "timestamp": 1750989066381,
     "user": {
      "displayName": "ter wa",
      "userId": "01448980402448893441"
     },
     "user_tz": -540
    },
    "id": "iDigOIPNnbQ3",
    "outputId": "3797428c-fd83-44ab-f017-85a5c702f87f"
   },
   "outputs": [
    {
     "data": {
      "text/plain": [
       "np.int64(5)"
      ]
     },
     "execution_count": 16,
     "metadata": {},
     "output_type": "execute_result"
    }
   ],
   "source": [
    "arr[5]"
   ]
  },
  {
   "cell_type": "markdown",
   "metadata": {
    "id": "b-F2POqznbQ3"
   },
   "source": [
    "**뷰<font size='2'>view</font>**\n",
    "\n",
    "넘파이 어레이의 슬라이싱은 리스트와 다르게, 지정된 구간의 객체를 새로 생성하는 게 아니라 구간의 정보를 활용하기만 한다.\n",
    "이러한 기능을 **뷰**라고 부르는데, 넘파이 어레이와 관련된 많은 함수가 뷰 기능을 사용한다."
   ]
  },
  {
   "cell_type": "markdown",
   "metadata": {
    "id": "57OBAQrInbQ4"
   },
   "source": [
    "아래 코드에서 `arr_slice`의 항목을 변경하면 `arr`의 항목도 함께 달라진다. 즉, 슬라이싱이 새로운 어레이를 생성하는 것이 아님이 확인된다."
   ]
  },
  {
   "cell_type": "code",
   "execution_count": null,
   "metadata": {
    "colab": {
     "base_uri": "https://localhost:8080/"
    },
    "executionInfo": {
     "elapsed": 57,
     "status": "ok",
     "timestamp": 1750989611616,
     "user": {
      "displayName": "ter wa",
      "userId": "01448980402448893441"
     },
     "user_tz": -540
    },
    "id": "uEA9AvcLnbQ3",
    "outputId": "d1f22f7a-f915-4350-b4aa-de7532644f39"
   },
   "outputs": [
    {
     "data": {
      "text/plain": [
       "array([5, 6, 7])"
      ]
     },
     "execution_count": 19,
     "metadata": {},
     "output_type": "execute_result"
    }
   ],
   "source": [
    "arr[5:8]"
   ]
  },
  {
   "cell_type": "code",
   "execution_count": null,
   "metadata": {
    "colab": {
     "base_uri": "https://localhost:8080/"
    },
    "executionInfo": {
     "elapsed": 15,
     "status": "ok",
     "timestamp": 1750989612997,
     "user": {
      "displayName": "ter wa",
      "userId": "01448980402448893441"
     },
     "user_tz": -540
    },
    "id": "vEG5G_PZnbQ4",
    "outputId": "88cd41f9-d08b-4669-de3f-5dc1b10cb1ca"
   },
   "outputs": [
    {
     "data": {
      "text/plain": [
       "array([5, 6, 7])"
      ]
     },
     "execution_count": 20,
     "metadata": {},
     "output_type": "execute_result"
    }
   ],
   "source": [
    "arr_slice = arr[5:8]\n",
    "arr_slice"
   ]
  },
  {
   "cell_type": "code",
   "execution_count": null,
   "metadata": {
    "colab": {
     "base_uri": "https://localhost:8080/"
    },
    "executionInfo": {
     "elapsed": 25,
     "status": "ok",
     "timestamp": 1750989616335,
     "user": {
      "displayName": "ter wa",
      "userId": "01448980402448893441"
     },
     "user_tz": -540
    },
    "id": "HIsWBIJqnbQ4",
    "outputId": "062bf0bd-addd-44e1-e861-cd87c2cb7cc8"
   },
   "outputs": [
    {
     "data": {
      "text/plain": [
       "array([   0,    1,    2,    3,    4,    5, 3450,    7,    8,    9])"
      ]
     },
     "execution_count": 21,
     "metadata": {},
     "output_type": "execute_result"
    }
   ],
   "source": [
    "arr_slice[1] = 3450\n",
    "arr"
   ]
  },
  {
   "cell_type": "markdown",
   "metadata": {
    "id": "ZPX_9_vgnbQ4"
   },
   "source": [
    "**`copy()` 메서드**\n",
    "\n",
    "따라서 슬라이싱할 때, 원본을 그대로 유지하려면 `copy()` 메서드로 사본을 만들어 활용할 것을 권장한다."
   ]
  },
  {
   "cell_type": "code",
   "execution_count": null,
   "metadata": {
    "colab": {
     "base_uri": "https://localhost:8080/"
    },
    "executionInfo": {
     "elapsed": 32,
     "status": "ok",
     "timestamp": 1750989887727,
     "user": {
      "displayName": "ter wa",
      "userId": "01448980402448893441"
     },
     "user_tz": -540
    },
    "id": "6VOoBZEAnbQ4",
    "outputId": "56e3c5d9-6e4c-4bd3-e7c5-1b2cee79036f"
   },
   "outputs": [
    {
     "data": {
      "text/plain": [
       "array([   5, 3450,    7])"
      ]
     },
     "execution_count": 22,
     "metadata": {},
     "output_type": "execute_result"
    }
   ],
   "source": [
    "arr_slice2 = arr[5:8].copy()\n",
    "arr_slice2"
   ]
  },
  {
   "cell_type": "markdown",
   "metadata": {
    "id": "MlI6TYuPnbQ4"
   },
   "source": [
    "`arr_slice2`를 변경해도 `arr`은 영향받지 않는다."
   ]
  },
  {
   "cell_type": "code",
   "execution_count": null,
   "metadata": {
    "colab": {
     "base_uri": "https://localhost:8080/"
    },
    "executionInfo": {
     "elapsed": 34,
     "status": "ok",
     "timestamp": 1750989916226,
     "user": {
      "displayName": "ter wa",
      "userId": "01448980402448893441"
     },
     "user_tz": -540
    },
    "id": "W7IE__0TnbQ4",
    "outputId": "0e72fe6e-acf4-43b6-9d67-fb0b821bb130"
   },
   "outputs": [
    {
     "data": {
      "text/plain": [
       "array([ 5, 12,  7])"
      ]
     },
     "execution_count": 24,
     "metadata": {},
     "output_type": "execute_result"
    }
   ],
   "source": [
    "arr_slice2[1] = 12\n",
    "arr_slice2"
   ]
  },
  {
   "cell_type": "code",
   "execution_count": null,
   "metadata": {
    "colab": {
     "base_uri": "https://localhost:8080/"
    },
    "executionInfo": {
     "elapsed": 38,
     "status": "ok",
     "timestamp": 1750989918376,
     "user": {
      "displayName": "ter wa",
      "userId": "01448980402448893441"
     },
     "user_tz": -540
    },
    "id": "6kRg2PUYnbQ4",
    "outputId": "a0e157ca-4ae1-4d5f-f66b-5871db543d18"
   },
   "outputs": [
    {
     "data": {
      "text/plain": [
       "array([   0,    1,    2,    3,    4,    5, 3450,    7,    8,    9])"
      ]
     },
     "execution_count": 25,
     "metadata": {},
     "output_type": "execute_result"
    }
   ],
   "source": [
    "arr"
   ]
  },
  {
   "cell_type": "markdown",
   "metadata": {
    "id": "UeW-etqOnbQ4"
   },
   "source": [
    "**2차원 어레이 인덱싱/슬라이싱**"
   ]
  },
  {
   "cell_type": "markdown",
   "metadata": {
    "id": "bkG8pNMenbQ4"
   },
   "source": [
    "2차원 이상의 다차원 어레이는 리스트보다 훨씬 다양한 인덱싱, 슬라이싱 기능을 제공한다."
   ]
  },
  {
   "cell_type": "code",
   "execution_count": null,
   "metadata": {
    "colab": {
     "base_uri": "https://localhost:8080/"
    },
    "executionInfo": {
     "elapsed": 45,
     "status": "ok",
     "timestamp": 1750989974282,
     "user": {
      "displayName": "ter wa",
      "userId": "01448980402448893441"
     },
     "user_tz": -540
    },
    "id": "rs2JEZV2nbQ4",
    "outputId": "493ff2f4-ce4b-4acc-cc7f-eda797937a11"
   },
   "outputs": [
    {
     "data": {
      "text/plain": [
       "array([[1, 2, 3],\n",
       "       [4, 5, 6],\n",
       "       [7, 8, 9]])"
      ]
     },
     "execution_count": 26,
     "metadata": {},
     "output_type": "execute_result"
    }
   ],
   "source": [
    "arr2d = np.array([[1, 2, 3], [4, 5, 6], [7, 8, 9]])\n",
    "arr2d"
   ]
  },
  {
   "cell_type": "markdown",
   "metadata": {
    "id": "lLEE8-APnbQ4"
   },
   "source": [
    "우선 리스트의 인덱싱을 그대로 사용할 수 있다."
   ]
  },
  {
   "cell_type": "code",
   "execution_count": null,
   "metadata": {
    "colab": {
     "base_uri": "https://localhost:8080/"
    },
    "executionInfo": {
     "elapsed": 26,
     "status": "ok",
     "timestamp": 1750990004783,
     "user": {
      "displayName": "ter wa",
      "userId": "01448980402448893441"
     },
     "user_tz": -540
    },
    "id": "WZ681p24nbQ4",
    "outputId": "a675407a-06ef-4162-bd60-46788ff8c365"
   },
   "outputs": [
    {
     "data": {
      "text/plain": [
       "array([1, 2, 3])"
      ]
     },
     "execution_count": 27,
     "metadata": {},
     "output_type": "execute_result"
    }
   ],
   "source": [
    "arr2d[0]"
   ]
  },
  {
   "cell_type": "code",
   "execution_count": null,
   "metadata": {
    "colab": {
     "base_uri": "https://localhost:8080/"
    },
    "executionInfo": {
     "elapsed": 24,
     "status": "ok",
     "timestamp": 1750990055187,
     "user": {
      "displayName": "ter wa",
      "userId": "01448980402448893441"
     },
     "user_tz": -540
    },
    "id": "rgIwU6rCnbQ4",
    "outputId": "e9657488-d83d-408e-c3e5-0a59fadb0326"
   },
   "outputs": [
    {
     "data": {
      "text/plain": [
       "np.int64(3)"
      ]
     },
     "execution_count": 31,
     "metadata": {},
     "output_type": "execute_result"
    }
   ],
   "source": [
    "arr2d[0][2]"
   ]
  },
  {
   "cell_type": "markdown",
   "metadata": {
    "id": "pXlld1uinbQ4"
   },
   "source": [
    "하지만 어레이는 다음과 같은 간단한 인덱싱도 허용한다."
   ]
  },
  {
   "cell_type": "code",
   "execution_count": null,
   "metadata": {
    "colab": {
     "base_uri": "https://localhost:8080/"
    },
    "executionInfo": {
     "elapsed": 30,
     "status": "ok",
     "timestamp": 1750990124169,
     "user": {
      "displayName": "ter wa",
      "userId": "01448980402448893441"
     },
     "user_tz": -540
    },
    "id": "0zWciOcanbQ4",
    "outputId": "9835832c-ce6f-469a-8cea-8cd2781332f7"
   },
   "outputs": [
    {
     "data": {
      "text/plain": [
       "np.int64(3)"
      ]
     },
     "execution_count": 33,
     "metadata": {},
     "output_type": "execute_result"
    }
   ],
   "source": [
    "arr2d[0, 2]"
   ]
  },
  {
   "cell_type": "markdown",
   "metadata": {
    "id": "aKicZ8E_nbQ5"
   },
   "source": [
    "슬라이싱 또한 리스트 슬라이싱 방식을 동일하게 적용할 수 있다."
   ]
  },
  {
   "cell_type": "markdown",
   "metadata": {
    "id": "Aq9r0utqnbQ5"
   },
   "source": [
    "* 1번 인덱스 이전까지"
   ]
  },
  {
   "cell_type": "code",
   "execution_count": null,
   "metadata": {
    "id": "b0yHg99VnbQ5",
    "outputId": "cfbba0f6-3deb-41df-9db4-85a068929677"
   },
   "outputs": [
    {
     "data": {
      "text/plain": [
       "array([[1, 2, 3]])"
      ]
     },
     "execution_count": 59,
     "metadata": {},
     "output_type": "execute_result"
    }
   ],
   "source": [
    "arr2d[:1]"
   ]
  },
  {
   "cell_type": "markdown",
   "metadata": {
    "id": "MeMZ7bqQnbQ5"
   },
   "source": [
    "* 2번 인덱스 이전까지"
   ]
  },
  {
   "cell_type": "code",
   "execution_count": null,
   "metadata": {
    "id": "i0z6dQtanbQ5",
    "outputId": "2decf4dd-a41e-463c-efc3-3254555b9bdd"
   },
   "outputs": [
    {
     "data": {
      "text/plain": [
       "array([[1, 2, 3],\n",
       "       [4, 5, 6]])"
      ]
     },
     "execution_count": 60,
     "metadata": {},
     "output_type": "execute_result"
    }
   ],
   "source": [
    "arr2d[:2]"
   ]
  },
  {
   "cell_type": "markdown",
   "metadata": {
    "id": "xFI9pvCsnbQ5"
   },
   "source": [
    "* 전체 항목 슬라이싱"
   ]
  },
  {
   "cell_type": "code",
   "execution_count": null,
   "metadata": {
    "id": "MiFH8S8fnbQ5",
    "outputId": "9d69a9ac-23b3-4ccb-f542-349bb5294726"
   },
   "outputs": [
    {
     "data": {
      "text/plain": [
       "array([[1, 2, 3],\n",
       "       [4, 5, 6],\n",
       "       [7, 8, 9]])"
      ]
     },
     "execution_count": 61,
     "metadata": {},
     "output_type": "execute_result"
    }
   ],
   "source": [
    "arr2d[:3]"
   ]
  },
  {
   "cell_type": "markdown",
   "metadata": {
    "id": "5h5LCE1rnbQ5"
   },
   "source": [
    "행과 열을 함께 슬라이싱하려면 행과 열에 대한 슬라이싱을 동시에 지정한다."
   ]
  },
  {
   "cell_type": "markdown",
   "metadata": {
    "id": "J2be-V9JnbQ5"
   },
   "source": [
    "* 행 기준: 2번 행 이전까지\n",
    "* 열 기준: 1번 열부터 끝까지"
   ]
  },
  {
   "cell_type": "code",
   "execution_count": null,
   "metadata": {
    "id": "yIBKw3SYnbQ5",
    "outputId": "8e6abb81-7488-43ae-9b6f-df2970447328"
   },
   "outputs": [
    {
     "data": {
      "text/plain": [
       "array([[2, 3],\n",
       "       [5, 6]])"
      ]
     },
     "execution_count": 62,
     "metadata": {},
     "output_type": "execute_result"
    }
   ],
   "source": [
    "arr2d[:2, 1:]"
   ]
  },
  {
   "cell_type": "markdown",
   "metadata": {
    "id": "2wolna1lnbQ5"
   },
   "source": [
    "<div align=\"center\" border=\"1px\"><img src=\"https://raw.githubusercontent.com/codingalzi/datapy/master/jupyter-book/images/numpy149-1.png\" style=\"width:350px;\"></div>"
   ]
  },
  {
   "cell_type": "markdown",
   "metadata": {
    "id": "OxPSQ23InbQ5"
   },
   "source": [
    "인덱싱과 슬라이싱이 행과 열 각각에 대해 독립적으로 사용될 수 있다."
   ]
  },
  {
   "cell_type": "markdown",
   "metadata": {
    "id": "G4EAQvU6nbQ5"
   },
   "source": [
    "* 행 기준: 1번 행 인덱싱\n",
    "* 열 기준: 2번 열 이전까지"
   ]
  },
  {
   "cell_type": "code",
   "execution_count": null,
   "metadata": {
    "id": "Hw7cxrXqnbQ5",
    "outputId": "1ba223e9-472c-4929-ff44-c799d5c842b9"
   },
   "outputs": [
    {
     "data": {
      "text/plain": [
       "array([4, 5])"
      ]
     },
     "execution_count": 63,
     "metadata": {},
     "output_type": "execute_result"
    }
   ],
   "source": [
    "arr2d[1, :2]"
   ]
  },
  {
   "cell_type": "markdown",
   "metadata": {
    "id": "jhZSzVEKnbQ5"
   },
   "source": [
    "<div align=\"center\" border=\"1px\"><img src=\"https://raw.githubusercontent.com/codingalzi/datapy/master/jupyter-book/images/numpy149-4.png\" style=\"width:350px;\"></div>"
   ]
  },
  {
   "cell_type": "markdown",
   "metadata": {
    "id": "hvKXiyl6nbQ5"
   },
   "source": [
    "**주의사항:**\n",
    "\n",
    "슬라이싱 결과물의 차원은 기존 어레이의 차원보다 인덱싱을 사용하는 축의 개수만큼 줄어든다. 따라서 동일한 항목을 얻는 슬라이싱일지라도, 인덱싱을 사용할 때와 아닐 때의 결과물은 다른 모양이 된다.\n",
    "예를 들어, 아래 코드는 0번 축에 대해 인덱싱을 사용하므로, 슬라이싱의 결과물은 1차원 어레이이다."
   ]
  },
  {
   "cell_type": "code",
   "execution_count": null,
   "metadata": {
    "colab": {
     "base_uri": "https://localhost:8080/"
    },
    "executionInfo": {
     "elapsed": 44,
     "status": "ok",
     "timestamp": 1750991230733,
     "user": {
      "displayName": "ter wa",
      "userId": "01448980402448893441"
     },
     "user_tz": -540
    },
    "id": "O-ZUxEDGnbQ6",
    "outputId": "fd013bd1-f52f-4bed-9b8c-6d051632774e"
   },
   "outputs": [
    {
     "data": {
      "text/plain": [
       "array([4, 5])"
      ]
     },
     "execution_count": 37,
     "metadata": {},
     "output_type": "execute_result"
    }
   ],
   "source": [
    "arr2d[1, :2]"
   ]
  },
  {
   "cell_type": "code",
   "execution_count": null,
   "metadata": {
    "colab": {
     "base_uri": "https://localhost:8080/"
    },
    "executionInfo": {
     "elapsed": 18,
     "status": "ok",
     "timestamp": 1750991232489,
     "user": {
      "displayName": "ter wa",
      "userId": "01448980402448893441"
     },
     "user_tz": -540
    },
    "id": "HZGfmyzhNbTi",
    "outputId": "bc19d2be-a0d1-48a5-a482-7c57830e1b93"
   },
   "outputs": [
    {
     "data": {
      "text/plain": [
       "(2,)"
      ]
     },
     "execution_count": 38,
     "metadata": {},
     "output_type": "execute_result"
    }
   ],
   "source": [
    "arr2d[1, :2].shape"
   ]
  },
  {
   "cell_type": "markdown",
   "metadata": {
    "id": "mcscB6mNnbQ6"
   },
   "source": [
    "반면에, 아래 코드는 모든 축에 대해 슬라이싱을 적용하였기에 차원이 그대로 유지된 (1,2) 어레이가 된다."
   ]
  },
  {
   "cell_type": "code",
   "execution_count": null,
   "metadata": {
    "colab": {
     "base_uri": "https://localhost:8080/"
    },
    "executionInfo": {
     "elapsed": 14,
     "status": "ok",
     "timestamp": 1750991213501,
     "user": {
      "displayName": "ter wa",
      "userId": "01448980402448893441"
     },
     "user_tz": -540
    },
    "id": "hc_Xqg5JNWt7",
    "outputId": "1d079131-3b20-4947-e3c4-462da09947f5"
   },
   "outputs": [
    {
     "data": {
      "text/plain": [
       "array([[4, 5]])"
      ]
     },
     "execution_count": 36,
     "metadata": {},
     "output_type": "execute_result"
    }
   ],
   "source": [
    "arr2d[1:2, :2]"
   ]
  },
  {
   "cell_type": "code",
   "execution_count": null,
   "metadata": {
    "colab": {
     "base_uri": "https://localhost:8080/"
    },
    "executionInfo": {
     "elapsed": 11,
     "status": "ok",
     "timestamp": 1750991139715,
     "user": {
      "displayName": "ter wa",
      "userId": "01448980402448893441"
     },
     "user_tz": -540
    },
    "id": "nfj7djj8nbQ6",
    "outputId": "1f2ff393-3242-41d3-dd3c-a9bc1fdb1511"
   },
   "outputs": [
    {
     "data": {
      "text/plain": [
       "(1, 2)"
      ]
     },
     "execution_count": 35,
     "metadata": {},
     "output_type": "execute_result"
    }
   ],
   "source": [
    "arr2d[1:2, :2].shape"
   ]
  },
  {
   "cell_type": "markdown",
   "metadata": {
    "id": "yzIIrBhpnbQ6"
   },
   "source": [
    "## 예제"
   ]
  },
  {
   "cell_type": "markdown",
   "metadata": {
    "id": "zAU14Z8gnbQ6"
   },
   "source": [
    "**예제 1**"
   ]
  },
  {
   "cell_type": "markdown",
   "metadata": {
    "id": "7uQHmwdVnbQ6"
   },
   "source": [
    "아래 모양의 2차원 어레이를 지정된 단계를 따라 생성해보자."
   ]
  },
  {
   "cell_type": "markdown",
   "metadata": {
    "id": "7wNpe4v7nbQ6"
   },
   "source": [
    "```python\n",
    "array([[ 0,  1,  2,  3,  4,  5],\n",
    "       [10, 11, 12, 13, 14, 15],\n",
    "       [20, 21, 22, 23, 24, 25],\n",
    "       [30, 31, 32, 33, 34, 35],\n",
    "       [40, 41, 42, 43, 44, 45],\n",
    "       [50, 51, 52, 53, 54, 55]])\n",
    "```"
   ]
  },
  {
   "cell_type": "markdown",
   "metadata": {
    "id": "FD4PqMjfnbQ6"
   },
   "source": [
    "(1) 먼저 `np.arange()` 함수와 `reshape()` 어레이 메서드만 사용하여, 아래 모양의 어레이를 `arr_e1` 이름으로 생성한다."
   ]
  },
  {
   "cell_type": "markdown",
   "metadata": {
    "id": "f6lv6_TLnbQ6"
   },
   "source": [
    "```python\n",
    "array([[ 0,  1,  2,  3,  4,  5],\n",
    "       [ 6,  7,  8,  9, 10, 11],\n",
    "       [12, 13, 14, 15, 16, 17],\n",
    "       [18, 19, 20, 21, 22, 23],\n",
    "       [24, 25, 26, 27, 28, 29],\n",
    "       [30, 31, 32, 33, 34, 35]])\n",
    "```"
   ]
  },
  {
   "cell_type": "markdown",
   "metadata": {
    "id": "IniXcBq1nbQ6"
   },
   "source": [
    "답:"
   ]
  },
  {
   "cell_type": "markdown",
   "metadata": {
    "id": "lurvHVYYnbQ6"
   },
   "source": [
    "2차원 어레이의 모양이 (6, 6)이지만 항목이 0에서 35까지의 정수로 구성된다.\n",
    "따라서 `np.arange(36)`로 1차원 어레이를 만든 다음에 `reshape()` 메서드를 적용한다."
   ]
  },
  {
   "cell_type": "code",
   "execution_count": null,
   "metadata": {
    "colab": {
     "base_uri": "https://localhost:8080/"
    },
    "executionInfo": {
     "elapsed": 59,
     "status": "ok",
     "timestamp": 1750991852167,
     "user": {
      "displayName": "ter wa",
      "userId": "01448980402448893441"
     },
     "user_tz": -540
    },
    "id": "fwshigAKnbQ6",
    "outputId": "7d52e6dc-359a-4d7a-8528-d0db6d73cb97"
   },
   "outputs": [
    {
     "data": {
      "text/plain": [
       "array([ 0,  1,  2,  3,  4,  5,  6,  7,  8,  9, 10, 11, 12, 13, 14, 15, 16,\n",
       "       17, 18, 19, 20, 21, 22, 23, 24, 25, 26, 27, 28, 29, 30, 31, 32, 33,\n",
       "       34, 35])"
      ]
     },
     "execution_count": 39,
     "metadata": {},
     "output_type": "execute_result"
    }
   ],
   "source": [
    "arr_e1 = np.arange(36)\n",
    "arr_e1"
   ]
  },
  {
   "cell_type": "markdown",
   "metadata": {
    "id": "m9tOHiVJnbQ7"
   },
   "source": [
    "이제 (6, 6) 모양의 2차원 어레이로 변환한다."
   ]
  },
  {
   "cell_type": "code",
   "execution_count": null,
   "metadata": {
    "colab": {
     "base_uri": "https://localhost:8080/"
    },
    "executionInfo": {
     "elapsed": 30,
     "status": "ok",
     "timestamp": 1750991855655,
     "user": {
      "displayName": "ter wa",
      "userId": "01448980402448893441"
     },
     "user_tz": -540
    },
    "id": "cbxml0IhnbQ7",
    "outputId": "920f8414-b3a8-4c5e-d1d6-ed18be760538"
   },
   "outputs": [
    {
     "data": {
      "text/plain": [
       "array([[ 0,  1,  2,  3,  4,  5],\n",
       "       [ 6,  7,  8,  9, 10, 11],\n",
       "       [12, 13, 14, 15, 16, 17],\n",
       "       [18, 19, 20, 21, 22, 23],\n",
       "       [24, 25, 26, 27, 28, 29],\n",
       "       [30, 31, 32, 33, 34, 35]])"
      ]
     },
     "execution_count": 40,
     "metadata": {},
     "output_type": "execute_result"
    }
   ],
   "source": [
    "arr_e1 = arr_e1.reshape((6,6))\n",
    "arr_e1"
   ]
  },
  {
   "cell_type": "markdown",
   "metadata": {
    "id": "MDDhcRVCnbQ7"
   },
   "source": [
    "또는"
   ]
  },
  {
   "cell_type": "code",
   "execution_count": null,
   "metadata": {
    "colab": {
     "base_uri": "https://localhost:8080/"
    },
    "executionInfo": {
     "elapsed": 25,
     "status": "ok",
     "timestamp": 1750991875699,
     "user": {
      "displayName": "ter wa",
      "userId": "01448980402448893441"
     },
     "user_tz": -540
    },
    "id": "BJVSqs1vnbQ7",
    "outputId": "d92ceb43-7691-4dcc-cbc8-3a239fa5fd20"
   },
   "outputs": [
    {
     "data": {
      "text/plain": [
       "array([[ 0,  1,  2,  3,  4,  5],\n",
       "       [ 6,  7,  8,  9, 10, 11],\n",
       "       [12, 13, 14, 15, 16, 17],\n",
       "       [18, 19, 20, 21, 22, 23],\n",
       "       [24, 25, 26, 27, 28, 29],\n",
       "       [30, 31, 32, 33, 34, 35]])"
      ]
     },
     "execution_count": 41,
     "metadata": {},
     "output_type": "execute_result"
    }
   ],
   "source": [
    "arr_e1 = arr_e1.reshape((6,-1))\n",
    "arr_e1"
   ]
  },
  {
   "cell_type": "markdown",
   "metadata": {
    "id": "wf-Yjqa6nbQ7"
   },
   "source": [
    "한줄 코드로 작성하면 다음과 같다."
   ]
  },
  {
   "cell_type": "code",
   "execution_count": null,
   "metadata": {
    "colab": {
     "base_uri": "https://localhost:8080/"
    },
    "executionInfo": {
     "elapsed": 25,
     "status": "ok",
     "timestamp": 1750991935559,
     "user": {
      "displayName": "ter wa",
      "userId": "01448980402448893441"
     },
     "user_tz": -540
    },
    "id": "ehO6EadbnbQ7",
    "outputId": "69bd9681-f16c-41a7-d578-58a169aa09c8"
   },
   "outputs": [
    {
     "data": {
      "text/plain": [
       "array([[ 0,  1,  2,  3,  4,  5],\n",
       "       [ 6,  7,  8,  9, 10, 11],\n",
       "       [12, 13, 14, 15, 16, 17],\n",
       "       [18, 19, 20, 21, 22, 23],\n",
       "       [24, 25, 26, 27, 28, 29],\n",
       "       [30, 31, 32, 33, 34, 35]])"
      ]
     },
     "execution_count": 42,
     "metadata": {},
     "output_type": "execute_result"
    }
   ],
   "source": [
    "arr_e1 = np.arange(36).reshape((6,-1))\n",
    "arr_e1"
   ]
  },
  {
   "cell_type": "markdown",
   "metadata": {
    "id": "GrZILVTHnbQ7"
   },
   "source": [
    "(2) `np.arange()` 함수와 `reshape()` 어레이 메서드만 사용하여 아래 모양의 어레이를 `arr_e2` 라는 이름으로 생성한다."
   ]
  },
  {
   "cell_type": "markdown",
   "metadata": {
    "id": "s2yZOd1NnbQ7"
   },
   "source": [
    "```python\n",
    "array([[ 0],\n",
    "       [ 4],\n",
    "       [ 8],\n",
    "       [12],\n",
    "       [16],\n",
    "       [20]])\n",
    "```"
   ]
  },
  {
   "cell_type": "markdown",
   "metadata": {
    "id": "GqYLoTP9nbQ7"
   },
   "source": [
    "답:"
   ]
  },
  {
   "cell_type": "markdown",
   "metadata": {
    "id": "e8uqMAyMnbQ7"
   },
   "source": [
    "2차원 어레이긴 하지만 0, 4, 8, 12, 16, 20으로 구성되었다.\n",
    "따라서 먼저 해당 항목들로 구성된 1차원 어레이를 생성한다."
   ]
  },
  {
   "cell_type": "code",
   "execution_count": null,
   "metadata": {
    "id": "K-cnps8FnbQ7",
    "outputId": "f41ce300-c5f4-47c0-ebfa-11f189a6b5c3"
   },
   "outputs": [
    {
     "data": {
      "text/plain": [
       "array([ 0,  4,  8, 12, 16, 20])"
      ]
     },
     "execution_count": 71,
     "metadata": {},
     "output_type": "execute_result"
    }
   ],
   "source": [
    "arr_e2 = np.arange(0, 21, 4)\n",
    "arr_e2"
   ]
  },
  {
   "cell_type": "markdown",
   "metadata": {
    "id": "I9IHgAKKnbQ7"
   },
   "source": [
    "이제 (6,1) 모양의 2차원 어레이로 변환한다."
   ]
  },
  {
   "cell_type": "code",
   "execution_count": null,
   "metadata": {
    "id": "igl9_YZknbQ7",
    "outputId": "b5be3566-5669-4431-b4c6-16cc4a0f0973"
   },
   "outputs": [
    {
     "data": {
      "text/plain": [
       "array([[ 0],\n",
       "       [ 4],\n",
       "       [ 8],\n",
       "       [12],\n",
       "       [16],\n",
       "       [20]])"
      ]
     },
     "execution_count": 72,
     "metadata": {},
     "output_type": "execute_result"
    }
   ],
   "source": [
    "arr_e2 = arr_e2.reshape((6,1))\n",
    "arr_e2"
   ]
  },
  {
   "cell_type": "markdown",
   "metadata": {
    "id": "Ni-sRYWDnbQ7"
   },
   "source": [
    "한줄 코드로 작성하면 다음과 같다."
   ]
  },
  {
   "cell_type": "code",
   "execution_count": null,
   "metadata": {
    "colab": {
     "base_uri": "https://localhost:8080/"
    },
    "executionInfo": {
     "elapsed": 44,
     "status": "ok",
     "timestamp": 1750992153609,
     "user": {
      "displayName": "ter wa",
      "userId": "01448980402448893441"
     },
     "user_tz": -540
    },
    "id": "EtxNk-krnbQ7",
    "outputId": "c168b5e4-4a67-45a4-c8a4-deb89a6e9b8d"
   },
   "outputs": [
    {
     "data": {
      "text/plain": [
       "array([[ 0],\n",
       "       [ 4],\n",
       "       [ 8],\n",
       "       [12],\n",
       "       [16],\n",
       "       [20]])"
      ]
     },
     "execution_count": 43,
     "metadata": {},
     "output_type": "execute_result"
    }
   ],
   "source": [
    "arr_e2 = np.arange(0, 21, 4).reshape((6,1))\n",
    "arr_e2"
   ]
  },
  {
   "cell_type": "markdown",
   "metadata": {
    "id": "N9g6X8etnbQ7"
   },
   "source": [
    "(3) 이제 arr_e1과 arr_e2를 이용하여 아래 모양의 어레이를 생성한다."
   ]
  },
  {
   "cell_type": "markdown",
   "metadata": {
    "id": "roipfrYhnbQ7"
   },
   "source": [
    "```python\n",
    "array([[ 0,  1,  2,  3,  4,  5],\n",
    "       [10, 11, 12, 13, 14, 15],\n",
    "       [20, 21, 22, 23, 24, 25],\n",
    "       [30, 31, 32, 33, 34, 35],\n",
    "       [40, 41, 42, 43, 44, 45],\n",
    "       [50, 51, 52, 53, 54, 55]])\n",
    "```"
   ]
  },
  {
   "cell_type": "markdown",
   "metadata": {
    "id": "Hxev3wDCnbQ8"
   },
   "source": [
    "답:"
   ]
  },
  {
   "cell_type": "markdown",
   "metadata": {
    "id": "AKWciPDZnbQ8"
   },
   "source": [
    "두 어레이를 더하면 된다."
   ]
  },
  {
   "cell_type": "code",
   "execution_count": null,
   "metadata": {
    "colab": {
     "base_uri": "https://localhost:8080/"
    },
    "executionInfo": {
     "elapsed": 23,
     "status": "ok",
     "timestamp": 1750992415957,
     "user": {
      "displayName": "ter wa",
      "userId": "01448980402448893441"
     },
     "user_tz": -540
    },
    "id": "fkjyCrqXnbQ8",
    "outputId": "763df4dd-f695-424e-f023-5114029025af"
   },
   "outputs": [
    {
     "data": {
      "text/plain": [
       "array([[ 0,  1,  2,  3,  4,  5],\n",
       "       [10, 11, 12, 13, 14, 15],\n",
       "       [20, 21, 22, 23, 24, 25],\n",
       "       [30, 31, 32, 33, 34, 35],\n",
       "       [40, 41, 42, 43, 44, 45],\n",
       "       [50, 51, 52, 53, 54, 55]])"
      ]
     },
     "execution_count": 47,
     "metadata": {},
     "output_type": "execute_result"
    }
   ],
   "source": [
    "arr = arr_e1 + arr_e2\n",
    "arr"
   ]
  },
  {
   "cell_type": "markdown",
   "metadata": {
    "id": "6MedO7XtnbQ8"
   },
   "source": [
    "**예제 2**"
   ]
  },
  {
   "cell_type": "markdown",
   "metadata": {
    "id": "veQlk-QLnbQ8"
   },
   "source": [
    "아래 그림은 `arr`이 가리키는 2차원 어레이를 보여준다.\n",
    "그림에 색깔별로 표시된 어레이를 슬라이싱을 이용하여 구해보자."
   ]
  },
  {
   "cell_type": "markdown",
   "metadata": {
    "id": "DE-SgRapnbQ8"
   },
   "source": [
    "<div align=\"center\" border=\"1px\"><img src=\"https://raw.githubusercontent.com/codingalzi/datapy/master/jupyter-book/images/numpy-2darray.png\" style=\"width:250px;\"></div>\n",
    "\n",
    "<p><div style=\"text-align: center\">&lt;그림 출처: <a href=\"https://scipy-lectures.org/intro/numpy/array_object.html#indexing-and-slicing\">Scipy Lecture Notes</a>&gt;</div></p>"
   ]
  },
  {
   "cell_type": "markdown",
   "metadata": {
    "id": "VHMj0I4xnbQ8"
   },
   "source": [
    "(1) 빨강색 상자로 표시된 1차원 어레이"
   ]
  },
  {
   "cell_type": "markdown",
   "metadata": {
    "id": "HyxWQlL9nbQ8"
   },
   "source": [
    "답:"
   ]
  },
  {
   "cell_type": "markdown",
   "metadata": {
    "id": "ZSci-DRHnbQ8"
   },
   "source": [
    "0번 행의 3번 열에서 4번 열까지로 구성된 1차원 어레이를 생성한다."
   ]
  },
  {
   "cell_type": "code",
   "execution_count": null,
   "metadata": {
    "colab": {
     "base_uri": "https://localhost:8080/"
    },
    "executionInfo": {
     "elapsed": 21,
     "status": "ok",
     "timestamp": 1750992419737,
     "user": {
      "displayName": "ter wa",
      "userId": "01448980402448893441"
     },
     "user_tz": -540
    },
    "id": "dMP9nW8bnbQ8",
    "outputId": "94477a2b-50d6-4ec1-d302-6957c9eb2f64"
   },
   "outputs": [
    {
     "data": {
      "text/plain": [
       "array([3, 4])"
      ]
     },
     "execution_count": 48,
     "metadata": {},
     "output_type": "execute_result"
    }
   ],
   "source": [
    "arr[0, 3:5]"
   ]
  },
  {
   "cell_type": "markdown",
   "metadata": {
    "id": "8nBo8E0EnbQ8"
   },
   "source": [
    "(2) 파랑색 상자로 표시된 2차원 어레이"
   ]
  },
  {
   "cell_type": "markdown",
   "metadata": {
    "id": "mRtE-IpAnbQ8"
   },
   "source": [
    "답:"
   ]
  },
  {
   "cell_type": "markdown",
   "metadata": {
    "id": "3-7yp9HxnbQ8"
   },
   "source": [
    "2번 열에 위치한 항목들로 구성된 2차원 어레이를 생성하려면 모든 행에 대해 2번 열만 추출하되, 인덱싱이 아닌 슬라이싱을 이용해야 한다."
   ]
  },
  {
   "cell_type": "code",
   "execution_count": null,
   "metadata": {
    "colab": {
     "base_uri": "https://localhost:8080/"
    },
    "executionInfo": {
     "elapsed": 25,
     "status": "ok",
     "timestamp": 1750992423379,
     "user": {
      "displayName": "ter wa",
      "userId": "01448980402448893441"
     },
     "user_tz": -540
    },
    "id": "i6l-NBJ3nbQ8",
    "outputId": "8179e1af-ab1d-4a26-bac1-1e7d0495e6a8"
   },
   "outputs": [
    {
     "data": {
      "text/plain": [
       "array([[ 2],\n",
       "       [12],\n",
       "       [22],\n",
       "       [32],\n",
       "       [42],\n",
       "       [52]])"
      ]
     },
     "execution_count": 49,
     "metadata": {},
     "output_type": "execute_result"
    }
   ],
   "source": [
    "arr[:, 2:3]"
   ]
  },
  {
   "cell_type": "markdown",
   "metadata": {
    "id": "4FQdfmZNnbQ8"
   },
   "source": [
    "2번 열에 대해 인덱싱을 적용하면 다음과 같은 1차원 어레이가 된다."
   ]
  },
  {
   "cell_type": "code",
   "execution_count": null,
   "metadata": {
    "colab": {
     "base_uri": "https://localhost:8080/"
    },
    "executionInfo": {
     "elapsed": 20,
     "status": "ok",
     "timestamp": 1750992428744,
     "user": {
      "displayName": "ter wa",
      "userId": "01448980402448893441"
     },
     "user_tz": -540
    },
    "id": "KOcVIqMHnbQ8",
    "outputId": "5aef0e2d-cc54-4784-c05b-0750502bde78"
   },
   "outputs": [
    {
     "data": {
      "text/plain": [
       "array([ 2, 12, 22, 32, 42, 52])"
      ]
     },
     "execution_count": 50,
     "metadata": {},
     "output_type": "execute_result"
    }
   ],
   "source": [
    "arr[:, 2]"
   ]
  },
  {
   "cell_type": "markdown",
   "metadata": {
    "id": "LJYB2HALnbQ8"
   },
   "source": [
    "(3) 보라색 상자로 감싸진 숫자들로 구성된 2차원 어레이"
   ]
  },
  {
   "cell_type": "markdown",
   "metadata": {
    "id": "QT63S4aNnbQ8"
   },
   "source": [
    "답:"
   ]
  },
  {
   "cell_type": "markdown",
   "metadata": {
    "id": "YGgQATKDnbQ9"
   },
   "source": [
    "행과 열에 대해 모두 스텝 2를 사용하는 슬라이싱을 적용한다."
   ]
  },
  {
   "cell_type": "code",
   "execution_count": null,
   "metadata": {
    "colab": {
     "base_uri": "https://localhost:8080/"
    },
    "executionInfo": {
     "elapsed": 24,
     "status": "ok",
     "timestamp": 1750992523383,
     "user": {
      "displayName": "ter wa",
      "userId": "01448980402448893441"
     },
     "user_tz": -540
    },
    "id": "3O6bdCbbnbQ9",
    "outputId": "f22d16bf-b0ae-4702-91aa-837739d0b7a4"
   },
   "outputs": [
    {
     "data": {
      "text/plain": [
       "array([[20, 22, 24],\n",
       "       [40, 42, 44]])"
      ]
     },
     "execution_count": 51,
     "metadata": {},
     "output_type": "execute_result"
    }
   ],
   "source": [
    "arr[2:5:2, 0::2]"
   ]
  },
  {
   "cell_type": "markdown",
   "metadata": {
    "id": "LCTB1B20nbQ9"
   },
   "source": [
    "(4) 초록색 상자로 표시된 2차원 어레이"
   ]
  },
  {
   "cell_type": "markdown",
   "metadata": {
    "id": "dXndCH1MnbQ9"
   },
   "source": [
    "답:"
   ]
  },
  {
   "cell_type": "markdown",
   "metadata": {
    "id": "MYs6IjabnbQ9"
   },
   "source": [
    "4번부터 끝까지의 행과 열로 구성되었기에 콜론을 이용해 슬라이싱한다."
   ]
  },
  {
   "cell_type": "code",
   "execution_count": null,
   "metadata": {
    "colab": {
     "base_uri": "https://localhost:8080/"
    },
    "executionInfo": {
     "elapsed": 7,
     "status": "ok",
     "timestamp": 1750992657686,
     "user": {
      "displayName": "ter wa",
      "userId": "01448980402448893441"
     },
     "user_tz": -540
    },
    "id": "qFWrb3mDnbQ9",
    "outputId": "1c2f3198-8edd-40a5-e51b-c2ab73afc8c1"
   },
   "outputs": [
    {
     "data": {
      "text/plain": [
       "array([[44, 45],\n",
       "       [54, 55]])"
      ]
     },
     "execution_count": 53,
     "metadata": {},
     "output_type": "execute_result"
    }
   ],
   "source": [
    "arr[4:, 4:]"
   ]
  }
 ],
 "metadata": {
  "colab": {
   "provenance": [
    {
     "file_id": "https://github.com/codingalzi/DataSci/blob/master/jupyter-book/arrays.ipynb",
     "timestamp": 1750947710800
    }
   ],
   "toc_visible": true
  },
  "kernelspec": {
   "display_name": "Python 3 (ipykernel)",
   "language": "python",
   "name": "python3"
  },
  "language_info": {
   "codemirror_mode": {
    "name": "ipython",
    "version": 3
   },
   "file_extension": ".py",
   "mimetype": "text/x-python",
   "name": "python",
   "nbconvert_exporter": "python",
   "pygments_lexer": "ipython3",
   "version": "3.12.2"
  },
  "toc": {
   "nav_menu": {},
   "number_sections": true,
   "sideBar": true,
   "skip_h1_title": false,
   "toc_cell": false,
   "toc_position": {},
   "toc_section_display": "block",
   "toc_window_display": false
  }
 },
 "nbformat": 4,
 "nbformat_minor": 0
}