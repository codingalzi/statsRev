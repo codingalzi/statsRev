{
 "cells": [
  {
   "cell_type": "markdown",
   "metadata": {
    "ExecuteTime": {
     "end_time": "2018-03-06T03:37:40.696920Z",
     "start_time": "2018-03-06T03:37:40.690655Z"
    },
    "id": "f19XoSiNFsKE"
   },
   "source": [
    "(ch:probability-discrete)=\n",
    "# 이산확률분포"
   ]
  },
  {
   "cell_type": "markdown",
   "metadata": {
    "id": "8Q5HPw4UFsKF"
   },
   "source": [
    "**기본 설정**"
   ]
  },
  {
   "cell_type": "markdown",
   "metadata": {
    "ExecuteTime": {
     "end_time": "2018-08-03T08:26:15.690793Z",
     "start_time": "2018-08-03T08:26:15.507201Z"
    },
    "id": "ZTFUhm97FsKG"
   },
   "source": [
    "`numpy`와 `pandas` 라이브러리를 각각 `np`와 `pd`로 불러온다."
   ]
  },
  {
   "cell_type": "code",
   "execution_count": 1,
   "metadata": {
    "ExecuteTime": {
     "end_time": "2018-08-14T06:43:30.149227Z",
     "start_time": "2018-08-14T06:43:29.960007Z"
    },
    "id": "OeC6IbomFsKG"
   },
   "outputs": [],
   "source": [
    "import numpy as np\n",
    "import pandas as pd"
   ]
  },
  {
   "cell_type": "markdown",
   "metadata": {
    "id": "_wqSoeuJFsKG"
   },
   "source": [
    "데이터프레임의 [chained indexing을 금지시키기 위한 설정](https://pandas.pydata.org/pandas-docs/stable/user_guide/indexing.html#returning-a-view-versus-a-copy)을 지정한다.\n",
    "Pandas 3.0 버전부터는 기본 옵션으로 지정된다."
   ]
  },
  {
   "cell_type": "code",
   "execution_count": 2,
   "metadata": {
    "id": "37G9Bb2qFsKH"
   },
   "outputs": [],
   "source": [
    "pd.options.mode.copy_on_write = True"
   ]
  },
  {
   "cell_type": "markdown",
   "metadata": {
    "ExecuteTime": {
     "end_time": "2018-08-14T06:43:30.149227Z",
     "start_time": "2018-08-14T06:43:29.960007Z"
    },
    "id": "og2g_GItFsKH"
   },
   "source": [
    "주피터 노트북에서 부동소수점의 출력을 소수점 이하 6자리로 제한한다.\n",
    "아래 코드는 주피터 노트북에서만 사용하며 일반적인 파이썬 코드가 아니다."
   ]
  },
  {
   "cell_type": "code",
   "execution_count": 3,
   "metadata": {
    "ExecuteTime": {
     "end_time": "2018-08-14T06:43:30.149227Z",
     "start_time": "2018-08-14T06:43:29.960007Z"
    },
    "colab": {
     "base_uri": "https://localhost:8080/",
     "height": 35
    },
    "executionInfo": {
     "elapsed": 4,
     "status": "ok",
     "timestamp": 1752672774516,
     "user": {
      "displayName": "ter wa",
      "userId": "01448980402448893441"
     },
     "user_tz": -540
    },
    "id": "Y0UusCDdFsKH",
    "outputId": "ba096ddc-efad-45f4-f120-05acad969232"
   },
   "outputs": [
    {
     "data": {
      "text/plain": [
       "'%.6f'"
      ]
     },
     "execution_count": 3,
     "metadata": {},
     "output_type": "execute_result"
    }
   ],
   "source": [
    "%precision 6"
   ]
  },
  {
   "cell_type": "markdown",
   "metadata": {
    "ExecuteTime": {
     "end_time": "2018-08-14T06:43:30.149227Z",
     "start_time": "2018-08-14T06:43:29.960007Z"
    },
    "id": "gjgE1byTFsKI"
   },
   "source": [
    "아래 코드는 데이터프레임 내에서 부동소수점의 출력을 소수점 이하 6자리로 제한한다."
   ]
  },
  {
   "cell_type": "code",
   "execution_count": 4,
   "metadata": {
    "ExecuteTime": {
     "end_time": "2018-08-14T06:43:30.149227Z",
     "start_time": "2018-08-14T06:43:29.960007Z"
    },
    "id": "Zm0cI2yeFsKI"
   },
   "outputs": [],
   "source": [
    "pd.set_option('display.precision', 6)"
   ]
  },
  {
   "cell_type": "markdown",
   "metadata": {
    "id": "i_lwOWz1FsKI"
   },
   "source": [
    "코드에 사용되는 [데이터 저장소의 기본 디렉토리](https://github.com/codingalzi/statsRev/tree/master/data)를 지정한다."
   ]
  },
  {
   "cell_type": "code",
   "execution_count": 5,
   "metadata": {
    "id": "fxYf1jM8FsKJ"
   },
   "outputs": [],
   "source": [
    "data_url = 'https://raw.githubusercontent.com/codingalzi/statsRev/refs/heads/master/data/'"
   ]
  },
  {
   "cell_type": "markdown",
   "metadata": {
    "id": "jN5KTGGwFsKI"
   },
   "source": [
    "데이터 시각화를 위해 `matplotlib.pyplot`를 `plt`라는 별칭으로 불러온다."
   ]
  },
  {
   "cell_type": "code",
   "execution_count": 6,
   "metadata": {
    "id": "OrE52V0KFsKI"
   },
   "outputs": [],
   "source": [
    "import matplotlib.pyplot as plt"
   ]
  },
  {
   "cell_type": "markdown",
   "metadata": {
    "id": "F_mYBHWVFsKJ"
   },
   "source": [
    "**주요 내용**"
   ]
  },
  {
   "cell_type": "markdown",
   "metadata": {
    "id": "dRBibuoGFsKJ"
   },
   "source": [
    "이 장에서는 이산확률분포와 다변량 분포의 주요 개념들을 소개한다. 구체적으로, 이산확률변수를 이용한 확률질량함수, 누적분포함수, 결합확률분포, 조건부확률, 주변확률분포 등의 개념을 다룬다."
   ]
  },
  {
   "cell_type": "markdown",
   "metadata": {
    "id": "8IGfEG2vFsKJ"
   },
   "source": [
    "## 이산확률변수"
   ]
  },
  {
   "cell_type": "markdown",
   "metadata": {
    "id": "8byzO_ioFsKJ"
   },
   "source": [
    "{numref}`%s장 <ch:probability>`에서 살펴본 확률변수는 주사위를 던져 나오는 값이나 가구소득 범주를 나타내는 1부터 5까지의 정수 레이블처럼, 확률변수가 취할 수 있는 값이 $x_1$, $x_2$, $x_3$ ... 식으로 셀 수 있다. 이러한 확률변수를 **이산확률변수**<font size='2'>discrete random variable</font>라 하고, 이산확률변수가 따르는 확률분포를 **이산확률분포**<font size='2'>discrete probability distribution</font>라 한다."
   ]
  },
  {
   "cell_type": "markdown",
   "metadata": {
    "id": "0cIQCx6XFsKJ"
   },
   "source": [
    "**예제: 가구소득 범주의 이산확률분포**"
   ]
  },
  {
   "cell_type": "markdown",
   "metadata": {
    "id": "37eDgeo5FsKJ"
   },
   "source": [
    "캘리포니아 주택가격 데이터셋에서 가구소득 범주의 이산확률분포를 나타내는 데이터프레임을 이미 생성한 바 있다. 하지만 이 장의 뒷부분에서 다변량 분포를 다루기 위해 주택가격 범주의 이산확률분포를 구해야 하므로, 앞 장의 내용을 압축적으로 요약하며 동일한 데이터프레임의 생성과정을 다시 한번 반복한다. 각 과정의 의미는 모두 주석으로 대체한다."
   ]
  },
  {
   "cell_type": "code",
   "execution_count": 7,
   "metadata": {
    "colab": {
     "base_uri": "https://localhost:8080/",
     "height": 237
    },
    "executionInfo": {
     "elapsed": 40,
     "status": "ok",
     "timestamp": 1752672774567,
     "user": {
      "displayName": "ter wa",
      "userId": "01448980402448893441"
     },
     "user_tz": -540
    },
    "id": "JaFV2J5a46ZY",
    "outputId": "f0a923f3-2017-4b36-a1ae-ae39803751da"
   },
   "outputs": [
    {
     "data": {
      "text/html": [
       "<div>\n",
       "<style scoped>\n",
       "    .dataframe tbody tr th:only-of-type {\n",
       "        vertical-align: middle;\n",
       "    }\n",
       "\n",
       "    .dataframe tbody tr th {\n",
       "        vertical-align: top;\n",
       "    }\n",
       "\n",
       "    .dataframe thead th {\n",
       "        text-align: right;\n",
       "    }\n",
       "</style>\n",
       "<table border=\"1\" class=\"dataframe\">\n",
       "  <thead>\n",
       "    <tr style=\"text-align: right;\">\n",
       "      <th></th>\n",
       "      <th>median_income</th>\n",
       "    </tr>\n",
       "    <tr>\n",
       "      <th>income_cat</th>\n",
       "      <th></th>\n",
       "    </tr>\n",
       "  </thead>\n",
       "  <tbody>\n",
       "    <tr>\n",
       "      <th>1</th>\n",
       "      <td>0.041372</td>\n",
       "    </tr>\n",
       "    <tr>\n",
       "      <th>2</th>\n",
       "      <td>0.333011</td>\n",
       "    </tr>\n",
       "    <tr>\n",
       "      <th>3</th>\n",
       "      <td>0.361017</td>\n",
       "    </tr>\n",
       "    <tr>\n",
       "      <th>4</th>\n",
       "      <td>0.177992</td>\n",
       "    </tr>\n",
       "    <tr>\n",
       "      <th>5</th>\n",
       "      <td>0.086607</td>\n",
       "    </tr>\n",
       "  </tbody>\n",
       "</table>\n",
       "</div>"
      ],
      "text/plain": [
       "            median_income\n",
       "income_cat               \n",
       "1                0.041372\n",
       "2                0.333011\n",
       "3                0.361017\n",
       "4                0.177992\n",
       "5                0.086607"
      ]
     },
     "execution_count": 7,
     "metadata": {},
     "output_type": "execute_result"
    }
   ],
   "source": [
    "# 데이터셋을 불러온 후, 가구소득과 주택가격만 활용\n",
    "housing = pd.read_csv(data_url+\"california_housing_mini.csv\")\n",
    "\n",
    "# 데이터 이상치(주택가격 50만 초과)를 삭제하고 인덱스 초기화\n",
    "house_value_max = housing['median_house_value'].max() # 500,001\n",
    "mask = housing['median_house_value'] >= house_value_max\n",
    "housing = housing[~mask]\n",
    "housing = housing.reset_index(drop=True)\n",
    "housing.index.name = 'district'\n",
    "\n",
    "# 가구소득 범주 특성 추가\n",
    "housing[\"income_cat\"] = pd.cut(housing[\"median_income\"],\n",
    "                               bins=[0., 1.5, 3.0, 4.5, 6., np.inf],\n",
    "                               labels=[1, 2, 3, 4, 5])\n",
    "\n",
    "# 가구소득 범주별로 그룹화하고 구간별 도수 및 상대도수 계산\n",
    "x_stratification = housing.iloc[:, [0, 2]].groupby('income_cat', observed=True, group_keys=True)\n",
    "x_stratified_count = x_stratification.count()\n",
    "x_stratified_ratio = x_stratified_count/(housing.shape)[0]\n",
    "\n",
    "x_stratified_ratio"
   ]
  },
  {
   "cell_type": "markdown",
   "metadata": {
    "id": "gBO64ctbFsKK"
   },
   "source": [
    "마지막으로, 위 데이터프레임의 상대도수를 가구소득 범주로 정의된 확률변수 $X$에 대한 확률분포표 형태로 변환한다."
   ]
  },
  {
   "cell_type": "code",
   "execution_count": 8,
   "metadata": {
    "colab": {
     "base_uri": "https://localhost:8080/",
     "height": 89
    },
    "executionInfo": {
     "elapsed": 37,
     "status": "ok",
     "timestamp": 1752672774607,
     "user": {
      "displayName": "ter wa",
      "userId": "01448980402448893441"
     },
     "user_tz": -540
    },
    "id": "2UBkduSSFsKK",
    "outputId": "9daa3ffa-c3d0-4704-decf-a489b8e3a92e"
   },
   "outputs": [
    {
     "data": {
      "text/html": [
       "<div>\n",
       "<style scoped>\n",
       "    .dataframe tbody tr th:only-of-type {\n",
       "        vertical-align: middle;\n",
       "    }\n",
       "\n",
       "    .dataframe tbody tr th {\n",
       "        vertical-align: top;\n",
       "    }\n",
       "\n",
       "    .dataframe thead th {\n",
       "        text-align: right;\n",
       "    }\n",
       "</style>\n",
       "<table border=\"1\" class=\"dataframe\">\n",
       "  <thead>\n",
       "    <tr style=\"text-align: right;\">\n",
       "      <th>X</th>\n",
       "      <th>1</th>\n",
       "      <th>2</th>\n",
       "      <th>3</th>\n",
       "      <th>4</th>\n",
       "      <th>5</th>\n",
       "    </tr>\n",
       "  </thead>\n",
       "  <tbody>\n",
       "    <tr>\n",
       "      <th>확률</th>\n",
       "      <td>0.041372</td>\n",
       "      <td>0.333011</td>\n",
       "      <td>0.361017</td>\n",
       "      <td>0.177992</td>\n",
       "      <td>0.086607</td>\n",
       "    </tr>\n",
       "  </tbody>\n",
       "</table>\n",
       "</div>"
      ],
      "text/plain": [
       "X          1         2         3         4         5\n",
       "확률  0.041372  0.333011  0.361017  0.177992  0.086607"
      ]
     },
     "execution_count": 8,
     "metadata": {},
     "output_type": "execute_result"
    }
   ],
   "source": [
    "# 데이터프레임으로 변환\n",
    "prob_income = x_stratified_ratio.iloc[:, 0:1]\n",
    "# 컬럼과 인덱스 이름 지정\n",
    "prob_income.columns = ['확률']\n",
    "prob_income.index.name = 'X'\n",
    "\n",
    "# 가로형의 데이터프레임으로 변환\n",
    "prob_income = prob_income.T\n",
    "prob_income"
   ]
  },
  {
   "cell_type": "markdown",
   "metadata": {
    "id": "uchguz7qFsKK"
   },
   "source": [
    "### 확률질량함수(PMF)"
   ]
  },
  {
   "cell_type": "markdown",
   "metadata": {
    "id": "SaX32XZTFsKK"
   },
   "source": [
    "이산확률변수  $X$가 취할 수 있는 각 값 $x$에 대해\n",
    "그 값이 나타날 확률 $P(X = x)$를 대응시키는 함수 $f$ 를\n",
    "**확률질량함수**<font size='2'>probability mass function(PMF)</font>라고 하며, 다음과 같이 표기한다.\n",
    "\n",
    "$$\n",
    "f(x) = P(X = x)\n",
    "$$"
   ]
  },
  {
   "cell_type": "markdown",
   "metadata": {
    "id": "5m8GXLqTFsKO"
   },
   "source": [
    "**확률의 성질**"
   ]
  },
  {
   "cell_type": "markdown",
   "metadata": {
    "id": "XilCrMFRFsKO"
   },
   "source": [
    "이산확률분포가 주어졌을 때 모든 경우에 대한 확률은 0과 1사이의 값이고, 모든 확률의 합은 1이다.\n",
    "즉 다음이 성립해야 한다.\n",
    "\n",
    "\n",
    "- 첫째, 확률변수가 취할 수 있는 임의의 값 $x_k$에 대한 확률은 0과 1 사이의 값이다.\n",
    "\n",
    "    $$0 \\le f(x_k) \\le 1$$\n",
    "\n",
    "- 둘째, 확률변수가 취할 수 있는 모든 값에 대한 확률의 합은 1이다.\n",
    "    $$\\sum_k f(x_k) = 1$$\n"
   ]
  },
  {
   "cell_type": "markdown",
   "metadata": {
    "id": "XPmwM5axFsKO"
   },
   "source": [
    "가구소득 범주로 정의된 확률변수 $X$ 또한 위 성질을 모두 만족한다."
   ]
  },
  {
   "cell_type": "markdown",
   "metadata": {
    "id": "kaqLBhM5FsKO"
   },
   "source": [
    "- 모든 확률은 0과 1사이의 값"
   ]
  },
  {
   "cell_type": "code",
   "execution_count": 9,
   "metadata": {
    "colab": {
     "base_uri": "https://localhost:8080/",
     "height": 81
    },
    "executionInfo": {
     "elapsed": 99,
     "status": "ok",
     "timestamp": 1752672774701,
     "user": {
      "displayName": "ter wa",
      "userId": "01448980402448893441"
     },
     "user_tz": -540
    },
    "id": "2GKHj-YRFsKO",
    "outputId": "f431531b-5bc4-4f8b-fdc3-06fec1183372"
   },
   "outputs": [
    {
     "data": {
      "text/html": [
       "<div>\n",
       "<style scoped>\n",
       "    .dataframe tbody tr th:only-of-type {\n",
       "        vertical-align: middle;\n",
       "    }\n",
       "\n",
       "    .dataframe tbody tr th {\n",
       "        vertical-align: top;\n",
       "    }\n",
       "\n",
       "    .dataframe thead th {\n",
       "        text-align: right;\n",
       "    }\n",
       "</style>\n",
       "<table border=\"1\" class=\"dataframe\">\n",
       "  <thead>\n",
       "    <tr style=\"text-align: right;\">\n",
       "      <th>X</th>\n",
       "      <th>1</th>\n",
       "      <th>2</th>\n",
       "      <th>3</th>\n",
       "      <th>4</th>\n",
       "      <th>5</th>\n",
       "    </tr>\n",
       "  </thead>\n",
       "  <tbody>\n",
       "    <tr>\n",
       "      <th>확률</th>\n",
       "      <td>True</td>\n",
       "      <td>True</td>\n",
       "      <td>True</td>\n",
       "      <td>True</td>\n",
       "      <td>True</td>\n",
       "    </tr>\n",
       "  </tbody>\n",
       "</table>\n",
       "</div>"
      ],
      "text/plain": [
       "X      1     2     3     4     5\n",
       "확률  True  True  True  True  True"
      ]
     },
     "execution_count": 9,
     "metadata": {},
     "output_type": "execute_result"
    }
   ],
   "source": [
    "(0 <= prob_income) & (prob_income <= 1) # 판다스의 요소별 논리 연산 \"AND\""
   ]
  },
  {
   "cell_type": "markdown",
   "metadata": {
    "id": "_43kRuARFsKO"
   },
   "source": [
    "다음 방식으로 확인해도 되는데,\n",
    "`all()` 함수에 `axis=1`을 사용해서\n",
    "모든 열에 대해 참인 경우에만 `True`를 출력하도록 한다."
   ]
  },
  {
   "cell_type": "code",
   "execution_count": 10,
   "metadata": {
    "colab": {
     "base_uri": "https://localhost:8080/",
     "height": 115
    },
    "executionInfo": {
     "elapsed": 30,
     "status": "ok",
     "timestamp": 1752672774702,
     "user": {
      "displayName": "ter wa",
      "userId": "01448980402448893441"
     },
     "user_tz": -540
    },
    "id": "269oR9fCFsKO",
    "outputId": "891f5cda-9809-422d-9019-7d008e9f34fe"
   },
   "outputs": [
    {
     "data": {
      "text/plain": [
       "확률    True\n",
       "dtype: bool"
      ]
     },
     "execution_count": 10,
     "metadata": {},
     "output_type": "execute_result"
    }
   ],
   "source": [
    "((0 <= prob_income) & (prob_income <= 1)).all(axis=1)"
   ]
  },
  {
   "cell_type": "markdown",
   "metadata": {
    "id": "ELNIuSLJFsKP"
   },
   "source": [
    "- 모든 확률의 합은 1"
   ]
  },
  {
   "cell_type": "code",
   "execution_count": 11,
   "metadata": {
    "colab": {
     "base_uri": "https://localhost:8080/",
     "height": 115
    },
    "executionInfo": {
     "elapsed": 29,
     "status": "ok",
     "timestamp": 1752672774703,
     "user": {
      "displayName": "ter wa",
      "userId": "01448980402448893441"
     },
     "user_tz": -540
    },
    "id": "z3f_mys5FsKP",
    "outputId": "945249e5-7ffa-470d-bf96-91756c5e393d"
   },
   "outputs": [
    {
     "data": {
      "text/plain": [
       "확률    1.0\n",
       "dtype: float64"
      ]
     },
     "execution_count": 11,
     "metadata": {},
     "output_type": "execute_result"
    }
   ],
   "source": [
    "prob_income.sum(axis=1)"
   ]
  },
  {
   "cell_type": "markdown",
   "metadata": {
    "id": "V6_Gs2ZpFsKP"
   },
   "source": [
    "### 누적분포함수(CDF)"
   ]
  },
  {
   "cell_type": "markdown",
   "metadata": {
    "id": "wrDzMK0BFsKP"
   },
   "source": [
    "이산확률변수 $X$가 $x$보다 같거나 작은 값을 가질 확률 $P(X \\leq x)$을\n",
    "**누적분포함수**<font size='2'>cumulative distribution function</font>(CDF)라고 부르며\n",
    "아래처럼 정의한다.\n",
    "\n",
    "$$\n",
    "F(x) = P(X \\le x) = \\sum_{x_k \\le x} f(x_k)\n",
    "$$"
   ]
  },
  {
   "cell_type": "markdown",
   "metadata": {
    "id": "unHSpjzbFsKP"
   },
   "source": [
    "따라서 가구소득 범주로 정의된 이산확률변수 $X$의 누적분포함수 CDF는 확률분포 `prob_income`에 리스트 조건제시법 기법을 적용해 다음과 같이 정의할 수 있다.\n",
    "`prob_income.columns` (가구소득 범주의 레이블들)에 포함된 각각의 $x_k$에 대해서 $x_k \\leq x$인 경우의 `prob_income[x_k]`들만 모아서 리스트를 생성하고, 그 원소들을 더한다."
   ]
  },
  {
   "cell_type": "code",
   "execution_count": 12,
   "metadata": {
    "id": "SDTy17TFFsKP"
   },
   "outputs": [],
   "source": [
    "def income_cdf(x):\n",
    "    return np.sum([prob_income[x_k] for x_k in prob_income.columns if x_k <= x])"
   ]
  },
  {
   "cell_type": "markdown",
   "metadata": {
    "id": "2BLkjaywvSpK"
   },
   "source": [
    "참고로 파이썬에서는 `def` 키워드를 사용하여 함수를 정의하며, 기본 문법은 다음과 같다.\n",
    "\n",
    "```\n",
    "def 함수_이름(매개변수1, 매개변수2, ...):\n",
    "    # 함수 본문: 함수가 호출될 때 실행되는 코드\n",
    "    return 결과 (선택 사항)\n",
    "```"
   ]
  },
  {
   "cell_type": "markdown",
   "metadata": {
    "id": "Mcv-eaPhl6QK"
   },
   "source": [
    ":::{admonition} 리스트 조건제시법 \n",
    ":class: note\n",
    "\n",
    "리스트 조건제시법은 \n",
    "파이썬에서 반복문이나 조건문을 사용하여 기존 리스트나 다른 이터러블(순회 가능한 객체)로부터\n",
    "새로운 리스트를 만들 때 매우 유용하다.\n",
    "영어로 리스트 컴프리헨션<font size='s'>list comprehension</font>이라 하지만\n",
    "집합을 정의에 사용되는 조건제시법와 매우 유사하기에 리스트 조건제시법이라 부른다.\n",
    "\n",
    "리스트 조건제시법의 기본 문법은 다음과 같다.\n",
    "\n",
    "`[표현식 for 항목 in 이터러블 if 조건]`\n",
    "\n",
    "- 표현식: 리스트에 추가될 값을 정의. 뒤의 for문에서 얻은 항목을 그대로 사용하거나 연산을 수행하는 표현.\n",
    "- `for` 항목 `in` 이터러블: 순회 가능한 객체 (예: 리스트, 튜플, 문자열, `range`, 데이터프레임의 컬럼 등)의\n",
    "    각 항목을 차례로 순회. \n",
    "    if 조건(선택사항): 이터러블의 항목 중에서 이 조건을 만족하는 항목들만 표현식을 거쳐 리스트에 포함됨.\n",
    "\n",
    ":::"
   ]
  },
  {
   "cell_type": "markdown",
   "metadata": {
    "id": "ponQ3yHEFsKP"
   },
   "source": [
    "위에서 정의한 확률변수 $X$의 CDF를 사용해 가구소득 범주가 3 이하일 확률을 확인할 수 있다."
   ]
  },
  {
   "cell_type": "code",
   "execution_count": 13,
   "metadata": {
    "colab": {
     "base_uri": "https://localhost:8080/"
    },
    "executionInfo": {
     "elapsed": 23,
     "status": "ok",
     "timestamp": 1752672774705,
     "user": {
      "displayName": "ter wa",
      "userId": "01448980402448893441"
     },
     "user_tz": -540
    },
    "id": "uDnJWkDIFsKP",
    "outputId": "1d3f6825-73cb-4362-d874-e674574cf77f"
   },
   "outputs": [
    {
     "data": {
      "text/plain": [
       "0.735400"
      ]
     },
     "execution_count": 13,
     "metadata": {},
     "output_type": "execute_result"
    }
   ],
   "source": [
    "income_cdf(3)"
   ]
  },
  {
   "cell_type": "markdown",
   "metadata": {
    "id": "325cNwvqFsKP"
   },
   "source": [
    "## 다변량 분포"
   ]
  },
  {
   "cell_type": "markdown",
   "metadata": {
    "id": "3VxnHFQYFsKP"
   },
   "source": [
    "**다변량 분포**<font size='2'>multivariate distribution</font>는\n",
    "여러 개의 확률변수들이 결합된 확률분포를 말한다. 여기서는 두 개의 이산확률변수가 결합된 다변량 분포를 소개한다."
   ]
  },
  {
   "cell_type": "markdown",
   "metadata": {
    "id": "Sb6g1NQcFsKQ"
   },
   "source": [
    "### 이산결합확률분포"
   ]
  },
  {
   "cell_type": "markdown",
   "metadata": {
    "id": "CjWFSWWKFsKQ"
   },
   "source": [
    "두 이산확률변수 $X$와 $Y$에 대해,\n",
    "결합확률변수 $(X, Y)$는 $X$가 취할 수 있는 값과\n",
    "$Y$가 취할 수 있는 값의 모든 가능한 순서쌍 $(x, y)$을 나타낸다. 이러한 순서쌍 $(x, y)$ 각각이 발생할 확률들의 분포를 **이산결합확률분포**<font size='2'>discrete joint probability distribution</font>라고 한다.\n",
    "\n",
    "이산결합확률분포의 확률질량함수는 **결합확률질량함수**<font size='2'>joint probability mass function</font>라 부르며, 확률변수 $X$는 $x$를 취하고 동시에 확률변수 $Y$는 $y$를 취할 확률로서 다음과 같이 정의한다.\n",
    "\n",
    "$$\n",
    "f_{XY}(x, y) = P(X=x, Y=y)\n",
    "$$\n",
    "\n",
    "여기서 $P(X=x, Y=y)$는\n",
    "$P(X=x \\;\\cap\\; Y=y)$ 또는\n",
    "$P(X=x \\;\\;\\text{and}\\;\\; Y=y)$와 정확히 같은 의미로 쓰인다."
   ]
  },
  {
   "cell_type": "markdown",
   "metadata": {
    "id": "RRyfTaI6FsKQ"
   },
   "source": [
    "**예제: 가구소득 범주와 주택가격 범주**"
   ]
  },
  {
   "cell_type": "markdown",
   "metadata": {
    "id": "UN1JGk_vFsKQ"
   },
   "source": [
    "이제 캘리포니아 주택가격 데이터셋의 주택가격을 6개의 구간으로 나눠 주택가격 범주를 가르키는 새로운 이산확률변수 $Y$를 정의해보자. 가구소득 범주의 경우와 유사한 방식으로 작업을 진행하면 된다."
   ]
  },
  {
   "cell_type": "markdown",
   "metadata": {
    "id": "9KO5vjk_FsKQ"
   },
   "source": [
    "주택가격의 범위는 14,999부터 500,000까지다."
   ]
  },
  {
   "cell_type": "code",
   "execution_count": 14,
   "metadata": {
    "colab": {
     "base_uri": "https://localhost:8080/",
     "height": 335
    },
    "executionInfo": {
     "elapsed": 3,
     "status": "ok",
     "timestamp": 1752672774708,
     "user": {
      "displayName": "ter wa",
      "userId": "01448980402448893441"
     },
     "user_tz": -540
    },
    "id": "Wu6KsSlvFsKQ",
    "outputId": "ee2d53fe-1886-4a54-bc70-f9e9fa97d290"
   },
   "outputs": [
    {
     "data": {
      "text/plain": [
       "count     19675.000000\n",
       "mean     192477.921017\n",
       "std       97711.509613\n",
       "min       14999.000000\n",
       "25%      116600.000000\n",
       "50%      173800.000000\n",
       "75%      248200.000000\n",
       "max      500000.000000\n",
       "Name: median_house_value, dtype: float64"
      ]
     },
     "execution_count": 14,
     "metadata": {},
     "output_type": "execute_result"
    }
   ],
   "source": [
    "housing.median_house_value.describe()"
   ]
  },
  {
   "cell_type": "markdown",
   "metadata": {
    "id": "AgIQZMfVFsKQ"
   },
   "source": [
    "주택가격의 사분위수 정보를 이용하여 주택가격을 6개 범주로 나눈다."
   ]
  },
  {
   "cell_type": "code",
   "execution_count": 15,
   "metadata": {
    "colab": {
     "base_uri": "https://localhost:8080/",
     "height": 455
    },
    "executionInfo": {
     "elapsed": 80,
     "status": "ok",
     "timestamp": 1752672774788,
     "user": {
      "displayName": "ter wa",
      "userId": "01448980402448893441"
     },
     "user_tz": -540
    },
    "id": "98w5S3rOFsKR",
    "outputId": "b2e70461-ea89-4f54-ed0b-91f760e76343"
   },
   "outputs": [
    {
     "data": {
      "text/html": [
       "<div>\n",
       "<style scoped>\n",
       "    .dataframe tbody tr th:only-of-type {\n",
       "        vertical-align: middle;\n",
       "    }\n",
       "\n",
       "    .dataframe tbody tr th {\n",
       "        vertical-align: top;\n",
       "    }\n",
       "\n",
       "    .dataframe thead th {\n",
       "        text-align: right;\n",
       "    }\n",
       "</style>\n",
       "<table border=\"1\" class=\"dataframe\">\n",
       "  <thead>\n",
       "    <tr style=\"text-align: right;\">\n",
       "      <th></th>\n",
       "      <th>median_income</th>\n",
       "      <th>median_house_value</th>\n",
       "      <th>income_cat</th>\n",
       "      <th>value_cat</th>\n",
       "    </tr>\n",
       "    <tr>\n",
       "      <th>district</th>\n",
       "      <th></th>\n",
       "      <th></th>\n",
       "      <th></th>\n",
       "      <th></th>\n",
       "    </tr>\n",
       "  </thead>\n",
       "  <tbody>\n",
       "    <tr>\n",
       "      <th>0</th>\n",
       "      <td>8.3252</td>\n",
       "      <td>452600.0</td>\n",
       "      <td>5</td>\n",
       "      <td>6</td>\n",
       "    </tr>\n",
       "    <tr>\n",
       "      <th>1</th>\n",
       "      <td>8.3014</td>\n",
       "      <td>358500.0</td>\n",
       "      <td>5</td>\n",
       "      <td>5</td>\n",
       "    </tr>\n",
       "    <tr>\n",
       "      <th>2</th>\n",
       "      <td>7.2574</td>\n",
       "      <td>352100.0</td>\n",
       "      <td>5</td>\n",
       "      <td>5</td>\n",
       "    </tr>\n",
       "    <tr>\n",
       "      <th>3</th>\n",
       "      <td>5.6431</td>\n",
       "      <td>341300.0</td>\n",
       "      <td>4</td>\n",
       "      <td>5</td>\n",
       "    </tr>\n",
       "    <tr>\n",
       "      <th>4</th>\n",
       "      <td>3.8462</td>\n",
       "      <td>342200.0</td>\n",
       "      <td>3</td>\n",
       "      <td>5</td>\n",
       "    </tr>\n",
       "    <tr>\n",
       "      <th>...</th>\n",
       "      <td>...</td>\n",
       "      <td>...</td>\n",
       "      <td>...</td>\n",
       "      <td>...</td>\n",
       "    </tr>\n",
       "    <tr>\n",
       "      <th>19670</th>\n",
       "      <td>1.5603</td>\n",
       "      <td>78100.0</td>\n",
       "      <td>2</td>\n",
       "      <td>2</td>\n",
       "    </tr>\n",
       "    <tr>\n",
       "      <th>19671</th>\n",
       "      <td>2.5568</td>\n",
       "      <td>77100.0</td>\n",
       "      <td>2</td>\n",
       "      <td>2</td>\n",
       "    </tr>\n",
       "    <tr>\n",
       "      <th>19672</th>\n",
       "      <td>1.7000</td>\n",
       "      <td>92300.0</td>\n",
       "      <td>2</td>\n",
       "      <td>2</td>\n",
       "    </tr>\n",
       "    <tr>\n",
       "      <th>19673</th>\n",
       "      <td>1.8672</td>\n",
       "      <td>84700.0</td>\n",
       "      <td>2</td>\n",
       "      <td>2</td>\n",
       "    </tr>\n",
       "    <tr>\n",
       "      <th>19674</th>\n",
       "      <td>2.3886</td>\n",
       "      <td>89400.0</td>\n",
       "      <td>2</td>\n",
       "      <td>2</td>\n",
       "    </tr>\n",
       "  </tbody>\n",
       "</table>\n",
       "<p>19675 rows × 4 columns</p>\n",
       "</div>"
      ],
      "text/plain": [
       "          median_income  median_house_value income_cat value_cat\n",
       "district                                                        \n",
       "0                8.3252            452600.0          5         6\n",
       "1                8.3014            358500.0          5         5\n",
       "2                7.2574            352100.0          5         5\n",
       "3                5.6431            341300.0          4         5\n",
       "4                3.8462            342200.0          3         5\n",
       "...                 ...                 ...        ...       ...\n",
       "19670            1.5603             78100.0          2         2\n",
       "19671            2.5568             77100.0          2         2\n",
       "19672            1.7000             92300.0          2         2\n",
       "19673            1.8672             84700.0          2         2\n",
       "19674            2.3886             89400.0          2         2\n",
       "\n",
       "[19675 rows x 4 columns]"
      ]
     },
     "execution_count": 15,
     "metadata": {},
     "output_type": "execute_result"
    }
   ],
   "source": [
    "housing[\"value_cat\"] = pd.cut(housing[\"median_house_value\"],\n",
    "                              bins=[0, 50_000, 100_000, 150_000, 250_000, 400_000, np.inf],\n",
    "                              labels=range(1, 7))\n",
    "\n",
    "housing"
   ]
  },
  {
   "cell_type": "markdown",
   "metadata": {
    "id": "D5lRA3uJFsKR"
   },
   "source": [
    "주택가격 범주별로 그룹화하고 그룹별 도수와 상대도수를 확인한다."
   ]
  },
  {
   "cell_type": "code",
   "execution_count": 16,
   "metadata": {
    "colab": {
     "base_uri": "https://localhost:8080/",
     "height": 269
    },
    "executionInfo": {
     "elapsed": 6,
     "status": "ok",
     "timestamp": 1752672774790,
     "user": {
      "displayName": "ter wa",
      "userId": "01448980402448893441"
     },
     "user_tz": -540
    },
    "id": "atNygNMrFsKR",
    "outputId": "5dafdf9b-bbe6-4f5b-8f26-42bad12952e2"
   },
   "outputs": [
    {
     "data": {
      "text/html": [
       "<div>\n",
       "<style scoped>\n",
       "    .dataframe tbody tr th:only-of-type {\n",
       "        vertical-align: middle;\n",
       "    }\n",
       "\n",
       "    .dataframe tbody tr th {\n",
       "        vertical-align: top;\n",
       "    }\n",
       "\n",
       "    .dataframe thead th {\n",
       "        text-align: right;\n",
       "    }\n",
       "</style>\n",
       "<table border=\"1\" class=\"dataframe\">\n",
       "  <thead>\n",
       "    <tr style=\"text-align: right;\">\n",
       "      <th></th>\n",
       "      <th>median_house_value</th>\n",
       "    </tr>\n",
       "    <tr>\n",
       "      <th>value_cat</th>\n",
       "      <th></th>\n",
       "    </tr>\n",
       "  </thead>\n",
       "  <tbody>\n",
       "    <tr>\n",
       "      <th>1</th>\n",
       "      <td>0.010673</td>\n",
       "    </tr>\n",
       "    <tr>\n",
       "      <th>2</th>\n",
       "      <td>0.175248</td>\n",
       "    </tr>\n",
       "    <tr>\n",
       "      <th>3</th>\n",
       "      <td>0.201372</td>\n",
       "    </tr>\n",
       "    <tr>\n",
       "      <th>4</th>\n",
       "      <td>0.367878</td>\n",
       "    </tr>\n",
       "    <tr>\n",
       "      <th>5</th>\n",
       "      <td>0.205235</td>\n",
       "    </tr>\n",
       "    <tr>\n",
       "      <th>6</th>\n",
       "      <td>0.039593</td>\n",
       "    </tr>\n",
       "  </tbody>\n",
       "</table>\n",
       "</div>"
      ],
      "text/plain": [
       "           median_house_value\n",
       "value_cat                    \n",
       "1                    0.010673\n",
       "2                    0.175248\n",
       "3                    0.201372\n",
       "4                    0.367878\n",
       "5                    0.205235\n",
       "6                    0.039593"
      ]
     },
     "execution_count": 16,
     "metadata": {},
     "output_type": "execute_result"
    }
   ],
   "source": [
    "y_stratification = housing.iloc[:, [1, 3]].groupby('value_cat', observed=True, group_keys=True)\n",
    "y_stratified_count = y_stratification.count()\n",
    "y_stratified_ratio = y_stratified_count/(housing.shape)[0]\n",
    "y_stratified_ratio"
   ]
  },
  {
   "cell_type": "markdown",
   "metadata": {
    "id": "BFMCyeZoFsKR"
   },
   "source": [
    "주택가격 범주로 정의된 확률변수 $Y$의 확률분포는 다음과 같다."
   ]
  },
  {
   "cell_type": "code",
   "execution_count": 17,
   "metadata": {
    "colab": {
     "base_uri": "https://localhost:8080/",
     "height": 89
    },
    "executionInfo": {
     "elapsed": 57,
     "status": "ok",
     "timestamp": 1752672774848,
     "user": {
      "displayName": "ter wa",
      "userId": "01448980402448893441"
     },
     "user_tz": -540
    },
    "id": "9cSB317mFsKR",
    "outputId": "1a03e70e-c405-43e2-f72e-a43760d0fb5a"
   },
   "outputs": [
    {
     "data": {
      "text/html": [
       "<div>\n",
       "<style scoped>\n",
       "    .dataframe tbody tr th:only-of-type {\n",
       "        vertical-align: middle;\n",
       "    }\n",
       "\n",
       "    .dataframe tbody tr th {\n",
       "        vertical-align: top;\n",
       "    }\n",
       "\n",
       "    .dataframe thead th {\n",
       "        text-align: right;\n",
       "    }\n",
       "</style>\n",
       "<table border=\"1\" class=\"dataframe\">\n",
       "  <thead>\n",
       "    <tr style=\"text-align: right;\">\n",
       "      <th>Y</th>\n",
       "      <th>1</th>\n",
       "      <th>2</th>\n",
       "      <th>3</th>\n",
       "      <th>4</th>\n",
       "      <th>5</th>\n",
       "      <th>6</th>\n",
       "    </tr>\n",
       "  </thead>\n",
       "  <tbody>\n",
       "    <tr>\n",
       "      <th>확률</th>\n",
       "      <td>0.010673</td>\n",
       "      <td>0.175248</td>\n",
       "      <td>0.201372</td>\n",
       "      <td>0.367878</td>\n",
       "      <td>0.205235</td>\n",
       "      <td>0.039593</td>\n",
       "    </tr>\n",
       "  </tbody>\n",
       "</table>\n",
       "</div>"
      ],
      "text/plain": [
       "Y          1         2         3         4         5         6\n",
       "확률  0.010673  0.175248  0.201372  0.367878  0.205235  0.039593"
      ]
     },
     "execution_count": 17,
     "metadata": {},
     "output_type": "execute_result"
    }
   ],
   "source": [
    "prob_value = y_stratified_ratio.iloc[:, 0:1]\n",
    "prob_value.columns = ['확률']\n",
    "prob_value.index.name = 'Y'\n",
    "\n",
    "prob_value = prob_value.T\n",
    "prob_value"
   ]
  },
  {
   "cell_type": "markdown",
   "metadata": {
    "id": "bfV2PZ5_FsKR"
   },
   "source": [
    "참고로 가구소득 범주로 정의된 확률변수 $X$의 확률분포는 다음과 같다."
   ]
  },
  {
   "cell_type": "code",
   "execution_count": 18,
   "metadata": {
    "colab": {
     "base_uri": "https://localhost:8080/",
     "height": 89
    },
    "executionInfo": {
     "elapsed": 7,
     "status": "ok",
     "timestamp": 1752672774849,
     "user": {
      "displayName": "ter wa",
      "userId": "01448980402448893441"
     },
     "user_tz": -540
    },
    "id": "dXC9UK8CFsKR",
    "outputId": "3bf1695c-c1e7-4495-fbf2-6a55a01e8dc2"
   },
   "outputs": [
    {
     "data": {
      "text/html": [
       "<div>\n",
       "<style scoped>\n",
       "    .dataframe tbody tr th:only-of-type {\n",
       "        vertical-align: middle;\n",
       "    }\n",
       "\n",
       "    .dataframe tbody tr th {\n",
       "        vertical-align: top;\n",
       "    }\n",
       "\n",
       "    .dataframe thead th {\n",
       "        text-align: right;\n",
       "    }\n",
       "</style>\n",
       "<table border=\"1\" class=\"dataframe\">\n",
       "  <thead>\n",
       "    <tr style=\"text-align: right;\">\n",
       "      <th>X</th>\n",
       "      <th>1</th>\n",
       "      <th>2</th>\n",
       "      <th>3</th>\n",
       "      <th>4</th>\n",
       "      <th>5</th>\n",
       "    </tr>\n",
       "  </thead>\n",
       "  <tbody>\n",
       "    <tr>\n",
       "      <th>확률</th>\n",
       "      <td>0.041372</td>\n",
       "      <td>0.333011</td>\n",
       "      <td>0.361017</td>\n",
       "      <td>0.177992</td>\n",
       "      <td>0.086607</td>\n",
       "    </tr>\n",
       "  </tbody>\n",
       "</table>\n",
       "</div>"
      ],
      "text/plain": [
       "X          1         2         3         4         5\n",
       "확률  0.041372  0.333011  0.361017  0.177992  0.086607"
      ]
     },
     "execution_count": 18,
     "metadata": {},
     "output_type": "execute_result"
    }
   ],
   "source": [
    "prob_income"
   ]
  },
  {
   "cell_type": "markdown",
   "metadata": {
    "id": "-bSXWiC7FsKT"
   },
   "source": [
    "두 확률변수의 확률분포를 그래프로 그리면 다음과 같다."
   ]
  },
  {
   "cell_type": "code",
   "execution_count": 19,
   "metadata": {
    "colab": {
     "base_uri": "https://localhost:8080/",
     "height": 399
    },
    "executionInfo": {
     "elapsed": 205,
     "status": "ok",
     "timestamp": 1752672775054,
     "user": {
      "displayName": "ter wa",
      "userId": "01448980402448893441"
     },
     "user_tz": -540
    },
    "id": "cUCn_oqLFsKU",
    "outputId": "988c0f9a-f594-4517-cccd-ac003c0f369c"
   },
   "outputs": [
    {
     "data": {
      "image/png": "[encoded data removed]",
      "text/plain": [
       "<Figure size 1200x400 with 2 Axes>"
      ]
     },
     "metadata": {},
     "output_type": "display_data"
    }
   ],
   "source": [
    "fig = plt.figure(figsize=(12, 4))\n",
    "ax1 = fig.add_subplot(121)\n",
    "ax2 = fig.add_subplot(122)\n",
    "\n",
    "prob_income.T.plot(ax=ax1, kind='bar', rot=0, legend=False, width=.7)\n",
    "ax1.set_title('Marginal probability distribution for X')\n",
    "ax1.set_xlabel('Income')\n",
    "ax1.set_ylabel('Probability')\n",
    "\n",
    "prob_value.T.plot(ax=ax2, kind='bar', rot=0, legend=False, width=.7)\n",
    "ax2.set_title('Marginal probability distribution for Y')\n",
    "ax2.set_xlabel('House value')\n",
    "ax2.set_ylabel('Probability')\n",
    "\n",
    "plt.show()"
   ]
  },
  {
   "cell_type": "markdown",
   "metadata": {
    "id": "mJHKO3S2FsKR"
   },
   "source": [
    "**확률변수 $X$, $Y$의 확률질량함수**"
   ]
  },
  {
   "cell_type": "markdown",
   "metadata": {
    "id": "lkr0ixQuFsKR"
   },
   "source": [
    "먼저 확률변수 $X$와 확률변수 $Y$의 확률질량함수를 각각 정의하자."
   ]
  },
  {
   "cell_type": "code",
   "execution_count": 20,
   "metadata": {
    "id": "PpJ2iq5QFsKR"
   },
   "outputs": [],
   "source": [
    "def p_X(x):\n",
    "    return prob_income[x].iloc[0]\n",
    "def p_Y(y):\n",
    "    return prob_value[y].iloc[0]"
   ]
  },
  {
   "cell_type": "markdown",
   "metadata": {
    "id": "i31ZKxFfFsKR"
   },
   "source": [
    "**결합확률질량함수(Joint PMF)**"
   ]
  },
  {
   "cell_type": "markdown",
   "metadata": {
    "id": "Wpz4uyr9FsKR"
   },
   "source": [
    "캘리포니아 주택가격 데이터셋에 포함된 총 19,675개의 구역에서 한 구역을 임의로 선택했을 때,\n",
    "해당 구역의 가구소득 범주는4, 주택가격 범주는 3일 확률 $P(X=4, Y=3)$을 계산해보자.\n",
    "\n",
    "먼저 두 확률변수 $X$와 $Y$는 상호 독립적인 관계가 아닐 가능성이 높음에 주목하자. 이유는 일반적으로 가구소득이 높은 지역일수록 주택가격도 높은 편이기 때문이다.\n",
    "실제로 두 특성 사이의 상관계수가 0.64 정도로 높은 편이며,\n",
    "이는 $P(X=4, Y=3)$와 $P(X=4)\\cdot P(Y=3)$가 다를 가능성이 높음을 의미한다."
   ]
  },
  {
   "cell_type": "code",
   "execution_count": 21,
   "metadata": {
    "colab": {
     "base_uri": "https://localhost:8080/",
     "height": 112
    },
    "executionInfo": {
     "elapsed": 22,
     "status": "ok",
     "timestamp": 1752672775080,
     "user": {
      "displayName": "ter wa",
      "userId": "01448980402448893441"
     },
     "user_tz": -540
    },
    "id": "9Wev7Ax8FsKS",
    "outputId": "08c739d4-c966-4d6b-ae96-0c93b69e8bd6"
   },
   "outputs": [
    {
     "data": {
      "text/html": [
       "<div>\n",
       "<style scoped>\n",
       "    .dataframe tbody tr th:only-of-type {\n",
       "        vertical-align: middle;\n",
       "    }\n",
       "\n",
       "    .dataframe tbody tr th {\n",
       "        vertical-align: top;\n",
       "    }\n",
       "\n",
       "    .dataframe thead th {\n",
       "        text-align: right;\n",
       "    }\n",
       "</style>\n",
       "<table border=\"1\" class=\"dataframe\">\n",
       "  <thead>\n",
       "    <tr style=\"text-align: right;\">\n",
       "      <th></th>\n",
       "      <th>median_income</th>\n",
       "      <th>median_house_value</th>\n",
       "    </tr>\n",
       "  </thead>\n",
       "  <tbody>\n",
       "    <tr>\n",
       "      <th>median_income</th>\n",
       "      <td>1.000000</td>\n",
       "      <td>0.642611</td>\n",
       "    </tr>\n",
       "    <tr>\n",
       "      <th>median_house_value</th>\n",
       "      <td>0.642611</td>\n",
       "      <td>1.000000</td>\n",
       "    </tr>\n",
       "  </tbody>\n",
       "</table>\n",
       "</div>"
      ],
      "text/plain": [
       "                    median_income  median_house_value\n",
       "median_income            1.000000            0.642611\n",
       "median_house_value       0.642611            1.000000"
      ]
     },
     "execution_count": 21,
     "metadata": {},
     "output_type": "execute_result"
    }
   ],
   "source": [
    "housing.iloc[:, :2].corr()"
   ]
  },
  {
   "cell_type": "markdown",
   "metadata": {
    "id": "eAUGoGewFsKS"
   },
   "source": [
    "결합확률질량함수 $P(X=x, Y=y)$는 확률변수 $X$가 값 $x$를 갖고 동시에 확률변수 $Y$가 값 $y$를 가질 확률이므로, 두 변수의 특정 조합 $(x, y)$이 전체 데이터에서 얼마나 자주 발생하는지를 통해 계산할 수 있다. 판다스의 `crosstab()` 함수를 사용하면 각 조합의 발생 빈도를 쉽게 집계할 수 있다."
   ]
  },
  {
   "cell_type": "markdown",
   "metadata": {
    "id": "RzHQnZkzFsKS"
   },
   "source": [
    "먼저 가구소득 범주와 주택가격 범주만 별도의 데이터프레임으로 만든다."
   ]
  },
  {
   "cell_type": "code",
   "execution_count": 22,
   "metadata": {
    "colab": {
     "base_uri": "https://localhost:8080/",
     "height": 455
    },
    "executionInfo": {
     "elapsed": 4,
     "status": "ok",
     "timestamp": 1752672775085,
     "user": {
      "displayName": "ter wa",
      "userId": "01448980402448893441"
     },
     "user_tz": -540
    },
    "id": "dq0otuMQFsKS",
    "outputId": "c1c4b211-3d28-4a58-b21a-96f717b1d945"
   },
   "outputs": [
    {
     "data": {
      "text/html": [
       "<div>\n",
       "<style scoped>\n",
       "    .dataframe tbody tr th:only-of-type {\n",
       "        vertical-align: middle;\n",
       "    }\n",
       "\n",
       "    .dataframe tbody tr th {\n",
       "        vertical-align: top;\n",
       "    }\n",
       "\n",
       "    .dataframe thead th {\n",
       "        text-align: right;\n",
       "    }\n",
       "</style>\n",
       "<table border=\"1\" class=\"dataframe\">\n",
       "  <thead>\n",
       "    <tr style=\"text-align: right;\">\n",
       "      <th></th>\n",
       "      <th>income_cat</th>\n",
       "      <th>value_cat</th>\n",
       "    </tr>\n",
       "    <tr>\n",
       "      <th>district</th>\n",
       "      <th></th>\n",
       "      <th></th>\n",
       "    </tr>\n",
       "  </thead>\n",
       "  <tbody>\n",
       "    <tr>\n",
       "      <th>0</th>\n",
       "      <td>5</td>\n",
       "      <td>6</td>\n",
       "    </tr>\n",
       "    <tr>\n",
       "      <th>1</th>\n",
       "      <td>5</td>\n",
       "      <td>5</td>\n",
       "    </tr>\n",
       "    <tr>\n",
       "      <th>2</th>\n",
       "      <td>5</td>\n",
       "      <td>5</td>\n",
       "    </tr>\n",
       "    <tr>\n",
       "      <th>3</th>\n",
       "      <td>4</td>\n",
       "      <td>5</td>\n",
       "    </tr>\n",
       "    <tr>\n",
       "      <th>4</th>\n",
       "      <td>3</td>\n",
       "      <td>5</td>\n",
       "    </tr>\n",
       "    <tr>\n",
       "      <th>...</th>\n",
       "      <td>...</td>\n",
       "      <td>...</td>\n",
       "    </tr>\n",
       "    <tr>\n",
       "      <th>19670</th>\n",
       "      <td>2</td>\n",
       "      <td>2</td>\n",
       "    </tr>\n",
       "    <tr>\n",
       "      <th>19671</th>\n",
       "      <td>2</td>\n",
       "      <td>2</td>\n",
       "    </tr>\n",
       "    <tr>\n",
       "      <th>19672</th>\n",
       "      <td>2</td>\n",
       "      <td>2</td>\n",
       "    </tr>\n",
       "    <tr>\n",
       "      <th>19673</th>\n",
       "      <td>2</td>\n",
       "      <td>2</td>\n",
       "    </tr>\n",
       "    <tr>\n",
       "      <th>19674</th>\n",
       "      <td>2</td>\n",
       "      <td>2</td>\n",
       "    </tr>\n",
       "  </tbody>\n",
       "</table>\n",
       "<p>19675 rows × 2 columns</p>\n",
       "</div>"
      ],
      "text/plain": [
       "         income_cat value_cat\n",
       "district                     \n",
       "0                 5         6\n",
       "1                 5         5\n",
       "2                 5         5\n",
       "3                 4         5\n",
       "4                 3         5\n",
       "...             ...       ...\n",
       "19670             2         2\n",
       "19671             2         2\n",
       "19672             2         2\n",
       "19673             2         2\n",
       "19674             2         2\n",
       "\n",
       "[19675 rows x 2 columns]"
      ]
     },
     "execution_count": 22,
     "metadata": {},
     "output_type": "execute_result"
    }
   ],
   "source": [
    "two_cats = housing.iloc[:, -2:]\n",
    "two_cats"
   ]
  },
  {
   "cell_type": "markdown",
   "metadata": {
    "id": "07XSWc8mFsKS"
   },
   "source": [
    "`pd.crosstab()` 함수는 두 범주 특성에 대한 **교차표**<font size='2'>cross table</font>, 즉 두 범주 특성의 가능한 모든 조합에 대한 도수가 계산된다. `margins=True` 인자는 행별, 열별 도수의 합을 집계한 행과 열도 추가시킨다."
   ]
  },
  {
   "cell_type": "code",
   "execution_count": 23,
   "metadata": {
    "colab": {
     "base_uri": "https://localhost:8080/",
     "height": 269
    },
    "executionInfo": {
     "elapsed": 45,
     "status": "ok",
     "timestamp": 1752672775134,
     "user": {
      "displayName": "ter wa",
      "userId": "01448980402448893441"
     },
     "user_tz": -540
    },
    "id": "C_o2cHs0FsKS",
    "outputId": "da9641b9-8d49-40ce-9f22-0e8c277daa3c"
   },
   "outputs": [
    {
     "data": {
      "text/html": [
       "<div>\n",
       "<style scoped>\n",
       "    .dataframe tbody tr th:only-of-type {\n",
       "        vertical-align: middle;\n",
       "    }\n",
       "\n",
       "    .dataframe tbody tr th {\n",
       "        vertical-align: top;\n",
       "    }\n",
       "\n",
       "    .dataframe thead th {\n",
       "        text-align: right;\n",
       "    }\n",
       "</style>\n",
       "<table border=\"1\" class=\"dataframe\">\n",
       "  <thead>\n",
       "    <tr style=\"text-align: right;\">\n",
       "      <th>value_cat</th>\n",
       "      <th>1</th>\n",
       "      <th>2</th>\n",
       "      <th>3</th>\n",
       "      <th>4</th>\n",
       "      <th>5</th>\n",
       "      <th>6</th>\n",
       "      <th>All</th>\n",
       "    </tr>\n",
       "    <tr>\n",
       "      <th>income_cat</th>\n",
       "      <th></th>\n",
       "      <th></th>\n",
       "      <th></th>\n",
       "      <th></th>\n",
       "      <th></th>\n",
       "      <th></th>\n",
       "      <th></th>\n",
       "    </tr>\n",
       "  </thead>\n",
       "  <tbody>\n",
       "    <tr>\n",
       "      <th>1</th>\n",
       "      <td>72</td>\n",
       "      <td>436</td>\n",
       "      <td>159</td>\n",
       "      <td>108</td>\n",
       "      <td>33</td>\n",
       "      <td>6</td>\n",
       "      <td>814</td>\n",
       "    </tr>\n",
       "    <tr>\n",
       "      <th>2</th>\n",
       "      <td>131</td>\n",
       "      <td>2335</td>\n",
       "      <td>1880</td>\n",
       "      <td>1799</td>\n",
       "      <td>358</td>\n",
       "      <td>49</td>\n",
       "      <td>6552</td>\n",
       "    </tr>\n",
       "    <tr>\n",
       "      <th>3</th>\n",
       "      <td>6</td>\n",
       "      <td>650</td>\n",
       "      <td>1652</td>\n",
       "      <td>3343</td>\n",
       "      <td>1273</td>\n",
       "      <td>179</td>\n",
       "      <td>7103</td>\n",
       "    </tr>\n",
       "    <tr>\n",
       "      <th>4</th>\n",
       "      <td>1</td>\n",
       "      <td>24</td>\n",
       "      <td>251</td>\n",
       "      <td>1753</td>\n",
       "      <td>1289</td>\n",
       "      <td>184</td>\n",
       "      <td>3502</td>\n",
       "    </tr>\n",
       "    <tr>\n",
       "      <th>5</th>\n",
       "      <td>0</td>\n",
       "      <td>3</td>\n",
       "      <td>20</td>\n",
       "      <td>235</td>\n",
       "      <td>1085</td>\n",
       "      <td>361</td>\n",
       "      <td>1704</td>\n",
       "    </tr>\n",
       "    <tr>\n",
       "      <th>All</th>\n",
       "      <td>210</td>\n",
       "      <td>3448</td>\n",
       "      <td>3962</td>\n",
       "      <td>7238</td>\n",
       "      <td>4038</td>\n",
       "      <td>779</td>\n",
       "      <td>19675</td>\n",
       "    </tr>\n",
       "  </tbody>\n",
       "</table>\n",
       "</div>"
      ],
      "text/plain": [
       "value_cat     1     2     3     4     5    6    All\n",
       "income_cat                                         \n",
       "1            72   436   159   108    33    6    814\n",
       "2           131  2335  1880  1799   358   49   6552\n",
       "3             6   650  1652  3343  1273  179   7103\n",
       "4             1    24   251  1753  1289  184   3502\n",
       "5             0     3    20   235  1085  361   1704\n",
       "All         210  3448  3962  7238  4038  779  19675"
      ]
     },
     "execution_count": 23,
     "metadata": {},
     "output_type": "execute_result"
    }
   ],
   "source": [
    "cats_crossed = pd.crosstab(two_cats.iloc[:, 0], two_cats.iloc[:, 1], margins=True)\n",
    "cats_crossed"
   ]
  },
  {
   "cell_type": "markdown",
   "metadata": {
    "id": "JCbM8TBEFsKS"
   },
   "source": [
    "교차표에 인덱싱을 적용하면 임의의 $x$와 $y$에 대해 $P(X=x, Y=y)$를 계산할 수 있다. $P(X=4, Y=3)$는 아래 두 항목의 비율이므로\n",
    "- `cats_crossed.loc[4, 3]`: 가구소득 범주 4, 주택가격 범주  3인 경우의 도수\n",
    "- `cats_crossed.loc['All', 'All']`: 모집단 크기"
   ]
  },
  {
   "cell_type": "markdown",
   "metadata": {
    "id": "1IsX6ZizFsKS"
   },
   "source": [
    "$P(X=4, Y=3)$는 다음과 같이 계산된다."
   ]
  },
  {
   "cell_type": "code",
   "execution_count": 24,
   "metadata": {
    "colab": {
     "base_uri": "https://localhost:8080/"
    },
    "executionInfo": {
     "elapsed": 30,
     "status": "ok",
     "timestamp": 1752672775162,
     "user": {
      "displayName": "ter wa",
      "userId": "01448980402448893441"
     },
     "user_tz": -540
    },
    "id": "wlj12ssKFsKS",
    "outputId": "af371a26-baae-43f5-fe06-57a3e334c223"
   },
   "outputs": [
    {
     "data": {
      "text/plain": [
       "0.012757"
      ]
     },
     "execution_count": 24,
     "metadata": {},
     "output_type": "execute_result"
    }
   ],
   "source": [
    "cats_crossed.loc[4, 3] / cats_crossed.loc['All', 'All']"
   ]
  },
  {
   "cell_type": "markdown",
   "metadata": {
    "id": "gELxc8RsFsKS"
   },
   "source": [
    "따라서 가구소득 범주와 주택가격 범주의 결합확률분포를 따르는 결합확률질량함수는 다음과 같이 정의된다."
   ]
  },
  {
   "cell_type": "code",
   "execution_count": 25,
   "metadata": {
    "id": "1FsrPeFjFsKS"
   },
   "outputs": [],
   "source": [
    "def p_XY(x, y):\n",
    "    return  cats_crossed.loc[x, y] / cats_crossed.loc['All', 'All']"
   ]
  },
  {
   "cell_type": "markdown",
   "metadata": {
    "id": "j-26J8-oFsKS"
   },
   "source": [
    "캘리포니아 주택가격 데이터셋에서 임의의 구역을 선택했을 때 가구소득 범주는 4, 주택가격 범주는 3인 경우의 확률은 다음과 같고"
   ]
  },
  {
   "cell_type": "code",
   "execution_count": 26,
   "metadata": {
    "colab": {
     "base_uri": "https://localhost:8080/"
    },
    "executionInfo": {
     "elapsed": 10,
     "status": "ok",
     "timestamp": 1752672775228,
     "user": {
      "displayName": "ter wa",
      "userId": "01448980402448893441"
     },
     "user_tz": -540
    },
    "id": "pmWiGFoJFsKS",
    "outputId": "975d6a65-955f-4e4f-be8c-5704ce0e6cc0"
   },
   "outputs": [
    {
     "data": {
      "text/plain": [
       "0.012757"
      ]
     },
     "execution_count": 26,
     "metadata": {},
     "output_type": "execute_result"
    }
   ],
   "source": [
    "p_XY(4, 3)"
   ]
  },
  {
   "cell_type": "markdown",
   "metadata": {
    "id": "nhDD87J6FsKS"
   },
   "source": [
    "캘리포니아 주택가격 데이터셋에서 임의의 구역을 선택했을 때 가구소득 범주는 5, 주택가격 범주는 6인 경우의 확률은 다음과 같다."
   ]
  },
  {
   "cell_type": "code",
   "execution_count": 27,
   "metadata": {
    "colab": {
     "base_uri": "https://localhost:8080/"
    },
    "executionInfo": {
     "elapsed": 5,
     "status": "ok",
     "timestamp": 1752672775234,
     "user": {
      "displayName": "ter wa",
      "userId": "01448980402448893441"
     },
     "user_tz": -540
    },
    "id": "ermwW-MiFsKT",
    "outputId": "b8d09d31-a838-481e-8ac3-9b7530968296"
   },
   "outputs": [
    {
     "data": {
      "text/plain": [
       "0.018348"
      ]
     },
     "execution_count": 27,
     "metadata": {},
     "output_type": "execute_result"
    }
   ],
   "source": [
    "p_XY(5, 6)"
   ]
  },
  {
   "cell_type": "markdown",
   "metadata": {
    "id": "vO6N6UMHFsKT"
   },
   "source": [
    "참고로 두 확률변수가 서로 영향을 주지 않는다면, 위 결과가 $P(X=5)\\cdot P(Y=6)$과 같아야 하는데, 그렇지 않다. 따라서 두 확률변수 $X$와 $Y$는 독립이 아니다."
   ]
  },
  {
   "cell_type": "code",
   "execution_count": 28,
   "metadata": {
    "colab": {
     "base_uri": "https://localhost:8080/"
    },
    "executionInfo": {
     "elapsed": 6,
     "status": "ok",
     "timestamp": 1752672775240,
     "user": {
      "displayName": "ter wa",
      "userId": "01448980402448893441"
     },
     "user_tz": -540
    },
    "id": "MYZTTwz-FsKT",
    "outputId": "5be988a2-ff87-4b2b-ab81-5449b159d7a2"
   },
   "outputs": [
    {
     "data": {
      "text/plain": [
       "0.003429"
      ]
     },
     "execution_count": 28,
     "metadata": {},
     "output_type": "execute_result"
    }
   ],
   "source": [
    "p_X(5) * p_Y(6)"
   ]
  },
  {
   "cell_type": "markdown",
   "metadata": {
    "id": "o8XPtU3mFsKT"
   },
   "source": [
    "**확률의 성질**"
   ]
  },
  {
   "cell_type": "markdown",
   "metadata": {
    "id": "LQrFQ_XxFsKT"
   },
   "source": [
    "이산결합확률분포에 대해서도 확률의 두 가지 성질을 확인해보자."
   ]
  },
  {
   "cell_type": "markdown",
   "metadata": {
    "id": "ojkZFWRrFsKT"
   },
   "source": [
    "첫째, 두 확률변수 $X$, $Y$가 취할 수 있는 임의의 값 $x$와 $y$에 대한 확률은 0과 1 사이의 값이다."
   ]
  },
  {
   "cell_type": "markdown",
   "metadata": {
    "id": "qtRUOyetFsKT"
   },
   "source": [
    "브로드캐스팅 기능을 통해 모든  $x$와 $y$의 조합에 대해 $P(X=x, Y=y)$를 쉽게 구할 수 있다. 아래 데이터프레임의 각 항목이 0과 1사이의 값인지를 확인하면 된다."
   ]
  },
  {
   "cell_type": "code",
   "execution_count": 29,
   "metadata": {
    "colab": {
     "base_uri": "https://localhost:8080/",
     "height": 269
    },
    "executionInfo": {
     "elapsed": 5,
     "status": "ok",
     "timestamp": 1752672775245,
     "user": {
      "displayName": "ter wa",
      "userId": "01448980402448893441"
     },
     "user_tz": -540
    },
    "id": "szmu6BGnFsKT",
    "outputId": "a7eaa173-1d14-4032-b84b-70e9429d2e5b"
   },
   "outputs": [
    {
     "data": {
      "text/html": [
       "<div>\n",
       "<style scoped>\n",
       "    .dataframe tbody tr th:only-of-type {\n",
       "        vertical-align: middle;\n",
       "    }\n",
       "\n",
       "    .dataframe tbody tr th {\n",
       "        vertical-align: top;\n",
       "    }\n",
       "\n",
       "    .dataframe thead th {\n",
       "        text-align: right;\n",
       "    }\n",
       "</style>\n",
       "<table border=\"1\" class=\"dataframe\">\n",
       "  <thead>\n",
       "    <tr style=\"text-align: right;\">\n",
       "      <th>value_cat</th>\n",
       "      <th>1</th>\n",
       "      <th>2</th>\n",
       "      <th>3</th>\n",
       "      <th>4</th>\n",
       "      <th>5</th>\n",
       "      <th>6</th>\n",
       "      <th>All</th>\n",
       "    </tr>\n",
       "    <tr>\n",
       "      <th>income_cat</th>\n",
       "      <th></th>\n",
       "      <th></th>\n",
       "      <th></th>\n",
       "      <th></th>\n",
       "      <th></th>\n",
       "      <th></th>\n",
       "      <th></th>\n",
       "    </tr>\n",
       "  </thead>\n",
       "  <tbody>\n",
       "    <tr>\n",
       "      <th>1</th>\n",
       "      <td>0.003659</td>\n",
       "      <td>0.022160</td>\n",
       "      <td>0.008081</td>\n",
       "      <td>0.005489</td>\n",
       "      <td>0.001677</td>\n",
       "      <td>0.000305</td>\n",
       "      <td>0.041372</td>\n",
       "    </tr>\n",
       "    <tr>\n",
       "      <th>2</th>\n",
       "      <td>0.006658</td>\n",
       "      <td>0.118679</td>\n",
       "      <td>0.095553</td>\n",
       "      <td>0.091436</td>\n",
       "      <td>0.018196</td>\n",
       "      <td>0.002490</td>\n",
       "      <td>0.333011</td>\n",
       "    </tr>\n",
       "    <tr>\n",
       "      <th>3</th>\n",
       "      <td>0.000305</td>\n",
       "      <td>0.033037</td>\n",
       "      <td>0.083964</td>\n",
       "      <td>0.169911</td>\n",
       "      <td>0.064701</td>\n",
       "      <td>0.009098</td>\n",
       "      <td>0.361017</td>\n",
       "    </tr>\n",
       "    <tr>\n",
       "      <th>4</th>\n",
       "      <td>0.000051</td>\n",
       "      <td>0.001220</td>\n",
       "      <td>0.012757</td>\n",
       "      <td>0.089098</td>\n",
       "      <td>0.065515</td>\n",
       "      <td>0.009352</td>\n",
       "      <td>0.177992</td>\n",
       "    </tr>\n",
       "    <tr>\n",
       "      <th>5</th>\n",
       "      <td>0.000000</td>\n",
       "      <td>0.000152</td>\n",
       "      <td>0.001017</td>\n",
       "      <td>0.011944</td>\n",
       "      <td>0.055146</td>\n",
       "      <td>0.018348</td>\n",
       "      <td>0.086607</td>\n",
       "    </tr>\n",
       "    <tr>\n",
       "      <th>All</th>\n",
       "      <td>0.010673</td>\n",
       "      <td>0.175248</td>\n",
       "      <td>0.201372</td>\n",
       "      <td>0.367878</td>\n",
       "      <td>0.205235</td>\n",
       "      <td>0.039593</td>\n",
       "      <td>1.000000</td>\n",
       "    </tr>\n",
       "  </tbody>\n",
       "</table>\n",
       "</div>"
      ],
      "text/plain": [
       "value_cat          1         2         3         4         5         6  \\\n",
       "income_cat                                                               \n",
       "1           0.003659  0.022160  0.008081  0.005489  0.001677  0.000305   \n",
       "2           0.006658  0.118679  0.095553  0.091436  0.018196  0.002490   \n",
       "3           0.000305  0.033037  0.083964  0.169911  0.064701  0.009098   \n",
       "4           0.000051  0.001220  0.012757  0.089098  0.065515  0.009352   \n",
       "5           0.000000  0.000152  0.001017  0.011944  0.055146  0.018348   \n",
       "All         0.010673  0.175248  0.201372  0.367878  0.205235  0.039593   \n",
       "\n",
       "value_cat        All  \n",
       "income_cat            \n",
       "1           0.041372  \n",
       "2           0.333011  \n",
       "3           0.361017  \n",
       "4           0.177992  \n",
       "5           0.086607  \n",
       "All         1.000000  "
      ]
     },
     "execution_count": 29,
     "metadata": {},
     "output_type": "execute_result"
    }
   ],
   "source": [
    "p_XY_df = cats_crossed / cats_crossed.loc['All', 'All']\n",
    "p_XY_df"
   ]
  },
  {
   "cell_type": "code",
   "execution_count": 30,
   "metadata": {
    "colab": {
     "base_uri": "https://localhost:8080/"
    },
    "executionInfo": {
     "elapsed": 20,
     "status": "ok",
     "timestamp": 1752672775263,
     "user": {
      "displayName": "ter wa",
      "userId": "01448980402448893441"
     },
     "user_tz": -540
    },
    "id": "iqrvWIspFsKT",
    "outputId": "633f1959-b284-467f-8702-ff5488699275"
   },
   "outputs": [
    {
     "data": {
      "text/plain": [
       "True"
      ]
     },
     "execution_count": 30,
     "metadata": {},
     "output_type": "execute_result"
    }
   ],
   "source": [
    "(0 <= p_XY_df).all().all()"
   ]
  },
  {
   "cell_type": "code",
   "execution_count": 31,
   "metadata": {
    "colab": {
     "base_uri": "https://localhost:8080/"
    },
    "executionInfo": {
     "elapsed": 12,
     "status": "ok",
     "timestamp": 1752672775263,
     "user": {
      "displayName": "ter wa",
      "userId": "01448980402448893441"
     },
     "user_tz": -540
    },
    "id": "5gYGamtxFsKT",
    "outputId": "6987ab77-e58a-4bf8-e95d-22c1dcda2892"
   },
   "outputs": [
    {
     "data": {
      "text/plain": [
       "True"
      ]
     },
     "execution_count": 31,
     "metadata": {},
     "output_type": "execute_result"
    }
   ],
   "source": [
    "(1 >= p_XY_df).all().all()"
   ]
  },
  {
   "cell_type": "markdown",
   "metadata": {
    "id": "ASCexgBiFsKT"
   },
   "source": [
    "둘째, 두 확률변수가 취할 수 있는 모든 조합에 대한 확률의 합은 1이다."
   ]
  },
  {
   "cell_type": "markdown",
   "metadata": {
    "id": "JZSRnl0gFsKT"
   },
   "source": [
    "`p_XY_df.loc['All', 'All']` 또는 다음의 값이 1임을 확인하면 된다."
   ]
  },
  {
   "cell_type": "code",
   "execution_count": 32,
   "metadata": {
    "colab": {
     "base_uri": "https://localhost:8080/"
    },
    "executionInfo": {
     "elapsed": 30,
     "status": "ok",
     "timestamp": 1752672775288,
     "user": {
      "displayName": "ter wa",
      "userId": "01448980402448893441"
     },
     "user_tz": -540
    },
    "id": "1eL2NfpBFsKT",
    "outputId": "39a75f75-cf2d-45f0-9e2d-0f8154c87f95"
   },
   "outputs": [
    {
     "data": {
      "text/plain": [
       "1.000000"
      ]
     },
     "execution_count": 32,
     "metadata": {},
     "output_type": "execute_result"
    }
   ],
   "source": [
    "p_XY_df.iloc[-1, -1]"
   ]
  },
  {
   "cell_type": "markdown",
   "metadata": {
    "id": "OEJL9QRCFsKT"
   },
   "source": [
    "**이산결합확률분포의 히트맵**"
   ]
  },
  {
   "cell_type": "markdown",
   "metadata": {
    "id": "RYA-WIp-FsKT"
   },
   "source": [
    "영역별 값의 크기를 색과 농도로 구분하는 히트맵을 이용하면\n",
    "가구소득 범주와 주택가격 범주 사이의 연관성을 한 눈에 알아볼 수 있다."
   ]
  },
  {
   "cell_type": "code",
   "execution_count": 33,
   "metadata": {
    "colab": {
     "base_uri": "https://localhost:8080/",
     "height": 542
    },
    "executionInfo": {
     "elapsed": 115,
     "status": "ok",
     "timestamp": 1752672775401,
     "user": {
      "displayName": "ter wa",
      "userId": "01448980402448893441"
     },
     "user_tz": -540
    },
    "id": "YHgZnJqjFsKT",
    "outputId": "59e2c0bc-7ce4-4c06-f96b-82baae00ee55"
   },
   "outputs": [
    {
     "data": {
      "image/png": "[encoded data removed]",
      "text/plain": [
       "<Figure size 800x600 with 2 Axes>"
      ]
     },
     "metadata": {},
     "output_type": "display_data"
    }
   ],
   "source": [
    "fig = plt.figure(figsize=(8,6))\n",
    "hx = fig.add_subplot(1, 1, 1)\n",
    "\n",
    "row, col = p_XY_df.shape\n",
    "\n",
    "# 마지막 행과 열 제외\n",
    "row -= 1\n",
    "col -= 1\n",
    "\n",
    "# 히트맵\n",
    "c = hx.pcolor(p_XY_df.iloc[:row, :col])\n",
    "\n",
    "# 축 눈금 지정\n",
    "hx.set_xticks(np.arange(col) + 0.5, minor=False)\n",
    "hx.set_yticks(np.arange(row) + 0.5, minor=False)\n",
    "\n",
    "hx.set_xticklabels(range(1, col+1))\n",
    "hx.set_yticklabels(range(1, row+1))\n",
    "\n",
    "hx.invert_yaxis() # 가구소득 범주 위에서부터\n",
    "hx.tick_params(top=True, labeltop=True, bottom=False, labelbottom=False) # x축 눈금은 위쪽\n",
    "                                                                         # y축 눈금은 기본값인 왼쪽\n",
    "\n",
    "hx.set_xlabel('House Value')\n",
    "hx.set_ylabel('Income')\n",
    "\n",
    "fig.colorbar(c, ax=hx) # 색 기둥\n",
    "\n",
    "plt.show()"
   ]
  },
  {
   "cell_type": "markdown",
   "metadata": {
    "id": "LvL7_muiFsKT"
   },
   "source": [
    "대각선에 위치한 영역의 일반적으로 밝다.\n",
    "특히 가구소득의 범주가 3, 주택가격의 범주가 4인 영역의 확률이 가장 높다.\n",
    "일반적으로 가구소득 수준과 주택가격의 수준이 비례한다는 점과\n",
    "중산층이 적정한 가격의 주택에 산다는 상식에 부합하는 결과인 셈이다."
   ]
  },
  {
   "cell_type": "markdown",
   "metadata": {
    "id": "UC6IibR5FsKU"
   },
   "source": [
    "### 조건부확률"
   ]
  },
  {
   "cell_type": "markdown",
   "metadata": {
    "id": "yWlie50fFsKU"
   },
   "source": [
    "**조건부확률**<font size='2'>conditional probability</font> $P(A\\mid B)$는 사건 $B$가 일어났다는 전제 하에 사건 $A$가 발생할 확률을 나타내며,\n",
    "아래 그림에서 파랑색 영역 $B$에서 보라색 영역이 차지하는 비율을 가리킨다.\n",
    "반면에 $P(A)$, $P(B)$, $P(A, B)$는 전체 검정색 영역 $U$에서\n",
    "각각의 영역이 차지하는 비율을 가리킨다."
   ]
  },
  {
   "cell_type": "markdown",
   "metadata": {
    "id": "1dZYSya8FsKU"
   },
   "source": [
    "<p><div align=\"center\"><img src=\"https://github.com/codingalzi/statsRev/blob/master/jupyter-book/images/conditional02.png?raw=true\" style=\"width:300px\"></div></p>"
   ]
  },
  {
   "cell_type": "markdown",
   "metadata": {
    "id": "I-xQ7NpLFsKU"
   },
   "source": [
    "따라서 조건부확률 $P(A \\mid B)$는 전체 영역 $U$에서 보라색 영역이 차지하는 비율인 $P(A, B)=P(A \\;\\cap\\; B)$과 다르지만, 다음의 관계식을 만족한다.\n",
    "$$\n",
    "P(A\\mid B) = \\frac{P(A, B)}{P(B)}\\qquad (\\ast)\n",
    "$$\n",
    "\n",
    "위 그림의 영역들의 면적을 이용해 이를 쉽게 보일 수 있다.\n",
    "\n",
    "$$\n",
    "P(A\\mid B) = \\frac{area(A \\;\\cap\\; B)}{area(B)}\n",
    "= \\frac{\\frac{area(A \\;\\cap\\; B)}{area(U)}}{\\frac{area(B)}{area(U)}}\n",
    "= \\frac{P(A \\;\\cap\\; B)}{P(B)}\n",
    "$$"
   ]
  },
  {
   "cell_type": "markdown",
   "metadata": {
    "id": "jZ9jhKj3FsKU"
   },
   "source": [
    ":::{admonition} 예제\n",
    ":class: example\n",
    "\n",
    "15명으로 구성된 동아리가 진행하는 행사에 참여하는 회원의 정보가 다음과 같다.\n",
    "\n",
    "|  | 여성(0) | 남성(1) | 합계 |\n",
    "| :---: | :---: | :---:| :---: |\n",
    "| 불참(0) | 2 | 2 | 4 |\n",
    "| 참여(1) | 6 | 5 | 11 |\n",
    "| 합계 | 8 | 7 | 15 |\n",
    "\n",
    "15명 중에 한 명을 임의로 선택할 때\n",
    "확률변수 $X$는 불참이면 0, 참여하면 1이라는 값을,\n",
    "확률변수 $Y$는 여성이면 0, 남성이면 1이라는 값을 갖는다고 하자.\n",
    "\n",
    "그러면 임의로 선택된 사람이 여성일 때 그 여성이 행사에 참여할 확률\n",
    "$P(X=1 \\mid Y=0)$은 총 8명의 여성회원 중에서 행사에 참여하는\n",
    "6명의 비율인 3/4이다.\n",
    "반면에, 임의로 선택된 사람이 행사에 참여하는 여성일 확률 $P(X=1, Y=0)$은\n",
    "총 15명 중에 6명의 비율인 6/15이다.\n",
    "$P(Y=0)=8/15$이므로, 식 $(*)$을 이용해도 동일한 조건부확률 3/4을 얻는다.\n",
    "\n",
    "$$\n",
    "P(X=1 \\mid Y=0) = \\frac{P(X=1, Y=0)}{P(Y=0)} = \\frac{\\frac{6}{15}}{\\frac{8}{15}} = \\frac 6 8 = \\frac 3 4\n",
    "$$\n",
    ":::"
   ]
  },
  {
   "cell_type": "markdown",
   "metadata": {
    "id": "rdiT7CjRFsKU"
   },
   "source": [
    "조건부확률 $P(X=x\\mid Y=y)$를 계산하기 위해 $(*)$를 이용한다.\n",
    "\n",
    "$$\n",
    "P(X=x\\mid Y=y) = \\frac{P(X=x, Y=y)}{P(Y=y)}\n",
    "$$\n",
    "\n",
    "`X`와 `Y`의 역할을 바꾸면 다음도 성립한다.\n",
    "\n",
    "$$\n",
    "P(Y=y\\mid X=x) = \\frac{P(Y=y, X=x)}{P(X=x)} = \\frac{P(X=x, Y=y)}{P(X=x)}\n",
    "$$"
   ]
  },
  {
   "cell_type": "markdown",
   "metadata": {
    "id": "QSyerM-VFsKU"
   },
   "source": [
    "**조건부확률의  확률질량함수**"
   ]
  },
  {
   "cell_type": "markdown",
   "metadata": {
    "id": "rQyA8HfMFsKU"
   },
   "source": [
    "조건부확률의 확률질량함수를 앞서 정의한 확률질량함수들과 위 계산식을 이용해\n",
    "간단하게 정의할 수 있다."
   ]
  },
  {
   "cell_type": "markdown",
   "metadata": {
    "id": "F_O2aRZYFsKU"
   },
   "source": [
    "- $P(X=x \\mid Y=y)$ 계산 함수"
   ]
  },
  {
   "cell_type": "code",
   "execution_count": 34,
   "metadata": {
    "id": "TaamGWNvFsKU"
   },
   "outputs": [],
   "source": [
    "def p_XconY(x, y):\n",
    "    return p_XY(x, y) / p_Y(y)"
   ]
  },
  {
   "cell_type": "markdown",
   "metadata": {
    "id": "Ot-LeQe2FsKU"
   },
   "source": [
    "- $P(Y=y \\mid X=x)$ 계산 함수"
   ]
  },
  {
   "cell_type": "code",
   "execution_count": 35,
   "metadata": {
    "id": "ydwz5UbJFsKU"
   },
   "outputs": [],
   "source": [
    "def p_YconX(y, x):\n",
    "    return p_XY(x, y) / p_X(x)"
   ]
  },
  {
   "cell_type": "markdown",
   "metadata": {
    "id": "5qdSRmd3FsKU"
   },
   "source": [
    "예를 들어, 캘리포니아 주택가격 데이터셋에서 주택가격의 범주가 3인 구역을 임의로 하나 선택했을 때, 해당 구역의 가구소득 범주가 4일 확률은 약 6.3%다."
   ]
  },
  {
   "cell_type": "code",
   "execution_count": 36,
   "metadata": {
    "colab": {
     "base_uri": "https://localhost:8080/"
    },
    "executionInfo": {
     "elapsed": 51,
     "status": "ok",
     "timestamp": 1752672775463,
     "user": {
      "displayName": "ter wa",
      "userId": "01448980402448893441"
     },
     "user_tz": -540
    },
    "id": "t7Rc96AGFsKU",
    "outputId": "92c603b3-e2fe-4c92-85ab-341e40f1c9a4"
   },
   "outputs": [
    {
     "data": {
      "text/plain": [
       "0.063352"
      ]
     },
     "execution_count": 36,
     "metadata": {},
     "output_type": "execute_result"
    }
   ],
   "source": [
    "p_XconY(4, 3)"
   ]
  },
  {
   "cell_type": "markdown",
   "metadata": {
    "id": "DcQ8SqU3FsKU"
   },
   "source": [
    "실제로 아래 코드들을 통해 확인되듯이,\n",
    "주택가격의 범주가 3인 경우의 도수는 3,962이고,\n",
    "그중에 가구소득의 범주가 4인 경우의 도수는 251이므로,\n",
    "그들의 비율인 251/3962는 약 0.063이다."
   ]
  },
  {
   "cell_type": "code",
   "execution_count": 37,
   "metadata": {
    "colab": {
     "base_uri": "https://localhost:8080/"
    },
    "executionInfo": {
     "elapsed": 12,
     "status": "ok",
     "timestamp": 1752672775463,
     "user": {
      "displayName": "ter wa",
      "userId": "01448980402448893441"
     },
     "user_tz": -540
    },
    "id": "uqXw3YQ8FsKU",
    "outputId": "ca7dc549-e53f-41e1-edca-703a1bbed8ca"
   },
   "outputs": [
    {
     "data": {
      "text/plain": [
       "3962"
      ]
     },
     "execution_count": 37,
     "metadata": {},
     "output_type": "execute_result"
    }
   ],
   "source": [
    "cats_crossed.loc['All', 3]"
   ]
  },
  {
   "cell_type": "code",
   "execution_count": 38,
   "metadata": {
    "colab": {
     "base_uri": "https://localhost:8080/"
    },
    "executionInfo": {
     "elapsed": 12,
     "status": "ok",
     "timestamp": 1752672775472,
     "user": {
      "displayName": "ter wa",
      "userId": "01448980402448893441"
     },
     "user_tz": -540
    },
    "id": "o_ynp1d-FsKV",
    "outputId": "2fc0e042-b965-4a2d-9f63-6ffbc1a816a3"
   },
   "outputs": [
    {
     "data": {
      "text/plain": [
       "251"
      ]
     },
     "execution_count": 38,
     "metadata": {},
     "output_type": "execute_result"
    }
   ],
   "source": [
    "cats_crossed.loc[4, 3]"
   ]
  },
  {
   "cell_type": "code",
   "execution_count": 39,
   "metadata": {
    "colab": {
     "base_uri": "https://localhost:8080/"
    },
    "executionInfo": {
     "elapsed": 55,
     "status": "ok",
     "timestamp": 1752672775528,
     "user": {
      "displayName": "ter wa",
      "userId": "01448980402448893441"
     },
     "user_tz": -540
    },
    "id": "71V4Fn4kFsKV",
    "outputId": "dcde94e6-9372-422b-8493-6dcfc50a5b5e"
   },
   "outputs": [
    {
     "data": {
      "text/plain": [
       "0.063352"
      ]
     },
     "execution_count": 39,
     "metadata": {},
     "output_type": "execute_result"
    }
   ],
   "source": [
    "251 / 3962"
   ]
  },
  {
   "cell_type": "markdown",
   "metadata": {
    "id": "FtcGTg38FsKV"
   },
   "source": [
    "만일 두 확률변수 $X$와 $Y$가 서로 독립이라면\n",
    "$P(X=4 \\mid Y=3)$인 `p_XconY(4, 3)`의 값은 $P(X=4)$인 `p_X(4)`와 동일해야 하지만, 위에서 계산한 값과 `p_X(4)`의 값은 다르다."
   ]
  },
  {
   "cell_type": "code",
   "execution_count": 40,
   "metadata": {
    "colab": {
     "base_uri": "https://localhost:8080/"
    },
    "executionInfo": {
     "elapsed": 25,
     "status": "ok",
     "timestamp": 1752672775529,
     "user": {
      "displayName": "ter wa",
      "userId": "01448980402448893441"
     },
     "user_tz": -540
    },
    "id": "jUCwf86EFsKV",
    "outputId": "fedf30ae-bc95-4e20-f178-5462d8df3780"
   },
   "outputs": [
    {
     "data": {
      "text/plain": [
       "0.177992"
      ]
     },
     "execution_count": 40,
     "metadata": {},
     "output_type": "execute_result"
    }
   ],
   "source": [
    "p_X(4)"
   ]
  },
  {
   "cell_type": "markdown",
   "metadata": {
    "id": "93gVdib9FsKV"
   },
   "source": [
    "$P(Y=3 \\mid X=4)$인 `p_YconX(3, 4)`와 $P(Y=3)$인 `p_Y(3)` 또한 서로 다르다."
   ]
  },
  {
   "cell_type": "code",
   "execution_count": 41,
   "metadata": {
    "colab": {
     "base_uri": "https://localhost:8080/"
    },
    "executionInfo": {
     "elapsed": 17,
     "status": "ok",
     "timestamp": 1752672775530,
     "user": {
      "displayName": "ter wa",
      "userId": "01448980402448893441"
     },
     "user_tz": -540
    },
    "id": "Rvqc_S8ZFsKV",
    "outputId": "5dfc1960-6283-42ee-bb85-0c302b9c19b0"
   },
   "outputs": [
    {
     "data": {
      "text/plain": [
       "0.071673"
      ]
     },
     "execution_count": 41,
     "metadata": {},
     "output_type": "execute_result"
    }
   ],
   "source": [
    "p_YconX(3, 4)"
   ]
  },
  {
   "cell_type": "code",
   "execution_count": 42,
   "metadata": {
    "colab": {
     "base_uri": "https://localhost:8080/"
    },
    "executionInfo": {
     "elapsed": 11,
     "status": "ok",
     "timestamp": 1752672775530,
     "user": {
      "displayName": "ter wa",
      "userId": "01448980402448893441"
     },
     "user_tz": -540
    },
    "id": "ON5tWBXhFsKV",
    "outputId": "523e479a-e3e7-4fcb-a216-71a72678ad33"
   },
   "outputs": [
    {
     "data": {
      "text/plain": [
       "0.201372"
      ]
     },
     "execution_count": 42,
     "metadata": {},
     "output_type": "execute_result"
    }
   ],
   "source": [
    "p_Y(3)"
   ]
  },
  {
   "cell_type": "markdown",
   "metadata": {
    "id": "jUnKbmk8FsKV"
   },
   "source": [
    "따라서 가구소득 수준과 주택가격 수준은 독립이 아니며 서로 영향을 준다는 사실을 알 수 있다."
   ]
  },
  {
   "cell_type": "markdown",
   "metadata": {
    "id": "b4EA2ahSFsKV"
   },
   "source": [
    "### 주변확률분포"
   ]
  },
  {
   "cell_type": "markdown",
   "metadata": {
    "id": "YMhNP8X_FsKV"
   },
   "source": [
    "확률변수 $(X, Y)$의 결합확률분포가 주어졌을 때, 확률변수 $X$의 **주변확률분포**<font size='2'>marginal probability distribution</font>는 $Y$의 값에 관계없이 $X$가 특정 값을 가질 확률분포를 의미한다. 따라서 확률변수 $X$의 주변확률질량함수는 다음과 같이 정의된다.\n",
    "\n",
    "$$\n",
    "f_X(x) = \\sum_k f_{XY}(x, y_k) = \\sum_k P(X=x, Y=y_k)\n",
    "$$\n",
    "\n",
    "마찬가지로 확률변수 $Y$의 주변확률분포를 나타내는 주변확률질량함수를 다음과 같이 정의한다.\n",
    "\n",
    "$$\n",
    "f_Y(y) = \\sum_k f_{XY}(x_k, y) = \\sum_k P(X=x_k, Y=y)\n",
    "$$"
   ]
  },
  {
   "cell_type": "markdown",
   "metadata": {
    "id": "R0OVh_rHFsKV"
   },
   "source": [
    "$f_X$는 확률변수 $Y$의 영향을 받지 않고 독립적으로 확률변수 $X$의 확률분포를,\n",
    "$f_Y$는 확률변수 $X$의 영향을 받지 않고 독립적으로 확률변수 $Y$의 확률분포를 계산한다."
   ]
  },
  {
   "cell_type": "markdown",
   "metadata": {
    "id": "0RBiP78LFsKV"
   },
   "source": [
    "가구소득 범부를 가리키는 확률변수 $X$와 주택가격 범주를 가리키는 확률변수 $Y$에 대해,\n",
    "앞서 선언된 이산결합확률분포의 PMF인 `p_XY()` 함수를 이용하면 각 확률변수에 대한 주변확률질량함수를 쉽게 정의할 수 있다."
   ]
  },
  {
   "cell_type": "code",
   "execution_count": 43,
   "metadata": {
    "id": "g2uFjDyFFsKV"
   },
   "outputs": [],
   "source": [
    "def f_X(x):\n",
    "    prob_x = np.array([p_XY(x, y) for y in range(1, 7)])\n",
    "    return prob_x.sum()"
   ]
  },
  {
   "cell_type": "code",
   "execution_count": 44,
   "metadata": {
    "id": "i-2Vo4yuFsKV"
   },
   "outputs": [],
   "source": [
    "def f_Y(y):\n",
    "    prob_y = np.array([p_XY(x, y) for x in range(1, 6)])\n",
    "    return prob_y.sum()"
   ]
  },
  {
   "cell_type": "markdown",
   "metadata": {
    "id": "Pga-CbU-GMu6"
   },
   "source": [
    "하지만 `cats_crossed` 데이터프레임의 값들을 이용해 다음과 같이 직접적으로 계산할 수도 있다.  `cats_crossed.loc[x, 'All']`가\n",
    "확률변수 $X$가 $x$일 때의 모든 $y$에 대한 도수의 합을, `cats_crossed.loc['All', y]`가 확률변수 $Y$가 $y$일 때의 모든 $x$에 대한 도수의 합을 가리키기 때문이다."
   ]
  },
  {
   "cell_type": "code",
   "execution_count": 45,
   "metadata": {
    "id": "hswN29GHFsKV"
   },
   "outputs": [],
   "source": [
    "def f_X1(x):\n",
    "    return cats_crossed.loc[x, 'All'] / cats_crossed.loc['All', 'All']"
   ]
  },
  {
   "cell_type": "code",
   "execution_count": 46,
   "metadata": {
    "id": "bOyU8LKAFsKW"
   },
   "outputs": [],
   "source": [
    "def f_Y1(y):\n",
    "    return cats_crossed.loc['All', y] / cats_crossed.loc['All', 'All']"
   ]
  },
  {
   "cell_type": "markdown",
   "metadata": {
    "id": "uQPyOIkFFsKW"
   },
   "source": [
    "두 가지 정의가 동일한 확률값을 얻는다는 것을 앞에서 소개한 리스트 조건제시법 기능과 넘파이의 `allclose() `함수를 이용해 다음과 같이 확인할 수 있다."
   ]
  },
  {
   "cell_type": "code",
   "execution_count": 47,
   "metadata": {
    "colab": {
     "base_uri": "https://localhost:8080/"
    },
    "executionInfo": {
     "elapsed": 25,
     "status": "ok",
     "timestamp": 1752672775576,
     "user": {
      "displayName": "ter wa",
      "userId": "01448980402448893441"
     },
     "user_tz": -540
    },
    "id": "YurU563DFsKW",
    "outputId": "26dbc45e-d9b7-4196-f804-261407f6c9ae"
   },
   "outputs": [
    {
     "data": {
      "text/plain": [
       "True"
      ]
     },
     "execution_count": 47,
     "metadata": {},
     "output_type": "execute_result"
    }
   ],
   "source": [
    "np.allclose([f_X(x) for x in range(1, 6)], [f_X1(x) for x in range(1, 6)])"
   ]
  },
  {
   "cell_type": "code",
   "execution_count": 48,
   "metadata": {
    "colab": {
     "base_uri": "https://localhost:8080/"
    },
    "executionInfo": {
     "elapsed": 14,
     "status": "ok",
     "timestamp": 1752672775577,
     "user": {
      "displayName": "ter wa",
      "userId": "01448980402448893441"
     },
     "user_tz": -540
    },
    "id": "Z-p7kQATFsKW",
    "outputId": "9466130e-1394-46fc-cf41-ed8f2c92955f"
   },
   "outputs": [
    {
     "data": {
      "text/plain": [
       "True"
      ]
     },
     "execution_count": 48,
     "metadata": {},
     "output_type": "execute_result"
    }
   ],
   "source": [
    "np.allclose([f_Y(y) for y in range(1, 7)], [f_Y1(y) for y in range(1, 7)])"
   ]
  },
  {
   "cell_type": "markdown",
   "metadata": {
    "id": "s3fRdQZzFsKW"
   },
   "source": [
    "넘파이의 `allclose()` 함수는 부동소수점으로 구성된 두 어레이에 대해\n",
    "동일한 인덱스의 두 부동소수점이 \"허용된 오차 범위 내에 위치하는가\"를 확인한다.\n",
    "이 함수를 사용하는 이유는 모든 항목에 대해 부동소수점의 동일여부를 물으면 다르다고 판정되기 때문이다."
   ]
  },
  {
   "cell_type": "code",
   "execution_count": 49,
   "metadata": {
    "colab": {
     "base_uri": "https://localhost:8080/"
    },
    "executionInfo": {
     "elapsed": 14,
     "status": "ok",
     "timestamp": 1752672775591,
     "user": {
      "displayName": "ter wa",
      "userId": "01448980402448893441"
     },
     "user_tz": -540
    },
    "id": "a8L63239FsKW",
    "outputId": "61887b10-d073-48a3-ed24-480a2e0c592a"
   },
   "outputs": [
    {
     "data": {
      "text/plain": [
       "False"
      ]
     },
     "execution_count": 49,
     "metadata": {},
     "output_type": "execute_result"
    }
   ],
   "source": [
    "np.array_equal([f_X(x) for x in range(1, 6)], [f_X1(x) for x in range(1, 6)])"
   ]
  },
  {
   "cell_type": "markdown",
   "metadata": {
    "id": "zRIVWikeFsKW"
   },
   "source": [
    "예를 들어 다음이 성립한다."
   ]
  },
  {
   "cell_type": "code",
   "execution_count": 50,
   "metadata": {
    "colab": {
     "base_uri": "https://localhost:8080/"
    },
    "executionInfo": {
     "elapsed": 8,
     "status": "ok",
     "timestamp": 1752672775600,
     "user": {
      "displayName": "ter wa",
      "userId": "01448980402448893441"
     },
     "user_tz": -540
    },
    "id": "M_GWHSkEFsKW",
    "outputId": "f9f1ce86-b6d4-49c0-df02-0f83a1733900"
   },
   "outputs": [
    {
     "data": {
      "text/plain": [
       "False"
      ]
     },
     "execution_count": 50,
     "metadata": {},
     "output_type": "execute_result"
    }
   ],
   "source": [
    "f_X(3) == f_X1(3)"
   ]
  },
  {
   "cell_type": "markdown",
   "metadata": {
    "id": "jx8AF_kzFsKW"
   },
   "source": [
    "그런데 두 값을 출력해 확인하면 언뜻 동일해 보이는데, 부동소수점을 소수점 이하 여섯째 자리까지만 화면에 보이도록 설정했었기 때문이다."
   ]
  },
  {
   "cell_type": "code",
   "execution_count": 51,
   "metadata": {
    "colab": {
     "base_uri": "https://localhost:8080/"
    },
    "executionInfo": {
     "elapsed": 7,
     "status": "ok",
     "timestamp": 1752672775609,
     "user": {
      "displayName": "ter wa",
      "userId": "01448980402448893441"
     },
     "user_tz": -540
    },
    "id": "1FA1PQ4pFsKW",
    "outputId": "264a9b7b-8d2e-4a4e-c57f-740d50fe0b7b"
   },
   "outputs": [
    {
     "data": {
      "text/plain": [
       "0.361017"
      ]
     },
     "execution_count": 51,
     "metadata": {},
     "output_type": "execute_result"
    }
   ],
   "source": [
    "f_X(3)"
   ]
  },
  {
   "cell_type": "code",
   "execution_count": 52,
   "metadata": {
    "colab": {
     "base_uri": "https://localhost:8080/"
    },
    "executionInfo": {
     "elapsed": 7,
     "status": "ok",
     "timestamp": 1752672775617,
     "user": {
      "displayName": "ter wa",
      "userId": "01448980402448893441"
     },
     "user_tz": -540
    },
    "id": "8dPiRjm5FsKW",
    "outputId": "8c3fbf4b-7d01-406b-df19-af3deb1f5ad4"
   },
   "outputs": [
    {
     "data": {
      "text/plain": [
       "0.361017"
      ]
     },
     "execution_count": 52,
     "metadata": {},
     "output_type": "execute_result"
    }
   ],
   "source": [
    "f_X1(3)"
   ]
  },
  {
   "cell_type": "markdown",
   "metadata": {
    "id": "PzwLGc-VFsKW"
   },
   "source": [
    "따라서 소수점 이하 20번째 자리까지 출력해 보면, 두 함수의 결과가 소수점 이하 17번째 자리에서 다름이 확인된다."
   ]
  },
  {
   "cell_type": "code",
   "execution_count": 53,
   "metadata": {
    "colab": {
     "base_uri": "https://localhost:8080/",
     "height": 35
    },
    "executionInfo": {
     "elapsed": 14,
     "status": "ok",
     "timestamp": 1752672775668,
     "user": {
      "displayName": "ter wa",
      "userId": "01448980402448893441"
     },
     "user_tz": -540
    },
    "id": "NaUqenOeFsKW",
    "outputId": "e6025ec1-3c29-4690-de49-75b02bab57ac"
   },
   "outputs": [
    {
     "data": {
      "text/plain": [
       "'%.20f'"
      ]
     },
     "execution_count": 53,
     "metadata": {},
     "output_type": "execute_result"
    }
   ],
   "source": [
    "%precision 20"
   ]
  },
  {
   "cell_type": "code",
   "execution_count": 54,
   "metadata": {
    "colab": {
     "base_uri": "https://localhost:8080/"
    },
    "executionInfo": {
     "elapsed": 9,
     "status": "ok",
     "timestamp": 1752672775680,
     "user": {
      "displayName": "ter wa",
      "userId": "01448980402448893441"
     },
     "user_tz": -540
    },
    "id": "BmGQEudhFsKW",
    "outputId": "e467c856-199f-4ecc-97c3-193ac93b29a2"
   },
   "outputs": [
    {
     "data": {
      "text/plain": [
       "0.36101651842439647089"
      ]
     },
     "execution_count": 54,
     "metadata": {},
     "output_type": "execute_result"
    }
   ],
   "source": [
    "f_X(3)"
   ]
  },
  {
   "cell_type": "code",
   "execution_count": 55,
   "metadata": {
    "colab": {
     "base_uri": "https://localhost:8080/"
    },
    "executionInfo": {
     "elapsed": 12,
     "status": "ok",
     "timestamp": 1752672775712,
     "user": {
      "displayName": "ter wa",
      "userId": "01448980402448893441"
     },
     "user_tz": -540
    },
    "id": "yxZvFWTJFsKW",
    "outputId": "a14ec4b2-c623-4931-fa3a-62d3222f4191"
   },
   "outputs": [
    {
     "data": {
      "text/plain": [
       "0.36101651842439641538"
      ]
     },
     "execution_count": 55,
     "metadata": {},
     "output_type": "execute_result"
    }
   ],
   "source": [
    "f_X1(3)"
   ]
  },
  {
   "cell_type": "markdown",
   "metadata": {
    "id": "gWQ0XaXzFsKW"
   },
   "source": [
    "두 함수의 결과가 이론적으로는 동일함에도 불구하고 계산값이 다르게 나오는 이유는 두 함수가 아래와 같이 서로 다른 방식으로 부동소수점 연산을 실행하기 때문이다. 즉, 부동소수점 연산의 한계 때문이다.\n",
    "- `f_X(x)`: 모든 `y`에 대해 확률 `P(X=x, Y=y)`을 계산한 다음, 이 값들을 모두 더함.\n",
    "- `f_X1(x)`: `x`의 범주에 속하는 모든 `y`의 도수들을 더한 값을 전체 데이터수로 나눠 확률을 계산."
   ]
  },
  {
   "cell_type": "markdown",
   "metadata": {
    "id": "rDHOfrkWFsKW"
   },
   "source": [
    "한편, `f_X1()`과 `f_Y1()`은 앞서 정의한 확률질량함수 `p_X()`, `p_Y()`와 완전히 동일한\n",
    "확률값을 갖는다. `p_X()`와 `p_Y()`는 `f_X1()`과 `f_Y1()`의 경우처럼, 도수들을 더한 값을 전체 데이터수로 나눠 계산한 확률이기 때문이다."
   ]
  },
  {
   "cell_type": "code",
   "execution_count": 56,
   "metadata": {
    "colab": {
     "base_uri": "https://localhost:8080/"
    },
    "executionInfo": {
     "elapsed": 7,
     "status": "ok",
     "timestamp": 1752672775720,
     "user": {
      "displayName": "ter wa",
      "userId": "01448980402448893441"
     },
     "user_tz": -540
    },
    "id": "NckxIX1qFsKW",
    "outputId": "302fa30f-3349-40b6-d831-1f2c3544c339"
   },
   "outputs": [
    {
     "data": {
      "text/plain": [
       "True"
      ]
     },
     "execution_count": 56,
     "metadata": {},
     "output_type": "execute_result"
    }
   ],
   "source": [
    "np.array_equal([p_X(x) for x in range(1, 6)], [f_X1(x) for x in range(1, 6)])"
   ]
  },
  {
   "cell_type": "code",
   "execution_count": 57,
   "metadata": {
    "colab": {
     "base_uri": "https://localhost:8080/"
    },
    "executionInfo": {
     "elapsed": 5,
     "status": "ok",
     "timestamp": 1752672775727,
     "user": {
      "displayName": "ter wa",
      "userId": "01448980402448893441"
     },
     "user_tz": -540
    },
    "id": "emg8lXADFsKX",
    "outputId": "09638a38-6e6c-4bc5-803b-41aba561a6ff"
   },
   "outputs": [
    {
     "data": {
      "text/plain": [
       "True"
      ]
     },
     "execution_count": 57,
     "metadata": {},
     "output_type": "execute_result"
    }
   ],
   "source": [
    "np.array_equal([p_Y(y) for y in range(1, 7)], [f_Y1(y) for y in range(1, 7)])"
   ]
  },
  {
   "cell_type": "markdown",
   "metadata": {
    "id": "hscLbS5MFsKX"
   },
   "source": [
    "결론적으로 두 확률변수의 확률질량함수는 결합확률질량함수로부터 얻은 주변확률질량함수와 동일하다."
   ]
  },
  {
   "cell_type": "markdown",
   "metadata": {
    "id": "v7DOkLozFsKX"
   },
   "source": [
    "## 연습문제"
   ]
  },
  {
   "cell_type": "markdown",
   "metadata": {
    "id": "ijzswI13FsKX"
   },
   "source": [
    "참고: [(연습) 이산확률분포](https://colab.research.google.com/github/codingalzi/statsRev/blob/master/practices/practice-probability_discrete.ipynb)"
   ]
  }
 ],
 "metadata": {
  "colab": {
   "provenance": [
    {
     "file_id": "https://github.com/codingalzi/statsRev/blob/master/jupyter-book/probability_discrete.ipynb",
     "timestamp": 1752482368519
    }
   ]
  },
  "kernelspec": {
   "display_name": "Python 3 (ipykernel)",
   "language": "python",
   "name": "python3"
  },
  "language_info": {
   "codemirror_mode": {
    "name": "ipython",
    "version": 3
   },
   "file_extension": ".py",
   "mimetype": "text/x-python",
   "name": "python",
   "nbconvert_exporter": "python",
   "pygments_lexer": "ipython3",
   "version": "3.12.2"
  },
  "toc": {
   "nav_menu": {},
   "number_sections": true,
   "sideBar": true,
   "skip_h1_title": false,
   "toc_cell": false,
   "toc_position": {},
   "toc_section_display": "block",
   "toc_window_display": false
  }
 },
 "nbformat": 4,
 "nbformat_minor": 1
}