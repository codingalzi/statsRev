{
 "cells": [
  {
   "cell_type": "markdown",
   "metadata": {},
   "source": [
    "# 데이터 사이언스와 통계분석"
   ]
  },
  {
   "cell_type": "markdown",
   "metadata": {},
   "source": [
    "현대 정보화 사회에서 데이터를 적절하게 다루는 기술의 역할이 매우 크다.\n",
    "데이터 사이언스가 바로 주어진 데이터로부터 정보를 추출하는 기법과 추출한 정보를 활용하는 분야를 가리킨다.\n",
    "\n",
    "데이터로부터 정보를 얻기 위해 전통적으로 통계학, 확률론, 수학을 이용하여 이론적으로 접근하였지만\n",
    "빅데이터 시대에 접어들면서 머신러닝, 딥러닝 등 컴퓨터를 보다 적극적으로 활용한\n",
    "데이터 사이언스의 중요도가 절대적으로 커졌다.\n",
    "\n",
    "데이터 사이언스의 기초는 통계분석이다.\n",
    "무엇보다도 통계분석을 위한 기초지식과 사고방식을 직관적으로 이해할 수 있어야 한다.\n",
    "통계분석을 깊게 이해할 수록 데이터에 숨겨진 유용하고 중요한 정보를 보다 잘 이끌어낼 수 있다."
   ]
  },
  {
   "cell_type": "markdown",
   "metadata": {},
   "source": [
    "## 파이썬 통계분석"
   ]
  },
  {
   "cell_type": "markdown",
   "metadata": {},
   "source": [
    "파이썬<font size='2'>Python</font>은 현재 데이터 분석 및 머신러닝 분야에서 \n",
    "가장 많이 사용되는 프로그래밍언어다.\n",
    "\n",
    "아래 그림은 프로그래밍에 입문할 때 가장 배우고 싶어하는 라이브러리로 \n",
    "넘파이<font size='2'>Numpy</font>, 판다스<font size='2'>Pandas</font>, 파이토치<font size='2'>PyTorch</font>,\n",
    "텐서플로우<font size='2'>TensorFlow</font> 등 파이썬 라이브러리가 절대적임을 보여준다."
   ]
  },
  {
   "cell_type": "markdown",
   "metadata": {},
   "source": [
    "<div align=\"center\"><img src=\"https://github.com/codingalzi/statsRev/blob/master/jupyter-book/images/wanted_libraries.png?raw=true\" style=\"width:600px\"></div>\n",
    "\n",
    "<p><div style=\"text-align: center\">&lt;그림 출처: <a href=\"https://survey.stackoverflow.co/2024/technology#most-popular-technologies-misc-tech-learn\">Stack Overflow 개발자 설문조사 2024</a>&gt;</div></p>"
   ]
  },
  {
   "cell_type": "markdown",
   "metadata": {},
   "source": [
    "## 파이썬 주요 라이브러리"
   ]
  },
  {
   "cell_type": "markdown",
   "metadata": {},
   "source": [
    "데이터 사이언스 분야에서 유용하게 사용되는 주요 파이썬 라이브러리는 다음과 같다.\n",
    "\n",
    "* 데이터 처리, 시각화 등에 필요한 라이브러리\n",
    "    * [넘파이<font size='2'>NumPy</font>](https://numpy.org)\n",
    "    * [판다스<font size='2'>Pandas</font>](https://pandas.pydata.org)\n",
    "    * [맷플롯립<font size='2'>Matplotlib</font>](https://matplotlib.org)\n",
    "\n",
    "* 통계, 확률 등에 유용한 라이브러리\n",
    "    * [싸이파이<font size='2'>SciPy</font>](https://scipy.org)\n",
    "    * [스탯츠모델스<font size='2'>statsmodels</font>](https://www.statsmodels.org/stable/index.html)\n",
    "\n",
    "* 머신러닝, 데이터 분석 등에 유용한 라이브러리\n",
    "    * [사이킷런<font size='2'>scikit-learn</font>](https://scikit-learn.org/)\n",
    "    * [텐서플로우<font size='2'>TensorFlow</font>](https://www.tensorflow.org/)\n",
    "    * [파이토치<font size='2'>PyTorch</font>](https://keras.io/)\n",
    "    * [케라스<font size='2'>Keras</font>](https://keras.io/)    "
   ]
  },
  {
   "cell_type": "markdown",
   "metadata": {},
   "source": [
    "여기서는 주로 넘파이<font size='2'>NumPy</font>, \n",
    "판다스<font size='2'>Pandas</font>, \n",
    "맷플롯립<font size='2'>matplotlib</font>을 \n",
    "활용한다."
   ]
  },
  {
   "cell_type": "markdown",
   "metadata": {},
   "source": [
    "- 넘파이: 효율적이고 빠른 다차원 배열<font size='2'>array</font> 지원\n",
    "- 판다스: 테이블 데이터를 매우 효율적으로 다룰 수 있는 데이터프레임 지원\n",
    "- 맷플롯립: 유용한 데이터 시각화 API 지원"
   ]
  }
 ],
 "metadata": {
  "kernelspec": {
   "display_name": "Python 3 (ipykernel)",
   "language": "python",
   "name": "python3"
  },
  "language_info": {
   "codemirror_mode": {
    "name": "ipython",
    "version": 3
   },
   "file_extension": ".py",
   "mimetype": "text/x-python",
   "name": "python",
   "nbconvert_exporter": "python",
   "pygments_lexer": "ipython3",
   "version": "3.12.2"
  },
  "vscode": {
   "interpreter": {
    "hash": "ad0f3c8a064f687cbf898a0868fd45ba1c7e928ac8a0404f7c241d812ddc1e76"
   }
  }
 },
 "nbformat": 4,
 "nbformat_minor": 2
}