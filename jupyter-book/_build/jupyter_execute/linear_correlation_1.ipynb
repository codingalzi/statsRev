{
 "cells": [
  {
   "cell_type": "markdown",
   "metadata": {
    "id": "U7xxOoGoyzx8"
   },
   "source": [
    "(ch:linear-correlation-1)=\n",
    "# 선형 상관관계 2"
   ]
  },
  {
   "cell_type": "markdown",
   "metadata": {
    "id": "NKs1j3PKyzyC"
   },
   "source": [
    "상관관계는 선형 상관관계와 비선형 상관관계로 나뉜다.\n",
    "선형 상관관계는 하나의 데이터 값이 증가함에 따라 다른 데이터 값이 일차함수로 \n",
    "단조증가(양의 상관관계) 또는 단조감소(음의 상관관계)를 의미한다.\n",
    "반면에 비선형 상관관계는 일차함수보다 복잡한 함수로 나타나는 경우를 말한다.\n",
    "\n",
    "2차원 데이터를 다루는 대부분의 경우, 선형 상관관계 여부를 분석하며, 이를 평가하기 위한 척도로서\n",
    "공분산<font size='2'>covariance</font>과 상관계수<font size='2'>correlation coefficient</font>를 사용한다."
   ]
  },
  {
   "cell_type": "markdown",
   "metadata": {
    "id": "Y_iWUoeyy2Z-"
   },
   "source": [
    "**기본 설정**"
   ]
  },
  {
   "cell_type": "markdown",
   "metadata": {
    "ExecuteTime": {
     "end_time": "2018-08-03T08:26:15.690793Z",
     "start_time": "2018-08-03T08:26:15.507201Z"
    },
    "id": "5aQQDDnJy2Z-"
   },
   "source": [
    "`numpy`와 `pandas` 라이브러리를 각각 `np`와 `pd`로 불러온다."
   ]
  },
  {
   "cell_type": "code",
   "execution_count": 1,
   "metadata": {
    "ExecuteTime": {
     "end_time": "2018-08-14T06:43:30.149227Z",
     "start_time": "2018-08-14T06:43:29.960007Z"
    },
    "id": "b1_ax_56y2Z_"
   },
   "outputs": [],
   "source": [
    "import numpy as np\n",
    "import pandas as pd"
   ]
  },
  {
   "cell_type": "markdown",
   "metadata": {
    "id": "h9I758Lfy2Z_"
   },
   "source": [
    "데이터프레임의 [chained indexing을 금지시키기 위한 설정](https://pandas.pydata.org/pandas-docs/stable/user_guide/indexing.html#returning-a-view-versus-a-copy)을 지정한다.\n",
    "Pandas 3.0 버전부터는 기본 옵션으로 지정된다."
   ]
  },
  {
   "cell_type": "code",
   "execution_count": 2,
   "metadata": {
    "id": "esWqfouWy2aA"
   },
   "outputs": [],
   "source": [
    "pd.options.mode.copy_on_write = True"
   ]
  },
  {
   "cell_type": "markdown",
   "metadata": {
    "ExecuteTime": {
     "end_time": "2018-08-14T06:43:30.149227Z",
     "start_time": "2018-08-14T06:43:29.960007Z"
    },
    "id": "LF5E8i45y2aA"
   },
   "source": [
    "주피터 노트북에서 부동소수점의 출력을 소수점 이하 6자리로 제한한다.\n",
    "아래 코드는 주피터 노트북에서만 사용하며 일반적인 파이썬 코드가 아니다."
   ]
  },
  {
   "cell_type": "code",
   "execution_count": 3,
   "metadata": {
    "ExecuteTime": {
     "end_time": "2018-08-14T06:43:30.149227Z",
     "start_time": "2018-08-14T06:43:29.960007Z"
    },
    "colab": {
     "base_uri": "https://localhost:8080/",
     "height": 35
    },
    "executionInfo": {
     "elapsed": 4,
     "status": "ok",
     "timestamp": 1752281562272,
     "user": {
      "displayName": "ter wa",
      "userId": "01448980402448893441"
     },
     "user_tz": -540
    },
    "id": "1zmGSeuYy2aA",
    "outputId": "776173f2-e0ba-47c6-d2e5-eb01a32406a6"
   },
   "outputs": [
    {
     "data": {
      "text/plain": [
       "'%.6f'"
      ]
     },
     "execution_count": 3,
     "metadata": {},
     "output_type": "execute_result"
    }
   ],
   "source": [
    "%precision 6"
   ]
  },
  {
   "cell_type": "markdown",
   "metadata": {
    "ExecuteTime": {
     "end_time": "2018-08-14T06:43:30.149227Z",
     "start_time": "2018-08-14T06:43:29.960007Z"
    },
    "id": "10cKZBliy2aB"
   },
   "source": [
    "아래 코드는 데이터프레임 내에서 부동소수점의 출력을 소수점 이하 6자리로 제한한다."
   ]
  },
  {
   "cell_type": "code",
   "execution_count": 4,
   "metadata": {
    "ExecuteTime": {
     "end_time": "2018-08-14T06:43:30.149227Z",
     "start_time": "2018-08-14T06:43:29.960007Z"
    },
    "id": "vjx1IP__y2aB"
   },
   "outputs": [],
   "source": [
    "pd.set_option('display.precision', 6)"
   ]
  },
  {
   "cell_type": "markdown",
   "metadata": {
    "id": "ZVVDcBm2y2aB"
   },
   "source": [
    "데이터 시각화를 위해 `matplotlib.pyplot`를 `plt`라는 별칭으로 불러온다."
   ]
  },
  {
   "cell_type": "code",
   "execution_count": 5,
   "metadata": {
    "id": "C4mK2HOXy2aB"
   },
   "outputs": [],
   "source": [
    "import matplotlib.pyplot as plt"
   ]
  },
  {
   "cell_type": "markdown",
   "metadata": {
    "id": "e_5DPnXfyzyC"
   },
   "source": [
    "코드에 사용되는 [데이터 저장소의 기본 디렉토리](https://github.com/codingalzi/statsRev/tree/master/data)를 지정한다."
   ]
  },
  {
   "cell_type": "code",
   "execution_count": 6,
   "metadata": {
    "id": "qljfqjSxyzyC"
   },
   "outputs": [],
   "source": [
    "data_url = 'https://raw.githubusercontent.com/codingalzi/statsRev/refs/heads/master/data/'"
   ]
  },
  {
   "cell_type": "markdown",
   "metadata": {},
   "source": [
    "## 삶의 만족도 데이터셋"
   ]
  },
  {
   "cell_type": "markdown",
   "metadata": {},
   "source": [
    "OECD(경제협력개발기구)가 2011년부터 매년 발표하는 \n",
    "[**더 나은 삶 지수**<font size='2'>Better Life Index(BLI)</font>](https://www.oecd.org/en/data/tools/oecd-better-life-index.html)는 \n",
    "단순한 경제 성장 지표(GDP 등)를 넘어서,\n",
    "국민의 삶의 질을 다각도로 평가하고 비교하기 위해 만들어진 지표다.\n",
    "\n",
    "더 나은 삶 지수(BLI)는 삶의 질을 구성하는 11개 영역을 기준으로 OECD 회원국의 웰빙 수준을 측정한다.\n",
    "\n",
    "| 항목 | 설명 |\n",
    "|------|------|\n",
    "| 소득 | 가처분 소득 수준 |\n",
    "| 일자리 | 고용률, 일자리 안정성 |\n",
    "| 주거 | 주거 환경과 비용 |\n",
    "| 건강 | 기대수명, 건강 상태 |\n",
    "| 교육 | 교육 수준 및 접근성 |\n",
    "| 환경 | 대기질, 수질 등 |\n",
    "| 공동체 | 사회적 연결과 신뢰 |\n",
    "| 시민참여 | 정치적 참여와 민주적 권리 |\n",
    "| 안전 | 범죄율, 생활 안전 |\n",
    "| 삶의 만족도 | 주관적 행복도 |\n",
    "| 일과 삶의 균형 | 여가 시간, 근로시간 등 |\n",
    "\n",
    "여기서는 11개 지표 중에서 2015년도와 2024년도 OECD 36개 회원국가의 '삶의 만족도' 데이터를 활용한다."
   ]
  },
  {
   "cell_type": "code",
   "execution_count": 7,
   "metadata": {},
   "outputs": [
    {
     "data": {
      "text/html": [
       "<div>\n",
       "<style scoped>\n",
       "    .dataframe tbody tr th:only-of-type {\n",
       "        vertical-align: middle;\n",
       "    }\n",
       "\n",
       "    .dataframe tbody tr th {\n",
       "        vertical-align: top;\n",
       "    }\n",
       "\n",
       "    .dataframe thead th {\n",
       "        text-align: right;\n",
       "    }\n",
       "</style>\n",
       "<table border=\"1\" class=\"dataframe\">\n",
       "  <thead>\n",
       "    <tr style=\"text-align: right;\">\n",
       "      <th></th>\n",
       "      <th>2015</th>\n",
       "      <th>2024</th>\n",
       "    </tr>\n",
       "    <tr>\n",
       "      <th>Country</th>\n",
       "      <th></th>\n",
       "      <th></th>\n",
       "    </tr>\n",
       "  </thead>\n",
       "  <tbody>\n",
       "    <tr>\n",
       "      <th>Australia</th>\n",
       "      <td>7.3</td>\n",
       "      <td>7.1</td>\n",
       "    </tr>\n",
       "    <tr>\n",
       "      <th>Austria</th>\n",
       "      <td>6.9</td>\n",
       "      <td>7.2</td>\n",
       "    </tr>\n",
       "    <tr>\n",
       "      <th>Belgium</th>\n",
       "      <td>6.9</td>\n",
       "      <td>6.8</td>\n",
       "    </tr>\n",
       "    <tr>\n",
       "      <th>Brazil</th>\n",
       "      <td>7.0</td>\n",
       "      <td>6.1</td>\n",
       "    </tr>\n",
       "    <tr>\n",
       "      <th>Canada</th>\n",
       "      <td>7.3</td>\n",
       "      <td>7.0</td>\n",
       "    </tr>\n",
       "    <tr>\n",
       "      <th>Chile</th>\n",
       "      <td>6.7</td>\n",
       "      <td>6.2</td>\n",
       "    </tr>\n",
       "    <tr>\n",
       "      <th>Czech Republic</th>\n",
       "      <td>6.5</td>\n",
       "      <td>6.9</td>\n",
       "    </tr>\n",
       "    <tr>\n",
       "      <th>Denmark</th>\n",
       "      <td>7.5</td>\n",
       "      <td>7.5</td>\n",
       "    </tr>\n",
       "    <tr>\n",
       "      <th>Estonia</th>\n",
       "      <td>5.6</td>\n",
       "      <td>6.5</td>\n",
       "    </tr>\n",
       "    <tr>\n",
       "      <th>Finland</th>\n",
       "      <td>7.4</td>\n",
       "      <td>7.9</td>\n",
       "    </tr>\n",
       "    <tr>\n",
       "      <th>France</th>\n",
       "      <td>6.5</td>\n",
       "      <td>6.7</td>\n",
       "    </tr>\n",
       "    <tr>\n",
       "      <th>Germany</th>\n",
       "      <td>7.0</td>\n",
       "      <td>7.3</td>\n",
       "    </tr>\n",
       "    <tr>\n",
       "      <th>Greece</th>\n",
       "      <td>4.8</td>\n",
       "      <td>5.8</td>\n",
       "    </tr>\n",
       "    <tr>\n",
       "      <th>Hungary</th>\n",
       "      <td>4.9</td>\n",
       "      <td>6.0</td>\n",
       "    </tr>\n",
       "    <tr>\n",
       "      <th>Iceland</th>\n",
       "      <td>7.5</td>\n",
       "      <td>7.6</td>\n",
       "    </tr>\n",
       "    <tr>\n",
       "      <th>Ireland</th>\n",
       "      <td>7.0</td>\n",
       "      <td>7.0</td>\n",
       "    </tr>\n",
       "    <tr>\n",
       "      <th>Israel</th>\n",
       "      <td>7.4</td>\n",
       "      <td>7.2</td>\n",
       "    </tr>\n",
       "    <tr>\n",
       "      <th>Italy</th>\n",
       "      <td>6.0</td>\n",
       "      <td>6.5</td>\n",
       "    </tr>\n",
       "    <tr>\n",
       "      <th>Japan</th>\n",
       "      <td>5.9</td>\n",
       "      <td>6.1</td>\n",
       "    </tr>\n",
       "    <tr>\n",
       "      <th>Korea</th>\n",
       "      <td>5.8</td>\n",
       "      <td>5.8</td>\n",
       "    </tr>\n",
       "    <tr>\n",
       "      <th>Luxembourg</th>\n",
       "      <td>6.9</td>\n",
       "      <td>7.4</td>\n",
       "    </tr>\n",
       "    <tr>\n",
       "      <th>Mexico</th>\n",
       "      <td>6.7</td>\n",
       "      <td>6.0</td>\n",
       "    </tr>\n",
       "    <tr>\n",
       "      <th>Netherlands</th>\n",
       "      <td>7.3</td>\n",
       "      <td>7.5</td>\n",
       "    </tr>\n",
       "    <tr>\n",
       "      <th>New Zealand</th>\n",
       "      <td>7.3</td>\n",
       "      <td>7.3</td>\n",
       "    </tr>\n",
       "    <tr>\n",
       "      <th>Norway</th>\n",
       "      <td>7.4</td>\n",
       "      <td>7.3</td>\n",
       "    </tr>\n",
       "    <tr>\n",
       "      <th>Poland</th>\n",
       "      <td>5.8</td>\n",
       "      <td>6.1</td>\n",
       "    </tr>\n",
       "    <tr>\n",
       "      <th>Portugal</th>\n",
       "      <td>5.1</td>\n",
       "      <td>5.8</td>\n",
       "    </tr>\n",
       "    <tr>\n",
       "      <th>Russia</th>\n",
       "      <td>6.0</td>\n",
       "      <td>5.5</td>\n",
       "    </tr>\n",
       "    <tr>\n",
       "      <th>Slovak Republic</th>\n",
       "      <td>6.1</td>\n",
       "      <td>6.5</td>\n",
       "    </tr>\n",
       "    <tr>\n",
       "      <th>Slovenia</th>\n",
       "      <td>5.7</td>\n",
       "      <td>6.5</td>\n",
       "    </tr>\n",
       "    <tr>\n",
       "      <th>Spain</th>\n",
       "      <td>6.5</td>\n",
       "      <td>6.5</td>\n",
       "    </tr>\n",
       "    <tr>\n",
       "      <th>Sweden</th>\n",
       "      <td>7.2</td>\n",
       "      <td>7.3</td>\n",
       "    </tr>\n",
       "    <tr>\n",
       "      <th>Switzerland</th>\n",
       "      <td>7.5</td>\n",
       "      <td>7.5</td>\n",
       "    </tr>\n",
       "    <tr>\n",
       "      <th>Türkiye</th>\n",
       "      <td>5.6</td>\n",
       "      <td>4.9</td>\n",
       "    </tr>\n",
       "    <tr>\n",
       "      <th>United Kingdom</th>\n",
       "      <td>6.8</td>\n",
       "      <td>6.8</td>\n",
       "    </tr>\n",
       "    <tr>\n",
       "      <th>United States</th>\n",
       "      <td>7.2</td>\n",
       "      <td>7.0</td>\n",
       "    </tr>\n",
       "  </tbody>\n",
       "</table>\n",
       "</div>"
      ],
      "text/plain": [
       "                 2015  2024\n",
       "Country                    \n",
       "Australia         7.3   7.1\n",
       "Austria           6.9   7.2\n",
       "Belgium           6.9   6.8\n",
       "Brazil            7.0   6.1\n",
       "Canada            7.3   7.0\n",
       "Chile             6.7   6.2\n",
       "Czech Republic    6.5   6.9\n",
       "Denmark           7.5   7.5\n",
       "Estonia           5.6   6.5\n",
       "Finland           7.4   7.9\n",
       "France            6.5   6.7\n",
       "Germany           7.0   7.3\n",
       "Greece            4.8   5.8\n",
       "Hungary           4.9   6.0\n",
       "Iceland           7.5   7.6\n",
       "Ireland           7.0   7.0\n",
       "Israel            7.4   7.2\n",
       "Italy             6.0   6.5\n",
       "Japan             5.9   6.1\n",
       "Korea             5.8   5.8\n",
       "Luxembourg        6.9   7.4\n",
       "Mexico            6.7   6.0\n",
       "Netherlands       7.3   7.5\n",
       "New Zealand       7.3   7.3\n",
       "Norway            7.4   7.3\n",
       "Poland            5.8   6.1\n",
       "Portugal          5.1   5.8\n",
       "Russia            6.0   5.5\n",
       "Slovak Republic   6.1   6.5\n",
       "Slovenia          5.7   6.5\n",
       "Spain             6.5   6.5\n",
       "Sweden            7.2   7.3\n",
       "Switzerland       7.5   7.5\n",
       "Türkiye           5.6   4.9\n",
       "United Kingdom    6.8   6.8\n",
       "United States     7.2   7.0"
      ]
     },
     "execution_count": 7,
     "metadata": {},
     "output_type": "execute_result"
    }
   ],
   "source": [
    "life_satisfaction = pd.read_csv(data_url + \"life_satisfaction_2015_2024.csv\", index_col='Country')\n",
    "life_satisfaction"
   ]
  },
  {
   "cell_type": "markdown",
   "metadata": {},
   "source": [
    "연도별로 각각 36개의 부동소수점이 포함되어 있음을 확인한다."
   ]
  },
  {
   "cell_type": "code",
   "execution_count": 8,
   "metadata": {},
   "outputs": [
    {
     "name": "stdout",
     "output_type": "stream",
     "text": [
      "<class 'pandas.core.frame.DataFrame'>\n",
      "Index: 36 entries, Australia to United States\n",
      "Data columns (total 2 columns):\n",
      " #   Column  Non-Null Count  Dtype  \n",
      "---  ------  --------------  -----  \n",
      " 0   2015    36 non-null     float64\n",
      " 1   2024    36 non-null     float64\n",
      "dtypes: float64(2)\n",
      "memory usage: 864.0+ bytes\n"
     ]
    }
   ],
   "source": [
    "life_satisfaction.info()"
   ]
  },
  {
   "cell_type": "markdown",
   "metadata": {
    "id": "jzs7oeJkyzyH"
   },
   "source": [
    "## 상관관계와 산점도"
   ]
  },
  {
   "cell_type": "markdown",
   "metadata": {
    "id": "hlQ607NFyzyH"
   },
   "source": [
    "2015년도 국가별 삶의 만족도와 2024년도 국가별 삶의 만족도 사이의 상관관계 여부를 시각적으로 확인하기 위해\n",
    "**산점도**<font size='2'>scatter plot</font>를 그려본다.\n",
    "산점도는 `matplotlib.pyplot` 라이브러리에 포함된 `scatter()` 함수를 이용하여 그린다."
   ]
  },
  {
   "cell_type": "markdown",
   "metadata": {},
   "source": [
    "먼저 2015년 데이터와 2024년 데이터를 나눠 넘파이 어레이로 지정한다."
   ]
  },
  {
   "cell_type": "code",
   "execution_count": 10,
   "metadata": {
    "id": "57jAFq-Ay2aC"
   },
   "outputs": [],
   "source": [
    "life_satisfaction_2015 = np.array(life_satisfaction['2015'])\n",
    "life_satisfaction_2024 = np.array(life_satisfaction['2024'])"
   ]
  },
  {
   "cell_type": "markdown",
   "metadata": {
    "id": "hlQ607NFyzyH"
   },
   "source": [
    "아래 코드에서 그리는 산점도는 x-축이 2015년도 국가별 삶의 만족도, y-축이 2024년도 국가별 삶의 만족도다."
   ]
  },
  {
   "cell_type": "code",
   "execution_count": 24,
   "metadata": {
    "colab": {
     "base_uri": "https://localhost:8080/",
     "height": 455
    },
    "executionInfo": {
     "elapsed": 163,
     "status": "ok",
     "timestamp": 1752244274422,
     "user": {
      "displayName": "ter wa",
      "userId": "01448980402448893441"
     },
     "user_tz": -540
    },
    "id": "_Unp0fVPyzyH",
    "outputId": "6e5f33d8-eff8-467d-8069-47a2830f74f4"
   },
   "outputs": [
    {
     "data": {
      "image/png": "[encoded data removed]",
      "text/plain": [
       "<Figure size 640x480 with 1 Axes>"
      ]
     },
     "metadata": {},
     "output_type": "display_data"
    }
   ],
   "source": [
    "plt.scatter(life_satisfaction_2015, life_satisfaction_2024)\n",
    "\n",
    "plt.xlabel('2015')\n",
    "plt.ylabel('2024')\n",
    "\n",
    "plt.show()"
   ]
  },
  {
   "cell_type": "markdown",
   "metadata": {
    "id": "RxGoNhZsyzyH"
   },
   "source": [
    "위 산점도는 2015년도 국가별 삶의 만족도가 높아질수록 2024년도 국가별 삶의 만족도도 올라가는 경향이 있음을 보여준다.\n",
    "즉 두 데이터는 양의 선형 상관관계를 갖는다고 추측할 수 있다.\n",
    "\n",
    "이제 선형 상관관계를 수치화한 두 가지 척도, \n",
    "**공분산**<font size='2'>covariance</font>과 \n",
    "**상관계수**<font size='2'>correlation coefficient</font>를 통해 살펴보자. \n",
    "먼저 공분산을 소개한다."
   ]
  },
  {
   "cell_type": "markdown",
   "metadata": {
    "id": "9pNdpwuoyzyH"
   },
   "source": [
    "## 공분산"
   ]
  },
  {
   "cell_type": "markdown",
   "metadata": {
    "id": "vVODmDbqjH49"
   },
   "source": [
    "{numref}`%s장 <ch:representatives>`에서\n",
    "다룬 분산<font size='2'>variance</font>은 한 종류의 데이터 \n",
    "$X=\\{ x_1,\\cdots, x_n \\}$에 대해 샘플값들의 편차의 제곱의 평균값이다.\n",
    "아래 식과 같이 계산되며, 샘플값들이 평균으로부터 떨어져있는 정도를 나타내는 양의 측정치이다."
   ]
  },
  {
   "cell_type": "markdown",
   "metadata": {
    "id": "igfcDNLryk92"
   },
   "source": [
    "$$\n",
    "S_X^2 = \\frac 1 n \\sum_{i=1}^{n} (x_i - \\bar x)^2 = \\frac 1 n \\left\\{(x_1 - \\bar x)^2 + (x_2 - \\bar x)^2 + \\cdots + (x_n - \\bar x)^2 \\right \\}\n",
    "$$"
   ]
  },
  {
   "cell_type": "markdown",
   "metadata": {
    "id": "CVBUHuS9okpy"
   },
   "source": [
    "\n",
    "공분산<font size='2'>covariance</font>은 두 종류의 데이터 $X=\\{ x_1, \\cdots, x_n \\}$와 $Y=\\{ y_1,\n",
    "\\cdots, y_n \\}$에 대해 다음과 같이 정의하며 $S_{XY}$로 표기하자."
   ]
  },
  {
   "cell_type": "markdown",
   "metadata": {
    "id": "UhzCCU5Six9H"
   },
   "source": [
    "$$\n",
    "\\begin{align*}\n",
    "S_{XY} & = \\frac 1 n \\sum_{i=1}^{n} (x_i - \\bar x)(y_i - \\bar y) \\\\\n",
    "&= \\frac 1 n \\left\\{ (x_1 - \\bar x)(y_1 - \\bar y) + (x_2 - \\bar x)(y_2 - \\bar y) + \\cdots + (x_n - \\bar x)(y_n - \\bar y) \\right\\}\n",
    "\\end{align*}\n",
    "$$"
   ]
  },
  {
   "cell_type": "markdown",
   "metadata": {
    "id": "q315fyyHix9G"
   },
   "source": [
    "위의 두 식으로부터 알 수 있는 사실은, 분산과 달리 공분산은 음수가 나올 수 있다는 것이다.\n",
    "분산은 한 종류의 데이터에 대해 편차의 제곱의 평균이므로 항상 양의 값을 갖는다. 하지만 공분산은 두 종류의 데이터에 대해 편차의 곱의 평균인데, 곱해지는 편차의 부호가 다른 항들은 음수가 되므로 평균 또한 음수가 될 수 있다."
   ]
  },
  {
   "cell_type": "markdown",
   "metadata": {
    "id": "WdbbKXhcz9jz"
   },
   "source": [
    "넘파이와 판다스 모두 공분산을 계산하는 API를 제공하는데, 넘파이의 `cov()` 함수와 데이터프레임의 `cov()` 메서드가 그것이다."
   ]
  },
  {
   "cell_type": "markdown",
   "metadata": {
    "id": "NEMnb9tEyzyI"
   },
   "source": [
    "**넘파이의 `cov()` 함수**"
   ]
  },
  {
   "cell_type": "markdown",
   "metadata": {
    "id": "XI9tivFCyzyI"
   },
   "source": [
    "아래 코드는 넘파이의 `cov()` 함수를 이용해 두 데이터의 공분산을 계산한다. (2, 2) 행렬 모양의 어레이가 생성되는데, 이 어레이의 항목별 의미는 다음과 같다.\n",
    "\n",
    "| 인덱스 | 의미 |\n",
    "| :---: | :--- |\n",
    "| `[0, 0]` | 2015년도 삶의 만족도의 분산 |\n",
    "| `[0, 1]` | 2015년도 삶의 만족도와 2024년도 삶의 만족도의 공분산 |\n",
    "| `[1, 0]` | 2024년도 삶의 만족도와 2015년도 삶의 만족도의 공분산 |\n",
    "| `[1, 1]` | 2024년도 삶의 만족도의 분산 |"
   ]
  },
  {
   "cell_type": "code",
   "execution_count": 12,
   "metadata": {
    "ExecuteTime": {
     "end_time": "2018-08-14T06:40:19.575907Z",
     "start_time": "2018-08-14T06:40:19.571427Z"
    },
    "colab": {
     "base_uri": "https://localhost:8080/"
    },
    "executionInfo": {
     "elapsed": 26,
     "status": "ok",
     "timestamp": 1752244274517,
     "user": {
      "displayName": "ter wa",
      "userId": "01448980402448893441"
     },
     "user_tz": -540
    },
    "id": "dy1vtlbtyzyI",
    "outputId": "4925ebca-6a74-4414-c7ac-1f1cfee74e5e"
   },
   "outputs": [
    {
     "data": {
      "text/plain": [
       "array([[0.605278, 0.428009],\n",
       "       [0.428009, 0.464159]])"
      ]
     },
     "execution_count": 12,
     "metadata": {},
     "output_type": "execute_result"
    }
   ],
   "source": [
    "cov_mat = np.cov(life_satisfaction_2015, life_satisfaction_2024, ddof=0)\n",
    "cov_mat"
   ]
  },
  {
   "cell_type": "markdown",
   "metadata": {
    "id": "1IBjV_XEyzyJ"
   },
   "source": [
    "공분산의 계산식으로부터 알 수 있듯이, '2015년도 국가별 삶의 만족도와 2024년도 국가별 삶의 만족도의 공분산'과\n",
    "'2024년도 국가별 삶의 만족도와 2015년도 국가별 삶의 만족도의 공분산'은 동일하다. \n",
    "아래 두 코드는 각 연도별 공분산은 해당 연도의 표본분산과 일치하는지 확인해준다."
   ]
  },
  {
   "cell_type": "code",
   "execution_count": 13,
   "metadata": {
    "ExecuteTime": {
     "end_time": "2018-08-14T06:40:19.588330Z",
     "start_time": "2018-08-14T06:40:19.584646Z"
    },
    "colab": {
     "base_uri": "https://localhost:8080/"
    },
    "executionInfo": {
     "elapsed": 7,
     "status": "ok",
     "timestamp": 1752244274523,
     "user": {
      "displayName": "ter wa",
      "userId": "01448980402448893441"
     },
     "user_tz": -540
    },
    "id": "83gmu3FVyzyJ",
    "outputId": "2d332997-b489-4ec1-9319-926f107c2bd0"
   },
   "outputs": [
    {
     "name": "stdout",
     "output_type": "stream",
     "text": [
      "2015년도 국가별 삶의 만족도 분산: 0.6052777777777778\n"
     ]
    }
   ],
   "source": [
    "print(\"2015년도 국가별 삶의 만족도 분산:\", np.var(life_satisfaction_2015, ddof=0))"
   ]
  },
  {
   "cell_type": "code",
   "execution_count": 14,
   "metadata": {
    "ExecuteTime": {
     "end_time": "2018-08-14T06:40:19.588330Z",
     "start_time": "2018-08-14T06:40:19.584646Z"
    },
    "colab": {
     "base_uri": "https://localhost:8080/"
    },
    "executionInfo": {
     "elapsed": 4,
     "status": "ok",
     "timestamp": 1752244274528,
     "user": {
      "displayName": "ter wa",
      "userId": "01448980402448893441"
     },
     "user_tz": -540
    },
    "id": "MTMWUC8OyzyJ",
    "outputId": "539d359e-ae22-41f1-8c8f-a4521ab9f19d"
   },
   "outputs": [
    {
     "name": "stdout",
     "output_type": "stream",
     "text": [
      "2024년도 국가별 삶의 만족도분산: 0.46415895061728396\n"
     ]
    }
   ],
   "source": [
    "print(\"2024년도 국가별 삶의 만족도분산:\", np.var(life_satisfaction_2024, ddof=0))"
   ]
  },
  {
   "cell_type": "markdown",
   "metadata": {
    "id": "KD-IwghzyzyJ"
   },
   "source": [
    "**데이터프레임의 `cov()` 메서드**"
   ]
  },
  {
   "cell_type": "markdown",
   "metadata": {
    "id": "6hsFWGONyzyJ"
   },
   "source": [
    "데이터프레임 객체의 `cov()` 메서드는 모든 특성들 사이의 공분산을 계산한다.\n",
    "데이터프레임`life_satisfaction`에 `2015`와 `2024` 두 개의 특성이 있으므로, (2, 2) 행렬 모양의 데이터프레임을 생성한다.\n",
    "\n",
    "앞서 `np.cov()`의 반환값을 설명할 때 사용된 인덱스가 여기서는 특성명으로 대체된다."
   ]
  },
  {
   "cell_type": "code",
   "execution_count": 15,
   "metadata": {
    "colab": {
     "base_uri": "https://localhost:8080/",
     "height": 112
    },
    "executionInfo": {
     "elapsed": 14,
     "status": "ok",
     "timestamp": 1752244274542,
     "user": {
      "displayName": "ter wa",
      "userId": "01448980402448893441"
     },
     "user_tz": -540
    },
    "id": "xKGMSQwNyzyJ",
    "outputId": "cd0a55e4-efbd-4f7e-ef38-8425919f6ce6"
   },
   "outputs": [
    {
     "data": {
      "text/html": [
       "<div>\n",
       "<style scoped>\n",
       "    .dataframe tbody tr th:only-of-type {\n",
       "        vertical-align: middle;\n",
       "    }\n",
       "\n",
       "    .dataframe tbody tr th {\n",
       "        vertical-align: top;\n",
       "    }\n",
       "\n",
       "    .dataframe thead th {\n",
       "        text-align: right;\n",
       "    }\n",
       "</style>\n",
       "<table border=\"1\" class=\"dataframe\">\n",
       "  <thead>\n",
       "    <tr style=\"text-align: right;\">\n",
       "      <th></th>\n",
       "      <th>2015</th>\n",
       "      <th>2024</th>\n",
       "    </tr>\n",
       "  </thead>\n",
       "  <tbody>\n",
       "    <tr>\n",
       "      <th>2015</th>\n",
       "      <td>0.605278</td>\n",
       "      <td>0.428009</td>\n",
       "    </tr>\n",
       "    <tr>\n",
       "      <th>2024</th>\n",
       "      <td>0.428009</td>\n",
       "      <td>0.464159</td>\n",
       "    </tr>\n",
       "  </tbody>\n",
       "</table>\n",
       "</div>"
      ],
      "text/plain": [
       "          2015      2024\n",
       "2015  0.605278  0.428009\n",
       "2024  0.428009  0.464159"
      ]
     },
     "execution_count": 15,
     "metadata": {},
     "output_type": "execute_result"
    }
   ],
   "source": [
    "life_satisfaction.cov(ddof=0)"
   ]
  },
  {
   "cell_type": "markdown",
   "metadata": {
    "id": "2vWqG1OdyzyJ"
   },
   "source": [
    "**참고**\n",
    "\n",
    "`ddof=1`로 지정하면 불편분산이 계산된다."
   ]
  },
  {
   "cell_type": "code",
   "execution_count": 16,
   "metadata": {
    "ExecuteTime": {
     "end_time": "2018-08-14T06:40:19.575907Z",
     "start_time": "2018-08-14T06:40:19.571427Z"
    },
    "colab": {
     "base_uri": "https://localhost:8080/"
    },
    "executionInfo": {
     "elapsed": 22,
     "status": "ok",
     "timestamp": 1752244274566,
     "user": {
      "displayName": "ter wa",
      "userId": "01448980402448893441"
     },
     "user_tz": -540
    },
    "id": "CXSx1vJEyzyK",
    "outputId": "18ee09c7-d445-4123-aec3-0ee7948c404e"
   },
   "outputs": [
    {
     "data": {
      "text/plain": [
       "array([[0.622571, 0.440238],\n",
       "       [0.440238, 0.477421]])"
      ]
     },
     "execution_count": 16,
     "metadata": {},
     "output_type": "execute_result"
    }
   ],
   "source": [
    "cov_mat = np.cov(life_satisfaction_2015, life_satisfaction_2024, ddof=1)\n",
    "cov_mat"
   ]
  },
  {
   "cell_type": "code",
   "execution_count": 17,
   "metadata": {
    "colab": {
     "base_uri": "https://localhost:8080/",
     "height": 112
    },
    "executionInfo": {
     "elapsed": 22,
     "status": "ok",
     "timestamp": 1752244274586,
     "user": {
      "displayName": "ter wa",
      "userId": "01448980402448893441"
     },
     "user_tz": -540
    },
    "id": "SzSZyRgryzyK",
    "outputId": "773b99a2-bf65-41dc-8668-a3f4f959f7f8"
   },
   "outputs": [
    {
     "data": {
      "text/html": [
       "<div>\n",
       "<style scoped>\n",
       "    .dataframe tbody tr th:only-of-type {\n",
       "        vertical-align: middle;\n",
       "    }\n",
       "\n",
       "    .dataframe tbody tr th {\n",
       "        vertical-align: top;\n",
       "    }\n",
       "\n",
       "    .dataframe thead th {\n",
       "        text-align: right;\n",
       "    }\n",
       "</style>\n",
       "<table border=\"1\" class=\"dataframe\">\n",
       "  <thead>\n",
       "    <tr style=\"text-align: right;\">\n",
       "      <th></th>\n",
       "      <th>2015</th>\n",
       "      <th>2024</th>\n",
       "    </tr>\n",
       "  </thead>\n",
       "  <tbody>\n",
       "    <tr>\n",
       "      <th>2015</th>\n",
       "      <td>0.622571</td>\n",
       "      <td>0.440238</td>\n",
       "    </tr>\n",
       "    <tr>\n",
       "      <th>2024</th>\n",
       "      <td>0.440238</td>\n",
       "      <td>0.477421</td>\n",
       "    </tr>\n",
       "  </tbody>\n",
       "</table>\n",
       "</div>"
      ],
      "text/plain": [
       "          2015      2024\n",
       "2015  0.622571  0.440238\n",
       "2024  0.440238  0.477421"
      ]
     },
     "execution_count": 17,
     "metadata": {},
     "output_type": "execute_result"
    }
   ],
   "source": [
    "life_satisfaction.cov(ddof=1)"
   ]
  },
  {
   "cell_type": "markdown",
   "metadata": {
    "id": "Mv17VU2IyzyK"
   },
   "source": [
    "## 상관계수"
   ]
  },
  {
   "cell_type": "markdown",
   "metadata": {
    "id": "CVbdkWGMyzyK"
   },
   "source": [
    "공분산은 데이터의 크기와 단위에 따라 계산된 값의 크기와 단위가 달라진다.\n",
    "예를 들어 학생들의 키와 체중을 대상으로 공분산을 계산한다면 단위가 `cm * kg`이 되고,\n",
    "멀리뛰기와 오래 매달리기의 공분산은 단위가 `m * sec`이 된다.\n",
    "또한, 동일한 단위를 사용한다 하더라도 데이터 값의 척도(scale)에 따라 공분산 값도 많이 달라질 수 있다."
   ]
  },
  {
   "cell_type": "markdown",
   "metadata": {
    "id": "Lq68SflNyzyK"
   },
   "source": [
    "따라서 공분산 값의 절대적 크기는 선형 상관관계의 강도를 측정하는 기준이 될 수 없다. 이 점을 보완한 척도가 **상관계수**<font size='2'>correlation coefficient</font>이다. 여러가지 상관계수가 있으나, 가장 대표적인 것이 **피어슨 상관계수**<font size='2'>Pearson correlation coefficient</font>이다. 데이터 $X$와 $Y$의 피어슨 상관계수 $r_{XY}$는 공분산 $S_{XY}$을 각 데이터의 표준편차 $S_X$와 $S_Y$로 나눈 값이다. 아래 계산식으로부터 알 수 있듯이, 두 데이터의 단위 및 척도(scale)와 무관한, 항상 -1과 1 사이의 값이 나온다."
   ]
  },
  {
   "cell_type": "markdown",
   "metadata": {
    "id": "vPvlgrdtyzyK"
   },
   "source": [
    "$$\n",
    "r_{xy} = \\frac{S_{xy}}{S_x \\cdot S_y}\n",
    "$$"
   ]
  },
  {
   "cell_type": "markdown",
   "metadata": {
    "id": "Zws2WzGvyzyK"
   },
   "source": [
    "피어슨 상관계수의 값으로부터 두 데이터의 상관관계는 다음과 같이 평가된다.\n",
    "\n",
    "| 상관계수 | 의미 |\n",
    "| :--- | :--- |\n",
    "| 1에 가까운 값 | 양의 상관관계가 강함 |\n",
    "| -1에 가까운 값 | 음의 상관관계가 강함 |\n",
    "| 0에 가까운 값 | 상관관계가 거의 없음 |"
   ]
  },
  {
   "cell_type": "markdown",
   "metadata": {
    "id": "AAxmva7CyzyK"
   },
   "source": [
    "아래 그림은 다양한 상관계수에 대응되는 산점도들이다.\n",
    "상관계수의 절댓값이 1에 가까워질수록 산점도가 직선에 가까워지며,\n",
    "0에 가까워질수록 산점도가 여러 방향으로 넓게 퍼져 두 데이터의 상관관계가 모호해진다."
   ]
  },
  {
   "cell_type": "markdown",
   "metadata": {
    "id": "uT9yak6ayzyK"
   },
   "source": [
    "<p><div align=\"center\"><img src=\"https://github.com/codingalzi/statsRev/blob/master/jupyter-book/images/pearson_correlation.png?raw=true\" style=\"width:700px\"></div></p>\n",
    "\n",
    "<p><div style=\"text-align: center\">&lt;그림 출처: <a href=\"https://en.wikipedia.org/wiki/Pearson_correlation_coefficient\">(Wikipedia) 피어슨 상관계수</a>&gt;</div></p>"
   ]
  },
  {
   "cell_type": "markdown",
   "metadata": {
    "id": "N9otyIt6yzyK"
   },
   "source": [
    "**`np.corrcoef()` 함수**"
   ]
  },
  {
   "cell_type": "markdown",
   "metadata": {
    "id": "PyUBCrx7yzyK"
   },
   "source": [
    "상관계수는 넘파이의 `corrcoef()` 함수와 데이터프레임의 `corr()` 메서드로 계산할 수 있다.\n",
    "\n",
    "넘파이 `corrcoef()` 함수의 반환값 모양과 항목별 의미는 공분산 `cov()` 함수의 경우와 동일하다.\n",
    "2015년도 국가별 삶의 만족도와 2024년도 국가별 삶의 만족도의 상관계수는 0.81정도로,\n",
    "두 데이터 사이의 선형 상관관계는 매우 크다고 평가할 수 있다.\n",
    "즉, 2015년도의 삶의 만족도가 높을 수록 10여년 뒤의 삶의 만족도도 높은 경향이 강하다."
   ]
  },
  {
   "cell_type": "code",
   "execution_count": 21,
   "metadata": {
    "ExecuteTime": {
     "end_time": "2018-08-14T06:40:19.597039Z",
     "start_time": "2018-08-14T06:40:19.593315Z"
    },
    "colab": {
     "base_uri": "https://localhost:8080/"
    },
    "executionInfo": {
     "elapsed": 21,
     "status": "ok",
     "timestamp": 1752244274608,
     "user": {
      "displayName": "ter wa",
      "userId": "01448980402448893441"
     },
     "user_tz": -540
    },
    "id": "5olg1_FgyzyK",
    "outputId": "2799145b-3591-4211-c89d-fe9c43856651"
   },
   "outputs": [
    {
     "data": {
      "text/plain": [
       "array([[1.    , 0.8075],\n",
       "       [0.8075, 1.    ]])"
      ]
     },
     "execution_count": 21,
     "metadata": {},
     "output_type": "execute_result"
    }
   ],
   "source": [
    "np.corrcoef(life_satisfaction_2015, life_satisfaction_2024)"
   ]
  },
  {
   "cell_type": "markdown",
   "metadata": {
    "id": "SDPUjSCoyzyL"
   },
   "source": [
    "**데이터프레임의 `corr()` 메서드**"
   ]
  },
  {
   "cell_type": "markdown",
   "metadata": {
    "id": "ODnD1EQdyzyL"
   },
   "source": [
    "데이터프레임의 `corr()` 메서드도 동일한 결과를 보여준다."
   ]
  },
  {
   "cell_type": "code",
   "execution_count": 22,
   "metadata": {
    "ExecuteTime": {
     "end_time": "2018-08-14T06:40:19.602887Z",
     "start_time": "2018-08-14T06:40:19.598025Z"
    },
    "colab": {
     "base_uri": "https://localhost:8080/",
     "height": 112
    },
    "executionInfo": {
     "elapsed": 40,
     "status": "ok",
     "timestamp": 1752244274636,
     "user": {
      "displayName": "ter wa",
      "userId": "01448980402448893441"
     },
     "user_tz": -540
    },
    "id": "cZluPGSkyzyL",
    "outputId": "f98bfefe-7a0d-415d-ff4c-2b19aecfba26"
   },
   "outputs": [
    {
     "data": {
      "text/html": [
       "<div>\n",
       "<style scoped>\n",
       "    .dataframe tbody tr th:only-of-type {\n",
       "        vertical-align: middle;\n",
       "    }\n",
       "\n",
       "    .dataframe tbody tr th {\n",
       "        vertical-align: top;\n",
       "    }\n",
       "\n",
       "    .dataframe thead th {\n",
       "        text-align: right;\n",
       "    }\n",
       "</style>\n",
       "<table border=\"1\" class=\"dataframe\">\n",
       "  <thead>\n",
       "    <tr style=\"text-align: right;\">\n",
       "      <th></th>\n",
       "      <th>2015</th>\n",
       "      <th>2024</th>\n",
       "    </tr>\n",
       "  </thead>\n",
       "  <tbody>\n",
       "    <tr>\n",
       "      <th>2015</th>\n",
       "      <td>1.0000</td>\n",
       "      <td>0.8075</td>\n",
       "    </tr>\n",
       "    <tr>\n",
       "      <th>2024</th>\n",
       "      <td>0.8075</td>\n",
       "      <td>1.0000</td>\n",
       "    </tr>\n",
       "  </tbody>\n",
       "</table>\n",
       "</div>"
      ],
      "text/plain": [
       "        2015    2024\n",
       "2015  1.0000  0.8075\n",
       "2024  0.8075  1.0000"
      ]
     },
     "execution_count": 22,
     "metadata": {},
     "output_type": "execute_result"
    }
   ],
   "source": [
    "life_satisfaction.corr()"
   ]
  },
  {
   "cell_type": "markdown",
   "metadata": {
    "id": "hNV4zQ0yyzyL"
   },
   "source": [
    "## 연습문제"
   ]
  },
  {
   "cell_type": "markdown",
   "metadata": {
    "id": "5bjhPjaCyzyL"
   },
   "source": [
    "참고: [(연습) 2차원 데이터](https://colab.research.google.com/github/codingalzi/statsRev/blob/master/practices/practice-twoD_data.ipynb)"
   ]
  }
 ],
 "metadata": {
  "colab": {
   "provenance": [
    {
     "file_id": "https://github.com/codingalzi/statsRev/blob/master/jupyter-book/twoD_data.ipynb",
     "timestamp": 1751084909747
    }
   ],
   "toc_visible": true
  },
  "kernelspec": {
   "display_name": "Python 3 (ipykernel)",
   "language": "python",
   "name": "python3"
  },
  "language_info": {
   "codemirror_mode": {
    "name": "ipython",
    "version": 3
   },
   "file_extension": ".py",
   "mimetype": "text/x-python",
   "name": "python",
   "nbconvert_exporter": "python",
   "pygments_lexer": "ipython3",
   "version": "3.12.2"
  },
  "toc": {
   "nav_menu": {},
   "number_sections": true,
   "sideBar": true,
   "skip_h1_title": false,
   "toc_cell": false,
   "toc_position": {},
   "toc_section_display": "block",
   "toc_window_display": false
  }
 },
 "nbformat": 4,
 "nbformat_minor": 1
}