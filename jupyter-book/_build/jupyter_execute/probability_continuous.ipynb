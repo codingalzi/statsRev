{
 "cells": [
  {
   "cell_type": "markdown",
   "metadata": {
    "ExecuteTime": {
     "end_time": "2018-03-06T03:37:40.696920Z",
     "start_time": "2018-03-06T03:37:40.690655Z"
    },
    "id": "dveobPZmGLdR"
   },
   "source": [
    "(ch:probability-continuous)=\n",
    "# 연속확률분포"
   ]
  },
  {
   "cell_type": "markdown",
   "metadata": {
    "id": "Lhj-DzebGLdS"
   },
   "source": [
    "**기본 설정**"
   ]
  },
  {
   "cell_type": "markdown",
   "metadata": {
    "ExecuteTime": {
     "end_time": "2018-08-03T08:26:15.690793Z",
     "start_time": "2018-08-03T08:26:15.507201Z"
    },
    "id": "i51p5L6qGLdT"
   },
   "source": [
    "`numpy`와 `pandas` 라이브러리를 각각 `np`와 `pd`로 불러온다."
   ]
  },
  {
   "cell_type": "code",
   "execution_count": 1,
   "metadata": {
    "ExecuteTime": {
     "end_time": "2018-08-14T06:43:30.149227Z",
     "start_time": "2018-08-14T06:43:29.960007Z"
    },
    "executionInfo": {
     "elapsed": 45,
     "status": "ok",
     "timestamp": 1752768590120,
     "user": {
      "displayName": "ter wa",
      "userId": "01448980402448893441"
     },
     "user_tz": -540
    },
    "id": "13gn34_zGLdT"
   },
   "outputs": [],
   "source": [
    "import numpy as np\n",
    "import pandas as pd"
   ]
  },
  {
   "cell_type": "markdown",
   "metadata": {
    "id": "pyVu-ZgZGLdT"
   },
   "source": [
    "데이터프레임의 [chained indexing을 금지시키기 위한 설정](https://pandas.pydata.org/pandas-docs/stable/user_guide/indexing.html#returning-a-view-versus-a-copy)을 지정한다.\n",
    "Pandas 3.0 버전부터는 기본 옵션으로 지정된다."
   ]
  },
  {
   "cell_type": "code",
   "execution_count": 2,
   "metadata": {
    "executionInfo": {
     "elapsed": 3,
     "status": "ok",
     "timestamp": 1752768590127,
     "user": {
      "displayName": "ter wa",
      "userId": "01448980402448893441"
     },
     "user_tz": -540
    },
    "id": "Qe8Iyb6KGLdU"
   },
   "outputs": [],
   "source": [
    "pd.options.mode.copy_on_write = True"
   ]
  },
  {
   "cell_type": "markdown",
   "metadata": {
    "ExecuteTime": {
     "end_time": "2018-08-14T06:43:30.149227Z",
     "start_time": "2018-08-14T06:43:29.960007Z"
    },
    "id": "BfdtD3-6GLdU"
   },
   "source": [
    "주피터 노트북에서 부동소수점의 출력을 소수점 이하 6자리로 제한한다.\n",
    "아래 코드는 주피터 노트북에서만 사용하며 일반적인 파이썬 코드가 아니다."
   ]
  },
  {
   "cell_type": "code",
   "execution_count": 3,
   "metadata": {
    "ExecuteTime": {
     "end_time": "2018-08-14T06:43:30.149227Z",
     "start_time": "2018-08-14T06:43:29.960007Z"
    },
    "colab": {
     "base_uri": "https://localhost:8080/",
     "height": 35
    },
    "executionInfo": {
     "elapsed": 5,
     "status": "ok",
     "timestamp": 1752768590134,
     "user": {
      "displayName": "ter wa",
      "userId": "01448980402448893441"
     },
     "user_tz": -540
    },
    "id": "E342MX_cGLdU",
    "outputId": "6eadbfca-92cf-4d16-ab1b-a66fefd2968e"
   },
   "outputs": [
    {
     "data": {
      "text/plain": [
       "'%.6f'"
      ]
     },
     "execution_count": 3,
     "metadata": {},
     "output_type": "execute_result"
    }
   ],
   "source": [
    "%precision 6"
   ]
  },
  {
   "cell_type": "markdown",
   "metadata": {
    "ExecuteTime": {
     "end_time": "2018-08-14T06:43:30.149227Z",
     "start_time": "2018-08-14T06:43:29.960007Z"
    },
    "id": "rv5kiJN_GLdV"
   },
   "source": [
    "아래 코드는 데이터프레임 내에서 부동소수점의 출력을 소수점 이하 6자리로 제한한다."
   ]
  },
  {
   "cell_type": "code",
   "execution_count": 4,
   "metadata": {
    "ExecuteTime": {
     "end_time": "2018-08-14T06:43:30.149227Z",
     "start_time": "2018-08-14T06:43:29.960007Z"
    },
    "executionInfo": {
     "elapsed": 4,
     "status": "ok",
     "timestamp": 1752768590141,
     "user": {
      "displayName": "ter wa",
      "userId": "01448980402448893441"
     },
     "user_tz": -540
    },
    "id": "ZB0u0yBbGLdV"
   },
   "outputs": [],
   "source": [
    "pd.set_option('display.precision', 6)"
   ]
  },
  {
   "cell_type": "markdown",
   "metadata": {
    "id": "lZf7YMHUGLdW"
   },
   "source": [
    "코드에 사용되는 [데이터 저장소의 기본 디렉토리](https://github.com/codingalzi/DataSci/tree/master/data)를 지정한다."
   ]
  },
  {
   "cell_type": "code",
   "execution_count": 5,
   "metadata": {
    "executionInfo": {
     "elapsed": 5,
     "status": "ok",
     "timestamp": 1752768590144,
     "user": {
      "displayName": "ter wa",
      "userId": "01448980402448893441"
     },
     "user_tz": -540
    },
    "id": "0Phr7KvGGLdW"
   },
   "outputs": [],
   "source": [
    "data_url = 'https://raw.githubusercontent.com/codingalzi/DataSci/refs/heads/master/data/'"
   ]
  },
  {
   "cell_type": "markdown",
   "metadata": {
    "id": "3vs_75OwGLdV"
   },
   "source": [
    "데이터 시각화를 위해 `matplotlib.pyplot`를 `plt`로,\n",
    "`seaborn`을 `sns`로 불러온다.\n",
    "`seaborn` 라이브러리는 통계 관련 데이터의 정보를 보다 세련되고 정확하게 전달하는 그래프를 그리는 도구를 제공한다.\n",
    "`matplotlib` 라이브러리를 바탕으로 만들어져서 함께 사용해도 된다."
   ]
  },
  {
   "cell_type": "code",
   "execution_count": 6,
   "metadata": {
    "executionInfo": {
     "elapsed": 7,
     "status": "ok",
     "timestamp": 1752768590154,
     "user": {
      "displayName": "ter wa",
      "userId": "01448980402448893441"
     },
     "user_tz": -540
    },
    "id": "2dlRW56_GLdV"
   },
   "outputs": [],
   "source": [
    "import matplotlib.pyplot as plt\n",
    "import seaborn as sns"
   ]
  },
  {
   "cell_type": "markdown",
   "metadata": {
    "id": "Qd35Ih23GLdW"
   },
   "source": [
    "그래프 스타일을 `seaborn`에서 제공하는 `white` 스타일로 지정한다."
   ]
  },
  {
   "cell_type": "code",
   "execution_count": 7,
   "metadata": {
    "executionInfo": {
     "elapsed": 8,
     "status": "ok",
     "timestamp": 1752768590158,
     "user": {
      "displayName": "ter wa",
      "userId": "01448980402448893441"
     },
     "user_tz": -540
    },
    "id": "QY37dct5GLdW"
   },
   "outputs": [],
   "source": [
    "sns.set_style(\"white\")"
   ]
  },
  {
   "cell_type": "markdown",
   "metadata": {
    "id": "zrQpNfpYGLdW"
   },
   "source": [
    "**주요 내용**"
   ]
  },
  {
   "cell_type": "markdown",
   "metadata": {
    "id": "E90joTboGLdW"
   },
   "source": [
    "연속확률분포의 주요 개념을 소개한다.\n",
    "\n",
    "- 연속확률변수\n",
    "- 누적분포함수\n",
    "- 확률밀도함수\n",
    "- 커널밀도추정\n",
    "- 결합확률분포"
   ]
  },
  {
   "cell_type": "markdown",
   "metadata": {
    "id": "Ejd0jSmGGLdW"
   },
   "source": [
    "## 연속확률변수"
   ]
  },
  {
   "cell_type": "markdown",
   "metadata": {
    "id": "ZyPe6WpqGLdW"
   },
   "source": [
    "{numref}`%s장 <ch:probability-discrete>`에서 살펴 본 이산확률변수는\n",
    "$x_1$, $x_2$, $x_3$ ... 등의 형식으로 하나, 둘, 셋 하며 셀 수 있는\n",
    "**이산형 값**<font size='2'>discrete value</font>을 취한다.\n",
    "반면에 **연속확률변수**<font size='2'>continuous random variable</font>는\n",
    "일정 구간에 속한 임의의 실수를 가리킨다.\n",
    "여기서 구간은 구간 [0,1]처럼 구간 길이가 유한할 수도 있지만\n",
    "0보다 큰 모든 실수 또는 모든 실수처럼 무한할 수도 있다.\n",
    "예를 들어, 캘리포니아 주택가격 데이터셋에 포함된 구역들의 가구중위소득은\n",
    "0.4999에서 15.0001 사이의 실수로 구성되고, 대학생의 학점 평균으로 구성된 데이터셋은 0에서 4.5 사이의 실수로 구성된다."
   ]
  },
  {
   "cell_type": "markdown",
   "metadata": {
    "id": "EaDCdxt0GLdX"
   },
   "source": [
    ":::{admonition} 실수와 부동소수점\n",
    ":class: note\n",
    "\n",
    "프로그래밍에서 실수는 부동소수점으로 표현된다.\n",
    "부동소수점은 엄밀히 말해 유한소수만 다루지만 여기서는 특별한 의미 없이 실수라는 표현을 사용한다.\n",
    ":::"
   ]
  },
  {
   "cell_type": "markdown",
   "metadata": {
    "id": "jDfghG5VGLdX"
   },
   "source": [
    "**이산확률분포 대 연속확률분포**"
   ]
  },
  {
   "cell_type": "markdown",
   "metadata": {
    "id": "62Aa0l3GGLdX"
   },
   "source": [
    "이산확률분포는 확률변수가 특정 값을 가리킬 확률을 표 형식으로 표현한다.\n",
    "예를 들어 아래 표는 정상적인 주사위 하나를 던졌을 때 나오는 값으로 정의된 확률변수 $X$의 확률분포이다.\n",
    "\n",
    "| X | 1 | 2 | 3 | 4 | 5 | 6|\n",
    "| :---: | :---: | :---: | :---: | :---: | :---: | :---: |\n",
    "| 확률 | 1/6 | 1/6 | 1/6 | 1/6 | 1/6 | 1/6 |\n",
    "\n",
    "그리고 {numref}`%s장 <ch:probability-discrete>`에서 살펴본 아래 표는 캘리포니아 주택가격 데이터셋에서 임의로 선택된 구역의 소득 범주를 가리키는 확률변수 $X$의 확률분포이다. 중위소득 0에서 1.5까지의 구간이 소득 범주 1에 해당하고, 1.5에서 3.0, 3.0에서 4.5, 4.5에서 6, 6 이상이 소득 범주 2부터 5까지의 구간에 해당한다.\n",
    "\n",
    "| X | 1 | 2 | 3 | 4 | 5 |\n",
    "| :---: | :---: | :---: | :---: | :---: | :---: |\n",
    "| 확률 | 0.041372 | 0.333011 | 0.361017 | 0.177992 | 0.086607 |"
   ]
  },
  {
   "cell_type": "markdown",
   "metadata": {
    "id": "jQepLT7YGLdX"
   },
   "source": [
    "연속확률변수가 따르는 확률분포를 **연속확률분포**<font size='2'>continuous probability distribution</font>라 하는데,\n",
    "연속확률분포는 확률변수가 특정 값을 취할 확률을 계산할 수 없고\n",
    "특정 구간의 값을 취할 확률만을 계산할 수 있다.\n",
    "연속확률변수 $X$가 특정 실수 $x$를 취할 확률은 항상 0이기 때문이다\n",
    "\n",
    "$$\n",
    "P(X=x) = 0\n",
    "$$\n",
    "\n",
    "예를 들어 0과 1 사이의 실수 중에서 무작위로 하나의 값을 취했을 때 그 값이 정확히 0.5일 확률 또는 캘리포니아 주택가격 데이터셋에서 임의로 선택된 구역의 중위소득이 정확히 1.999999일 확률은 모두 0이다.\n",
    "반면에, 0과 1 사이에서 무작위로 선택한 값을 갖는 연속확률변수가\n",
    "특정 구간, 예를 들어 0.49에서 0.51 사이의 구간에 속하는 값을 취했을\n",
    "확률은 0.02, 즉 2% 이다.\n",
    "구간 전체의 길이가 1인데 0.49에서 0.51 사이 구간의 길이는 0.02이기 때문이다.\n",
    "마찬가지로, 캘리포니아 주택가격 데이터셋에서 임의로 선택된 구역의 중위소득이\n",
    "1.5에서 3.0 사이일 확률은 중위소득이 2구간에 속할 확률, 즉 0.333011이다.\n",
    "\n",
    "이처럼 연속확률변수는 아래 표현식처럼 특정 구간의 값을 취할 확률을 계산한다.\n",
    "\n",
    "$$\n",
    "P(a \\le X \\le b)\n",
    "$$\n",
    "\n",
    "또한, 연속확률변수가 특정 값을 취할 확률은 0이므로 구간의 끝 포함 여부는 중요하지 않으므로 아래 식에서처럼 등호 기호는 생략해도 된다.\n",
    "\n",
    "$$\n",
    "P(a \\le X \\le b) = P(a < X < b) = P(a < X \\le b) = P(a \\le X < b)\n",
    "$$"
   ]
  },
  {
   "cell_type": "markdown",
   "metadata": {
    "id": "7C1hIztfGLdX"
   },
   "source": [
    "## 누적분포함수"
   ]
  },
  {
   "cell_type": "markdown",
   "metadata": {
    "id": "efj5lMfiGLdX"
   },
   "source": [
    "0과 1 사이의 실수 중에서 무작위로 하나의 값을 취했을 때 그 값이 구간 $[a, b]$에 속할 확률은 $b-a$임을 바로 알 수 있다.\n",
    "하지만 연속확률변수가 특정 구간의 값을 취할 확률을\n",
    "정확하게 계산하는 일이 일반적으로 그렇게 간단하지 않다. 예를 들어 캘리포니아 주택가격 데이터셋에서 임의로 선택된 구역의 중위소득이 2.0에서 2.1 사이일 확률은 쉽게 구할 수 없다. 이 구간이 앞서 언급했던 5개의 구간 어디와도 정확히 일치하지 않기 때문이다.\n",
    "여기서는 **누적분포함수**<font size='2'>cumulative distribution function</font>(CDF)를 활용하여 연속확률변수가 이런 구간의 값을 취할 확률을 계산하는 방법을 소개한다.\n",
    "\n",
    "\n",
    "연속확률변수 $X$의 누적분포함수 $F$는\n",
    "확률변수 $X$가 특정 값보다 같거나 작은 값을 취할 확률을 나타내며, 다음과 같이 정의된다.\n",
    "\n",
    "$$\n",
    "F(a) = P(X \\le a)\n",
    "$$\n",
    "\n",
    "누적분포함수가 알려진 경우, 연속확률변수 $X$가 구간 $[a,b]$에 속할 확률은 다음과 같이 계산된다.\n",
    "\n",
    "\n",
    "$$\n",
    "P(a \\le X \\le b) = F(b) - F(a),\n",
    "\\quad \\mbox{ $a \\le b$}\n",
    "$$"
   ]
  },
  {
   "cell_type": "markdown",
   "metadata": {
    "id": "igHbo7ByGLdX"
   },
   "source": [
    "**예제: 캘리포니아 구역별 중위소득 확률분포**"
   ]
  },
  {
   "cell_type": "markdown",
   "metadata": {
    "id": "tBo-cowIGLdX"
   },
   "source": [
    "확률변수 $X$가 캘리포니아의 구역별 중위소득을 가리킨다고 할 때 임의로 선택된 구역의 중위소득이\n",
    "특정 값 이하일 확률을 나타내는 누적분포함수 $F$는 부울 인덱싱을 이용하여 정의할 수 있다.\n",
    "\n",
    "아래 코드는 캘리포니아 주택가격 데이터셋에서\n",
    "중위주택가격이 50만을 초과하는 경우는 삭제하고 인덱스를 초기화한 후 중위소득 특성만을 남긴다."
   ]
  },
  {
   "cell_type": "code",
   "execution_count": 8,
   "metadata": {
    "colab": {
     "base_uri": "https://localhost:8080/",
     "height": 489
    },
    "executionInfo": {
     "elapsed": 8,
     "status": "ok",
     "timestamp": 1752768590161,
     "user": {
      "displayName": "ter wa",
      "userId": "01448980402448893441"
     },
     "user_tz": -540
    },
    "id": "xpB0yc9TGLdX",
    "outputId": "6756cc7d-affd-45f1-df20-97fea939fd0c"
   },
   "outputs": [
    {
     "data": {
      "text/plain": [
       "district\n",
       "0        8.3252\n",
       "1        8.3014\n",
       "2        7.2574\n",
       "3        5.6431\n",
       "4        3.8462\n",
       "          ...  \n",
       "19670    1.5603\n",
       "19671    2.5568\n",
       "19672    1.7000\n",
       "19673    1.8672\n",
       "19674    2.3886\n",
       "Name: median_income, Length: 19675, dtype: float64"
      ]
     },
     "execution_count": 8,
     "metadata": {},
     "output_type": "execute_result"
    }
   ],
   "source": [
    "housing = pd.read_csv(data_url+\"california_housing.csv\")\n",
    "\n",
    "# 중위주택가격이 50만1달러 이상인 구역 삭제\n",
    "house_value_max = housing['median_house_value'].max() # 500,001\n",
    "mask = housing['median_house_value'] >= house_value_max\n",
    "housing = housing[~mask]\n",
    "\n",
    "# 인덱스 초기화\n",
    "housing = housing.reset_index(drop=True)\n",
    "\n",
    "# 중위소득 특성만 선택\n",
    "housing = housing.loc[:, 'median_income']\n",
    "housing.index.name = 'district'\n",
    "housing"
   ]
  },
  {
   "cell_type": "markdown",
   "metadata": {
    "id": "Eaw_xeYHGLdX"
   },
   "source": [
    "중위소득을 가리키는 연속확률변수 $X$가 특정 값 $a$ 이하의 값을 가질 확률은\n",
    "중위소득이 $a$보다 같거나 작은 구역의 비율이며,\n",
    "아래 `F_income()` 함수가 확률변수 $X$에 대한 누적분포함수를 구현한다."
   ]
  },
  {
   "cell_type": "code",
   "execution_count": 9,
   "metadata": {
    "executionInfo": {
     "elapsed": 4,
     "status": "ok",
     "timestamp": 1752768590167,
     "user": {
      "displayName": "ter wa",
      "userId": "01448980402448893441"
     },
     "user_tz": -540
    },
    "id": "sPUsKsy1GLdX"
   },
   "outputs": [],
   "source": [
    "def F_income(a):\n",
    "    mask = housing <= a # a 보다 같거나 작을 때만 1\n",
    "    return mask.mean()  # 전체 중에 True 인 지역의 비율"
   ]
  },
  {
   "cell_type": "markdown",
   "metadata": {
    "id": "3cTVjkabGLdX"
   },
   "source": [
    "임의의 구역을 선택했을 때 소득 범주 2에 속할 확률 $P(1.5 < X \\leq 3.0)$를\n",
    "`F_income()`을 이용하여 계산하면 앞서 언급한 값과 동일하게 나온다."
   ]
  },
  {
   "cell_type": "code",
   "execution_count": 10,
   "metadata": {
    "colab": {
     "base_uri": "https://localhost:8080/"
    },
    "executionInfo": {
     "elapsed": 29,
     "status": "ok",
     "timestamp": 1752768590195,
     "user": {
      "displayName": "ter wa",
      "userId": "01448980402448893441"
     },
     "user_tz": -540
    },
    "id": "wF2gS-KlGLdY",
    "outputId": "b33147e2-c60b-4897-d71b-4082ea04959e"
   },
   "outputs": [
    {
     "data": {
      "text/plain": [
       "0.333367"
      ]
     },
     "execution_count": 10,
     "metadata": {},
     "output_type": "execute_result"
    }
   ],
   "source": [
    "F_income(3.0) - F_income(1.49999)"
   ]
  },
  {
   "cell_type": "markdown",
   "metadata": {
    "id": "8HMynuLKGLdY"
   },
   "source": [
    "(sec:continuity-correction)=\n",
    "### 연속성 보정"
   ]
  },
  {
   "cell_type": "markdown",
   "metadata": {
    "id": "bDTCk-TKGLdY"
   },
   "source": [
    "위 코드에서 1.5 대신 `1.49999`를 사용한 이유는\n",
    "연속확률변수라 하더라도 유한 개의 데이터만 있기 때문에\n",
    "확률변수가 특정 값을 가질 확률이 0이 아닐 수 있기 때문이다. 예를 들어 중위소득이 정확히 1.5일 확률은 0.000356이다."
   ]
  },
  {
   "cell_type": "code",
   "execution_count": 11,
   "metadata": {
    "colab": {
     "base_uri": "https://localhost:8080/"
    },
    "executionInfo": {
     "elapsed": 11,
     "status": "ok",
     "timestamp": 1752768590208,
     "user": {
      "displayName": "ter wa",
      "userId": "01448980402448893441"
     },
     "user_tz": -540
    },
    "id": "g1c2ccGTGLdY",
    "outputId": "460ae6e5-6bf2-41df-eebb-048569af7167"
   },
   "outputs": [
    {
     "data": {
      "text/plain": [
       "0.000356"
      ]
     },
     "execution_count": 11,
     "metadata": {},
     "output_type": "execute_result"
    }
   ],
   "source": [
    "error = (housing == 1.5).mean()\n",
    "error"
   ]
  },
  {
   "cell_type": "markdown",
   "metadata": {
    "id": "IwNYQ0ovGLdY"
   },
   "source": [
    "이런 이유로 ` F_length(3.0) - F_length(1.5)`는 실제 확률보다 0.000356만큼 작은 값으로 계산된다."
   ]
  },
  {
   "cell_type": "code",
   "execution_count": 12,
   "metadata": {
    "colab": {
     "base_uri": "https://localhost:8080/"
    },
    "executionInfo": {
     "elapsed": 39,
     "status": "ok",
     "timestamp": 1752768590249,
     "user": {
      "displayName": "ter wa",
      "userId": "01448980402448893441"
     },
     "user_tz": -540
    },
    "id": "LnsB-0CtGLdY",
    "outputId": "a0740f1f-6e51-4536-c098-ccd7f37cd771"
   },
   "outputs": [
    {
     "data": {
      "text/plain": [
       "True"
      ]
     },
     "execution_count": 12,
     "metadata": {},
     "output_type": "execute_result"
    }
   ],
   "source": [
    "(F_income(3.0) - F_income(1.5)) + error == (F_income(3.0) - F_income(1.49999))"
   ]
  },
  {
   "cell_type": "markdown",
   "metadata": {
    "id": "pOkvv1WSGLdb"
   },
   "source": [
    "결국 $P(a \\leq X \\leq b)$와 $P(a \\lt X \\leq b)$ 가 서로 다른 확률을 가질 수 있다.\n",
    "이런 결과를 보정하기 위해 $a$에서 $10^{-5}$을 뺀 값을 대신 사용한 것인데, 그 이유는 다음과 같다.\n",
    "\n",
    "중위소득 데이터는 소수점 이하 넷째 자리까지 표현되어 있으므로, $10^{-5}$(0.00001)과 같은 아주 작은 값을 빼주면 데이터셋에 정확히 그 값에 해당하는 중위소득은 존재하지 않는다.\n",
    "따라서 $a$ 대신 $a - 10^{-5}$ 를 사용하면\n",
    "`F_income`$(a - 10^{-5})$는 사실상 $P(X < a)$를 계산하는 효과를 갖게 되고,\n",
    "$P(a \\leq X \\leq b)$는 `F_income()` 함수를 이용하여 정확하게 계산된다.\n",
    "\n",
    "이런 연속성 보정은 유한 개의 실전 데이터를 이용해 확률을 계산할 때 항상 고려해야 한다.\n",
    "연속성 보정을 위해 사용되는 `error`는 사용되는 데이터의 소수점 이하 자릿수보다 한 자리 더 많은 값으로 지정하는 것이 일반적이다."
   ]
  },
  {
   "cell_type": "markdown",
   "metadata": {
    "id": "MCJ52Y6rGLdb"
   },
   "source": [
    "아래 `P_income()` 함수는 임의로 선택된 구역의 중위소득이 특정 구간에 속할 확률을 계산하며\n",
    "앞서 설명한 연속성 보정을 적용하였다. 코드에 사용된 `assert`문은 뒤에 오는 조건이 참인지 확인하고, 거짓이면 그 이후의 문자열을 에러 메시지로 반환한다."
   ]
  },
  {
   "cell_type": "code",
   "execution_count": 13,
   "metadata": {
    "executionInfo": {
     "elapsed": 7,
     "status": "ok",
     "timestamp": 1752768590258,
     "user": {
      "displayName": "ter wa",
      "userId": "01448980402448893441"
     },
     "user_tz": -540
    },
    "id": "0BGo3oqoGLdc"
   },
   "outputs": [],
   "source": [
    "def P_income(a, b):\n",
    "    assert a <= b, f'둘째 인자가 첫째 인자보다 같거나 커야 함'\n",
    "\n",
    "    return F_income(b) - F_income(a - 1.0e-5)"
   ]
  },
  {
   "cell_type": "code",
   "execution_count": 14,
   "metadata": {
    "colab": {
     "base_uri": "https://localhost:8080/"
    },
    "executionInfo": {
     "elapsed": 17,
     "status": "ok",
     "timestamp": 1752768590271,
     "user": {
      "displayName": "ter wa",
      "userId": "01448980402448893441"
     },
     "user_tz": -540
    },
    "id": "CggvTP7ZGLdc",
    "outputId": "31709bde-220c-4272-c687-bcc8af51fd6d"
   },
   "outputs": [
    {
     "data": {
      "text/plain": [
       "0.333367"
      ]
     },
     "execution_count": 14,
     "metadata": {},
     "output_type": "execute_result"
    }
   ],
   "source": [
    "P_income(1.5, 3.0)"
   ]
  },
  {
   "cell_type": "markdown",
   "metadata": {
    "id": "fgE-nZKhGLdc"
   },
   "source": [
    "이제 앞에서의 질문, 즉 임의의 구역을 선택했을 때 중위소득이 2.0에서 2.1 사이일 확률을 구할 수 있다. 약 2.1%로 계산된다."
   ]
  },
  {
   "cell_type": "code",
   "execution_count": 15,
   "metadata": {
    "colab": {
     "base_uri": "https://localhost:8080/"
    },
    "executionInfo": {
     "elapsed": 26,
     "status": "ok",
     "timestamp": 1752768590295,
     "user": {
      "displayName": "ter wa",
      "userId": "01448980402448893441"
     },
     "user_tz": -540
    },
    "id": "xMOLp7iPGLdc",
    "outputId": "edfdc506-96ce-410b-a326-cf096639574b"
   },
   "outputs": [
    {
     "data": {
      "text/plain": [
       "0.021449"
      ]
     },
     "execution_count": 15,
     "metadata": {},
     "output_type": "execute_result"
    }
   ],
   "source": [
    "P_income(2.0, 2.1)"
   ]
  },
  {
   "cell_type": "markdown",
   "metadata": {
    "id": "QGz-e8S2GLdc"
   },
   "source": [
    "### 누적분포함수의 성질"
   ]
  },
  {
   "cell_type": "markdown",
   "metadata": {
    "id": "0SmMOHt9GLdc"
   },
   "source": [
    "연속확률변수 $X$가 $x_0$에서 $x_1$ 사이의 값만을 갖는다고 가정하자.\n",
    "그러면 $X$의 누적분포함수 $F$는 다음 세 가지 성질을 만족한다.\n",
    "단, $a, b \\in [x_0, x_1]$과 $a \\le b$를 가정한다."
   ]
  },
  {
   "cell_type": "markdown",
   "metadata": {
    "id": "GJwrhmhmGLdc"
   },
   "source": [
    "$(1)\\,\\,\\, F(a) \\le F(b)$"
   ]
  },
  {
   "cell_type": "markdown",
   "metadata": {
    "id": "NRCMojcdGLdc"
   },
   "source": [
    "$(2)\\,\\,\\, 0 \\le F(a) \\le 1$"
   ]
  },
  {
   "cell_type": "markdown",
   "metadata": {
    "id": "VE5u_UK7GLdc"
   },
   "source": [
    "$(3)\\,\\,\\, \\displaystyle \\lim_{a \\to x_0} F(a) = 0$ 와 $\\displaystyle\\lim_{a \\to x_1} F(a) = 1$"
   ]
  },
  {
   "cell_type": "markdown",
   "metadata": {
    "id": "hyNO_RRgGLdc"
   },
   "source": [
    "위 식의 $x_0$와 $x_1$은 아래 표와 같이, 경우에 따라 $x_0$는 음의 무한대, $x_1$은 양의 무한대일 수도 있다.\n",
    "\n",
    ":::{list-table} 무한대와 구간\n",
    ":widths: 10 55\n",
    ":header-rows: 1\n",
    ":name: infinity\n",
    "\n",
    "*   - 구간\n",
    "    - 의미\n",
    "*   - $[-\\infty, \\infty]$\n",
    "    - 모든 실수들의 구간\n",
    "*   - $[0, \\infty]$\n",
    "    - 음이 아닌 실수들의 구간\n",
    "*   - $[-\\infty, 1]$\n",
    "    - $1$보다 같거나 작은 모든 실수들의 구간\n",
    "*   - $[0, 1]$\n",
    "    - $0$과 $1$ 사이의 모든 실수들의 구간\n",
    "*   - $[-1, 1]$\n",
    "    - $-1$과 $1$ 사이의 모든 실수들의 구간\n",
    ":::"
   ]
  },
  {
   "cell_type": "markdown",
   "metadata": {
    "id": "gfEtbBgGGLdc"
   },
   "source": [
    "확률변수 $X$가 정의된 구간 $[x_0, x_1]$이 전체 실수 집합이 아니어도 누적분포함수 $F(a)$는\n",
    "모든 실수 $a$에 대해 정의할 수 있다.\n",
    "구간 $[x_0, x_1]$ 밖에 위치하는 $a$에 대해서는 다음과 같이 정의하면 되기 때문이다.\n",
    "\n",
    "- $a \\le x_0$일 때, $F(a) = 0$\n",
    "- $a \\ge x_1$일 때,  $F(a) = 1$"
   ]
  },
  {
   "cell_type": "markdown",
   "metadata": {
    "id": "8kzcxkhoGLdc"
   },
   "source": [
    "중위소득을 가르키는 확률변수 $X$의 누적분포함수 `F_income()`는 위의 모든 성질들을 만족한다."
   ]
  },
  {
   "cell_type": "markdown",
   "metadata": {
    "id": "JFzM50nqGLdc"
   },
   "source": [
    "$(1)$ `a` $\\leq$ `b`이면 `housing` $\\leq$ `a`에서 `True`인 항목은 `housing` $\\leq$  `b`에서도 참이므로  `F_income(b)`는 `F_income(a)` 보다 크거나 같다."
   ]
  },
  {
   "cell_type": "markdown",
   "metadata": {
    "id": "3CLLTdzxGLdc"
   },
   "source": [
    "$(2)$ `mask.mean()`은 `mask.sum()/len(housing)` 이므로 모든 $a$에 대해 `F_income(a)`는 0과 1 사이의 값을 갖는다."
   ]
  },
  {
   "cell_type": "markdown",
   "metadata": {
    "id": "pfNiWwSkGLdc"
   },
   "source": [
    "$(3)$ 최소 중위소득과 최대 중위소득에 대한 값도 요구되는 조건이 충족된다.\n",
    "단, `housing` 데이터셋의 크기가 실제로는 유한하므로, 최솟값에 대한 누적분포 함숫값은 실제로는 0이 나오지 않는다."
   ]
  },
  {
   "cell_type": "code",
   "execution_count": 16,
   "metadata": {
    "colab": {
     "base_uri": "https://localhost:8080/"
    },
    "executionInfo": {
     "elapsed": 25,
     "status": "ok",
     "timestamp": 1752768590318,
     "user": {
      "displayName": "ter wa",
      "userId": "01448980402448893441"
     },
     "user_tz": -540
    },
    "id": "Rnv3LPIZGLdc",
    "outputId": "321fa3fc-cbb3-4f4c-c339-39120b4913d8"
   },
   "outputs": [
    {
     "data": {
      "text/plain": [
       "0.000508"
      ]
     },
     "execution_count": 16,
     "metadata": {},
     "output_type": "execute_result"
    }
   ],
   "source": [
    "F_income(housing.min())"
   ]
  },
  {
   "cell_type": "markdown",
   "metadata": {
    "id": "8MPg6KmnGLdd"
   },
   "source": [
    "실제로 최솟값은 갖는 구역이 10군데이기 때문에, 위와 같은 값이 나왔다."
   ]
  },
  {
   "cell_type": "code",
   "execution_count": 17,
   "metadata": {
    "colab": {
     "base_uri": "https://localhost:8080/"
    },
    "executionInfo": {
     "elapsed": 16,
     "status": "ok",
     "timestamp": 1752768590337,
     "user": {
      "displayName": "ter wa",
      "userId": "01448980402448893441"
     },
     "user_tz": -540
    },
    "id": "6S0i9IU0GLdd",
    "outputId": "0826b566-647d-407e-dc68-1d5ed1c81bf6"
   },
   "outputs": [
    {
     "data": {
      "text/plain": [
       "10"
      ]
     },
     "execution_count": 17,
     "metadata": {},
     "output_type": "execute_result"
    }
   ],
   "source": [
    "housing.value_counts()[housing.min()]"
   ]
  },
  {
   "cell_type": "code",
   "execution_count": 18,
   "metadata": {
    "colab": {
     "base_uri": "https://localhost:8080/"
    },
    "executionInfo": {
     "elapsed": 46,
     "status": "ok",
     "timestamp": 1752768590381,
     "user": {
      "displayName": "ter wa",
      "userId": "01448980402448893441"
     },
     "user_tz": -540
    },
    "id": "eJJRjyqbGLdd",
    "outputId": "a594f396-9487-4b08-f04f-c54588940e91"
   },
   "outputs": [
    {
     "data": {
      "text/plain": [
       "0.000508"
      ]
     },
     "execution_count": 18,
     "metadata": {},
     "output_type": "execute_result"
    }
   ],
   "source": [
    "housing.value_counts()[housing.min()] / len(housing)"
   ]
  },
  {
   "cell_type": "markdown",
   "metadata": {
    "id": "IF0jW9HXGLdd"
   },
   "source": [
    "하지만 최솟값보다 약간 작은 값에 대해서는  0을 계산한다."
   ]
  },
  {
   "cell_type": "code",
   "execution_count": 19,
   "metadata": {
    "colab": {
     "base_uri": "https://localhost:8080/"
    },
    "executionInfo": {
     "elapsed": 13,
     "status": "ok",
     "timestamp": 1752768590398,
     "user": {
      "displayName": "ter wa",
      "userId": "01448980402448893441"
     },
     "user_tz": -540
    },
    "id": "rPf9DIJyGLdd",
    "outputId": "06ab5728-cd7c-4269-95ac-582381420fd4"
   },
   "outputs": [
    {
     "data": {
      "text/plain": [
       "0.000000"
      ]
     },
     "execution_count": 19,
     "metadata": {},
     "output_type": "execute_result"
    }
   ],
   "source": [
    "F_income(housing.min() - 1.0e-16)"
   ]
  },
  {
   "cell_type": "markdown",
   "metadata": {
    "id": "S8CAcCKmGLdd"
   },
   "source": [
    "반면에 최댓값에 대해서는 정확하게 1을 계산하고, 이보다 약간 큰 값에 대해서도 여전히 1을 리턴한다."
   ]
  },
  {
   "cell_type": "code",
   "execution_count": 20,
   "metadata": {
    "colab": {
     "base_uri": "https://localhost:8080/"
    },
    "executionInfo": {
     "elapsed": 15,
     "status": "ok",
     "timestamp": 1752768590416,
     "user": {
      "displayName": "ter wa",
      "userId": "01448980402448893441"
     },
     "user_tz": -540
    },
    "id": "rr9jvjuSGLdd",
    "outputId": "9d535e3f-2dc7-43aa-9c74-d186506d4efe"
   },
   "outputs": [
    {
     "data": {
      "text/plain": [
       "1.000000"
      ]
     },
     "execution_count": 20,
     "metadata": {},
     "output_type": "execute_result"
    }
   ],
   "source": [
    "F_income(housing.max())"
   ]
  },
  {
   "cell_type": "markdown",
   "metadata": {
    "id": "V_eMHaesGLdd"
   },
   "source": [
    "## 확률밀도함수"
   ]
  },
  {
   "cell_type": "markdown",
   "metadata": {
    "id": "5fOZvRMVGLdd"
   },
   "source": [
    "연속확률변수가 특정 구간에 속할 확률을 이용하여\n",
    "누적분포함수의 특정 값 근처에서의 변화율을 계산할 수 있다.\n",
    "\n",
    "예를 들어 연속확률변수 $X$가 임의의 양수 $h$에 대해 구간 $[x, x+h]$에 속한 값을 가질 확률은 다음과 같다.\n",
    "\n",
    "$$\n",
    "F(x + h) - F(x)\n",
    "$$\n",
    "\n",
    "함수 $F$가 $x$에서 미분가능하다면\n",
    "위 확률을 $h$로 나눈 값은 $h$가 0에 수렴할 때\n",
    "$x$에서의 누적분포함수 변화율 $F'(x)$로 수렴한다.\n",
    "\n",
    "$$\n",
    "F'(x) = \\lim_{h \\to 0}\\frac{F(x + h) - F(x)}{h}\n",
    "$$\n",
    "\n",
    "$F$는 단조증가함수이므로 $F$의 도함수 $F'$은 항상 0보다 크거나 같다."
   ]
  },
  {
   "cell_type": "markdown",
   "metadata": {
    "id": "Kp_3Ba62GLde"
   },
   "source": [
    "대부분의 누적분포함수 $F$는 지정된 구간에서 미분가능하다.\n",
    "그리고 $F$가 구간 $[x_0, x_1]$ 전체에서 미분가능하다면 정적분의 정의에 의해 다음 식이 성립한다. 여기서 $f$는 도함수 $F'$을 가리킨다.\n",
    "\n",
    "$$\n",
    "F(a) = P(X \\le a) = P(x_0 < X \\le a) = F(a) - F(x_0)\n",
    "= \\int_{x_0}^{a} f(x)\\; dx \\quad (x_0 \\le a \\le x_1)\n",
    "$$\n",
    "\n",
    "따라서 $x$축과 $f(x)$ 그래프 사이의 면적이 해당 구간에서 확률변수가 값을 가질 확률이며, $f(x)$는 $x$에서의 확률의 '밀도'를 나타낸다는 의미로 연속확률변수 $X$의\n",
    "**확률밀도함수**<font size='2'>probability density function</font>(PDF)라 부른다.\n"
   ]
  },
  {
   "cell_type": "markdown",
   "metadata": {
    "id": "hvEPobDMGLde"
   },
   "source": [
    "**확률밀도함수 vs. 누적분포함수**"
   ]
  },
  {
   "cell_type": "markdown",
   "metadata": {
    "id": "P_6EVgpTGLde"
   },
   "source": [
    "아래 두 그래프가 위 설명의 내용을 시각화해서 설명해준다.\n",
    "\n",
    "(1) 왼편 그래프\n",
    "\n",
    "- $F(a)$: 빨간색 영역. 구간 $[x_0, a]$ 내에서 확률밀도함수 $f$의 그래프와 $x$축 사이의 면적\n",
    "- $P(a \\le x \\le b)$: 회색 영역. $[a, b]$ 구간 내에서 확률밀도함수 $f$의 그래프와 $x$축 사이의 면적\n",
    "\n",
    "(2) 오른편 그래프\n",
    "\n",
    "- 누적분포함수 $F(a)$의 그래프\n",
    "- 왼편 그래프의 빨간색 면적에 해당하는 값들의 그래프\n",
    "- 일반적으로 늘어진 S자 형태를 띄며, $x$가 작아지면 0으로, 커지면 1로 수렴"
   ]
  },
  {
   "cell_type": "markdown",
   "metadata": {
    "id": "ZFQlx9LQGLde"
   },
   "source": [
    "<p><div align=\"center\"><img src=\"https://raw.githubusercontent.com/codingalzi/DataSci/master/jupyter-book/images/pdf-cdf-1.png\" style=\"width:100%\"></div></p>"
   ]
  },
  {
   "cell_type": "markdown",
   "metadata": {
    "id": "i5xBlWrBGLde"
   },
   "source": [
    ":::{admonition} 확률질량함수 vs. 확률밀도함수\n",
    ":class: note\n",
    "\n",
    "확률질량함수(PMF)는 이산확률변수가 특정 값을 취할 확률이고, 확률밀도함수(PDF)는 연속확률변수가 특정 값 이하의 값을 가질 확률의 변화율이다.\n",
    "\n",
    "<p><div align=\"center\"><img src=\"https://raw.githubusercontent.com/codingalzi/DataSci/master/jupyter-book/images/pmf-pdf-cdf.png\" style=\"width:450px\"></div></p>\n",
    ":::"
   ]
  },
  {
   "cell_type": "markdown",
   "metadata": {
    "id": "Fz-uHZN-GLde"
   },
   "source": [
    "## 연속균등분포"
   ]
  },
  {
   "cell_type": "markdown",
   "metadata": {
    "id": "IHTPO7SiGLde"
   },
   "source": [
    "특정 구간 내에서 균등하게 값을 취할 수 있는 연속확률변수의 분포를\n",
    "**연속균등분포**<font size='2'>continuous uniform distribution</font>라 한다.\n",
    "구간 $[a,b]$에서 정의된 연속균등분포는\n",
    "주로 $U(a, b)$로 표기하며, 연속균등분포 $U(a, b)$의 누적분포함수 $F(x)$는 기울기가 $\\frac{1}{b-a}$인 선분을 포함한 아래의 그래프로 표현된다."
   ]
  },
  {
   "cell_type": "markdown",
   "metadata": {
    "id": "pt1EaTgMGLde"
   },
   "source": [
    "<p><div align=\"center\"><img src=\"https://raw.githubusercontent.com/codingalzi/DataSci/master/jupyter-book/images/uniform-cdf.png\" style=\"width:300px\"></div></p>"
   ]
  },
  {
   "cell_type": "markdown",
   "metadata": {
    "id": "RfMogduCGLde"
   },
   "source": [
    "구간 $[a, b]$에 속한 모든 $x$에 대하여 임의로 선택된 값이 구간 $[a, x]$에 위치할 확률은 다음과 같이 $x$에 대한 1차 함수로 표현된다.\n",
    "\n",
    "$$\n",
    "F(x) = \\frac{x-a}{b-a}\n",
    "$$"
   ]
  },
  {
   "cell_type": "markdown",
   "metadata": {
    "id": "9hojwTXfGLde"
   },
   "source": [
    "따라서 구간 $[a, b]$에서 정의된 연속균등분포 $U(a, b)$의 확률밀도함수는 위 함수의 도함수인 상수 함수 $f(x) = \\frac{1}{b-a}$가 된다."
   ]
  },
  {
   "cell_type": "markdown",
   "metadata": {
    "id": "m_rzkWkJGLde"
   },
   "source": [
    "<p><div align=\"center\"><img src=\"https://raw.githubusercontent.com/codingalzi/DataSci/master/jupyter-book/images/uniform-pdf.png\" style=\"width:300px\"></div></p>"
   ]
  },
  {
   "cell_type": "markdown",
   "metadata": {
    "id": "YZAMt5cOGLde"
   },
   "source": [
    "실제로 구간 $[a, b]$에서 확률밀도함수 $f$와 $x$축 사이의 영역인 직사각형의 넓이는 1이며,\n",
    "$x$가 $a,$ $b$ 사이를 움직일 때 밑변 $\\overline{ax}$를 갖는 직사각형의 면적은 위 $F(x)$의 식과 동일한 $\\frac{x-a}{b-a}$이다."
   ]
  },
  {
   "cell_type": "markdown",
   "metadata": {
    "id": "4bq2u9L2GLde"
   },
   "source": [
    "**넘파이의 `random.uniform()` 함수**"
   ]
  },
  {
   "cell_type": "markdown",
   "metadata": {
    "id": "Wqb2OZeeGLde"
   },
   "source": [
    "넘파이 라이브러리가 제공하는 `random.uniform()` 함수는 지정된 구간의\n",
    "균등분포를 따르면서 원하는 개수만큼의 부동소수점을 무작위로 생성한다. 생성된 부동소수점은 지정된 모양의 어레이로 반환된다."
   ]
  },
  {
   "cell_type": "markdown",
   "metadata": {
    "id": "pJQPGJuoGLde"
   },
   "source": [
    "아래 코드는 2와 5 사이에서 균등하게 추출된 1,000개의 부동소수점을 가진 1차원 어레이를 반환한다."
   ]
  },
  {
   "cell_type": "code",
   "execution_count": 21,
   "metadata": {
    "executionInfo": {
     "elapsed": 7,
     "status": "ok",
     "timestamp": 1752768590421,
     "user": {
      "displayName": "ter wa",
      "userId": "01448980402448893441"
     },
     "user_tz": -540
    },
    "id": "GkY5DCLoGLde"
   },
   "outputs": [],
   "source": [
    "np.random.seed(17)\n",
    "\n",
    "uni1000 = np.random.uniform(2, 5,1000)"
   ]
  },
  {
   "cell_type": "markdown",
   "metadata": {
    "id": "f8PCEmJPGLde"
   },
   "source": [
    "선택된 부동소수점이 2보다는 크거나 같고, 5보다는 작음이 확인된다."
   ]
  },
  {
   "cell_type": "code",
   "execution_count": 22,
   "metadata": {
    "colab": {
     "base_uri": "https://localhost:8080/"
    },
    "executionInfo": {
     "elapsed": 17,
     "status": "ok",
     "timestamp": 1752768590436,
     "user": {
      "displayName": "ter wa",
      "userId": "01448980402448893441"
     },
     "user_tz": -540
    },
    "id": "i9OcoPiSGLde",
    "outputId": "c5a9dc35-764c-465f-fe2f-e9d908fd802b"
   },
   "outputs": [
    {
     "data": {
      "text/plain": [
       "True"
      ]
     },
     "execution_count": 22,
     "metadata": {},
     "output_type": "execute_result"
    }
   ],
   "source": [
    "np.all((2 <= uni1000) & (uni1000 < 5))"
   ]
  },
  {
   "cell_type": "markdown",
   "metadata": {
    "id": "tBdDF_ocGLde"
   },
   "source": [
    "아래 코드는 선택된 1,000개의 부동소수점에 대해 히스토그램을 그린다.\n",
    "`plt.hist()` 함수의 `density` 인자가 기본값인 `False`로 지정되므로, 상대도수가 아닌 도수가 막대그래프의 높이이다.\n",
    "`bins=25` 키워드 인자는 전체 구간을 25 등분하므로,\n",
    "구간당 평균 $1000/25 = 40$개의 데이터가 포함됨을 막대 높이를 통해 확인할 수 있다.\n",
    "\n"
   ]
  },
  {
   "cell_type": "code",
   "execution_count": 23,
   "metadata": {
    "colab": {
     "base_uri": "https://localhost:8080/",
     "height": 449
    },
    "executionInfo": {
     "elapsed": 15,
     "status": "ok",
     "timestamp": 1752768590454,
     "user": {
      "displayName": "ter wa",
      "userId": "01448980402448893441"
     },
     "user_tz": -540
    },
    "id": "cpCp6Im5GLdf",
    "outputId": "4636e959-6551-4300-d85a-93edc62618e2"
   },
   "outputs": [
    {
     "data": {
      "image/png": "[encoded data removed]",
      "text/plain": [
       "<Figure size 640x480 with 1 Axes>"
      ]
     },
     "metadata": {},
     "output_type": "display_data"
    }
   ],
   "source": [
    "fig, ax = plt.subplots()\n",
    "\n",
    "freqs, bins, _ = ax.hist(uni1000, bins=25)\n",
    "\n",
    "# 평균 도수: freqs.mean() = 40.0\n",
    "ax.plot(bins, np.ones_like(bins) * freqs.mean(), linewidth=2, color='red')\n",
    "\n",
    "ax.set_xlabel('x')\n",
    "ax.set_ylabel('Frequency')\n",
    "\n",
    "plt.show()"
   ]
  },
  {
   "cell_type": "markdown",
   "metadata": {
    "id": "SjcS1Jl-GLdf"
   },
   "source": [
    "**균등분포의 히스토그램과 확률밀도함수**"
   ]
  },
  {
   "cell_type": "markdown",
   "metadata": {
    "id": "C-INdsKIGLdf"
   },
   "source": [
    "`plt.hist()` 함수를 호출할 때 `density=True` 키워드 인자를 지정하면 각 구간별로 상대도수가 막대의 높이이다. 또한 전체 구역의 면적을 1로 만들기 위해 구간의 상대도수를 해당 구간의 크기로 나눈 값을 막대의 높이로 사용한다."
   ]
  },
  {
   "cell_type": "markdown",
   "metadata": {
    "id": "KRBrctv8GLdf"
   },
   "source": [
    ":::{admonition} 히스토그램의 막대 높이\n",
    ":class: note\n",
    "\n",
    "총 $t$ 개의 데이터 샘플을 $n$개의 구간으로 나눠 히스토그램을 그린다고 하자.\n",
    "이때 `density=True` 키워드 인자를 사용하면 $i$번째 구간의 막대 높이 $h_i$는\n",
    "다음과 같이 해당 구간의 상대도수를 해당 구간의 크기로 나눈 값이다.\n",
    "아래 식에서 $t_i$는 $i$번째 구간의 도수, $w_i$는 $i$번째 구간의 크기를 가리킨다.\n",
    "\n",
    "$$\n",
    "h_i = \\frac{t_i}{t} \\cdot \\frac{1}{w_i}\n",
    "$$\n",
    "\n",
    "그러면 막대 면적의 총합은 다음과 같이 1로 계산된다.\n",
    "\n",
    "$$\n",
    "\\sum_{i=1}^n h_i \\cdot w_i = \\sum_{i=1}^n \\frac{t_i}{t} \\cdot \\frac{1}{w_i}\\cdot w_i = \\sum_{i=1}^n \\frac{t_i}{t} = \\frac 1 t \\cdot \\sum_{i=1}^n t_i = \\frac t t = 1\n",
    "$$\n",
    ":::"
   ]
  },
  {
   "cell_type": "markdown",
   "metadata": {
    "id": "2VSDjgQGGLdf"
   },
   "source": [
    "예를 들어, 균등분포의 경우, 구간별 밀도 히스토그램에서 구간별 막대 높이는 평균 $\\frac{1}{b-a}$로 계산되는데, 그 이유는 다음과 같다.\n",
    "\n",
    "먼저 $t$는 데이터셋의 크기, $n$은 구간의 개수를 가리킨다고 하자.\n",
    "그러면 구간별 평균 도수는 $\\frac t n$이고, 구간별 평균 상대도수는 $\\frac 1 n$이다.\n",
    "각 구간의 크기는 일정하게 $\\frac{b-a}{n}$이므로, 앞서 언급한 막대 높이의 공식에 의해\n",
    "구간별 막대의 평균 높이는 다음과 같이 $\\frac{1}{b-a}$로 계산된다.\n",
    "\n",
    "$$\n",
    "\\frac{1}{n} \\cdot \\frac{1}{\\displaystyle \\frac{b-a}{n}} = \\frac 1 n \\cdot \\frac{n}{b-a} = \\frac{1}{b-a}\n",
    "$$\n",
    "\n",
    "따라서 데이터셋의 구간별 밀도를 나타내는 히스토그램은 전체 면적이 1이 되도록 막대\n",
    "높이가 정의되었다는 점, 단위구간의 상대도수가 크면 막대의 높이와 면적도 커진다는 점에서 확률밀도함수의 그래프를 비슷하게 모방하고 있음을 알 수 있다."
   ]
  },
  {
   "cell_type": "markdown",
   "metadata": {
    "id": "vkvQjtCCGLdf"
   },
   "source": [
    "아래 코드는 균등분포 함수로 무작위 추출된 데이터셋을 히스토그램으로 그렸을 때\n",
    "막대의 평균 높이가 $1/3 = 0.33$에 매우 근접함을 보여준다.\n",
    "그래프의 빨간 직선은 이론적 평균 막대 높이인 0.333333을,\n",
    "노란 직선은 이 데이터셋의 실제 평균 막대 높이인 0.334067을 가리킨다."
   ]
  },
  {
   "cell_type": "code",
   "execution_count": 24,
   "metadata": {
    "colab": {
     "base_uri": "https://localhost:8080/",
     "height": 449
    },
    "executionInfo": {
     "elapsed": 125,
     "status": "ok",
     "timestamp": 1752768590577,
     "user": {
      "displayName": "ter wa",
      "userId": "01448980402448893441"
     },
     "user_tz": -540
    },
    "id": "ZROutxzmGLdf",
    "outputId": "e3cfd085-aee4-41b8-c834-de3cd3fbabdb"
   },
   "outputs": [
    {
     "data": {
      "image/png": "[encoded data removed]",
      "text/plain": [
       "<Figure size 640x480 with 1 Axes>"
      ]
     },
     "metadata": {},
     "output_type": "display_data"
    }
   ],
   "source": [
    "fig, ax = plt.subplots()\n",
    "\n",
    "dens, bins, _ = ax.hist(uni1000, 25, density=True)\n",
    "\n",
    "# 이론적 확률밀도함수 그래프: y = 1/(5-2) = 0.333333 (빨간 직선)\n",
    "ax.plot(bins, np.ones_like(bins)/(5-2), linewidth=1, color='red')\n",
    "\n",
    "# 실제 평균 밀도: dens.mean() = 0.334067 (노란 직선)\n",
    "ax.plot(bins, np.ones_like(bins)*dens.mean(), linewidth=1, color='blue')\n",
    "\n",
    "ax.set_xlabel('x')\n",
    "ax.set_ylabel('Density')\n",
    "\n",
    "plt.show()"
   ]
  },
  {
   "cell_type": "markdown",
   "metadata": {
    "id": "-QqXoUIfGLdf"
   },
   "source": [
    "이론적 평균 막대 높이와 실제 평균 막대 높이가 다르게 계산되는 이유는 부동소수점 연산에 기인한다.\n",
    "앞서 확인한 대로 구간별 실제 평균 도수는\n",
    "$\\frac{1000}{25} = 40$이므로\n",
    "평균 막대 높이 또한\n",
    "이론적으로 다음과 같이 1/3로 나와야 한다.\n",
    "\n",
    "$$\n",
    "\\frac{40}{1000} \\cdot \\frac{1}{\\frac{3}{25}} = \\frac{1}{25} \\cdot \\frac{25}{3} = \\frac 1 3\n",
    "$$\n",
    "\n",
    "하지만 각 막대의 높이가 저장된 `dens`는 해당 구간의 실제 상대도수를 구간 크기 $3/25$으로 나눈 값을 사용하고, 이 값들의 평균을 계산하기 위해 또다시 부동소수점 연산을 사용하면서 이론 평균값인 1/3과 약간의 오차가 발생하게 된다."
   ]
  },
  {
   "cell_type": "markdown",
   "metadata": {
    "id": "ldZcLFTtGLdf"
   },
   "source": [
    "(sec:kde)=\n",
    "## 커널밀도추정"
   ]
  },
  {
   "cell_type": "markdown",
   "metadata": {
    "id": "8GhmgT4SGLdf"
   },
   "source": [
    "데이터셋이 주어졌을 때\n",
    "**커널밀도추정** <font size='2'>kernel density estimation</font>(KDE) 기법을 이용하여\n",
    "데이터 분포에 대한 확률밀도함수를 구할 수 있다.\n",
    "여기서는 캘리포니아 데이터셋의 중위소득 분포에 대한 확률밀도함수를\n",
    "KDE에 기반하여 구현할 수 있음을 보인다."
   ]
  },
  {
   "cell_type": "markdown",
   "metadata": {
    "id": "ov0elcXaGLdf"
   },
   "source": [
    ":::{admonition} KDE 기법 이해\n",
    ":class: note\n",
    "\n",
    "여기서는 KDE의 활용 결과만 언급한다.\n",
    "KDE 기법 자체에 대한 설명은  정규분포에서 약간 다루겠지만,\n",
    "보다 자세한 설명은 위키피디아의\n",
    "[Kernel density estimation](https://en.wikipedia.org/wiki/Kernel_density_estimation)를 참고하기 바란다.\n",
    ":::"
   ]
  },
  {
   "cell_type": "markdown",
   "metadata": {
    "id": "wD4UCqRPGLdf"
   },
   "source": [
    "### Seaborn 라이브러리"
   ]
  },
  {
   "cell_type": "markdown",
   "metadata": {
    "id": "uYO8vz2wGLdf"
   },
   "source": [
    "캘리포니아 주택가격 데이터셋의 구역별 중위소득은 부동소수점을 사용하는 연속형 자료형이다."
   ]
  },
  {
   "cell_type": "code",
   "execution_count": 25,
   "metadata": {
    "colab": {
     "base_uri": "https://localhost:8080/"
    },
    "executionInfo": {
     "elapsed": 96,
     "status": "ok",
     "timestamp": 1752768590675,
     "user": {
      "displayName": "ter wa",
      "userId": "01448980402448893441"
     },
     "user_tz": -540
    },
    "id": "O7WqcjpRGLdf",
    "outputId": "1dc86128-587d-45c6-e72c-085b8e373a6f"
   },
   "outputs": [
    {
     "name": "stdout",
     "output_type": "stream",
     "text": [
      "<class 'pandas.core.series.Series'>\n",
      "RangeIndex: 19675 entries, 0 to 19674\n",
      "Series name: median_income\n",
      "Non-Null Count  Dtype  \n",
      "--------------  -----  \n",
      "19675 non-null  float64\n",
      "dtypes: float64(1)\n",
      "memory usage: 153.8 KB\n"
     ]
    }
   ],
   "source": [
    "housing.info()"
   ]
  },
  {
   "cell_type": "markdown",
   "metadata": {
    "id": "UqQFAZYbGLdf"
   },
   "source": [
    "앞서 중위소득 확률분포에 대한 누적분포함수를 다음과 같이 정의했다.\n",
    "\n",
    "```python\n",
    "def F_income(a):\n",
    "    mask = housing <= a # a 보다 같거나 작을 때만 1\n",
    "    return mask.mean()  # 전체 중에 True 인 지역의 비율\n",
    "```"
   ]
  },
  {
   "cell_type": "markdown",
   "metadata": {
    "id": "w5wj-um3GLdf"
   },
   "source": [
    "`F_income()` 함수는 유한 개의 데이터 샘플로 구성된 데이터셋을 이용하여 정의된 함수이므로 미분가능하지 않다.\n",
    "따라서 이 함수에 미분을 적용하여 중위소득 확률분포에 대한 확률밀도함수를 구할 수는 없다.\n",
    "하지만, 앞서 살펴보았듯이 구간별 밀도 히스토그램을 통해 중위소득 확률밀도함수의 그래프 형태를 추정할 수는 있다. 따라서 먼저 히스토그램을 그려보고, KDE 기법으로 구한\n",
    "확률밀도함수의 그래프와 비교해보기로 하자."
   ]
  },
  {
   "cell_type": "markdown",
   "metadata": {
    "id": "MNKVxTM6GLdg"
   },
   "source": [
    "아래 코드는 중위소득을 30개의 구간으로 나눠 구간별 밀도를 표현한 히스토그램이다."
   ]
  },
  {
   "cell_type": "code",
   "execution_count": 26,
   "metadata": {
    "colab": {
     "base_uri": "https://localhost:8080/",
     "height": 449
    },
    "executionInfo": {
     "elapsed": 18,
     "status": "ok",
     "timestamp": 1752768590695,
     "user": {
      "displayName": "ter wa",
      "userId": "01448980402448893441"
     },
     "user_tz": -540
    },
    "id": "WSj6P91uGLdg",
    "outputId": "616e4ae5-61dc-4ae2-8089-f96e484f8521"
   },
   "outputs": [
    {
     "data": {
      "image/png": "[encoded data removed]",
      "text/plain": [
       "<Figure size 640x480 with 1 Axes>"
      ]
     },
     "metadata": {},
     "output_type": "display_data"
    }
   ],
   "source": [
    "fig, ax = plt.subplots()\n",
    "\n",
    "# 구간별 밀도 히스토그램\n",
    "ax.hist(housing, bins=30, density=True) #`density=True`: 상대도수\n",
    "\n",
    "ax.set_xlim([-1, 16.7])\n",
    "ax.set_ylim([0.0, 0.299])\n",
    "\n",
    "ax.set_xlabel('median income')\n",
    "ax.set_ylabel('Density')\n",
    "\n",
    "plt.show()"
   ]
  },
  {
   "cell_type": "markdown",
   "metadata": {
    "id": "vQPeXDuvGLdg"
   },
   "source": [
    "**Seaborn 라이브러리의 `kdeplot()` 함수**"
   ]
  },
  {
   "cell_type": "markdown",
   "metadata": {
    "id": "OnzCyB0sGLdg"
   },
   "source": [
    "아래 코드의 `sns.kdeplot()` 함수는\n",
    "가우스 커널 기반의 밀도 추정 기법(Gaussian KDE)을 활용해 **추정한** 확률밀도함수의 그래프를 그린다."
   ]
  },
  {
   "cell_type": "code",
   "execution_count": 27,
   "metadata": {
    "colab": {
     "base_uri": "https://localhost:8080/",
     "height": 450
    },
    "executionInfo": {
     "elapsed": 370,
     "status": "ok",
     "timestamp": 1752768591062,
     "user": {
      "displayName": "ter wa",
      "userId": "01448980402448893441"
     },
     "user_tz": -540
    },
    "id": "EdvvPb4vGLdg",
    "outputId": "8163425e-90ab-44c6-acfe-2c8bcef94409"
   },
   "outputs": [
    {
     "data": {
      "image/png": "[encoded data removed]",
      "text/plain": [
       "<Figure size 640x480 with 1 Axes>"
      ]
     },
     "metadata": {},
     "output_type": "display_data"
    }
   ],
   "source": [
    "fig, hx = plt.subplots()\n",
    "\n",
    "# 구간별 밀도 히스토그램\n",
    "hx.hist(housing, bins=30, density=True)\n",
    "\n",
    "# 추정된 확률밀도함수 그래프\n",
    "kde = sns.kdeplot(ax=hx, data=housing)\n",
    "\n",
    "plt.show()"
   ]
  },
  {
   "cell_type": "markdown",
   "metadata": {
    "id": "rzXAB-gOGLdg"
   },
   "source": [
    "가우스 KDE 기법으로 추정된 확률밀도함수는 모든 실수에 대해 정의된다.\n",
    "데이터의 범위 내에서만 확률밀도함수의 그래프를 그리려면 `sns.kdeplot()` 함수를 호출할 때 `cut=0` 키워드 인자를 지정하면 된다."
   ]
  },
  {
   "cell_type": "code",
   "execution_count": 28,
   "metadata": {
    "colab": {
     "base_uri": "https://localhost:8080/",
     "height": 450
    },
    "executionInfo": {
     "elapsed": 308,
     "status": "ok",
     "timestamp": 1752768591367,
     "user": {
      "displayName": "ter wa",
      "userId": "01448980402448893441"
     },
     "user_tz": -540
    },
    "id": "JI04et-DGLdg",
    "outputId": "fb12c8c4-5cfc-4004-ceb0-e729776a3bfa"
   },
   "outputs": [
    {
     "data": {
      "image/png": "[encoded data removed]",
      "text/plain": [
       "<Figure size 640x480 with 1 Axes>"
      ]
     },
     "metadata": {},
     "output_type": "display_data"
    }
   ],
   "source": [
    "fig, hx = plt.subplots()\n",
    "\n",
    "# 구간별 밀도 히스토그램\n",
    "hx.hist(housing, bins=30, density=True)\n",
    "\n",
    "# 추정된 확률밀도함수 그래프\n",
    "kde = sns.kdeplot(ax=hx, data=housing, cut=0)\n",
    "\n",
    "plt.show()"
   ]
  },
  {
   "cell_type": "markdown",
   "metadata": {
    "id": "qNZeZAqBGLdh"
   },
   "source": [
    "하지만 여기서는 `cut` 키워드 인자를 지정하지 않고\n",
    "확률밀도함수를 추정된 그대로 사용한다.\n",
    "\n",
    "아래 코드는 확률밀도함수 그래프만 따로 확인한다.\n",
    "그래프의 곡선이 일부 구간에서 급격하게 변해서 조금 부자연스러워 보인다."
   ]
  },
  {
   "cell_type": "code",
   "execution_count": 29,
   "metadata": {
    "colab": {
     "base_uri": "https://localhost:8080/",
     "height": 450
    },
    "executionInfo": {
     "elapsed": 279,
     "status": "ok",
     "timestamp": 1752768591672,
     "user": {
      "displayName": "ter wa",
      "userId": "01448980402448893441"
     },
     "user_tz": -540
    },
    "id": "UYfwXxa1GLdh",
    "outputId": "ceca424b-e11d-4f1f-e9f5-1d60073089c7"
   },
   "outputs": [
    {
     "data": {
      "image/png": "[encoded data removed]",
      "text/plain": [
       "<Figure size 640x480 with 1 Axes>"
      ]
     },
     "metadata": {},
     "output_type": "display_data"
    }
   ],
   "source": [
    "fig, hx = plt.subplots()\n",
    "\n",
    "# 추정된 확률밀도함수 그래프\n",
    "kde = sns.kdeplot(ax=hx, data=housing, color='tab:orange')\n",
    "\n",
    "plt.show()"
   ]
  },
  {
   "cell_type": "markdown",
   "metadata": {
    "id": "98y0MR38GLdi"
   },
   "source": [
    "참고로 `sns.kdeplot()` 함수의 반환값은 `matplotlib.axes._axes.Axes` 클래스의 객체이고 그래프의 모든 정보를 담고 있다.\n",
    "예를 들어 확률밀도함수 그래프의 좌표 정보는 아래와 같이 구한다."
   ]
  },
  {
   "cell_type": "code",
   "execution_count": 30,
   "metadata": {
    "executionInfo": {
     "elapsed": 20,
     "status": "ok",
     "timestamp": 1752768591696,
     "user": {
      "displayName": "ter wa",
      "userId": "01448980402448893441"
     },
     "user_tz": -540
    },
    "id": "5iH-WxMzGLdi"
   },
   "outputs": [],
   "source": [
    "xs, ys = kde.get_lines()[0].get_data()"
   ]
  },
  {
   "cell_type": "markdown",
   "metadata": {
    "id": "ZuvHyMl-GLdi"
   },
   "source": [
    "이렇게 얻어진 좌표를 이용하여 그래프를 그리면 동일한 확률밀도함수 그래프를 얻는다."
   ]
  },
  {
   "cell_type": "code",
   "execution_count": 31,
   "metadata": {
    "colab": {
     "base_uri": "https://localhost:8080/",
     "height": 430
    },
    "executionInfo": {
     "elapsed": 83,
     "status": "ok",
     "timestamp": 1752768591804,
     "user": {
      "displayName": "ter wa",
      "userId": "01448980402448893441"
     },
     "user_tz": -540
    },
    "id": "zaA7ToEZGLdi",
    "outputId": "682b1a92-abbd-4485-fe36-407774a121d9"
   },
   "outputs": [
    {
     "data": {
      "image/png": "[encoded data removed]",
      "text/plain": [
       "<Figure size 640x480 with 1 Axes>"
      ]
     },
     "metadata": {},
     "output_type": "display_data"
    }
   ],
   "source": [
    "fig, ax = plt.subplots()\n",
    "\n",
    "ax.plot(xs, ys, color='#ff7f0e')\n",
    "ax.set_ylim([0.0, 0.299])\n",
    "\n",
    "plt.show()"
   ]
  },
  {
   "cell_type": "markdown",
   "metadata": {
    "id": "sceWLFv7GLdh"
   },
   "source": [
    "`bw_method=0.19` 키워드 인자를 사용하면 추정된 확률밀도함수의 그래프가 부드러워진다."
   ]
  },
  {
   "cell_type": "code",
   "execution_count": 32,
   "metadata": {
    "colab": {
     "base_uri": "https://localhost:8080/",
     "height": 450
    },
    "executionInfo": {
     "elapsed": 307,
     "status": "ok",
     "timestamp": 1752768592114,
     "user": {
      "displayName": "ter wa",
      "userId": "01448980402448893441"
     },
     "user_tz": -540
    },
    "id": "F4E9LCSJGLdh",
    "outputId": "87f2eea8-9c80-409a-c212-3c9af11ce225"
   },
   "outputs": [
    {
     "data": {
      "image/png": "[encoded data removed]",
      "text/plain": [
       "<Figure size 640x480 with 1 Axes>"
      ]
     },
     "metadata": {},
     "output_type": "display_data"
    }
   ],
   "source": [
    "fig, hx = plt.subplots()\n",
    "\n",
    "# 추정된 확률밀도함수 그래프\n",
    "kde = sns.kdeplot(ax=hx, data=housing, color='tab:orange', bw_method=0.19)\n",
    "\n",
    "plt.show()"
   ]
  },
  {
   "cell_type": "markdown",
   "metadata": {
    "id": "9C5jq5FtGLdh"
   },
   "source": [
    "이제 구간별 밀도 히스토그램과 함께 그리면 자연스럽게 막대들의 끝을 따라 부드럽게 움직이는 것처럼 보인다."
   ]
  },
  {
   "cell_type": "code",
   "execution_count": 33,
   "metadata": {
    "colab": {
     "base_uri": "https://localhost:8080/",
     "height": 450
    },
    "executionInfo": {
     "elapsed": 372,
     "status": "ok",
     "timestamp": 1752768592491,
     "user": {
      "displayName": "ter wa",
      "userId": "01448980402448893441"
     },
     "user_tz": -540
    },
    "id": "lDUR8yODGLdh",
    "outputId": "b800e3b1-0f26-434d-d226-200193ecd495"
   },
   "outputs": [
    {
     "data": {
      "image/png": "[encoded data removed]",
      "text/plain": [
       "<Figure size 640x480 with 1 Axes>"
      ]
     },
     "metadata": {},
     "output_type": "display_data"
    }
   ],
   "source": [
    "fig, hx = plt.subplots()\n",
    "\n",
    "# 구간별 밀도 히스토그램\n",
    "hx.hist(housing, bins=30, density=True)\n",
    "\n",
    "# 추정된 확률밀도함수 그래프\n",
    "kde = sns.kdeplot(ax=hx, data=housing, bw_method=0.19)\n",
    "\n",
    "plt.show()"
   ]
  },
  {
   "cell_type": "markdown",
   "metadata": {
    "id": "9tAhEvflGLdh"
   },
   "source": [
    "`bw_method` 변수는 평활모수(smoothing parameter, bandwidth)라고 불리는 값을 인자로 받는다.\n",
    "기본 인자는 주어진 데이터를 활용해 자동으로 적절한 값으로 지정된다. 더 자세한 설명은 이후에 정규분포를 다룰 때 다루기로 하고,\n",
    "이 값을 크게 지정할수록 확률밀도함수 그래프의 곡선이 부드럽고 평평해진다는 점만 기억하면 된다.\n",
    "\n",
    "마지막으로 `bw_method=1`로 지정한 경우를 살펴보면, KDE에 의해 추정된 확률밀도함수가 구간별 밀도 히스토그램과 상당히 다른 형태를 띈다."
   ]
  },
  {
   "cell_type": "code",
   "execution_count": 34,
   "metadata": {
    "colab": {
     "base_uri": "https://localhost:8080/",
     "height": 450
    },
    "executionInfo": {
     "elapsed": 289,
     "status": "ok",
     "timestamp": 1752768592783,
     "user": {
      "displayName": "ter wa",
      "userId": "01448980402448893441"
     },
     "user_tz": -540
    },
    "id": "tt7Lb46OGLdh",
    "outputId": "36fe6106-97f7-4d49-f9a6-c27332f6235e"
   },
   "outputs": [
    {
     "data": {
      "image/png": "[encoded data removed]",
      "text/plain": [
       "<Figure size 640x480 with 1 Axes>"
      ]
     },
     "metadata": {},
     "output_type": "display_data"
    }
   ],
   "source": [
    "fig, hx = plt.subplots()\n",
    "\n",
    "# 구간별 밀도 히스토그램\n",
    "hx.hist(housing, bins=30, density=True)\n",
    "\n",
    "# 추정된 확률밀도함수 그래프\n",
    "kde = sns.kdeplot(ax=hx, data=housing, bw_method=1)\n",
    "\n",
    "plt.show()"
   ]
  },
  {
   "cell_type": "markdown",
   "metadata": {
    "id": "1BLc4QZnGLdi"
   },
   "source": [
    "중위소득 데이터의 경우엔\n",
    "자동으로 계산된 `bw_method`의 값보다 `bw_method=0.19`로 지정했을 때가\n",
    "구간별 밀도 히스토그램과 더 밀착된 그래프 모양을 보여준다.\n",
    "이렇듯 커널밀도추정 기법은 여러 옵션에 의존하기 때문에 사용자 입장에선 경우에 따라 적절한 옵션을 찾아 수동으로 지정하는 것이 필요하다."
   ]
  },
  {
   "cell_type": "markdown",
   "metadata": {
    "id": "BsN5FocoGLdi"
   },
   "source": [
    "**Seaborn 라이브러리의 `histplot()` 함수**"
   ]
  },
  {
   "cell_type": "markdown",
   "metadata": {
    "id": "BVCbbmjyGLdi"
   },
   "source": [
    "`sns.histplot()` 함수는 앞에서 많이 활용해 온 `plt.hist()` 함수와 매개변수명에서는 차이가 있지만 기능은 동일하다. 다만 Seaborn 라이브러리의 특성상 색상이 좀더 옅어진다."
   ]
  },
  {
   "cell_type": "code",
   "execution_count": 35,
   "metadata": {
    "colab": {
     "base_uri": "https://localhost:8080/",
     "height": 450
    },
    "executionInfo": {
     "elapsed": 339,
     "status": "ok",
     "timestamp": 1752768593145,
     "user": {
      "displayName": "ter wa",
      "userId": "01448980402448893441"
     },
     "user_tz": -540
    },
    "id": "dm4YgNsZGLdi",
    "outputId": "9953fcaf-db6f-4fc3-af72-beadcd66589b"
   },
   "outputs": [
    {
     "data": {
      "image/png": "[encoded data removed]",
      "text/plain": [
       "<Figure size 640x480 with 1 Axes>"
      ]
     },
     "metadata": {},
     "output_type": "display_data"
    }
   ],
   "source": [
    "fig, hx = plt.subplots()\n",
    "\n",
    "# 구간별 밀도 히스토그램\n",
    "sns.histplot(ax=hx, data=housing, bins=30, stat='density')\n",
    "\n",
    "# 추정된 확률밀도함수 그래프\n",
    "kde = sns.kdeplot(ax=hx, data=housing, bw_method=.19, color='tab:orange')\n",
    "\n",
    "plt.show()"
   ]
  },
  {
   "cell_type": "markdown",
   "metadata": {
    "id": "NpknMr7JGLdi"
   },
   "source": [
    "**`scipy.stats` 모듈**"
   ]
  },
  {
   "cell_type": "markdown",
   "metadata": {
    "id": "2KfI4bG_GLdi"
   },
   "source": [
    "`sns.kdeplot()` 함수는 확률밀도함수 자체를 제공하지 않는다.\n",
    "하지만 주요 통계 함수를 제공하는 `scipy.stats` 모듈의 `gaussian_kde()` 함수는\n",
    "`sns.kdeplot()` 함수와 동일한 KDE 기법을 활용하되, 주어진 데이터에 대한 확률밀도함수를 반환한다."
   ]
  },
  {
   "cell_type": "code",
   "execution_count": 36,
   "metadata": {
    "executionInfo": {
     "elapsed": 4,
     "status": "ok",
     "timestamp": 1752768593152,
     "user": {
      "displayName": "ter wa",
      "userId": "01448980402448893441"
     },
     "user_tz": -540
    },
    "id": "vRpxggZbGLdi"
   },
   "outputs": [],
   "source": [
    "import scipy.stats"
   ]
  },
  {
   "cell_type": "markdown",
   "metadata": {
    "id": "VP-rGwmuGLdj"
   },
   "source": [
    "아래 코드는 `sns.kdeplot()` 함수를 호출할 때 사용된 `bw_method=0.19`를 동일하게 사용하여\n",
    "중위소득 분포에 대한 확률밀도함수 `f_income()`을 정의한다."
   ]
  },
  {
   "cell_type": "code",
   "execution_count": 37,
   "metadata": {
    "executionInfo": {
     "elapsed": 20,
     "status": "ok",
     "timestamp": 1752768593176,
     "user": {
      "displayName": "ter wa",
      "userId": "01448980402448893441"
     },
     "user_tz": -540
    },
    "id": "5FkK11cgGLdj"
   },
   "outputs": [],
   "source": [
    "f_income = scipy.stats.gaussian_kde(housing, bw_method=.19)"
   ]
  },
  {
   "cell_type": "markdown",
   "metadata": {
    "id": "YMEASAFMGLdj"
   },
   "source": [
    "이전 그래프에서 사용된 확률밀도함수 그래프와 동일한 그래프를 `f_income()` 함수를 이용하여 그릴 수 있다."
   ]
  },
  {
   "cell_type": "code",
   "execution_count": 38,
   "metadata": {
    "colab": {
     "base_uri": "https://localhost:8080/",
     "height": 430
    },
    "executionInfo": {
     "elapsed": 757,
     "status": "ok",
     "timestamp": 1752768593937,
     "user": {
      "displayName": "ter wa",
      "userId": "01448980402448893441"
     },
     "user_tz": -540
    },
    "id": "iCuKA8kkGLdj",
    "outputId": "d996c9f9-ce60-4b62-cc51-dd8c5d8cf670"
   },
   "outputs": [
    {
     "data": {
      "image/png": "[encoded data removed]",
      "text/plain": [
       "<Figure size 640x480 with 1 Axes>"
      ]
     },
     "metadata": {},
     "output_type": "display_data"
    }
   ],
   "source": [
    "fig, ax = plt.subplots()\n",
    "\n",
    "xs = np.arange(-0.2, 15.7, 0.01)\n",
    "ax.plot(xs, f_income(xs), color='#ff7f0e')\n",
    "ax.set_ylim([0.0, 0.299])\n",
    "\n",
    "plt.show()"
   ]
  },
  {
   "cell_type": "markdown",
   "metadata": {
    "id": "pCkQPrv5GLdj"
   },
   "source": [
    "### 확률밀도함수 적분"
   ]
  },
  {
   "cell_type": "markdown",
   "metadata": {
    "id": "wjteth3HGLdj"
   },
   "source": [
    "KDE 기법으로 생성된 확률밀도함수 `f_income()`이\n",
    "앞서 중위소득 데이터를 이용하여 직접 정의한 `F_income()` 함수의 도함수에 해당한다는 사실을 근사적으로 보일 수 있다.\n",
    "이를 위해 `F_income(a)`가 `f_income()` 함수를 구간 `[-np.inf, a]`에서 정적분한 값과 매우 유사함을 보인다.\n",
    "`f_income()` 함수는 KDE 기법으로 이론적으로 추정된 함수이므로 함숫값이 정확히 일치하지는 않는다."
   ]
  },
  {
   "cell_type": "markdown",
   "metadata": {
    "id": "BzAZPLxdGLdj"
   },
   "source": [
    "**scipy.integrate 모듈**"
   ]
  },
  {
   "cell_type": "markdown",
   "metadata": {
    "id": "C6QEXgnuGLdj"
   },
   "source": [
    "정적분을 프로그래밍으로 직접 구현하는 일은 간단하지 않다. 따라서\n",
    "통계 관련 전문 라이브러리인 SciPy 라이브러리의 `integrate` 모듈에\n",
    "포함된 `quad()` 함수를 이용한다."
   ]
  },
  {
   "cell_type": "code",
   "execution_count": 39,
   "metadata": {
    "executionInfo": {
     "elapsed": 5,
     "status": "ok",
     "timestamp": 1752768593946,
     "user": {
      "displayName": "ter wa",
      "userId": "01448980402448893441"
     },
     "user_tz": -540
    },
    "id": "jaf-txsaGLdj"
   },
   "outputs": [],
   "source": [
    "from scipy.integrate import quad"
   ]
  },
  {
   "cell_type": "markdown",
   "metadata": {
    "id": "GzkDoEdBGLdj"
   },
   "source": [
    ":::{admonition} `scipy.integrate.quad()` 함수\n",
    ":class: note\n",
    "\n",
    "`quad()` 함수는 단변수 함수의 정적분을 계산한다.\n",
    "Fortran 이라는 계산 전용 프로그래밍언어을 위해\n",
    "개발된 QUADPACK에 포함된 기능을 활용하여 `quad()`라는 이름이 붙었다.\n",
    ":::"
   ]
  },
  {
   "cell_type": "markdown",
   "metadata": {
    "id": "2IcmN5SjGLdk"
   },
   "source": [
    "아래 코드는 중위소득의 전체 범위에서 `f_income()` 함수를 정적분한 결과를 보여준다. `quad()` 함수는 정적분값과 함께 계산된 값과 실제 값 사이의 오차를 함께 반환한다. 여기서는 `f_income()` 함수를 정적분했을 때\n",
    "지정 구간의 확률의 추정치가 계산되는가를 확인하고 오차는 무시한다."
   ]
  },
  {
   "cell_type": "code",
   "execution_count": 40,
   "metadata": {
    "colab": {
     "base_uri": "https://localhost:8080/"
    },
    "executionInfo": {
     "elapsed": 329,
     "status": "ok",
     "timestamp": 1752768594278,
     "user": {
      "displayName": "ter wa",
      "userId": "01448980402448893441"
     },
     "user_tz": -540
    },
    "id": "lpAYTEtWGLdk",
    "outputId": "c48a216a-b7c6-40db-d833-16b48ecc1809"
   },
   "outputs": [
    {
     "data": {
      "text/plain": [
       "(0.998388, 0.000000)"
      ]
     },
     "execution_count": 40,
     "metadata": {},
     "output_type": "execute_result"
    }
   ],
   "source": [
    "quad(f_income, housing.min(), housing.max())"
   ]
  },
  {
   "cell_type": "markdown",
   "metadata": {
    "id": "17uQJNmIGLdk"
   },
   "source": [
    "아래에 정의된 `P_estimate()` 함수는 `quad()` 함수를 이용하여\n",
    "$P(a \\le X \\le b)$를 추정하는 함수다.\n",
    "즉, 앞서 정의한 `P_income()` 함수의 함숫값을 추정하는 함수이다."
   ]
  },
  {
   "cell_type": "code",
   "execution_count": 41,
   "metadata": {
    "executionInfo": {
     "elapsed": 4,
     "status": "ok",
     "timestamp": 1752768594299,
     "user": {
      "displayName": "ter wa",
      "userId": "01448980402448893441"
     },
     "user_tz": -540
    },
    "id": "syWcoJFXGLdk"
   },
   "outputs": [],
   "source": [
    "def P_estimate(a, b):\n",
    "    p, _ = quad(f_income, a, b)\n",
    "    return p"
   ]
  },
  {
   "cell_type": "markdown",
   "metadata": {
    "id": "hAV6oo79GLdk"
   },
   "source": [
    "실수 전체 영역에서는 확률이 1이다."
   ]
  },
  {
   "cell_type": "code",
   "execution_count": 42,
   "metadata": {
    "colab": {
     "base_uri": "https://localhost:8080/"
    },
    "executionInfo": {
     "elapsed": 1617,
     "status": "ok",
     "timestamp": 1752768595919,
     "user": {
      "displayName": "ter wa",
      "userId": "01448980402448893441"
     },
     "user_tz": -540
    },
    "id": "W9du85mvGLdk",
    "outputId": "5bf5bdd1-f2a6-466f-9b05-5435b824e011"
   },
   "outputs": [
    {
     "data": {
      "text/plain": [
       "1.000000"
      ]
     },
     "execution_count": 42,
     "metadata": {},
     "output_type": "execute_result"
    }
   ],
   "source": [
    "P_estimate(-np.inf, np.inf)"
   ]
  },
  {
   "cell_type": "markdown",
   "metadata": {
    "id": "xzcxKQXyGLdk"
   },
   "source": [
    "중위소득 전체 범위의 확률은 1보다 아주 조금 작다.\n",
    "이유는 앞서 추정된 확률밀도함수의 그래프에서 보았듯이\n",
    "KDE 기법이 반환하는 함수는\n",
    "데이터 분포의 영역 밖에도 확률밀도가 0보다 큰 영역을 갖기 때문이다.\n"
   ]
  },
  {
   "cell_type": "code",
   "execution_count": 43,
   "metadata": {
    "colab": {
     "base_uri": "https://localhost:8080/"
    },
    "executionInfo": {
     "elapsed": 316,
     "status": "ok",
     "timestamp": 1752768596237,
     "user": {
      "displayName": "ter wa",
      "userId": "01448980402448893441"
     },
     "user_tz": -540
    },
    "id": "FPkWKZszGLdk",
    "outputId": "82ad21ed-9787-43f4-ed51-1ae3afde04c3"
   },
   "outputs": [
    {
     "data": {
      "text/plain": [
       "0.998388"
      ]
     },
     "execution_count": 43,
     "metadata": {},
     "output_type": "execute_result"
    }
   ],
   "source": [
    "P_estimate(housing.min(), housing.max())"
   ]
  },
  {
   "cell_type": "markdown",
   "metadata": {
    "id": "-Ghxow9kGLdk"
   },
   "source": [
    "중위소득 범주가 2일 확률, 즉 중위소득이 1.5에서 3.0 사이에 위치할 확률은 다음과 같다."
   ]
  },
  {
   "cell_type": "code",
   "execution_count": 44,
   "metadata": {
    "colab": {
     "base_uri": "https://localhost:8080/"
    },
    "executionInfo": {
     "elapsed": 37,
     "status": "ok",
     "timestamp": 1752768596295,
     "user": {
      "displayName": "ter wa",
      "userId": "01448980402448893441"
     },
     "user_tz": -540
    },
    "id": "diT2LdSYGLdl",
    "outputId": "e13a4b56-bfee-4dbb-d73d-f87f6e4e9c36"
   },
   "outputs": [
    {
     "data": {
      "text/plain": [
       "0.329210"
      ]
     },
     "execution_count": 44,
     "metadata": {},
     "output_type": "execute_result"
    }
   ],
   "source": [
    "P_estimate(1.5, 3.0)"
   ]
  },
  {
   "cell_type": "markdown",
   "metadata": {
    "id": "P93AEqmmGLdl"
   },
   "source": [
    "`P_income()` 함수가 데이터로부터 직접 계산한 확률과 비교하면 역시 약간의 오차만큼 작다."
   ]
  },
  {
   "cell_type": "code",
   "execution_count": 45,
   "metadata": {
    "colab": {
     "base_uri": "https://localhost:8080/"
    },
    "executionInfo": {
     "elapsed": 9,
     "status": "ok",
     "timestamp": 1752768596307,
     "user": {
      "displayName": "ter wa",
      "userId": "01448980402448893441"
     },
     "user_tz": -540
    },
    "id": "B5fOaI77GLdl",
    "outputId": "b9eebe2e-1c20-43e0-c4d3-cac674f56477"
   },
   "outputs": [
    {
     "data": {
      "text/plain": [
       "0.333367"
      ]
     },
     "execution_count": 45,
     "metadata": {},
     "output_type": "execute_result"
    }
   ],
   "source": [
    "P_income(1.5, 3.0)"
   ]
  },
  {
   "cell_type": "markdown",
   "metadata": {
    "id": "v1GWFVXaGLdl"
   },
   "source": [
    "`P_estimate()` 함수의 첫째 인자를 음의 무한대로 지정하면\n",
    "앞서 정의한 누적분포함수인 `F_income()`과 유사한 값을 반환하는지 확인해본다.\n",
    "예를 들어 중위소득이 3.7 이하일 확률의 추정값은 다음과 같다."
   ]
  },
  {
   "cell_type": "code",
   "execution_count": 46,
   "metadata": {
    "colab": {
     "base_uri": "https://localhost:8080/"
    },
    "executionInfo": {
     "elapsed": 205,
     "status": "ok",
     "timestamp": 1752768596513,
     "user": {
      "displayName": "ter wa",
      "userId": "01448980402448893441"
     },
     "user_tz": -540
    },
    "id": "sSLnAvXJGLdl",
    "outputId": "30f8c320-4cc1-400b-d0f3-6a686550dd08"
   },
   "outputs": [
    {
     "data": {
      "text/plain": [
       "0.561979"
      ]
     },
     "execution_count": 46,
     "metadata": {},
     "output_type": "execute_result"
    }
   ],
   "source": [
    "P_estimate(-np.inf, 3.7)"
   ]
  },
  {
   "cell_type": "markdown",
   "metadata": {
    "id": "oCkvarKeGLdl"
   },
   "source": [
    "반면에 실제 확률은 이보다 약간 더 크다."
   ]
  },
  {
   "cell_type": "code",
   "execution_count": 47,
   "metadata": {
    "colab": {
     "base_uri": "https://localhost:8080/"
    },
    "executionInfo": {
     "elapsed": 29,
     "status": "ok",
     "timestamp": 1752768596572,
     "user": {
      "displayName": "ter wa",
      "userId": "01448980402448893441"
     },
     "user_tz": -540
    },
    "id": "N6WEY68XGLdl",
    "outputId": "488d951b-1baf-4e35-f684-03f09bb4d304",
    "scrolled": true
   },
   "outputs": [
    {
     "data": {
      "text/plain": [
       "0.567217"
      ]
     },
     "execution_count": 47,
     "metadata": {},
     "output_type": "execute_result"
    }
   ],
   "source": [
    "F_income(3.7)"
   ]
  },
  {
   "cell_type": "markdown",
   "metadata": {
    "id": "TgjTytvNGLdl"
   },
   "source": [
    "### 히스토그램과 KDE 기법 활용 기준"
   ]
  },
  {
   "cell_type": "markdown",
   "metadata": {
    "id": "wV6g65pAGLdl"
   },
   "source": [
    "지금까지의 설명과 예제를 보면 KDE 기법으로 추정된 확률밀도함수가 데이터셋의 실제 분포를 잘 추정하는 것으로 보인다.\n",
    "KDE 기법은 그런데 **단봉 분포**<font size='2'>unimodal distribution</font>,\n",
    "즉 하나의 봉우리만 갖는 형태의 데이터 분포를 갖는 확률변수에 대해서만 제대로 작동한다.\n",
    "반면에 두 개의 봉우리를 갖는 형태의 **쌍봉 분포**<font size='2'>bimodal distribution</font>,\n",
    "세 개 이상의 봉우리를 갖는 형태의 **다봉 분포**<font size='2'>multimodal distribution</font>에 대해서는\n",
    "그렇지 않다.\n",
    "\n",
    "또한 앞서 보았듯이 KDE 추정 확률밀도함수는 평활모수<font size='2'>bandwidth</font> 인자값에 의존하며, 적절한 평활모수를 정하는 일은 쉽지 않다.\n",
    "`sns.kdeplot()` 함수처럼 자동으로 적절한 평활모수를 찾아준다 하더라도\n",
    "히스토그램 그래프를 참고해서 수동으로 조절해 줄 필요가 있는지 판단해야 한다.\n",
    "단, 히스토그램이 전달하는 정보의 내용은 막대의 개수, 즉 각 구간의 크기에 의존함을 기억해야 한다.\n",
    "결국 다양한 경우를 확인하여 사용자의 목적에 맞는 적절한 히스토그램과 평활모수를 지정할 필요가 있다.\n",
    "\n",
    "[(연습) 연속확률분포](https://colab.research.google.com/github/codingalzi/DataSci/blob/master/practices/practice-probability_continuous.ipynb)의\n",
    "문제 8과 문제 9에서 에제를 통해 히스토그램과 KDE 기법의 활용 기준을 설명한다."
   ]
  },
  {
   "cell_type": "markdown",
   "metadata": {
    "id": "T_VIjJNCGLdl"
   },
   "source": [
    "## 결합확률분포"
   ]
  },
  {
   "cell_type": "markdown",
   "metadata": {
    "id": "XmsqqqJ8GLdl"
   },
   "source": [
    "두 연속확률변수 $X$, $Y$가 주어졌을 때 $(X, Y)$는 각 확률변수가 취할 수 있는 값들의 조합을 가리키는 결합확률변수이다.\n",
    "$(X, Y)$가 특정 영역에서 발생할 가능성의 확률분포를\n",
    "**연속결합확률분포**<font size='2'>continuous joint probability distribution</font>, 또는 간단히 결합확률분포라 부르며,\n",
    "$X$가 $a$와 $b$ 사이, $Y$가 $c$와 $d$ 사이의 값을 가질 확률은 다음 세 가지로 표현할 수 있다.\n",
    "\n",
    "$$\n",
    "P(a \\le X \\le b, \\; c \\le Y \\le d)\n",
    "$$\n",
    "\n",
    "$$\n",
    "P(a \\le X \\le b \\; \\cap \\; c \\le Y \\le d)ㄴ\n",
    "$$\n",
    "\n",
    "$$\n",
    "P(a \\le X \\le b\\;\\;\\text{and}\\;\\; c \\le Y \\le d)\n",
    "$$"
   ]
  },
  {
   "cell_type": "markdown",
   "metadata": {
    "id": "-2lz02JsGLdm"
   },
   "source": [
    "**예제: 캘리포니아 구역별 중위소득과 중위주택가격의 결합확률분포**"
   ]
  },
  {
   "cell_type": "markdown",
   "metadata": {
    "id": "IVjIu6ffGLdm"
   },
   "source": [
    "$X$가 캘리포니아의 구역별 중위소득을,\n",
    "$Y$가 캘리포니아의 구역별 중위주택가격을 가리키는 연속확률변수라 하자.\n",
    "임의로 선택된 구역의 중위소득과 중위주택가격이 각각 특정 영역에 포함될 확률을\n",
    "계산하는 연속결합확률분포를 부울 인덱싱을 이용하여 정의할 수 있다.\n",
    "\n",
    "아래 코드는 캘리포니아 주택가격 데이터셋을 불러온 후에\n",
    "중위주택가격이 50만을 초과하는 경우는 삭제하고 인덱스를 초기화한다.\n",
    "최종적으로 중위소득과 중위주택가격 두 특성만 남긴다. 중위주택가격이 소수점 이하는 모두 0이라 정수로, 즉 이산형으로 간주할 수도 있지만,\n",
    "여기서는 단순하게 부동소수점으로, 즉 연속형 자료형으로 다룬다."
   ]
  },
  {
   "cell_type": "code",
   "execution_count": 48,
   "metadata": {
    "colab": {
     "base_uri": "https://localhost:8080/",
     "height": 455
    },
    "executionInfo": {
     "elapsed": 176,
     "status": "ok",
     "timestamp": 1752768596750,
     "user": {
      "displayName": "ter wa",
      "userId": "01448980402448893441"
     },
     "user_tz": -540
    },
    "id": "trFQuDjKGLdm",
    "outputId": "bc6213b2-08ef-44c6-c470-28e6ea9fac9d"
   },
   "outputs": [
    {
     "data": {
      "text/html": [
       "<div>\n",
       "<style scoped>\n",
       "    .dataframe tbody tr th:only-of-type {\n",
       "        vertical-align: middle;\n",
       "    }\n",
       "\n",
       "    .dataframe tbody tr th {\n",
       "        vertical-align: top;\n",
       "    }\n",
       "\n",
       "    .dataframe thead th {\n",
       "        text-align: right;\n",
       "    }\n",
       "</style>\n",
       "<table border=\"1\" class=\"dataframe\">\n",
       "  <thead>\n",
       "    <tr style=\"text-align: right;\">\n",
       "      <th></th>\n",
       "      <th>median_income</th>\n",
       "      <th>median_house_value</th>\n",
       "    </tr>\n",
       "    <tr>\n",
       "      <th>district</th>\n",
       "      <th></th>\n",
       "      <th></th>\n",
       "    </tr>\n",
       "  </thead>\n",
       "  <tbody>\n",
       "    <tr>\n",
       "      <th>0</th>\n",
       "      <td>8.3252</td>\n",
       "      <td>452600.0</td>\n",
       "    </tr>\n",
       "    <tr>\n",
       "      <th>1</th>\n",
       "      <td>8.3014</td>\n",
       "      <td>358500.0</td>\n",
       "    </tr>\n",
       "    <tr>\n",
       "      <th>2</th>\n",
       "      <td>7.2574</td>\n",
       "      <td>352100.0</td>\n",
       "    </tr>\n",
       "    <tr>\n",
       "      <th>3</th>\n",
       "      <td>5.6431</td>\n",
       "      <td>341300.0</td>\n",
       "    </tr>\n",
       "    <tr>\n",
       "      <th>4</th>\n",
       "      <td>3.8462</td>\n",
       "      <td>342200.0</td>\n",
       "    </tr>\n",
       "    <tr>\n",
       "      <th>...</th>\n",
       "      <td>...</td>\n",
       "      <td>...</td>\n",
       "    </tr>\n",
       "    <tr>\n",
       "      <th>19670</th>\n",
       "      <td>1.5603</td>\n",
       "      <td>78100.0</td>\n",
       "    </tr>\n",
       "    <tr>\n",
       "      <th>19671</th>\n",
       "      <td>2.5568</td>\n",
       "      <td>77100.0</td>\n",
       "    </tr>\n",
       "    <tr>\n",
       "      <th>19672</th>\n",
       "      <td>1.7000</td>\n",
       "      <td>92300.0</td>\n",
       "    </tr>\n",
       "    <tr>\n",
       "      <th>19673</th>\n",
       "      <td>1.8672</td>\n",
       "      <td>84700.0</td>\n",
       "    </tr>\n",
       "    <tr>\n",
       "      <th>19674</th>\n",
       "      <td>2.3886</td>\n",
       "      <td>89400.0</td>\n",
       "    </tr>\n",
       "  </tbody>\n",
       "</table>\n",
       "<p>19675 rows × 2 columns</p>\n",
       "</div>"
      ],
      "text/plain": [
       "          median_income  median_house_value\n",
       "district                                   \n",
       "0                8.3252            452600.0\n",
       "1                8.3014            358500.0\n",
       "2                7.2574            352100.0\n",
       "3                5.6431            341300.0\n",
       "4                3.8462            342200.0\n",
       "...                 ...                 ...\n",
       "19670            1.5603             78100.0\n",
       "19671            2.5568             77100.0\n",
       "19672            1.7000             92300.0\n",
       "19673            1.8672             84700.0\n",
       "19674            2.3886             89400.0\n",
       "\n",
       "[19675 rows x 2 columns]"
      ]
     },
     "execution_count": 48,
     "metadata": {},
     "output_type": "execute_result"
    }
   ],
   "source": [
    "housing = pd.read_csv(data_url+\"california_housing.csv\")\n",
    "\n",
    "# 중위주택가격이 50만1달러 이상인 구역 삭제\n",
    "house_value_max = housing['median_house_value'].max() # 500,001\n",
    "mask = housing['median_house_value'] >= house_value_max\n",
    "housing = housing[~mask]\n",
    "\n",
    "# 인덱스 초기화\n",
    "housing = housing.reset_index(drop=True)\n",
    "\n",
    "# 중위소득 특성만 선택\n",
    "housing = housing.loc[:, ['median_income', 'median_house_value']]\n",
    "housing.index.name = 'district'\n",
    "housing"
   ]
  },
  {
   "cell_type": "markdown",
   "metadata": {
    "id": "boiuP9qsGLdm"
   },
   "source": [
    "임의로 선택된 구역의 중위소득은 3.0에서 4.5 사이에,\n",
    "중위주택가격은 15만에서 25만 사이에 위치할 확률을 계산하기 위해 부울 마스크를 지정한다."
   ]
  },
  {
   "cell_type": "code",
   "execution_count": 49,
   "metadata": {
    "executionInfo": {
     "elapsed": 33,
     "status": "ok",
     "timestamp": 1752768596786,
     "user": {
      "displayName": "ter wa",
      "userId": "01448980402448893441"
     },
     "user_tz": -540
    },
    "id": "mxe3ihTpGLdm"
   },
   "outputs": [],
   "source": [
    "a = 3.0\n",
    "b = 4.5\n",
    "c = 150_000\n",
    "d = 250_000\n",
    "\n",
    "mask_X = (a <= housing.median_income) & (housing.median_income <= b)\n",
    "mask_Y = (c <= housing.median_house_value) & (housing.median_house_value <= d)"
   ]
  },
  {
   "cell_type": "markdown",
   "metadata": {
    "id": "kEiw0-deGLdm"
   },
   "source": [
    "`pd.crosstab()` 함수를 이용하면 `True`, `False` 조합의 도수로 구성된\n",
    "`2x2` 행렬 모양의 데이터프레임이 생성된다."
   ]
  },
  {
   "cell_type": "code",
   "execution_count": 50,
   "metadata": {
    "colab": {
     "base_uri": "https://localhost:8080/",
     "height": 143
    },
    "executionInfo": {
     "elapsed": 59,
     "status": "ok",
     "timestamp": 1752768596849,
     "user": {
      "displayName": "ter wa",
      "userId": "01448980402448893441"
     },
     "user_tz": -540
    },
    "id": "HhNiHFe_GLdm",
    "outputId": "d4fb5ddf-f96a-4935-8301-404e26c0588e"
   },
   "outputs": [
    {
     "data": {
      "text/html": [
       "<div>\n",
       "<style scoped>\n",
       "    .dataframe tbody tr th:only-of-type {\n",
       "        vertical-align: middle;\n",
       "    }\n",
       "\n",
       "    .dataframe tbody tr th {\n",
       "        vertical-align: top;\n",
       "    }\n",
       "\n",
       "    .dataframe thead th {\n",
       "        text-align: right;\n",
       "    }\n",
       "</style>\n",
       "<table border=\"1\" class=\"dataframe\">\n",
       "  <thead>\n",
       "    <tr style=\"text-align: right;\">\n",
       "      <th>median_house_value</th>\n",
       "      <th>False</th>\n",
       "      <th>True</th>\n",
       "    </tr>\n",
       "    <tr>\n",
       "      <th>median_income</th>\n",
       "      <th></th>\n",
       "      <th></th>\n",
       "    </tr>\n",
       "  </thead>\n",
       "  <tbody>\n",
       "    <tr>\n",
       "      <th>False</th>\n",
       "      <td>8610</td>\n",
       "      <td>3924</td>\n",
       "    </tr>\n",
       "    <tr>\n",
       "      <th>True</th>\n",
       "      <td>3763</td>\n",
       "      <td>3378</td>\n",
       "    </tr>\n",
       "  </tbody>\n",
       "</table>\n",
       "</div>"
      ],
      "text/plain": [
       "median_house_value  False  True \n",
       "median_income                   \n",
       "False                8610   3924\n",
       "True                 3763   3378"
      ]
     },
     "execution_count": 50,
     "metadata": {},
     "output_type": "execute_result"
    }
   ],
   "source": [
    "pd.crosstab(mask_X, mask_Y)"
   ]
  },
  {
   "cell_type": "markdown",
   "metadata": {
    "id": "ee2SDBKQGLdm"
   },
   "source": [
    "각 경우의 상대도수를 편하게 계산하기 위해 `margins=True` 키워드 인자를 지정하는 게 좋다."
   ]
  },
  {
   "cell_type": "code",
   "execution_count": 51,
   "metadata": {
    "colab": {
     "base_uri": "https://localhost:8080/",
     "height": 175
    },
    "executionInfo": {
     "elapsed": 5,
     "status": "ok",
     "timestamp": 1752768596858,
     "user": {
      "displayName": "ter wa",
      "userId": "01448980402448893441"
     },
     "user_tz": -540
    },
    "id": "WFPr2VszGLdm",
    "outputId": "1e0bb98a-39f1-4e32-c336-8734bde591e3"
   },
   "outputs": [
    {
     "data": {
      "text/html": [
       "<div>\n",
       "<style scoped>\n",
       "    .dataframe tbody tr th:only-of-type {\n",
       "        vertical-align: middle;\n",
       "    }\n",
       "\n",
       "    .dataframe tbody tr th {\n",
       "        vertical-align: top;\n",
       "    }\n",
       "\n",
       "    .dataframe thead th {\n",
       "        text-align: right;\n",
       "    }\n",
       "</style>\n",
       "<table border=\"1\" class=\"dataframe\">\n",
       "  <thead>\n",
       "    <tr style=\"text-align: right;\">\n",
       "      <th>median_house_value</th>\n",
       "      <th>False</th>\n",
       "      <th>True</th>\n",
       "      <th>All</th>\n",
       "    </tr>\n",
       "    <tr>\n",
       "      <th>median_income</th>\n",
       "      <th></th>\n",
       "      <th></th>\n",
       "      <th></th>\n",
       "    </tr>\n",
       "  </thead>\n",
       "  <tbody>\n",
       "    <tr>\n",
       "      <th>False</th>\n",
       "      <td>8610</td>\n",
       "      <td>3924</td>\n",
       "      <td>12534</td>\n",
       "    </tr>\n",
       "    <tr>\n",
       "      <th>True</th>\n",
       "      <td>3763</td>\n",
       "      <td>3378</td>\n",
       "      <td>7141</td>\n",
       "    </tr>\n",
       "    <tr>\n",
       "      <th>All</th>\n",
       "      <td>12373</td>\n",
       "      <td>7302</td>\n",
       "      <td>19675</td>\n",
       "    </tr>\n",
       "  </tbody>\n",
       "</table>\n",
       "</div>"
      ],
      "text/plain": [
       "median_house_value  False  True    All\n",
       "median_income                         \n",
       "False                8610  3924  12534\n",
       "True                 3763  3378   7141\n",
       "All                 12373  7302  19675"
      ]
     },
     "execution_count": 51,
     "metadata": {},
     "output_type": "execute_result"
    }
   ],
   "source": [
    "pd.crosstab(mask_X, mask_Y, margins=True)"
   ]
  },
  {
   "cell_type": "markdown",
   "metadata": {
    "id": "oVqpKIeIGLdn"
   },
   "source": [
    "두 특성이 각각 지정된 구간에 포함될 확률은 두 특성이 모두\n",
    "`True`인 칸에 위치한 값 0.171690, 즉 약 17.2% 정도로 계산된다."
   ]
  },
  {
   "cell_type": "code",
   "execution_count": 52,
   "metadata": {
    "colab": {
     "base_uri": "https://localhost:8080/",
     "height": 175
    },
    "executionInfo": {
     "elapsed": 55,
     "status": "ok",
     "timestamp": 1752768596915,
     "user": {
      "displayName": "ter wa",
      "userId": "01448980402448893441"
     },
     "user_tz": -540
    },
    "id": "FhB-awn3GLdn",
    "outputId": "983ac54c-8161-459d-b7ee-1bd7dc41e478"
   },
   "outputs": [
    {
     "data": {
      "text/html": [
       "<div>\n",
       "<style scoped>\n",
       "    .dataframe tbody tr th:only-of-type {\n",
       "        vertical-align: middle;\n",
       "    }\n",
       "\n",
       "    .dataframe tbody tr th {\n",
       "        vertical-align: top;\n",
       "    }\n",
       "\n",
       "    .dataframe thead th {\n",
       "        text-align: right;\n",
       "    }\n",
       "</style>\n",
       "<table border=\"1\" class=\"dataframe\">\n",
       "  <thead>\n",
       "    <tr style=\"text-align: right;\">\n",
       "      <th>median_house_value</th>\n",
       "      <th>False</th>\n",
       "      <th>True</th>\n",
       "      <th>All</th>\n",
       "    </tr>\n",
       "    <tr>\n",
       "      <th>median_income</th>\n",
       "      <th></th>\n",
       "      <th></th>\n",
       "      <th></th>\n",
       "    </tr>\n",
       "  </thead>\n",
       "  <tbody>\n",
       "    <tr>\n",
       "      <th>False</th>\n",
       "      <td>0.437611</td>\n",
       "      <td>0.199441</td>\n",
       "      <td>0.637052</td>\n",
       "    </tr>\n",
       "    <tr>\n",
       "      <th>True</th>\n",
       "      <td>0.191258</td>\n",
       "      <td>0.171690</td>\n",
       "      <td>0.362948</td>\n",
       "    </tr>\n",
       "    <tr>\n",
       "      <th>All</th>\n",
       "      <td>0.628869</td>\n",
       "      <td>0.371131</td>\n",
       "      <td>1.000000</td>\n",
       "    </tr>\n",
       "  </tbody>\n",
       "</table>\n",
       "</div>"
      ],
      "text/plain": [
       "median_house_value     False      True       All\n",
       "median_income                                   \n",
       "False               0.437611  0.199441  0.637052\n",
       "True                0.191258  0.171690  0.362948\n",
       "All                 0.628869  0.371131  1.000000"
      ]
     },
     "execution_count": 52,
     "metadata": {},
     "output_type": "execute_result"
    }
   ],
   "source": [
    "pd.crosstab(mask_X, mask_Y, margins=True) / 19675"
   ]
  },
  {
   "cell_type": "markdown",
   "metadata": {
    "id": "aXkg2cxYGLdn"
   },
   "source": [
    "참고로, 현재의 두 구간은 {numref}`%s장 <ch:probability-discrete>`에서 각각 중위소득 3구간,\n",
    "중위주택가격 4구간으로 지정되었으며\n",
    "당시 이산결합확률변수가 각각의 구간에 속할 확률은 0.169911, 즉 약 17%로 계산되었다.\n",
    "\n",
    "약간의 오차가 발생하는 이유는 이전까지와 마찬가지로,\n",
    "현재의 데이터셋은 유한 개의 데이터만 포함하므로\n",
    "확률변수가 특정 실수를 취할 확률이 0이 아니기 때문이다.\n",
    "실제로 중위소득이 3.0일 확률은 0이 아니다."
   ]
  },
  {
   "cell_type": "code",
   "execution_count": 53,
   "metadata": {
    "colab": {
     "base_uri": "https://localhost:8080/"
    },
    "executionInfo": {
     "elapsed": 18,
     "status": "ok",
     "timestamp": 1752768596931,
     "user": {
      "displayName": "ter wa",
      "userId": "01448980402448893441"
     },
     "user_tz": -540
    },
    "id": "ou0VnOnqGLdn",
    "outputId": "2a68b378-58dd-4370-e9d1-1a611d9b0022"
   },
   "outputs": [
    {
     "data": {
      "text/plain": [
       "0.001931"
      ]
     },
     "execution_count": 53,
     "metadata": {},
     "output_type": "execute_result"
    }
   ],
   "source": [
    "mask3 = housing.median_income == 3.0\n",
    "mask3.mean()"
   ]
  },
  {
   "cell_type": "markdown",
   "metadata": {
    "id": "K-UGP8N4GLdn"
   },
   "source": [
    "이 점을 고려해서 `mask_X`와 `mask_Y`을  {numref}`%s장 <ch:probability-discrete>` 에서 사용한 구간과 동일하게 지정하면,\n",
    "즉, 구간의 왼쪽 끝을 제외시키면 결과가 0.169911로 이산결합확률분포의 경우와 동일하게 나온다."
   ]
  },
  {
   "cell_type": "code",
   "execution_count": 54,
   "metadata": {
    "colab": {
     "base_uri": "https://localhost:8080/",
     "height": 175
    },
    "executionInfo": {
     "elapsed": 30,
     "status": "ok",
     "timestamp": 1752768596963,
     "user": {
      "displayName": "ter wa",
      "userId": "01448980402448893441"
     },
     "user_tz": -540
    },
    "id": "T-GjEs-VGLdn",
    "outputId": "0db05b14-96a1-474c-e25a-e2502a76c2ba"
   },
   "outputs": [
    {
     "data": {
      "text/html": [
       "<div>\n",
       "<style scoped>\n",
       "    .dataframe tbody tr th:only-of-type {\n",
       "        vertical-align: middle;\n",
       "    }\n",
       "\n",
       "    .dataframe tbody tr th {\n",
       "        vertical-align: top;\n",
       "    }\n",
       "\n",
       "    .dataframe thead th {\n",
       "        text-align: right;\n",
       "    }\n",
       "</style>\n",
       "<table border=\"1\" class=\"dataframe\">\n",
       "  <thead>\n",
       "    <tr style=\"text-align: right;\">\n",
       "      <th>median_house_value</th>\n",
       "      <th>False</th>\n",
       "      <th>True</th>\n",
       "      <th>All</th>\n",
       "    </tr>\n",
       "    <tr>\n",
       "      <th>median_income</th>\n",
       "      <th></th>\n",
       "      <th></th>\n",
       "      <th></th>\n",
       "    </tr>\n",
       "  </thead>\n",
       "  <tbody>\n",
       "    <tr>\n",
       "      <th>False</th>\n",
       "      <td>0.441017</td>\n",
       "      <td>0.197967</td>\n",
       "      <td>0.638983</td>\n",
       "    </tr>\n",
       "    <tr>\n",
       "      <th>True</th>\n",
       "      <td>0.191105</td>\n",
       "      <td>0.169911</td>\n",
       "      <td>0.361017</td>\n",
       "    </tr>\n",
       "    <tr>\n",
       "      <th>All</th>\n",
       "      <td>0.632122</td>\n",
       "      <td>0.367878</td>\n",
       "      <td>1.000000</td>\n",
       "    </tr>\n",
       "  </tbody>\n",
       "</table>\n",
       "</div>"
      ],
      "text/plain": [
       "median_house_value     False      True       All\n",
       "median_income                                   \n",
       "False               0.441017  0.197967  0.638983\n",
       "True                0.191105  0.169911  0.361017\n",
       "All                 0.632122  0.367878  1.000000"
      ]
     },
     "execution_count": 54,
     "metadata": {},
     "output_type": "execute_result"
    }
   ],
   "source": [
    "mask_X = (a < housing.median_income) & (housing.median_income <= b)\n",
    "mask_Y = (c < housing.median_house_value) & (housing.median_house_value <= d)\n",
    "pd.crosstab(mask_X, mask_Y, margins=True) / 19675"
   ]
  },
  {
   "cell_type": "markdown",
   "metadata": {
    "id": "Kbdbzi-dGLdo"
   },
   "source": [
    "그럼에도 불구하고 여기서는 연속결합확률분포를 계산하고 있으므로,\n",
    "구간의 왼쪽 끝을 포함하면서 확률을 계산하기로 한다."
   ]
  },
  {
   "cell_type": "markdown",
   "metadata": {
    "id": "syY6vJswGLdo"
   },
   "source": [
    "**결합확률분포 함수**"
   ]
  },
  {
   "cell_type": "markdown",
   "metadata": {
    "id": "DF-EoiI7GLdo"
   },
   "source": [
    "앞서 사용한 예제를 일반화하여\n",
    "중위소득은 $a$ 와 $b$ 사이,\n",
    "중위주택가격은 $c$ 와 $d$ 사이의\n",
    "값을 가질 확률을 계산하는 결합확률분포 함수를\n",
    "두 개의 부울 마스크를 이용하여 선언한다."
   ]
  },
  {
   "cell_type": "code",
   "execution_count": 55,
   "metadata": {
    "executionInfo": {
     "elapsed": 5,
     "status": "ok",
     "timestamp": 1752768596971,
     "user": {
      "displayName": "ter wa",
      "userId": "01448980402448893441"
     },
     "user_tz": -540
    },
    "id": "cFBqsKWlGLdo"
   },
   "outputs": [],
   "source": [
    "def p_XY(a, b, c, d):\n",
    "    mask_X = (a <= housing.median_income) & (housing.median_income <= b)\n",
    "    mask_Y = (c <= housing.median_house_value) & (housing.median_house_value <= d)\n",
    "    cross_XY = pd.crosstab(mask_X, mask_Y, margins=True)\n",
    "    total = cross_XY.loc['All', 'All']\n",
    "    cross_XY_prob = cross_XY / total\n",
    "    return cross_XY_prob.loc[True, True]"
   ]
  },
  {
   "cell_type": "markdown",
   "metadata": {
    "id": "WHef7lBiGLdo"
   },
   "source": [
    "중위소득은 3구간에, 중위주택가격은 4구간에 속할 확률이\n",
    "이전과 동일하게 확인된다."
   ]
  },
  {
   "cell_type": "code",
   "execution_count": 56,
   "metadata": {
    "colab": {
     "base_uri": "https://localhost:8080/"
    },
    "executionInfo": {
     "elapsed": 38,
     "status": "ok",
     "timestamp": 1752768597037,
     "user": {
      "displayName": "ter wa",
      "userId": "01448980402448893441"
     },
     "user_tz": -540
    },
    "id": "WqSyNqPZGLdo",
    "outputId": "d56d36bb-c8f9-4ca3-c255-1a83dec585ac"
   },
   "outputs": [
    {
     "data": {
      "text/plain": [
       "0.171690"
      ]
     },
     "execution_count": 56,
     "metadata": {},
     "output_type": "execute_result"
    }
   ],
   "source": [
    "p_XY(a, b, c, d)"
   ]
  },
  {
   "cell_type": "markdown",
   "metadata": {
    "id": "ZY_lV5siGLdo"
   },
   "source": [
    "**결합확률분포 함수의 성질**"
   ]
  },
  {
   "cell_type": "markdown",
   "metadata": {
    "id": "OyBByCLbGLdo"
   },
   "source": [
    "두 확률변수가 취할 수 있는 전 영역에서의 결합확률은 1이다."
   ]
  },
  {
   "cell_type": "code",
   "execution_count": 57,
   "metadata": {
    "colab": {
     "base_uri": "https://localhost:8080/"
    },
    "executionInfo": {
     "elapsed": 33,
     "status": "ok",
     "timestamp": 1752768597065,
     "user": {
      "displayName": "ter wa",
      "userId": "01448980402448893441"
     },
     "user_tz": -540
    },
    "id": "XgpuTuTcGLdo",
    "outputId": "a87804ac-6e41-4f99-8864-93fba06eb472"
   },
   "outputs": [
    {
     "data": {
      "text/plain": [
       "1.000000"
      ]
     },
     "execution_count": 57,
     "metadata": {},
     "output_type": "execute_result"
    }
   ],
   "source": [
    "p_XY(-np.inf, np.inf, -np.inf, np.inf)"
   ]
  },
  {
   "cell_type": "markdown",
   "metadata": {
    "id": "ld1vOotYGLdo"
   },
   "source": [
    "(sec:kde-multivariate)=\n",
    "## 다변량 커널밀도추정"
   ]
  },
  {
   "cell_type": "markdown",
   "metadata": {
    "id": "6EzaofD5GLdo"
   },
   "source": [
    "데이터셋이 주어졌을 때\n",
    "**커널밀도추정**<font size='2'>kernel density estimation</font>(KDE) 기법을 이용하여\n",
    "결합확률분포 함수를 구할 수 있다."
   ]
  },
  {
   "cell_type": "markdown",
   "metadata": {
    "id": "uOOicmnwGLdp"
   },
   "source": [
    "### 결합확률밀도함수"
   ]
  },
  {
   "cell_type": "markdown",
   "metadata": {
    "id": "8ZhtvFFdGLdp"
   },
   "source": [
    "연속확률변수 $X$에 대한 누적분포함수 $F(a)$는\n",
    "확률밀도함수의 적분으로 정의할 수 있다.\n",
    "\n",
    "$$\n",
    "F(a) = P(X \\le a) = \\int_{-\\infty}^{a} f(x)\\; dx\n",
    "$$"
   ]
  },
  {
   "cell_type": "markdown",
   "metadata": {
    "id": "Ovsdof38GLdp"
   },
   "source": [
    "마찬가지로, 결합확률변수 $(X, Y)$에 대한 결합확률분포 함수도 결합확률밀도함수의 적분으로 계산할 수 있다.\n",
    "단, 결합확률밀도함수 $f(x, y)$는 항상 음이 아닌 실수여야 한다."
   ]
  },
  {
   "cell_type": "markdown",
   "metadata": {
    "id": "J5odmDdUGLdp"
   },
   "source": [
    "$$\n",
    "P(a \\le X \\le b, \\; c \\le Y \\le d) = \\int_{a}^{b} \\int_{c}^{d} f(x, y)\\; dy\\, dx\n",
    "$$"
   ]
  },
  {
   "cell_type": "markdown",
   "metadata": {
    "id": "hKgriCUdGLdp"
   },
   "source": [
    "앞서 활용한\n",
    "`scipy.stats` 모듈의 `gaussian_kde()` 함수는 결합확률분포에 대해서도\n",
    "커널밀도추정(KDE) 기법을 적용, 확률밀도함수를 계산한다.\n",
    "또한 주변확률분포도 이산확률분포의 경우와 유사하게 정의하고 활용할 수 있다.\n",
    "하지만 기초 수준에서 다루기에는 조금 어려워서 더이상 언급하지 않는다.\n",
    "대신 결합확률분포의 시각화를 통해 특성들 사이의 상관관계를 확인하는 방법을 간단하게 소개한다."
   ]
  },
  {
   "cell_type": "markdown",
   "metadata": {
    "id": "-IiV4ksIGLdp"
   },
   "source": [
    "### 결합확률분포 시각화"
   ]
  },
  {
   "cell_type": "markdown",
   "metadata": {
    "id": "rAuW2ckfGLdq"
   },
   "source": [
    "Seaborn 라이브러리의 `kdeplot()` 함수를 활용하여\n",
    "두 개의 확률변수를 결합하는 이변량 결합확률분포를 다양한 방식으로 시각화할 수 있다.\n",
    "\n",
    "먼저 아래 코드는 결합확률변수의 분포를 등고선 형식으로 그려준다.\n",
    "안쪽 등고선이 보다 높은 데이터 밀도를 갖는다."
   ]
  },
  {
   "cell_type": "code",
   "execution_count": 58,
   "metadata": {
    "colab": {
     "base_uri": "https://localhost:8080/",
     "height": 450
    },
    "executionInfo": {
     "elapsed": 19883,
     "status": "ok",
     "timestamp": 1752768616944,
     "user": {
      "displayName": "ter wa",
      "userId": "01448980402448893441"
     },
     "user_tz": -540
    },
    "id": "E_iL-KDsGLdq",
    "outputId": "57296b04-6237-4ab6-d5f0-710171b80ac1"
   },
   "outputs": [
    {
     "data": {
      "image/png": "[encoded data removed]",
      "text/plain": [
       "<Figure size 640x480 with 1 Axes>"
      ]
     },
     "metadata": {},
     "output_type": "display_data"
    }
   ],
   "source": [
    "fig, hx = plt.subplots()\n",
    "\n",
    "# 추정된 확률밀도함수 그래프\n",
    "sns.kdeplot(ax = hx, data=housing, x=\"median_income\", y=\"median_house_value\")\n",
    "\n",
    "plt.show()"
   ]
  },
  {
   "cell_type": "markdown",
   "metadata": {
    "id": "IvgiNko3GLdq"
   },
   "source": [
    "다음 코드는 데이터 산점도와 확률밀도함수 그래프를 함께 그린다.\n",
    "산점도와 등고선을 구분하기 위해 등고선 색상을 변경한다. 안쪽 등고선의 영역일수록 많은 데이터가 모여있음을 잘 확인해준다. 특히 `scatter()` 함수의 호출에 쓰인 `alpha=.1` 인자는 점들의 투명도를 조절하기 위한 것인데, `alpha`값이 0에 가까울수록 투명하고 1에 가까울수록 불투명하다. 점들의 투명도를 낮추면 점들이 많이 겹쳐 있는 영역에서 투명한 점들이 여러 개 겹쳐서 더 진한 색으로 보이게 되므로 데이터의 밀집도를 시각적으로 파악하는 데 도움이 된다.\n",
    "\n"
   ]
  },
  {
   "cell_type": "code",
   "execution_count": 59,
   "metadata": {
    "colab": {
     "base_uri": "https://localhost:8080/",
     "height": 450
    },
    "executionInfo": {
     "elapsed": 18519,
     "status": "ok",
     "timestamp": 1752768770538,
     "user": {
      "displayName": "ter wa",
      "userId": "01448980402448893441"
     },
     "user_tz": -540
    },
    "id": "s2a7j2aOGLdq",
    "outputId": "40769131-db67-41bc-b086-052fb20a3322"
   },
   "outputs": [
    {
     "data": {
      "image/png": "[encoded data removed]",
      "text/plain": [
       "<Figure size 640x480 with 1 Axes>"
      ]
     },
     "metadata": {},
     "output_type": "display_data"
    }
   ],
   "source": [
    "fig, hx = plt.subplots()\n",
    "\n",
    "# 추정된 확률밀도함수 그래프\n",
    "sns.kdeplot(ax=hx, data=housing, x=\"median_income\", y=\"median_house_value\", color='tab:orange')\n",
    "\n",
    "# 데이터 산점도\n",
    "hx.scatter(housing['median_income'], housing['median_house_value'], alpha=.1, s=10)\n",
    "\n",
    "plt.show()"
   ]
  },
  {
   "cell_type": "markdown",
   "metadata": {
    "id": "K7niPeAWGLdq"
   },
   "source": [
    "`sns.kdeplot()` 함수 자체로 밀도를 색으로 구분해주는 기능이 있다.\n",
    "또한 색막대를 이용하여 색상에 따른 밀도를 함께 확인할 수도 있다."
   ]
  },
  {
   "cell_type": "code",
   "execution_count": 60,
   "metadata": {
    "executionInfo": {
     "elapsed": 44803,
     "status": "aborted",
     "timestamp": 1752768634757,
     "user": {
      "displayName": "ter wa",
      "userId": "01448980402448893441"
     },
     "user_tz": -540
    },
    "id": "CZKt-MtIGLdq"
   },
   "outputs": [
    {
     "data": {
      "image/png": "[encoded data removed]",
      "text/plain": [
       "<Figure size 800x500 with 2 Axes>"
      ]
     },
     "metadata": {},
     "output_type": "display_data"
    }
   ],
   "source": [
    "fig, hx = plt.subplots(figsize=(8, 5))\n",
    "\n",
    "# 추정된 확률밀도함수 그래프\n",
    "sns.kdeplot(ax = hx, data=housing, x=\"median_income\", y=\"median_house_value\", fill=True, cbar=True)\n",
    "\n",
    "plt.show()"
   ]
  },
  {
   "cell_type": "markdown",
   "metadata": {
    "id": "UxG6r8KyGLdr"
   },
   "source": [
    "## Cycler 색상표"
   ]
  },
  {
   "cell_type": "markdown",
   "metadata": {
    "id": "FCbrYteIGLdr"
   },
   "source": [
    "`matplotlib.axes._axes.Axes` 클래스는 이미지를 담당하는 객체를 생성할 때 활용된다.\n",
    "하나의 이미지에 여러 개의 그래프를 구분하며 그릴 때 색을 사용한다.\n",
    "`matplotlib.pyplot`과 `seaborn` 라이브러리는 하나의 이미지에 여러 개의 그래프를 그릴 때\n",
    "최대 10개의 색으로 구분한다.\n",
    "10개 보다 많은 그래프를 하나의 이미지에 그릴 때는 10개의 색이 순환되며,\n",
    "이런 의미에서 **cycler 색상표**라 부른다.\n",
    "\n",
    "아래 코드는 한 이미지에 포함된 여러 개의 그래프를 구분하기 위해 사용하는 10개의 색 순서와\n",
    "색 이름을 문자열과 hex code라 불리는 16진수를 멋진 이미지로 그린다."
   ]
  },
  {
   "cell_type": "markdown",
   "metadata": {
    "id": "ivW5DU6YGLdr"
   },
   "source": [
    ":::{admonition} 주의사항\n",
    ":class: warning\n",
    "\n",
    "아래 코드는 그래프를 그릴 때 사용되는 색과 색의 코드를 보여주는 용도로만 사용된다.\n",
    "코드 자체를 이해하지 못해도 상관 없다.\n",
    ":::"
   ]
  },
  {
   "cell_type": "code",
   "execution_count": 61,
   "metadata": {
    "executionInfo": {
     "elapsed": 44798,
     "status": "aborted",
     "timestamp": 1752768634762,
     "user": {
      "displayName": "ter wa",
      "userId": "01448980402448893441"
     },
     "user_tz": -540
    },
    "id": "2bCQidwuGLdr"
   },
   "outputs": [
    {
     "data": {
      "image/png": "[encoded data removed]",
      "text/plain": [
       "<Figure size 640x480 with 1 Axes>"
      ]
     },
     "metadata": {},
     "output_type": "display_data"
    }
   ],
   "source": [
    "import matplotlib.pyplot as plt\n",
    "import numpy as np\n",
    "\n",
    "from matplotlib.colors import TABLEAU_COLORS, same_color\n",
    "\n",
    "\n",
    "def sigmoid_like(x, pos):\n",
    "    \"\"\"S-자 곡선 함수. 대략적으로 pos 위치에서 끝남.\"\"\"\n",
    "    return 0.85 * pos * (1 / (1 + np.exp(-x)) + 0.2)\n",
    "\n",
    "\n",
    "fig, ax = plt.subplots()\n",
    "ax.axis('off')\n",
    "ax.set_title(\"Colors in the default property cycle\")\n",
    "\n",
    "prop_cycle = plt.rcParams['axes.prop_cycle']\n",
    "colors = prop_cycle.by_key()['color']\n",
    "x = np.linspace(-4, 4, 200)\n",
    "\n",
    "for i, (color, color_name) in enumerate(zip(colors, TABLEAU_COLORS)):\n",
    "    assert same_color(color, color_name)\n",
    "    pos = 4.5 - i\n",
    "    ax.plot(x, sigmoid_like(x, pos))\n",
    "    ax.text(4.2, pos, f\"'C{i}': '{color_name}' ('{color}')\", color=color, va=\"center\")\n",
    "    ax.bar(11, 1, width=1.5, bottom=pos-0.5)\n",
    "\n",
    "plt.show()"
   ]
  },
  {
   "cell_type": "markdown",
   "metadata": {
    "id": "6MwnNCChGLdr"
   },
   "source": [
    "참고로 지금까지 확률밀도함수의 그래프는 모두 Cycler 색상의 두번째(C1)인 주황색(`tab:orange` 또는 `#ff7f0e`)으로 지정되었다."
   ]
  },
  {
   "cell_type": "markdown",
   "metadata": {
    "id": "N27FugkKGLdr"
   },
   "source": [
    "## 연습문제"
   ]
  },
  {
   "cell_type": "markdown",
   "metadata": {
    "id": "QNc0DOMnGLdr"
   },
   "source": [
    "참고: [(연습) 연속확률분포](https://colab.research.google.com/github/codingalzi/DataSci/blob/master/practices/practice-probability_continuous.ipynb)"
   ]
  }
 ],
 "metadata": {
  "colab": {
   "provenance": [
    {
     "file_id": "https://github.com/codingalzi/DataSci/blob/master/jupyter-book/probability_continuous.ipynb",
     "timestamp": 1752482498025
    }
   ]
  },
  "kernelspec": {
   "display_name": "Python 3 (ipykernel)",
   "language": "python",
   "name": "python3"
  },
  "language_info": {
   "codemirror_mode": {
    "name": "ipython",
    "version": 3
   },
   "file_extension": ".py",
   "mimetype": "text/x-python",
   "name": "python",
   "nbconvert_exporter": "python",
   "pygments_lexer": "ipython3",
   "version": "3.12.2"
  },
  "toc": {
   "nav_menu": {},
   "number_sections": true,
   "sideBar": true,
   "skip_h1_title": false,
   "toc_cell": false,
   "toc_position": {},
   "toc_section_display": "block",
   "toc_window_display": false
  }
 },
 "nbformat": 4,
 "nbformat_minor": 1
}