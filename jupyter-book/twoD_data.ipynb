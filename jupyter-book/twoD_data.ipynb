{
 "cells": [
  {
   "cell_type": "markdown",
   "metadata": {
    "id": "U7xxOoGoyzx8"
   },
   "source": [
    "(ch:twoD-data)=\n",
    "# 2차원 데이터"
   ]
  },
  {
   "cell_type": "markdown",
   "metadata": {
    "id": "ZUu6DdE7yzx9"
   },
   "source": [
    "**기본 설정**"
   ]
  },
  {
   "cell_type": "markdown",
   "metadata": {
    "ExecuteTime": {
     "end_time": "2018-08-03T08:26:15.690793Z",
     "start_time": "2018-08-03T08:26:15.507201Z"
    },
    "id": "oCVUGNeCyzx-"
   },
   "source": [
    "`numpy`와 `pandas` 라이브러리를 각각 `np`와 `pd`로 불러온다."
   ]
  },
  {
   "cell_type": "code",
   "execution_count": 1,
   "metadata": {
    "ExecuteTime": {
     "end_time": "2018-08-14T06:43:30.149227Z",
     "start_time": "2018-08-14T06:43:29.960007Z"
    },
    "id": "RzF79rNzyzx-"
   },
   "outputs": [],
   "source": [
    "import numpy as np\n",
    "import pandas as pd"
   ]
  },
  {
   "cell_type": "markdown",
   "metadata": {
    "id": "c_P-z_qRyzx_"
   },
   "source": [
    "데이터프레임의 [chained indexing을 금지시키기 위한 설정](https://pandas.pydata.org/pandas-docs/stable/user_guide/indexing.html#returning-a-view-versus-a-copy)을 지정한다.\n",
    "Pandas 3.0 버전부터는 기본 옵션으로 지정된다."
   ]
  },
  {
   "cell_type": "code",
   "execution_count": 2,
   "metadata": {
    "id": "R2d6XQ4nyzx_"
   },
   "outputs": [],
   "source": [
    "pd.options.mode.copy_on_write = True"
   ]
  },
  {
   "cell_type": "markdown",
   "metadata": {
    "ExecuteTime": {
     "end_time": "2018-08-14T06:43:30.149227Z",
     "start_time": "2018-08-14T06:43:29.960007Z"
    },
    "id": "MJ2PS-uOyzyA"
   },
   "source": [
    "주피터 노트북에서 부동소수점의 출력을 소수점 이하 6자리로 제한한다.\n",
    "아래 코드는 주피터 노트북에서만 사용하며 일반적인 파이썬 코드가 아니다."
   ]
  },
  {
   "cell_type": "code",
   "execution_count": 3,
   "metadata": {
    "ExecuteTime": {
     "end_time": "2018-08-14T06:43:30.149227Z",
     "start_time": "2018-08-14T06:43:29.960007Z"
    },
    "colab": {
     "base_uri": "https://localhost:8080/",
     "height": 35
    },
    "executionInfo": {
     "elapsed": 10,
     "status": "ok",
     "timestamp": 1752244273749,
     "user": {
      "displayName": "ter wa",
      "userId": "01448980402448893441"
     },
     "user_tz": -540
    },
    "id": "B6DEHF3vyzyA",
    "outputId": "94b329a0-58de-47b3-bac3-138c0030d8e8"
   },
   "outputs": [
    {
     "data": {
      "text/plain": [
       "'%.6f'"
      ]
     },
     "execution_count": 3,
     "metadata": {},
     "output_type": "execute_result"
    }
   ],
   "source": [
    "%precision 6"
   ]
  },
  {
   "cell_type": "markdown",
   "metadata": {
    "ExecuteTime": {
     "end_time": "2018-08-14T06:43:30.149227Z",
     "start_time": "2018-08-14T06:43:29.960007Z"
    },
    "id": "aSnsksxiyzyA"
   },
   "source": [
    "아래 코드는 데이터프레임 내에서 부동소수점의 출력을 소수점 이하 6자리로 제한한다."
   ]
  },
  {
   "cell_type": "code",
   "execution_count": 4,
   "metadata": {
    "ExecuteTime": {
     "end_time": "2018-08-14T06:43:30.149227Z",
     "start_time": "2018-08-14T06:43:29.960007Z"
    },
    "id": "ZQD3yQIfyzyB"
   },
   "outputs": [],
   "source": [
    "pd.set_option('display.precision', 6)"
   ]
  },
  {
   "cell_type": "markdown",
   "metadata": {
    "id": "Na5hD0LUyzyC"
   },
   "source": [
    "## 선형 상관관계"
   ]
  },
  {
   "cell_type": "markdown",
   "metadata": {
    "id": "NKs1j3PKyzyC"
   },
   "source": [
    "영어를 잘하는 학생은 수학도 잘하는가? 그 반대인가? 아니면 아무런 상관관계도 없는가? 이 장에서는 학생들의 영어 점수와 수학 점수에 해당하는 2차원 데이터로부터 두 점수간의 상관관계를 분석하는 방법을 소개한다.\n",
    "\n",
    "상관관계는 선형 상관관계와 비선형 상관관계로 나뉜다. 선형 상관관계는 하나의 데이터 값이 증가함에 따라 다른 데이터 값이 일차함수로 단조증가(양의 상관관계) 또는 단조감소(음의 상관관계)를 의미하고, 비선형 상관관계는 일차함수보다 복잡한 함수로 나타나는 경우를 말한다. 2차원 데이터를 다루는 대부분의 경우, 선형 상관관계 여부를 분석하며, 이를 평가하기 위한 척도로서 공분산<font size='2'>covariance</font>과 상관계수<font size='2'>correlation coefficient</font>를 사용한다."
   ]
  },
  {
   "cell_type": "markdown",
   "metadata": {
    "id": "YtXxstRAyo55"
   },
   "source": [
    "**시각화 라이브러리 및 데이터 준비하기**"
   ]
  },
  {
   "cell_type": "markdown",
   "metadata": {
    "id": "GdxNW6tXyo54"
   },
   "source": [
    "기본설정은 앞 장들과 동일하며, 여기서는 추가로 데이터 시각화를 위해 필요한 라이브러리 `matplotlib.pyplot`를 `plt`라는 별칭으로 불러온다."
   ]
  },
  {
   "cell_type": "code",
   "execution_count": 5,
   "metadata": {
    "id": "v39i9hLLyo55"
   },
   "outputs": [],
   "source": [
    "import matplotlib.pyplot as plt"
   ]
  },
  {
   "cell_type": "markdown",
   "metadata": {
    "id": "e_5DPnXfyzyC"
   },
   "source": [
    "코드에 사용되는 [데이터 저장소의 기본 디렉토리](https://github.com/codingalzi/DataSci/tree/master/data)를 지정한다."
   ]
  },
  {
   "cell_type": "code",
   "execution_count": 6,
   "metadata": {
    "id": "qljfqjSxyzyC"
   },
   "outputs": [],
   "source": [
    "data_url = 'https://raw.githubusercontent.com/codingalzi/statsRev/refs/heads/master/data/'"
   ]
  },
  {
   "cell_type": "markdown",
   "metadata": {
    "ExecuteTime": {
     "end_time": "2018-08-03T08:26:15.708374Z",
     "start_time": "2018-08-03T08:26:15.691921Z"
    },
    "id": "dE0cdb9eyo55"
   },
   "source": [
    "50명의 영어와 수학 점수를 담고 있는 csv 파일을 데이터프레임으로 불러온다.\n",
    "이때 학생번호를 인덱스로 지정한다."
   ]
  },
  {
   "cell_type": "code",
   "execution_count": 25,
   "metadata": {},
   "outputs": [],
   "source": [
    "gdpPerCapita_2015_2020 = pd.read_csv(data_url + \"gdp_per_capaita_2015_2020.csv\", index_col='Country')"
   ]
  },
  {
   "cell_type": "code",
   "execution_count": 26,
   "metadata": {},
   "outputs": [
    {
     "name": "stdout",
     "output_type": "stream",
     "text": [
      "<class 'pandas.core.frame.DataFrame'>\n",
      "Index: 187 entries, Afghanistan to Zimbabwe\n",
      "Data columns (total 2 columns):\n",
      " #   Column  Non-Null Count  Dtype  \n",
      "---  ------  --------------  -----  \n",
      " 0   2015    187 non-null    float64\n",
      " 1   2020    182 non-null    float64\n",
      "dtypes: float64(2)\n",
      "memory usage: 4.4+ KB\n"
     ]
    }
   ],
   "source": [
    "gdpPerCapita_2015_2020.info()"
   ]
  },
  {
   "cell_type": "code",
   "execution_count": 27,
   "metadata": {},
   "outputs": [],
   "source": [
    "gdpPerCapita_2015_2020.dropna(inplace=True)"
   ]
  },
  {
   "cell_type": "code",
   "execution_count": 28,
   "metadata": {},
   "outputs": [
    {
     "name": "stdout",
     "output_type": "stream",
     "text": [
      "<class 'pandas.core.frame.DataFrame'>\n",
      "Index: 182 entries, Afghanistan to Zimbabwe\n",
      "Data columns (total 2 columns):\n",
      " #   Column  Non-Null Count  Dtype  \n",
      "---  ------  --------------  -----  \n",
      " 0   2015    182 non-null    float64\n",
      " 1   2020    182 non-null    float64\n",
      "dtypes: float64(2)\n",
      "memory usage: 4.3+ KB\n"
     ]
    }
   ],
   "source": [
    "gdpPerCapita_2015_2020.info()"
   ]
  },
  {
   "cell_type": "markdown",
   "metadata": {
    "ExecuteTime": {
     "end_time": "2018-08-03T08:26:15.708374Z",
     "start_time": "2018-08-03T08:26:15.691921Z"
    },
    "id": "dE0cdb9eyo55"
   },
   "source": [
    "50명의 영어와 수학 점수를 담고 있는 csv 파일을 데이터프레임으로 불러온다.\n",
    "이때 학생번호를 인덱스로 지정한다."
   ]
  },
  {
   "cell_type": "code",
   "execution_count": null,
   "metadata": {
    "ExecuteTime": {
     "end_time": "2018-08-14T06:43:30.160598Z",
     "start_time": "2018-08-14T06:43:30.150458Z"
    },
    "colab": {
     "base_uri": "https://localhost:8080/",
     "height": 1000
    },
    "executionInfo": {
     "elapsed": 336,
     "status": "ok",
     "timestamp": 1752244274086,
     "user": {
      "displayName": "ter wa",
      "userId": "01448980402448893441"
     },
     "user_tz": -540
    },
    "id": "R6P0rvJcyo55",
    "outputId": "602d515c-6008-46cc-fc3e-0e3e97383e0b"
   },
   "outputs": [],
   "source": [
    "df_2015 = pd.read_csv(data_url+'gdp_per_capita_2015.csv', encoding='latin_1', sep='\\t', index_col='Country').loc[:, ['2015']].iloc[:-1].dropna()\n",
    "df_2015"
   ]
  },
  {
   "cell_type": "code",
   "execution_count": null,
   "metadata": {},
   "outputs": [],
   "source": [
    "df_2015[2015] = df_2015['2015'].str.replace(',', '').astype('f8')"
   ]
  },
  {
   "cell_type": "code",
   "execution_count": null,
   "metadata": {},
   "outputs": [],
   "source": [
    "df_2015 = df_2015[[2015]]\n",
    "df_2015"
   ]
  },
  {
   "cell_type": "code",
   "execution_count": null,
   "metadata": {
    "ExecuteTime": {
     "end_time": "2018-08-14T06:43:30.160598Z",
     "start_time": "2018-08-14T06:43:30.150458Z"
    },
    "colab": {
     "base_uri": "https://localhost:8080/",
     "height": 1000
    },
    "executionInfo": {
     "elapsed": 336,
     "status": "ok",
     "timestamp": 1752244274086,
     "user": {
      "displayName": "ter wa",
      "userId": "01448980402448893441"
     },
     "user_tz": -540
    },
    "id": "R6P0rvJcyo55",
    "outputId": "602d515c-6008-46cc-fc3e-0e3e97383e0b"
   },
   "outputs": [],
   "source": [
    "df_2020 = pd.read_csv(data_url+'gdp_per_capita_2020.csv', encoding='latin_1', index_col='Country').loc[:, ['2020']].iloc[:-2].dropna()\n",
    "df_2020"
   ]
  },
  {
   "cell_type": "code",
   "execution_count": null,
   "metadata": {},
   "outputs": [],
   "source": [
    "df_2020[2020] = df_2020['2020'].str.replace(',', '').astype('f8')"
   ]
  },
  {
   "cell_type": "code",
   "execution_count": null,
   "metadata": {},
   "outputs": [],
   "source": [
    "df_2020 = df_2020[[2020]]\n",
    "df_2020"
   ]
  },
  {
   "cell_type": "code",
   "execution_count": null,
   "metadata": {},
   "outputs": [],
   "source": [
    "gdpPerCapita_2015_2020 = df_2015.join(df_2020)\n",
    "gdpPerCapita_2015_2020"
   ]
  },
  {
   "cell_type": "code",
   "execution_count": null,
   "metadata": {},
   "outputs": [],
   "source": [
    "gdpPerCapita_2015_2020.info()"
   ]
  },
  {
   "cell_type": "code",
   "execution_count": null,
   "metadata": {},
   "outputs": [],
   "source": [
    "gdpPerCapita_2015_2020"
   ]
  },
  {
   "cell_type": "code",
   "execution_count": null,
   "metadata": {},
   "outputs": [],
   "source": []
  },
  {
   "cell_type": "code",
   "execution_count": null,
   "metadata": {},
   "outputs": [],
   "source": []
  },
  {
   "cell_type": "code",
   "execution_count": null,
   "metadata": {},
   "outputs": [],
   "source": []
  },
  {
   "cell_type": "markdown",
   "metadata": {
    "id": "N3ipG_sTyzyC"
   },
   "source": [
    "**10개 데이터 샘플 추출**"
   ]
  },
  {
   "cell_type": "code",
   "execution_count": null,
   "metadata": {},
   "outputs": [],
   "source": [
    "gdpPerCapita_2015_2020.to_csv(\"../data/gdp_per_capaita_2015_2020.csv\")"
   ]
  },
  {
   "cell_type": "code",
   "execution_count": null,
   "metadata": {},
   "outputs": [],
   "source": []
  },
  {
   "cell_type": "code",
   "execution_count": null,
   "metadata": {},
   "outputs": [],
   "source": []
  },
  {
   "cell_type": "markdown",
   "metadata": {
    "id": "N3ipG_sTyzyC"
   },
   "source": [
    "**10개 데이터 샘플 추출**"
   ]
  },
  {
   "cell_type": "markdown",
   "metadata": {
    "id": "0z-BnvcgyzyD"
   },
   "source": [
    "이해를 쉽게 하기 위해, 처음 10개의 샘플만 이용해 상관관계를 분석해보자.\n",
    "\n",
    "먼저 학생들의 이름을 활용할 수 있도록\n",
    "처음 열 명의 이름 A, B, C, …, J를 인덱스로 지정하고, 인덱스 이름을 student로 지정한다.\n",
    "두 가지 방식이 있는데, 먼저 넘파이 어레이를 활용하는 방법이다."
   ]
  },
  {
   "cell_type": "markdown",
   "metadata": {
    "id": "3IZHZo2AyzyD"
   },
   "source": [
    "방식 1: 넘파이 어레이 활용"
   ]
  },
  {
   "cell_type": "markdown",
   "metadata": {
    "id": "6Muz27VWyzyD"
   },
   "source": [
    "각각의 특성에서 처음 10개 데이터만 추출해서 어레이로 지정한다."
   ]
  },
  {
   "cell_type": "code",
   "execution_count": null,
   "metadata": {
    "ExecuteTime": {
     "end_time": "2018-08-14T06:40:19.544111Z",
     "start_time": "2018-08-14T06:40:19.534006Z"
    },
    "id": "0mkuKvpqyzyD"
   },
   "outputs": [],
   "source": [
    "eng_scores = np.array(df['english'])[:10]\n",
    "math_scores = np.array(df['mathematics'])[:10]"
   ]
  },
  {
   "cell_type": "markdown",
   "metadata": {
    "id": "oki-Tj27yzyD"
   },
   "source": [
    "추출된 두 개의 데이터에 대해 각각 english, mathematics 특성명과 함께\n",
    "각 데이터 샘플의 인덱스를 알파벳 A부터 J로 지정한 새로운 데이터프레임을 생성한다.\n",
    "또한 인덱스의 이름을 student로 지정한다."
   ]
  },
  {
   "cell_type": "code",
   "execution_count": null,
   "metadata": {
    "ExecuteTime": {
     "end_time": "2018-08-14T06:40:19.544111Z",
     "start_time": "2018-08-14T06:40:19.534006Z"
    },
    "id": "i_w4LeTyyzyD"
   },
   "outputs": [],
   "source": [
    "scores_df = pd.DataFrame({'english':eng_scores,\n",
    "                          'mathematics':math_scores},\n",
    "                         index=pd.Index(list('ABCDEFGHIJ'),\n",
    "                                        name='student'))"
   ]
  },
  {
   "cell_type": "code",
   "execution_count": null,
   "metadata": {
    "ExecuteTime": {
     "end_time": "2018-08-14T06:40:19.544111Z",
     "start_time": "2018-08-14T06:40:19.534006Z"
    },
    "colab": {
     "base_uri": "https://localhost:8080/",
     "height": 394
    },
    "executionInfo": {
     "elapsed": 17,
     "status": "ok",
     "timestamp": 1752244274167,
     "user": {
      "displayName": "ter wa",
      "userId": "01448980402448893441"
     },
     "user_tz": -540
    },
    "id": "Q6toVLecyzyD",
    "outputId": "f65e6fe2-fbcc-4740-b58e-80c97b43c1da"
   },
   "outputs": [],
   "source": [
    "scores_df"
   ]
  },
  {
   "cell_type": "markdown",
   "metadata": {
    "id": "oH-HuRquyzyD"
   },
   "source": [
    "방식 2: 데이터프레임 슬라이싱 활용"
   ]
  },
  {
   "cell_type": "markdown",
   "metadata": {
    "id": "l1N_Yr4YyzyD"
   },
   "source": [
    "처음 10개의 데이터 샘플을 데이터프레임의 슬라이싱을 이용하여 추출할 수 있다. 단, 원본은 그대로 두고 슬라이싱한 결과의 사본을 반환받는다. 데이터프레임의 슬라이싱은\n",
    "{numref}`%s장 <ch-numpy-array>`에서 소개한\n",
    "뷰<font size='2'>view</font> 기능을 사용하는데,\n",
    "뷰 방식으로 생성된 데이터프레임을 수정하면 원본 데이터프레임도 함께 수정된다. 따라서 데이터프레임의 슬라이싱을 이용할 때는 일반적으로 사본을 만드는 것이 안전하다."
   ]
  },
  {
   "cell_type": "code",
   "execution_count": null,
   "metadata": {
    "colab": {
     "base_uri": "https://localhost:8080/",
     "height": 394
    },
    "executionInfo": {
     "elapsed": 16,
     "status": "ok",
     "timestamp": 1752244274222,
     "user": {
      "displayName": "ter wa",
      "userId": "01448980402448893441"
     },
     "user_tz": -540
    },
    "id": "bJSmnrqeyzyD",
    "outputId": "c96346c3-b83d-4f74-d5b5-eb273eebf65a"
   },
   "outputs": [],
   "source": [
    "scores_df = df.iloc[:10].copy()\n",
    "scores_df"
   ]
  },
  {
   "cell_type": "markdown",
   "metadata": {
    "id": "TTRT5g2lyzyD"
   },
   "source": [
    "데이터프레임의 `index` 속성에 데이터셋의 크기에 해당하는 리스트를 지정하는\n",
    "방식으로 인덱스를 변경한다."
   ]
  },
  {
   "cell_type": "code",
   "execution_count": null,
   "metadata": {
    "id": "MYha_Ew0yzyD"
   },
   "outputs": [],
   "source": [
    "scores_df.index = list('ABCDEFGHIJ')"
   ]
  },
  {
   "cell_type": "markdown",
   "metadata": {
    "id": "AlIvK2pwyzyD"
   },
   "source": [
    "데이터프레임의 `index` 속성이 가리키는 `Index` 객체의 `name` 속성을 `student`로 지정한다."
   ]
  },
  {
   "cell_type": "code",
   "execution_count": null,
   "metadata": {
    "id": "2hlZX0EtyzyH"
   },
   "outputs": [],
   "source": [
    "scores_df.index.name = 'student'"
   ]
  },
  {
   "cell_type": "markdown",
   "metadata": {
    "id": "_eDZRfIbyzyH"
   },
   "source": [
    "이전 방식과 동일한 결과를 얻는다."
   ]
  },
  {
   "cell_type": "code",
   "execution_count": null,
   "metadata": {
    "colab": {
     "base_uri": "https://localhost:8080/",
     "height": 394
    },
    "executionInfo": {
     "elapsed": 28,
     "status": "ok",
     "timestamp": 1752244274258,
     "user": {
      "displayName": "ter wa",
      "userId": "01448980402448893441"
     },
     "user_tz": -540
    },
    "id": "MieQj9TTyzyH",
    "outputId": "1503e6f7-231b-4e29-f4c9-edfe284238cb"
   },
   "outputs": [],
   "source": [
    "scores_df"
   ]
  },
  {
   "cell_type": "markdown",
   "metadata": {
    "id": "jzs7oeJkyzyH"
   },
   "source": [
    "### 산점도"
   ]
  },
  {
   "cell_type": "markdown",
   "metadata": {
    "id": "hlQ607NFyzyH"
   },
   "source": [
    "먼저 두 데이터 사이의 상관관계 여부를 시각적으로 확인하기 위해 산점도<font size='2'>scatter plot</font>를 그려본다.\n",
    "산점도는 `matplotlib.pyplot` 라이브러리에 포함된 `scatter()` 함수를 이용하면 된다.\n",
    "\n",
    "\n",
    "아래 코드는 알파벳 A부터 J까지 10명 학생의 영어 점수와 수학 점수를 산점도로 그려준다. x축이 영어 점수, y축이 수학 점수이다.\n",
    "`matplotlib.pyplot` 라이브러리에 포함된 `annotate()` 함수는 그래프의 특정 좌표에 지정된 레이블을 표기하는 함수인데, 최소한 아래 두 종류의 인자를 지정해야 한다.\n",
    "\n",
    "- 첫째 인자: 표기하고자 하는 문자열\n",
    "- 둘째 인자: 표기하고자 하는 위치. (x좌표, y좌표)의 튜플."
   ]
  },
  {
   "cell_type": "code",
   "execution_count": null,
   "metadata": {
    "colab": {
     "base_uri": "https://localhost:8080/",
     "height": 455
    },
    "executionInfo": {
     "elapsed": 163,
     "status": "ok",
     "timestamp": 1752244274422,
     "user": {
      "displayName": "ter wa",
      "userId": "01448980402448893441"
     },
     "user_tz": -540
    },
    "id": "_Unp0fVPyzyH",
    "outputId": "6e5f33d8-eff8-467d-8069-47a2830f74f4"
   },
   "outputs": [],
   "source": [
    "plt.scatter(eng_scores, math_scores)\n",
    "plt.xlabel('english')\n",
    "plt.ylabel('mathematics')\n",
    "\n",
    "    # 눈금 범위 지정\n",
    "plt.xticks(range(40, 75, 5))\n",
    "plt.yticks(range(60, 90, 5))\n",
    "\n",
    "# 학생 데이터 각각에 이름 추가\n",
    "for i, name in enumerate(scores_df.index):\n",
    "    plt.annotate(name, (eng_scores[i]+0.3, math_scores[i]+0.6))\n",
    "\n",
    "plt.show()"
   ]
  },
  {
   "cell_type": "markdown",
   "metadata": {
    "id": "RxGoNhZsyzyH"
   },
   "source": [
    "위 산점도는 영어 점수가 높아질수록 수학 점수도 올라가는 경향이 있음을 보여준다.\n",
    "즉 영어 점수와 수학 점수는 양의 상관관계를 갖는다고 추측할 수 있다.\n",
    "\n",
    "이제 상관관계를 수치화한 두 가지 척도, 공분산<font size='2'>covariance</font>과 상관계수<font size='2'>correlation coefficient</font>를 통해 살펴보자. 먼저 공분산을 소개한다."
   ]
  },
  {
   "cell_type": "markdown",
   "metadata": {
    "id": "9pNdpwuoyzyH"
   },
   "source": [
    "### 공분산"
   ]
  },
  {
   "cell_type": "markdown",
   "metadata": {
    "id": "vVODmDbqjH49"
   },
   "source": [
    "[6장](https://codingalzi.github.io/DataSci/oneD_data.html#id5)에서 다룬 분산<font size='2'>variance</font>은 한 종류의 데이터 $X=\\{ x_1,\n",
    "\\cdots, x_n \\}$에 대해 샘플값들의 편차의 제곱의 평균값이다. 아래 식과 같이 계산되며, 샘플값들이 평균으로부터 떨어져있는 정도를 나타내는 양의 측정치이다."
   ]
  },
  {
   "cell_type": "markdown",
   "metadata": {
    "id": "igfcDNLryk92"
   },
   "source": [
    "$$\n",
    "S_X^2 = \\frac 1 n \\sum_{i=1}^{n} (x_i - \\bar x)^2 = \\frac 1 n \\left\\{(x_1 - \\bar x)^2 + (x_2 - \\bar x)^2 + \\cdots + (x_n - \\bar x)^2 \\right \\}\n",
    "$$"
   ]
  },
  {
   "cell_type": "markdown",
   "metadata": {
    "id": "CVBUHuS9okpy"
   },
   "source": [
    "\n",
    "공분산<font size='2'>covariance</font>은 두 종류의 데이터 $X=\\{ x_1, \\cdots, x_n \\}$와 $Y=\\{ y_1,\n",
    "\\cdots, y_n \\}$에 대해 다음과 같이 정의하며 $S_{XY}$로 표기하자."
   ]
  },
  {
   "cell_type": "markdown",
   "metadata": {
    "id": "UhzCCU5Six9H"
   },
   "source": [
    "$$\n",
    "\\begin{align*}\n",
    "S_{XY} & = \\frac 1 n \\sum_{i=1}^{n} (x_i - \\bar x)(y_i - \\bar y) \\\\\n",
    "&= \\frac 1 n \\left\\{ (x_1 - \\bar x)(y_1 - \\bar y) + (x_2 - \\bar x)(y_2 - \\bar y) + \\cdots + (x_n - \\bar x)(y_n - \\bar y) \\right\\}\n",
    "\\end{align*}\n",
    "$$"
   ]
  },
  {
   "cell_type": "markdown",
   "metadata": {
    "id": "q315fyyHix9G"
   },
   "source": [
    "위의 두 식으로부터 알 수 있는 사실은, 분산과 달리 공분산은 음수가 나올 수 있다는 것이다.\n",
    "분산은 한 종류의 데이터에 대해 편차의 제곱의 평균이므로 항상 양의 값을 갖는다. 하지만 공분산은 두 종류의 데이터에 대해 편차의 곱의 평균인데, 곱해지는 편차의 부호가 다른 항들은 음수가 되므로 평균 또한 음수가 될 수 있다.\n",
    "\n",
    "\n",
    "예를 들어, 아래 그림은 학생 C, E, H 에 대해, 영어 점수와 수학 점수의 편차를 각각 가로와 세로의 길이로 표현한 세 개의 직사각형을 보여준다. 이 그림에서 학생 C의 두 점수의 편차의 곱은 음의 값을 갖는다. 영어 점수의 편차는 양수, 수학 점수의 편차는 음수이기 때문이다. 학생 E는 두 점수의 편차가 모두 양수이므로 편차의 곱도 양수가 되는 경우이고, 학생 H는 두 점수의 편차가 모두 음수여서 편차의 곱이 양수가 되는 경우이다."
   ]
  },
  {
   "cell_type": "markdown",
   "metadata": {
    "id": "kDMKDsnXyzyH"
   },
   "source": [
    "<p><div align=\"center\"><img src=\"https://github.com/codingalzi/DataSci/blob/master/jupyter-book/images/ch03/img-3-2.jpg?raw=true\" style=\"width:500px\"></div></p>"
   ]
  },
  {
   "cell_type": "markdown",
   "metadata": {
    "id": "rZSaabfUyzyH"
   },
   "source": [
    "참고로 10명 학생의 영어, 수학 평균값은 각각 55.0과 71.4다."
   ]
  },
  {
   "cell_type": "markdown",
   "metadata": {
    "id": "3elSM7ptyzyI"
   },
   "source": [
    "아래 코드는 위 수식을 계산하는 데 필요한 값들을 모아놓은 데이터프레임을 생성한다. 특성명에 사용된 dev는 편차deviation의 줄임말이다."
   ]
  },
  {
   "cell_type": "code",
   "execution_count": null,
   "metadata": {
    "colab": {
     "base_uri": "https://localhost:8080/",
     "height": 147
    },
    "executionInfo": {
     "elapsed": 6,
     "status": "ok",
     "timestamp": 1752244274456,
     "user": {
      "displayName": "ter wa",
      "userId": "01448980402448893441"
     },
     "user_tz": -540
    },
    "id": "KSU-oBcjyzyH",
    "outputId": "079c97d9-92ce-4788-ba83-de97594cbb62"
   },
   "outputs": [],
   "source": [
    "scores_df.mean()"
   ]
  },
  {
   "cell_type": "code",
   "execution_count": null,
   "metadata": {
    "ExecuteTime": {
     "end_time": "2018-08-14T06:40:19.566635Z",
     "start_time": "2018-08-14T06:40:19.545215Z"
    },
    "id": "32nxBxCIyzyI"
   },
   "outputs": [],
   "source": [
    "summary_df = scores_df.copy()\n",
    "\n",
    "summary_df['eng_dev'] = summary_df['english'] - summary_df['english'].mean()\n",
    "summary_df['math_dev'] = summary_df['mathematics'] - summary_df['mathematics'].mean()\n",
    "summary_df['dev_product'] = summary_df['eng_dev'] * summary_df['math_dev']"
   ]
  },
  {
   "cell_type": "code",
   "execution_count": null,
   "metadata": {
    "ExecuteTime": {
     "end_time": "2018-08-14T06:40:19.566635Z",
     "start_time": "2018-08-14T06:40:19.545215Z"
    },
    "colab": {
     "base_uri": "https://localhost:8080/",
     "height": 394
    },
    "executionInfo": {
     "elapsed": 28,
     "status": "ok",
     "timestamp": 1752244274484,
     "user": {
      "displayName": "ter wa",
      "userId": "01448980402448893441"
     },
     "user_tz": -540
    },
    "id": "KS9KFDqkyzyI",
    "outputId": "cc8e1caa-db31-4deb-a584-76a4cf8274cd"
   },
   "outputs": [],
   "source": [
    "summary_df"
   ]
  },
  {
   "cell_type": "markdown",
   "metadata": {
    "id": "q9h-NWBGyzyI"
   },
   "source": [
    "이제 영어 점수와 수학 점수의 공분산을 구할 수 있다. 두 점수의 공분산은 편차 곱인 `dev_product` 특성의 평균값인 62.8 이며, 두 점수가 양의 상관관계를 가짐을 의미한다. 산포도에서 예상했던 바와 일치한다."
   ]
  },
  {
   "cell_type": "code",
   "execution_count": null,
   "metadata": {
    "ExecuteTime": {
     "end_time": "2018-08-14T06:40:19.570409Z",
     "start_time": "2018-08-14T06:40:19.567674Z"
    },
    "colab": {
     "base_uri": "https://localhost:8080/"
    },
    "executionInfo": {
     "elapsed": 4,
     "status": "ok",
     "timestamp": 1752244274490,
     "user": {
      "displayName": "ter wa",
      "userId": "01448980402448893441"
     },
     "user_tz": -540
    },
    "id": "tlW4oNspyzyI",
    "outputId": "d496030b-a820-4aaf-907e-abd6e5afc834"
   },
   "outputs": [],
   "source": [
    "summary_df['dev_product'].mean()"
   ]
  },
  {
   "cell_type": "markdown",
   "metadata": {
    "id": "WdbbKXhcz9jz"
   },
   "source": [
    "위의 코드는 공분산 계산과정을 구체적으로 보여주기 위한 것이다.\n",
    "하지만 넘파이와 판다스 모두 공분산을 계산하는 API를 제공하는데, 넘파이의 `cov()`와 데이터프레임의 `cov()`가 그것이다."
   ]
  },
  {
   "cell_type": "markdown",
   "metadata": {
    "id": "NEMnb9tEyzyI"
   },
   "source": [
    "**넘파이의 `cov()` 함수**"
   ]
  },
  {
   "cell_type": "markdown",
   "metadata": {
    "id": "XI9tivFCyzyI"
   },
   "source": [
    "아래 코드는 넘파이의 `cov()` 함수를 이용해 두 데이터의 공분산을 계산한다. (2, 2) 행렬 모양의 어레이가 생성되는데, 이 어레이의 항목별 의미는 다음과 같다.\n",
    "\n",
    "\n",
    "| 인덱스 | 의미 |\n",
    "| :---: | :--- |\n",
    "| `[0, 0]` | 영어 점수와 영어 점수의 공분산, 즉 영어 점수의 분산 |\n",
    "| `[0, 1]` | 영어 점수와 수학 점수의 공분산 |\n",
    "| `[1, 0]` | 수학 점수와 영어 점수의 공분산 |\n",
    "| `[1, 1]` | 수학 점수와 수학 점수의 공분산, 즉 수학 점수의 분산 |"
   ]
  },
  {
   "cell_type": "code",
   "execution_count": null,
   "metadata": {
    "ExecuteTime": {
     "end_time": "2018-08-14T06:40:19.575907Z",
     "start_time": "2018-08-14T06:40:19.571427Z"
    },
    "colab": {
     "base_uri": "https://localhost:8080/"
    },
    "executionInfo": {
     "elapsed": 26,
     "status": "ok",
     "timestamp": 1752244274517,
     "user": {
      "displayName": "ter wa",
      "userId": "01448980402448893441"
     },
     "user_tz": -540
    },
    "id": "dy1vtlbtyzyI",
    "outputId": "4925ebca-6a74-4414-c7ac-1f1cfee74e5e"
   },
   "outputs": [],
   "source": [
    "cov_mat = np.cov(eng_scores, math_scores, ddof=0)\n",
    "cov_mat"
   ]
  },
  {
   "cell_type": "markdown",
   "metadata": {
    "id": "1IBjV_XEyzyJ"
   },
   "source": [
    "공분산의 계산식으로부터 알 수 있듯이, '영어 점수와 수학 점수의 공분산'과 '수학 점수와 영어 점수의 공분산'은 동일하게 나온다. 각 과목별 공분산은 해당 과목 점수의 분산과 일치하는지 확인해보자."
   ]
  },
  {
   "cell_type": "code",
   "execution_count": null,
   "metadata": {
    "ExecuteTime": {
     "end_time": "2018-08-14T06:40:19.588330Z",
     "start_time": "2018-08-14T06:40:19.584646Z"
    },
    "colab": {
     "base_uri": "https://localhost:8080/"
    },
    "executionInfo": {
     "elapsed": 7,
     "status": "ok",
     "timestamp": 1752244274523,
     "user": {
      "displayName": "ter wa",
      "userId": "01448980402448893441"
     },
     "user_tz": -540
    },
    "id": "83gmu3FVyzyJ",
    "outputId": "2d332997-b489-4ec1-9319-926f107c2bd0"
   },
   "outputs": [],
   "source": [
    "print(\"영어 점수 분산:\", np.var(eng_scores, ddof=0))"
   ]
  },
  {
   "cell_type": "code",
   "execution_count": null,
   "metadata": {
    "ExecuteTime": {
     "end_time": "2018-08-14T06:40:19.588330Z",
     "start_time": "2018-08-14T06:40:19.584646Z"
    },
    "colab": {
     "base_uri": "https://localhost:8080/"
    },
    "executionInfo": {
     "elapsed": 4,
     "status": "ok",
     "timestamp": 1752244274528,
     "user": {
      "displayName": "ter wa",
      "userId": "01448980402448893441"
     },
     "user_tz": -540
    },
    "id": "MTMWUC8OyzyJ",
    "outputId": "539d359e-ae22-41f1-8c8f-a4521ab9f19d"
   },
   "outputs": [],
   "source": [
    "print(\"수학 점수 분산:\", np.var(math_scores, ddof=0))"
   ]
  },
  {
   "cell_type": "markdown",
   "metadata": {
    "id": "KD-IwghzyzyJ"
   },
   "source": [
    "**데이터프레임의 `cov()` 메서드**"
   ]
  },
  {
   "cell_type": "markdown",
   "metadata": {
    "id": "6hsFWGONyzyJ"
   },
   "source": [
    "데이터프레임 객체의 `cov()` 메서드는 모든 특성들 사이의 공분산을 계산한다.\n",
    "데이터프레임`scores_df`에 `english`와 `mathematics` 두 개의 특성이 있으므로, (2, 2) 행렬 모양의 데이터프레임을 생성한다.\n",
    "\n",
    "앞서 `np.cov()`의 반환값을 설명할 때 사용된 인덱스가 여기서는 특성명으로 대체된다."
   ]
  },
  {
   "cell_type": "code",
   "execution_count": null,
   "metadata": {
    "colab": {
     "base_uri": "https://localhost:8080/",
     "height": 112
    },
    "executionInfo": {
     "elapsed": 14,
     "status": "ok",
     "timestamp": 1752244274542,
     "user": {
      "displayName": "ter wa",
      "userId": "01448980402448893441"
     },
     "user_tz": -540
    },
    "id": "xKGMSQwNyzyJ",
    "outputId": "cd0a55e4-efbd-4f7e-ef38-8425919f6ce6"
   },
   "outputs": [],
   "source": [
    "scores_df.cov(ddof=0)"
   ]
  },
  {
   "cell_type": "markdown",
   "metadata": {
    "id": "2vWqG1OdyzyJ"
   },
   "source": [
    "**참고**\n",
    "\n",
    "`ddof=1`로 지정하면 불편분산이 계산된다."
   ]
  },
  {
   "cell_type": "code",
   "execution_count": null,
   "metadata": {
    "ExecuteTime": {
     "end_time": "2018-08-14T06:40:19.575907Z",
     "start_time": "2018-08-14T06:40:19.571427Z"
    },
    "colab": {
     "base_uri": "https://localhost:8080/"
    },
    "executionInfo": {
     "elapsed": 22,
     "status": "ok",
     "timestamp": 1752244274566,
     "user": {
      "displayName": "ter wa",
      "userId": "01448980402448893441"
     },
     "user_tz": -540
    },
    "id": "CXSx1vJEyzyK",
    "outputId": "18ee09c7-d445-4123-aec3-0ee7948c404e"
   },
   "outputs": [],
   "source": [
    "cov_mat = np.cov(eng_scores, math_scores, ddof=1)\n",
    "cov_mat"
   ]
  },
  {
   "cell_type": "code",
   "execution_count": null,
   "metadata": {
    "colab": {
     "base_uri": "https://localhost:8080/",
     "height": 112
    },
    "executionInfo": {
     "elapsed": 22,
     "status": "ok",
     "timestamp": 1752244274586,
     "user": {
      "displayName": "ter wa",
      "userId": "01448980402448893441"
     },
     "user_tz": -540
    },
    "id": "SzSZyRgryzyK",
    "outputId": "773b99a2-bf65-41dc-8668-a3f4f959f7f8"
   },
   "outputs": [],
   "source": [
    "scores_df.cov(ddof=1)"
   ]
  },
  {
   "cell_type": "markdown",
   "metadata": {
    "id": "Mv17VU2IyzyK"
   },
   "source": [
    "### 상관계수"
   ]
  },
  {
   "cell_type": "markdown",
   "metadata": {
    "id": "CVbdkWGMyzyK"
   },
   "source": [
    "공분산은 데이터의 크기와 단위에 따라 계산된 값의 크기와 단위가 달라진다.\n",
    "예를 들어 학생들의 키와 체중을 대상으로 공분산을 계산한다면 단위가 `cm * kg`이 되고,\n",
    "멀리뛰기와 오래 매달리기의 공분산은 단위가 `m * sec`이 된다.\n",
    "또한, 동일한 단위를 사용한다 하더라도 데이터 값의 척도(scale)에 따라 공분산 값도 많이 달라질 수 있다.\n",
    "예를 들어, 10명이 아닌 50명 전체를 대상으로 영어 점수와 수학 점수의 공분산을 계산하면\n",
    "공분산이 60점 대에서 50점 대로 달라진다."
   ]
  },
  {
   "cell_type": "code",
   "execution_count": null,
   "metadata": {
    "colab": {
     "base_uri": "https://localhost:8080/",
     "height": 112
    },
    "executionInfo": {
     "elapsed": 5,
     "status": "ok",
     "timestamp": 1752244274587,
     "user": {
      "displayName": "ter wa",
      "userId": "01448980402448893441"
     },
     "user_tz": -540
    },
    "id": "99SSV1sJyzyK",
    "outputId": "d939dc35-2997-4382-a9ea-48685bbeb0e7"
   },
   "outputs": [],
   "source": [
    "df.cov(ddof=0)"
   ]
  },
  {
   "cell_type": "markdown",
   "metadata": {
    "id": "Lq68SflNyzyK"
   },
   "source": [
    "따라서 공분산 값의 절대적 크기는 상관관계의 강도를 측정하는 기준이 될 수 없다. 이 점을 보완한 척도가 **상관계수**<font size='2'>correlation coefficient</font>이다. 여러가지 상관계수가 있으나, 가장 대표적인 것이 **피어슨 상관계수**<font size='2'>Pearson correlation coefficient</font>이다. 데이터 $X$와 $Y$의 피어슨 상관계수 $r_{XY}$는 공분산 $S_{XY}$을 각 데이터의 표준편차 $S_X$와 $S_Y$로 나눈 값이다. 아래 계산식으로부터 알 수 있듯이, 두 데이터의 단위 및 척도(scale)와 무관한, 항상 -1과 1 사이의 값이 나온다."
   ]
  },
  {
   "cell_type": "markdown",
   "metadata": {
    "id": "vPvlgrdtyzyK"
   },
   "source": [
    "$$\n",
    "r_{xy} = \\frac{S_{xy}}{S_x \\cdot S_y}\n",
    "$$"
   ]
  },
  {
   "cell_type": "markdown",
   "metadata": {
    "id": "Zws2WzGvyzyK"
   },
   "source": [
    "피어슨 상관계수의 값으로부터 두 데이터의 상관관계는 다음과 같이 평가된다.\n",
    "\n",
    "| 상관계수 | 의미 |\n",
    "| :--- | :--- |\n",
    "| 1에 가까운 값 | 양의 상관관계가 강함 |\n",
    "| -1에 가까운 값 | 음의 상관관계가 강함 |\n",
    "| 0에 가까운 값 | 상관관계가 거의 없음 |"
   ]
  },
  {
   "cell_type": "markdown",
   "metadata": {
    "id": "AAxmva7CyzyK"
   },
   "source": [
    "아래 그림은 다양한 상관계수에 대응되는 산점도들이다.\n",
    "상관계수의 절댓값이 1에 가까워질수록 산점도가 직선에 가까워지며,\n",
    "0에 가까워질수록 산점도가 여러 방향으로 넓게 퍼져 두 데이터의 상관관계가 모호해진다."
   ]
  },
  {
   "cell_type": "markdown",
   "metadata": {
    "id": "uT9yak6ayzyK"
   },
   "source": [
    "<p><div align=\"center\"><img src=\"https://github.com/codingalzi/DataSci/blob/master/jupyter-book/images/ch03/img-3-3.jpg?raw=true\" style=\"width:500px\"></div></p>"
   ]
  },
  {
   "cell_type": "markdown",
   "metadata": {
    "id": "N9otyIt6yzyK"
   },
   "source": [
    "**`np.corrcoef()` 함수**"
   ]
  },
  {
   "cell_type": "markdown",
   "metadata": {
    "id": "PyUBCrx7yzyK"
   },
   "source": [
    "10명 학생의 영어 점수와 수학 점수의 상관계수는 넘파이의 `corrcoef()` 함수와 데이터프레임의 `corr()` 메서드로 계산할 수 있다.\n",
    "\n",
    "\n",
    "넘파이 `corrcoef()` 함수의 반환값 모양과 항목별 의미는\n",
    "공분산 `cov()` 함수의 경우와 동일하다. 10명 학생의 영어 점수와 수학 점수의 상관계수는 0.82 정도로 1에 무척 가깝다. 따라서 두 데이터 사이의 선형 상관관계는 매우 큰 편이라고 평가할 수 있다."
   ]
  },
  {
   "cell_type": "code",
   "execution_count": null,
   "metadata": {
    "ExecuteTime": {
     "end_time": "2018-08-14T06:40:19.597039Z",
     "start_time": "2018-08-14T06:40:19.593315Z"
    },
    "colab": {
     "base_uri": "https://localhost:8080/"
    },
    "executionInfo": {
     "elapsed": 21,
     "status": "ok",
     "timestamp": 1752244274608,
     "user": {
      "displayName": "ter wa",
      "userId": "01448980402448893441"
     },
     "user_tz": -540
    },
    "id": "5olg1_FgyzyK",
    "outputId": "2799145b-3591-4211-c89d-fe9c43856651"
   },
   "outputs": [],
   "source": [
    "np.corrcoef(eng_scores, math_scores)"
   ]
  },
  {
   "cell_type": "markdown",
   "metadata": {
    "id": "SDPUjSCoyzyL"
   },
   "source": [
    "**데이터프레임의 `corr()` 메서드**"
   ]
  },
  {
   "cell_type": "markdown",
   "metadata": {
    "id": "ODnD1EQdyzyL"
   },
   "source": [
    "데이터프레임의 `corr()` 메서드도 동일한 결과를 보여준다."
   ]
  },
  {
   "cell_type": "code",
   "execution_count": null,
   "metadata": {
    "ExecuteTime": {
     "end_time": "2018-08-14T06:40:19.602887Z",
     "start_time": "2018-08-14T06:40:19.598025Z"
    },
    "colab": {
     "base_uri": "https://localhost:8080/",
     "height": 112
    },
    "executionInfo": {
     "elapsed": 40,
     "status": "ok",
     "timestamp": 1752244274636,
     "user": {
      "displayName": "ter wa",
      "userId": "01448980402448893441"
     },
     "user_tz": -540
    },
    "id": "cZluPGSkyzyL",
    "outputId": "f98bfefe-7a0d-415d-ff4c-2b19aecfba26"
   },
   "outputs": [],
   "source": [
    "scores_df.corr()"
   ]
  },
  {
   "cell_type": "markdown",
   "metadata": {
    "id": "OV2UXCCRyzyL"
   },
   "source": [
    "50명 전체의 영어 점수와 수학 점수의 상관계수는 0.72 정도로 조금 약해지지만, 여전히 강한 선형 상관관계라고 볼 수 있다."
   ]
  },
  {
   "cell_type": "code",
   "execution_count": null,
   "metadata": {
    "ExecuteTime": {
     "end_time": "2018-08-14T06:40:19.602887Z",
     "start_time": "2018-08-14T06:40:19.598025Z"
    },
    "colab": {
     "base_uri": "https://localhost:8080/",
     "height": 112
    },
    "executionInfo": {
     "elapsed": 3,
     "status": "ok",
     "timestamp": 1752244274639,
     "user": {
      "displayName": "ter wa",
      "userId": "01448980402448893441"
     },
     "user_tz": -540
    },
    "id": "gTO2Tk0eyzyL",
    "outputId": "379e3366-cc02-4370-a092-f72e5d506571"
   },
   "outputs": [],
   "source": [
    "df.corr()"
   ]
  },
  {
   "cell_type": "markdown",
   "metadata": {
    "id": "hNV4zQ0yyzyL"
   },
   "source": [
    "## 연습문제"
   ]
  },
  {
   "cell_type": "markdown",
   "metadata": {
    "id": "5bjhPjaCyzyL"
   },
   "source": [
    "참고: [(연습) 2차원 데이터](https://colab.research.google.com/github/codingalzi/DataSci/blob/master/practices/practice-twoD_data.ipynb)"
   ]
  }
 ],
 "metadata": {
  "colab": {
   "provenance": [
    {
     "file_id": "https://github.com/codingalzi/DataSci/blob/master/jupyter-book/twoD_data.ipynb",
     "timestamp": 1751084909747
    }
   ],
   "toc_visible": true
  },
  "kernelspec": {
   "display_name": "Python 3 (ipykernel)",
   "language": "python",
   "name": "python3"
  },
  "language_info": {
   "codemirror_mode": {
    "name": "ipython",
    "version": 3
   },
   "file_extension": ".py",
   "mimetype": "text/x-python",
   "name": "python",
   "nbconvert_exporter": "python",
   "pygments_lexer": "ipython3",
   "version": "3.12.2"
  },
  "toc": {
   "nav_menu": {},
   "number_sections": true,
   "sideBar": true,
   "skip_h1_title": false,
   "toc_cell": false,
   "toc_position": {},
   "toc_section_display": "block",
   "toc_window_display": false
  }
 },
 "nbformat": 4,
 "nbformat_minor": 1
}
