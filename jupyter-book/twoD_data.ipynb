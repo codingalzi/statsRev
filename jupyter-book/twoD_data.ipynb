{
 "cells": [
  {
   "cell_type": "markdown",
   "metadata": {},
   "source": [
    "(ch:twoD-data)=\n",
    "# 2차원 데이터"
   ]
  },
  {
   "cell_type": "markdown",
   "metadata": {},
   "source": [
    "**기본 설정**"
   ]
  },
  {
   "cell_type": "markdown",
   "metadata": {
    "ExecuteTime": {
     "end_time": "2018-08-03T08:26:15.690793Z",
     "start_time": "2018-08-03T08:26:15.507201Z"
    }
   },
   "source": [
    "`numpy`와 `pandas` 라이브러리를 각각 `np`와 `pd`로 불러온다."
   ]
  },
  {
   "cell_type": "code",
   "execution_count": 1,
   "metadata": {
    "ExecuteTime": {
     "end_time": "2018-08-14T06:43:30.149227Z",
     "start_time": "2018-08-14T06:43:29.960007Z"
    }
   },
   "outputs": [],
   "source": [
    "import numpy as np\n",
    "import pandas as pd"
   ]
  },
  {
   "cell_type": "markdown",
   "metadata": {},
   "source": [
    "데이터프레임의 [chained indexing을 금지시키기 위한 설정](https://pandas.pydata.org/pandas-docs/stable/user_guide/indexing.html#returning-a-view-versus-a-copy)을 지정한다.\n",
    "Pandas 3.0 버전부터는 기본 옵션으로 지정된다."
   ]
  },
  {
   "cell_type": "code",
   "execution_count": 2,
   "metadata": {},
   "outputs": [],
   "source": [
    "pd.options.mode.copy_on_write = True"
   ]
  },
  {
   "cell_type": "markdown",
   "metadata": {
    "ExecuteTime": {
     "end_time": "2018-08-14T06:43:30.149227Z",
     "start_time": "2018-08-14T06:43:29.960007Z"
    }
   },
   "source": [
    "주피터 노트북에서 부동소수점의 출력을 소수점 이하 6자리로 제한한다.\n",
    "아래 코드는 주피터 노트북에서만 사용하며 일반적인 파이썬 코드가 아니다."
   ]
  },
  {
   "cell_type": "code",
   "execution_count": 3,
   "metadata": {
    "ExecuteTime": {
     "end_time": "2018-08-14T06:43:30.149227Z",
     "start_time": "2018-08-14T06:43:29.960007Z"
    }
   },
   "outputs": [
    {
     "data": {
      "text/plain": [
       "'%.6f'"
      ]
     },
     "execution_count": 3,
     "metadata": {},
     "output_type": "execute_result"
    }
   ],
   "source": [
    "%precision 6"
   ]
  },
  {
   "cell_type": "markdown",
   "metadata": {
    "ExecuteTime": {
     "end_time": "2018-08-14T06:43:30.149227Z",
     "start_time": "2018-08-14T06:43:29.960007Z"
    }
   },
   "source": [
    "아래 코드는 데이터프레임 내에서 부동소수점의 출력을 소수점 이하 6자리로 제한한다."
   ]
  },
  {
   "cell_type": "code",
   "execution_count": 4,
   "metadata": {
    "ExecuteTime": {
     "end_time": "2018-08-14T06:43:30.149227Z",
     "start_time": "2018-08-14T06:43:29.960007Z"
    }
   },
   "outputs": [],
   "source": [
    "pd.set_option('display.precision', 6)"
   ]
  },
  {
   "cell_type": "markdown",
   "metadata": {},
   "source": [
    "데이터 시각화를 위해 `matplotlib.pyplot`를 `plt`라는 별칭으로 불러온다."
   ]
  },
  {
   "cell_type": "code",
   "execution_count": 5,
   "metadata": {},
   "outputs": [],
   "source": [
    "import matplotlib.pyplot as plt"
   ]
  },
  {
   "cell_type": "markdown",
   "metadata": {},
   "source": [
    "**데이터 저장소 디렉토리**"
   ]
  },
  {
   "cell_type": "markdown",
   "metadata": {},
   "source": [
    "코드에 사용되는 [데이터 저장소의 기본 디렉토리](https://github.com/codingalzi/DataSci/tree/master/data)를 지정한다."
   ]
  },
  {
   "cell_type": "code",
   "execution_count": 6,
   "metadata": {},
   "outputs": [],
   "source": [
    "data_url = 'https://raw.githubusercontent.com/codingalzi/DataSci/refs/heads/master/data/'"
   ]
  },
  {
   "cell_type": "markdown",
   "metadata": {},
   "source": [
    "**주요 내용**"
   ]
  },
  {
   "cell_type": "markdown",
   "metadata": {},
   "source": [
    "50명 학생의 영어와 수학 점수를 포함하는 2차원 데이터를 데이터프레임으로 불러와서\n",
    "두 점수 데이터의 상관관계를 분석한다.\n",
    "예를 들어, '수학을 잘하는 학생은 영어도 잘하는가'와 같은 두 데이터의 상관성을 확인한다.\n",
    "\n",
    "상관성은 보통 선형 상관계수로 평가되며, 이를 설명하기 위해 먼저 공분산 개념을 소개한다."
   ]
  },
  {
   "cell_type": "markdown",
   "metadata": {},
   "source": [
    "## 선형 상관관계"
   ]
  },
  {
   "cell_type": "markdown",
   "metadata": {},
   "source": [
    "어떤 학생의 영어 점수가 높을 수록 수학 점수도 함께 높아지는 경향이 있을 때\n",
    "두 점수 사이에 양의 상관관계가 있다고 말한다.\n",
    "반면에 영어 점수가 높을 수록 수학 점수가 떨어질 때는\n",
    "두 점수 사이에 음의 상관관계가 존재한다.\n",
    "그런데 영어 점수가 달라지더라도 수학 점수는 별 변화가 없을 때는 두 데이터의\n",
    "선형 상관관계가 없다."
   ]
  },
  {
   "cell_type": "markdown",
   "metadata": {},
   "source": [
    "50명 학생의 영어와 수학 점수를 포함하는 2차원 데이터를 데이터프레임으로 불러와서\n",
    "두 점수 데이터의 상관관계를 분석한다.\n",
    "예를 들어, '수학을 잘하는 학생은 영어도 잘하는가'와 가트 두 데이터의 상관성을 확인한다.\n",
    "\n",
    "상관성은 보통 공분산 또는 상관계수를 이용한 선형 상관계수로 평가한다."
   ]
  },
  {
   "cell_type": "markdown",
   "metadata": {},
   "source": [
    "### 데이터 준비"
   ]
  },
  {
   "cell_type": "markdown",
   "metadata": {},
   "source": [
    "50명의 영어와 수학 점수를 담고 있는 csv 파일을 데이터프레임으로 불러온다. 이때 학생번호를 인덱스로 지정한다"
   ]
  },
  {
   "cell_type": "code",
   "execution_count": 7,
   "metadata": {
    "ExecuteTime": {
     "end_time": "2018-08-14T06:40:19.532933Z",
     "start_time": "2018-08-14T06:40:19.528592Z"
    }
   },
   "outputs": [],
   "source": [
    "df = pd.read_csv(data_url+'ch02_scores_em.csv',\n",
    "                 index_col='student number')"
   ]
  },
  {
   "cell_type": "markdown",
   "metadata": {},
   "source": [
    "english와 mathematics 두 개의 특성이 포함되어 있으며 각각 50개의 데이터 샘플을 포함한다."
   ]
  },
  {
   "cell_type": "code",
   "execution_count": 8,
   "metadata": {},
   "outputs": [
    {
     "name": "stdout",
     "output_type": "stream",
     "text": [
      "<class 'pandas.core.frame.DataFrame'>\n",
      "Index: 50 entries, 1 to 50\n",
      "Data columns (total 2 columns):\n",
      " #   Column       Non-Null Count  Dtype\n",
      "---  ------       --------------  -----\n",
      " 0   english      50 non-null     int64\n",
      " 1   mathematics  50 non-null     int64\n",
      "dtypes: int64(2)\n",
      "memory usage: 1.2 KB\n"
     ]
    }
   ],
   "source": [
    "df.info()"
   ]
  },
  {
   "cell_type": "markdown",
   "metadata": {},
   "source": [
    "**10개 데이터 샘플 추출**"
   ]
  },
  {
   "cell_type": "markdown",
   "metadata": {},
   "source": [
    "보다 쉬운 설명하기 위해 처음 10개의 데이터만 이용해서\n",
    "두 종류의 데이터 사이의 상관관계를 설명한다.\n",
    "\n",
    "먼저 학생들의 이름을 활용할 수 있도록 \n",
    "처음 열 명의 이름 A, B, C, …, J를 인덱스로 지정하며\n",
    "또한 인덱스의 이름을 student로 지정한다.\n",
    "두 가지 방식으로 진행하며, 먼저 넘파이 어레이를 활용한다."
   ]
  },
  {
   "cell_type": "markdown",
   "metadata": {},
   "source": [
    "방식 1: 넘파이 어레이 활용"
   ]
  },
  {
   "cell_type": "markdown",
   "metadata": {},
   "source": [
    "각각의 특성에서 처음 10개 데이터만 추출해서 어레이로 지정한다."
   ]
  },
  {
   "cell_type": "code",
   "execution_count": 9,
   "metadata": {
    "ExecuteTime": {
     "end_time": "2018-08-14T06:40:19.544111Z",
     "start_time": "2018-08-14T06:40:19.534006Z"
    }
   },
   "outputs": [],
   "source": [
    "eng_scores = np.array(df['english'])[:10]\n",
    "math_scores = np.array(df['mathematics'])[:10]"
   ]
  },
  {
   "cell_type": "markdown",
   "metadata": {},
   "source": [
    "추출된 두 개의 데이터에 대해 각각 english, mathematics 특성명과 함께\n",
    "각 데이터 샘플의 인덱스를 언급된 알파벳으로 지정하면서\n",
    "새로운 데이터프레임을 생성한다.\n",
    "또한 인덱스의 이름을 student로 한 번에 지정한다."
   ]
  },
  {
   "cell_type": "code",
   "execution_count": 10,
   "metadata": {
    "ExecuteTime": {
     "end_time": "2018-08-14T06:40:19.544111Z",
     "start_time": "2018-08-14T06:40:19.534006Z"
    }
   },
   "outputs": [],
   "source": [
    "scores_df = pd.DataFrame({'english':eng_scores,\n",
    "                          'mathematics':math_scores},\n",
    "                         index=pd.Index(list('ABCDEFGHIJ'),\n",
    "                                        name='student'))"
   ]
  },
  {
   "cell_type": "code",
   "execution_count": 11,
   "metadata": {
    "ExecuteTime": {
     "end_time": "2018-08-14T06:40:19.544111Z",
     "start_time": "2018-08-14T06:40:19.534006Z"
    }
   },
   "outputs": [
    {
     "data": {
      "text/html": [
       "<div>\n",
       "<style scoped>\n",
       "    .dataframe tbody tr th:only-of-type {\n",
       "        vertical-align: middle;\n",
       "    }\n",
       "\n",
       "    .dataframe tbody tr th {\n",
       "        vertical-align: top;\n",
       "    }\n",
       "\n",
       "    .dataframe thead th {\n",
       "        text-align: right;\n",
       "    }\n",
       "</style>\n",
       "<table border=\"1\" class=\"dataframe\">\n",
       "  <thead>\n",
       "    <tr style=\"text-align: right;\">\n",
       "      <th></th>\n",
       "      <th>english</th>\n",
       "      <th>mathematics</th>\n",
       "    </tr>\n",
       "    <tr>\n",
       "      <th>student</th>\n",
       "      <th></th>\n",
       "      <th></th>\n",
       "    </tr>\n",
       "  </thead>\n",
       "  <tbody>\n",
       "    <tr>\n",
       "      <th>A</th>\n",
       "      <td>42</td>\n",
       "      <td>65</td>\n",
       "    </tr>\n",
       "    <tr>\n",
       "      <th>B</th>\n",
       "      <td>69</td>\n",
       "      <td>80</td>\n",
       "    </tr>\n",
       "    <tr>\n",
       "      <th>C</th>\n",
       "      <td>56</td>\n",
       "      <td>63</td>\n",
       "    </tr>\n",
       "    <tr>\n",
       "      <th>D</th>\n",
       "      <td>41</td>\n",
       "      <td>63</td>\n",
       "    </tr>\n",
       "    <tr>\n",
       "      <th>E</th>\n",
       "      <td>57</td>\n",
       "      <td>76</td>\n",
       "    </tr>\n",
       "    <tr>\n",
       "      <th>F</th>\n",
       "      <td>48</td>\n",
       "      <td>60</td>\n",
       "    </tr>\n",
       "    <tr>\n",
       "      <th>G</th>\n",
       "      <td>65</td>\n",
       "      <td>81</td>\n",
       "    </tr>\n",
       "    <tr>\n",
       "      <th>H</th>\n",
       "      <td>49</td>\n",
       "      <td>66</td>\n",
       "    </tr>\n",
       "    <tr>\n",
       "      <th>I</th>\n",
       "      <td>65</td>\n",
       "      <td>78</td>\n",
       "    </tr>\n",
       "    <tr>\n",
       "      <th>J</th>\n",
       "      <td>58</td>\n",
       "      <td>82</td>\n",
       "    </tr>\n",
       "  </tbody>\n",
       "</table>\n",
       "</div>"
      ],
      "text/plain": [
       "         english  mathematics\n",
       "student                      \n",
       "A             42           65\n",
       "B             69           80\n",
       "C             56           63\n",
       "D             41           63\n",
       "E             57           76\n",
       "F             48           60\n",
       "G             65           81\n",
       "H             49           66\n",
       "I             65           78\n",
       "J             58           82"
      ]
     },
     "execution_count": 11,
     "metadata": {},
     "output_type": "execute_result"
    }
   ],
   "source": [
    "scores_df"
   ]
  },
  {
   "cell_type": "markdown",
   "metadata": {},
   "source": [
    "방식 2: 데이터프레임 슬라이싱 활용"
   ]
  },
  {
   "cell_type": "markdown",
   "metadata": {},
   "source": [
    "처음 10개의 데이터 샘플을 데이터프레임에서 슬라이싱을 이용하여 직접 추출할 수 있다.\n",
    "단, 원본은 그대로 두고 슬라이싱 후 사본을 지정한다.\n",
    "\n",
    "이유는 데이터프레임의 슬라이싱은 \n",
    "{numref}`%s장 <ch-numpy-array>`에서 소개한\n",
    "뷰<font size='2'>view</font> 기능을 사용하기 때문이다.\n",
    "뷰 방식으로 생성된 데이터프레임을 수정하면 원본 데이터프레임도 함께 수정되기에\n",
    "이를 피하기 위해 일반적으로 사본을 만드는 것을 추천한다."
   ]
  },
  {
   "cell_type": "code",
   "execution_count": 12,
   "metadata": {},
   "outputs": [
    {
     "data": {
      "text/html": [
       "<div>\n",
       "<style scoped>\n",
       "    .dataframe tbody tr th:only-of-type {\n",
       "        vertical-align: middle;\n",
       "    }\n",
       "\n",
       "    .dataframe tbody tr th {\n",
       "        vertical-align: top;\n",
       "    }\n",
       "\n",
       "    .dataframe thead th {\n",
       "        text-align: right;\n",
       "    }\n",
       "</style>\n",
       "<table border=\"1\" class=\"dataframe\">\n",
       "  <thead>\n",
       "    <tr style=\"text-align: right;\">\n",
       "      <th></th>\n",
       "      <th>english</th>\n",
       "      <th>mathematics</th>\n",
       "    </tr>\n",
       "    <tr>\n",
       "      <th>student number</th>\n",
       "      <th></th>\n",
       "      <th></th>\n",
       "    </tr>\n",
       "  </thead>\n",
       "  <tbody>\n",
       "    <tr>\n",
       "      <th>1</th>\n",
       "      <td>42</td>\n",
       "      <td>65</td>\n",
       "    </tr>\n",
       "    <tr>\n",
       "      <th>2</th>\n",
       "      <td>69</td>\n",
       "      <td>80</td>\n",
       "    </tr>\n",
       "    <tr>\n",
       "      <th>3</th>\n",
       "      <td>56</td>\n",
       "      <td>63</td>\n",
       "    </tr>\n",
       "    <tr>\n",
       "      <th>4</th>\n",
       "      <td>41</td>\n",
       "      <td>63</td>\n",
       "    </tr>\n",
       "    <tr>\n",
       "      <th>5</th>\n",
       "      <td>57</td>\n",
       "      <td>76</td>\n",
       "    </tr>\n",
       "    <tr>\n",
       "      <th>6</th>\n",
       "      <td>48</td>\n",
       "      <td>60</td>\n",
       "    </tr>\n",
       "    <tr>\n",
       "      <th>7</th>\n",
       "      <td>65</td>\n",
       "      <td>81</td>\n",
       "    </tr>\n",
       "    <tr>\n",
       "      <th>8</th>\n",
       "      <td>49</td>\n",
       "      <td>66</td>\n",
       "    </tr>\n",
       "    <tr>\n",
       "      <th>9</th>\n",
       "      <td>65</td>\n",
       "      <td>78</td>\n",
       "    </tr>\n",
       "    <tr>\n",
       "      <th>10</th>\n",
       "      <td>58</td>\n",
       "      <td>82</td>\n",
       "    </tr>\n",
       "  </tbody>\n",
       "</table>\n",
       "</div>"
      ],
      "text/plain": [
       "                english  mathematics\n",
       "student number                      \n",
       "1                    42           65\n",
       "2                    69           80\n",
       "3                    56           63\n",
       "4                    41           63\n",
       "5                    57           76\n",
       "6                    48           60\n",
       "7                    65           81\n",
       "8                    49           66\n",
       "9                    65           78\n",
       "10                   58           82"
      ]
     },
     "execution_count": 12,
     "metadata": {},
     "output_type": "execute_result"
    }
   ],
   "source": [
    "scores_df = df.iloc[:10].copy()\n",
    "scores_df"
   ]
  },
  {
   "cell_type": "markdown",
   "metadata": {},
   "source": [
    "데이터프레임의 `index` 속성에 데이터셋의 크기에 해당하는 리스트를 지정하는\n",
    "방식으로 인덱스를 변경한다."
   ]
  },
  {
   "cell_type": "code",
   "execution_count": 13,
   "metadata": {},
   "outputs": [],
   "source": [
    "scores_df.index = list('ABCDEFGHIJ')"
   ]
  },
  {
   "cell_type": "markdown",
   "metadata": {},
   "source": [
    "데이터프레임의 `index` 속성이 가리키는 `Index` 객체의 `name` 속성을 `student`로 지정한다."
   ]
  },
  {
   "cell_type": "code",
   "execution_count": 14,
   "metadata": {},
   "outputs": [],
   "source": [
    "scores_df.index.name = 'student'"
   ]
  },
  {
   "cell_type": "markdown",
   "metadata": {},
   "source": [
    "이전 방식과 동일한 결과를 얻는다."
   ]
  },
  {
   "cell_type": "code",
   "execution_count": 15,
   "metadata": {},
   "outputs": [
    {
     "data": {
      "text/html": [
       "<div>\n",
       "<style scoped>\n",
       "    .dataframe tbody tr th:only-of-type {\n",
       "        vertical-align: middle;\n",
       "    }\n",
       "\n",
       "    .dataframe tbody tr th {\n",
       "        vertical-align: top;\n",
       "    }\n",
       "\n",
       "    .dataframe thead th {\n",
       "        text-align: right;\n",
       "    }\n",
       "</style>\n",
       "<table border=\"1\" class=\"dataframe\">\n",
       "  <thead>\n",
       "    <tr style=\"text-align: right;\">\n",
       "      <th></th>\n",
       "      <th>english</th>\n",
       "      <th>mathematics</th>\n",
       "    </tr>\n",
       "    <tr>\n",
       "      <th>student</th>\n",
       "      <th></th>\n",
       "      <th></th>\n",
       "    </tr>\n",
       "  </thead>\n",
       "  <tbody>\n",
       "    <tr>\n",
       "      <th>A</th>\n",
       "      <td>42</td>\n",
       "      <td>65</td>\n",
       "    </tr>\n",
       "    <tr>\n",
       "      <th>B</th>\n",
       "      <td>69</td>\n",
       "      <td>80</td>\n",
       "    </tr>\n",
       "    <tr>\n",
       "      <th>C</th>\n",
       "      <td>56</td>\n",
       "      <td>63</td>\n",
       "    </tr>\n",
       "    <tr>\n",
       "      <th>D</th>\n",
       "      <td>41</td>\n",
       "      <td>63</td>\n",
       "    </tr>\n",
       "    <tr>\n",
       "      <th>E</th>\n",
       "      <td>57</td>\n",
       "      <td>76</td>\n",
       "    </tr>\n",
       "    <tr>\n",
       "      <th>F</th>\n",
       "      <td>48</td>\n",
       "      <td>60</td>\n",
       "    </tr>\n",
       "    <tr>\n",
       "      <th>G</th>\n",
       "      <td>65</td>\n",
       "      <td>81</td>\n",
       "    </tr>\n",
       "    <tr>\n",
       "      <th>H</th>\n",
       "      <td>49</td>\n",
       "      <td>66</td>\n",
       "    </tr>\n",
       "    <tr>\n",
       "      <th>I</th>\n",
       "      <td>65</td>\n",
       "      <td>78</td>\n",
       "    </tr>\n",
       "    <tr>\n",
       "      <th>J</th>\n",
       "      <td>58</td>\n",
       "      <td>82</td>\n",
       "    </tr>\n",
       "  </tbody>\n",
       "</table>\n",
       "</div>"
      ],
      "text/plain": [
       "         english  mathematics\n",
       "student                      \n",
       "A             42           65\n",
       "B             69           80\n",
       "C             56           63\n",
       "D             41           63\n",
       "E             57           76\n",
       "F             48           60\n",
       "G             65           81\n",
       "H             49           66\n",
       "I             65           78\n",
       "J             58           82"
      ]
     },
     "execution_count": 15,
     "metadata": {},
     "output_type": "execute_result"
    }
   ],
   "source": [
    "scores_df"
   ]
  },
  {
   "cell_type": "markdown",
   "metadata": {},
   "source": [
    "### 산점도"
   ]
  },
  {
   "cell_type": "markdown",
   "metadata": {},
   "source": [
    "먼저 두 데이터 사이의 선형 상관관계의 정도를 눈으로 어느 정도 파악할 수 있는지\n",
    "여부를 보기 위해 산점도를 이용한다.\n",
    "산점도는 `matplotlib.pyplot` 라이브러리에 포함된 `scatter()` 함수를 이용한다.\n",
    "\n",
    "`plt.annotate()` 함수는 그래프의 특정 좌표에 지정된 레이블을 표기하는 함수다.\n",
    "최소 아래 두 종류의 인자가 요구된다.\n",
    "\n",
    "- 첫째 인자: 표기하고자 하는 문자열\n",
    "- 둘째 인자: 표기 위치. (x-좌표, y-좌표)의 튜플.\n",
    "\n",
    "\n",
    "x-축이 영어 점수, y-축이 수학 점수의 분포를 보여준다."
   ]
  },
  {
   "cell_type": "code",
   "execution_count": 16,
   "metadata": {},
   "outputs": [
    {
     "data": {
      "image/png": "[encoded data removed]",
      "text/plain": [
       "<Figure size 640x480 with 1 Axes>"
      ]
     },
     "metadata": {},
     "output_type": "display_data"
    }
   ],
   "source": [
    "plt.scatter(eng_scores, math_scores)\n",
    "plt.xlabel('english')\n",
    "plt.ylabel('mathematics')\n",
    "\n",
    "# 학생 데이터 각각에 이름 추가\n",
    "for i, name in enumerate(scores_df.index):\n",
    "    plt.annotate(name, (eng_scores[i]+0.3, math_scores[i]+0.6))\n",
    "\n",
    "# 눈금 범위 지정\n",
    "plt.xticks(range(40, 75, 5))\n",
    "plt.yticks(range(60, 90, 5))\n",
    "    \n",
    "plt.show()"
   ]
  },
  {
   "cell_type": "markdown",
   "metadata": {},
   "source": [
    "위 산점도를 통해 영어 점수가 높아질 수록 수학 점수도 기본적으로 올라가는 경향을 잘 보여준다. \n",
    "즉 영어 점수와 수학 점수는 양의 상관관계를 갖는다고 말할 수 있다.\n",
    "\n",
    "상관관계를 수치화할 수 있으며, 공분산과 상관계수가 활용된다.\n",
    "먼저 공분산을 소개한다."
   ]
  },
  {
   "cell_type": "markdown",
   "metadata": {},
   "source": [
    "### 공분산"
   ]
  },
  {
   "cell_type": "markdown",
   "metadata": {},
   "source": [
    "공분산은 분산의 경우처럼 면적 개념으로 이해할 수 있다.\n",
    "아래 그림은 C, E, H 세 학생에 대해, 영어 점수와 수학 점수와의 편차를\n",
    "가로와 세로의 길이로 세 개의 직사각형을 보여준다."
   ]
  },
  {
   "cell_type": "markdown",
   "metadata": {},
   "source": [
    "<p><div align=\"center\"><img src=\"https://github.com/codingalzi/DataSci/blob/master/jupyter-book/images/ch03/img-3-2.jpg?raw=true\" style=\"width:500px\"></div></p>"
   ]
  },
  {
   "cell_type": "markdown",
   "metadata": {},
   "source": [
    "참고로 10명 학생의 영어, 수학 평균값은 각각 55.0과 71.4다."
   ]
  },
  {
   "cell_type": "code",
   "execution_count": 17,
   "metadata": {},
   "outputs": [
    {
     "data": {
      "text/plain": [
       "english        55.0\n",
       "mathematics    71.4\n",
       "dtype: float64"
      ]
     },
     "execution_count": 17,
     "metadata": {},
     "output_type": "execute_result"
    }
   ],
   "source": [
    "scores_df.mean()"
   ]
  },
  {
   "cell_type": "markdown",
   "metadata": {},
   "source": [
    "분산과는 달리 공분산은 음수가 나올 수 있다.\n",
    "이유는 분산은 한 종류의 값에 대해 편차의 제곱, 즉 편차의 크기를 한 변으로 갖는 정사각형의 면적의 평균값으로 계산되기 때문이다.\n",
    "반면에 공분산은 두 종류의 값에 대한 편차의 곱을 이용하기에 각각의 편차의 부호가 다르면 편차의 곱이 음수가 될 수 있다.\n",
    "위 그림에서 C 학생에 대한 직사각형의 면적은 음의 값으로 계산되며, E와 H의 학생에 대한 직사각형의 면적은 양의 값으로 계산된다.\n",
    "\n",
    "공분산은 모든 학생에 대한 직사각형의 면적의 평균값으로 계산되기에 양의 값도, 음의 값도 가질 수 있다.\n",
    "수식으로 표현하면 다음과 같다.\n",
    "공분산은 일반적으로 $S_{xy}$로 표기된다."
   ]
  },
  {
   "cell_type": "markdown",
   "metadata": {},
   "source": [
    "$$\n",
    "\\begin{align*}\n",
    "S_{xy} & = \\frac 1 n \\sum_{i=1}^{n} (x_i - \\bar x)(y_i - \\bar y) \\\\\n",
    "&= \\frac 1 n \\left\\{ (x_1 - \\bar x)(y_1 - \\bar y) + (x_2 - \\bar x)(y_2 - \\bar y) + \\cdots + (x_n - \\bar x)(y_n - \\bar y) \\right\\}\n",
    "\\end{align*}\n",
    "$$"
   ]
  },
  {
   "cell_type": "markdown",
   "metadata": {},
   "source": [
    "아래 코드는 위 수식을 적용하는 데에 필요한 값들을 모아 높은 데이터프레임을 선언한다."
   ]
  },
  {
   "cell_type": "markdown",
   "metadata": {},
   "source": [
    "**참고**\n",
    "\n",
    "특성명에 사용된 dev는 편차를 의미하는 영어 단어 deviation의 줄임말이다."
   ]
  },
  {
   "cell_type": "code",
   "execution_count": 18,
   "metadata": {
    "ExecuteTime": {
     "end_time": "2018-08-14T06:40:19.566635Z",
     "start_time": "2018-08-14T06:40:19.545215Z"
    }
   },
   "outputs": [],
   "source": [
    "summary_df = scores_df.copy()\n",
    "\n",
    "summary_df['eng_dev'] = summary_df['english'] - summary_df['english'].mean()\n",
    "summary_df['math_dev'] = summary_df['mathematics'] - summary_df['mathematics'].mean()\n",
    "summary_df['dev_product'] = summary_df['eng_dev'] * summary_df['math_dev']"
   ]
  },
  {
   "cell_type": "code",
   "execution_count": 19,
   "metadata": {
    "ExecuteTime": {
     "end_time": "2018-08-14T06:40:19.566635Z",
     "start_time": "2018-08-14T06:40:19.545215Z"
    }
   },
   "outputs": [
    {
     "data": {
      "text/html": [
       "<div>\n",
       "<style scoped>\n",
       "    .dataframe tbody tr th:only-of-type {\n",
       "        vertical-align: middle;\n",
       "    }\n",
       "\n",
       "    .dataframe tbody tr th {\n",
       "        vertical-align: top;\n",
       "    }\n",
       "\n",
       "    .dataframe thead th {\n",
       "        text-align: right;\n",
       "    }\n",
       "</style>\n",
       "<table border=\"1\" class=\"dataframe\">\n",
       "  <thead>\n",
       "    <tr style=\"text-align: right;\">\n",
       "      <th></th>\n",
       "      <th>english</th>\n",
       "      <th>mathematics</th>\n",
       "      <th>eng_dev</th>\n",
       "      <th>math_dev</th>\n",
       "      <th>dev_product</th>\n",
       "    </tr>\n",
       "    <tr>\n",
       "      <th>student</th>\n",
       "      <th></th>\n",
       "      <th></th>\n",
       "      <th></th>\n",
       "      <th></th>\n",
       "      <th></th>\n",
       "    </tr>\n",
       "  </thead>\n",
       "  <tbody>\n",
       "    <tr>\n",
       "      <th>A</th>\n",
       "      <td>42</td>\n",
       "      <td>65</td>\n",
       "      <td>-13.0</td>\n",
       "      <td>-6.4</td>\n",
       "      <td>83.2</td>\n",
       "    </tr>\n",
       "    <tr>\n",
       "      <th>B</th>\n",
       "      <td>69</td>\n",
       "      <td>80</td>\n",
       "      <td>14.0</td>\n",
       "      <td>8.6</td>\n",
       "      <td>120.4</td>\n",
       "    </tr>\n",
       "    <tr>\n",
       "      <th>C</th>\n",
       "      <td>56</td>\n",
       "      <td>63</td>\n",
       "      <td>1.0</td>\n",
       "      <td>-8.4</td>\n",
       "      <td>-8.4</td>\n",
       "    </tr>\n",
       "    <tr>\n",
       "      <th>D</th>\n",
       "      <td>41</td>\n",
       "      <td>63</td>\n",
       "      <td>-14.0</td>\n",
       "      <td>-8.4</td>\n",
       "      <td>117.6</td>\n",
       "    </tr>\n",
       "    <tr>\n",
       "      <th>E</th>\n",
       "      <td>57</td>\n",
       "      <td>76</td>\n",
       "      <td>2.0</td>\n",
       "      <td>4.6</td>\n",
       "      <td>9.2</td>\n",
       "    </tr>\n",
       "    <tr>\n",
       "      <th>F</th>\n",
       "      <td>48</td>\n",
       "      <td>60</td>\n",
       "      <td>-7.0</td>\n",
       "      <td>-11.4</td>\n",
       "      <td>79.8</td>\n",
       "    </tr>\n",
       "    <tr>\n",
       "      <th>G</th>\n",
       "      <td>65</td>\n",
       "      <td>81</td>\n",
       "      <td>10.0</td>\n",
       "      <td>9.6</td>\n",
       "      <td>96.0</td>\n",
       "    </tr>\n",
       "    <tr>\n",
       "      <th>H</th>\n",
       "      <td>49</td>\n",
       "      <td>66</td>\n",
       "      <td>-6.0</td>\n",
       "      <td>-5.4</td>\n",
       "      <td>32.4</td>\n",
       "    </tr>\n",
       "    <tr>\n",
       "      <th>I</th>\n",
       "      <td>65</td>\n",
       "      <td>78</td>\n",
       "      <td>10.0</td>\n",
       "      <td>6.6</td>\n",
       "      <td>66.0</td>\n",
       "    </tr>\n",
       "    <tr>\n",
       "      <th>J</th>\n",
       "      <td>58</td>\n",
       "      <td>82</td>\n",
       "      <td>3.0</td>\n",
       "      <td>10.6</td>\n",
       "      <td>31.8</td>\n",
       "    </tr>\n",
       "  </tbody>\n",
       "</table>\n",
       "</div>"
      ],
      "text/plain": [
       "         english  mathematics  eng_dev  math_dev  dev_product\n",
       "student                                                      \n",
       "A             42           65    -13.0      -6.4         83.2\n",
       "B             69           80     14.0       8.6        120.4\n",
       "C             56           63      1.0      -8.4         -8.4\n",
       "D             41           63    -14.0      -8.4        117.6\n",
       "E             57           76      2.0       4.6          9.2\n",
       "F             48           60     -7.0     -11.4         79.8\n",
       "G             65           81     10.0       9.6         96.0\n",
       "H             49           66     -6.0      -5.4         32.4\n",
       "I             65           78     10.0       6.6         66.0\n",
       "J             58           82      3.0      10.6         31.8"
      ]
     },
     "execution_count": 19,
     "metadata": {},
     "output_type": "execute_result"
    }
   ],
   "source": [
    "summary_df"
   ]
  },
  {
   "cell_type": "markdown",
   "metadata": {},
   "source": [
    "따라서 영어와 수학의 공분산은 `dev_product` 특성의 평균값인 62.8이며,\n",
    "두 점수는 양의 상관관계를 가지며, 이는 이미 산포도를 보고 예상된 결과와 일치한다."
   ]
  },
  {
   "cell_type": "code",
   "execution_count": 20,
   "metadata": {
    "ExecuteTime": {
     "end_time": "2018-08-14T06:40:19.570409Z",
     "start_time": "2018-08-14T06:40:19.567674Z"
    }
   },
   "outputs": [
    {
     "data": {
      "text/plain": [
       "62.800000"
      ]
     },
     "execution_count": 20,
     "metadata": {},
     "output_type": "execute_result"
    }
   ],
   "source": [
    "summary_df['dev_product'].mean()"
   ]
  },
  {
   "cell_type": "markdown",
   "metadata": {},
   "source": [
    "**`np.cov()` 함수**"
   ]
  },
  {
   "cell_type": "markdown",
   "metadata": {},
   "source": [
    "이전 코드는 공분산 계산과정을 구체적으로 보여주기 위해 사용되었다.\n",
    "하지만 넘파이와 팬다스 모두 공분산을 계산하는 API를 제공한다.\n",
    "\n",
    "아래 코드는 두 개의 데이터가 주어졌을 때 두 데이터의 공분산을 계산한다.\n",
    "`np.cov()`가 두 개의 데이터에 대한 공분산을 계산하기에 (2, 2) 행렬 모양의 어레이가 생성한다."
   ]
  },
  {
   "cell_type": "code",
   "execution_count": 21,
   "metadata": {
    "ExecuteTime": {
     "end_time": "2018-08-14T06:40:19.575907Z",
     "start_time": "2018-08-14T06:40:19.571427Z"
    }
   },
   "outputs": [
    {
     "data": {
      "text/plain": [
       "array([[86.  , 62.8 ],\n",
       "       [62.8 , 68.44]])"
      ]
     },
     "execution_count": 21,
     "metadata": {},
     "output_type": "execute_result"
    }
   ],
   "source": [
    "cov_mat = np.cov(eng_scores, math_scores, ddof=0)\n",
    "cov_mat"
   ]
  },
  {
   "cell_type": "markdown",
   "metadata": {},
   "source": [
    "인덱스별 항목의 의미는 다음과 같다.\n",
    "\n",
    "| 인덱스 | 의미 |\n",
    "| :---: | :--- |\n",
    "| `[0, 0]` | 영어 점수와 영어 점수의 공분산, 즉 영어 점수의 분산 |\n",
    "| `[0, 1]` | 영어 점수와 수학 점수의 공분산 |\n",
    "| `[1, 0]` | 수학 점수와 영어 점수의 공분산 |\n",
    "| `[1, 1]` | 수학 점수와 수학 점수의 공분산, 즉 수학 점수의 분산 |"
   ]
  },
  {
   "cell_type": "markdown",
   "metadata": {},
   "source": [
    "'영어 점수와 수학 점수의 공분산'과 '수학 점수와 영어 점수의 공분산'은 당연히 동일하다.\n",
    "그리고 각 과목별 공분산은 해당 과목 점수의 분산과 동일하다.\n",
    "실제로 두 과목의 분산을 계산하면 동일하게 계산된다."
   ]
  },
  {
   "cell_type": "code",
   "execution_count": 22,
   "metadata": {
    "ExecuteTime": {
     "end_time": "2018-08-14T06:40:19.588330Z",
     "start_time": "2018-08-14T06:40:19.584646Z"
    }
   },
   "outputs": [
    {
     "name": "stdout",
     "output_type": "stream",
     "text": [
      "영어 점수 분산: 86.0\n"
     ]
    }
   ],
   "source": [
    "print(\"영어 점수 분산:\", np.var(eng_scores, ddof=0))"
   ]
  },
  {
   "cell_type": "code",
   "execution_count": 23,
   "metadata": {
    "ExecuteTime": {
     "end_time": "2018-08-14T06:40:19.588330Z",
     "start_time": "2018-08-14T06:40:19.584646Z"
    }
   },
   "outputs": [
    {
     "name": "stdout",
     "output_type": "stream",
     "text": [
      "수학 점수 분산: 68.44000000000001\n"
     ]
    }
   ],
   "source": [
    "print(\"수학 점수 분산:\", np.var(math_scores, ddof=0))"
   ]
  },
  {
   "cell_type": "markdown",
   "metadata": {},
   "source": [
    "**데이터프레임의 `cov()` 메서드**"
   ]
  },
  {
   "cell_type": "markdown",
   "metadata": {},
   "source": [
    "데이터프레임 객체의 `cov()` 메서드는 모든 특성들 사이의 공분산을 계산한다.\n",
    "`scores_df`에 `english`와 `mathematics` 두 개의 특성이 포함되기에 역시 (2, 2) 행렬 모양의\n",
    "데이터프레임을 생성한다.\n",
    "\n",
    "앞서 `np.cov()`의 반환값을 설명할 때 사용된 인덱스가 여기서는 특성명으로 대체되었다."
   ]
  },
  {
   "cell_type": "code",
   "execution_count": 24,
   "metadata": {},
   "outputs": [
    {
     "data": {
      "text/html": [
       "<div>\n",
       "<style scoped>\n",
       "    .dataframe tbody tr th:only-of-type {\n",
       "        vertical-align: middle;\n",
       "    }\n",
       "\n",
       "    .dataframe tbody tr th {\n",
       "        vertical-align: top;\n",
       "    }\n",
       "\n",
       "    .dataframe thead th {\n",
       "        text-align: right;\n",
       "    }\n",
       "</style>\n",
       "<table border=\"1\" class=\"dataframe\">\n",
       "  <thead>\n",
       "    <tr style=\"text-align: right;\">\n",
       "      <th></th>\n",
       "      <th>english</th>\n",
       "      <th>mathematics</th>\n",
       "    </tr>\n",
       "  </thead>\n",
       "  <tbody>\n",
       "    <tr>\n",
       "      <th>english</th>\n",
       "      <td>86.0</td>\n",
       "      <td>62.80</td>\n",
       "    </tr>\n",
       "    <tr>\n",
       "      <th>mathematics</th>\n",
       "      <td>62.8</td>\n",
       "      <td>68.44</td>\n",
       "    </tr>\n",
       "  </tbody>\n",
       "</table>\n",
       "</div>"
      ],
      "text/plain": [
       "             english  mathematics\n",
       "english         86.0        62.80\n",
       "mathematics     62.8        68.44"
      ]
     },
     "execution_count": 24,
     "metadata": {},
     "output_type": "execute_result"
    }
   ],
   "source": [
    "scores_df.cov(ddof=0)"
   ]
  },
  {
   "cell_type": "markdown",
   "metadata": {},
   "source": [
    "**참고**\n",
    "\n",
    "`ddof=1`로 지정하면 불편분산이 계산된다."
   ]
  },
  {
   "cell_type": "code",
   "execution_count": 25,
   "metadata": {
    "ExecuteTime": {
     "end_time": "2018-08-14T06:40:19.575907Z",
     "start_time": "2018-08-14T06:40:19.571427Z"
    }
   },
   "outputs": [
    {
     "data": {
      "text/plain": [
       "array([[95.555556, 69.777778],\n",
       "       [69.777778, 76.044444]])"
      ]
     },
     "execution_count": 25,
     "metadata": {},
     "output_type": "execute_result"
    }
   ],
   "source": [
    "cov_mat = np.cov(eng_scores, math_scores, ddof=1)\n",
    "cov_mat"
   ]
  },
  {
   "cell_type": "code",
   "execution_count": 26,
   "metadata": {},
   "outputs": [
    {
     "data": {
      "text/html": [
       "<div>\n",
       "<style scoped>\n",
       "    .dataframe tbody tr th:only-of-type {\n",
       "        vertical-align: middle;\n",
       "    }\n",
       "\n",
       "    .dataframe tbody tr th {\n",
       "        vertical-align: top;\n",
       "    }\n",
       "\n",
       "    .dataframe thead th {\n",
       "        text-align: right;\n",
       "    }\n",
       "</style>\n",
       "<table border=\"1\" class=\"dataframe\">\n",
       "  <thead>\n",
       "    <tr style=\"text-align: right;\">\n",
       "      <th></th>\n",
       "      <th>english</th>\n",
       "      <th>mathematics</th>\n",
       "    </tr>\n",
       "  </thead>\n",
       "  <tbody>\n",
       "    <tr>\n",
       "      <th>english</th>\n",
       "      <td>95.555556</td>\n",
       "      <td>69.777778</td>\n",
       "    </tr>\n",
       "    <tr>\n",
       "      <th>mathematics</th>\n",
       "      <td>69.777778</td>\n",
       "      <td>76.044444</td>\n",
       "    </tr>\n",
       "  </tbody>\n",
       "</table>\n",
       "</div>"
      ],
      "text/plain": [
       "               english  mathematics\n",
       "english      95.555556    69.777778\n",
       "mathematics  69.777778    76.044444"
      ]
     },
     "execution_count": 26,
     "metadata": {},
     "output_type": "execute_result"
    }
   ],
   "source": [
    "scores_df.cov(ddof=1)"
   ]
  },
  {
   "cell_type": "markdown",
   "metadata": {},
   "source": [
    "## 상관계수"
   ]
  },
  {
   "cell_type": "markdown",
   "metadata": {},
   "source": [
    "공분산은 데이터의 종류와 크기에 따라 계산된 값의 크기와 단위가 달라진다.\n",
    "예를 들어 학생들의 키와 체중을 대상으로 공분산을 계산한다면 단위가 `cm * kg`이 되고,\n",
    "멀리뛰기와 오래 매달리기의 공분산은 단위가 `m * sec`이 된다.\n",
    "\n",
    "그리고 동일한 단위를 사용한다 하더라도 데이터가 달라지면 공분산 값이 갖는 값의 척도(scale)도\n",
    "많이 달라질 수 있다.\n",
    "실제로 10명이 아닌 50명 전체를 대상으로 영어 점수와 수학 점수의 공분산을 계산하면\n",
    "공분산이 60점 대에서 50점 대로 달라진다."
   ]
  },
  {
   "cell_type": "code",
   "execution_count": 27,
   "metadata": {},
   "outputs": [
    {
     "data": {
      "text/html": [
       "<div>\n",
       "<style scoped>\n",
       "    .dataframe tbody tr th:only-of-type {\n",
       "        vertical-align: middle;\n",
       "    }\n",
       "\n",
       "    .dataframe tbody tr th {\n",
       "        vertical-align: top;\n",
       "    }\n",
       "\n",
       "    .dataframe thead th {\n",
       "        text-align: right;\n",
       "    }\n",
       "</style>\n",
       "<table border=\"1\" class=\"dataframe\">\n",
       "  <thead>\n",
       "    <tr style=\"text-align: right;\">\n",
       "      <th></th>\n",
       "      <th>english</th>\n",
       "      <th>mathematics</th>\n",
       "    </tr>\n",
       "  </thead>\n",
       "  <tbody>\n",
       "    <tr>\n",
       "      <th>english</th>\n",
       "      <td>94.1156</td>\n",
       "      <td>58.4856</td>\n",
       "    </tr>\n",
       "    <tr>\n",
       "      <th>mathematics</th>\n",
       "      <td>58.4856</td>\n",
       "      <td>69.3856</td>\n",
       "    </tr>\n",
       "  </tbody>\n",
       "</table>\n",
       "</div>"
      ],
      "text/plain": [
       "             english  mathematics\n",
       "english      94.1156      58.4856\n",
       "mathematics  58.4856      69.3856"
      ]
     },
     "execution_count": 27,
     "metadata": {},
     "output_type": "execute_result"
    }
   ],
   "source": [
    "df.cov(ddof=0)"
   ]
  },
  {
   "cell_type": "markdown",
   "metadata": {},
   "source": [
    "이렇듯 공분산은 계산된 값만 보고서는 상관관계가 얼마나 큰지를 판단할 수 있는 절대적인 기준을 갖지 못한다.\n",
    "이점을 보완하기 위해 공분산을 각 데이터의 표준편차로 나누어 데이터의 크기와 단위에 의존하지 않도록 지표를 정의하며,\n",
    "이를 **상관계수**<font size='2'>correlation coefficient</font>라 부른다.\n",
    "엄밀히 말하면 **피어슨 상관계수**<font size='2'>Pearson correlation coefficient</font>라고 한다.\n",
    "다른 방식으로 계산되는 상관계수도 있지만 여기서는 피어슨 상관계수만 사용한다.\n",
    "\n",
    "상관계수는 일반적으로 $r_{xy}$로 표기되며 다음과 같이 계산된다."
   ]
  },
  {
   "cell_type": "markdown",
   "metadata": {},
   "source": [
    "$$\n",
    "r_{xy} = \\frac{S_{xy}}{S_x \\cdot S_y}\n",
    "$$"
   ]
  },
  {
   "cell_type": "markdown",
   "metadata": {},
   "source": [
    "두 데이터의 피어슨 상관계수 $r_{xy}$는 항상 -1과 1 사이의 값을 가지며 단위는 무시된다.\n",
    "상관계수의 의미는 다음과 같다.\n",
    "\n",
    "| 상관계수 | 의미 |\n",
    "| :--- | :--- |\n",
    "| 1에 가까운 값 | 양의 상관관계가 강함 |\n",
    "| -1에 가까운 값 | 음의 상관관계가 강함 |\n",
    "| 0에 가까운 값 | 상관관계가 거의 없음 |"
   ]
  },
  {
   "cell_type": "markdown",
   "metadata": {},
   "source": [
    "아래 그림은 다양한 상관계수에 대응하는 산점도를 보여준다.\n",
    "상관계수의 절댓값이 1에 가까워질 수록 산점도가 직선에 가까워지고\n",
    "0에 가까워질 수록 두 데이터의 상관관계를 알아보기 힘들어지도록 넓게 퍼진 산점도가 된다."
   ]
  },
  {
   "cell_type": "markdown",
   "metadata": {},
   "source": [
    "<p><div align=\"center\"><img src=\"https://github.com/codingalzi/DataSci/blob/master/jupyter-book/images/ch03/img-3-3.jpg?raw=true\" style=\"width:500px\"></div></p>"
   ]
  },
  {
   "cell_type": "markdown",
   "metadata": {},
   "source": [
    "**`np.corrcoef()` 함수**"
   ]
  },
  {
   "cell_type": "markdown",
   "metadata": {},
   "source": [
    "10명 학생의 상관계수를 직접 다음과 같이 계산한다.\n",
    "`np.corrcoef()` 함수의 반환값의 모양과 각 인덱스의 의미는 \n",
    "`np.cov()` 함수의 반환값의 그것들과 동일하다."
   ]
  },
  {
   "cell_type": "code",
   "execution_count": 28,
   "metadata": {
    "ExecuteTime": {
     "end_time": "2018-08-14T06:40:19.597039Z",
     "start_time": "2018-08-14T06:40:19.593315Z"
    }
   },
   "outputs": [
    {
     "data": {
      "text/plain": [
       "array([[1.      , 0.818569],\n",
       "       [0.818569, 1.      ]])"
      ]
     },
     "execution_count": 28,
     "metadata": {},
     "output_type": "execute_result"
    }
   ],
   "source": [
    "np.corrcoef(eng_scores, math_scores)"
   ]
  },
  {
   "cell_type": "markdown",
   "metadata": {},
   "source": [
    "즉, 10명 학생의 영어 점수와 수학 점수의 상관계수가 0.82 정도로 1에 무척 가깝다.\n",
    "따라서 두 데이터 사이의 선형 상관관계가 매우 큰 편이다."
   ]
  },
  {
   "cell_type": "markdown",
   "metadata": {},
   "source": [
    "**데이터프레임의 `corr()` 메서드**"
   ]
  },
  {
   "cell_type": "markdown",
   "metadata": {},
   "source": [
    "데이터프레임도 상관계수를 직접 계산한다."
   ]
  },
  {
   "cell_type": "code",
   "execution_count": 29,
   "metadata": {
    "ExecuteTime": {
     "end_time": "2018-08-14T06:40:19.602887Z",
     "start_time": "2018-08-14T06:40:19.598025Z"
    }
   },
   "outputs": [
    {
     "data": {
      "text/html": [
       "<div>\n",
       "<style scoped>\n",
       "    .dataframe tbody tr th:only-of-type {\n",
       "        vertical-align: middle;\n",
       "    }\n",
       "\n",
       "    .dataframe tbody tr th {\n",
       "        vertical-align: top;\n",
       "    }\n",
       "\n",
       "    .dataframe thead th {\n",
       "        text-align: right;\n",
       "    }\n",
       "</style>\n",
       "<table border=\"1\" class=\"dataframe\">\n",
       "  <thead>\n",
       "    <tr style=\"text-align: right;\">\n",
       "      <th></th>\n",
       "      <th>english</th>\n",
       "      <th>mathematics</th>\n",
       "    </tr>\n",
       "  </thead>\n",
       "  <tbody>\n",
       "    <tr>\n",
       "      <th>english</th>\n",
       "      <td>1.000000</td>\n",
       "      <td>0.818569</td>\n",
       "    </tr>\n",
       "    <tr>\n",
       "      <th>mathematics</th>\n",
       "      <td>0.818569</td>\n",
       "      <td>1.000000</td>\n",
       "    </tr>\n",
       "  </tbody>\n",
       "</table>\n",
       "</div>"
      ],
      "text/plain": [
       "              english  mathematics\n",
       "english      1.000000     0.818569\n",
       "mathematics  0.818569     1.000000"
      ]
     },
     "execution_count": 29,
     "metadata": {},
     "output_type": "execute_result"
    }
   ],
   "source": [
    "scores_df.corr()"
   ]
  },
  {
   "cell_type": "markdown",
   "metadata": {},
   "source": [
    "50명 전체에 대한 상관계수는 0.72 정도로 조금 약해지지만 그래도 영어 점수와 수학 점수 사이의 여전히 강한 선형 상관관계를 보여준다."
   ]
  },
  {
   "cell_type": "code",
   "execution_count": 30,
   "metadata": {
    "ExecuteTime": {
     "end_time": "2018-08-14T06:40:19.602887Z",
     "start_time": "2018-08-14T06:40:19.598025Z"
    }
   },
   "outputs": [
    {
     "data": {
      "text/html": [
       "<div>\n",
       "<style scoped>\n",
       "    .dataframe tbody tr th:only-of-type {\n",
       "        vertical-align: middle;\n",
       "    }\n",
       "\n",
       "    .dataframe tbody tr th {\n",
       "        vertical-align: top;\n",
       "    }\n",
       "\n",
       "    .dataframe thead th {\n",
       "        text-align: right;\n",
       "    }\n",
       "</style>\n",
       "<table border=\"1\" class=\"dataframe\">\n",
       "  <thead>\n",
       "    <tr style=\"text-align: right;\">\n",
       "      <th></th>\n",
       "      <th>english</th>\n",
       "      <th>mathematics</th>\n",
       "    </tr>\n",
       "  </thead>\n",
       "  <tbody>\n",
       "    <tr>\n",
       "      <th>english</th>\n",
       "      <td>1.000000</td>\n",
       "      <td>0.723741</td>\n",
       "    </tr>\n",
       "    <tr>\n",
       "      <th>mathematics</th>\n",
       "      <td>0.723741</td>\n",
       "      <td>1.000000</td>\n",
       "    </tr>\n",
       "  </tbody>\n",
       "</table>\n",
       "</div>"
      ],
      "text/plain": [
       "              english  mathematics\n",
       "english      1.000000     0.723741\n",
       "mathematics  0.723741     1.000000"
      ]
     },
     "execution_count": 30,
     "metadata": {},
     "output_type": "execute_result"
    }
   ],
   "source": [
    "df.corr()"
   ]
  },
  {
   "cell_type": "markdown",
   "metadata": {},
   "source": [
    "## 연습문제"
   ]
  },
  {
   "cell_type": "markdown",
   "metadata": {},
   "source": [
    "참고: [(연습) 2차원 데이터](https://colab.research.google.com/github/codingalzi/DataSci/blob/master/practices/practice-twoD_data.ipynb)"
   ]
  }
 ],
 "metadata": {
  "kernelspec": {
   "display_name": "Python 3 (ipykernel)",
   "language": "python",
   "name": "python3"
  },
  "language_info": {
   "codemirror_mode": {
    "name": "ipython",
    "version": 3
   },
   "file_extension": ".py",
   "mimetype": "text/x-python",
   "name": "python",
   "nbconvert_exporter": "python",
   "pygments_lexer": "ipython3",
   "version": "3.12.2"
  },
  "toc": {
   "nav_menu": {},
   "number_sections": true,
   "sideBar": true,
   "skip_h1_title": false,
   "toc_cell": false,
   "toc_position": {},
   "toc_section_display": "block",
   "toc_window_display": false
  }
 },
 "nbformat": 4,
 "nbformat_minor": 2
}
