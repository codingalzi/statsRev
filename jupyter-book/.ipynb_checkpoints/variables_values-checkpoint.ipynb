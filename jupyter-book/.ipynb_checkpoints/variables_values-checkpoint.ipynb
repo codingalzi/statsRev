{
 "cells": [
  {
   "cell_type": "markdown",
   "metadata": {
    "id": "ulfHAPV67JET"
   },
   "source": [
    "(ch:variables-values)=\n",
    "# 변수와 값"
   ]
  },
  {
   "cell_type": "markdown",
   "metadata": {
    "id": "gYxXltpp7JES"
   },
   "source": [
    "컴퓨터 프로그램은 간단하게 말해 변수를 조작하여 원하는 값을\n",
    "만들어내는 명령문의 모음집이다.\n",
    "이번 장에서는 변수의 활용법과 함께\n",
    "파이썬에서 기본으로 제공하는 값의 종류와 값을 표현하는 표현식에 대해 알아본다."
   ]
  },
  {
   "cell_type": "markdown",
   "metadata": {
    "id": "MWYgb4v87JEV"
   },
   "source": [
    "\n",
    "**값**<font size=\"2\">values</font>은 컴퓨터에 저장해\n",
    "활용하기 위한 임의의 데이터이다.\n",
    "정수, 유한소수,\n",
    "`a`, `b`, `c`, ..., `가`, `나`, `다`, ..., `!`, `:`, `;`, `_`, `(`, `)`, ... 처럼\n",
    "컴퓨터 키보드를 이용하여 입력할 수 있는 임의의 문자, 숫자, 기호로\n",
    "구성된 문자열 등이 값이다.\n",
    "\n",
    "또한 `파이썬 좋아요;-)`, `Hello, World!` 등과 같은 문자열과 함께\n",
    "리스트, 튜플, 사전과 같은 다양한 형태로 구성된 값들의 모음도 하나의 값으로 취급한다.\n",
    "\n",
    "반면에 **변수**<font size=\"2\">variables</font>는\n",
    "값이 저장된 컴퓨터 메모리 주소를 가르키는 이름이다.\n",
    "파이썬에서 변수는 다음과 같이 변수에 값을 할당하는 형식으로 선언된다.\n",
    "\n",
    "```python\n",
    "변수 = 값\n",
    "```\n",
    "\n",
    "변수 이름은 알파벳과 숫자, 밑줄 기호(`_`)로 만든 문자열이면 되는데, 숫자로 시작해서는 안된다.\n",
    "자세한 사항은 {numref}`%s. 변수명 작성법 <sec:var-naming>`을 참고하기 바란다."
   ]
  },
  {
   "cell_type": "markdown",
   "metadata": {
    "id": "0PCMlEDu7JEX"
   },
   "source": [
    "## 변수 할당<font size='2'>variable assignment</font>과 활용"
   ]
  },
  {
   "cell_type": "markdown",
   "metadata": {
    "id": "bKasrJT47JEV"
   },
   "source": [
    "다음 명령문은 네 개의 변수에 서로 다른 유형의 값, 즉 문자열, 정수, 유한소수, 리스트를 할당하는 코드이다."
   ]
  },
  {
   "cell_type": "code",
   "execution_count": 1,
   "metadata": {
    "id": "BH_DZusk7JEW"
   },
   "outputs": [],
   "source": [
    "greetings = '안녕하세요!'\n",
    "num = 17\n",
    "pi = 3.14\n",
    "scores = [92, 87, 100]"
   ]
  },
  {
   "cell_type": "markdown",
   "metadata": {
    "id": "A4abNGr47JEX"
   },
   "source": [
    "변수 `greetings`는 문자열 '안녕하세요'가 저장된 메모리의 주소를 가르키는 이름이고, \n",
    "변수 `num`은 정수 17을, \n",
    "변수 `pi`는 부동소수점 3.14를, \n",
    "변수 `scores`는 세 개의 정수가 저장된 리스트의 주소를 가르키는 이름으로 정의된다.\n",
    "이렇듯 변수에 값이 할당되면, 이 변수는 해당 값을 출력하거나 각종 연산에 이용되거나 다른 변수에 복사되는데 활용된다.\n",
    "\n",
    "예를 들어, 변수명 `greetings` 을 실행하면 변수에 할당된 값인 문자열\n",
    "`안녕하세요!`이 출력된다."
   ]
  },
  {
   "cell_type": "code",
   "execution_count": 2,
   "metadata": {
    "colab": {
     "base_uri": "https://localhost:8080/",
     "height": 35
    },
    "executionInfo": {
     "elapsed": 9,
     "status": "ok",
     "timestamp": 1750865266897,
     "user": {
      "displayName": "ter wa",
      "userId": "01448980402448893441"
     },
     "user_tz": -540
    },
    "id": "yIIKmXj37JEX",
    "outputId": "db420d89-5110-40a1-d747-050a93f5ede6"
   },
   "outputs": [
    {
     "data": {
      "text/plain": [
       "'안녕하세요!'"
      ]
     },
     "execution_count": 2,
     "metadata": {},
     "output_type": "execute_result"
    }
   ],
   "source": [
    "greetings"
   ]
  },
  {
   "cell_type": "markdown",
   "metadata": {
    "id": "RduMeq2C7JEY"
   },
   "source": [
    "변수 `num`과 `pi` 에는 각각 정수와 부동소수점이 할당되었으므로 연산에 사용할 수 있다."
   ]
  },
  {
   "cell_type": "code",
   "execution_count": 3,
   "metadata": {
    "colab": {
     "base_uri": "https://localhost:8080/"
    },
    "executionInfo": {
     "elapsed": 39,
     "status": "ok",
     "timestamp": 1750865284906,
     "user": {
      "displayName": "ter wa",
      "userId": "01448980402448893441"
     },
     "user_tz": -540
    },
    "id": "YF87ijw-7JEY",
    "outputId": "20da81b8-74fe-4085-f1e4-573b6ba9570a"
   },
   "outputs": [
    {
     "data": {
      "text/plain": [
       "19"
      ]
     },
     "execution_count": 3,
     "metadata": {},
     "output_type": "execute_result"
    }
   ],
   "source": [
    "num + 2"
   ]
  },
  {
   "cell_type": "code",
   "execution_count": 4,
   "metadata": {
    "colab": {
     "base_uri": "https://localhost:8080/"
    },
    "executionInfo": {
     "elapsed": 20,
     "status": "ok",
     "timestamp": 1750865286747,
     "user": {
      "displayName": "ter wa",
      "userId": "01448980402448893441"
     },
     "user_tz": -540
    },
    "id": "T5mY_ADy7JEY",
    "outputId": "7a1374ca-b729-4b6e-d339-a581252a2665"
   },
   "outputs": [
    {
     "data": {
      "text/plain": [
       "6.28"
      ]
     },
     "execution_count": 4,
     "metadata": {},
     "output_type": "execute_result"
    }
   ],
   "source": [
    "2 * pi"
   ]
  },
  {
   "cell_type": "markdown",
   "metadata": {
    "id": "S2Wrxpli7JEY"
   },
   "source": [
    "변수 `scores`는 시험점수로 구성된 리스트가 할당되어 있으므로,\n",
    "아래 코드에서처럼 리스트 인덱싱을 활용하여 시험점수의 평균값을 구할 수 있다.\n",
    "참고로 정수의 나눗셈 결과는 항상 부동소수점으로 처리됨에 주의한다."
   ]
  },
  {
   "cell_type": "code",
   "execution_count": 5,
   "metadata": {
    "colab": {
     "base_uri": "https://localhost:8080/"
    },
    "executionInfo": {
     "elapsed": 26,
     "status": "ok",
     "timestamp": 1750865292188,
     "user": {
      "displayName": "ter wa",
      "userId": "01448980402448893441"
     },
     "user_tz": -540
    },
    "id": "6ZjyVypz7JEY",
    "outputId": "143eebad-a07a-4799-ae0e-248f52d982ce"
   },
   "outputs": [
    {
     "data": {
      "text/plain": [
       "93.0"
      ]
     },
     "execution_count": 5,
     "metadata": {},
     "output_type": "execute_result"
    }
   ],
   "source": [
    "mean = (scores[0] + scores[1] + scores[2])/3\n",
    "mean"
   ]
  },
  {
   "cell_type": "markdown",
   "metadata": {
    "id": "jy6o4USV7JEY"
   },
   "source": [
    "## 변수 재할당과 업데이트"
   ]
  },
  {
   "cell_type": "markdown",
   "metadata": {
    "id": "-LH_Jx0Y7JEY"
   },
   "source": [
    "**변수 재할당**<font size='2'>variable reassignment</font>은 \n",
    "변수에 할당된 값을 다른 값으로 대체하는 일이다. \n",
    "현재 변수 `num` 에 할당된 값을 확인해보자."
   ]
  },
  {
   "cell_type": "code",
   "execution_count": 6,
   "metadata": {
    "colab": {
     "base_uri": "https://localhost:8080/"
    },
    "executionInfo": {
     "elapsed": 17,
     "status": "ok",
     "timestamp": 1750865295494,
     "user": {
      "displayName": "ter wa",
      "userId": "01448980402448893441"
     },
     "user_tz": -540
    },
    "id": "525h5saG7JEY",
    "outputId": "d52949b8-f3a1-43b5-c430-c54d67a60d8c"
   },
   "outputs": [
    {
     "data": {
      "text/plain": [
       "17"
      ]
     },
     "execution_count": 6,
     "metadata": {},
     "output_type": "execute_result"
    }
   ],
   "source": [
    "num"
   ]
  },
  {
   "cell_type": "markdown",
   "metadata": {
    "id": "ARaATetz7JEZ"
   },
   "source": [
    "이제 변수 `num` 에 다른 값을 할당해본다."
   ]
  },
  {
   "cell_type": "code",
   "execution_count": 7,
   "metadata": {
    "id": "I2Bw97-u7JEZ"
   },
   "outputs": [],
   "source": [
    "num = 7"
   ]
  },
  {
   "cell_type": "markdown",
   "metadata": {
    "id": "-v6NIKOW7JEZ"
   },
   "source": [
    "이제 변수 `num`에는 정수 17이 아닌 정수 7이 할당되어 있다. 즉 변수 `num`는 정수 7이 저장된 주소를 가르키는 이름이 되었다."
   ]
  },
  {
   "cell_type": "code",
   "execution_count": 8,
   "metadata": {
    "colab": {
     "base_uri": "https://localhost:8080/"
    },
    "executionInfo": {
     "elapsed": 35,
     "status": "ok",
     "timestamp": 1750865520200,
     "user": {
      "displayName": "ter wa",
      "userId": "01448980402448893441"
     },
     "user_tz": -540
    },
    "id": "NnhNMQHD7JEZ",
    "outputId": "6cd82295-fac8-404a-ce96-6b6d875b4a72"
   },
   "outputs": [
    {
     "data": {
      "text/plain": [
       "7"
      ]
     },
     "execution_count": 8,
     "metadata": {},
     "output_type": "execute_result"
    }
   ],
   "source": [
    "num"
   ]
  },
  {
   "cell_type": "markdown",
   "metadata": {
    "id": "EUYeuFW07JEZ"
   },
   "source": [
    "**변수 업데이트**<font size=\"2\">variable update</font>는\n",
    "변수에 이미 할당되어 있던 값을 이용해서 변수 재할당을 실행하는 과정을 말한다. 예를 들어 아래 코드는 변수 `num` 이 기존에 가리키던 값 7에 1을 더한 값 8을 다시 변수 `num`에 재할당한다."
   ]
  },
  {
   "cell_type": "code",
   "execution_count": 9,
   "metadata": {
    "colab": {
     "base_uri": "https://localhost:8080/"
    },
    "executionInfo": {
     "elapsed": 22,
     "status": "ok",
     "timestamp": 1750852134817,
     "user": {
      "displayName": "ter wa",
      "userId": "01448980402448893441"
     },
     "user_tz": -540
    },
    "id": "qs13aTh77JEZ",
    "outputId": "957b3b24-8627-40a5-abb8-af088445c086"
   },
   "outputs": [
    {
     "data": {
      "text/plain": [
       "8"
      ]
     },
     "execution_count": 9,
     "metadata": {},
     "output_type": "execute_result"
    }
   ],
   "source": [
    "num = num + 1\n",
    "num"
   ]
  },
  {
   "cell_type": "markdown",
   "metadata": {
    "id": "ezATYxRZ7JEZ"
   },
   "source": [
    "변수 업데이트 명령문을 보다 간편하게 표현할 수 있다.\n",
    "예를 들어 아래 명령문은 `num = num+1`을 대신한다."
   ]
  },
  {
   "cell_type": "code",
   "execution_count": 10,
   "metadata": {
    "colab": {
     "base_uri": "https://localhost:8080/"
    },
    "executionInfo": {
     "elapsed": 19,
     "status": "ok",
     "timestamp": 1750852136748,
     "user": {
      "displayName": "ter wa",
      "userId": "01448980402448893441"
     },
     "user_tz": -540
    },
    "id": "fEabQcoE7JEZ",
    "outputId": "65bbf430-a8f3-4e6a-c7b6-bd69adace4e7"
   },
   "outputs": [
    {
     "data": {
      "text/plain": [
       "9"
      ]
     },
     "execution_count": 10,
     "metadata": {},
     "output_type": "execute_result"
    }
   ],
   "source": [
    "num += 1\n",
    "num"
   ]
  },
  {
   "cell_type": "markdown",
   "metadata": {
    "id": "YT1_rK1K7JEc"
   },
   "source": [
    "반면에 아래 명령문은 `num = num / 3` 을 대신한다."
   ]
  },
  {
   "cell_type": "code",
   "execution_count": 11,
   "metadata": {
    "colab": {
     "base_uri": "https://localhost:8080/"
    },
    "executionInfo": {
     "elapsed": 22,
     "status": "ok",
     "timestamp": 1750852171135,
     "user": {
      "displayName": "ter wa",
      "userId": "01448980402448893441"
     },
     "user_tz": -540
    },
    "id": "1qVtW9KA7JEd",
    "outputId": "5e07e354-7345-4207-9885-58740af5669c"
   },
   "outputs": [
    {
     "data": {
      "text/plain": [
       "3.0"
      ]
     },
     "execution_count": 11,
     "metadata": {},
     "output_type": "execute_result"
    }
   ],
   "source": [
    "num /= 3\n",
    "num"
   ]
  },
  {
   "cell_type": "markdown",
   "metadata": {
    "id": "VINgwX_47JEd"
   },
   "source": [
    "프로그래밍에서 많이 사용되는 간편한 변수 업데이트 형식은 다음과 같다.\n",
    "\n",
    "| 간편 변수 업데이트 | 실제 의미 |\n",
    "| :---: | :---: |\n",
    "|`x += k` |`x = x + k`|\n",
    "| `x -= k` | `x = x - k`|\n",
    "| `x *= k` | `x = x * k`|\n",
    "|`x /= k`|`x = x / k`|\n",
    "|`x **= k`|`x = x ** k`|\n",
    "|`x //= k`|`x = x // k`|\n",
    "|`x %= k`|`x = x % k`|"
   ]
  },
  {
   "cell_type": "markdown",
   "metadata": {
    "id": "omRuLFO87JEd"
   },
   "source": [
    "간편 변수 업데이트 명령문은 `while` 반복문에서 많이 활용된다. 예를 들어, 아래 코드는 `while` 반복문을 이용하여 1부터 10까지의 정수들의 합 `sum`을 계산하는 과정을 보여준다."
   ]
  },
  {
   "cell_type": "code",
   "execution_count": 12,
   "metadata": {
    "colab": {
     "base_uri": "https://localhost:8080/"
    },
    "executionInfo": {
     "elapsed": 54,
     "status": "ok",
     "timestamp": 1750852412166,
     "user": {
      "displayName": "ter wa",
      "userId": "01448980402448893441"
     },
     "user_tz": -540
    },
    "id": "0g6INoKL7JEd",
    "outputId": "4474fd3a-6cb1-4132-e237-8bd9b214dde5"
   },
   "outputs": [
    {
     "name": "stdout",
     "output_type": "stream",
     "text": [
      "1부터 10까지 정수의 합: 55\n"
     ]
    }
   ],
   "source": [
    "one2ten = [1, 2, 3, 4, 5, 6, 7, 8, 9, 10]\n",
    "\n",
    "index = 0\n",
    "sum = 0                         # 항목을 차례대로 더한 값. 시작은 0부터.\n",
    "\n",
    "while index < 10:\n",
    "    sum = sum + one2ten[index]  # 변수 업데이트\n",
    "    index = index + 1           # 변수 업데이트\n",
    "\n",
    "print(\"1부터 10까지 정수의 합:\", sum)"
   ]
  },
  {
   "cell_type": "markdown",
   "metadata": {
    "id": "ozMoBcK-7JEd"
   },
   "source": [
    "위 코드에서 `while` 반복문의 본문에 포함된 두 개의 변수 업데이트 명령문 모두\n",
    "간편 변수 업데이트 명령문으로 대체할 수 있다."
   ]
  },
  {
   "cell_type": "code",
   "execution_count": 13,
   "metadata": {
    "id": "xI3t0R-K7JEd",
    "outputId": "2453dc2a-b25b-4937-a6ab-8f1ca3828f7e"
   },
   "outputs": [
    {
     "name": "stdout",
     "output_type": "stream",
     "text": [
      "1부터 10까지 정수의 합: 55\n"
     ]
    }
   ],
   "source": [
    "one2ten = [1, 2, 3, 4, 5, 6, 7, 8, 9, 10]\n",
    "\n",
    "index = 0\n",
    "sum = 0                         # 항목을 차례대로 더한 값. 시작은 0부터.\n",
    "\n",
    "while index < 10:\n",
    "    sum += one2ten[index]       # 간편 변수 업데이트\n",
    "    index += 1                  # 간편 변수 업데이트\n",
    "\n",
    "print(\"1부터 10까지 정수의 합:\", sum)"
   ]
  },
  {
   "cell_type": "markdown",
   "metadata": {
    "id": "rjHhyp507JEd"
   },
   "source": [
    "(sec:var-naming)=\n",
    "## 변수명 작성법"
   ]
  },
  {
   "cell_type": "markdown",
   "metadata": {
    "id": "wPSCp_517JEd"
   },
   "source": [
    "변수명, 즉 변수의 이름은 할당되는 값과 연관된 이름을 사용하는 게 좋다.\n",
    "예를 들어, 농구 시합에서 A 팀의 점수 77와 B 팀의 점수 81을 저장하는 변수명으로는 `x`, `y` 보다는 `A_score`, `B_score` 와 같은 변수명이 더 바람직하다."
   ]
  },
  {
   "cell_type": "code",
   "execution_count": 14,
   "metadata": {
    "id": "Hx-_KJ0j7JEd"
   },
   "outputs": [],
   "source": [
    "A_score = 77\n",
    "B_score = 81"
   ]
  },
  {
   "cell_type": "markdown",
   "metadata": {
    "id": "AhlF8rnY7JEe"
   },
   "source": [
    "변수명을 지정할 때 지켜야 하는 몇 가지 규칙이 있다.\n",
    "\n",
    "- 알파벳, 숫자, 밑줄 기호 `_` 등을 임의로 조합하되, 공백<font size='2'>space</font>을 포함할 수 없고, 숫자로 시작해서는 안되며, 알파벳 대소문자의 구분이 있다.\n",
    "\n",
    "- 다음 기호들은 사용할 수 없다.\n",
    "\n",
    "    ```\n",
    "    ., !, +, -, , /, %, @, ~\n",
    "    ````\n",
    "\n",
    "- 파이썬에서 특별한 역할을 수행하는 아래 키워드<font size=\"2\">keyword</font>들은\n",
    "    그대로 변수로 사용할 수 없다.\n",
    "    파이썬 프로그래밍 언어의 키워드는 파이썬 최신 버전 기준으로 총 35개이다.\n",
    "\n",
    "    ```\n",
    "    False      await      else       import     pass\n",
    "    None       break      except     in         raise\n",
    "    True       class      finally    is         return\n",
    "    and        continue   for        lambda     try\n",
    "    as         def        from       nonlocal   while\n",
    "    assert     del        global     not        with\n",
    "    async      elif       if         or         yield\n",
    "    ```"
   ]
  },
  {
   "cell_type": "markdown",
   "metadata": {
    "id": "ODVmM6oO2kOw"
   },
   "source": [
    "## 예제"
   ]
  },
  {
   "cell_type": "markdown",
   "metadata": {
    "id": "fW20vwYC2kOw"
   },
   "source": [
    "준비중 ..."
   ]
  }
 ],
 "metadata": {
  "colab": {
   "provenance": [
    {
     "file_id": "1IMVuHA0BX-8H3YJucWxJBdivhGVWdBpL",
     "timestamp": 1750849460794
    },
    {
     "file_id": "https://github.com/codingalzi/DataSci/blob/master/jupyter-book/lists_dicts.ipynb",
     "timestamp": 1750837708589
    }
   ]
  },
  "kernelspec": {
   "display_name": "Python 3 (ipykernel)",
   "language": "python",
   "name": "python3"
  },
  "language_info": {
   "codemirror_mode": {
    "name": "ipython",
    "version": 3
   },
   "file_extension": ".py",
   "mimetype": "text/x-python",
   "name": "python",
   "nbconvert_exporter": "python",
   "pygments_lexer": "ipython3",
   "version": "3.12.2"
  },
  "toc": {
   "nav_menu": {},
   "number_sections": true,
   "sideBar": true,
   "skip_h1_title": false,
   "toc_cell": false,
   "toc_position": {},
   "toc_section_display": "block",
   "toc_window_display": false
  }
 },
 "nbformat": 4,
 "nbformat_minor": 1
}
