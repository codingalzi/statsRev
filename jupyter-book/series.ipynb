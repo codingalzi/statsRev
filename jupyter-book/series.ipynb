{
 "cells": [
  {
   "cell_type": "markdown",
   "metadata": {
    "id": "t5iXI-ESTBHG"
   },
   "source": [
    "# 판다스 시리즈"
   ]
  },
  {
   "cell_type": "markdown",
   "metadata": {
    "id": "BF_GOBr_TBHI"
   },
   "source": [
    "판다스<font size='2'>Pandas</font>는 넘파이와 함께 데이터 분석에서 가장 많이 활용되는 라이브러리다.\n",
    "판다스가 제공하는 두 개의 자료형 `Series`와 `DataFrame`은\n",
    "데이터를 매우 효율적으로 다루는 다양한 기능을 제공한다.\n",
    "\n",
    "넘파이 어레이는 수치형 데이터를 처리하는 데에 특화된 반면,\n",
    "판다스의 시리즈와 데이터프레임은 표<font size='2'>table</font> 형식으로 제공되는 모든 유형의 데이터를 다룰 수 있다.\n",
    "\n",
    "먼저 `Series` 객체를 소개한다."
   ]
  },
  {
   "cell_type": "markdown",
   "metadata": {
    "id": "fjMj74tiTBHG"
   },
   "source": [
    "**기본 설정**"
   ]
  },
  {
   "cell_type": "markdown",
   "metadata": {
    "ExecuteTime": {
     "end_time": "2018-08-03T08:26:15.690793Z",
     "start_time": "2018-08-03T08:26:15.507201Z"
    },
    "id": "lOyBR8UhTBHH"
   },
   "source": [
    "`numpy`와 `pandas` 라이브러리를 각각 `np`와 `pd`로 불러온다."
   ]
  },
  {
   "cell_type": "code",
   "execution_count": 1,
   "metadata": {
    "ExecuteTime": {
     "end_time": "2018-08-14T06:43:30.149227Z",
     "start_time": "2018-08-14T06:43:29.960007Z"
    },
    "executionInfo": {
     "elapsed": 721,
     "status": "ok",
     "timestamp": 1751022875906,
     "user": {
      "displayName": "ter wa",
      "userId": "01448980402448893441"
     },
     "user_tz": -540
    },
    "id": "Wwh41UcqTBHH"
   },
   "outputs": [],
   "source": [
    "import numpy as np\n",
    "import pandas as pd"
   ]
  },
  {
   "cell_type": "markdown",
   "metadata": {
    "id": "q11uJxzYTBHI"
   },
   "source": [
    "## 시리즈 생성"
   ]
  },
  {
   "cell_type": "markdown",
   "metadata": {
    "id": "Qq6xdZzeTBHI"
   },
   "source": [
    "시리즈는 1차원 어레이와 동일한 구조를 갖는다.\n",
    "다만 인덱스를 0, 1, 2..가 아닌 원하는 값으로 지정할 수 있다.\n",
    "시리즈를 생성하기 위해 리스트, 넘파이 1차원 어레이, 사전 등을 이용한다."
   ]
  },
  {
   "cell_type": "markdown",
   "metadata": {
    "id": "g9ZsNh1pTBHJ"
   },
   "source": [
    "**리스트 활용**"
   ]
  },
  {
   "cell_type": "markdown",
   "metadata": {
    "id": "70t23CCuTBHJ"
   },
   "source": [
    "리스트 또는 1차원 어레이를 이용하여 간단하게 시리즈를 생성할 수 있다. \n",
    "`dtype`은 어레이 항목의 자료형을 가리키는 것처럼 시리즈에 포함된 항목들의 자료형을 의미한다."
   ]
  },
  {
   "cell_type": "markdown",
   "metadata": {
    "id": "4OVjUMeMTBHJ"
   },
   "source": [
    "아래 코드는 리스트를 이용하여 시리즈를 생성한다.\n",
    "인덱스를 별도로 지정하지 않으면 리스트, 넘파이 어레이 등에서 사용된 정수 인덱스가 사용된다."
   ]
  },
  {
   "cell_type": "code",
   "execution_count": 2,
   "metadata": {
    "colab": {
     "base_uri": "https://localhost:8080/",
     "height": 209
    },
    "executionInfo": {
     "elapsed": 32,
     "status": "ok",
     "timestamp": 1751022880017,
     "user": {
      "displayName": "ter wa",
      "userId": "01448980402448893441"
     },
     "user_tz": -540
    },
    "id": "xFq3LX2BTBHJ",
    "outputId": "f54592c4-f04c-4fec-bde2-f0ebfe8b6805"
   },
   "outputs": [
    {
     "data": {
      "text/plain": [
       "0    11\n",
       "1    -4\n",
       "2     7\n",
       "3    42\n",
       "4    -5\n",
       "5    20\n",
       "dtype: int64"
      ]
     },
     "execution_count": 2,
     "metadata": {},
     "output_type": "execute_result"
    }
   ],
   "source": [
    "ser1 = pd.Series([11, -4, 7, 42, -5, 20])\n",
    "ser1"
   ]
  },
  {
   "cell_type": "markdown",
   "metadata": {
    "id": "kDB84drtTBHJ"
   },
   "source": [
    "시리즈 객체의 자료형은 다음과 같다."
   ]
  },
  {
   "cell_type": "code",
   "execution_count": 3,
   "metadata": {
    "colab": {
     "base_uri": "https://localhost:8080/",
     "height": 204
    },
    "executionInfo": {
     "elapsed": 242,
     "status": "ok",
     "timestamp": 1751022882295,
     "user": {
      "displayName": "ter wa",
      "userId": "01448980402448893441"
     },
     "user_tz": -540
    },
    "id": "s0sNmg54TBHK",
    "outputId": "1a32ce0b-83ae-4f5b-81c7-8448927777ce",
    "scrolled": false
   },
   "outputs": [
    {
     "data": {
      "text/plain": [
       "pandas.core.series.Series"
      ]
     },
     "execution_count": 3,
     "metadata": {},
     "output_type": "execute_result"
    }
   ],
   "source": [
    "type(ser1)"
   ]
  },
  {
   "cell_type": "markdown",
   "metadata": {
    "id": "g9ZsNh1pTBHJ"
   },
   "source": [
    "**어레이 활용**"
   ]
  },
  {
   "cell_type": "markdown",
   "metadata": {
    "id": "0vjSNIVdTBHK"
   },
   "source": [
    "넘파이 1차원 어레이를 이용해 동일한 방식으로 시리즈를 생성할 수 있다."
   ]
  },
  {
   "cell_type": "code",
   "execution_count": 4,
   "metadata": {
    "colab": {
     "base_uri": "https://localhost:8080/",
     "height": 209
    },
    "executionInfo": {
     "elapsed": 20,
     "status": "ok",
     "timestamp": 1751022886189,
     "user": {
      "displayName": "ter wa",
      "userId": "01448980402448893441"
     },
     "user_tz": -540
    },
    "id": "GKd0SwQSTBHK",
    "outputId": "4b7ace21-8bbc-4e1b-b03b-01ee71b2498e"
   },
   "outputs": [
    {
     "data": {
      "text/plain": [
       "0    11\n",
       "1    -4\n",
       "2     7\n",
       "3    42\n",
       "4    -5\n",
       "5    20\n",
       "dtype: int64"
      ]
     },
     "execution_count": 4,
     "metadata": {},
     "output_type": "execute_result"
    }
   ],
   "source": [
    "ser1 = pd.Series(np.array([11, -4, 7, 42, -5, 20]))\n",
    "ser1"
   ]
  },
  {
   "cell_type": "markdown",
   "metadata": {
    "id": "h53YuROSTBHK"
   },
   "source": [
    "**사전 활용**"
   ]
  },
  {
   "cell_type": "markdown",
   "metadata": {
    "id": "sBKfRnBtTBHK"
   },
   "source": [
    "사전을 이용하여 시리즈를 생성할 수 있다.\n",
    "사전의 키가 인덱스로 지정된다.\n",
    "\n",
    "아래 코드는 6명의 키 (cm) 정보를 담은 시리즈를 생성한다."
   ]
  },
  {
   "cell_type": "code",
   "execution_count": 5,
   "metadata": {
    "colab": {
     "base_uri": "https://localhost:8080/",
     "height": 209
    },
    "executionInfo": {
     "elapsed": 19,
     "status": "ok",
     "timestamp": 1751022890086,
     "user": {
      "displayName": "ter wa",
      "userId": "01448980402448893441"
     },
     "user_tz": -540
    },
    "id": "8Pldh9XbTBHK",
    "outputId": "490c7d7b-97b6-4e5a-82c4-7ead9585211d"
   },
   "outputs": [
    {
     "data": {
      "text/plain": [
       "김강현     172.5\n",
       "황현      163.5\n",
       "남궁수현    156.7\n",
       "최흥선     187.2\n",
       "김선주     164.6\n",
       "함중아     178.3\n",
       "dtype: float64"
      ]
     },
     "execution_count": 5,
     "metadata": {},
     "output_type": "execute_result"
    }
   ],
   "source": [
    "info_dict = {'김강현':172.5, '황현':163.5, '남궁수현':156.7, '최흥선':187.2, '김선주':164.6, '함중아':178.3}\n",
    "ser2 = pd.Series(info_dict)\n",
    "ser2"
   ]
  },
  {
   "cell_type": "markdown",
   "metadata": {
    "id": "zFM8LU1CTBHK"
   },
   "source": [
    "## 시리즈 속성"
   ]
  },
  {
   "cell_type": "markdown",
   "metadata": {
    "id": "zFM8LU1CTBHK"
   },
   "source": [
    "**`index` 속성**"
   ]
  },
  {
   "cell_type": "markdown",
   "metadata": {
    "id": "CbDZBDZwTBHK"
   },
   "source": [
    "`index` 속성은 인덱스로 사용된 값들로 구성된 `Index` 객체를 가리킨다.\n",
    "자동으로 생성된 정수 인덱스는 `range`와 유사한 `RangeIndex` 자료형으로 지정된다."
   ]
  },
  {
   "cell_type": "code",
   "execution_count": 6,
   "metadata": {
    "colab": {
     "base_uri": "https://localhost:8080/"
    },
    "executionInfo": {
     "elapsed": 50,
     "status": "ok",
     "timestamp": 1751022905004,
     "user": {
      "displayName": "ter wa",
      "userId": "01448980402448893441"
     },
     "user_tz": -540
    },
    "id": "ELT3VCKgTBHL",
    "outputId": "e78cd7ba-f5d7-4ab3-f749-98436373d135"
   },
   "outputs": [
    {
     "data": {
      "text/plain": [
       "RangeIndex(start=0, stop=6, step=1)"
      ]
     },
     "execution_count": 6,
     "metadata": {},
     "output_type": "execute_result"
    }
   ],
   "source": [
    "ser1.index"
   ]
  },
  {
   "cell_type": "markdown",
   "metadata": {
    "id": "GDeXxSJQTBHL"
   },
   "source": [
    "`index` 속성을 다른 값으로 할당하는 방식으로 새로운 인덱스를 지정할 수 있다."
   ]
  },
  {
   "cell_type": "code",
   "execution_count": 7,
   "metadata": {
    "colab": {
     "base_uri": "https://localhost:8080/",
     "height": 209
    },
    "executionInfo": {
     "elapsed": 23,
     "status": "ok",
     "timestamp": 1751022906965,
     "user": {
      "displayName": "ter wa",
      "userId": "01448980402448893441"
     },
     "user_tz": -540
    },
    "id": "AaXWrGcnTBHL",
    "outputId": "edb8311b-e8ca-4e39-da9d-2e6f70b44ae7"
   },
   "outputs": [
    {
     "data": {
      "text/plain": [
       "영    11\n",
       "일    -4\n",
       "이     7\n",
       "삼    42\n",
       "사    -5\n",
       "오    20\n",
       "dtype: int64"
      ]
     },
     "execution_count": 7,
     "metadata": {},
     "output_type": "execute_result"
    }
   ],
   "source": [
    "new_index = ['영', '일', '이', '삼', '사', '오']\n",
    "ser1.index = new_index\n",
    "ser1"
   ]
  },
  {
   "cell_type": "markdown",
   "metadata": {
    "id": "HoSlJzVmTBHL"
   },
   "source": [
    "처음부터 인덱스를 지정하면서 시리즈를 생성할 수 있다.\n",
    "\n",
    "* `index` 키워드 인자: 항목의 수와 동일한 길이를 갖는 리스트여야 하고, 리스트에 포함된 순서대로 항목에 매칭된다."
   ]
  },
  {
   "cell_type": "code",
   "execution_count": 8,
   "metadata": {
    "colab": {
     "base_uri": "https://localhost:8080/",
     "height": 209
    },
    "executionInfo": {
     "elapsed": 32,
     "status": "ok",
     "timestamp": 1751022880017,
     "user": {
      "displayName": "ter wa",
      "userId": "01448980402448893441"
     },
     "user_tz": -540
    },
    "id": "xFq3LX2BTBHJ",
    "outputId": "f54592c4-f04c-4fec-bde2-f0ebfe8b6805"
   },
   "outputs": [
    {
     "data": {
      "text/plain": [
       "영    11\n",
       "일    -4\n",
       "이     7\n",
       "삼    42\n",
       "사    -5\n",
       "오    20\n",
       "dtype: int64"
      ]
     },
     "execution_count": 8,
     "metadata": {},
     "output_type": "execute_result"
    }
   ],
   "source": [
    "ser1 = pd.Series([11, -4, 7, 42, -5, 20], index=new_index)\n",
    "ser1"
   ]
  },
  {
   "cell_type": "code",
   "execution_count": 9,
   "metadata": {
    "colab": {
     "base_uri": "https://localhost:8080/"
    },
    "executionInfo": {
     "elapsed": 14,
     "status": "ok",
     "timestamp": 1751022924658,
     "user": {
      "displayName": "ter wa",
      "userId": "01448980402448893441"
     },
     "user_tz": -540
    },
    "id": "NXHUH_GbTBHL",
    "outputId": "692840cc-aca6-4de2-c011-f2d3374dd22b"
   },
   "outputs": [
    {
     "data": {
      "text/plain": [
       "Index(['영', '일', '이', '삼', '사', '오'], dtype='object')"
      ]
     },
     "execution_count": 9,
     "metadata": {},
     "output_type": "execute_result"
    }
   ],
   "source": [
    "ser1.index"
   ]
  },
  {
   "cell_type": "markdown",
   "metadata": {
    "id": "TFiU_hDHTBHL"
   },
   "source": [
    "**`name` 속성**"
   ]
  },
  {
   "cell_type": "markdown",
   "metadata": {
    "id": "U_2q-bioTBHL"
   },
   "source": [
    "`Series` 객체와 시리즈의 `Index` 객체 모두 `name` 속성에 항목과 연관된 이름을 저장할 수 있다.\n",
    "\n",
    "아래 코드는 시리즈와 시리즈의 인덱스에 `name` 속성을 지정한다.\n",
    "\n",
    "- 시리즈 항목은 센티미터 단위의 키 정보를 담음: 시리즈 객체의 `name` 속성을 `'키 (cm)'`로 지정\n",
    "- 시리즈의 인덱스은 사람 이름으로 구성됨: 시리즈 인덱스 객체의 `name` 속성을 `'이름'`으로 지정"
   ]
  },
  {
   "cell_type": "code",
   "execution_count": 10,
   "metadata": {
    "colab": {
     "base_uri": "https://localhost:8080/",
     "height": 241
    },
    "executionInfo": {
     "elapsed": 54,
     "status": "ok",
     "timestamp": 1751023399674,
     "user": {
      "displayName": "ter wa",
      "userId": "01448980402448893441"
     },
     "user_tz": -540
    },
    "id": "R9U-kdhnTBHL",
    "outputId": "101acc26-3152-4c28-d481-2804f62c8ff5"
   },
   "outputs": [],
   "source": [
    "ser2.name = '키 (cm)'\n",
    "ser2.index.name = '이름'"
   ]
  },
  {
   "cell_type": "markdown",
   "metadata": {},
   "source": [
    "시리즈의 이름이 지정됨이 확인된다."
   ]
  },
  {
   "cell_type": "code",
   "execution_count": 11,
   "metadata": {
    "colab": {
     "base_uri": "https://localhost:8080/",
     "height": 241
    },
    "executionInfo": {
     "elapsed": 54,
     "status": "ok",
     "timestamp": 1751023399674,
     "user": {
      "displayName": "ter wa",
      "userId": "01448980402448893441"
     },
     "user_tz": -540
    },
    "id": "R9U-kdhnTBHL",
    "outputId": "101acc26-3152-4c28-d481-2804f62c8ff5"
   },
   "outputs": [
    {
     "data": {
      "text/plain": [
       "이름\n",
       "김강현     172.5\n",
       "황현      163.5\n",
       "남궁수현    156.7\n",
       "최흥선     187.2\n",
       "김선주     164.6\n",
       "함중아     178.3\n",
       "Name: 키 (cm), dtype: float64"
      ]
     },
     "execution_count": 11,
     "metadata": {},
     "output_type": "execute_result"
    }
   ],
   "source": [
    "ser2"
   ]
  },
  {
   "cell_type": "markdown",
   "metadata": {},
   "source": [
    "인덱스의 이름도 확인된다."
   ]
  },
  {
   "cell_type": "code",
   "execution_count": 12,
   "metadata": {},
   "outputs": [
    {
     "data": {
      "text/plain": [
       "Index(['김강현', '황현', '남궁수현', '최흥선', '김선주', '함중아'], dtype='object', name='이름')"
      ]
     },
     "execution_count": 12,
     "metadata": {},
     "output_type": "execute_result"
    }
   ],
   "source": [
    "ser2.index"
   ]
  },
  {
   "cell_type": "markdown",
   "metadata": {
    "id": "LDjCRGaYTBHL"
   },
   "source": [
    "**`values` 속성**"
   ]
  },
  {
   "cell_type": "markdown",
   "metadata": {
    "id": "IOuwLDwWTBHM"
   },
   "source": [
    "`values` 속성은 시리즈의 항목만으로 구성된 1차원 어레이를 가리킨다."
   ]
  },
  {
   "cell_type": "code",
   "execution_count": 13,
   "metadata": {
    "colab": {
     "base_uri": "https://localhost:8080/"
    },
    "executionInfo": {
     "elapsed": 24,
     "status": "ok",
     "timestamp": 1750995716750,
     "user": {
      "displayName": "ter wa",
      "userId": "01448980402448893441"
     },
     "user_tz": -540
    },
    "id": "32DradiXTBHM",
    "outputId": "d19090b7-fa93-4382-d58f-694e381a8251"
   },
   "outputs": [
    {
     "data": {
      "text/plain": [
       "array([172.5, 163.5, 156.7, 187.2, 164.6, 178.3])"
      ]
     },
     "execution_count": 13,
     "metadata": {},
     "output_type": "execute_result"
    }
   ],
   "source": [
    "ser2.values"
   ]
  },
  {
   "cell_type": "markdown",
   "metadata": {
    "id": "BFwGcEa6TBHM"
   },
   "source": [
    "## 시리즈 인덱싱"
   ]
  },
  {
   "cell_type": "markdown",
   "metadata": {
    "id": "wLr4we4gTBHM"
   },
   "source": [
    "1차원 넘파이 어레이와 거의 동일하게 작동한다.\n",
    "설명을 위해 아래 시리즈를 이용한다."
   ]
  },
  {
   "cell_type": "code",
   "execution_count": 14,
   "metadata": {
    "colab": {
     "base_uri": "https://localhost:8080/",
     "height": 209
    },
    "executionInfo": {
     "elapsed": 18,
     "status": "ok",
     "timestamp": 1751023435574,
     "user": {
      "displayName": "ter wa",
      "userId": "01448980402448893441"
     },
     "user_tz": -540
    },
    "id": "5_vgpxAzTBHM",
    "outputId": "172d95c5-08c6-4149-ed8e-3e25b618d80c"
   },
   "outputs": [
    {
     "data": {
      "text/plain": [
       "A    1.0\n",
       "B    1.5\n",
       "C    2.0\n",
       "D    2.5\n",
       "E    3.0\n",
       "dtype: float64"
      ]
     },
     "execution_count": 14,
     "metadata": {},
     "output_type": "execute_result"
    }
   ],
   "source": [
    "ser3 = pd.Series(np.arange(1, 3.1, 0.5), index=['A', 'B', 'C', 'D', 'E'])\n",
    "ser3"
   ]
  },
  {
   "cell_type": "markdown",
   "metadata": {
    "id": "CEL79OJ4TBHM"
   },
   "source": [
    "시리즈 인덱싱은 항목별로 매칭된 인덱스를 사용하면 된다."
   ]
  },
  {
   "cell_type": "code",
   "execution_count": 15,
   "metadata": {
    "colab": {
     "base_uri": "https://localhost:8080/"
    },
    "executionInfo": {
     "elapsed": 12,
     "status": "ok",
     "timestamp": 1751023442173,
     "user": {
      "displayName": "ter wa",
      "userId": "01448980402448893441"
     },
     "user_tz": -540
    },
    "id": "TkWGW0biTBHM",
    "outputId": "09da1cf5-2066-4b97-f2e3-f6f6167fc6dc"
   },
   "outputs": [
    {
     "data": {
      "text/plain": [
       "1.5"
      ]
     },
     "execution_count": 15,
     "metadata": {},
     "output_type": "execute_result"
    }
   ],
   "source": [
    "ser3['B']"
   ]
  },
  {
   "cell_type": "markdown",
   "metadata": {
    "id": "0ViF_ZqoTBHU"
   },
   "source": [
    "시리즈는 내부적으로 행별로 자동으로 0, 1, 2 등으로 시작하는 정수 인덱스를 지정한다.\n",
    "항목에 매칭된 인덱스 대신, 아래 형식으로 정수 인덱서를 활용하여 인덱싱을 사용할 수 있다.\n",
    "아래 코드는 `B` 인덱스가 둘째 행을 가리키기에 정수 1을 이용하여 \n",
    "이전 코드와 동일한 결과를 내는 인덱싱을 실행한다."
   ]
  },
  {
   "cell_type": "code",
   "execution_count": 16,
   "metadata": {
    "colab": {
     "base_uri": "https://localhost:8080/"
    },
    "executionInfo": {
     "elapsed": 51,
     "status": "ok",
     "timestamp": 1751023443915,
     "user": {
      "displayName": "ter wa",
      "userId": "01448980402448893441"
     },
     "user_tz": -540
    },
    "id": "_rdHjVHeTBHU",
    "outputId": "6b088f98-5b4a-40ea-c403-da0b924ad5d3"
   },
   "outputs": [
    {
     "data": {
      "text/plain": [
       "1.5"
      ]
     },
     "execution_count": 16,
     "metadata": {},
     "output_type": "execute_result"
    }
   ],
   "source": [
    "ser3.iloc[1]"
   ]
  },
  {
   "cell_type": "markdown",
   "metadata": {},
   "source": [
    "반면에 인덱스 `E`에 해당하는 인덱싱은 다음 세 가지 방식으로 가능하다.\n",
    "-1은 마지막 인덱스를 가리킴에 주의한다."
   ]
  },
  {
   "cell_type": "code",
   "execution_count": 17,
   "metadata": {
    "colab": {
     "base_uri": "https://localhost:8080/"
    },
    "executionInfo": {
     "elapsed": 51,
     "status": "ok",
     "timestamp": 1751023443915,
     "user": {
      "displayName": "ter wa",
      "userId": "01448980402448893441"
     },
     "user_tz": -540
    },
    "id": "_rdHjVHeTBHU",
    "outputId": "6b088f98-5b4a-40ea-c403-da0b924ad5d3"
   },
   "outputs": [
    {
     "data": {
      "text/plain": [
       "3.0"
      ]
     },
     "execution_count": 17,
     "metadata": {},
     "output_type": "execute_result"
    }
   ],
   "source": [
    "ser3['E']"
   ]
  },
  {
   "cell_type": "code",
   "execution_count": 18,
   "metadata": {
    "colab": {
     "base_uri": "https://localhost:8080/"
    },
    "executionInfo": {
     "elapsed": 51,
     "status": "ok",
     "timestamp": 1751023443915,
     "user": {
      "displayName": "ter wa",
      "userId": "01448980402448893441"
     },
     "user_tz": -540
    },
    "id": "_rdHjVHeTBHU",
    "outputId": "6b088f98-5b4a-40ea-c403-da0b924ad5d3"
   },
   "outputs": [
    {
     "data": {
      "text/plain": [
       "3.0"
      ]
     },
     "execution_count": 18,
     "metadata": {},
     "output_type": "execute_result"
    }
   ],
   "source": [
    "ser3.iloc[4]"
   ]
  },
  {
   "cell_type": "code",
   "execution_count": 19,
   "metadata": {
    "colab": {
     "base_uri": "https://localhost:8080/"
    },
    "executionInfo": {
     "elapsed": 51,
     "status": "ok",
     "timestamp": 1751023443915,
     "user": {
      "displayName": "ter wa",
      "userId": "01448980402448893441"
     },
     "user_tz": -540
    },
    "id": "_rdHjVHeTBHU",
    "outputId": "6b088f98-5b4a-40ea-c403-da0b924ad5d3"
   },
   "outputs": [
    {
     "data": {
      "text/plain": [
       "3.0"
      ]
     },
     "execution_count": 19,
     "metadata": {},
     "output_type": "execute_result"
    }
   ],
   "source": [
    "ser3.iloc[-1]"
   ]
  },
  {
   "cell_type": "markdown",
   "metadata": {
    "id": "qWLn8dajTBHV"
   },
   "source": [
    "## 시리즈 슬라이싱"
   ]
  },
  {
   "cell_type": "markdown",
   "metadata": {
    "id": "zawr4tCrTBHV"
   },
   "source": [
    "행의 정수 인덱스를 이용한 슬라이싱 또한 `iloc[]` 객체를 이용한다.\n",
    "사용법은 1차원 어레이의 경우와 유사하다."
   ]
  },
  {
   "cell_type": "code",
   "execution_count": 20,
   "metadata": {
    "colab": {
     "base_uri": "https://localhost:8080/",
     "height": 147
    },
    "executionInfo": {
     "elapsed": 11,
     "status": "ok",
     "timestamp": 1751023489876,
     "user": {
      "displayName": "ter wa",
      "userId": "01448980402448893441"
     },
     "user_tz": -540
    },
    "id": "A4ONxNmlTBHV",
    "outputId": "f3d1151c-f982-441b-cf46-e09670d3972b"
   },
   "outputs": [
    {
     "data": {
      "text/plain": [
       "B    1.5\n",
       "C    2.0\n",
       "dtype: float64"
      ]
     },
     "execution_count": 20,
     "metadata": {},
     "output_type": "execute_result"
    }
   ],
   "source": [
    "ser3.iloc[1:3]"
   ]
  },
  {
   "cell_type": "markdown",
   "metadata": {
    "id": "u_ObB3CMTBHV"
   },
   "source": [
    "반면에 정수가 아닌 주어진 인덱스를 이용하는 슬라이싱은 리스트의 슬라이싱과 비슷하지만,\n",
    "지정된 구간의 양쪽 끝을 모두 포함한다는 점이 다르다.\n",
    "3번 인덱스의 행이 `D` 인덱스 행에 해당하지만 아래 코드는 위 코드와 다른 결과를 낸다."
   ]
  },
  {
   "cell_type": "code",
   "execution_count": 21,
   "metadata": {
    "colab": {
     "base_uri": "https://localhost:8080/",
     "height": 147
    },
    "executionInfo": {
     "elapsed": 50,
     "status": "ok",
     "timestamp": 1751023702072,
     "user": {
      "displayName": "ter wa",
      "userId": "01448980402448893441"
     },
     "user_tz": -540
    },
    "id": "RTQgQ1HxTBHV",
    "outputId": "ce67f645-ccd6-46d8-b7c7-9856e419febf"
   },
   "outputs": [
    {
     "data": {
      "text/plain": [
       "B    1.5\n",
       "C    2.0\n",
       "D    2.5\n",
       "dtype: float64"
      ]
     },
     "execution_count": 21,
     "metadata": {},
     "output_type": "execute_result"
    }
   ],
   "source": [
    "ser3['B':'D']"
   ]
  },
  {
   "cell_type": "markdown",
   "metadata": {},
   "source": [
    "슬라이싱을 이용하여 지정된 구간의 항목을 지정할 수 있다.\n",
    "지정되는 항목은 하나의 값이거나 슬라이싱 구간의 크기와 동일한 리스트, 튜플, 1차원 어레이 등이 사용된다.\n",
    "\n",
    "하나의 값이 지정되는 경우 지정된 구간의 모든 항목이 동일한 값으로 지정되며,\n",
    "리스트 등이 지정되면 각각의 인덱스에 각각의 항목이 지정된다."
   ]
  },
  {
   "cell_type": "code",
   "execution_count": 22,
   "metadata": {
    "colab": {
     "base_uri": "https://localhost:8080/",
     "height": 209
    },
    "executionInfo": {
     "elapsed": 25,
     "status": "ok",
     "timestamp": 1751023711646,
     "user": {
      "displayName": "ter wa",
      "userId": "01448980402448893441"
     },
     "user_tz": -540
    },
    "id": "PCDldf3RTBHV",
    "outputId": "595d0041-5659-4e4c-f0b2-7b680a9532d0"
   },
   "outputs": [
    {
     "data": {
      "text/plain": [
       "A    1.0\n",
       "B    7.2\n",
       "C    7.2\n",
       "D    2.5\n",
       "E    3.0\n",
       "dtype: float64"
      ]
     },
     "execution_count": 22,
     "metadata": {},
     "output_type": "execute_result"
    }
   ],
   "source": [
    "ser3.iloc[1:3] = 7.2\n",
    "ser3"
   ]
  },
  {
   "cell_type": "code",
   "execution_count": 23,
   "metadata": {
    "colab": {
     "base_uri": "https://localhost:8080/",
     "height": 209
    },
    "executionInfo": {
     "elapsed": 25,
     "status": "ok",
     "timestamp": 1751023711646,
     "user": {
      "displayName": "ter wa",
      "userId": "01448980402448893441"
     },
     "user_tz": -540
    },
    "id": "PCDldf3RTBHV",
    "outputId": "595d0041-5659-4e4c-f0b2-7b680a9532d0"
   },
   "outputs": [
    {
     "data": {
      "text/plain": [
       "A    1.0\n",
       "B    5.0\n",
       "C    5.0\n",
       "D    2.5\n",
       "E    3.0\n",
       "dtype: float64"
      ]
     },
     "execution_count": 23,
     "metadata": {},
     "output_type": "execute_result"
    }
   ],
   "source": [
    "ser3['B':'C'] = 5.0\n",
    "ser3"
   ]
  },
  {
   "cell_type": "code",
   "execution_count": 24,
   "metadata": {
    "colab": {
     "base_uri": "https://localhost:8080/",
     "height": 209
    },
    "executionInfo": {
     "elapsed": 25,
     "status": "ok",
     "timestamp": 1751023711646,
     "user": {
      "displayName": "ter wa",
      "userId": "01448980402448893441"
     },
     "user_tz": -540
    },
    "id": "PCDldf3RTBHV",
    "outputId": "595d0041-5659-4e4c-f0b2-7b680a9532d0"
   },
   "outputs": [
    {
     "data": {
      "text/plain": [
       "A    1.0\n",
       "B    1.5\n",
       "C    2.0\n",
       "D    2.5\n",
       "E    3.0\n",
       "dtype: float64"
      ]
     },
     "execution_count": 24,
     "metadata": {},
     "output_type": "execute_result"
    }
   ],
   "source": [
    "ser3.iloc[1:3] = [1.5, 2.0]\n",
    "ser3"
   ]
  },
  {
   "cell_type": "code",
   "execution_count": 25,
   "metadata": {
    "colab": {
     "base_uri": "https://localhost:8080/",
     "height": 209
    },
    "executionInfo": {
     "elapsed": 25,
     "status": "ok",
     "timestamp": 1751023711646,
     "user": {
      "displayName": "ter wa",
      "userId": "01448980402448893441"
     },
     "user_tz": -540
    },
    "id": "PCDldf3RTBHV",
    "outputId": "595d0041-5659-4e4c-f0b2-7b680a9532d0"
   },
   "outputs": [
    {
     "data": {
      "text/plain": [
       "A    1.0\n",
       "B    7.2\n",
       "C    5.0\n",
       "D    2.5\n",
       "E    3.0\n",
       "dtype: float64"
      ]
     },
     "execution_count": 25,
     "metadata": {},
     "output_type": "execute_result"
    }
   ],
   "source": [
    "ser3['B':'C'] = np.array([7.2, 5.0])\n",
    "ser3"
   ]
  },
  {
   "cell_type": "markdown",
   "metadata": {
    "id": "lR0Px8LGTBHV"
   },
   "source": [
    "## 예제"
   ]
  },
  {
   "cell_type": "markdown",
   "metadata": {
    "id": "_vnHdr9nTBHV"
   },
   "source": [
    "**예제 1**"
   ]
  },
  {
   "cell_type": "markdown",
   "metadata": {
    "id": "29g0yoUMLdoi"
   },
   "source": [
    "아래 리스트를 이용하여 시리즈를 생성하시오.\n",
    "단, `np.nan`은 결측치, 즉 값이 없어서 비어있는 자리를 표현하는 부동소수점 값이다."
   ]
  },
  {
   "cell_type": "code",
   "execution_count": 26,
   "metadata": {
    "executionInfo": {
     "elapsed": 10,
     "status": "ok",
     "timestamp": 1751023792879,
     "user": {
      "displayName": "ter wa",
      "userId": "01448980402448893441"
     },
     "user_tz": -540
    },
    "id": "-f6TSrLHLmCc"
   },
   "outputs": [],
   "source": [
    "aList = [1, 3, 5, np.nan, 6, 8]"
   ]
  },
  {
   "cell_type": "code",
   "execution_count": 27,
   "metadata": {
    "colab": {
     "base_uri": "https://localhost:8080/"
    },
    "executionInfo": {
     "elapsed": 46,
     "status": "ok",
     "timestamp": 1751024044846,
     "user": {
      "displayName": "ter wa",
      "userId": "01448980402448893441"
     },
     "user_tz": -540
    },
    "id": "1u4d98kpKlvT",
    "outputId": "93f15844-e882-4f57-b3ed-a7353c309e70"
   },
   "outputs": [
    {
     "data": {
      "text/plain": [
       "float"
      ]
     },
     "execution_count": 27,
     "metadata": {},
     "output_type": "execute_result"
    }
   ],
   "source": [
    "type(np.nan)"
   ]
  },
  {
   "cell_type": "markdown",
   "metadata": {
    "id": "Zs6W53NdTBHV"
   },
   "source": [
    "답:"
   ]
  },
  {
   "cell_type": "markdown",
   "metadata": {
    "id": "w5wGnKVQTBHV"
   },
   "source": [
    "시리즈와 데이터프레임에서 결측치는 `NaN`으로 표시된다."
   ]
  },
  {
   "cell_type": "code",
   "execution_count": 28,
   "metadata": {
    "colab": {
     "base_uri": "https://localhost:8080/",
     "height": 272
    },
    "executionInfo": {
     "elapsed": 44,
     "status": "ok",
     "timestamp": 1751024126714,
     "user": {
      "displayName": "ter wa",
      "userId": "01448980402448893441"
     },
     "user_tz": -540
    },
    "id": "4J7mq0eRTBHV",
    "outputId": "10e7c3f4-3bcd-4ad6-da47-d28a04f4f35b"
   },
   "outputs": [
    {
     "data": {
      "text/plain": [
       "0    1.0\n",
       "1    3.0\n",
       "2    5.0\n",
       "3    NaN\n",
       "4    6.0\n",
       "5    8.0\n",
       "dtype: float64"
      ]
     },
     "execution_count": 28,
     "metadata": {},
     "output_type": "execute_result"
    }
   ],
   "source": [
    "pd.Series(aList)"
   ]
  },
  {
   "cell_type": "markdown",
   "metadata": {
    "id": "JkJA4o2xTBHW"
   },
   "source": [
    "**예제 2**"
   ]
  },
  {
   "cell_type": "markdown",
   "metadata": {
    "id": "NnINu39jTBHW"
   },
   "source": [
    "다음 코드는 a부터 e까지 알파벳 소문자를 인덱스로 갖는 랜덤 숫자로 구성된 시리즈를 생성한다.\n",
    "`np.random.seed()` 함수는 난수 생성을 위한 시드를 지정한다.\n",
    "수동으로 시드를 지정하면 난수 생성 코드를 실행할 때 항상 동일한 결과를 얻는다."
   ]
  },
  {
   "cell_type": "code",
   "execution_count": 29,
   "metadata": {
    "colab": {
     "base_uri": "https://localhost:8080/",
     "height": 241
    },
    "executionInfo": {
     "elapsed": 48,
     "status": "ok",
     "timestamp": 1751024550831,
     "user": {
      "displayName": "ter wa",
      "userId": "01448980402448893441"
     },
     "user_tz": -540
    },
    "id": "oQXXmrgjTBHW",
    "outputId": "2d7e0cb9-0c58-4309-e04d-9a375f1751da"
   },
   "outputs": [
    {
     "data": {
      "text/plain": [
       "a    0.496714\n",
       "b   -0.138264\n",
       "c    0.647689\n",
       "d    1.523030\n",
       "e   -0.234153\n",
       "dtype: float64"
      ]
     },
     "execution_count": 29,
     "metadata": {},
     "output_type": "execute_result"
    }
   ],
   "source": [
    "np.random.seed(42)\n",
    "\n",
    "rand_5 = pd.Series(np.random.randn(5), index=[\"a\", \"b\", \"c\", \"d\", \"e\"])\n",
    "rand_5"
   ]
  },
  {
   "cell_type": "markdown",
   "metadata": {
    "id": "oVD_ejcgTBHW"
   },
   "source": [
    "아래 코드의 실행 결과를 설명해 보시오."
   ]
  },
  {
   "cell_type": "code",
   "execution_count": 30,
   "metadata": {
    "colab": {
     "base_uri": "https://localhost:8080/",
     "height": 209
    },
    "executionInfo": {
     "elapsed": 19,
     "status": "ok",
     "timestamp": 1751024563822,
     "user": {
      "displayName": "ter wa",
      "userId": "01448980402448893441"
     },
     "user_tz": -540
    },
    "id": "816h8pkrTBHW",
    "outputId": "d34227ec-0536-4bb5-8a31-7cc20e7b401d"
   },
   "outputs": [
    {
     "data": {
      "text/plain": [
       "e   -0.234153\n",
       "b   -0.138264\n",
       "f         NaN\n",
       "d    1.523030\n",
       "dtype: float64"
      ]
     },
     "execution_count": 30,
     "metadata": {},
     "output_type": "execute_result"
    }
   ],
   "source": [
    "rand_5.reindex([\"e\", \"b\", \"f\", \"d\"])"
   ]
  },
  {
   "cell_type": "markdown",
   "metadata": {
    "id": "AWA5nj2FTBHW"
   },
   "source": [
    "답:"
   ]
  },
  {
   "cell_type": "markdown",
   "metadata": {
    "id": "xK4GC7llTBHW"
   },
   "source": [
    "시리즈 객체의 `reindex()` 메서드는 기존 시리즈를 지정된 인덱스의 순서대로 정렬한다.\n",
    "다만 기존 시리즈에 없는 인덱스에 대응하는 항목은 결측치 `NaN`으로, 기존 시리즈에 있지만 언급되지 않는 인덱스에 대응하는 항목은 무시한다. 따라서 인덱스 `f`의 값은 결측치로 지정되었고, 인덱스 `a`와 `c` 행은 무시된다."
   ]
  }
 ],
 "metadata": {
  "colab": {
   "provenance": [
    {
     "file_id": "https://github.com/codingalzi/statsRev/blob/master/jupyter-book/series.ipynb",
     "timestamp": 1750992689754
    }
   ],
   "toc_visible": true
  },
  "kernelspec": {
   "display_name": "Python 3 (ipykernel)",
   "language": "python",
   "name": "python3"
  },
  "language_info": {
   "codemirror_mode": {
    "name": "ipython",
    "version": 3
   },
   "file_extension": ".py",
   "mimetype": "text/x-python",
   "name": "python",
   "nbconvert_exporter": "python",
   "pygments_lexer": "ipython3",
   "version": "3.12.2"
  },
  "toc": {
   "nav_menu": {},
   "number_sections": true,
   "sideBar": true,
   "skip_h1_title": false,
   "toc_cell": false,
   "toc_position": {},
   "toc_section_display": "block",
   "toc_window_display": false
  }
 },
 "nbformat": 4,
 "nbformat_minor": 1
}
