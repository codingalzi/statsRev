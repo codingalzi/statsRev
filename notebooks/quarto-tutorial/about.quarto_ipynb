{
  "cells": [
    {
      "cell_type": "markdown",
      "metadata": {},
      "source": [
        "---\n",
        "title: \"About\"\n",
        "---\n",
        "\n",
        "\n",
        "About this site: Quarto 사용법 배우기\n",
        "\n",
        "- first: \n",
        "- second:\n",
        "- third:\n",
        "- fourth:\n",
        "- fifth:\n",
        "- sixth:\n"
      ],
      "id": "076059fe"
    },
    {
      "cell_type": "code",
      "metadata": {},
      "source": [
        "1+1"
      ],
      "id": "806ca377",
      "execution_count": null,
      "outputs": []
    },
    {
      "cell_type": "code",
      "metadata": {},
      "source": [
        "2 * 3"
      ],
      "id": "0a087fd0",
      "execution_count": null,
      "outputs": []
    }
  ],
  "metadata": {
    "kernelspec": {
      "display_name": "Python 3",
      "language": "python",
      "name": "python3"
    }
  },
  "nbformat": 4,
  "nbformat_minor": 5
}