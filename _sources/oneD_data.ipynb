{
 "cells": [
  {
   "cell_type": "markdown",
   "metadata": {
    "id": "7Rnrginpyk9o"
   },
   "source": [
    "(ch:oneD-data)=\n",
    "# 1차원 데이터"
   ]
  },
  {
   "cell_type": "markdown",
   "metadata": {
    "id": "eCAwuBvLyk9p"
   },
   "source": [
    "**기본 설정**"
   ]
  },
  {
   "cell_type": "markdown",
   "metadata": {
    "ExecuteTime": {
     "end_time": "2018-08-03T08:26:15.690793Z",
     "start_time": "2018-08-03T08:26:15.507201Z"
    },
    "id": "VZMNkdpQyk9q"
   },
   "source": [
    "`numpy`와 `pandas` 라이브러리를 각각 `np`와 `pd`로 불러온다."
   ]
  },
  {
   "cell_type": "code",
   "execution_count": 1,
   "metadata": {
    "ExecuteTime": {
     "end_time": "2018-08-14T06:43:30.149227Z",
     "start_time": "2018-08-14T06:43:29.960007Z"
    },
    "executionInfo": {
     "elapsed": 2978,
     "status": "ok",
     "timestamp": 1752114032977,
     "user": {
      "displayName": "ter wa",
      "userId": "01448980402448893441"
     },
     "user_tz": -540
    },
    "id": "YOI9lnz0yk9q"
   },
   "outputs": [],
   "source": [
    "import numpy as np\n",
    "import pandas as pd"
   ]
  },
  {
   "cell_type": "markdown",
   "metadata": {
    "id": "Rr8bfk-Yyk9r"
   },
   "source": [
    "데이터프레임의 [chained indexing을 금지시키기 위한 설정](https://pandas.pydata.org/pandas-docs/stable/user_guide/indexing.html#returning-a-view-versus-a-copy)을 지정한다.\n",
    "Pandas 3.0 버전부터는 기본 옵션으로 지정된다."
   ]
  },
  {
   "cell_type": "code",
   "execution_count": 2,
   "metadata": {
    "executionInfo": {
     "elapsed": 25,
     "status": "ok",
     "timestamp": 1752114032988,
     "user": {
      "displayName": "ter wa",
      "userId": "01448980402448893441"
     },
     "user_tz": -540
    },
    "id": "tidw3i-Wyk9r"
   },
   "outputs": [],
   "source": [
    "pd.options.mode.copy_on_write = True"
   ]
  },
  {
   "cell_type": "markdown",
   "metadata": {
    "ExecuteTime": {
     "end_time": "2018-08-14T06:43:30.149227Z",
     "start_time": "2018-08-14T06:43:29.960007Z"
    },
    "id": "LVBJcV2cyk9s"
   },
   "source": [
    "주피터 노트북을 사용하고 있다면 아래 명령어(파이썬 코드 아님)를 통해 부동소수점의 출력을 소수점 이하 6자리로 제한한다."
   ]
  },
  {
   "cell_type": "code",
   "execution_count": 3,
   "metadata": {
    "ExecuteTime": {
     "end_time": "2018-08-14T06:43:30.149227Z",
     "start_time": "2018-08-14T06:43:29.960007Z"
    },
    "colab": {
     "base_uri": "https://localhost:8080/",
     "height": 35
    },
    "executionInfo": {
     "elapsed": 34,
     "status": "ok",
     "timestamp": 1752114033000,
     "user": {
      "displayName": "ter wa",
      "userId": "01448980402448893441"
     },
     "user_tz": -540
    },
    "id": "3_wyQyIPyk9s",
    "outputId": "ecf523c6-3d7a-4a67-ff63-ed735e1a65ec"
   },
   "outputs": [
    {
     "data": {
      "text/plain": [
       "'%.6f'"
      ]
     },
     "execution_count": 3,
     "metadata": {},
     "output_type": "execute_result"
    }
   ],
   "source": [
    "%precision 6"
   ]
  },
  {
   "cell_type": "markdown",
   "metadata": {
    "ExecuteTime": {
     "end_time": "2018-08-14T06:43:30.149227Z",
     "start_time": "2018-08-14T06:43:29.960007Z"
    },
    "id": "rMtr9U_jyk9s"
   },
   "source": [
    "아래 코드는 데이터프레임 내에서 부동소수점의 출력을 소수점 이하 6자리로 제한한다."
   ]
  },
  {
   "cell_type": "code",
   "execution_count": 4,
   "metadata": {
    "ExecuteTime": {
     "end_time": "2018-08-14T06:43:30.149227Z",
     "start_time": "2018-08-14T06:43:29.960007Z"
    },
    "executionInfo": {
     "elapsed": 13,
     "status": "ok",
     "timestamp": 1752114033014,
     "user": {
      "displayName": "ter wa",
      "userId": "01448980402448893441"
     },
     "user_tz": -540
    },
    "id": "s9WuQ_qkyk9t"
   },
   "outputs": [],
   "source": [
    "pd.set_option('display.precision', 6)"
   ]
  },
  {
   "cell_type": "markdown",
   "metadata": {
    "id": "UlVWbJlAyk9t"
   },
   "source": [
    "**데이터 저장소 디렉토리**"
   ]
  },
  {
   "cell_type": "markdown",
   "metadata": {
    "id": "cUIo8Yupyk9t"
   },
   "source": [
    "앞으로 사용할 데이터셋들의 기본 저장소를 지정한다."
   ]
  },
  {
   "cell_type": "code",
   "execution_count": 5,
   "metadata": {
    "executionInfo": {
     "elapsed": 14,
     "status": "ok",
     "timestamp": 1752114033030,
     "user": {
      "displayName": "ter wa",
      "userId": "01448980402448893441"
     },
     "user_tz": -540
    },
    "id": "DEpGB4P2yk9t"
   },
   "outputs": [],
   "source": [
    "data_url = 'https://raw.githubusercontent.com/codingalzi/DataSci/refs/heads/master/data/'"
   ]
  },
  {
   "cell_type": "markdown",
   "metadata": {
    "id": "Eh_zyRPKyk9u"
   },
   "source": [
    "## 데이터셋 불러오기"
   ]
  },
  {
   "cell_type": "markdown",
   "metadata": {
    "ExecuteTime": {
     "end_time": "2018-08-03T08:26:15.708374Z",
     "start_time": "2018-08-03T08:26:15.691921Z"
    },
    "id": "EvAV0mxpyk9u"
   },
   "source": [
    "50명의 영어와 수학 점수를 담고 있는 csv 파일을 데이터프레임으로 불러온다.\n",
    "이때 학생번호를 인덱스로 지정한다."
   ]
  },
  {
   "cell_type": "code",
   "execution_count": 6,
   "metadata": {
    "ExecuteTime": {
     "end_time": "2018-08-14T06:43:30.160598Z",
     "start_time": "2018-08-14T06:43:30.150458Z"
    },
    "colab": {
     "base_uri": "https://localhost:8080/",
     "height": 1000
    },
    "executionInfo": {
     "elapsed": 478,
     "status": "ok",
     "timestamp": 1752114033508,
     "user": {
      "displayName": "ter wa",
      "userId": "01448980402448893441"
     },
     "user_tz": -540
    },
    "id": "-oHY6_eiyk9u",
    "outputId": "37a482b2-6888-4b36-e801-1fe9b1508d77"
   },
   "outputs": [
    {
     "data": {
      "text/html": [
       "<div>\n",
       "<style scoped>\n",
       "    .dataframe tbody tr th:only-of-type {\n",
       "        vertical-align: middle;\n",
       "    }\n",
       "\n",
       "    .dataframe tbody tr th {\n",
       "        vertical-align: top;\n",
       "    }\n",
       "\n",
       "    .dataframe thead th {\n",
       "        text-align: right;\n",
       "    }\n",
       "</style>\n",
       "<table border=\"1\" class=\"dataframe\">\n",
       "  <thead>\n",
       "    <tr style=\"text-align: right;\">\n",
       "      <th></th>\n",
       "      <th>english</th>\n",
       "      <th>mathematics</th>\n",
       "    </tr>\n",
       "    <tr>\n",
       "      <th>student number</th>\n",
       "      <th></th>\n",
       "      <th></th>\n",
       "    </tr>\n",
       "  </thead>\n",
       "  <tbody>\n",
       "    <tr>\n",
       "      <th>1</th>\n",
       "      <td>42</td>\n",
       "      <td>65</td>\n",
       "    </tr>\n",
       "    <tr>\n",
       "      <th>2</th>\n",
       "      <td>69</td>\n",
       "      <td>80</td>\n",
       "    </tr>\n",
       "    <tr>\n",
       "      <th>3</th>\n",
       "      <td>56</td>\n",
       "      <td>63</td>\n",
       "    </tr>\n",
       "    <tr>\n",
       "      <th>4</th>\n",
       "      <td>41</td>\n",
       "      <td>63</td>\n",
       "    </tr>\n",
       "    <tr>\n",
       "      <th>5</th>\n",
       "      <td>57</td>\n",
       "      <td>76</td>\n",
       "    </tr>\n",
       "    <tr>\n",
       "      <th>6</th>\n",
       "      <td>48</td>\n",
       "      <td>60</td>\n",
       "    </tr>\n",
       "    <tr>\n",
       "      <th>7</th>\n",
       "      <td>65</td>\n",
       "      <td>81</td>\n",
       "    </tr>\n",
       "    <tr>\n",
       "      <th>8</th>\n",
       "      <td>49</td>\n",
       "      <td>66</td>\n",
       "    </tr>\n",
       "    <tr>\n",
       "      <th>9</th>\n",
       "      <td>65</td>\n",
       "      <td>78</td>\n",
       "    </tr>\n",
       "    <tr>\n",
       "      <th>10</th>\n",
       "      <td>58</td>\n",
       "      <td>82</td>\n",
       "    </tr>\n",
       "    <tr>\n",
       "      <th>11</th>\n",
       "      <td>70</td>\n",
       "      <td>94</td>\n",
       "    </tr>\n",
       "    <tr>\n",
       "      <th>12</th>\n",
       "      <td>47</td>\n",
       "      <td>75</td>\n",
       "    </tr>\n",
       "    <tr>\n",
       "      <th>13</th>\n",
       "      <td>51</td>\n",
       "      <td>70</td>\n",
       "    </tr>\n",
       "    <tr>\n",
       "      <th>14</th>\n",
       "      <td>64</td>\n",
       "      <td>77</td>\n",
       "    </tr>\n",
       "    <tr>\n",
       "      <th>15</th>\n",
       "      <td>62</td>\n",
       "      <td>84</td>\n",
       "    </tr>\n",
       "    <tr>\n",
       "      <th>16</th>\n",
       "      <td>70</td>\n",
       "      <td>84</td>\n",
       "    </tr>\n",
       "    <tr>\n",
       "      <th>17</th>\n",
       "      <td>71</td>\n",
       "      <td>82</td>\n",
       "    </tr>\n",
       "    <tr>\n",
       "      <th>18</th>\n",
       "      <td>68</td>\n",
       "      <td>85</td>\n",
       "    </tr>\n",
       "    <tr>\n",
       "      <th>19</th>\n",
       "      <td>73</td>\n",
       "      <td>90</td>\n",
       "    </tr>\n",
       "    <tr>\n",
       "      <th>20</th>\n",
       "      <td>37</td>\n",
       "      <td>70</td>\n",
       "    </tr>\n",
       "    <tr>\n",
       "      <th>21</th>\n",
       "      <td>65</td>\n",
       "      <td>78</td>\n",
       "    </tr>\n",
       "    <tr>\n",
       "      <th>22</th>\n",
       "      <td>65</td>\n",
       "      <td>93</td>\n",
       "    </tr>\n",
       "    <tr>\n",
       "      <th>23</th>\n",
       "      <td>61</td>\n",
       "      <td>77</td>\n",
       "    </tr>\n",
       "    <tr>\n",
       "      <th>24</th>\n",
       "      <td>52</td>\n",
       "      <td>88</td>\n",
       "    </tr>\n",
       "    <tr>\n",
       "      <th>25</th>\n",
       "      <td>57</td>\n",
       "      <td>82</td>\n",
       "    </tr>\n",
       "    <tr>\n",
       "      <th>26</th>\n",
       "      <td>57</td>\n",
       "      <td>76</td>\n",
       "    </tr>\n",
       "    <tr>\n",
       "      <th>27</th>\n",
       "      <td>75</td>\n",
       "      <td>87</td>\n",
       "    </tr>\n",
       "    <tr>\n",
       "      <th>28</th>\n",
       "      <td>61</td>\n",
       "      <td>84</td>\n",
       "    </tr>\n",
       "    <tr>\n",
       "      <th>29</th>\n",
       "      <td>47</td>\n",
       "      <td>77</td>\n",
       "    </tr>\n",
       "    <tr>\n",
       "      <th>30</th>\n",
       "      <td>54</td>\n",
       "      <td>82</td>\n",
       "    </tr>\n",
       "    <tr>\n",
       "      <th>31</th>\n",
       "      <td>66</td>\n",
       "      <td>91</td>\n",
       "    </tr>\n",
       "    <tr>\n",
       "      <th>32</th>\n",
       "      <td>54</td>\n",
       "      <td>75</td>\n",
       "    </tr>\n",
       "    <tr>\n",
       "      <th>33</th>\n",
       "      <td>54</td>\n",
       "      <td>76</td>\n",
       "    </tr>\n",
       "    <tr>\n",
       "      <th>34</th>\n",
       "      <td>42</td>\n",
       "      <td>78</td>\n",
       "    </tr>\n",
       "    <tr>\n",
       "      <th>35</th>\n",
       "      <td>37</td>\n",
       "      <td>57</td>\n",
       "    </tr>\n",
       "    <tr>\n",
       "      <th>36</th>\n",
       "      <td>79</td>\n",
       "      <td>89</td>\n",
       "    </tr>\n",
       "    <tr>\n",
       "      <th>37</th>\n",
       "      <td>56</td>\n",
       "      <td>83</td>\n",
       "    </tr>\n",
       "    <tr>\n",
       "      <th>38</th>\n",
       "      <td>62</td>\n",
       "      <td>69</td>\n",
       "    </tr>\n",
       "    <tr>\n",
       "      <th>39</th>\n",
       "      <td>62</td>\n",
       "      <td>86</td>\n",
       "    </tr>\n",
       "    <tr>\n",
       "      <th>40</th>\n",
       "      <td>55</td>\n",
       "      <td>81</td>\n",
       "    </tr>\n",
       "    <tr>\n",
       "      <th>41</th>\n",
       "      <td>63</td>\n",
       "      <td>81</td>\n",
       "    </tr>\n",
       "    <tr>\n",
       "      <th>42</th>\n",
       "      <td>57</td>\n",
       "      <td>80</td>\n",
       "    </tr>\n",
       "    <tr>\n",
       "      <th>43</th>\n",
       "      <td>57</td>\n",
       "      <td>79</td>\n",
       "    </tr>\n",
       "    <tr>\n",
       "      <th>44</th>\n",
       "      <td>67</td>\n",
       "      <td>87</td>\n",
       "    </tr>\n",
       "    <tr>\n",
       "      <th>45</th>\n",
       "      <td>55</td>\n",
       "      <td>84</td>\n",
       "    </tr>\n",
       "    <tr>\n",
       "      <th>46</th>\n",
       "      <td>45</td>\n",
       "      <td>71</td>\n",
       "    </tr>\n",
       "    <tr>\n",
       "      <th>47</th>\n",
       "      <td>66</td>\n",
       "      <td>80</td>\n",
       "    </tr>\n",
       "    <tr>\n",
       "      <th>48</th>\n",
       "      <td>55</td>\n",
       "      <td>77</td>\n",
       "    </tr>\n",
       "    <tr>\n",
       "      <th>49</th>\n",
       "      <td>64</td>\n",
       "      <td>83</td>\n",
       "    </tr>\n",
       "    <tr>\n",
       "      <th>50</th>\n",
       "      <td>66</td>\n",
       "      <td>88</td>\n",
       "    </tr>\n",
       "  </tbody>\n",
       "</table>\n",
       "</div>"
      ],
      "text/plain": [
       "                english  mathematics\n",
       "student number                      \n",
       "1                    42           65\n",
       "2                    69           80\n",
       "3                    56           63\n",
       "4                    41           63\n",
       "5                    57           76\n",
       "6                    48           60\n",
       "7                    65           81\n",
       "8                    49           66\n",
       "9                    65           78\n",
       "10                   58           82\n",
       "11                   70           94\n",
       "12                   47           75\n",
       "13                   51           70\n",
       "14                   64           77\n",
       "15                   62           84\n",
       "16                   70           84\n",
       "17                   71           82\n",
       "18                   68           85\n",
       "19                   73           90\n",
       "20                   37           70\n",
       "21                   65           78\n",
       "22                   65           93\n",
       "23                   61           77\n",
       "24                   52           88\n",
       "25                   57           82\n",
       "26                   57           76\n",
       "27                   75           87\n",
       "28                   61           84\n",
       "29                   47           77\n",
       "30                   54           82\n",
       "31                   66           91\n",
       "32                   54           75\n",
       "33                   54           76\n",
       "34                   42           78\n",
       "35                   37           57\n",
       "36                   79           89\n",
       "37                   56           83\n",
       "38                   62           69\n",
       "39                   62           86\n",
       "40                   55           81\n",
       "41                   63           81\n",
       "42                   57           80\n",
       "43                   57           79\n",
       "44                   67           87\n",
       "45                   55           84\n",
       "46                   45           71\n",
       "47                   66           80\n",
       "48                   55           77\n",
       "49                   64           83\n",
       "50                   66           88"
      ]
     },
     "execution_count": 6,
     "metadata": {},
     "output_type": "execute_result"
    }
   ],
   "source": [
    "df = pd.read_csv(data_url+'ch02_scores_em.csv',\n",
    "                 index_col='student number')\n",
    "df"
   ]
  },
  {
   "cell_type": "markdown",
   "metadata": {
    "id": "a7AC5yKCyk9u"
   },
   "source": [
    "**`head()`/`tail()` 메서드**"
   ]
  },
  {
   "cell_type": "markdown",
   "metadata": {
    "ExecuteTime": {
     "end_time": "2018-08-14T06:43:30.160598Z",
     "start_time": "2018-08-14T06:43:30.150458Z"
    },
    "id": "YPSHsD8Syk9u"
   },
   "source": [
    "`head()`/`tail()` 메서드에 정수 인자를 지정하면 지정된 개수의 샘플로 구성된 데이터프레임이 생성된다. 인자를 입력하지 않으면 기본값인 5가 실행된다. 따라서 처음 5명과 마지막 5명의 점수는 다음과 같이 확인할 수 있다."
   ]
  },
  {
   "cell_type": "code",
   "execution_count": 7,
   "metadata": {
    "ExecuteTime": {
     "end_time": "2018-08-14T06:43:30.160598Z",
     "start_time": "2018-08-14T06:43:30.150458Z"
    },
    "colab": {
     "base_uri": "https://localhost:8080/",
     "height": 237
    },
    "executionInfo": {
     "elapsed": 62,
     "status": "ok",
     "timestamp": 1752114033570,
     "user": {
      "displayName": "ter wa",
      "userId": "01448980402448893441"
     },
     "user_tz": -540
    },
    "id": "7IXRKyrpyk9u",
    "outputId": "b6fc2b88-d1fa-4073-97c5-e859fb6d099c"
   },
   "outputs": [
    {
     "data": {
      "text/html": [
       "<div>\n",
       "<style scoped>\n",
       "    .dataframe tbody tr th:only-of-type {\n",
       "        vertical-align: middle;\n",
       "    }\n",
       "\n",
       "    .dataframe tbody tr th {\n",
       "        vertical-align: top;\n",
       "    }\n",
       "\n",
       "    .dataframe thead th {\n",
       "        text-align: right;\n",
       "    }\n",
       "</style>\n",
       "<table border=\"1\" class=\"dataframe\">\n",
       "  <thead>\n",
       "    <tr style=\"text-align: right;\">\n",
       "      <th></th>\n",
       "      <th>english</th>\n",
       "      <th>mathematics</th>\n",
       "    </tr>\n",
       "    <tr>\n",
       "      <th>student number</th>\n",
       "      <th></th>\n",
       "      <th></th>\n",
       "    </tr>\n",
       "  </thead>\n",
       "  <tbody>\n",
       "    <tr>\n",
       "      <th>1</th>\n",
       "      <td>42</td>\n",
       "      <td>65</td>\n",
       "    </tr>\n",
       "    <tr>\n",
       "      <th>2</th>\n",
       "      <td>69</td>\n",
       "      <td>80</td>\n",
       "    </tr>\n",
       "    <tr>\n",
       "      <th>3</th>\n",
       "      <td>56</td>\n",
       "      <td>63</td>\n",
       "    </tr>\n",
       "    <tr>\n",
       "      <th>4</th>\n",
       "      <td>41</td>\n",
       "      <td>63</td>\n",
       "    </tr>\n",
       "    <tr>\n",
       "      <th>5</th>\n",
       "      <td>57</td>\n",
       "      <td>76</td>\n",
       "    </tr>\n",
       "  </tbody>\n",
       "</table>\n",
       "</div>"
      ],
      "text/plain": [
       "                english  mathematics\n",
       "student number                      \n",
       "1                    42           65\n",
       "2                    69           80\n",
       "3                    56           63\n",
       "4                    41           63\n",
       "5                    57           76"
      ]
     },
     "execution_count": 7,
     "metadata": {},
     "output_type": "execute_result"
    }
   ],
   "source": [
    "df.head()"
   ]
  },
  {
   "cell_type": "code",
   "execution_count": 8,
   "metadata": {
    "ExecuteTime": {
     "end_time": "2018-08-14T06:43:30.160598Z",
     "start_time": "2018-08-14T06:43:30.150458Z"
    },
    "colab": {
     "base_uri": "https://localhost:8080/",
     "height": 237
    },
    "executionInfo": {
     "elapsed": 81,
     "status": "ok",
     "timestamp": 1752114033653,
     "user": {
      "displayName": "ter wa",
      "userId": "01448980402448893441"
     },
     "user_tz": -540
    },
    "id": "d4pLU6h0yk9u",
    "outputId": "8e303ddc-4657-4592-9823-7b3d3aa316f2"
   },
   "outputs": [
    {
     "data": {
      "text/html": [
       "<div>\n",
       "<style scoped>\n",
       "    .dataframe tbody tr th:only-of-type {\n",
       "        vertical-align: middle;\n",
       "    }\n",
       "\n",
       "    .dataframe tbody tr th {\n",
       "        vertical-align: top;\n",
       "    }\n",
       "\n",
       "    .dataframe thead th {\n",
       "        text-align: right;\n",
       "    }\n",
       "</style>\n",
       "<table border=\"1\" class=\"dataframe\">\n",
       "  <thead>\n",
       "    <tr style=\"text-align: right;\">\n",
       "      <th></th>\n",
       "      <th>english</th>\n",
       "      <th>mathematics</th>\n",
       "    </tr>\n",
       "    <tr>\n",
       "      <th>student number</th>\n",
       "      <th></th>\n",
       "      <th></th>\n",
       "    </tr>\n",
       "  </thead>\n",
       "  <tbody>\n",
       "    <tr>\n",
       "      <th>46</th>\n",
       "      <td>45</td>\n",
       "      <td>71</td>\n",
       "    </tr>\n",
       "    <tr>\n",
       "      <th>47</th>\n",
       "      <td>66</td>\n",
       "      <td>80</td>\n",
       "    </tr>\n",
       "    <tr>\n",
       "      <th>48</th>\n",
       "      <td>55</td>\n",
       "      <td>77</td>\n",
       "    </tr>\n",
       "    <tr>\n",
       "      <th>49</th>\n",
       "      <td>64</td>\n",
       "      <td>83</td>\n",
       "    </tr>\n",
       "    <tr>\n",
       "      <th>50</th>\n",
       "      <td>66</td>\n",
       "      <td>88</td>\n",
       "    </tr>\n",
       "  </tbody>\n",
       "</table>\n",
       "</div>"
      ],
      "text/plain": [
       "                english  mathematics\n",
       "student number                      \n",
       "46                   45           71\n",
       "47                   66           80\n",
       "48                   55           77\n",
       "49                   64           83\n",
       "50                   66           88"
      ]
     },
     "execution_count": 8,
     "metadata": {},
     "output_type": "execute_result"
    }
   ],
   "source": [
    "df.tail()"
   ]
  },
  {
   "cell_type": "markdown",
   "metadata": {
    "id": "psEgOXCOyk9v"
   },
   "source": [
    "## 넘파이 어레이 활용"
   ]
  },
  {
   "cell_type": "markdown",
   "metadata": {
    "id": "rloe0iJuyk9v"
   },
   "source": [
    "처음 열 명의 이름을 A, B, C, ..., J로 지정하면서 영어 점수로만 구성된 데이터프레임을 지정해 보자.\n",
    "\n",
    "먼저 처음 10명의 영어 점수로 구성된 넘파이 어레이를 생성한다.\n"
   ]
  },
  {
   "cell_type": "markdown",
   "metadata": {
    "id": "2zKqHpIclgGS"
   },
   "source": [
    ":::{admonition} 넘파이 어레이\n",
    ":class: tip\n",
    "\n",
    "- 넘파이 어레이: 숫자로만 구성된 리스트와 유사하며, 데이터 분석 분야에서 가장 중요한 자료형이다.\n",
    "- `np.array()` 함수: 리스트, 시리즈 등의 값을 어레이 자료형으로 변환시킨다.\n",
    ":::"
   ]
  },
  {
   "cell_type": "code",
   "execution_count": 9,
   "metadata": {
    "ExecuteTime": {
     "end_time": "2018-08-14T06:43:30.164864Z",
     "start_time": "2018-08-14T06:43:30.161951Z"
    },
    "colab": {
     "base_uri": "https://localhost:8080/"
    },
    "executionInfo": {
     "elapsed": 16,
     "status": "ok",
     "timestamp": 1752114033679,
     "user": {
      "displayName": "ter wa",
      "userId": "01448980402448893441"
     },
     "user_tz": -540
    },
    "id": "5VzFp8v1yk9v",
    "outputId": "d38c51d2-9938-477a-cb9b-1be754796e57"
   },
   "outputs": [
    {
     "data": {
      "text/plain": [
       "array([42, 69, 56, 41, 57, 48, 65, 49, 65, 58])"
      ]
     },
     "execution_count": 9,
     "metadata": {},
     "output_type": "execute_result"
    }
   ],
   "source": [
    "first10english = df['english'].head(10)\n",
    "\n",
    "scores = np.array(first10english)\n",
    "scores"
   ]
  },
  {
   "cell_type": "markdown",
   "metadata": {
    "id": "DLan2bXlyk9v"
   },
   "source": [
    "그런 다음, 이 어레이를 이용해 열 명의 이름을 A, B, C, ..., J로 지정한 새로운 데이터프레임을 생성한다."
   ]
  },
  {
   "cell_type": "code",
   "execution_count": 10,
   "metadata": {
    "ExecuteTime": {
     "end_time": "2018-08-14T06:43:30.171540Z",
     "start_time": "2018-08-14T06:43:30.166060Z"
    },
    "colab": {
     "base_uri": "https://localhost:8080/",
     "height": 394
    },
    "executionInfo": {
     "elapsed": 63,
     "status": "ok",
     "timestamp": 1752114033743,
     "user": {
      "displayName": "ter wa",
      "userId": "01448980402448893441"
     },
     "user_tz": -540
    },
    "id": "QMAlbNoJyk9v",
    "outputId": "4f331152-752b-4f84-df4b-400dbfe995bd"
   },
   "outputs": [
    {
     "data": {
      "text/html": [
       "<div>\n",
       "<style scoped>\n",
       "    .dataframe tbody tr th:only-of-type {\n",
       "        vertical-align: middle;\n",
       "    }\n",
       "\n",
       "    .dataframe tbody tr th {\n",
       "        vertical-align: top;\n",
       "    }\n",
       "\n",
       "    .dataframe thead th {\n",
       "        text-align: right;\n",
       "    }\n",
       "</style>\n",
       "<table border=\"1\" class=\"dataframe\">\n",
       "  <thead>\n",
       "    <tr style=\"text-align: right;\">\n",
       "      <th></th>\n",
       "      <th>score</th>\n",
       "    </tr>\n",
       "    <tr>\n",
       "      <th>student</th>\n",
       "      <th></th>\n",
       "    </tr>\n",
       "  </thead>\n",
       "  <tbody>\n",
       "    <tr>\n",
       "      <th>A</th>\n",
       "      <td>42</td>\n",
       "    </tr>\n",
       "    <tr>\n",
       "      <th>B</th>\n",
       "      <td>69</td>\n",
       "    </tr>\n",
       "    <tr>\n",
       "      <th>C</th>\n",
       "      <td>56</td>\n",
       "    </tr>\n",
       "    <tr>\n",
       "      <th>D</th>\n",
       "      <td>41</td>\n",
       "    </tr>\n",
       "    <tr>\n",
       "      <th>E</th>\n",
       "      <td>57</td>\n",
       "    </tr>\n",
       "    <tr>\n",
       "      <th>F</th>\n",
       "      <td>48</td>\n",
       "    </tr>\n",
       "    <tr>\n",
       "      <th>G</th>\n",
       "      <td>65</td>\n",
       "    </tr>\n",
       "    <tr>\n",
       "      <th>H</th>\n",
       "      <td>49</td>\n",
       "    </tr>\n",
       "    <tr>\n",
       "      <th>I</th>\n",
       "      <td>65</td>\n",
       "    </tr>\n",
       "    <tr>\n",
       "      <th>J</th>\n",
       "      <td>58</td>\n",
       "    </tr>\n",
       "  </tbody>\n",
       "</table>\n",
       "</div>"
      ],
      "text/plain": [
       "         score\n",
       "student       \n",
       "A           42\n",
       "B           69\n",
       "C           56\n",
       "D           41\n",
       "E           57\n",
       "F           48\n",
       "G           65\n",
       "H           49\n",
       "I           65\n",
       "J           58"
      ]
     },
     "execution_count": 10,
     "metadata": {},
     "output_type": "execute_result"
    }
   ],
   "source": [
    "scores_df = pd.DataFrame({'score':scores},\n",
    "                         index=pd.Index(['A', 'B', 'C', 'D', 'E',\n",
    "                                         'F', 'G', 'H', 'I', 'J'],\n",
    "                                        name='student'))\n",
    "scores_df"
   ]
  },
  {
   "cell_type": "markdown",
   "metadata": {
    "id": "VhK5t-8qyk9v"
   },
   "source": [
    "## 데이터 대표값"
   ]
  },
  {
   "cell_type": "markdown",
   "metadata": {
    "id": "UCuf8Ti5yk9v"
   },
   "source": [
    "주어진 데이터셋을 대표하는 값으로 평균값, 중앙값, 최빈값이 가장 많이 사용된다. 각 대표값들의 의미와 파이썬을 이용해 계산하는 여러가지 방법들에 대해서 살펴보자."
   ]
  },
  {
   "cell_type": "markdown",
   "metadata": {
    "id": "CAAec94Iyk9v"
   },
   "source": [
    "**평균값**"
   ]
  },
  {
   "cell_type": "markdown",
   "metadata": {
    "id": "z23jlnXzyk9v"
   },
   "source": [
    "평균값은 데이터를 모두 더한 뒤, 데이터의 개수로 나눈 값을 말한다. 데이터셋이 $n$ 개의 데이터 $x_1, x_2, \\cdots, x_n$로 이루어져 있다면 이 데이터셋의 평균값 $\\bar x$는 다음과 같이 구한다.\n",
    "\n",
    "$$\n",
    "\\bar x = \\frac 1 n \\sum_{i=1}^{n} x_i = \\frac 1 n (x_1 + x_2 + \\cdots + x_n)\n",
    "$$"
   ]
  },
  {
   "cell_type": "markdown",
   "metadata": {
    "id": "PYZ55lIJyk9v"
   },
   "source": [
    "예를 들어, 처음 10명 학생의 영어 점수의 평균값은 다음과 같고, 위에서 생성한 넘파이 어레이 `scores` 또는 데이터프레임 `scores_df`를 이용해 3가지 방식으로 계산할 수 있다.\n",
    "\n",
    "$$\n",
    "\\frac{42 + 69 + \\cdots + 58}{10} = 55\n",
    "$$"
   ]
  },
  {
   "cell_type": "markdown",
   "metadata": {
    "id": "tm3AIDXNyk9v"
   },
   "source": [
    "- 파이썬"
   ]
  },
  {
   "cell_type": "code",
   "execution_count": 11,
   "metadata": {
    "ExecuteTime": {
     "end_time": "2018-08-14T06:43:30.176173Z",
     "start_time": "2018-08-14T06:43:30.173034Z"
    },
    "colab": {
     "base_uri": "https://localhost:8080/"
    },
    "executionInfo": {
     "elapsed": 47,
     "status": "ok",
     "timestamp": 1752114033781,
     "user": {
      "displayName": "ter wa",
      "userId": "01448980402448893441"
     },
     "user_tz": -540
    },
    "id": "_udt6dWOyk9v",
    "outputId": "afd1db98-1810-443f-c177-1945bf81b84c"
   },
   "outputs": [
    {
     "name": "stdout",
     "output_type": "stream",
     "text": [
      "평균값: 55.0\n"
     ]
    }
   ],
   "source": [
    "mean = sum(scores) / len(scores)\n",
    "print(\"평균값:\", mean)"
   ]
  },
  {
   "cell_type": "markdown",
   "metadata": {
    "id": "t_z-dTEGyk9w"
   },
   "source": [
    "- 넘파이 어레이의 `mean()` 메서드 활용"
   ]
  },
  {
   "cell_type": "code",
   "execution_count": 12,
   "metadata": {
    "ExecuteTime": {
     "end_time": "2018-08-14T06:43:30.180268Z",
     "start_time": "2018-08-14T06:43:30.177216Z"
    },
    "colab": {
     "base_uri": "https://localhost:8080/"
    },
    "executionInfo": {
     "elapsed": 28,
     "status": "ok",
     "timestamp": 1752114033781,
     "user": {
      "displayName": "ter wa",
      "userId": "01448980402448893441"
     },
     "user_tz": -540
    },
    "id": "JV1TTYzZyk9w",
    "outputId": "eecbca28-e925-4319-d39d-9696ce9ab454"
   },
   "outputs": [
    {
     "data": {
      "text/plain": [
       "55.000000"
      ]
     },
     "execution_count": 12,
     "metadata": {},
     "output_type": "execute_result"
    }
   ],
   "source": [
    "np.mean(scores)"
   ]
  },
  {
   "cell_type": "markdown",
   "metadata": {
    "id": "pnCqBl3Pyk9w"
   },
   "source": [
    "- 데이터프레임의 `mean()` 메서드 활용"
   ]
  },
  {
   "cell_type": "code",
   "execution_count": 13,
   "metadata": {
    "ExecuteTime": {
     "end_time": "2018-08-14T06:43:30.185269Z",
     "start_time": "2018-08-14T06:43:30.181389Z"
    },
    "colab": {
     "base_uri": "https://localhost:8080/",
     "height": 115
    },
    "executionInfo": {
     "elapsed": 21,
     "status": "ok",
     "timestamp": 1752114033800,
     "user": {
      "displayName": "ter wa",
      "userId": "01448980402448893441"
     },
     "user_tz": -540
    },
    "id": "PEGAO1yIyk9w",
    "outputId": "851176c7-b141-451a-cedb-a01daabcb059"
   },
   "outputs": [
    {
     "data": {
      "text/plain": [
       "score    55.0\n",
       "dtype: float64"
      ]
     },
     "execution_count": 13,
     "metadata": {},
     "output_type": "execute_result"
    }
   ],
   "source": [
    "scores_df.mean()"
   ]
  },
  {
   "cell_type": "markdown",
   "metadata": {
    "id": "i3T__faUyk9w"
   },
   "source": [
    "**중앙값**"
   ]
  },
  {
   "cell_type": "markdown",
   "metadata": {
    "id": "DwhHdyvPyk9z"
   },
   "source": [
    "중앙값은 데이터를 크기 순서대로 나열할 때 정확히 중앙에 위치한 값이다.\n",
    "따라서 중앙값을 구하려면 먼저 값들을 크기순으로 정렬해야 한다. 이때 넘파이 어레이의 `sort()` 메서드를 사용하면 편리하다."
   ]
  },
  {
   "cell_type": "code",
   "execution_count": 14,
   "metadata": {
    "ExecuteTime": {
     "end_time": "2018-08-14T06:43:30.189618Z",
     "start_time": "2018-08-14T06:43:30.186212Z"
    },
    "colab": {
     "base_uri": "https://localhost:8080/"
    },
    "executionInfo": {
     "elapsed": 26,
     "status": "ok",
     "timestamp": 1752114033826,
     "user": {
      "displayName": "ter wa",
      "userId": "01448980402448893441"
     },
     "user_tz": -540
    },
    "id": "JcicTQJfyk9z",
    "outputId": "a5f5d6e6-6589-4c95-bc88-45f3e6e6053a"
   },
   "outputs": [
    {
     "data": {
      "text/plain": [
       "array([41, 42, 48, 49, 56, 57, 58, 65, 65, 69])"
      ]
     },
     "execution_count": 14,
     "metadata": {},
     "output_type": "execute_result"
    }
   ],
   "source": [
    "sorted_scores = np.sort(scores)\n",
    "sorted_scores"
   ]
  },
  {
   "cell_type": "markdown",
   "metadata": {
    "id": "V0sxBKdnyk9z"
   },
   "source": [
    "정렬한 후에 데이터 개수 n이 짝수인지 홀수인지에 따라 중앙값을 지정한다.\n",
    "\n",
    "- n이 홀수일 때: (n+1)/2 번째 데이터\n",
    "- n이 짝수일 때: n/2 번째 데이터와 (n/2) + 1 번째 데이터의 평균값"
   ]
  },
  {
   "cell_type": "markdown",
   "metadata": {
    "id": "McE8g6TNyk90"
   },
   "source": [
    "따라서 처음 10명의 영어 점수의 중앙값을 계산하는 방법은 다음과 같다."
   ]
  },
  {
   "cell_type": "markdown",
   "metadata": {
    "id": "C_IOFRKpvvqS"
   },
   "source": [
    "- 파이썬"
   ]
  },
  {
   "cell_type": "code",
   "execution_count": 15,
   "metadata": {
    "ExecuteTime": {
     "end_time": "2018-08-14T06:43:30.195944Z",
     "start_time": "2018-08-14T06:43:30.191005Z"
    },
    "colab": {
     "base_uri": "https://localhost:8080/"
    },
    "executionInfo": {
     "elapsed": 5,
     "status": "ok",
     "timestamp": 1752114033832,
     "user": {
      "displayName": "ter wa",
      "userId": "01448980402448893441"
     },
     "user_tz": -540
    },
    "id": "oPQGqk29yk90",
    "outputId": "e0a2e0b7-f17c-45b6-efc9-68c938fba784"
   },
   "outputs": [
    {
     "name": "stdout",
     "output_type": "stream",
     "text": [
      "중앙값: 56.5\n"
     ]
    }
   ],
   "source": [
    "n = len(sorted_scores)\n",
    "\n",
    "if n % 2 == 0:\n",
    "    m0 = sorted_scores[n//2 - 1]\n",
    "    m1 = sorted_scores[n//2]\n",
    "    median = (m0 + m1) / 2\n",
    "else:\n",
    "    median = sorted_scores[(n+1)//2 - 1]\n",
    "\n",
    "print(\"중앙값:\", median)"
   ]
  },
  {
   "cell_type": "markdown",
   "metadata": {
    "id": "8qe5x7Wlyk90"
   },
   "source": [
    "- 넘파이 어레이의 `median()` 메서드 활용"
   ]
  },
  {
   "cell_type": "code",
   "execution_count": 16,
   "metadata": {
    "ExecuteTime": {
     "end_time": "2018-08-14T06:43:30.201176Z",
     "start_time": "2018-08-14T06:43:30.197149Z"
    },
    "colab": {
     "base_uri": "https://localhost:8080/"
    },
    "executionInfo": {
     "elapsed": 4,
     "status": "ok",
     "timestamp": 1752114033837,
     "user": {
      "displayName": "ter wa",
      "userId": "01448980402448893441"
     },
     "user_tz": -540
    },
    "id": "7MLOS5kQyk90",
    "outputId": "cafc496c-18f5-4181-c4fb-4b7b11627a0d"
   },
   "outputs": [
    {
     "data": {
      "text/plain": [
       "56.500000"
      ]
     },
     "execution_count": 16,
     "metadata": {},
     "output_type": "execute_result"
    }
   ],
   "source": [
    "np.median(scores)"
   ]
  },
  {
   "cell_type": "markdown",
   "metadata": {
    "id": "c1gpFzcqyk90"
   },
   "source": [
    "- 데이터프레임의 `median()` 메서드 활용"
   ]
  },
  {
   "cell_type": "code",
   "execution_count": 17,
   "metadata": {
    "ExecuteTime": {
     "end_time": "2018-08-14T06:43:30.205400Z",
     "start_time": "2018-08-14T06:43:30.202130Z"
    },
    "colab": {
     "base_uri": "https://localhost:8080/",
     "height": 115
    },
    "executionInfo": {
     "elapsed": 6,
     "status": "ok",
     "timestamp": 1752114033857,
     "user": {
      "displayName": "ter wa",
      "userId": "01448980402448893441"
     },
     "user_tz": -540
    },
    "id": "KfpRG10zyk90",
    "outputId": "6545f12a-3b21-4a6a-b3ff-73640da80625"
   },
   "outputs": [
    {
     "data": {
      "text/plain": [
       "score    56.5\n",
       "dtype: float64"
      ]
     },
     "execution_count": 17,
     "metadata": {},
     "output_type": "execute_result"
    }
   ],
   "source": [
    "scores_df.median()"
   ]
  },
  {
   "cell_type": "markdown",
   "metadata": {
    "id": "FXE8-iPSyk90"
   },
   "source": [
    "**최빈값**"
   ]
  },
  {
   "cell_type": "markdown",
   "metadata": {
    "id": "StImbhuDyk90"
   },
   "source": [
    "최빈값은 데이터에서 가장 많이 나타나는 값이다.\n",
    "10명의 영어 점수에서 65가 두 번 나타나며 나머지 값은 한 번만 사용되었으므로, 65가 최빈값이다.\n",
    "데이터프레임의 `mode()` 메서드를 이용하여 최빈값을 쉽게 확인할 수 있다."
   ]
  },
  {
   "cell_type": "code",
   "execution_count": 18,
   "metadata": {
    "colab": {
     "base_uri": "https://localhost:8080/",
     "height": 81
    },
    "executionInfo": {
     "elapsed": 18,
     "status": "ok",
     "timestamp": 1752114033873,
     "user": {
      "displayName": "ter wa",
      "userId": "01448980402448893441"
     },
     "user_tz": -540
    },
    "id": "deAHkdtLyk90",
    "outputId": "3a747c51-9ec0-410d-eff0-fd7ab8ecdc18"
   },
   "outputs": [
    {
     "data": {
      "text/html": [
       "<div>\n",
       "<style scoped>\n",
       "    .dataframe tbody tr th:only-of-type {\n",
       "        vertical-align: middle;\n",
       "    }\n",
       "\n",
       "    .dataframe tbody tr th {\n",
       "        vertical-align: top;\n",
       "    }\n",
       "\n",
       "    .dataframe thead th {\n",
       "        text-align: right;\n",
       "    }\n",
       "</style>\n",
       "<table border=\"1\" class=\"dataframe\">\n",
       "  <thead>\n",
       "    <tr style=\"text-align: right;\">\n",
       "      <th></th>\n",
       "      <th>score</th>\n",
       "    </tr>\n",
       "  </thead>\n",
       "  <tbody>\n",
       "    <tr>\n",
       "      <th>0</th>\n",
       "      <td>65</td>\n",
       "    </tr>\n",
       "  </tbody>\n",
       "</table>\n",
       "</div>"
      ],
      "text/plain": [
       "   score\n",
       "0     65"
      ]
     },
     "execution_count": 18,
     "metadata": {},
     "output_type": "execute_result"
    }
   ],
   "source": [
    "scores_df.mode()"
   ]
  },
  {
   "cell_type": "markdown",
   "metadata": {
    "id": "yKw7etBdyk90"
   },
   "source": [
    "## 데이터 분포"
   ]
  },
  {
   "cell_type": "markdown",
   "metadata": {
    "id": "Qgj2kLvNyk90"
   },
   "source": [
    "**편차**"
   ]
  },
  {
   "cell_type": "markdown",
   "metadata": {
    "id": "gpWuiNsVyk90"
   },
   "source": [
    "각 데이터가 평균으로부터 떨어져 있는 정도를 **편차**<font size='2'>deviation</font>라 한다.\n",
    "즉, 편차는 데이터들이 평균값으로부터 떨어져 있는 정도를 나타내는 값이다.\n",
    "\n",
    "앞에서 10명 학생의 영어 점수의 평균값을 구했으므로, 각 학생의 성적 편차는 다음과 같이 계산된다."
   ]
  },
  {
   "cell_type": "code",
   "execution_count": 19,
   "metadata": {
    "ExecuteTime": {
     "end_time": "2018-08-14T06:43:30.220233Z",
     "start_time": "2018-08-14T06:43:30.216601Z"
    },
    "colab": {
     "base_uri": "https://localhost:8080/"
    },
    "executionInfo": {
     "elapsed": 7,
     "status": "ok",
     "timestamp": 1752114033881,
     "user": {
      "displayName": "ter wa",
      "userId": "01448980402448893441"
     },
     "user_tz": -540
    },
    "id": "e0ZIZNglyk90",
    "outputId": "ebf9e38d-2171-4516-c828-ff28c468f022"
   },
   "outputs": [
    {
     "name": "stdout",
     "output_type": "stream",
     "text": [
      "scores의 평균값: 55.0\n"
     ]
    },
    {
     "data": {
      "text/plain": [
       "array([-13.,  14.,   1., -14.,   2.,  -7.,  10.,  -6.,  10.,   3.])"
      ]
     },
     "execution_count": 19,
     "metadata": {},
     "output_type": "execute_result"
    }
   ],
   "source": [
    "mean = np.mean(scores)\n",
    "print('scores의 평균값:', mean)\n",
    "\n",
    "deviation = scores - mean\n",
    "deviation"
   ]
  },
  {
   "cell_type": "markdown",
   "metadata": {
    "id": "h3tkjVzKyk91"
   },
   "source": [
    "평균값이 같은 데이터라 하더라도 편차는 많이 다를 수 있다.\n",
    "예를 들어 다음 10명의 편차는 이전 10명의 편차보다 상대적으로 많이 작다."
   ]
  },
  {
   "cell_type": "code",
   "execution_count": 20,
   "metadata": {
    "ExecuteTime": {
     "end_time": "2018-08-14T06:43:30.225383Z",
     "start_time": "2018-08-14T06:43:30.221236Z"
    },
    "colab": {
     "base_uri": "https://localhost:8080/"
    },
    "executionInfo": {
     "elapsed": 38,
     "status": "ok",
     "timestamp": 1752114033920,
     "user": {
      "displayName": "ter wa",
      "userId": "01448980402448893441"
     },
     "user_tz": -540
    },
    "id": "OC9K4zQnyk91",
    "outputId": "d5c33bcb-1b5a-4d64-fbc3-aef285ef1519"
   },
   "outputs": [
    {
     "name": "stdout",
     "output_type": "stream",
     "text": [
      "another_scores의 평균값: 55.0\n"
     ]
    },
    {
     "data": {
      "text/plain": [
       "array([-5.,  5.,  3., -1., -4.,  1.,  2., -2., -3.,  4.])"
      ]
     },
     "execution_count": 20,
     "metadata": {},
     "output_type": "execute_result"
    }
   ],
   "source": [
    "another_scores = [50, 60, 58, 54, 51, 56, 57, 53, 52, 59]\n",
    "\n",
    "another_mean = np.mean(another_scores)\n",
    "print('another_scores의 평균값:', another_mean)\n",
    "\n",
    "another_deviation = another_scores - another_mean\n",
    "another_deviation"
   ]
  },
  {
   "cell_type": "markdown",
   "metadata": {
    "id": "oird2klgyk91"
   },
   "source": [
    "두 데이터셋의 편차를 각각 그림으로 나타내면 `another_scores`에 포함된 데이터들의 편차가 훨씬 작음을\n",
    "알 수 있다."
   ]
  },
  {
   "cell_type": "markdown",
   "metadata": {
    "id": "lkxfjTI9yk91"
   },
   "source": [
    "- `scores` 데이터들의 편차"
   ]
  },
  {
   "cell_type": "markdown",
   "metadata": {
    "id": "NqAzXrv6yk91"
   },
   "source": [
    "<p><div align=\"center\"><img src=\"https://raw.githubusercontent.com/codingalzi/DataSci/master/jupyter-book/images/ch02/img-2-1.jpg\" style=\"width:600px\"></div></p>"
   ]
  },
  {
   "cell_type": "markdown",
   "metadata": {
    "id": "i01uy5cvyk91"
   },
   "source": [
    "- `another_scores` 데이터들의 편차"
   ]
  },
  {
   "cell_type": "markdown",
   "metadata": {
    "id": "o9fTmXxNyk91"
   },
   "source": [
    "<p><div align=\"center\"><img src=\"https://raw.githubusercontent.com/codingalzi/DataSci/master/jupyter-book/images/ch02/img-2-2.jpg\" style=\"width:600px\"></div></p>"
   ]
  },
  {
   "cell_type": "markdown",
   "metadata": {
    "id": "wBCvjE5nyk92"
   },
   "source": [
    "데이터프레임을 이용하여 동일한 결과를 확인할 수 있다.\n",
    "\n",
    "아래 코드는 `scores_df` 데이터프레임을 복제해서 새로\n",
    "생성한 데이터프레임에 편차 데이터를 추가하는 방법을 보여준다."
   ]
  },
  {
   "cell_type": "code",
   "execution_count": 21,
   "metadata": {
    "ExecuteTime": {
     "end_time": "2018-08-14T06:43:30.240507Z",
     "start_time": "2018-08-14T06:43:30.234389Z"
    },
    "colab": {
     "base_uri": "https://localhost:8080/",
     "height": 394
    },
    "executionInfo": {
     "elapsed": 3,
     "status": "ok",
     "timestamp": 1752114033924,
     "user": {
      "displayName": "ter wa",
      "userId": "01448980402448893441"
     },
     "user_tz": -540
    },
    "id": "WsSFXs4vyk92",
    "outputId": "b5bcb8c0-9f94-464f-d15c-7af787b73d21"
   },
   "outputs": [
    {
     "data": {
      "text/html": [
       "<div>\n",
       "<style scoped>\n",
       "    .dataframe tbody tr th:only-of-type {\n",
       "        vertical-align: middle;\n",
       "    }\n",
       "\n",
       "    .dataframe tbody tr th {\n",
       "        vertical-align: top;\n",
       "    }\n",
       "\n",
       "    .dataframe thead th {\n",
       "        text-align: right;\n",
       "    }\n",
       "</style>\n",
       "<table border=\"1\" class=\"dataframe\">\n",
       "  <thead>\n",
       "    <tr style=\"text-align: right;\">\n",
       "      <th></th>\n",
       "      <th>score</th>\n",
       "      <th>deviation</th>\n",
       "    </tr>\n",
       "    <tr>\n",
       "      <th>student</th>\n",
       "      <th></th>\n",
       "      <th></th>\n",
       "    </tr>\n",
       "  </thead>\n",
       "  <tbody>\n",
       "    <tr>\n",
       "      <th>A</th>\n",
       "      <td>42</td>\n",
       "      <td>-13.0</td>\n",
       "    </tr>\n",
       "    <tr>\n",
       "      <th>B</th>\n",
       "      <td>69</td>\n",
       "      <td>14.0</td>\n",
       "    </tr>\n",
       "    <tr>\n",
       "      <th>C</th>\n",
       "      <td>56</td>\n",
       "      <td>1.0</td>\n",
       "    </tr>\n",
       "    <tr>\n",
       "      <th>D</th>\n",
       "      <td>41</td>\n",
       "      <td>-14.0</td>\n",
       "    </tr>\n",
       "    <tr>\n",
       "      <th>E</th>\n",
       "      <td>57</td>\n",
       "      <td>2.0</td>\n",
       "    </tr>\n",
       "    <tr>\n",
       "      <th>F</th>\n",
       "      <td>48</td>\n",
       "      <td>-7.0</td>\n",
       "    </tr>\n",
       "    <tr>\n",
       "      <th>G</th>\n",
       "      <td>65</td>\n",
       "      <td>10.0</td>\n",
       "    </tr>\n",
       "    <tr>\n",
       "      <th>H</th>\n",
       "      <td>49</td>\n",
       "      <td>-6.0</td>\n",
       "    </tr>\n",
       "    <tr>\n",
       "      <th>I</th>\n",
       "      <td>65</td>\n",
       "      <td>10.0</td>\n",
       "    </tr>\n",
       "    <tr>\n",
       "      <th>J</th>\n",
       "      <td>58</td>\n",
       "      <td>3.0</td>\n",
       "    </tr>\n",
       "  </tbody>\n",
       "</table>\n",
       "</div>"
      ],
      "text/plain": [
       "         score  deviation\n",
       "student                  \n",
       "A           42      -13.0\n",
       "B           69       14.0\n",
       "C           56        1.0\n",
       "D           41      -14.0\n",
       "E           57        2.0\n",
       "F           48       -7.0\n",
       "G           65       10.0\n",
       "H           49       -6.0\n",
       "I           65       10.0\n",
       "J           58        3.0"
      ]
     },
     "execution_count": 21,
     "metadata": {},
     "output_type": "execute_result"
    }
   ],
   "source": [
    "summary_df = scores_df.copy()\n",
    "summary_df['deviation'] = deviation\n",
    "\n",
    "summary_df"
   ]
  },
  {
   "cell_type": "markdown",
   "metadata": {
    "id": "NSlt_T71yk92"
   },
   "source": [
    "`mean()` 메서드를 사용하면 각 열의 평균값을 출력하므로, 영어 점수의 평균값과 편차들의 평균값을 확인할 수 있다. 편차의 평균값은 항상 0 임에 주의한다."
   ]
  },
  {
   "cell_type": "code",
   "execution_count": 22,
   "metadata": {
    "ExecuteTime": {
     "end_time": "2018-08-14T06:43:30.245333Z",
     "start_time": "2018-08-14T06:43:30.241861Z"
    },
    "colab": {
     "base_uri": "https://localhost:8080/",
     "height": 147
    },
    "executionInfo": {
     "elapsed": 17,
     "status": "ok",
     "timestamp": 1752114033942,
     "user": {
      "displayName": "ter wa",
      "userId": "01448980402448893441"
     },
     "user_tz": -540
    },
    "id": "4DxDTcx6yk92",
    "outputId": "fd960b19-4309-4ef7-f64f-260ccadbaf83"
   },
   "outputs": [
    {
     "data": {
      "text/plain": [
       "score        55.0\n",
       "deviation     0.0\n",
       "dtype: float64"
      ]
     },
     "execution_count": 22,
     "metadata": {},
     "output_type": "execute_result"
    }
   ],
   "source": [
    "summary_df.mean()"
   ]
  },
  {
   "cell_type": "markdown",
   "metadata": {
    "id": "gYMXHyQXyk92"
   },
   "source": [
    "**분산**"
   ]
  },
  {
   "cell_type": "markdown",
   "metadata": {
    "id": "eB1FPAB0yk92"
   },
   "source": [
    "데이터들의 편차는 항상 음수와 양수가 섞여 평균값이 0이 된다. 데이터들이 평균값을 기준으로 얼마나 떨어져 있는지를 나타내는 측정값으로는 적절치 않다. 이러한 용도로 쓰이는 값이 바로 지금부터 소개할 분산<font size='2'>variance</font>과 표준편차<font size='2'>standard deviation</font>이다."
   ]
  },
  {
   "cell_type": "markdown",
   "metadata": {
    "id": "igfcDNLryk92"
   },
   "source": [
    "**분산**<font size='2'>variance</font>는 편차의 제곱의 평균값이며, 계산식은 다음과 같다.\n",
    "\n",
    "$$\n",
    "S^2 = \\frac 1 n \\sum_{i=1}^{n} (x_i - \\bar x)^2 = \\frac 1 n \\left\\{(x_1 - \\bar x)^2 + (x_2 - \\bar x)^2 + \\cdots + (x_n - \\bar x)^2 \\right \\}\n",
    "$$"
   ]
  },
  {
   "cell_type": "markdown",
   "metadata": {
    "id": "5Rgu6pk1yk93"
   },
   "source": [
    "예를 들어 `scores`에 포함된 학생 10명의 영어 점수의 분산은 다음과 같고, 편차의 제곱에 `mean()` 메서드를 적용해 구할 수 있다.\n",
    "\n",
    "$$\n",
    "S^2 = \\frac{1}{10} \\left\\{ (42-55)^2 + (69-55)^2 + \\cdots + (58-55)^2 \\right\\} = 86\n",
    "$$"
   ]
  },
  {
   "cell_type": "code",
   "execution_count": 23,
   "metadata": {
    "ExecuteTime": {
     "end_time": "2018-08-14T06:43:30.249659Z",
     "start_time": "2018-08-14T06:43:30.246233Z"
    },
    "colab": {
     "base_uri": "https://localhost:8080/"
    },
    "executionInfo": {
     "elapsed": 4,
     "status": "ok",
     "timestamp": 1752114033947,
     "user": {
      "displayName": "ter wa",
      "userId": "01448980402448893441"
     },
     "user_tz": -540
    },
    "id": "mDSfBq1Qyk93",
    "outputId": "2992431e-823c-42fb-b8a3-d58906869b17"
   },
   "outputs": [
    {
     "data": {
      "text/plain": [
       "86.000000"
      ]
     },
     "execution_count": 23,
     "metadata": {},
     "output_type": "execute_result"
    }
   ],
   "source": [
    "np.mean(deviation ** 2)"
   ]
  },
  {
   "cell_type": "markdown",
   "metadata": {
    "id": "sk318kcZyk93"
   },
   "source": [
    "넘파이의 `var()`와 데이터프레임의 `var()` 메서드를 활용해 구해도 된다. 하지만 데이터프레임을 이용할 때는 `ddof=0` 키워드 인자를 사용해 (편향된) 표본분산<font size='2'>sample variance</font>을 계산토록 해야한다.\n"
   ]
  },
  {
   "cell_type": "code",
   "execution_count": 24,
   "metadata": {
    "ExecuteTime": {
     "end_time": "2018-08-14T06:43:30.253985Z",
     "start_time": "2018-08-14T06:43:30.250545Z"
    },
    "colab": {
     "base_uri": "https://localhost:8080/"
    },
    "executionInfo": {
     "elapsed": 4,
     "status": "ok",
     "timestamp": 1752114033952,
     "user": {
      "displayName": "ter wa",
      "userId": "01448980402448893441"
     },
     "user_tz": -540
    },
    "id": "1D43uJPKyk93",
    "outputId": "f1f921ce-3bf9-4d25-8c2e-6e2f938df513"
   },
   "outputs": [
    {
     "data": {
      "text/plain": [
       "86.000000"
      ]
     },
     "execution_count": 24,
     "metadata": {},
     "output_type": "execute_result"
    }
   ],
   "source": [
    "np.var(scores)"
   ]
  },
  {
   "cell_type": "code",
   "execution_count": 25,
   "metadata": {
    "ExecuteTime": {
     "end_time": "2018-08-14T06:43:30.258576Z",
     "start_time": "2018-08-14T06:43:30.254851Z"
    },
    "colab": {
     "base_uri": "https://localhost:8080/",
     "height": 115
    },
    "executionInfo": {
     "elapsed": 4,
     "status": "ok",
     "timestamp": 1752114033957,
     "user": {
      "displayName": "ter wa",
      "userId": "01448980402448893441"
     },
     "user_tz": -540
    },
    "id": "6cTzSBuLyk93",
    "outputId": "6e1484eb-e4de-4f17-e095-163b52655816"
   },
   "outputs": [
    {
     "data": {
      "text/plain": [
       "score    86.0\n",
       "dtype: float64"
      ]
     },
     "execution_count": 25,
     "metadata": {},
     "output_type": "execute_result"
    }
   ],
   "source": [
    "scores_df.var(ddof=0)"
   ]
  },
  {
   "cell_type": "markdown",
   "metadata": {
    "id": "thIgsuvKyk93"
   },
   "source": [
    "`ddof` 키워드 인자를 생략하면 `ddof=1`로 지정된 기본 옵션이 실행되며\n",
    "불편분산<font size='2'>unbiased variance</font>, 즉 편향되지 않은 표본분산을 계산한다. 편향분산<font size='2'>biased variance</font>과 불편분산의 구분은 잠시 후에 설명한다."
   ]
  },
  {
   "cell_type": "code",
   "execution_count": 26,
   "metadata": {
    "ExecuteTime": {
     "end_time": "2018-08-14T06:43:30.258576Z",
     "start_time": "2018-08-14T06:43:30.254851Z"
    },
    "colab": {
     "base_uri": "https://localhost:8080/",
     "height": 115
    },
    "executionInfo": {
     "elapsed": 3,
     "status": "ok",
     "timestamp": 1752114033959,
     "user": {
      "displayName": "ter wa",
      "userId": "01448980402448893441"
     },
     "user_tz": -540
    },
    "id": "6Vy5WK05yk93",
    "outputId": "4f9112e4-01a8-485a-a159-e96c75b90751"
   },
   "outputs": [
    {
     "data": {
      "text/plain": [
       "score    95.555556\n",
       "dtype: float64"
      ]
     },
     "execution_count": 26,
     "metadata": {},
     "output_type": "execute_result"
    }
   ],
   "source": [
    "scores_df.var()"
   ]
  },
  {
   "cell_type": "code",
   "execution_count": 27,
   "metadata": {
    "ExecuteTime": {
     "end_time": "2018-08-14T06:43:30.258576Z",
     "start_time": "2018-08-14T06:43:30.254851Z"
    },
    "colab": {
     "base_uri": "https://localhost:8080/",
     "height": 115
    },
    "executionInfo": {
     "elapsed": 18,
     "status": "ok",
     "timestamp": 1752114033993,
     "user": {
      "displayName": "ter wa",
      "userId": "01448980402448893441"
     },
     "user_tz": -540
    },
    "id": "XrMAo5FYyk93",
    "outputId": "5cd649bd-cbc0-4fd3-9e2c-4039de272033"
   },
   "outputs": [
    {
     "data": {
      "text/plain": [
       "score    86.0\n",
       "dtype: float64"
      ]
     },
     "execution_count": 27,
     "metadata": {},
     "output_type": "execute_result"
    }
   ],
   "source": [
    "scores_df.var(ddof=0)"
   ]
  },
  {
   "cell_type": "markdown",
   "metadata": {
    "id": "AqmYe9aCyk94"
   },
   "source": [
    "한편, `np.var()` 함수 또한 `ddof` 키워드 인자를 사용할 수 있는데, 기본값은 데이터프레임의 경우와는 달리 0으로\n",
    "지정되어 있어서 기본적으로 편향분산을 계산한다."
   ]
  },
  {
   "cell_type": "code",
   "execution_count": 28,
   "metadata": {
    "colab": {
     "base_uri": "https://localhost:8080/"
    },
    "executionInfo": {
     "elapsed": 14,
     "status": "ok",
     "timestamp": 1752114034009,
     "user": {
      "displayName": "ter wa",
      "userId": "01448980402448893441"
     },
     "user_tz": -540
    },
    "id": "DWC4HhACyk94",
    "outputId": "fb95aa4a-f6ab-4f8f-8fb5-a385004e8e75"
   },
   "outputs": [
    {
     "data": {
      "text/plain": [
       "86.000000"
      ]
     },
     "execution_count": 28,
     "metadata": {},
     "output_type": "execute_result"
    }
   ],
   "source": [
    "np.var(scores, ddof=0)"
   ]
  },
  {
   "cell_type": "markdown",
   "metadata": {
    "id": "sL-pN_gZyk94"
   },
   "source": [
    "`ddof=1`로 지정하면 불편분산을 계산한다."
   ]
  },
  {
   "cell_type": "code",
   "execution_count": 29,
   "metadata": {
    "colab": {
     "base_uri": "https://localhost:8080/"
    },
    "executionInfo": {
     "elapsed": 44,
     "status": "ok",
     "timestamp": 1752114034054,
     "user": {
      "displayName": "ter wa",
      "userId": "01448980402448893441"
     },
     "user_tz": -540
    },
    "id": "2ugfwcNwyk94",
    "outputId": "118e9b34-d7a9-4fea-b388-899c74870564"
   },
   "outputs": [
    {
     "data": {
      "text/plain": [
       "95.555556"
      ]
     },
     "execution_count": 29,
     "metadata": {},
     "output_type": "execute_result"
    }
   ],
   "source": [
    "np.var(scores, ddof=1)"
   ]
  },
  {
   "cell_type": "markdown",
   "metadata": {
    "id": "WQRjHsDWyk94"
   },
   "source": [
    ":::{admonition} 편향분산 vs. 불편분산\n",
    ":class: note\n",
    "\n",
    "불편분산을 이해하려면 먼저 모집단과 표본 개념을 이해해야 한다.\n",
    "\n",
    "- 모집단: 분석 대상인 모든 데이터. (ex) 전 세계인들의 몸무게\n",
    "- 표본: 분석 대상인 모집단으로부터 추출한 일부 데이터. (ex) 모든 국가에서 국가별 100명을 무작위로 선택해 얻은 몸무게 데이터\n",
    "- 모분산: 모집단의 분산\n",
    "- 표본분산: 표본의 분산\n",
    "\n",
    "모집단 데이터는 일반적으로 구하기가 매우 어렵거나 불가능할 수 있다.\n",
    "따라서 모평균과 모분산은 표본들의 평균값과 분산으로 적절한\n",
    "신뢰도와 함께 추정한다.\n",
    "\n",
    "n개 표본 샘플 편차의 제곱의 평균값을 편향분산<font size='2'>biased variance</font>이라고 하고, 이때 분모를 n이 아닌 n-1로 바꾼 값을 불편분산<font size='2'>unbiased variance</font>이라고 한다. 불편분산의 기댓값을 구하면 모분산의 추정값이 된다는 것이 수학적으로 증명되며, 자세한 설명은 [불편추정량에 대한 고백](https://recipesds.tistory.com/entry/왜-표본분산은-n-1로-나누죠-자유도-불편추정량에-대한-고백)에서 찾아볼 수 있다.\n",
    ":::"
   ]
  },
  {
   "cell_type": "markdown",
   "metadata": {
    "id": "bsS2irVKyk94"
   },
   "source": [
    "아래 코드는 편차의 제곱을 새로운 변수 `summary_df`가 가리키는 데이터프레임의 새로운 특성(변인)으로 추가한다."
   ]
  },
  {
   "cell_type": "code",
   "execution_count": 30,
   "metadata": {
    "ExecuteTime": {
     "end_time": "2018-08-14T06:43:30.266983Z",
     "start_time": "2018-08-14T06:43:30.259624Z"
    },
    "colab": {
     "base_uri": "https://localhost:8080/",
     "height": 394
    },
    "executionInfo": {
     "elapsed": 40,
     "status": "ok",
     "timestamp": 1752114034092,
     "user": {
      "displayName": "ter wa",
      "userId": "01448980402448893441"
     },
     "user_tz": -540
    },
    "id": "FKZzyU0oyk94",
    "outputId": "8ae6b045-5b03-49e5-b524-678b89396cba"
   },
   "outputs": [
    {
     "data": {
      "text/html": [
       "<div>\n",
       "<style scoped>\n",
       "    .dataframe tbody tr th:only-of-type {\n",
       "        vertical-align: middle;\n",
       "    }\n",
       "\n",
       "    .dataframe tbody tr th {\n",
       "        vertical-align: top;\n",
       "    }\n",
       "\n",
       "    .dataframe thead th {\n",
       "        text-align: right;\n",
       "    }\n",
       "</style>\n",
       "<table border=\"1\" class=\"dataframe\">\n",
       "  <thead>\n",
       "    <tr style=\"text-align: right;\">\n",
       "      <th></th>\n",
       "      <th>score</th>\n",
       "      <th>deviation</th>\n",
       "      <th>square of deviation</th>\n",
       "    </tr>\n",
       "    <tr>\n",
       "      <th>student</th>\n",
       "      <th></th>\n",
       "      <th></th>\n",
       "      <th></th>\n",
       "    </tr>\n",
       "  </thead>\n",
       "  <tbody>\n",
       "    <tr>\n",
       "      <th>A</th>\n",
       "      <td>42</td>\n",
       "      <td>-13.0</td>\n",
       "      <td>169.0</td>\n",
       "    </tr>\n",
       "    <tr>\n",
       "      <th>B</th>\n",
       "      <td>69</td>\n",
       "      <td>14.0</td>\n",
       "      <td>196.0</td>\n",
       "    </tr>\n",
       "    <tr>\n",
       "      <th>C</th>\n",
       "      <td>56</td>\n",
       "      <td>1.0</td>\n",
       "      <td>1.0</td>\n",
       "    </tr>\n",
       "    <tr>\n",
       "      <th>D</th>\n",
       "      <td>41</td>\n",
       "      <td>-14.0</td>\n",
       "      <td>196.0</td>\n",
       "    </tr>\n",
       "    <tr>\n",
       "      <th>E</th>\n",
       "      <td>57</td>\n",
       "      <td>2.0</td>\n",
       "      <td>4.0</td>\n",
       "    </tr>\n",
       "    <tr>\n",
       "      <th>F</th>\n",
       "      <td>48</td>\n",
       "      <td>-7.0</td>\n",
       "      <td>49.0</td>\n",
       "    </tr>\n",
       "    <tr>\n",
       "      <th>G</th>\n",
       "      <td>65</td>\n",
       "      <td>10.0</td>\n",
       "      <td>100.0</td>\n",
       "    </tr>\n",
       "    <tr>\n",
       "      <th>H</th>\n",
       "      <td>49</td>\n",
       "      <td>-6.0</td>\n",
       "      <td>36.0</td>\n",
       "    </tr>\n",
       "    <tr>\n",
       "      <th>I</th>\n",
       "      <td>65</td>\n",
       "      <td>10.0</td>\n",
       "      <td>100.0</td>\n",
       "    </tr>\n",
       "    <tr>\n",
       "      <th>J</th>\n",
       "      <td>58</td>\n",
       "      <td>3.0</td>\n",
       "      <td>9.0</td>\n",
       "    </tr>\n",
       "  </tbody>\n",
       "</table>\n",
       "</div>"
      ],
      "text/plain": [
       "         score  deviation  square of deviation\n",
       "student                                       \n",
       "A           42      -13.0                169.0\n",
       "B           69       14.0                196.0\n",
       "C           56        1.0                  1.0\n",
       "D           41      -14.0                196.0\n",
       "E           57        2.0                  4.0\n",
       "F           48       -7.0                 49.0\n",
       "G           65       10.0                100.0\n",
       "H           49       -6.0                 36.0\n",
       "I           65       10.0                100.0\n",
       "J           58        3.0                  9.0"
      ]
     },
     "execution_count": 30,
     "metadata": {},
     "output_type": "execute_result"
    }
   ],
   "source": [
    "summary_df['square of deviation'] = np.square(deviation)\n",
    "summary_df"
   ]
  },
  {
   "cell_type": "markdown",
   "metadata": {
    "id": "GjxYXxhvyk94"
   },
   "source": [
    "각 특성의 평균값을 계산하면 앞서 `scores`에 포함된 데이터들의 평균값, 편차 평균값, (편향)분산이 확인된다."
   ]
  },
  {
   "cell_type": "code",
   "execution_count": 31,
   "metadata": {
    "ExecuteTime": {
     "end_time": "2018-08-14T06:43:30.271609Z",
     "start_time": "2018-08-14T06:43:30.267927Z"
    },
    "colab": {
     "base_uri": "https://localhost:8080/",
     "height": 178
    },
    "executionInfo": {
     "elapsed": 49,
     "status": "ok",
     "timestamp": 1752114034140,
     "user": {
      "displayName": "ter wa",
      "userId": "01448980402448893441"
     },
     "user_tz": -540
    },
    "id": "BoWFRgBMyk95",
    "outputId": "34324838-1d2d-4e65-b667-9ba16771c5c0"
   },
   "outputs": [
    {
     "data": {
      "text/plain": [
       "score                  55.0\n",
       "deviation               0.0\n",
       "square of deviation    86.0\n",
       "dtype: float64"
      ]
     },
     "execution_count": 31,
     "metadata": {},
     "output_type": "execute_result"
    }
   ],
   "source": [
    "summary_df.mean()"
   ]
  },
  {
   "cell_type": "markdown",
   "metadata": {
    "id": "EDvJvrSzyk95"
   },
   "source": [
    "**분산과 정사각형의 면적**"
   ]
  },
  {
   "cell_type": "markdown",
   "metadata": {
    "id": "SBoGgpWpyk95"
   },
   "source": [
    "편차 제곱을 한 변의 길이가 편차인 정사각형의 면적으로 간주할 수 있다.\n",
    "그러면 분산은 정사각형 면적의 평균값이 된다.\n",
    "아래 그림은 A, B, C, D의 편차의 제곱과 분산을 정사각형의 면적으로 표현한 것이다.\n",
    "\n",
    "- 4개의 회색 정사각형의 면적: A, B, C, D의 편차의 제곱\n",
    "- 옅은 하늘색 정사각형의 면적: 4개 데이터의 분산"
   ]
  },
  {
   "cell_type": "markdown",
   "metadata": {
    "id": "1GaIY-2Ayk95"
   },
   "source": [
    "<p><div align=\"center\"><img src=\"https://github.com/codingalzi/DataSci/blob/master/jupyter-book/images/ch02/img-2-3.jpg?raw=true\" style=\"width:600px\"></div></p>"
   ]
  },
  {
   "cell_type": "markdown",
   "metadata": {
    "id": "asQHfvgdyk95"
   },
   "source": [
    "실제로 A, B, C, D의 평균값은 52이며 분산은 다음과 같이 계산된다."
   ]
  },
  {
   "cell_type": "code",
   "execution_count": 32,
   "metadata": {
    "colab": {
     "base_uri": "https://localhost:8080/"
    },
    "executionInfo": {
     "elapsed": 7,
     "status": "ok",
     "timestamp": 1752114034140,
     "user": {
      "displayName": "ter wa",
      "userId": "01448980402448893441"
     },
     "user_tz": -540
    },
    "id": "52IUhBMlyk95",
    "outputId": "7b86c202-6997-4f41-a62d-e2ae0464bc12"
   },
   "outputs": [
    {
     "data": {
      "text/plain": [
       "array([42, 69, 56, 41])"
      ]
     },
     "execution_count": 32,
     "metadata": {},
     "output_type": "execute_result"
    }
   ],
   "source": [
    "ABCD = scores[:4]\n",
    "ABCD"
   ]
  },
  {
   "cell_type": "code",
   "execution_count": 33,
   "metadata": {
    "colab": {
     "base_uri": "https://localhost:8080/"
    },
    "executionInfo": {
     "elapsed": 6,
     "status": "ok",
     "timestamp": 1752114034144,
     "user": {
      "displayName": "ter wa",
      "userId": "01448980402448893441"
     },
     "user_tz": -540
    },
    "id": "b9e0LRYTyk95",
    "outputId": "eb09b769-bb11-452f-e1e9-6a424071bdf6"
   },
   "outputs": [
    {
     "name": "stdout",
     "output_type": "stream",
     "text": [
      "A, B, C, D의 평균값: 52.0\n"
     ]
    }
   ],
   "source": [
    "print(\"A, B, C, D의 평균값:\", ABCD.mean())"
   ]
  },
  {
   "cell_type": "code",
   "execution_count": 34,
   "metadata": {
    "colab": {
     "base_uri": "https://localhost:8080/"
    },
    "executionInfo": {
     "elapsed": 47,
     "status": "ok",
     "timestamp": 1752114034191,
     "user": {
      "displayName": "ter wa",
      "userId": "01448980402448893441"
     },
     "user_tz": -540
    },
    "id": "KaC6LEz6yk95",
    "outputId": "d829b8c2-c858-4d36-f952-895f92d4e40c"
   },
   "outputs": [
    {
     "name": "stdout",
     "output_type": "stream",
     "text": [
      "A, B, C, D의 분산: 131.5\n"
     ]
    }
   ],
   "source": [
    "print(\"A, B, C, D의 분산:\", ABCD.var())"
   ]
  },
  {
   "cell_type": "markdown",
   "metadata": {
    "id": "0kV_kq2dyk95"
   },
   "source": [
    "**표준편차**"
   ]
  },
  {
   "cell_type": "markdown",
   "metadata": {
    "id": "n-kXO1XMyk95"
   },
   "source": [
    "분산은 편차 제곱의 평균값이므로, 원래 데이터에 사용된 단위가 아닌 해당 단위의 제곱을 사용한다.\n",
    "앞서 보았던 정사각형의 한 변의 길이와 면적은 단위가 다른 것과 같다. 따라서 동일한 단위로 데이터의 분포도를 측정하는 용도로 분산의 제곱근인 **표준편차**<font size='2'>standard deviation</font>를 활용한다.\n",
    "\n",
    "$$\n",
    "S = \\sqrt{S^2} = \\sqrt{\\frac 1 n \\sum_{i=1}^{n} (x_i - \\bar x)^2}\n",
    "$$"
   ]
  },
  {
   "cell_type": "markdown",
   "metadata": {
    "id": "POmzXlRnyk95"
   },
   "source": [
    "10명 점수의 표준편차는 넘파이의 제곱근 함수인 `np.sqrt()`를 이용해 직접 계산하거나, 넘파이의 `np.std()` 함수를 바로 이용해도 된다."
   ]
  },
  {
   "cell_type": "code",
   "execution_count": 35,
   "metadata": {
    "ExecuteTime": {
     "end_time": "2018-08-14T06:43:30.276008Z",
     "start_time": "2018-08-14T06:43:30.272493Z"
    },
    "colab": {
     "base_uri": "https://localhost:8080/"
    },
    "executionInfo": {
     "elapsed": 9,
     "status": "ok",
     "timestamp": 1752114034194,
     "user": {
      "displayName": "ter wa",
      "userId": "01448980402448893441"
     },
     "user_tz": -540
    },
    "id": "p0BrZ6BFyk95",
    "outputId": "4256ca84-83d1-4acb-a04f-696892d7078e"
   },
   "outputs": [
    {
     "data": {
      "text/plain": [
       "9.273618"
      ]
     },
     "execution_count": 35,
     "metadata": {},
     "output_type": "execute_result"
    }
   ],
   "source": [
    "np.sqrt(np.var(scores))"
   ]
  },
  {
   "cell_type": "code",
   "execution_count": 36,
   "metadata": {
    "ExecuteTime": {
     "end_time": "2018-08-14T06:43:30.280036Z",
     "start_time": "2018-08-14T06:43:30.277056Z"
    },
    "colab": {
     "base_uri": "https://localhost:8080/"
    },
    "executionInfo": {
     "elapsed": 4,
     "status": "ok",
     "timestamp": 1752114034198,
     "user": {
      "displayName": "ter wa",
      "userId": "01448980402448893441"
     },
     "user_tz": -540
    },
    "id": "7VEKOFH3yk95",
    "outputId": "78f55106-bcac-4c80-acd9-c719c78e43a5"
   },
   "outputs": [
    {
     "data": {
      "text/plain": [
       "9.273618"
      ]
     },
     "execution_count": 36,
     "metadata": {},
     "output_type": "execute_result"
    }
   ],
   "source": [
    "np.std(scores)"
   ]
  },
  {
   "cell_type": "markdown",
   "metadata": {
    "id": "x7p1RrSIyk95"
   },
   "source": [
    "단, 데이터프레임의 `std()` 메서드를 사용할 때는 앞에서처럼 편향분산을 위한 `ddof=0` 옵션을 함께 지정해야 한다."
   ]
  },
  {
   "cell_type": "code",
   "execution_count": 37,
   "metadata": {
    "colab": {
     "base_uri": "https://localhost:8080/",
     "height": 115
    },
    "executionInfo": {
     "elapsed": 55,
     "status": "ok",
     "timestamp": 1752114034254,
     "user": {
      "displayName": "ter wa",
      "userId": "01448980402448893441"
     },
     "user_tz": -540
    },
    "id": "rNKX9h3YL8Ay",
    "outputId": "0a9bebf1-493d-4226-8e06-98e10bfe7d7c"
   },
   "outputs": [
    {
     "data": {
      "text/plain": [
       "score    9.273618\n",
       "dtype: float64"
      ]
     },
     "execution_count": 37,
     "metadata": {},
     "output_type": "execute_result"
    }
   ],
   "source": [
    "scores_df.std(ddof=0)"
   ]
  },
  {
   "cell_type": "markdown",
   "metadata": {
    "id": "gyqiBEjjyk96"
   },
   "source": [
    "**범위**"
   ]
  },
  {
   "cell_type": "markdown",
   "metadata": {
    "id": "xh7CaxZ6yk96"
   },
   "source": [
    "**범위**<font size='2'>range</font>는 데이터의 최댓값과 최솟값의 차이를 가리킨다.\n",
    "\n",
    "$$\n",
    "Rg = x_{\\max} - x_{\\min}\n",
    "$$"
   ]
  },
  {
   "cell_type": "markdown",
   "metadata": {
    "id": "RTrlYojIyk96"
   },
   "source": [
    "`scores`에 포함된 데이터의 범위는 다음과 같이 구하고, 그 값은 28 임을 알 수 있다."
   ]
  },
  {
   "cell_type": "code",
   "execution_count": 38,
   "metadata": {
    "ExecuteTime": {
     "end_time": "2018-08-14T06:43:30.284214Z",
     "start_time": "2018-08-14T06:43:30.280994Z"
    },
    "colab": {
     "base_uri": "https://localhost:8080/"
    },
    "executionInfo": {
     "elapsed": 12,
     "status": "ok",
     "timestamp": 1752114034265,
     "user": {
      "displayName": "ter wa",
      "userId": "01448980402448893441"
     },
     "user_tz": -540
    },
    "id": "0BH-87Zvyk96",
    "outputId": "9cc74f1d-0cc6-4806-f300-744482715fb9"
   },
   "outputs": [
    {
     "data": {
      "text/plain": [
       "28"
      ]
     },
     "execution_count": 38,
     "metadata": {},
     "output_type": "execute_result"
    }
   ],
   "source": [
    "np.max(scores) - np.min(scores)"
   ]
  },
  {
   "cell_type": "markdown",
   "metadata": {
    "id": "Apo58fOCyk96"
   },
   "source": [
    "범위는 최댓값과 최소값이 변하면 그에 따라 값이 크게 요동칠 수 있다.\n",
    "따라서 데이터 분포를 이해하는 데는 범위 대신 데이터의 변화에 덜 민감한 사분위수와 사분범위가 주로 이용된다."
   ]
  },
  {
   "cell_type": "markdown",
   "metadata": {
    "id": "cCwN5rEPyk96"
   },
   "source": [
    "**사분위수와 사분범위**"
   ]
  },
  {
   "cell_type": "markdown",
   "metadata": {
    "id": "p_5b_86Byk96"
   },
   "source": [
    "데이터의 하위 25%, 50%, 75%에 위치하는 값을\n",
    "각각 제1사분위수(Q1), 제2사분위수(Q2), 제3사분위수(Q3)라 한다.\n",
    "Q2는 앞서 살펴본 중앙값에 해당한다.\n",
    "\n",
    "**사분범위**<font size='2'>interquartile range</font>는 제3사분위수에서 제1사분위수를 뺀 값으로서, 평균값을 중심으로 50%의 데이터가 모여있는 구간의 길이를 나타낸다.\n",
    "아래 코드는 `scores`의 사분범위 `scores_IQR`을 계산하는데,\n",
    "`np.percentile()` 함수는 지정된 %에 해당하는 값을 반환하는 함수이다."
   ]
  },
  {
   "cell_type": "code",
   "execution_count": 39,
   "metadata": {
    "ExecuteTime": {
     "end_time": "2018-08-14T06:43:30.289060Z",
     "start_time": "2018-08-14T06:43:30.285142Z"
    },
    "colab": {
     "base_uri": "https://localhost:8080/"
    },
    "executionInfo": {
     "elapsed": 4,
     "status": "ok",
     "timestamp": 1752114034269,
     "user": {
      "displayName": "ter wa",
      "userId": "01448980402448893441"
     },
     "user_tz": -540
    },
    "id": "UGqt1ZFFyk96",
    "outputId": "b1c918b9-4987-4260-dc1f-f14f5631a2c7"
   },
   "outputs": [
    {
     "data": {
      "text/plain": [
       "15.000000"
      ]
     },
     "execution_count": 39,
     "metadata": {},
     "output_type": "execute_result"
    }
   ],
   "source": [
    "scores_Q1 = np.percentile(scores, 25)\n",
    "scores_Q3 = np.percentile(scores, 75)\n",
    "scores_IQR = scores_Q3 - scores_Q1\n",
    "scores_IQR"
   ]
  },
  {
   "cell_type": "markdown",
   "metadata": {
    "id": "aPAaW80Xyk96"
   },
   "source": [
    "**상자 그림**"
   ]
  },
  {
   "cell_type": "markdown",
   "metadata": {
    "id": "gHjTRP7Iyk96"
   },
   "source": [
    "상자 그림은 데이터의 범위, 사분위수, 사분범위를 동시에 보여준다.\n",
    "상자 그림은 다음 값들을 점, 선분, 직사각형 등으로 표시하는데,\n",
    "그림에 표시되는 값들을 위에서부터 나열하면 다음과 같다.\n",
    "\n",
    "- 너무 큰 이상치<font size='2'>outlier</font>에 해당하는 점들\n",
    "- (Q3 + 1.5 * IQR)에 해당하는 값의 수평 선분\n",
    "- Q3, Q2, Q1에 해당하는 값을 이용한 직사각형\n",
    "- (Q1 - 1.5 * IQR)에 해당하는 값의 수평 선분\n",
    "- 너무 작은 이상치<font size='2'>outlier</font>에 해당하는 점들"
   ]
  },
  {
   "cell_type": "markdown",
   "metadata": {
    "id": "a7Xm67GCyk96"
   },
   "source": [
    "<p><div align=\"center\"><img src=\"https://raw.githubusercontent.com/codingalzi/DataSci/master/jupyter-book/images/ch02/img-2-8.jpg\" style=\"width:250px\"></div></p>"
   ]
  },
  {
   "cell_type": "markdown",
   "metadata": {
    "id": "KOu2JWeGyk97"
   },
   "source": [
    "아래 코드는 `scores`에 포함된 값들의 분포도를 상자 그림으로 그리는 과정이다. 그래프를 그리기 위해서는 먼저 데이터 시각화 관련 라이브러리를 불러와야 한다. 보통 `matplotlib.pyplot`를 활용하므로, 여기서는 이 라이브러리를 `plt`라는 별칭으로 불러온다."
   ]
  },
  {
   "cell_type": "code",
   "execution_count": 40,
   "metadata": {
    "executionInfo": {
     "elapsed": 27,
     "status": "ok",
     "timestamp": 1752114034297,
     "user": {
      "displayName": "ter wa",
      "userId": "01448980402448893441"
     },
     "user_tz": -540
    },
    "id": "en9w2rtdyk97"
   },
   "outputs": [],
   "source": [
    "import matplotlib.pyplot as plt"
   ]
  },
  {
   "cell_type": "markdown",
   "metadata": {
    "id": "OT50Se7jyk97"
   },
   "source": [
    "이제 데이터프레임 `summary_df`의 `boxplot()` 메서드를 이용하여 `score` 특성에 포함된 값들을 대상으로 상자 그림을 그린다."
   ]
  },
  {
   "cell_type": "code",
   "execution_count": 41,
   "metadata": {
    "colab": {
     "base_uri": "https://localhost:8080/",
     "height": 431
    },
    "executionInfo": {
     "elapsed": 510,
     "status": "ok",
     "timestamp": 1752114034805,
     "user": {
      "displayName": "ter wa",
      "userId": "01448980402448893441"
     },
     "user_tz": -540
    },
    "id": "e17u7XT1yk97",
    "outputId": "86d7f442-9310-4252-a681-8616f0b7ccc6"
   },
   "outputs": [
    {
     "data": {
      "image/png": "[encoded data removed]",
      "text/plain": [
       "<Figure size 640x480 with 1 Axes>"
      ]
     },
     "metadata": {},
     "output_type": "display_data"
    }
   ],
   "source": [
    "summary_df.boxplot(column=['score'], grid=False)\n",
    "plt.show()"
   ]
  },
  {
   "cell_type": "markdown",
   "metadata": {
    "id": "zK5MWsZYyk97"
   },
   "source": [
    "**데이터프레임의 `describe()` 메서드**"
   ]
  },
  {
   "cell_type": "markdown",
   "metadata": {
    "id": "Y9ZzNmKVyk97"
   },
   "source": [
    "데이터프레임의 `describe()` 메서드는\n",
    "데이터의 개수, 평균값, 표준편차, 최댓값, 최소값, 사분위수에 대한 정보를 담고있는 데이터프레임을 생성한다."
   ]
  },
  {
   "cell_type": "code",
   "execution_count": 42,
   "metadata": {
    "ExecuteTime": {
     "end_time": "2018-08-14T06:43:30.296046Z",
     "start_time": "2018-08-14T06:43:30.290147Z"
    },
    "colab": {
     "base_uri": "https://localhost:8080/",
     "height": 300
    },
    "executionInfo": {
     "elapsed": 28,
     "status": "ok",
     "timestamp": 1752114034833,
     "user": {
      "displayName": "ter wa",
      "userId": "01448980402448893441"
     },
     "user_tz": -540
    },
    "id": "qAwh8VQiyk97",
    "outputId": "09d9bb3a-09e9-4005-bbb0-b9b1b629da37"
   },
   "outputs": [
    {
     "data": {
      "text/html": [
       "<div>\n",
       "<style scoped>\n",
       "    .dataframe tbody tr th:only-of-type {\n",
       "        vertical-align: middle;\n",
       "    }\n",
       "\n",
       "    .dataframe tbody tr th {\n",
       "        vertical-align: top;\n",
       "    }\n",
       "\n",
       "    .dataframe thead th {\n",
       "        text-align: right;\n",
       "    }\n",
       "</style>\n",
       "<table border=\"1\" class=\"dataframe\">\n",
       "  <thead>\n",
       "    <tr style=\"text-align: right;\">\n",
       "      <th></th>\n",
       "      <th>score</th>\n",
       "    </tr>\n",
       "  </thead>\n",
       "  <tbody>\n",
       "    <tr>\n",
       "      <th>count</th>\n",
       "      <td>10.000000</td>\n",
       "    </tr>\n",
       "    <tr>\n",
       "      <th>mean</th>\n",
       "      <td>55.000000</td>\n",
       "    </tr>\n",
       "    <tr>\n",
       "      <th>std</th>\n",
       "      <td>9.775252</td>\n",
       "    </tr>\n",
       "    <tr>\n",
       "      <th>min</th>\n",
       "      <td>41.000000</td>\n",
       "    </tr>\n",
       "    <tr>\n",
       "      <th>25%</th>\n",
       "      <td>48.250000</td>\n",
       "    </tr>\n",
       "    <tr>\n",
       "      <th>50%</th>\n",
       "      <td>56.500000</td>\n",
       "    </tr>\n",
       "    <tr>\n",
       "      <th>75%</th>\n",
       "      <td>63.250000</td>\n",
       "    </tr>\n",
       "    <tr>\n",
       "      <th>max</th>\n",
       "      <td>69.000000</td>\n",
       "    </tr>\n",
       "  </tbody>\n",
       "</table>\n",
       "</div>"
      ],
      "text/plain": [
       "           score\n",
       "count  10.000000\n",
       "mean   55.000000\n",
       "std     9.775252\n",
       "min    41.000000\n",
       "25%    48.250000\n",
       "50%    56.500000\n",
       "75%    63.250000\n",
       "max    69.000000"
      ]
     },
     "execution_count": 42,
     "metadata": {},
     "output_type": "execute_result"
    }
   ],
   "source": [
    "scores_df = summary_df[['score']]\n",
    "scores_df.describe()"
   ]
  },
  {
   "cell_type": "markdown",
   "metadata": {
    "id": "5kaY37dsyk97"
   },
   "source": [
    "(sec:scaling)=\n",
    "## 데이터 정규화"
   ]
  },
  {
   "cell_type": "markdown",
   "metadata": {
    "id": "wdVX2n-KD5-D"
   },
   "source": [
    "데이터 분석을 진행할 때 경우에 따라 데이터셋의 특성값들의 크기\n",
    "**scale**<font size=\"2\">scale</font>을 비슷하게 조정할 필요가 있다. 이렇게 특성의 스케일을 조정하는 과정을 **스케일링**<font size=\"2\">scaling</font>이라고 부른다.\n",
    "\n",
    "스케일링은 보통 아래 두 가지 방식을 사용한다.\n",
    "\n",
    "- min-max 스케일링\n",
    "- 표준화"
   ]
  },
  {
   "cell_type": "markdown",
   "metadata": {
    "id": "mvfRl6nCEZNz"
   },
   "source": [
    "**min-max 스케일링**"
   ]
  },
  {
   "cell_type": "markdown",
   "metadata": {
    "id": "WZ6sng-Ayk98"
   },
   "source": [
    "min-max 스케일링은 아래 식을 이용하여 특성값 $x$를 0에서 1 사이의 값으로 변환한다.\n",
    "$min$ 와 $max$ 은 해당 특성값들의 최솟값과 최댓값을 가리키고, 이들의 변환값은 각각 0과 1이 된다.\n",
    "\n",
    "$$\n",
    "\\frac{x-min}{max-min}\n",
    "$$\n",
    "\n",
    "min-max 스케일링은 이상치에 민감하다.예를 들어 이상치가 매우 크면 분모가 분자에 비해 훨씬 크게 되어 변환된 값이 0 근처에 몰리게 된다.\n",
    "\n",
    "아래 코드는 `scores`에 포함된 10개의 점수에 대해 min-max 스케일링을 적용한다."
   ]
  },
  {
   "cell_type": "code",
   "execution_count": 43,
   "metadata": {
    "ExecuteTime": {
     "end_time": "2018-08-14T06:43:30.299923Z",
     "start_time": "2018-08-14T06:43:30.297056Z"
    },
    "colab": {
     "base_uri": "https://localhost:8080/"
    },
    "executionInfo": {
     "elapsed": 4,
     "status": "ok",
     "timestamp": 1752114034844,
     "user": {
      "displayName": "ter wa",
      "userId": "01448980402448893441"
     },
     "user_tz": -540
    },
    "id": "1KKo2Fikyk98",
    "outputId": "8204f5b8-6846-4e4d-cd89-d8bbeeb4b106"
   },
   "outputs": [
    {
     "data": {
      "text/plain": [
       "array([0.035714, 1.      , 0.535714, 0.      , 0.571429, 0.25    ,\n",
       "       0.857143, 0.285714, 0.857143, 0.607143])"
      ]
     },
     "execution_count": 43,
     "metadata": {},
     "output_type": "execute_result"
    }
   ],
   "source": [
    "minmax = (scores - np.min(scores)) / (np.max(scores) - np.min(scores))\n",
    "minmax"
   ]
  },
  {
   "cell_type": "markdown",
   "metadata": {
    "id": "tANtDaKjyk98"
   },
   "source": [
    "최솟값 41은 0으로, 최댓값 69는 1로 변환되었음을 알 수 있다."
   ]
  },
  {
   "cell_type": "code",
   "execution_count": 44,
   "metadata": {
    "ExecuteTime": {
     "end_time": "2018-08-14T06:43:30.304016Z",
     "start_time": "2018-08-14T06:43:30.300786Z"
    },
    "colab": {
     "base_uri": "https://localhost:8080/"
    },
    "executionInfo": {
     "elapsed": 3,
     "status": "ok",
     "timestamp": 1752114034848,
     "user": {
      "displayName": "ter wa",
      "userId": "01448980402448893441"
     },
     "user_tz": -540
    },
    "id": "K03F4dCtyk98",
    "outputId": "4bf5f37b-6bf3-477a-9ee1-1699b0d3efe9"
   },
   "outputs": [
    {
     "data": {
      "text/plain": [
       "(0.000000, 1.000000)"
      ]
     },
     "execution_count": 44,
     "metadata": {},
     "output_type": "execute_result"
    }
   ],
   "source": [
    "np.min(minmax), np.max(minmax)"
   ]
  },
  {
   "cell_type": "markdown",
   "metadata": {
    "id": "pPknbi7wFB2M"
   },
   "source": [
    "**표준화**\n",
    "\n",
    "표준화<font size='2'>standardization</font>는 아래식을 이용하여 특성값 $x$를 변환한다.\n",
    "$\\bar x$ 와 $S$ 는 각각 해당 특성값들의 평균값과 표준편차를 가리킨다.\n",
    "\n",
    "$$\n",
    "\\frac{x-\\bar x}{S}\n",
    "$$\n",
    "\n",
    "표준화된 특성값은 평균값은 0, 표준편차는 1인 분포를 따르며, 편차를 표준편차로 나눈 값이므로 min-max 스케일링에 비해 이상치의 영향을 덜 받는다."
   ]
  },
  {
   "cell_type": "code",
   "execution_count": 45,
   "metadata": {
    "ExecuteTime": {
     "end_time": "2018-08-14T06:43:30.299923Z",
     "start_time": "2018-08-14T06:43:30.297056Z"
    },
    "colab": {
     "base_uri": "https://localhost:8080/"
    },
    "executionInfo": {
     "elapsed": 17,
     "status": "ok",
     "timestamp": 1752114034873,
     "user": {
      "displayName": "ter wa",
      "userId": "01448980402448893441"
     },
     "user_tz": -540
    },
    "id": "xbf_uizuyk98",
    "outputId": "8fa9653b-d164-4804-da1b-aa344c566950"
   },
   "outputs": [
    {
     "data": {
      "text/plain": [
       "array([-1.401826,  1.509659,  0.107833, -1.509659,  0.215666, -0.754829,\n",
       "        1.078328, -0.646997,  1.078328,  0.323498])"
      ]
     },
     "execution_count": 45,
     "metadata": {},
     "output_type": "execute_result"
    }
   ],
   "source": [
    "z = (scores - np.mean(scores)) / np.std(scores)\n",
    "z"
   ]
  },
  {
   "cell_type": "markdown",
   "metadata": {
    "id": "Thh7Jmnjyk98"
   },
   "source": [
    "평균값은 (거의) 0, 표준편차는 (거의) 1이 되었다. `-1.6653345369377347e-17`은 `-1.665334536937734 * (10의 -17승)을 의미하며, 매우 큰, 또는 0에 매우 가까운 숫자를 위한 과학적 표기법이다."
   ]
  },
  {
   "cell_type": "code",
   "execution_count": 46,
   "metadata": {
    "ExecuteTime": {
     "end_time": "2018-08-14T06:43:30.304016Z",
     "start_time": "2018-08-14T06:43:30.300786Z"
    },
    "colab": {
     "base_uri": "https://localhost:8080/"
    },
    "executionInfo": {
     "elapsed": 5,
     "status": "ok",
     "timestamp": 1752114034877,
     "user": {
      "displayName": "ter wa",
      "userId": "01448980402448893441"
     },
     "user_tz": -540
    },
    "id": "VR7loHSEyk99",
    "outputId": "1fa32f4f-ed6c-4940-c53f-6f668eae84ee"
   },
   "outputs": [
    {
     "data": {
      "text/plain": [
       "(-0.000000, 1.000000)"
      ]
     },
     "execution_count": 46,
     "metadata": {},
     "output_type": "execute_result"
    }
   ],
   "source": [
    "np.mean(z), np.std(z)"
   ]
  },
  {
   "cell_type": "markdown",
   "metadata": {
    "id": "5u0Nbr1dyk99"
   },
   "source": [
    ":::{admonition} 부동소수점 연산\n",
    ":class: note\n",
    "\n",
    "\n",
    "\n",
    "위 결과에서 평균값이 정확하게 0이 아니라 0에 매우 가까운 유리수로 나타나는 이유는 컴퓨터가 사용하는 수는 항상 부동소수점<font size='2'>floating point</font>으로 표현된 유리수(무리수는 그것의 유리수 근사값으로 표현)이고 모든 연산은 부동소수점 연산이기 때문이다. 컴퓨터에 숫자를 저장하고 연산하는데는 유한한 메모리를 사용할 수 밖에 없기 때문에 어떤 연산의 결과값은 이론적 계산값과 약간의 오차를 발생시킨다. 예를 들어, 8개의 비트에 저장할 수 있는 가장 큰 양의 정수에 2를 곱한 결과는 8개의 비트에 저장할 수 없음이 논리적으로 분명하다. 부동소수점 연산의 오차 크기는 컴퓨터 사용환경에 따라 달라진다.\n",
    ":::"
   ]
  },
  {
   "cell_type": "markdown",
   "metadata": {
    "id": "hI6MKGVbyk99"
   },
   "source": [
    "아래 코드는 2가지 스케일링(min-max 스케일링과 표준화)을 통해 변환한 값들을 데이터프레임 `scores_df`에 새로운 특성들로 추가하는 과정이다."
   ]
  },
  {
   "cell_type": "code",
   "execution_count": 47,
   "metadata": {
    "executionInfo": {
     "elapsed": 4,
     "status": "ok",
     "timestamp": 1752114034891,
     "user": {
      "displayName": "ter wa",
      "userId": "01448980402448893441"
     },
     "user_tz": -540
    },
    "id": "J5-DRlA5yk99"
   },
   "outputs": [],
   "source": [
    "scores_df.loc[:, 'score_minmax'] = minmax"
   ]
  },
  {
   "cell_type": "code",
   "execution_count": 48,
   "metadata": {
    "executionInfo": {
     "elapsed": 22,
     "status": "ok",
     "timestamp": 1752114034915,
     "user": {
      "displayName": "ter wa",
      "userId": "01448980402448893441"
     },
     "user_tz": -540
    },
    "id": "bnrUR807yk99"
   },
   "outputs": [],
   "source": [
    "scores_df.loc[:, 'score_standardized'] = z"
   ]
  },
  {
   "cell_type": "code",
   "execution_count": 49,
   "metadata": {
    "colab": {
     "base_uri": "https://localhost:8080/",
     "height": 394
    },
    "executionInfo": {
     "elapsed": 82,
     "status": "ok",
     "timestamp": 1752114034995,
     "user": {
      "displayName": "ter wa",
      "userId": "01448980402448893441"
     },
     "user_tz": -540
    },
    "id": "QoUN4LeEyk99",
    "outputId": "74529e98-ce2d-4ee2-9408-afa983359eb1"
   },
   "outputs": [
    {
     "data": {
      "text/html": [
       "<div>\n",
       "<style scoped>\n",
       "    .dataframe tbody tr th:only-of-type {\n",
       "        vertical-align: middle;\n",
       "    }\n",
       "\n",
       "    .dataframe tbody tr th {\n",
       "        vertical-align: top;\n",
       "    }\n",
       "\n",
       "    .dataframe thead th {\n",
       "        text-align: right;\n",
       "    }\n",
       "</style>\n",
       "<table border=\"1\" class=\"dataframe\">\n",
       "  <thead>\n",
       "    <tr style=\"text-align: right;\">\n",
       "      <th></th>\n",
       "      <th>score</th>\n",
       "      <th>score_minmax</th>\n",
       "      <th>score_standardized</th>\n",
       "    </tr>\n",
       "    <tr>\n",
       "      <th>student</th>\n",
       "      <th></th>\n",
       "      <th></th>\n",
       "      <th></th>\n",
       "    </tr>\n",
       "  </thead>\n",
       "  <tbody>\n",
       "    <tr>\n",
       "      <th>A</th>\n",
       "      <td>42</td>\n",
       "      <td>0.035714</td>\n",
       "      <td>-1.401826</td>\n",
       "    </tr>\n",
       "    <tr>\n",
       "      <th>B</th>\n",
       "      <td>69</td>\n",
       "      <td>1.000000</td>\n",
       "      <td>1.509659</td>\n",
       "    </tr>\n",
       "    <tr>\n",
       "      <th>C</th>\n",
       "      <td>56</td>\n",
       "      <td>0.535714</td>\n",
       "      <td>0.107833</td>\n",
       "    </tr>\n",
       "    <tr>\n",
       "      <th>D</th>\n",
       "      <td>41</td>\n",
       "      <td>0.000000</td>\n",
       "      <td>-1.509659</td>\n",
       "    </tr>\n",
       "    <tr>\n",
       "      <th>E</th>\n",
       "      <td>57</td>\n",
       "      <td>0.571429</td>\n",
       "      <td>0.215666</td>\n",
       "    </tr>\n",
       "    <tr>\n",
       "      <th>F</th>\n",
       "      <td>48</td>\n",
       "      <td>0.250000</td>\n",
       "      <td>-0.754829</td>\n",
       "    </tr>\n",
       "    <tr>\n",
       "      <th>G</th>\n",
       "      <td>65</td>\n",
       "      <td>0.857143</td>\n",
       "      <td>1.078328</td>\n",
       "    </tr>\n",
       "    <tr>\n",
       "      <th>H</th>\n",
       "      <td>49</td>\n",
       "      <td>0.285714</td>\n",
       "      <td>-0.646997</td>\n",
       "    </tr>\n",
       "    <tr>\n",
       "      <th>I</th>\n",
       "      <td>65</td>\n",
       "      <td>0.857143</td>\n",
       "      <td>1.078328</td>\n",
       "    </tr>\n",
       "    <tr>\n",
       "      <th>J</th>\n",
       "      <td>58</td>\n",
       "      <td>0.607143</td>\n",
       "      <td>0.323498</td>\n",
       "    </tr>\n",
       "  </tbody>\n",
       "</table>\n",
       "</div>"
      ],
      "text/plain": [
       "         score  score_minmax  score_standardized\n",
       "student                                         \n",
       "A           42      0.035714           -1.401826\n",
       "B           69      1.000000            1.509659\n",
       "C           56      0.535714            0.107833\n",
       "D           41      0.000000           -1.509659\n",
       "E           57      0.571429            0.215666\n",
       "F           48      0.250000           -0.754829\n",
       "G           65      0.857143            1.078328\n",
       "H           49      0.285714           -0.646997\n",
       "I           65      0.857143            1.078328\n",
       "J           58      0.607143            0.323498"
      ]
     },
     "execution_count": 49,
     "metadata": {},
     "output_type": "execute_result"
    }
   ],
   "source": [
    "scores_df"
   ]
  },
  {
   "cell_type": "markdown",
   "metadata": {
    "id": "ovibMJSeyk99"
   },
   "source": [
    "앞에서 살펴보았듯이, 데이터프레임의 `describe()` 메서드를 활용하면 각 특성값들의 분포를 한 눈에 살펴볼 수 있다."
   ]
  },
  {
   "cell_type": "code",
   "execution_count": 50,
   "metadata": {
    "colab": {
     "base_uri": "https://localhost:8080/",
     "height": 300
    },
    "executionInfo": {
     "elapsed": 46,
     "status": "ok",
     "timestamp": 1752114035043,
     "user": {
      "displayName": "ter wa",
      "userId": "01448980402448893441"
     },
     "user_tz": -540
    },
    "id": "fKeO4m59yk99",
    "outputId": "81dcc571-0fab-4f08-b7dc-5110299b1b85"
   },
   "outputs": [
    {
     "data": {
      "text/html": [
       "<div>\n",
       "<style scoped>\n",
       "    .dataframe tbody tr th:only-of-type {\n",
       "        vertical-align: middle;\n",
       "    }\n",
       "\n",
       "    .dataframe tbody tr th {\n",
       "        vertical-align: top;\n",
       "    }\n",
       "\n",
       "    .dataframe thead th {\n",
       "        text-align: right;\n",
       "    }\n",
       "</style>\n",
       "<table border=\"1\" class=\"dataframe\">\n",
       "  <thead>\n",
       "    <tr style=\"text-align: right;\">\n",
       "      <th></th>\n",
       "      <th>score</th>\n",
       "      <th>score_minmax</th>\n",
       "      <th>score_standardized</th>\n",
       "    </tr>\n",
       "  </thead>\n",
       "  <tbody>\n",
       "    <tr>\n",
       "      <th>count</th>\n",
       "      <td>10.000000</td>\n",
       "      <td>10.000000</td>\n",
       "      <td>1.000000e+01</td>\n",
       "    </tr>\n",
       "    <tr>\n",
       "      <th>mean</th>\n",
       "      <td>55.000000</td>\n",
       "      <td>0.500000</td>\n",
       "      <td>-1.665335e-17</td>\n",
       "    </tr>\n",
       "    <tr>\n",
       "      <th>std</th>\n",
       "      <td>9.775252</td>\n",
       "      <td>0.349116</td>\n",
       "      <td>1.054093e+00</td>\n",
       "    </tr>\n",
       "    <tr>\n",
       "      <th>min</th>\n",
       "      <td>41.000000</td>\n",
       "      <td>0.000000</td>\n",
       "      <td>-1.509659e+00</td>\n",
       "    </tr>\n",
       "    <tr>\n",
       "      <th>25%</th>\n",
       "      <td>48.250000</td>\n",
       "      <td>0.258929</td>\n",
       "      <td>-7.278712e-01</td>\n",
       "    </tr>\n",
       "    <tr>\n",
       "      <th>50%</th>\n",
       "      <td>56.500000</td>\n",
       "      <td>0.553571</td>\n",
       "      <td>1.617492e-01</td>\n",
       "    </tr>\n",
       "    <tr>\n",
       "      <th>75%</th>\n",
       "      <td>63.250000</td>\n",
       "      <td>0.794643</td>\n",
       "      <td>8.896204e-01</td>\n",
       "    </tr>\n",
       "    <tr>\n",
       "      <th>max</th>\n",
       "      <td>69.000000</td>\n",
       "      <td>1.000000</td>\n",
       "      <td>1.509659e+00</td>\n",
       "    </tr>\n",
       "  </tbody>\n",
       "</table>\n",
       "</div>"
      ],
      "text/plain": [
       "           score  score_minmax  score_standardized\n",
       "count  10.000000     10.000000        1.000000e+01\n",
       "mean   55.000000      0.500000       -1.665335e-17\n",
       "std     9.775252      0.349116        1.054093e+00\n",
       "min    41.000000      0.000000       -1.509659e+00\n",
       "25%    48.250000      0.258929       -7.278712e-01\n",
       "50%    56.500000      0.553571        1.617492e-01\n",
       "75%    63.250000      0.794643        8.896204e-01\n",
       "max    69.000000      1.000000        1.509659e+00"
      ]
     },
     "execution_count": 50,
     "metadata": {},
     "output_type": "execute_result"
    }
   ],
   "source": [
    "scores_df.describe()"
   ]
  },
  {
   "cell_type": "markdown",
   "metadata": {
    "id": "PCATuHxYyk9-"
   },
   "source": [
    "## 연습문제"
   ]
  },
  {
   "cell_type": "markdown",
   "metadata": {
    "id": "eg9gEseGyk9-"
   },
   "source": [
    "참고: [(연습) 1차원 데이터](https://colab.research.google.com/github/codingalzi/DataSci/blob/master/practices/practice-oneD_data.ipynb)"
   ]
  }
 ],
 "metadata": {
  "colab": {
   "provenance": [
    {
     "file_id": "https://github.com/codingalzi/DataSci/blob/master/jupyter-book/oneD_data.ipynb",
     "timestamp": 1751084850423
    }
   ],
   "toc_visible": true
  },
  "kernelspec": {
   "display_name": "Python 3 (ipykernel)",
   "language": "python",
   "name": "python3"
  },
  "language_info": {
   "codemirror_mode": {
    "name": "ipython",
    "version": 3
   },
   "file_extension": ".py",
   "mimetype": "text/x-python",
   "name": "python",
   "nbconvert_exporter": "python",
   "pygments_lexer": "ipython3",
   "version": "3.12.2"
  },
  "toc": {
   "nav_menu": {},
   "number_sections": true,
   "sideBar": true,
   "skip_h1_title": false,
   "toc_cell": false,
   "toc_position": {},
   "toc_section_display": "block",
   "toc_window_display": false
  }
 },
 "nbformat": 4,
 "nbformat_minor": 1
}
