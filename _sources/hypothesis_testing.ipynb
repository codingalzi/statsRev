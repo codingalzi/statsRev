{
 "cells": [
  {
   "cell_type": "markdown",
   "metadata": {
    "id": "JfH102dgPr1b"
   },
   "source": [
    "# 가설검정"
   ]
  },
  {
   "cell_type": "markdown",
   "metadata": {},
   "source": [
    "## 이론"
   ]
  },
  {
   "cell_type": "markdown",
   "metadata": {
    "id": "JfH102dgPr1b"
   },
   "source": [
    "다음과 같은 두 가지 가설을 생각한다.\n",
    "\n",
    "- 귀무가설 (null hypothesis) $\\text{H}_0$ : 모집단에 대하여 기존에 사실이라고 알려져 있거나 처음부터 주장하는 가설\n",
    "\n",
    "- 대립가설 (alternative hypothesis) $\\text{H}_1$ : 귀무가설에 대립되어 만들어지는 가설로 모집단에 대한 주장을 담고 있으며 실험이나 조사를 통해 입증하고 싶은 가설\n",
    "\n",
    "가설검정은 조사된 데이터의 통계량(표본평균, 표본분산 등)을 통하여 귀무가설을 기각하고 대립가설을 채택할 충분한 증거가 있는지 확인하는 과정으로 다음과 같은 두 가지의 오류를 생각할 수 있다.\n",
    "\n",
    "  제 1종 오류: 귀무가설이 참인데 귀무가설을 기각할 오류. 제1종 오류를 범할 확률은 보통 $\\alpha$로 나타내고 이를 유의수준 (Significance Level)이라 한다.  \n",
    "\n",
    "  제 2종 오류: 귀무가설이 거짓인데 귀무가설을 채택할 오류. 제2종 오류를 범할 확률은 보통 $\\beta$로 나타내는데 제 1종 오류를 범할 확률 $\\alpha$를 높이면 $\\beta$는 낮아지는 경향이 있다.\n",
    "\n",
    "- 제 1종 오류를 허용할 한계인 유의수준 $\\alpha$ 만을 다루기로 한다. 유의수준은 연구자가 설정하는 값으로, 일반적으로 0.05 (5%) 또는 0.01(1%)를 많이 사용한다.  유의수준이 낮을수록 제1종 오류를 범할 확률이 줄어든다."
   ]
  },
  {
   "cell_type": "markdown",
   "metadata": {
    "id": "Nh2pFJ5hOLWR"
   },
   "source": [
    "**기각역과 가설검정의 종류**\n",
    "\n",
    "유의수준($\\alpha$)과 대립가설의 성격에 따라 귀무가설을 기각하는 영역(기각역)이 정해지며 이에 따라 다음과 같은 종류의 가설검정을 생각할 수 있다.\n",
    "*   **양측검정 (Two-tailed test)**: 대립가설이 '차이가 있다' ($\\textbf{H}_1: \\mu \\ne \\mu_0$) 와 같이 특정 값과 다르다는 형태일 때 사용한다.  이때는 분포의 양쪽 꼬리 부분에 기각역이 설정되며, 유의수준 $\\alpha$는 양쪽 꼬리에 $\\alpha/2$씩 나누어진다.\n",
    "*   **단측검정 (One-tailed test)**: 대립가설이 '더 크다' ($\\textbf{H}_1: \\mu > \\mu_0$) 또는 '더 작다' ($\\textbf{H}_1: \\mu < \\mu_0$) 와 같이 특정 방향의 차이를 주장할 때 사용한다. 이때는 분포의 한쪽 꼬리에만 기각역이 설정되며, 유의수준 $\\alpha$ 전체가 해당 꼬리 부분에 위치한다."
   ]
  },
  {
   "cell_type": "markdown",
   "metadata": {
    "id": "X5etgbpa2NDH"
   },
   "source": [
    "**유의수준과 임계값(critical value)**\n",
    "\n",
    "표준정규분포 $N(0, 1^2)$을 따르는 확률변수 $Z$에 대하여\n",
    "\n",
    "$$P(Z\\ge z_{\\alpha})=\\alpha $$\n",
    "\n",
    "라 하면 확률 $\\alpha$에 따른 변수 $z_{\\alpha}$가 정해진다.\n",
    "\n",
    "이때 주어진 유의수준 $\\alpha$에 대한 가설검정의 기각역은 양측검정의 경우\n",
    "\n",
    "$$\\alpha = P(|Z| \\ge z_{\\alpha/2}) = P(Z\\le -z_{\\alpha/2}, Z \\ge z_{\\alpha/2})$$\n",
    "\n",
    "단측검정의 경우\n",
    "\n",
    "$$\\alpha = P(Z\\le -z_{\\alpha}) \\,\\,또는 \\,\\,\\alpha = P(Z\\ge z_{\\alpha})$$\n",
    "\n",
    "이다.\n",
    "\n",
    "- 여기서 유의수준 $\\alpha$의 중요한 기준이 되는 임계값을 생각할 수 있는데  양측검정의 경우 두 개의 임계값 $-z_{\\alpha/2}, z_{\\alpha/2}$, 단측검정의 경우 한 개의 임계값 $-z_{\\alpha}$ 또는 $z_{\\alpha}$이 있다.\n",
    "                 \n",
    "\n",
    "\n",
    "\n",
    "\n",
    "\n"
   ]
  },
  {
   "cell_type": "markdown",
   "metadata": {
    "id": "pGuXeMlpsw3K"
   },
   "source": [
    "**표본평균 분포**\n",
    "\n",
    "확률 변수 $X$로 나타내어지는 모집단의 평균을 $\\mu$ 분산을 $\\sigma^2$이라 하자. 이때, 충분히 큰 크기 $n$인 표본의 표본평균 $\\overline{X}$는 중심극한정리에 의하여 정규분포 $N(\\mu, \\sigma^2/n)$을 따른다. 즉,\n",
    "\n",
    "$$\\overline{X} \\sim N(\\mu, \\sigma^2/n)$$\n",
    "\n",
    "이라 표현한다. 또한, 정규분포 성질에 의하여\n",
    "\n",
    "$$Z = \\frac{\\overline{X} - \\mu}{\\sigma/\\sqrt{n}}\\sim N(0, 1^2)$$\n",
    "\n",
    "이다.\n",
    "- 따라서 충분히 큰 표본으로부터의 모평균 관련한 추정과 검정은 표준정규분포를 사용한다.\n",
    "\n",
    "\n",
    "\n"
   ]
  },
  {
   "cell_type": "markdown",
   "metadata": {
    "id": "kBa9UUmPV_9H"
   },
   "source": [
    "**검정통계량과 $p$-값**\n",
    "\n",
    "충분히 큰 크기 $n$의 표본 데이터를 가지고 모평균에 대한 가설검정을 하려 하며 표준정규분포를 사용한다.\n",
    "\n",
    "귀무가설 $\\text{H}_0$ : 모평균은 $\\mu_0$이다.\n",
    "\n",
    "- 검정통계량(Test Statistic):  표본 데이터로부터 계산되는 값으로 가설검정을 수행하는 기준이 된다. 이 경우 조사된 표본의 평균값을 $X_0$라 하면  \n",
    "\n",
    "$$z_0= \\frac{X_0 - \\mu_0}{\\sigma/\\sqrt{n}}$$\n",
    "\n",
    "이 검정통계량이 된다. (여기서 모분산이 알려지지 않은 경우 포본의 불편분산을 사용하기도 한다.)\n",
    "\n",
    "- $p$-값($p$-value): 귀무가설 하에서 현재 검정통계량 값 또는 그보다 더 극단적인 값이 나타날 확률로\n",
    "\n",
    "$$ P(z\\le z_0) 또는  P(z\\ge z_0)$$\n",
    "\n",
    "인데 이 경우 표준정규분포를 이용하여 계산하고 대립가설 $\\text{H}_1$에 따라 선택한다."
   ]
  },
  {
   "cell_type": "markdown",
   "metadata": {
    "id": "d4rc-omDt_1n"
   },
   "source": [
    "**귀무가설 기각**\n",
    "\n",
    "유의수준 $\\alpha$/임계값 그리고 조사된 데이터로부터의 $p$-값/검정추정량을 비교하여 가설검정을 진행한다.\n",
    "\n",
    "방법 1. 임계값과 검정추정량 비교\n",
    "\n",
    "- 검정통계량이 기각역에 속하면 귀무가설을 기각한다.\n",
    "- 검정통계량이 기각역에 속하지 않으면 귀무가설을 기각할 수 없다.\n",
    "\n",
    "방법 2. 유의수준과 $p$-값 비교\n",
    "\n",
    "- 단측검정에서는 $p$-값이 유의수준 $\\alpha$보다 작은 경우, 양측검정에서는 $p$-값이 $\\alpha/2$보다 작은 경우 귀무가설을 기각한다.\n",
    "- 그렇지 않으면 귀무가설을 기각할 수 없다.  "
   ]
  },
  {
   "cell_type": "markdown",
   "metadata": {
    "id": "-i0YDLn20JkV"
   },
   "source": [
    "**가설검정 절차**\n",
    "\n",
    "- 귀무가설 $\\text{H}_0$, 대립가설 $\\text{H}_1$ 설정\n",
    "- 분포 결정\n",
    "- 유의수준/임계값\n",
    "- $p$-값/검정추정량 (표본 데이터로 부터 계산한다)\n",
    "- 귀무가설을 기각할 지를 결정한다."
   ]
  },
  {
   "cell_type": "markdown",
   "metadata": {
    "id": "lCewv92cJoIW"
   },
   "source": [
    "**예제 (단측 검정)**\n",
    "\n",
    "어떤 회사는 자사 제품의 평균 사용 시간이 100시간이라고 주장합니다.  새로운 공정으로 생산된 제품의 평균 사용 시간이 100시간보다 짧은지 유의수준 5%에서 검정해 봅시다.\n",
    "\n",
    "30개의 표본을 추출하였더니 평균은 98이 왔음.\n",
    "\n",
    "모분산을 $10^2$이라 가정합니다.\n",
    "\n",
    "- **귀무가설 $\\text{H}_0$**: 새로운 공정으로 생산된 제품의 평균 사용 시간은 100시간이다 ($\\mu = 100$).\n",
    "- **대립가설 $\\text{H}_1$**: 새로운 공정으로 생산된 제품의 평균 사용 시간은 100시간보다 짧다 ($\\mu < 100$).\n",
    "\n",
    "이것은 단측 검정(왼쪽 꼬리)입니다.\n"
   ]
  },
  {
   "cell_type": "markdown",
   "metadata": {
    "id": "W77_w6WVORVB"
   },
   "source": [
    "**가설 검정 절차:**\n",
    "\n",
    "1.  **귀무가설 $\\text{H}_0$, 대립가설 $\\text{H}_1$ 설정**:\n",
    "    *   $\\text{H}_0: \\mu = 100$\n",
    "    *   $\\text{H}_1: \\mu < 100$\n",
    "\n",
    "2.  **분포 결정**: 모분산이 알려져 있고 표본 크기가 충분히 크므로 표준정규분포 $N(0, 1^2)$을 사용합니다.\n",
    "\n",
    "3.  **유의수준/임계값**:\n",
    "    *   유의수준 $\\alpha = 0.05$ 입니다.\n",
    "    *   단측 검정(왼쪽 꼬리)이므로, 표준정규분포에서 왼쪽 꼬리 확률이 0.05가 되는 z-값을 찾습니다.\n",
    "    *   표준정규분포표 또는 계산기를 찾아보면, 누적 확률이 0.05가 되는 z-값은 약 -1.645 입니다.\n",
    "    *   따라서 임계값은 $-z_{0.05} \\approx -1.645$ 입니다.\n",
    "    *   기각역은 $Z \\le -1.645$ 입니다.\n",
    "\n",
    "4.  **$p$-값/검정통계량 (표본 데이터로 부터 계산한다)**:\n",
    "    *   주어진 정보: 표본평균 $X_0 = 98$, 모평균 (귀무가설 하) $\\mu_0 = 100$, 모표준편차 $\\sigma = 10$, 표본 크기 $n = 30$.\n",
    "    *   검정통계량 $z_0$를 계산합니다.\n",
    "        $$z_0= \\frac{X_0 - \\mu_0}{\\sigma/\\sqrt{n}} = \\frac{98 - 100}{10/\\sqrt{30}}$$\n",
    "    *   $\\sqrt{30} \\approx 5.477$ 이므로\n",
    "        $$z_0 \\approx \\frac{-2}{10/5.477} = \\frac{-2}{1.826} \\approx -1.095$$\n",
    "    *   검정통계량은 약 -1.095 입니다.\n",
    "\n",
    "    *   p-값을 계산합니다. 대립가설이 $\\mu < 100$이므로, 귀무가설 하에서 검정통계량이 -1.095보다 작거나 같을 확률을 계산합니다.\n",
    "        $$p\\text{-값} = P(Z \\le z_0) = P(Z \\le -1.095)$$\n",
    "    *   표준정규분포표 또는 계산기를 사용하면, $P(Z \\le -1.095)$는 약 0.1367 입니다.\n",
    "\n",
    "5.  **귀무가설을 기각할 지를 결정한다**:\n",
    "\n",
    "    *   **방법 1. 임계값과 검정통계량 비교**:\n",
    "        *   검정통계량 $z_0 \\approx -1.095$ 입니다.\n",
    "        *   임계값은 약 -1.645 입니다.\n",
    "        *   검정통계량 $(-1.095)$은 임계값 $(-1.645)$보다 크므로 기각역($Z \\le -1.645$)에 속하지 않습니다.\n",
    "        *   따라서 귀무가설을 기각할 수 없습니다.\n",
    "\n",
    "    *   **방법 2. 유의수준과 $p$-값 비교**:\n",
    "        *   유의수준 $\\alpha = 0.05$ 입니다.\n",
    "        *   p-값 $\\approx 0.1367$ 입니다.\n",
    "        *   p-값 $(0.1367)$은 유의수준 $(0.05)$보다 크므로 귀무가설을 기각할 수 없습니다.\n",
    "\n",
    "**결론**: 유의수준 5% 하에서 새로운 공정으로 생산된 제품의 평균 사용 시간이 100시간보다 짧다고 할 충분한 증거가 없습니다."
   ]
  },
  {
   "cell_type": "markdown",
   "metadata": {
    "id": "8b3EQ3Aw1zbx"
   },
   "source": [
    "## 예제"
   ]
  },
  {
   "cell_type": "code",
   "execution_count": 1,
   "metadata": {},
   "outputs": [],
   "source": [
    "import numpy as np\n",
    "import pandas as pd"
   ]
  },
  {
   "cell_type": "code",
   "execution_count": 2,
   "metadata": {},
   "outputs": [],
   "source": [
    "pd.options.mode.copy_on_write = True"
   ]
  },
  {
   "cell_type": "code",
   "execution_count": 3,
   "metadata": {},
   "outputs": [
    {
     "data": {
      "text/plain": [
       "'%.6f'"
      ]
     },
     "execution_count": 3,
     "metadata": {},
     "output_type": "execute_result"
    }
   ],
   "source": [
    "%precision 6"
   ]
  },
  {
   "cell_type": "code",
   "execution_count": 4,
   "metadata": {},
   "outputs": [],
   "source": [
    "pd.set_option('display.precision', 6)"
   ]
  },
  {
   "cell_type": "code",
   "execution_count": 5,
   "metadata": {},
   "outputs": [],
   "source": [
    "import matplotlib.pyplot as plt"
   ]
  },
  {
   "cell_type": "code",
   "execution_count": 6,
   "metadata": {},
   "outputs": [],
   "source": [
    "data_url = 'https://raw.githubusercontent.com/codingalzi/DataSci/refs/heads/master/data/'"
   ]
  },
  {
   "cell_type": "code",
   "execution_count": 7,
   "metadata": {},
   "outputs": [
    {
     "data": {
      "text/html": [
       "<div>\n",
       "<style scoped>\n",
       "    .dataframe tbody tr th:only-of-type {\n",
       "        vertical-align: middle;\n",
       "    }\n",
       "\n",
       "    .dataframe tbody tr th {\n",
       "        vertical-align: top;\n",
       "    }\n",
       "\n",
       "    .dataframe thead th {\n",
       "        text-align: right;\n",
       "    }\n",
       "</style>\n",
       "<table border=\"1\" class=\"dataframe\">\n",
       "  <thead>\n",
       "    <tr style=\"text-align: right;\">\n",
       "      <th></th>\n",
       "      <th>longitude</th>\n",
       "      <th>latitude</th>\n",
       "      <th>housing_median_age</th>\n",
       "      <th>total_rooms</th>\n",
       "      <th>total_bedrooms</th>\n",
       "      <th>population</th>\n",
       "      <th>households</th>\n",
       "      <th>median_income</th>\n",
       "      <th>median_house_value</th>\n",
       "      <th>ocean_proximity</th>\n",
       "    </tr>\n",
       "  </thead>\n",
       "  <tbody>\n",
       "    <tr>\n",
       "      <th>0</th>\n",
       "      <td>-122.23</td>\n",
       "      <td>37.88</td>\n",
       "      <td>41.0</td>\n",
       "      <td>880.0</td>\n",
       "      <td>129.0</td>\n",
       "      <td>322.0</td>\n",
       "      <td>126.0</td>\n",
       "      <td>8.3252</td>\n",
       "      <td>452600.0</td>\n",
       "      <td>NEAR BAY</td>\n",
       "    </tr>\n",
       "    <tr>\n",
       "      <th>1</th>\n",
       "      <td>-122.22</td>\n",
       "      <td>37.86</td>\n",
       "      <td>21.0</td>\n",
       "      <td>7099.0</td>\n",
       "      <td>1106.0</td>\n",
       "      <td>2401.0</td>\n",
       "      <td>1138.0</td>\n",
       "      <td>8.3014</td>\n",
       "      <td>358500.0</td>\n",
       "      <td>NEAR BAY</td>\n",
       "    </tr>\n",
       "    <tr>\n",
       "      <th>2</th>\n",
       "      <td>-122.24</td>\n",
       "      <td>37.85</td>\n",
       "      <td>52.0</td>\n",
       "      <td>1467.0</td>\n",
       "      <td>190.0</td>\n",
       "      <td>496.0</td>\n",
       "      <td>177.0</td>\n",
       "      <td>7.2574</td>\n",
       "      <td>352100.0</td>\n",
       "      <td>NEAR BAY</td>\n",
       "    </tr>\n",
       "    <tr>\n",
       "      <th>3</th>\n",
       "      <td>-122.25</td>\n",
       "      <td>37.85</td>\n",
       "      <td>52.0</td>\n",
       "      <td>1274.0</td>\n",
       "      <td>235.0</td>\n",
       "      <td>558.0</td>\n",
       "      <td>219.0</td>\n",
       "      <td>5.6431</td>\n",
       "      <td>341300.0</td>\n",
       "      <td>NEAR BAY</td>\n",
       "    </tr>\n",
       "    <tr>\n",
       "      <th>4</th>\n",
       "      <td>-122.25</td>\n",
       "      <td>37.85</td>\n",
       "      <td>52.0</td>\n",
       "      <td>1627.0</td>\n",
       "      <td>280.0</td>\n",
       "      <td>565.0</td>\n",
       "      <td>259.0</td>\n",
       "      <td>3.8462</td>\n",
       "      <td>342200.0</td>\n",
       "      <td>NEAR BAY</td>\n",
       "    </tr>\n",
       "    <tr>\n",
       "      <th>...</th>\n",
       "      <td>...</td>\n",
       "      <td>...</td>\n",
       "      <td>...</td>\n",
       "      <td>...</td>\n",
       "      <td>...</td>\n",
       "      <td>...</td>\n",
       "      <td>...</td>\n",
       "      <td>...</td>\n",
       "      <td>...</td>\n",
       "      <td>...</td>\n",
       "    </tr>\n",
       "    <tr>\n",
       "      <th>20635</th>\n",
       "      <td>-121.09</td>\n",
       "      <td>39.48</td>\n",
       "      <td>25.0</td>\n",
       "      <td>1665.0</td>\n",
       "      <td>374.0</td>\n",
       "      <td>845.0</td>\n",
       "      <td>330.0</td>\n",
       "      <td>1.5603</td>\n",
       "      <td>78100.0</td>\n",
       "      <td>INLAND</td>\n",
       "    </tr>\n",
       "    <tr>\n",
       "      <th>20636</th>\n",
       "      <td>-121.21</td>\n",
       "      <td>39.49</td>\n",
       "      <td>18.0</td>\n",
       "      <td>697.0</td>\n",
       "      <td>150.0</td>\n",
       "      <td>356.0</td>\n",
       "      <td>114.0</td>\n",
       "      <td>2.5568</td>\n",
       "      <td>77100.0</td>\n",
       "      <td>INLAND</td>\n",
       "    </tr>\n",
       "    <tr>\n",
       "      <th>20637</th>\n",
       "      <td>-121.22</td>\n",
       "      <td>39.43</td>\n",
       "      <td>17.0</td>\n",
       "      <td>2254.0</td>\n",
       "      <td>485.0</td>\n",
       "      <td>1007.0</td>\n",
       "      <td>433.0</td>\n",
       "      <td>1.7000</td>\n",
       "      <td>92300.0</td>\n",
       "      <td>INLAND</td>\n",
       "    </tr>\n",
       "    <tr>\n",
       "      <th>20638</th>\n",
       "      <td>-121.32</td>\n",
       "      <td>39.43</td>\n",
       "      <td>18.0</td>\n",
       "      <td>1860.0</td>\n",
       "      <td>409.0</td>\n",
       "      <td>741.0</td>\n",
       "      <td>349.0</td>\n",
       "      <td>1.8672</td>\n",
       "      <td>84700.0</td>\n",
       "      <td>INLAND</td>\n",
       "    </tr>\n",
       "    <tr>\n",
       "      <th>20639</th>\n",
       "      <td>-121.24</td>\n",
       "      <td>39.37</td>\n",
       "      <td>16.0</td>\n",
       "      <td>2785.0</td>\n",
       "      <td>616.0</td>\n",
       "      <td>1387.0</td>\n",
       "      <td>530.0</td>\n",
       "      <td>2.3886</td>\n",
       "      <td>89400.0</td>\n",
       "      <td>INLAND</td>\n",
       "    </tr>\n",
       "  </tbody>\n",
       "</table>\n",
       "<p>20640 rows × 10 columns</p>\n",
       "</div>"
      ],
      "text/plain": [
       "       longitude  latitude  housing_median_age  total_rooms  total_bedrooms  \\\n",
       "0        -122.23     37.88                41.0        880.0           129.0   \n",
       "1        -122.22     37.86                21.0       7099.0          1106.0   \n",
       "2        -122.24     37.85                52.0       1467.0           190.0   \n",
       "3        -122.25     37.85                52.0       1274.0           235.0   \n",
       "4        -122.25     37.85                52.0       1627.0           280.0   \n",
       "...          ...       ...                 ...          ...             ...   \n",
       "20635    -121.09     39.48                25.0       1665.0           374.0   \n",
       "20636    -121.21     39.49                18.0        697.0           150.0   \n",
       "20637    -121.22     39.43                17.0       2254.0           485.0   \n",
       "20638    -121.32     39.43                18.0       1860.0           409.0   \n",
       "20639    -121.24     39.37                16.0       2785.0           616.0   \n",
       "\n",
       "       population  households  median_income  median_house_value  \\\n",
       "0           322.0       126.0         8.3252            452600.0   \n",
       "1          2401.0      1138.0         8.3014            358500.0   \n",
       "2           496.0       177.0         7.2574            352100.0   \n",
       "3           558.0       219.0         5.6431            341300.0   \n",
       "4           565.0       259.0         3.8462            342200.0   \n",
       "...           ...         ...            ...                 ...   \n",
       "20635       845.0       330.0         1.5603             78100.0   \n",
       "20636       356.0       114.0         2.5568             77100.0   \n",
       "20637      1007.0       433.0         1.7000             92300.0   \n",
       "20638       741.0       349.0         1.8672             84700.0   \n",
       "20639      1387.0       530.0         2.3886             89400.0   \n",
       "\n",
       "      ocean_proximity  \n",
       "0            NEAR BAY  \n",
       "1            NEAR BAY  \n",
       "2            NEAR BAY  \n",
       "3            NEAR BAY  \n",
       "4            NEAR BAY  \n",
       "...               ...  \n",
       "20635          INLAND  \n",
       "20636          INLAND  \n",
       "20637          INLAND  \n",
       "20638          INLAND  \n",
       "20639          INLAND  \n",
       "\n",
       "[20640 rows x 10 columns]"
      ]
     },
     "execution_count": 7,
     "metadata": {},
     "output_type": "execute_result"
    }
   ],
   "source": [
    "housing = pd.read_csv(data_url+\"california_housing.csv\")\n",
    "housing"
   ]
  },
  {
   "cell_type": "code",
   "execution_count": 8,
   "metadata": {},
   "outputs": [
    {
     "data": {
      "text/html": [
       "<div>\n",
       "<style scoped>\n",
       "    .dataframe tbody tr th:only-of-type {\n",
       "        vertical-align: middle;\n",
       "    }\n",
       "\n",
       "    .dataframe tbody tr th {\n",
       "        vertical-align: top;\n",
       "    }\n",
       "\n",
       "    .dataframe thead th {\n",
       "        text-align: right;\n",
       "    }\n",
       "</style>\n",
       "<table border=\"1\" class=\"dataframe\">\n",
       "  <thead>\n",
       "    <tr style=\"text-align: right;\">\n",
       "      <th></th>\n",
       "      <th>median_income</th>\n",
       "      <th>median_house_value</th>\n",
       "    </tr>\n",
       "  </thead>\n",
       "  <tbody>\n",
       "    <tr>\n",
       "      <th>0</th>\n",
       "      <td>8.3252</td>\n",
       "      <td>452600.0</td>\n",
       "    </tr>\n",
       "    <tr>\n",
       "      <th>1</th>\n",
       "      <td>8.3014</td>\n",
       "      <td>358500.0</td>\n",
       "    </tr>\n",
       "    <tr>\n",
       "      <th>2</th>\n",
       "      <td>7.2574</td>\n",
       "      <td>352100.0</td>\n",
       "    </tr>\n",
       "    <tr>\n",
       "      <th>3</th>\n",
       "      <td>5.6431</td>\n",
       "      <td>341300.0</td>\n",
       "    </tr>\n",
       "    <tr>\n",
       "      <th>4</th>\n",
       "      <td>3.8462</td>\n",
       "      <td>342200.0</td>\n",
       "    </tr>\n",
       "    <tr>\n",
       "      <th>...</th>\n",
       "      <td>...</td>\n",
       "      <td>...</td>\n",
       "    </tr>\n",
       "    <tr>\n",
       "      <th>20635</th>\n",
       "      <td>1.5603</td>\n",
       "      <td>78100.0</td>\n",
       "    </tr>\n",
       "    <tr>\n",
       "      <th>20636</th>\n",
       "      <td>2.5568</td>\n",
       "      <td>77100.0</td>\n",
       "    </tr>\n",
       "    <tr>\n",
       "      <th>20637</th>\n",
       "      <td>1.7000</td>\n",
       "      <td>92300.0</td>\n",
       "    </tr>\n",
       "    <tr>\n",
       "      <th>20638</th>\n",
       "      <td>1.8672</td>\n",
       "      <td>84700.0</td>\n",
       "    </tr>\n",
       "    <tr>\n",
       "      <th>20639</th>\n",
       "      <td>2.3886</td>\n",
       "      <td>89400.0</td>\n",
       "    </tr>\n",
       "  </tbody>\n",
       "</table>\n",
       "<p>20640 rows × 2 columns</p>\n",
       "</div>"
      ],
      "text/plain": [
       "       median_income  median_house_value\n",
       "0             8.3252            452600.0\n",
       "1             8.3014            358500.0\n",
       "2             7.2574            352100.0\n",
       "3             5.6431            341300.0\n",
       "4             3.8462            342200.0\n",
       "...              ...                 ...\n",
       "20635         1.5603             78100.0\n",
       "20636         2.5568             77100.0\n",
       "20637         1.7000             92300.0\n",
       "20638         1.8672             84700.0\n",
       "20639         2.3886             89400.0\n",
       "\n",
       "[20640 rows x 2 columns]"
      ]
     },
     "execution_count": 8,
     "metadata": {},
     "output_type": "execute_result"
    }
   ],
   "source": [
    "housing = housing.loc[:, ['median_income', 'median_house_value']]\n",
    "housing"
   ]
  },
  {
   "cell_type": "code",
   "execution_count": 9,
   "metadata": {},
   "outputs": [],
   "source": [
    "house_value_max = housing['median_house_value'].max() # 500,001\n",
    "\n",
    "mask = housing['median_house_value'] >= house_value_max"
   ]
  },
  {
   "cell_type": "code",
   "execution_count": 10,
   "metadata": {},
   "outputs": [
    {
     "data": {
      "text/plain": [
       "(19675, 2)"
      ]
     },
     "execution_count": 10,
     "metadata": {},
     "output_type": "execute_result"
    }
   ],
   "source": [
    "housing = housing[~mask]\n",
    "housing.shape"
   ]
  },
  {
   "cell_type": "code",
   "execution_count": 11,
   "metadata": {},
   "outputs": [
    {
     "data": {
      "text/html": [
       "<div>\n",
       "<style scoped>\n",
       "    .dataframe tbody tr th:only-of-type {\n",
       "        vertical-align: middle;\n",
       "    }\n",
       "\n",
       "    .dataframe tbody tr th {\n",
       "        vertical-align: top;\n",
       "    }\n",
       "\n",
       "    .dataframe thead th {\n",
       "        text-align: right;\n",
       "    }\n",
       "</style>\n",
       "<table border=\"1\" class=\"dataframe\">\n",
       "  <thead>\n",
       "    <tr style=\"text-align: right;\">\n",
       "      <th></th>\n",
       "      <th>median_income</th>\n",
       "      <th>median_house_value</th>\n",
       "    </tr>\n",
       "    <tr>\n",
       "      <th>district</th>\n",
       "      <th></th>\n",
       "      <th></th>\n",
       "    </tr>\n",
       "  </thead>\n",
       "  <tbody>\n",
       "    <tr>\n",
       "      <th>0</th>\n",
       "      <td>8.3252</td>\n",
       "      <td>452600.0</td>\n",
       "    </tr>\n",
       "    <tr>\n",
       "      <th>1</th>\n",
       "      <td>8.3014</td>\n",
       "      <td>358500.0</td>\n",
       "    </tr>\n",
       "    <tr>\n",
       "      <th>2</th>\n",
       "      <td>7.2574</td>\n",
       "      <td>352100.0</td>\n",
       "    </tr>\n",
       "    <tr>\n",
       "      <th>3</th>\n",
       "      <td>5.6431</td>\n",
       "      <td>341300.0</td>\n",
       "    </tr>\n",
       "    <tr>\n",
       "      <th>4</th>\n",
       "      <td>3.8462</td>\n",
       "      <td>342200.0</td>\n",
       "    </tr>\n",
       "    <tr>\n",
       "      <th>...</th>\n",
       "      <td>...</td>\n",
       "      <td>...</td>\n",
       "    </tr>\n",
       "    <tr>\n",
       "      <th>19670</th>\n",
       "      <td>1.5603</td>\n",
       "      <td>78100.0</td>\n",
       "    </tr>\n",
       "    <tr>\n",
       "      <th>19671</th>\n",
       "      <td>2.5568</td>\n",
       "      <td>77100.0</td>\n",
       "    </tr>\n",
       "    <tr>\n",
       "      <th>19672</th>\n",
       "      <td>1.7000</td>\n",
       "      <td>92300.0</td>\n",
       "    </tr>\n",
       "    <tr>\n",
       "      <th>19673</th>\n",
       "      <td>1.8672</td>\n",
       "      <td>84700.0</td>\n",
       "    </tr>\n",
       "    <tr>\n",
       "      <th>19674</th>\n",
       "      <td>2.3886</td>\n",
       "      <td>89400.0</td>\n",
       "    </tr>\n",
       "  </tbody>\n",
       "</table>\n",
       "<p>19675 rows × 2 columns</p>\n",
       "</div>"
      ],
      "text/plain": [
       "          median_income  median_house_value\n",
       "district                                   \n",
       "0                8.3252            452600.0\n",
       "1                8.3014            358500.0\n",
       "2                7.2574            352100.0\n",
       "3                5.6431            341300.0\n",
       "4                3.8462            342200.0\n",
       "...                 ...                 ...\n",
       "19670            1.5603             78100.0\n",
       "19671            2.5568             77100.0\n",
       "19672            1.7000             92300.0\n",
       "19673            1.8672             84700.0\n",
       "19674            2.3886             89400.0\n",
       "\n",
       "[19675 rows x 2 columns]"
      ]
     },
     "execution_count": 11,
     "metadata": {},
     "output_type": "execute_result"
    }
   ],
   "source": [
    "housing = housing.reset_index(drop=True)\n",
    "housing.index.name = 'district'\n",
    "housing"
   ]
  },
  {
   "cell_type": "code",
   "execution_count": 12,
   "metadata": {},
   "outputs": [
    {
     "data": {
      "text/html": [
       "<div>\n",
       "<style scoped>\n",
       "    .dataframe tbody tr th:only-of-type {\n",
       "        vertical-align: middle;\n",
       "    }\n",
       "\n",
       "    .dataframe tbody tr th {\n",
       "        vertical-align: top;\n",
       "    }\n",
       "\n",
       "    .dataframe thead th {\n",
       "        text-align: right;\n",
       "    }\n",
       "</style>\n",
       "<table border=\"1\" class=\"dataframe\">\n",
       "  <thead>\n",
       "    <tr style=\"text-align: right;\">\n",
       "      <th></th>\n",
       "      <th>median_income</th>\n",
       "      <th>median_house_value</th>\n",
       "      <th>income_cat</th>\n",
       "    </tr>\n",
       "    <tr>\n",
       "      <th>district</th>\n",
       "      <th></th>\n",
       "      <th></th>\n",
       "      <th></th>\n",
       "    </tr>\n",
       "  </thead>\n",
       "  <tbody>\n",
       "    <tr>\n",
       "      <th>0</th>\n",
       "      <td>8.3252</td>\n",
       "      <td>452600.0</td>\n",
       "      <td>5</td>\n",
       "    </tr>\n",
       "    <tr>\n",
       "      <th>1</th>\n",
       "      <td>8.3014</td>\n",
       "      <td>358500.0</td>\n",
       "      <td>5</td>\n",
       "    </tr>\n",
       "    <tr>\n",
       "      <th>2</th>\n",
       "      <td>7.2574</td>\n",
       "      <td>352100.0</td>\n",
       "      <td>5</td>\n",
       "    </tr>\n",
       "    <tr>\n",
       "      <th>3</th>\n",
       "      <td>5.6431</td>\n",
       "      <td>341300.0</td>\n",
       "      <td>4</td>\n",
       "    </tr>\n",
       "    <tr>\n",
       "      <th>4</th>\n",
       "      <td>3.8462</td>\n",
       "      <td>342200.0</td>\n",
       "      <td>3</td>\n",
       "    </tr>\n",
       "    <tr>\n",
       "      <th>...</th>\n",
       "      <td>...</td>\n",
       "      <td>...</td>\n",
       "      <td>...</td>\n",
       "    </tr>\n",
       "    <tr>\n",
       "      <th>19670</th>\n",
       "      <td>1.5603</td>\n",
       "      <td>78100.0</td>\n",
       "      <td>2</td>\n",
       "    </tr>\n",
       "    <tr>\n",
       "      <th>19671</th>\n",
       "      <td>2.5568</td>\n",
       "      <td>77100.0</td>\n",
       "      <td>2</td>\n",
       "    </tr>\n",
       "    <tr>\n",
       "      <th>19672</th>\n",
       "      <td>1.7000</td>\n",
       "      <td>92300.0</td>\n",
       "      <td>2</td>\n",
       "    </tr>\n",
       "    <tr>\n",
       "      <th>19673</th>\n",
       "      <td>1.8672</td>\n",
       "      <td>84700.0</td>\n",
       "      <td>2</td>\n",
       "    </tr>\n",
       "    <tr>\n",
       "      <th>19674</th>\n",
       "      <td>2.3886</td>\n",
       "      <td>89400.0</td>\n",
       "      <td>2</td>\n",
       "    </tr>\n",
       "  </tbody>\n",
       "</table>\n",
       "<p>19675 rows × 3 columns</p>\n",
       "</div>"
      ],
      "text/plain": [
       "          median_income  median_house_value income_cat\n",
       "district                                              \n",
       "0                8.3252            452600.0          5\n",
       "1                8.3014            358500.0          5\n",
       "2                7.2574            352100.0          5\n",
       "3                5.6431            341300.0          4\n",
       "4                3.8462            342200.0          3\n",
       "...                 ...                 ...        ...\n",
       "19670            1.5603             78100.0          2\n",
       "19671            2.5568             77100.0          2\n",
       "19672            1.7000             92300.0          2\n",
       "19673            1.8672             84700.0          2\n",
       "19674            2.3886             89400.0          2\n",
       "\n",
       "[19675 rows x 3 columns]"
      ]
     },
     "execution_count": 12,
     "metadata": {},
     "output_type": "execute_result"
    }
   ],
   "source": [
    "housing[\"income_cat\"] = pd.cut(housing[\"median_income\"],\n",
    "                               bins=[0., 1.5, 3.0, 4.5, 6., np.inf],\n",
    "                               labels=[1, 2, 3, 4, 5])\n",
    "\n",
    "housing"
   ]
  },
  {
   "cell_type": "markdown",
   "metadata": {
    "id": "8b3EQ3Aw1zbx"
   },
   "source": [
    "위 자료 housing에서 집값의 평균값과 표준편차는 다음과 같다."
   ]
  },
  {
   "cell_type": "markdown",
   "metadata": {},
   "source": [
    "- 평균값"
   ]
  },
  {
   "cell_type": "code",
   "execution_count": 13,
   "metadata": {},
   "outputs": [
    {
     "data": {
      "text/plain": [
       "192477.921017"
      ]
     },
     "execution_count": 13,
     "metadata": {},
     "output_type": "execute_result"
    }
   ],
   "source": [
    "house_value_mean = housing['median_house_value'].mean()\n",
    "house_value_mean"
   ]
  },
  {
   "cell_type": "markdown",
   "metadata": {},
   "source": [
    "- 표준편차"
   ]
  },
  {
   "cell_type": "code",
   "execution_count": 14,
   "metadata": {},
   "outputs": [
    {
     "data": {
      "text/plain": [
       "97709.026443"
      ]
     },
     "execution_count": 14,
     "metadata": {},
     "output_type": "execute_result"
    }
   ],
   "source": [
    "house_value_std = housing.median_house_value.std(ddof=0)\n",
    "house_value_std"
   ]
  },
  {
   "cell_type": "markdown",
   "metadata": {},
   "source": [
    "**집값 대상 가설검정**"
   ]
  },
  {
   "cell_type": "markdown",
   "metadata": {},
   "source": [
    "아래 `testStatistic()`는 모평균과 모분산이 알려져 있는 경우에 주어진 표본의 \n",
    "평균값에 대한 검정통계량과 p-값을 계산한다.\n",
    "\n",
    "- `sample`: 표본\n",
    "- `mu_p`: 모평균\n",
    "- `sigma_p`: 모분산\n",
    "- `alpha=0.05`: 유의수준. 기본값은 5%\n",
    "- `oneTailed=False`: 단측검정 여부. 기본값은 `False`, 즉 양측검정 실행이 기본값.\n",
    "- `lessThan=None`: 단측검정의 경우 검정통계량보다 작은 값이 나올 확률을 p-값으로 계산할지 여부.\n",
    "    즉, `True`이면 왼쪽 꼬리검정 진행, `False`이면 오른쪽 꼬리검정 진행."
   ]
  },
  {
   "cell_type": "code",
   "execution_count": 15,
   "metadata": {},
   "outputs": [],
   "source": [
    "from scipy.stats import norm\n",
    "\n",
    "def testStatistic(sample, mu_p, sigma_p, alpha=0.05, oneTailed=False, lessThan=None):\n",
    "\n",
    "    mu_sample = sample.mean()\n",
    "    n_sample = len(sample)\n",
    "    \n",
    "    z0 = (mu_sample - mu_p) / (sigma_p/np.sqrt(n_sample))\n",
    "    \n",
    "    if oneTailed and lessThan:\n",
    "        p_value = norm.cdf(z0)\n",
    "    elif oneTailed and not lessThan:\n",
    "        p_value = 1 - norm.cdf(z0)\n",
    "    elif not oneTailed and z0 <= 0:\n",
    "        p_value = norm.cdf(z0) * 2\n",
    "    elif not oneTailed and z0 > 0:\n",
    "        p_value = (1 - norm.cdf(z0)) * 2\n",
    "        \n",
    "    return z0, p_value"
   ]
  },
  {
   "cell_type": "markdown",
   "metadata": {},
   "source": [
    "**예제 1: 소득 3구간에서만 표본을 선택하는 경우 (양측검정)**"
   ]
  },
  {
   "cell_type": "markdown",
   "metadata": {},
   "source": [
    "소득 3구간의 중위주택가격과 전체 구역의 중위주택가격이 유사하다."
   ]
  },
  {
   "cell_type": "markdown",
   "metadata": {},
   "source": [
    "- 전체 구역의 중위주택가격"
   ]
  },
  {
   "cell_type": "code",
   "execution_count": 16,
   "metadata": {},
   "outputs": [
    {
     "data": {
      "text/plain": [
       "173800.000000"
      ]
     },
     "execution_count": 16,
     "metadata": {},
     "output_type": "execute_result"
    }
   ],
   "source": [
    "housing.median_house_value.median()"
   ]
  },
  {
   "cell_type": "markdown",
   "metadata": {},
   "source": [
    "- 소득 3구간 구역의 기초 통계"
   ]
  },
  {
   "cell_type": "code",
   "execution_count": 17,
   "metadata": {},
   "outputs": [
    {
     "data": {
      "text/plain": [
       "count      7103.000000\n",
       "mean     193988.680698\n",
       "std       81583.050538\n",
       "min       14999.000000\n",
       "25%      137150.000000\n",
       "50%      178500.000000\n",
       "75%      233800.000000\n",
       "max      500000.000000\n",
       "Name: median_house_value, dtype: float64"
      ]
     },
     "execution_count": 17,
     "metadata": {},
     "output_type": "execute_result"
    }
   ],
   "source": [
    "mask = housing['income_cat'] == 3\n",
    "housing_3Cat = housing.median_house_value[mask]\n",
    "housing_3Cat.describe()"
   ]
  },
  {
   "cell_type": "markdown",
   "metadata": {},
   "source": [
    "질문: 소득 3구간에서 1%의 표본을 선택하여 계산된 평균값이 모평균과 다른가?"
   ]
  },
  {
   "cell_type": "markdown",
   "metadata": {},
   "source": [
    "위 질문에 답하기 위해 먼저 소득 3구간에서 1%의 표본을 무작위로 선택한다."
   ]
  },
  {
   "cell_type": "code",
   "execution_count": 18,
   "metadata": {},
   "outputs": [],
   "source": [
    "sample_3Cat = housing_3Cat.sample(frac=0.01, random_state=43)"
   ]
  },
  {
   "cell_type": "markdown",
   "metadata": {
    "id": "8b3EQ3Aw1zbx"
   },
   "source": [
    "양측검정을 위해 귀무가설과 대립가설을 다음과 같이 설정한다.\n",
    "\n",
    "- 귀무가설 $\\text{H}_0$: `sample_3Cat`에 속한 구역들의 평균 집값이 `house_value_mean`와 같다.\n",
    "- 대립가설 $\\text{H}_0$: `sample_3Cat`에 속한 구역들의 평균 집값이 `house_value_mean` 다르다."
   ]
  },
  {
   "cell_type": "markdown",
   "metadata": {
    "id": "8b3EQ3Aw1zbx"
   },
   "source": [
    "우선 귀무가설이 참이라고 가정한다.\n",
    "그러면 다음이 성립한다.\n",
    "\n",
    "$$\\overline{X} \\sim N(\\mu, \\sigma^2/n)$$\n",
    "\n",
    "$$Z = \\frac{\\overline{X} - \\mu}{\\sigma/\\sqrt{n}}\\sim N(0, 1^2)$$"
   ]
  },
  {
   "cell_type": "markdown",
   "metadata": {},
   "source": [
    "따라서 표본 `sample_3Cat`에 속한 구역의 평균 집값의 검정통계량 $z_0$와 $p$-값은 다음과 같다."
   ]
  },
  {
   "cell_type": "code",
   "execution_count": 19,
   "metadata": {},
   "outputs": [
    {
     "name": "stdout",
     "output_type": "stream",
     "text": [
      "검정통계량: 0.417664\n",
      "p-값:       0.676193\n"
     ]
    }
   ],
   "source": [
    "z0, p_value = testStatistic(sample_3Cat, house_value_mean, house_value_std)\n",
    "\n",
    "print(f\"검정통계량: {z0:.6f}\")\n",
    "print(f\"p-값: {p_value:14.6f}\")"
   ]
  },
  {
   "cell_type": "markdown",
   "metadata": {},
   "source": [
    "검정통계량이 0.417664이다.\n",
    "반면에 유의수준 5%의 상위 임계값은 1.959964이다.\n",
    "즉 계산된 검정통계량보다 크다."
   ]
  },
  {
   "cell_type": "code",
   "execution_count": 20,
   "metadata": {},
   "outputs": [
    {
     "data": {
      "text/plain": [
       "1.959964"
      ]
     },
     "execution_count": 20,
     "metadata": {},
     "output_type": "execute_result"
    }
   ],
   "source": [
    "z_25p = norm.ppf(0.975)\n",
    "z_25p"
   ]
  },
  {
   "cell_type": "markdown",
   "metadata": {},
   "source": [
    "또한 $p$-값이 0.05보다 크다."
   ]
  },
  {
   "cell_type": "markdown",
   "metadata": {},
   "source": [
    "결론:"
   ]
  },
  {
   "cell_type": "markdown",
   "metadata": {},
   "source": [
    "- 양측검정의 기각역은 $\\{ z \\mid z \\le -1.959964 \\; \\text{또는} \\; z \\ge 1.959964 \\}$\n",
    "- 검정통계량 $-1.959964 < z_0 = 0.417664 < 1.959964$ 이므로 기각역에 속하지 않는다.  \n",
    "- 따라서 귀무가설을 기각하지 않는다.\n",
    "- 즉, 소득3분위에 속한 사람들이 산 집값이 평균과 다르다고 볼 수 없다."
   ]
  },
  {
   "cell_type": "markdown",
   "metadata": {},
   "source": [
    "**예제 2: 소득 2구간에서만 표본을 선택하는 경우 (단측검정)**"
   ]
  },
  {
   "cell_type": "markdown",
   "metadata": {},
   "source": [
    "소득 2구간의 중위주택가격은 전체 구역의 중위주택가격보다 훨씬 작다."
   ]
  },
  {
   "cell_type": "markdown",
   "metadata": {},
   "source": [
    "- 소득 2구간 구역의 기초 통계"
   ]
  },
  {
   "cell_type": "code",
   "execution_count": 21,
   "metadata": {},
   "outputs": [
    {
     "data": {
      "text/plain": [
       "count      6552.000000\n",
       "mean     134935.408730\n",
       "std       69001.703453\n",
       "min       14999.000000\n",
       "25%       85675.000000\n",
       "50%      118800.000000\n",
       "75%      166100.000000\n",
       "max      500000.000000\n",
       "Name: median_house_value, dtype: float64"
      ]
     },
     "execution_count": 21,
     "metadata": {},
     "output_type": "execute_result"
    }
   ],
   "source": [
    "mask = housing['income_cat'] == 2\n",
    "housing_2Cat = housing.median_house_value[mask]\n",
    "housing_2Cat.describe()"
   ]
  },
  {
   "cell_type": "markdown",
   "metadata": {},
   "source": [
    "질문: 소득 2구간에서 1%의 표본을 선택하여 계산된 평균값이 모평균 보다 작은가?"
   ]
  },
  {
   "cell_type": "markdown",
   "metadata": {},
   "source": [
    "먼저 소득 2구간에서 1%의 표본을 무작위로 선택한다."
   ]
  },
  {
   "cell_type": "code",
   "execution_count": 22,
   "metadata": {},
   "outputs": [],
   "source": [
    "sample_2Cat = housing_2Cat.sample(frac=0.01, random_state=43)"
   ]
  },
  {
   "cell_type": "markdown",
   "metadata": {
    "id": "8b3EQ3Aw1zbx"
   },
   "source": [
    "단측검정을 위해 귀무가설과 대립가설을 다음과 같이 설정한다.\n",
    "\n",
    "- 귀무가설 $\\text{H}_0$: `sample_2Cat`에 속한 구역들의 평균 집값이 `house_value_mean`와 같다.\n",
    "- 대립가설 $\\text{H}_0$: `sample_2Cat`에 속한 구역들의 평균 집값이 `house_value_mean` 보다 작다."
   ]
  },
  {
   "cell_type": "markdown",
   "metadata": {
    "id": "8b3EQ3Aw1zbx"
   },
   "source": [
    "우선 귀무가설이 참이라고 가정한다.\n",
    "그러면 다음이 성립한다.\n",
    "\n",
    "$$\\overline{X} \\sim N(\\mu, \\sigma^2/n)$$\n",
    "\n",
    "$$Z = \\frac{\\overline{X} - \\mu}{\\sigma/\\sqrt{n}}\\sim N(0, 1^2)$$"
   ]
  },
  {
   "cell_type": "markdown",
   "metadata": {},
   "source": [
    "따라서 표본 `sample_2Cat`에 속한 구역의 평균 집값의 검정통계량 $z_0$와 $p$-값은 다음과 같다."
   ]
  },
  {
   "cell_type": "code",
   "execution_count": 23,
   "metadata": {},
   "outputs": [
    {
     "name": "stdout",
     "output_type": "stream",
     "text": [
      "검정통계량: -4.712372\n",
      "p-값:       0.000001\n"
     ]
    }
   ],
   "source": [
    "z0, p_value = testStatistic(sample_2Cat, house_value_mean, house_value_std, oneTailed=True, lessThan=True)\n",
    "\n",
    "print(f\"검정통계량: {z0:.6f}\")\n",
    "print(f\"p-값: {p_value:14.6f}\")"
   ]
  },
  {
   "cell_type": "markdown",
   "metadata": {},
   "source": [
    "검정통계량이 -4.712372이다.\n",
    "반면에 유의수준 5% 임계값은 -1.644854이다.\n",
    "즉 계산된 검정통계량보다 작다."
   ]
  },
  {
   "cell_type": "code",
   "execution_count": 24,
   "metadata": {},
   "outputs": [
    {
     "data": {
      "text/plain": [
       "-1.644854"
      ]
     },
     "execution_count": 24,
     "metadata": {},
     "output_type": "execute_result"
    }
   ],
   "source": [
    "z_m5p = norm.ppf(0.05)\n",
    "z_m5p"
   ]
  },
  {
   "cell_type": "markdown",
   "metadata": {},
   "source": [
    "또한 $p$-값이 0.05보다 작다."
   ]
  },
  {
   "cell_type": "markdown",
   "metadata": {},
   "source": [
    "결론:"
   ]
  },
  {
   "cell_type": "markdown",
   "metadata": {},
   "source": [
    "- 왼쪽 꼬리 단측검정의 기각역은 $\\{ z \\mid z \\le -1.644854 \\}$\n",
    "- 검정통계량 $z_0 = -4.712372 < -1.644854$ 이므로 기각역에 속한다.  \n",
    "- 따라서 귀무가설을 기각한다.\n",
    "- 즉, 소득 2구간에 속한 사람들이 산 집값이 평균과 다르다고 볼 수 있다."
   ]
  },
  {
   "cell_type": "markdown",
   "metadata": {},
   "source": [
    "**예제 3: 선택 편향 방지**"
   ]
  },
  {
   "cell_type": "markdown",
   "metadata": {},
   "source": [
    "표본을 선택할 때 특정 소득 구간에 속하는 데이터만을 대상으로 하는 경우\n",
    "가설검정 결과가 상이하게 나올 수 있음을 이전 두 예제가 보여줬다.\n",
    "이는 표본 선택에 오류가 있음을 의미하며,\n",
    "이런 오류를 **선택 편향**<font size='2'>selection bias</font>라 한다.\n",
    "선택 편향이 발생하지 않도록 표본을 선택하는 일이 매우 중요하다.\n",
    "\n",
    "선택 편향을 피하기 위해 일반적으로 모집단에서 무작위로 샘플을 선택한다.\n",
    "아래 코드는 전체 데이터셋에서 1% 크기의 표본을 무작위로 선택한다."
   ]
  },
  {
   "cell_type": "code",
   "execution_count": 25,
   "metadata": {},
   "outputs": [],
   "source": [
    "sample_general = housing.median_house_value.sample(frac=0.01, random_state=43)"
   ]
  },
  {
   "cell_type": "markdown",
   "metadata": {},
   "source": [
    "표본의 중위주택가격 전체 구역의 중위주택가격 보다 조금 크다."
   ]
  },
  {
   "cell_type": "code",
   "execution_count": 26,
   "metadata": {},
   "outputs": [
    {
     "data": {
      "text/plain": [
       "count       197.000000\n",
       "mean     201719.796954\n",
       "std       97015.201123\n",
       "min       36600.000000\n",
       "25%      126100.000000\n",
       "50%      180400.000000\n",
       "75%      266500.000000\n",
       "max      455300.000000\n",
       "Name: median_house_value, dtype: float64"
      ]
     },
     "execution_count": 26,
     "metadata": {},
     "output_type": "execute_result"
    }
   ],
   "source": [
    "sample_general.describe()"
   ]
  },
  {
   "cell_type": "markdown",
   "metadata": {
    "id": "8b3EQ3Aw1zbx"
   },
   "source": [
    "오른쪽 꼬리 단측검정을 위해 귀무가설과 대립가설을 다음과 같이 설정한다.\n",
    "\n",
    "- 귀무가설 $\\text{H}_0$: `sample_2Cat`에 속한 구역들의 평균 집값이 `house_value_mean`와 같다.\n",
    "- 대립가설 $\\text{H}_0$: `sample_2Cat`에 속한 구역들의 평균 집값이 `house_value_mean` 보다 크다."
   ]
  },
  {
   "cell_type": "markdown",
   "metadata": {
    "id": "8b3EQ3Aw1zbx"
   },
   "source": [
    "우선 귀무가설이 참이라고 가정한다.\n",
    "그러면 다음이 성립한다.\n",
    "\n",
    "$$\\overline{X} \\sim N(\\mu, \\sigma^2/n)$$\n",
    "\n",
    "$$Z = \\frac{\\overline{X} - \\mu}{\\sigma/\\sqrt{n}}\\sim N(0, 1^2)$$"
   ]
  },
  {
   "cell_type": "markdown",
   "metadata": {},
   "source": [
    "따라서 표본 `sample_general`에 속한 구역의 평균 집값의 검정통계량 $z_0$와 $p$-값은 다음과 같다."
   ]
  },
  {
   "cell_type": "code",
   "execution_count": 27,
   "metadata": {},
   "outputs": [
    {
     "name": "stdout",
     "output_type": "stream",
     "text": [
      "검정통계량: 1.327573\n",
      "p-값:       0.092160\n"
     ]
    }
   ],
   "source": [
    "z0, p_value = testStatistic(sample_general, house_value_mean, house_value_std, oneTailed=True, lessThan=False)\n",
    "\n",
    "print(f\"검정통계량: {z0:.6f}\")\n",
    "print(f\"p-값: {p_value:14.6f}\")"
   ]
  },
  {
   "cell_type": "markdown",
   "metadata": {},
   "source": [
    "검정통계량이 1.327573이다.\n",
    "반면에 유의수준 5% 임계값은 1.644854이다.\n",
    "즉 계산된 검정통계량보다 작다."
   ]
  },
  {
   "cell_type": "code",
   "execution_count": 28,
   "metadata": {},
   "outputs": [
    {
     "data": {
      "text/plain": [
       "1.644854"
      ]
     },
     "execution_count": 28,
     "metadata": {},
     "output_type": "execute_result"
    }
   ],
   "source": [
    "z_5p = norm.ppf(0.95)\n",
    "z_5p"
   ]
  },
  {
   "cell_type": "markdown",
   "metadata": {},
   "source": [
    "또한 $p$-값이 0.05보다 크다."
   ]
  },
  {
   "cell_type": "markdown",
   "metadata": {},
   "source": [
    "결론:"
   ]
  },
  {
   "cell_type": "markdown",
   "metadata": {},
   "source": [
    "- 오른쪽 꼬리검정의 기각역은 $\\{ z \\mid z \\ge 1.644854 \\}$\n",
    "- 검정통계량 $z_0 = 1.327573 < 1.644854$ 이므로 기각역에 속하지 않는다.  \n",
    "- 따라서 귀무가설을 기각할 수 없다.\n",
    "- 즉, 표본 평균이 전체 평균 집값 보다 크다고 볼 수 있다."
   ]
  },
  {
   "cell_type": "markdown",
   "metadata": {},
   "source": [
    "**예제 4: 층화표집 활용**"
   ]
  },
  {
   "cell_type": "markdown",
   "metadata": {},
   "source": [
    "선택 편향의 위험성을 보다 줄이기 위해 층화표집을 활용한다.\n",
    "아래 코드는 전체 데이터셋에서 1% 크기의 표본을 층화표집 기법으로 선택한다.\n"
   ]
  },
  {
   "cell_type": "code",
   "execution_count": 29,
   "metadata": {},
   "outputs": [
    {
     "data": {
      "text/html": [
       "<div>\n",
       "<style scoped>\n",
       "    .dataframe tbody tr th:only-of-type {\n",
       "        vertical-align: middle;\n",
       "    }\n",
       "\n",
       "    .dataframe tbody tr th {\n",
       "        vertical-align: top;\n",
       "    }\n",
       "\n",
       "    .dataframe thead th {\n",
       "        text-align: right;\n",
       "    }\n",
       "</style>\n",
       "<table border=\"1\" class=\"dataframe\">\n",
       "  <thead>\n",
       "    <tr style=\"text-align: right;\">\n",
       "      <th></th>\n",
       "      <th>income_cat</th>\n",
       "      <th>median_income</th>\n",
       "      <th>median_house_value</th>\n",
       "    </tr>\n",
       "    <tr>\n",
       "      <th>district</th>\n",
       "      <th></th>\n",
       "      <th></th>\n",
       "      <th></th>\n",
       "    </tr>\n",
       "  </thead>\n",
       "  <tbody>\n",
       "    <tr>\n",
       "      <th>4388</th>\n",
       "      <td>1</td>\n",
       "      <td>1.1868</td>\n",
       "      <td>93800.0</td>\n",
       "    </tr>\n",
       "    <tr>\n",
       "      <th>13310</th>\n",
       "      <td>1</td>\n",
       "      <td>1.3811</td>\n",
       "      <td>51300.0</td>\n",
       "    </tr>\n",
       "    <tr>\n",
       "      <th>3262</th>\n",
       "      <td>1</td>\n",
       "      <td>1.1650</td>\n",
       "      <td>53300.0</td>\n",
       "    </tr>\n",
       "    <tr>\n",
       "      <th>4752</th>\n",
       "      <td>1</td>\n",
       "      <td>0.9234</td>\n",
       "      <td>187500.0</td>\n",
       "    </tr>\n",
       "    <tr>\n",
       "      <th>12210</th>\n",
       "      <td>1</td>\n",
       "      <td>1.4861</td>\n",
       "      <td>63100.0</td>\n",
       "    </tr>\n",
       "    <tr>\n",
       "      <th>...</th>\n",
       "      <td>...</td>\n",
       "      <td>...</td>\n",
       "      <td>...</td>\n",
       "    </tr>\n",
       "    <tr>\n",
       "      <th>1334</th>\n",
       "      <td>5</td>\n",
       "      <td>6.0497</td>\n",
       "      <td>177500.0</td>\n",
       "    </tr>\n",
       "    <tr>\n",
       "      <th>10235</th>\n",
       "      <td>5</td>\n",
       "      <td>7.8496</td>\n",
       "      <td>490800.0</td>\n",
       "    </tr>\n",
       "    <tr>\n",
       "      <th>3986</th>\n",
       "      <td>5</td>\n",
       "      <td>6.1274</td>\n",
       "      <td>315900.0</td>\n",
       "    </tr>\n",
       "    <tr>\n",
       "      <th>8559</th>\n",
       "      <td>5</td>\n",
       "      <td>6.4310</td>\n",
       "      <td>492500.0</td>\n",
       "    </tr>\n",
       "    <tr>\n",
       "      <th>8728</th>\n",
       "      <td>5</td>\n",
       "      <td>7.6059</td>\n",
       "      <td>323700.0</td>\n",
       "    </tr>\n",
       "  </tbody>\n",
       "</table>\n",
       "<p>197 rows × 3 columns</p>\n",
       "</div>"
      ],
      "text/plain": [
       "         income_cat  median_income  median_house_value\n",
       "district                                              \n",
       "4388              1         1.1868             93800.0\n",
       "13310             1         1.3811             51300.0\n",
       "3262              1         1.1650             53300.0\n",
       "4752              1         0.9234            187500.0\n",
       "12210             1         1.4861             63100.0\n",
       "...             ...            ...                 ...\n",
       "1334              5         6.0497            177500.0\n",
       "10235             5         7.8496            490800.0\n",
       "3986              5         6.1274            315900.0\n",
       "8559              5         6.4310            492500.0\n",
       "8728              5         7.6059            323700.0\n",
       "\n",
       "[197 rows x 3 columns]"
      ]
     },
     "execution_count": 29,
     "metadata": {},
     "output_type": "execute_result"
    }
   ],
   "source": [
    "stratification = housing.groupby('income_cat', observed=True, group_keys=True)\n",
    "stratified_sampling = stratification.apply(lambda y:y.sample(frac=0.01, random_state=42), include_groups=False)\n",
    "stratified_sampling = stratified_sampling.reset_index(level=0)\n",
    "stratified_sampling"
   ]
  },
  {
   "cell_type": "code",
   "execution_count": 30,
   "metadata": {},
   "outputs": [],
   "source": [
    "sample_stratified = stratified_sampling.median_house_value"
   ]
  },
  {
   "cell_type": "markdown",
   "metadata": {},
   "source": [
    "표본의 중위주택가격이 전체 구역의 중위주택가격 보다 조금 작다."
   ]
  },
  {
   "cell_type": "code",
   "execution_count": 31,
   "metadata": {},
   "outputs": [
    {
     "data": {
      "text/plain": [
       "count       197.000000\n",
       "mean     186095.939086\n",
       "std       97399.417945\n",
       "min       40000.000000\n",
       "25%      115800.000000\n",
       "50%      162200.000000\n",
       "75%      234800.000000\n",
       "max      496000.000000\n",
       "Name: median_house_value, dtype: float64"
      ]
     },
     "execution_count": 31,
     "metadata": {},
     "output_type": "execute_result"
    }
   ],
   "source": [
    "sample_stratified.describe()"
   ]
  },
  {
   "cell_type": "markdown",
   "metadata": {
    "id": "8b3EQ3Aw1zbx"
   },
   "source": [
    "왼쪽 꼬리 단측검정을 위해 귀무가설과 대립가설을 다음과 같이 설정한다.\n",
    "\n",
    "- 귀무가설 $\\text{H}_0$: `sample_2Cat`에 속한 구역들의 평균 집값이 `house_value_mean`와 같다.\n",
    "- 대립가설 $\\text{H}_0$: `sample_2Cat`에 속한 구역들의 평균 집값이 `house_value_mean` 보다 작다."
   ]
  },
  {
   "cell_type": "markdown",
   "metadata": {
    "id": "8b3EQ3Aw1zbx"
   },
   "source": [
    "우선 귀무가설이 참이라고 가정한다.\n",
    "그러면 다음이 성립한다.\n",
    "\n",
    "$$\\overline{X} \\sim N(\\mu, \\sigma^2/n)$$\n",
    "\n",
    "$$Z = \\frac{\\overline{X} - \\mu}{\\sigma/\\sqrt{n}}\\sim N(0, 1^2)$$"
   ]
  },
  {
   "cell_type": "markdown",
   "metadata": {},
   "source": [
    "따라서 표본 `sample_general`에 속한 구역의 평균 집값의 검정통계량 $z_0$와 $p$-값은 다음과 같다."
   ]
  },
  {
   "cell_type": "code",
   "execution_count": 32,
   "metadata": {},
   "outputs": [
    {
     "name": "stdout",
     "output_type": "stream",
     "text": [
      "검정통계량: -0.916756\n",
      "p-값:       0.179635\n"
     ]
    }
   ],
   "source": [
    "z0, p_value = testStatistic(sample_stratified, house_value_mean, house_value_std, oneTailed=True, lessThan=True)\n",
    "\n",
    "print(f\"검정통계량: {z0:.6f}\")\n",
    "print(f\"p-값: {p_value:14.6f}\")"
   ]
  },
  {
   "cell_type": "markdown",
   "metadata": {},
   "source": [
    "검정통계량이 -0.916756이다.\n",
    "반면에 유의수준 5% 임계값은 -1.644854이다.\n",
    "즉 계산된 검정통계량보다 크다."
   ]
  },
  {
   "cell_type": "code",
   "execution_count": 33,
   "metadata": {},
   "outputs": [
    {
     "data": {
      "text/plain": [
       "-1.644854"
      ]
     },
     "execution_count": 33,
     "metadata": {},
     "output_type": "execute_result"
    }
   ],
   "source": [
    "z_5p = norm.ppf(0.05)\n",
    "z_5p"
   ]
  },
  {
   "cell_type": "markdown",
   "metadata": {},
   "source": [
    "또한 $p$-값이 0.05보다 크다."
   ]
  },
  {
   "cell_type": "markdown",
   "metadata": {},
   "source": [
    "결론:"
   ]
  },
  {
   "cell_type": "markdown",
   "metadata": {},
   "source": [
    "- 왼쪽 꼬리검정의 기각역은 $\\{ z \\mid z \\le -1.644854 \\}$\n",
    "- 검정통계량 $z_0 = -0.916756 > -1.644854$ 이므로 기각역에 속하지 않는다.  \n",
    "- 따라서 귀무가설을 기각할 수 없다.\n",
    "- 즉, 표본 평균이 전체 평균 집값 보다 작다고 볼 수 있다."
   ]
  }
 ],
 "metadata": {
  "colab": {
   "provenance": []
  },
  "kernelspec": {
   "display_name": "Python 3 (ipykernel)",
   "language": "python",
   "name": "python3"
  },
  "language_info": {
   "codemirror_mode": {
    "name": "ipython",
    "version": 3
   },
   "file_extension": ".py",
   "mimetype": "text/x-python",
   "name": "python",
   "nbconvert_exporter": "python",
   "pygments_lexer": "ipython3",
   "version": "3.12.2"
  }
 },
 "nbformat": 4,
 "nbformat_minor": 1
}
