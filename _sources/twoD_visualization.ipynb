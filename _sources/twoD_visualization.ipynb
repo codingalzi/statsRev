{
 "cells": [
  {
   "cell_type": "markdown",
   "metadata": {
    "id": "-JhEIOvhy2Z9"
   },
   "source": [
    "# 2차원 데이터 시각화"
   ]
  },
  {
   "cell_type": "markdown",
   "metadata": {
    "id": "CtdwSDm_y2aC"
   },
   "source": [
    "2차원 데이터를 시각화하는 다양한 방식을 소개하고, 이를 선형 회귀 문제를 푸는데 적용시켜 본다.\n",
    "이전 장에서 다룬 산점도를 포함하여 2차원 히스토그램에 해당하는 히트맵, `Subplot`을 통해 여러 장의 그림을 동시에 시각화하는 방법을 다룬다."
   ]
  },
  {
   "cell_type": "markdown",
   "metadata": {
    "id": "Y_iWUoeyy2Z-"
   },
   "source": [
    "**기본 설정**"
   ]
  },
  {
   "cell_type": "markdown",
   "metadata": {
    "ExecuteTime": {
     "end_time": "2018-08-03T08:26:15.690793Z",
     "start_time": "2018-08-03T08:26:15.507201Z"
    },
    "id": "5aQQDDnJy2Z-"
   },
   "source": [
    "`numpy`와 `pandas` 라이브러리를 각각 `np`와 `pd`로 불러온다."
   ]
  },
  {
   "cell_type": "code",
   "execution_count": 1,
   "metadata": {
    "ExecuteTime": {
     "end_time": "2018-08-14T06:43:30.149227Z",
     "start_time": "2018-08-14T06:43:29.960007Z"
    },
    "id": "b1_ax_56y2Z_"
   },
   "outputs": [],
   "source": [
    "import numpy as np\n",
    "import pandas as pd"
   ]
  },
  {
   "cell_type": "markdown",
   "metadata": {
    "id": "h9I758Lfy2Z_"
   },
   "source": [
    "데이터프레임의 [chained indexing을 금지시키기 위한 설정](https://pandas.pydata.org/pandas-docs/stable/user_guide/indexing.html#returning-a-view-versus-a-copy)을 지정한다.\n",
    "Pandas 3.0 버전부터는 기본 옵션으로 지정된다."
   ]
  },
  {
   "cell_type": "code",
   "execution_count": 2,
   "metadata": {
    "id": "esWqfouWy2aA"
   },
   "outputs": [],
   "source": [
    "pd.options.mode.copy_on_write = True"
   ]
  },
  {
   "cell_type": "markdown",
   "metadata": {
    "ExecuteTime": {
     "end_time": "2018-08-14T06:43:30.149227Z",
     "start_time": "2018-08-14T06:43:29.960007Z"
    },
    "id": "LF5E8i45y2aA"
   },
   "source": [
    "주피터 노트북에서 부동소수점의 출력을 소수점 이하 6자리로 제한한다.\n",
    "아래 코드는 주피터 노트북에서만 사용하며 일반적인 파이썬 코드가 아니다."
   ]
  },
  {
   "cell_type": "code",
   "execution_count": 3,
   "metadata": {
    "ExecuteTime": {
     "end_time": "2018-08-14T06:43:30.149227Z",
     "start_time": "2018-08-14T06:43:29.960007Z"
    },
    "colab": {
     "base_uri": "https://localhost:8080/",
     "height": 35
    },
    "executionInfo": {
     "elapsed": 4,
     "status": "ok",
     "timestamp": 1752281562272,
     "user": {
      "displayName": "ter wa",
      "userId": "01448980402448893441"
     },
     "user_tz": -540
    },
    "id": "1zmGSeuYy2aA",
    "outputId": "776173f2-e0ba-47c6-d2e5-eb01a32406a6"
   },
   "outputs": [
    {
     "data": {
      "text/plain": [
       "'%.6f'"
      ]
     },
     "execution_count": 3,
     "metadata": {},
     "output_type": "execute_result"
    }
   ],
   "source": [
    "%precision 6"
   ]
  },
  {
   "cell_type": "markdown",
   "metadata": {
    "ExecuteTime": {
     "end_time": "2018-08-14T06:43:30.149227Z",
     "start_time": "2018-08-14T06:43:29.960007Z"
    },
    "id": "10cKZBliy2aB"
   },
   "source": [
    "아래 코드는 데이터프레임 내에서 부동소수점의 출력을 소수점 이하 6자리로 제한한다."
   ]
  },
  {
   "cell_type": "code",
   "execution_count": 4,
   "metadata": {
    "ExecuteTime": {
     "end_time": "2018-08-14T06:43:30.149227Z",
     "start_time": "2018-08-14T06:43:29.960007Z"
    },
    "id": "vjx1IP__y2aB"
   },
   "outputs": [],
   "source": [
    "pd.set_option('display.precision', 6)"
   ]
  },
  {
   "cell_type": "markdown",
   "metadata": {
    "id": "ZVVDcBm2y2aB"
   },
   "source": [
    "데이터 시각화를 위해 `matplotlib.pyplot`를 `plt`라는 별칭으로 불러온다."
   ]
  },
  {
   "cell_type": "code",
   "execution_count": 5,
   "metadata": {
    "id": "C4mK2HOXy2aB"
   },
   "outputs": [],
   "source": [
    "import matplotlib.pyplot as plt"
   ]
  },
  {
   "cell_type": "markdown",
   "metadata": {
    "id": "Rl4ys7vvy2aB"
   },
   "source": [
    "코드에 사용되는 [데이터 저장소의 기본 디렉토리](https://github.com/codingalzi/DataSci/tree/master/data)를 지정한다."
   ]
  },
  {
   "cell_type": "code",
   "execution_count": 6,
   "metadata": {
    "id": "rI7c5BRQy2aB"
   },
   "outputs": [],
   "source": [
    "data_url = 'https://raw.githubusercontent.com/codingalzi/statsRev/refs/heads/master/data/'"
   ]
  },
  {
   "cell_type": "markdown",
   "metadata": {
    "id": "bYccSNMhy2aC"
   },
   "source": [
    "## 서브플롯 관리"
   ]
  },
  {
   "cell_type": "markdown",
   "metadata": {},
   "source": [
    "182 개 국가의 2015년과 2020년의 1인당 국민총생산(GDP) 정보를 담고 있는 csv 파일을 데이터프레임으로 불러온다.\n",
    "이때 국가명을 인덱스로 지정하며 단위는 미국 달러다."
   ]
  },
  {
   "cell_type": "code",
   "execution_count": 7,
   "metadata": {},
   "outputs": [
    {
     "data": {
      "text/html": [
       "<div>\n",
       "<style scoped>\n",
       "    .dataframe tbody tr th:only-of-type {\n",
       "        vertical-align: middle;\n",
       "    }\n",
       "\n",
       "    .dataframe tbody tr th {\n",
       "        vertical-align: top;\n",
       "    }\n",
       "\n",
       "    .dataframe thead th {\n",
       "        text-align: right;\n",
       "    }\n",
       "</style>\n",
       "<table border=\"1\" class=\"dataframe\">\n",
       "  <thead>\n",
       "    <tr style=\"text-align: right;\">\n",
       "      <th></th>\n",
       "      <th>2015</th>\n",
       "      <th>2020</th>\n",
       "    </tr>\n",
       "    <tr>\n",
       "      <th>Country</th>\n",
       "      <th></th>\n",
       "      <th></th>\n",
       "    </tr>\n",
       "  </thead>\n",
       "  <tbody>\n",
       "    <tr>\n",
       "      <th>Afghanistan</th>\n",
       "      <td>599.994</td>\n",
       "      <td>499.441</td>\n",
       "    </tr>\n",
       "    <tr>\n",
       "      <th>Albania</th>\n",
       "      <td>3995.383</td>\n",
       "      <td>4898.280</td>\n",
       "    </tr>\n",
       "    <tr>\n",
       "      <th>Algeria</th>\n",
       "      <td>4318.135</td>\n",
       "      <td>3331.080</td>\n",
       "    </tr>\n",
       "    <tr>\n",
       "      <th>Angola</th>\n",
       "      <td>4100.315</td>\n",
       "      <td>2021.310</td>\n",
       "    </tr>\n",
       "    <tr>\n",
       "      <th>Antigua and Barbuda</th>\n",
       "      <td>14414.302</td>\n",
       "      <td>14158.570</td>\n",
       "    </tr>\n",
       "    <tr>\n",
       "      <th>...</th>\n",
       "      <td>...</td>\n",
       "      <td>...</td>\n",
       "    </tr>\n",
       "    <tr>\n",
       "      <th>Venezuela</th>\n",
       "      <td>7744.746</td>\n",
       "      <td>1739.110</td>\n",
       "    </tr>\n",
       "    <tr>\n",
       "      <th>Vietnam</th>\n",
       "      <td>2088.344</td>\n",
       "      <td>3497.510</td>\n",
       "    </tr>\n",
       "    <tr>\n",
       "      <th>Yemen</th>\n",
       "      <td>1302.940</td>\n",
       "      <td>645.126</td>\n",
       "    </tr>\n",
       "    <tr>\n",
       "      <th>Zambia</th>\n",
       "      <td>1350.151</td>\n",
       "      <td>1001.440</td>\n",
       "    </tr>\n",
       "    <tr>\n",
       "      <th>Zimbabwe</th>\n",
       "      <td>1064.350</td>\n",
       "      <td>921.847</td>\n",
       "    </tr>\n",
       "  </tbody>\n",
       "</table>\n",
       "<p>182 rows × 2 columns</p>\n",
       "</div>"
      ],
      "text/plain": [
       "                          2015       2020\n",
       "Country                                  \n",
       "Afghanistan            599.994    499.441\n",
       "Albania               3995.383   4898.280\n",
       "Algeria               4318.135   3331.080\n",
       "Angola                4100.315   2021.310\n",
       "Antigua and Barbuda  14414.302  14158.570\n",
       "...                        ...        ...\n",
       "Venezuela             7744.746   1739.110\n",
       "Vietnam               2088.344   3497.510\n",
       "Yemen                 1302.940    645.126\n",
       "Zambia                1350.151   1001.440\n",
       "Zimbabwe              1064.350    921.847\n",
       "\n",
       "[182 rows x 2 columns]"
      ]
     },
     "execution_count": 7,
     "metadata": {},
     "output_type": "execute_result"
    }
   ],
   "source": [
    "gdpPerCapita_2015_2020 = pd.read_csv(data_url + \"gdpPerCapita_2015_2020.csv\", index_col='Country')\n",
    "gdpPerCapita_2015_2020"
   ]
  },
  {
   "cell_type": "markdown",
   "metadata": {},
   "source": [
    "먼저 2015년 데이터와 2020년 데이터를 나눠 넘파이 어레이로 지정한다."
   ]
  },
  {
   "cell_type": "code",
   "execution_count": 8,
   "metadata": {
    "id": "57jAFq-Ay2aC"
   },
   "outputs": [],
   "source": [
    "gdp_per_capita_2015 = np.array(gdpPerCapita_2015_2020['2015'])\n",
    "gdp_per_capita_2020 = np.array(gdpPerCapita_2015_2020['2020'])"
   ]
  },
  {
   "cell_type": "markdown",
   "metadata": {
    "id": "pK_RFa90y2aC"
   },
   "source": [
    "아래는 동일한 산점도를 그리는 두 개의 코드이다.\n",
    "\n",
    "첫 번째 코드는 앞 장에서 소개한 방식, 즉 matplotlib 라이브러리의 scatter() 함수를 이용해 그리는 방식이고, 두 번째 코드는 `Figure` 객체를 생성해서 서브플롯`subplot`을 추가하는 방식이다. 하나의 그림을 그릴 때는 첫 번째 방식이 간편하지만, 여러 개의 그림을 원하는 모양과 크기로 배치해 한번에 그리는 등 복잡한 시각화를 위해서는 서브플롯을 사용하는 두 번째 방식이 훨씬 효율적이다."
   ]
  },
  {
   "cell_type": "markdown",
   "metadata": {},
   "source": [
    "보다 간단한 설명을 위해 전체 182 개 국가의 10%인 18개 국가를 무작위로 선택하여 해당 국가의 데이터만 이용한다."
   ]
  },
  {
   "cell_type": "code",
   "execution_count": 9,
   "metadata": {},
   "outputs": [],
   "source": [
    "sample_country = gdpPerCapita_2015_2020.sample(frac=0.1, random_state=10)"
   ]
  },
  {
   "cell_type": "markdown",
   "metadata": {},
   "source": [
    "선택된 18개 국가의 목록은 다음과 같다."
   ]
  },
  {
   "cell_type": "code",
   "execution_count": 10,
   "metadata": {},
   "outputs": [
    {
     "data": {
      "text/plain": [
       "Index(['Solomon Islands', 'Saudi Arabia', 'Honduras', 'Zambia', 'Iceland',\n",
       "       'Uruguay', 'Marshall Islands', 'The Bahamas',\n",
       "       'St. Vincent and the Grenadines', 'Mozambique', 'Dominican Republic',\n",
       "       'Bosnia and Herzegovina', 'Estonia', 'Ghana', 'Haiti', 'Morocco',\n",
       "       'Malaysia', 'Israel'],\n",
       "      dtype='object', name='Country')"
      ]
     },
     "execution_count": 10,
     "metadata": {},
     "output_type": "execute_result"
    }
   ],
   "source": [
    "sample_index = sample_country.index\n",
    "sample_index"
   ]
  },
  {
   "cell_type": "markdown",
   "metadata": {},
   "source": [
    "아래 코드는 선택된 18개 국가의 2015년 데이터와 2020년 데이터를 분리하여 넘파이 어레이로 지정한다."
   ]
  },
  {
   "cell_type": "code",
   "execution_count": 11,
   "metadata": {
    "id": "57jAFq-Ay2aC"
   },
   "outputs": [],
   "source": [
    "sample_2015 = np.array(gdpPerCapita_2015_2020.loc[sample_index, '2015'])\n",
    "sample_2020 = np.array(gdpPerCapita_2015_2020.loc[sample_index, '2020'])"
   ]
  },
  {
   "cell_type": "markdown",
   "metadata": {
    "id": "C2Khe_Uay2aC"
   },
   "source": [
    "**그래프 코드 1**"
   ]
  },
  {
   "cell_type": "markdown",
   "metadata": {},
   "source": [
    "아래 그래프는 18개 국가의 2015년 1인당 GDP와 2020년 1인당 GDP 사이의 관계를 산점도로 그린다."
   ]
  },
  {
   "cell_type": "code",
   "execution_count": 12,
   "metadata": {
    "colab": {
     "base_uri": "https://localhost:8080/",
     "height": 470
    },
    "executionInfo": {
     "elapsed": 255,
     "status": "ok",
     "timestamp": 1752281562843,
     "user": {
      "displayName": "ter wa",
      "userId": "01448980402448893441"
     },
     "user_tz": -540
    },
    "id": "ZMbHn6SPy2aC",
    "outputId": "4c25c42e-226a-4abb-9a99-02ad65840f09"
   },
   "outputs": [
    {
     "data": {
      "image/png": "[encoded data removed]",
      "text/plain": [
       "<Figure size 600x500 with 1 Axes>"
      ]
     },
     "metadata": {},
     "output_type": "display_data"
    }
   ],
   "source": [
    "# 산점도 그리기\n",
    "plt.rc('figure', figsize=(6, 5))\n",
    "plt.scatter(sample_2015, sample_2020)\n",
    "\n",
    "# 축 이름 지정\n",
    "plt.xlabel('2015')\n",
    "plt.ylabel('2020')\n",
    "\n",
    "# 준비된 모든 그래프 한꺼번에 보여주기\n",
    "plt.show()"
   ]
  },
  {
   "cell_type": "markdown",
   "metadata": {
    "id": "C2Khe_Uay2aC"
   },
   "source": [
    "**그래프 코드 2**"
   ]
  },
  {
   "cell_type": "markdown",
   "metadata": {
    "id": "bW3JYr9ky2aC"
   },
   "source": [
    "반면에 아래 코드는 다른 방식으로 동일한 산점도를 그린다."
   ]
  },
  {
   "cell_type": "code",
   "execution_count": 13,
   "metadata": {
    "colab": {
     "base_uri": "https://localhost:8080/",
     "height": 470
    },
    "executionInfo": {
     "elapsed": 173,
     "status": "ok",
     "timestamp": 1752281563015,
     "user": {
      "displayName": "ter wa",
      "userId": "01448980402448893441"
     },
     "user_tz": -540
    },
    "id": "wr1w23OOy2aD",
    "outputId": "023462b7-8aa5-4217-db0e-328e3618281f"
   },
   "outputs": [
    {
     "data": {
      "image/png": "[encoded data removed]",
      "text/plain": [
       "<Figure size 600x500 with 1 Axes>"
      ]
     },
     "metadata": {},
     "output_type": "display_data"
    }
   ],
   "source": [
    "# Figure 객체 지정\n",
    "fig = plt.figure(figsize=(6,5))\n",
    "ax = fig.add_subplot(1, 1, 1)\n",
    "\n",
    "# 산점도 그리기\n",
    "ax.scatter(sample_2015, sample_2020)\n",
    "ax.set_xlabel('2015')\n",
    "ax.set_ylabel('2020')\n",
    "\n",
    "# 준비된 모든 그래프 한꺼번에 보여주기\n",
    "plt.show()"
   ]
  },
  {
   "cell_type": "markdown",
   "metadata": {
    "id": "tOFAmKzuy2aD"
   },
   "source": [
    "두 그래프 코드의 차이점은 `Figure` 객체와 서브플롯의 활용에 있다."
   ]
  },
  {
   "cell_type": "markdown",
   "metadata": {
    "id": "cAJ8M2E8y2aD"
   },
   "source": [
    "**`Figure` 객체**"
   ]
  },
  {
   "cell_type": "markdown",
   "metadata": {
    "id": "6ulC7-rcy2aD"
   },
   "source": [
    "`Figure` 객체는 아래 코드로 생성한다. 생성된 객체는 그림 액자의 기능을 수행한다.\n",
    "\n",
    "```python\n",
    "fig = plt.figure(figsize=(6,5))\n",
    "```\n",
    "\n",
    "위 코드에서 `figsize=(6,5)`는 생성되는 그래프의 크기를 지정한다.\n",
    "이렇게 하면 앞서 아래 방식으로 지정된 그래프의 크기는 무시된다.\n",
    "\n",
    "```python\n",
    "plt.rc('figure', figsize=(6, 5))\n",
    "```"
   ]
  },
  {
   "cell_type": "markdown",
   "metadata": {
    "id": "vL1Q4a7fy2aD"
   },
   "source": [
    "<p><div align=\"center\"><img src=\"https://github.com/codingalzi/DataSci/blob/master/jupyter-book/images/figures.png?raw=true\" style=\"width:500px\"></div></p>\n",
    "\n",
    "<p style='text-align:center;'>그림 출처: <a href='https://velog.io/@regista/Matplotlib에서-Figure와-Axes-이해하기-Basic'>Matplotlib에서 Figure와 Axes 이해하기</a></p>"
   ]
  },
  {
   "cell_type": "markdown",
   "metadata": {
    "id": "FtUaZvIVy2aD"
   },
   "source": [
    "**서브플롯 추가**"
   ]
  },
  {
   "cell_type": "markdown",
   "metadata": {
    "id": "cTBFgvpJy2aD"
   },
   "source": [
    "서브플롯<font size='2'>subplot</font>은 그래프를 그릴 때 필요한 도화지에 해당한다.\n",
    "아래 코드는 준비된 `Figure` 객체에 하나의 서브플롯을 추가한다.\n",
    "\n",
    "```python\n",
    "ax = fig.add_subplot(1, 1, 1)\n",
    "```"
   ]
  },
  {
   "cell_type": "markdown",
   "metadata": {
    "id": "bZodrroFy2aD"
   },
   "source": [
    "위 코드는 다음과 같이 액자에 한 장의 도화지를 준비한 것과 동일하다."
   ]
  },
  {
   "cell_type": "markdown",
   "metadata": {
    "id": "YDB3HkSyy2aD"
   },
   "source": [
    "<p><div align=\"center\"><img src=\"https://github.com/codingalzi/DataSci/blob/master/jupyter-book/images/figures_subplots.png?raw=true\" style=\"width:600px\"></div></p>\n",
    "\n",
    "<p style='text-align:center;'>그림 출처: <a href='https://velog.io/@regista/Matplotlib에서-Figure와-Axes-이해하기-Basic'>Matplotlib에서 Figure와 Axes 이해하기</a></p>"
   ]
  },
  {
   "cell_type": "markdown",
   "metadata": {
    "id": "vDFzz2TQy2aD"
   },
   "source": [
    "반면에 아래 코드는 두 개의 서브플롯을 추가한다.\n",
    "\n",
    "```python\n",
    "ax1 = fig.add_subplot(1, 2, 1)\n",
    "ax2 = fig.add_subplot(1, 2, 2)\n",
    "```"
   ]
  },
  {
   "cell_type": "markdown",
   "metadata": {
    "id": "SQMxOBOMy2aD"
   },
   "source": [
    "위 코드는 액자에 두 장의 도화지를 좌우로 배치시키는 효과를 낸다."
   ]
  },
  {
   "cell_type": "markdown",
   "metadata": {
    "id": "rj6zNEKSy2aG"
   },
   "source": [
    "<p><div align=\"center\"><img src=\"https://github.com/codingalzi/DataSci/blob/master/jupyter-book/images/figures_subplots121.png?raw=true\" style=\"width:600px\"></div></p>\n",
    "\n",
    "<p style='text-align:center;'>그림 출처: <a href='https://velog.io/@regista/Matplotlib에서-Figure와-Axes-이해하기-Basic'>Matplotlib에서 Figure와 Axes 이해하기</a></p>"
   ]
  },
  {
   "cell_type": "markdown",
   "metadata": {
    "id": "RQnyjCEIy2aH"
   },
   "source": [
    "**`add_subplot()` 메서드의 인자**"
   ]
  },
  {
   "cell_type": "markdown",
   "metadata": {
    "id": "yCRuNW4qy2aH"
   },
   "source": [
    "`add_subplot()` 함수는 서브플롯을 행렬 모양으로 배치시킬 때 필요한 세 개의 정보를 인자로 받는다.\n",
    "\n",
    "- 첫째와 둘째 인자: 도화지 배치를 지정하는 행렬의 크기\n",
    "- 셋째 인자: 생성되는 서브플롯의 인덱스. 1부터 시작."
   ]
  },
  {
   "cell_type": "markdown",
   "metadata": {
    "id": "cfWtwSRty2aH"
   },
   "source": [
    "**`Axes` 객체**"
   ]
  },
  {
   "cell_type": "markdown",
   "metadata": {
    "id": "7SZFQnJOy2aH"
   },
   "source": [
    "`ax1`과 `ax2` 두 변수는 (1, 2) 모양으로 배치된 두 개의 서브플롯 위치 정보를 담은 `Axes` 객체를 가리킨다.\n",
    "\n",
    "- `ax1`: (1, 2) 모양으로 배치된 두 개의 서브플롯 중에서 첫째, 즉 왼편에 위치한 서브플롯의 위치 정보\n",
    "- `ax2`: (1, 2) 모양으로 배치된 두 개의 서브플롯 중에서 둘째, 즉 오른편에 위치한 서브플롯의 위치 정보"
   ]
  },
  {
   "cell_type": "markdown",
   "metadata": {
    "id": "7-sYMRz6y2aH"
   },
   "source": [
    "**그래프 삽입**"
   ]
  },
  {
   "cell_type": "markdown",
   "metadata": {
    "id": "B2LcqCWiy2aH"
   },
   "source": [
    "특정 서브플롯에 그래프를 그리려면 해당 서브플롯의 위치 정보를 가리키는\n",
    "`ax1` 또는 `ax2`를 선택하여 `scatter()`와 같은 함수를 호출한다.\n",
    "예를 들어 아래 코드는 10명 학생의 산점도와 함께 50명 전체의 산점도를 좌우로 나란히 배치시킨다.\n",
    "\n",
    "`figsize`가 가리키는 값을 눈여겨 볼 필요가 있다.\n",
    "이유는 `Figure` 객체 전체의 가로, 세로 크기와 비율을 어떻게 지정하느냐에 따라 그래프의 모양이 달라지기 때문이다."
   ]
  },
  {
   "cell_type": "code",
   "execution_count": 14,
   "metadata": {
    "ExecuteTime": {
     "end_time": "2018-08-14T06:40:19.900171Z",
     "start_time": "2018-08-14T06:40:19.806854Z"
    },
    "colab": {
     "base_uri": "https://localhost:8080/",
     "height": 393
    },
    "executionInfo": {
     "elapsed": 215,
     "status": "ok",
     "timestamp": 1752281563244,
     "user": {
      "displayName": "ter wa",
      "userId": "01448980402448893441"
     },
     "user_tz": -540
    },
    "id": "R4kP9T7Zy2aH",
    "outputId": "6b8dc498-eba8-45e2-d134-1eda83e71c8e"
   },
   "outputs": [
    {
     "data": {
      "image/png": "[encoded data removed]",
      "text/plain": [
       "<Figure size 1600x600 with 2 Axes>"
      ]
     },
     "metadata": {},
     "output_type": "display_data"
    }
   ],
   "source": [
    "# Figure 객체 지정\n",
    "fig = plt.figure(figsize=(16, 6))\n",
    "\n",
    "# 왼쪽 도화지 지정\n",
    "ax1 = fig.add_subplot(1, 2, 1)\n",
    "\n",
    "# 오른쪽 도화지 지정\n",
    "ax2 = fig.add_subplot(1, 2, 2)\n",
    "\n",
    "# 왼쪽 도화지에 18개 국가 데이터의 산점도 그리기\n",
    "ax1.scatter(sample_2015, sample_2020)\n",
    "ax1.set_xlabel('2015')\n",
    "ax1.set_ylabel('2020')\n",
    "\n",
    "# 오른쪽 도화지에 전체 데이터 산점도 그리기\n",
    "ax2.scatter(gdp_per_capita_2015, gdp_per_capita_2020)\n",
    "\n",
    "# x-축, y-축 이름 지정\n",
    "ax2.set_xlabel('2015')\n",
    "ax2.set_ylabel('2020')\n",
    "\n",
    "plt.show()"
   ]
  },
  {
   "cell_type": "markdown",
   "metadata": {
    "id": "CNLdEWFVy2aH"
   },
   "source": [
    "반면에 아래 코드는 두 개의 서브플롯을 위 아래로 배치시킨다.\n",
    "`add_subplot()` 함수의 인자가 `(2, 1, 1)`와 `(2, 1, 2)`가 사용됨에 주의한다.\n",
    "이렇게 좌우가 아닌 위아래로 배치시킬 경우 `figsize`의 둘째 값이 더 커져야 역시 가로세로 비율이 적당한\n",
    "그래프가 그려진다."
   ]
  },
  {
   "cell_type": "code",
   "execution_count": 15,
   "metadata": {
    "ExecuteTime": {
     "end_time": "2018-08-14T06:40:19.900171Z",
     "start_time": "2018-08-14T06:40:19.806854Z"
    },
    "colab": {
     "base_uri": "https://localhost:8080/",
     "height": 393
    },
    "executionInfo": {
     "elapsed": 215,
     "status": "ok",
     "timestamp": 1752281563244,
     "user": {
      "displayName": "ter wa",
      "userId": "01448980402448893441"
     },
     "user_tz": -540
    },
    "id": "R4kP9T7Zy2aH",
    "outputId": "6b8dc498-eba8-45e2-d134-1eda83e71c8e"
   },
   "outputs": [
    {
     "data": {
      "image/png": "[encoded data removed]",
      "text/plain": [
       "<Figure size 600x1000 with 2 Axes>"
      ]
     },
     "metadata": {},
     "output_type": "display_data"
    }
   ],
   "source": [
    "# Figure 객체 지정\n",
    "fig = plt.figure(figsize=(6, 10))\n",
    "\n",
    "# 위쪽 도화지 지정\n",
    "ax1 = fig.add_subplot(2, 1, 1)\n",
    "# 아래쪽 도화지 지정\n",
    "ax2 = fig.add_subplot(2, 1, 2)\n",
    "\n",
    "# 왼쪽 도화지에 18개 국가 데이터의 산점도 그리기\n",
    "ax1.scatter(sample_2015, sample_2020)\n",
    "ax1.set_xlabel('2015')\n",
    "ax1.set_ylabel('2020')\n",
    "\n",
    "# 오른쪽 도화지에 전체 데이터 산점도 그리기\n",
    "ax2.scatter(gdp_per_capita_2015, gdp_per_capita_2020)\n",
    "\n",
    "# x-축, y-축 이름 지정\n",
    "ax2.set_xlabel('2015')\n",
    "ax2.set_ylabel('2020')\n",
    "\n",
    "plt.show()"
   ]
  },
  {
   "cell_type": "markdown",
   "metadata": {
    "id": "UC5kkN8ry2aI"
   },
   "source": [
    "## 선형 회귀"
   ]
  },
  {
   "cell_type": "markdown",
   "metadata": {
    "id": "qizKowJey2aI"
   },
   "source": [
    "180 개 국가의 2015년 데이터와 2020년 데이터의 산점도를 보면 두 점수 사이의 상관계수가 높아 보인다.\n",
    "실제로 0.98 정도로 선형 상관계수가 확인된다."
   ]
  },
  {
   "cell_type": "code",
   "execution_count": 16,
   "metadata": {
    "colab": {
     "base_uri": "https://localhost:8080/"
    },
    "executionInfo": {
     "elapsed": 17,
     "status": "ok",
     "timestamp": 1752281563509,
     "user": {
      "displayName": "ter wa",
      "userId": "01448980402448893441"
     },
     "user_tz": -540
    },
    "id": "MLmrBiiiy2aI",
    "outputId": "8da407c2-516c-4c54-fe4a-e3d8b649f871"
   },
   "outputs": [
    {
     "data": {
      "text/plain": [
       "array([[1.      , 0.978579],\n",
       "       [0.978579, 1.      ]])"
      ]
     },
     "execution_count": 16,
     "metadata": {},
     "output_type": "execute_result"
    }
   ],
   "source": [
    "np.corrcoef(gdp_per_capita_2015, gdp_per_capita_2020)"
   ]
  },
  {
   "cell_type": "markdown",
   "metadata": {
    "id": "BdcEjF4Uy2aI"
   },
   "source": [
    "산점도를 보면 2015년 1인당 GDP가 높아질 수록 2020년 1인당 GDP도 일반적으로 상승하는 경향이 크다.\n",
    "그 경향이 0.98 정도라는 의미인데 이를 보다 직관적으로 표현하기 위해\n",
    "두 데이터의 상관관계를 시각적으로 보여주는 직선을 그려보자."
   ]
  },
  {
   "cell_type": "markdown",
   "metadata": {
    "id": "mEH3OCyry2aI"
   },
   "source": [
    "### 회귀 직선"
   ]
  },
  {
   "cell_type": "markdown",
   "metadata": {
    "id": "FyZTIIVSy2aI"
   },
   "source": [
    "182 개 국가의 1인당 GDP를 가장 잘 대변하는 직선의 기울기와 절편을 구하기 위해\n",
    "여기서는 `np.polyfit()` 함수를 이용한다."
   ]
  },
  {
   "cell_type": "code",
   "execution_count": 17,
   "metadata": {
    "id": "b7DTm3any2aI"
   },
   "outputs": [],
   "source": [
    "poly_fit = np.polyfit(gdp_per_capita_2015, gdp_per_capita_2020, 1)"
   ]
  },
  {
   "cell_type": "code",
   "execution_count": 18,
   "metadata": {
    "colab": {
     "base_uri": "https://localhost:8080/"
    },
    "executionInfo": {
     "elapsed": 15,
     "status": "ok",
     "timestamp": 1752281563527,
     "user": {
      "displayName": "ter wa",
      "userId": "01448980402448893441"
     },
     "user_tz": -540
    },
    "id": "jvaVfRHzy2aJ",
    "outputId": "8b35b41b-e022-4bf7-e0a3-72c7f45b3f11"
   },
   "outputs": [
    {
     "data": {
      "text/plain": [
       "array([  1.028172, 223.134561])"
      ]
     },
     "execution_count": 18,
     "metadata": {},
     "output_type": "execute_result"
    }
   ],
   "source": [
    "poly_fit"
   ]
  },
  {
   "cell_type": "markdown",
   "metadata": {
    "id": "kdja_alfy2aJ"
   },
   "source": [
    "`poly_fit` 변수가 가리키는 어레이는 두 점수의 상관관계를 **가장 잘 드러내는** 직선의 기울기와 절편을 포함다.\n",
    "이 정보를 이용하여 산포도와 직선을 함께 그리면 찾아진 직선의 의미가 정확히 파악된다."
   ]
  },
  {
   "cell_type": "markdown",
   "metadata": {
    "id": "Bnxsb9uEy2aJ"
   },
   "source": [
    "아래 `np.poly1d()` 함수는 기울기와 절편을 이용한 1차 함수를 선언한다."
   ]
  },
  {
   "cell_type": "code",
   "execution_count": 19,
   "metadata": {
    "id": "EtyG6yFny2aJ"
   },
   "outputs": [],
   "source": [
    "poly_2015_2020 = np.poly1d(poly_fit)"
   ]
  },
  {
   "cell_type": "markdown",
   "metadata": {
    "id": "Bnxsb9uEy2aJ"
   },
   "source": [
    "아래 코드는 직선을 그리기 위해 필요한 x-축, y-축 좌표를 지정한다."
   ]
  },
  {
   "cell_type": "code",
   "execution_count": 20,
   "metadata": {
    "id": "EtyG6yFny2aJ"
   },
   "outputs": [],
   "source": [
    "# x-축 좌표 생성\n",
    "xs = np.linspace(gdp_per_capita_2015.min(), gdp_per_capita_2015.max())\n",
    "\n",
    "# y-축 좌표 생성\n",
    "ys = poly_2015_2020(xs)"
   ]
  },
  {
   "cell_type": "markdown",
   "metadata": {
    "id": "8pVHFToXy2aJ"
   },
   "source": [
    "아래 코드는 산점도와 회귀 직선을 하나의 그래프에 함께 그린다."
   ]
  },
  {
   "cell_type": "code",
   "execution_count": 21,
   "metadata": {
    "ExecuteTime": {
     "end_time": "2018-08-14T06:40:19.900171Z",
     "start_time": "2018-08-14T06:40:19.806854Z"
    },
    "colab": {
     "base_uri": "https://localhost:8080/",
     "height": 542
    },
    "executionInfo": {
     "elapsed": 185,
     "status": "ok",
     "timestamp": 1752281563715,
     "user": {
      "displayName": "ter wa",
      "userId": "01448980402448893441"
     },
     "user_tz": -540
    },
    "id": "RGNWvLqhy2aJ",
    "outputId": "c2220fe1-e68e-43be-dafd-2b3c7fb1c05e"
   },
   "outputs": [
    {
     "data": {
      "image/png": "[encoded data removed]",
      "text/plain": [
       "<Figure size 800x600 with 1 Axes>"
      ]
     },
     "metadata": {},
     "output_type": "display_data"
    }
   ],
   "source": [
    "# Figure 객체 지정\n",
    "fig = plt.figure(figsize=(8, 6))\n",
    "ax = fig.add_subplot(1, 1, 1)\n",
    "\n",
    "# 산점도 그리기\n",
    "ax.scatter(gdp_per_capita_2015, gdp_per_capita_2020, label='GDP per capita')\n",
    "\n",
    "# 회귀 직선 그리기\n",
    "\n",
    "# 직선 그리기\n",
    "ax.plot(xs, ys, color='red', label=f'{poly_fit[0]:.2f}x+{poly_fit[1]:.2f}')\n",
    "\n",
    "ax.set_xlabel('2015')\n",
    "ax.set_ylabel('2020')\n",
    "\n",
    "# 범례의 표시\n",
    "ax.legend(loc='upper left')\n",
    "\n",
    "plt.show()"
   ]
  },
  {
   "cell_type": "markdown",
   "metadata": {
    "id": "AiNoczRuy2aJ"
   },
   "source": [
    "### 회귀 예측"
   ]
  },
  {
   "cell_type": "markdown",
   "metadata": {},
   "source": [
    "2015년도의 1인당 GDP가 25,000 달러 또는 65,000 달러인 국가는 데이터에 포함되지 않는다."
   ]
  },
  {
   "cell_type": "code",
   "execution_count": 22,
   "metadata": {
    "colab": {
     "base_uri": "https://localhost:8080/"
    },
    "executionInfo": {
     "elapsed": 6,
     "status": "ok",
     "timestamp": 1752281563721,
     "user": {
      "displayName": "ter wa",
      "userId": "01448980402448893441"
     },
     "user_tz": -540
    },
    "id": "qIg9vJkky2aK",
    "outputId": "98f0ab75-fa7b-474d-eee1-40b5197047ad"
   },
   "outputs": [
    {
     "data": {
      "text/plain": [
       "False"
      ]
     },
     "execution_count": 22,
     "metadata": {},
     "output_type": "execute_result"
    }
   ],
   "source": [
    "gdp_2015_1 = 25000\n",
    "gdp_2015_1 in gdp_per_capita_2015"
   ]
  },
  {
   "cell_type": "code",
   "execution_count": 23,
   "metadata": {
    "colab": {
     "base_uri": "https://localhost:8080/"
    },
    "executionInfo": {
     "elapsed": 3,
     "status": "ok",
     "timestamp": 1752281563726,
     "user": {
      "displayName": "ter wa",
      "userId": "01448980402448893441"
     },
     "user_tz": -540
    },
    "id": "Ek5kPGBmy2aK",
    "outputId": "19ee954a-1787-47ad-be01-ee1a5c316f90"
   },
   "outputs": [
    {
     "data": {
      "text/plain": [
       "False"
      ]
     },
     "execution_count": 23,
     "metadata": {},
     "output_type": "execute_result"
    }
   ],
   "source": [
    "gdp_2015_2 = 65000\n",
    "gdp_2015_2 in gdp_per_capita_2015"
   ]
  },
  {
   "cell_type": "markdown",
   "metadata": {
    "id": "8PPhAHrXy2aK"
   },
   "source": [
    "만약 한 나라의 1인당 GDP가 2015년도에 25,000달러 또는 65,000 달러였을 때 2020년도의 1인당 GDP는\n",
    "얼마였을지 예측할 때 앞서 찾은 회귀 직선 `poly_2015_2020`을 이용할 수 있다.\n",
    "왜냐하면 위 그래프에서 표시된 회귀 직선이 2015년도 1인당 GDP와 2020suseh 1인당 GDP의 상관관계를 잘 대변하고 있기에\n",
    "그 성질을 이용하여 2015년도 1인당 GDP가 주어졌을 때 해당 국가의 2020년도 1인당 GDP를 예측하는 데에 활용할 수 있기 때문이다."
   ]
  },
  {
   "cell_type": "markdown",
   "metadata": {
    "id": "9pN1cMsmy2aK"
   },
   "source": [
    "- 2015년도 1인당 GDP가 25,000달러일 때 2020년도 1인당 GDP 예측값"
   ]
  },
  {
   "cell_type": "code",
   "execution_count": 24,
   "metadata": {
    "colab": {
     "base_uri": "https://localhost:8080/"
    },
    "executionInfo": {
     "elapsed": 13,
     "status": "ok",
     "timestamp": 1752281563740,
     "user": {
      "displayName": "ter wa",
      "userId": "01448980402448893441"
     },
     "user_tz": -540
    },
    "id": "OftHXZFAy2aK",
    "outputId": "0998085f-184a-43d7-eee0-8ac4c4ac391f"
   },
   "outputs": [
    {
     "data": {
      "text/plain": [
       "25927.426573"
      ]
     },
     "execution_count": 24,
     "metadata": {},
     "output_type": "execute_result"
    }
   ],
   "source": [
    "gdp_2020_1 = poly_2015_2020(gdp_2015_1)\n",
    "gdp_2020_1"
   ]
  },
  {
   "cell_type": "markdown",
   "metadata": {
    "id": "9pN1cMsmy2aK"
   },
   "source": [
    "- 2015년도 1인당 GDP가 65,000달러일 때 2020년도 1인당 GDP 예측값"
   ]
  },
  {
   "cell_type": "code",
   "execution_count": 25,
   "metadata": {
    "colab": {
     "base_uri": "https://localhost:8080/"
    },
    "executionInfo": {
     "elapsed": 3,
     "status": "ok",
     "timestamp": 1752281563744,
     "user": {
      "displayName": "ter wa",
      "userId": "01448980402448893441"
     },
     "user_tz": -540
    },
    "id": "s37TrprSy2aK",
    "outputId": "918c52c6-807f-4683-9bd7-cbf97232100f"
   },
   "outputs": [
    {
     "data": {
      "text/plain": [
       "67054.293792"
      ]
     },
     "execution_count": 25,
     "metadata": {},
     "output_type": "execute_result"
    }
   ],
   "source": [
    "gdp_2020_2 = poly_2015_2020(gdp_2015_2)\n",
    "gdp_2020_2"
   ]
  },
  {
   "cell_type": "markdown",
   "metadata": {
    "id": "U3Yz0DURy2aK"
   },
   "source": [
    "언급된 두 점을 `+` 기호로 표시하면 회귀 직선상에 위치한다."
   ]
  },
  {
   "cell_type": "code",
   "execution_count": 26,
   "metadata": {
    "ExecuteTime": {
     "end_time": "2018-08-14T06:40:19.900171Z",
     "start_time": "2018-08-14T06:40:19.806854Z"
    },
    "colab": {
     "base_uri": "https://localhost:8080/",
     "height": 542
    },
    "executionInfo": {
     "elapsed": 185,
     "status": "ok",
     "timestamp": 1752281563715,
     "user": {
      "displayName": "ter wa",
      "userId": "01448980402448893441"
     },
     "user_tz": -540
    },
    "id": "RGNWvLqhy2aJ",
    "outputId": "c2220fe1-e68e-43be-dafd-2b3c7fb1c05e"
   },
   "outputs": [
    {
     "data": {
      "image/png": "[encoded data removed]",
      "text/plain": [
       "<Figure size 800x600 with 1 Axes>"
      ]
     },
     "metadata": {},
     "output_type": "display_data"
    }
   ],
   "source": [
    "# Figure 객체 지정\n",
    "fig = plt.figure(figsize=(8, 6))\n",
    "ax = fig.add_subplot(1, 1, 1)\n",
    "\n",
    "# 산점도 그리기\n",
    "ax.scatter(gdp_per_capita_2015, gdp_per_capita_2020, label='GDP per capita')\n",
    "\n",
    "# 회귀 직선 그리기\n",
    "\n",
    "# 직선 그리기\n",
    "ax.plot(xs, ys, color='red', label=f'{poly_fit[0]:.2f}x+{poly_fit[1]:.2f}')\n",
    "\n",
    "ax.set_xlabel('2015')\n",
    "ax.set_ylabel('2020')\n",
    "\n",
    "# 영어 59점과 90점일 때의 예측값\n",
    "ax.plot([gdp_2015_1, gdp_2015_2], [gdp_2020_1, gdp_2020_2], '+k', ms=20)\n",
    "\n",
    "# 범례의 표시\n",
    "ax.legend(loc='upper left')\n",
    "\n",
    "plt.show()"
   ]
  },
  {
   "cell_type": "markdown",
   "metadata": {
    "id": "OWo0zLjSy2aK"
   },
   "source": [
    "### 평균 제곱근 오차"
   ]
  },
  {
   "cell_type": "markdown",
   "metadata": {
    "id": "gtzk1FFjy2aL"
   },
   "source": [
    "앞서 찾은 직선 회귀가 50명의 영어 점수와 수학 점수 사이의 선형 상관관계를 **가장 잘 보여준다**고 하였다.\n",
    "그런데 어떤 기준으로 \"가장 잘 보여준다\" 라고 했을까?\n",
    "\n",
    "일반적으로 평균 제곱근 오차<font size='2'>root mean squared error</font>(RMSE)가 기준으로 사용되며 아래 식으로 정의된다.\n",
    "\n",
    "$$\n",
    "RMSE = \\sqrt{\\frac 1 n \\, \\sum_{i=1}^{n} (y_i - \\hat{y_i})^2}\n",
    "$$\n",
    "\n",
    "단, 다음이 성립한다.\n",
    "\n",
    "- $y_i$: 실제 값\n",
    "- $\\hat{y_i}$: 예측값"
   ]
  },
  {
   "cell_type": "markdown",
   "metadata": {
    "id": "sihi7CP0y2aL"
   },
   "source": [
    "아래 그래프는 8개의 실제 데이터와 예측값 각각에 대한 오차의 제곱을 시각적으로 보여준다.\n",
    "이 경우 RMSE는 파랑색 선분들의 길이의 제곱의 평균값이다."
   ]
  },
  {
   "cell_type": "markdown",
   "metadata": {
    "id": "3KIECg_4y2aL"
   },
   "source": [
    "<p><div align=\"center\"><img src=\"https://github.com/codingalzi/DataSci/blob/master/jupyter-book/images/rmse.png?raw=true\" style=\"width:600px\"></div></p>\n",
    "\n",
    "<p style='text-align:center;'>그림 출처: <a href='https://jmlb.github.io/flashcards/2018/07/01/mae_vs_rmse/'>Root Mean Squared Error Versus Mean Absolute Error</a></p>"
   ]
  },
  {
   "cell_type": "markdown",
   "metadata": {
    "id": "8h7nfCmWy2aL"
   },
   "source": [
    "`np.polyfit()` 함수는 **평균 제곱근 오차 값이 최소**가 되도록 하는 직선의 기울기와 절편을 찾아준다.\n",
    "이에 대한 엄말한 수학 증명은 여기서는 다루지 않는다.\n",
    "다만 2020년도 1인당 GDP로 예측된 값과 실제 값 사이의 평균 제곱근 오차만 계산해본다."
   ]
  },
  {
   "cell_type": "markdown",
   "metadata": {},
   "source": [
    "아래 코드는 182 개 국가의 2020년도 1인당 GDP에 대한 예측값을 계산한다."
   ]
  },
  {
   "cell_type": "code",
   "execution_count": 27,
   "metadata": {},
   "outputs": [],
   "source": [
    "gdp_2020_prediction = poly_2015_2020(gdp_per_capita_2020)"
   ]
  },
  {
   "cell_type": "markdown",
   "metadata": {},
   "source": [
    "따라서 예측값과 실제 값 사이의 평균 제곱근 오차는 다음과 같이 계산된다."
   ]
  },
  {
   "cell_type": "code",
   "execution_count": 28,
   "metadata": {},
   "outputs": [
    {
     "data": {
      "text/plain": [
       "794.183871"
      ]
     },
     "execution_count": 28,
     "metadata": {},
     "output_type": "execute_result"
    }
   ],
   "source": [
    "diff = gdp_per_capita_2020 - gdp_2020_prediction\n",
    "rmse = np.sqrt(np.mean(diff**2))\n",
    "rmse"
   ]
  },
  {
   "cell_type": "markdown",
   "metadata": {},
   "source": [
    "즉, 2015년도 1인당 GDP를 이용하여 예측된 2020년도 1인당 GDP와 실제 2020년도 1인당 GDP 사이의 평균 제곱근 오차가 약 794달러 정도이다.\n",
    "182 개 국각의 1인당 GDP의 평균값이 약 13,455달러이다."
   ]
  },
  {
   "cell_type": "code",
   "execution_count": 29,
   "metadata": {},
   "outputs": [
    {
     "data": {
      "text/plain": [
       "13455.193698"
      ]
     },
     "execution_count": 29,
     "metadata": {},
     "output_type": "execute_result"
    }
   ],
   "source": [
    "gdp_per_capita_2020.mean()"
   ]
  },
  {
   "cell_type": "markdown",
   "metadata": {},
   "source": [
    "이점을 고려할 때 794달러 정도의 편차는 상당히 작은 편이다.\n",
    "즉, 선형 회귀 예측이 매우 정확하다고 말할 수 있다."
   ]
  },
  {
   "cell_type": "markdown",
   "metadata": {
    "id": "e-9Bb-V8y2aL"
   },
   "source": [
    "## 히트맵"
   ]
  },
  {
   "cell_type": "markdown",
   "metadata": {
    "id": "xAZBnLY_y2aL"
   },
   "source": [
    "아래 코드는 2015년도 1인당 GDP와 2020년도 1인당 GDP의 범위를 각각 5개 구간으로 쪼갠 후 각 영역에 포함된 국가의 수를\n",
    "**히트맵**<font size='2'>heat map</font> 그래프로 그린다.\n",
    "히트맵은 영역별 값의 크기를 색의 종류와 농도로 표현하는 그래프이며,\n",
    "2차원 히스토그램으로 간주된다.\n",
    "\n",
    "`plt.hist2d()` 함수는 다음 네 종류의 값으로 구성된 튜플을 반환한다.\n",
    "\n",
    "- 첫째 항목: 영역별 빈도로 구성된 2차원 어레이\n",
    "- 둘째 항목: x-축 구간\n",
    "- 셋째 항목: y-축 구간\n",
    "- 넷째 항목: 히트맵 그래프를 가리키는 객체"
   ]
  },
  {
   "cell_type": "code",
   "execution_count": 30,
   "metadata": {
    "ExecuteTime": {
     "end_time": "2018-08-14T06:40:20.028133Z",
     "start_time": "2018-08-14T06:40:19.901235Z"
    },
    "colab": {
     "base_uri": "https://localhost:8080/",
     "height": 547
    },
    "executionInfo": {
     "elapsed": 184,
     "status": "ok",
     "timestamp": 1752281564070,
     "user": {
      "displayName": "ter wa",
      "userId": "01448980402448893441"
     },
     "user_tz": -540
    },
    "id": "VO41EChgy2aL",
    "outputId": "6837da38-99e7-4e4c-f12b-51c0a0ce0884"
   },
   "outputs": [
    {
     "data": {
      "image/png": "[encoded data removed]",
      "text/plain": [
       "<Figure size 800x600 with 2 Axes>"
      ]
     },
     "metadata": {},
     "output_type": "display_data"
    }
   ],
   "source": [
    "fig = plt.figure(figsize=(8, 6))\n",
    "ax = fig.add_subplot(111)\n",
    "\n",
    "c = ax.hist2d(gdp_per_capita_2015,\n",
    "              gdp_per_capita_2020,\n",
    "              bins=[5, 5],\n",
    "              cmap='viridis'\n",
    "             )\n",
    "\n",
    "ax.set_xlabel('2015')\n",
    "ax.set_ylabel('2020')\n",
    "\n",
    "ax.set_xticks(c[1]) # x-축 구간\n",
    "ax.set_yticks(c[2]) # y-축 구간\n",
    "\n",
    "# 색지도: 히트맵에 사용된 색의 종류와 농도를 색막대 형식으로 표시\n",
    "fig.colorbar(c[3], ax=ax)\n",
    "\n",
    "plt.show()"
   ]
  },
  {
   "cell_type": "markdown",
   "metadata": {
    "id": "eKp2yeiiy2aL"
   },
   "source": [
    "**색지도**\n",
    "\n",
    "matplotlib 라이브러리에서 이미지를 출력할 때 색지도<font size='2'>color map</font>를 선택할 수 있다.\n",
    "색지도는 `cmap` 키워드 인자로 지정하며, 기본값은 문자열 `'viridis'`다.\n",
    "`cmap` 키워드 인자를 다르게 하면 느낌이 많이 달리지기도 한다.\n",
    "\n",
    "아래 그림은 몇 개의 색지도를 보여준다.\n",
    "\n",
    "<p><div align=\"center\" border=\"1px\"><img src=\"https://matplotlib.org/stable/_images/sphx_glr_colormaps_002_2_00x.png\" style=\"width:80%;\"></div></p>\n",
    "\n",
    "보다 다양한 색지도 정보는 [Matplotlib: Choosing Colormaps](https://matplotlib.org/stable/tutorials/colors/colormaps.html)를\n",
    "참고한다."
   ]
  },
  {
   "cell_type": "markdown",
   "metadata": {
    "id": "98eFpreOy2aL"
   },
   "source": [
    "- `cmap='Greys'`"
   ]
  },
  {
   "cell_type": "code",
   "execution_count": 31,
   "metadata": {
    "ExecuteTime": {
     "end_time": "2018-08-14T06:40:20.028133Z",
     "start_time": "2018-08-14T06:40:19.901235Z"
    },
    "colab": {
     "base_uri": "https://localhost:8080/",
     "height": 547
    },
    "executionInfo": {
     "elapsed": 179,
     "status": "ok",
     "timestamp": 1752281564252,
     "user": {
      "displayName": "ter wa",
      "userId": "01448980402448893441"
     },
     "user_tz": -540
    },
    "id": "0D2fGBM7y2aL",
    "outputId": "64f79f2f-0050-42cf-922a-869ffb8985c3"
   },
   "outputs": [
    {
     "data": {
      "image/png": "[encoded data removed]",
      "text/plain": [
       "<Figure size 800x600 with 2 Axes>"
      ]
     },
     "metadata": {},
     "output_type": "display_data"
    }
   ],
   "source": [
    "fig = plt.figure(figsize=(8, 6))\n",
    "ax = fig.add_subplot(111)\n",
    "\n",
    "c = ax.hist2d(gdp_per_capita_2015,\n",
    "              gdp_per_capita_2020,\n",
    "              bins=[5, 5],\n",
    "              cmap='Greys')\n",
    "\n",
    "ax.set_xlabel('2015')\n",
    "ax.set_ylabel('2020')\n",
    "\n",
    "ax.set_xticks(c[1]) # x-축 구간\n",
    "ax.set_yticks(c[2]) # y-축 구간\n",
    "\n",
    "# 컬러바: 히트맵 정보 활용\n",
    "fig.colorbar(c[3], ax=ax)\n",
    "\n",
    "plt.show()"
   ]
  },
  {
   "cell_type": "markdown",
   "metadata": {
    "id": "kaVFY_VUy2aL"
   },
   "source": [
    "- `cmap='Blues'`"
   ]
  },
  {
   "cell_type": "code",
   "execution_count": 32,
   "metadata": {
    "ExecuteTime": {
     "end_time": "2018-08-14T06:40:20.028133Z",
     "start_time": "2018-08-14T06:40:19.901235Z"
    },
    "colab": {
     "base_uri": "https://localhost:8080/",
     "height": 547
    },
    "executionInfo": {
     "elapsed": 156,
     "status": "ok",
     "timestamp": 1752281564403,
     "user": {
      "displayName": "ter wa",
      "userId": "01448980402448893441"
     },
     "user_tz": -540
    },
    "id": "auvieRAWy2aM",
    "outputId": "d310e3da-6178-47c2-a76a-0ade698cd13e"
   },
   "outputs": [
    {
     "data": {
      "image/png": "[encoded data removed]",
      "text/plain": [
       "<Figure size 800x600 with 2 Axes>"
      ]
     },
     "metadata": {},
     "output_type": "display_data"
    }
   ],
   "source": [
    "fig = plt.figure(figsize=(8, 6))\n",
    "ax = fig.add_subplot(111)\n",
    "\n",
    "c = ax.hist2d(gdp_per_capita_2015,\n",
    "              gdp_per_capita_2020,\n",
    "              bins=[5, 5],\n",
    "              cmap='Blues')\n",
    "\n",
    "ax.set_xlabel('2015')\n",
    "ax.set_ylabel('2020')\n",
    "\n",
    "ax.set_xticks(c[1]) # x-축 구간\n",
    "ax.set_yticks(c[2]) # y-축 구간\n",
    "\n",
    "# 컬러바: 히트맵 정보 활용\n",
    "fig.colorbar(c[3], ax=ax)\n",
    "\n",
    "plt.show()"
   ]
  },
  {
   "cell_type": "markdown",
   "metadata": {
    "id": "alqI2qMgy2aM"
   },
   "source": [
    "**seaborn 라이브러리**"
   ]
  },
  {
   "cell_type": "markdown",
   "metadata": {
    "id": "3Cy2YS-Dy2aM"
   },
   "source": [
    "seaborn 라이브러리는 matplotlib 라이브러리를 확장하며, 보다 다양한 기능과 섬세한 설정을 지원한다.\n",
    "seaborn 라이브러리는 관습적으로 sns 별칭으로 불러온다."
   ]
  },
  {
   "cell_type": "code",
   "execution_count": 33,
   "metadata": {
    "id": "GH1UmrYty2aM"
   },
   "outputs": [],
   "source": [
    "import seaborn as sns"
   ]
  },
  {
   "cell_type": "markdown",
   "metadata": {
    "id": "gphaUPd5y2aM"
   },
   "source": [
    "아래 코드는 동일한 히트맵을 다른 느낌으로 전달한다.\n",
    "seaborn 라이브러리의 그래프 함수는 모두 `ax` 키워드 인자를 사용해서\n",
    "그래프를 그릴 서브플롯을 지정한다.\n",
    "\n",
    "`sns.histplot()` 함수의 첫째 인자로 2015년도와 2020년도 데이터 모두를 담고 있는 데이터프레임이 사용되었음에 주의한다.\n",
    "x-축과 y-축에 사용되는 데이터는 각각 `x`와 `y` 매개변수의 인자로 지정된다.\n",
    "`cbar=True` 키워드 인자는 히트맵 오른쪽에 위치한 색지도를 포함시킨다."
   ]
  },
  {
   "cell_type": "code",
   "execution_count": 34,
   "metadata": {
    "ExecuteTime": {
     "end_time": "2018-08-14T06:40:20.028133Z",
     "start_time": "2018-08-14T06:40:19.901235Z"
    },
    "colab": {
     "base_uri": "https://localhost:8080/",
     "height": 547
    },
    "executionInfo": {
     "elapsed": 216,
     "status": "ok",
     "timestamp": 1752281565943,
     "user": {
      "displayName": "ter wa",
      "userId": "01448980402448893441"
     },
     "user_tz": -540
    },
    "id": "rJdg5OYay2aM",
    "outputId": "d1c4a47c-4bbf-4d6a-b95a-70230145f038"
   },
   "outputs": [
    {
     "data": {
      "image/png": "[encoded data removed]",
      "text/plain": [
       "<Figure size 800x600 with 2 Axes>"
      ]
     },
     "metadata": {},
     "output_type": "display_data"
    }
   ],
   "source": [
    "fig = plt.figure(figsize=(8, 6))\n",
    "ax = fig.add_subplot(111)\n",
    "\n",
    "sns.histplot(gdpPerCapita_2015_2020, x='2015', y='2020', bins=(5, 5), cbar=True, ax=ax)\n",
    "\n",
    "plt.show()"
   ]
  },
  {
   "cell_type": "markdown",
   "metadata": {},
   "source": [
    "색지도를 지정할 수도 있다."
   ]
  },
  {
   "cell_type": "code",
   "execution_count": 35,
   "metadata": {
    "ExecuteTime": {
     "end_time": "2018-08-14T06:40:20.028133Z",
     "start_time": "2018-08-14T06:40:19.901235Z"
    },
    "colab": {
     "base_uri": "https://localhost:8080/",
     "height": 547
    },
    "executionInfo": {
     "elapsed": 216,
     "status": "ok",
     "timestamp": 1752281565943,
     "user": {
      "displayName": "ter wa",
      "userId": "01448980402448893441"
     },
     "user_tz": -540
    },
    "id": "rJdg5OYay2aM",
    "outputId": "d1c4a47c-4bbf-4d6a-b95a-70230145f038",
    "scrolled": false
   },
   "outputs": [
    {
     "data": {
      "image/png": "[encoded data removed]",
      "text/plain": [
       "<Figure size 800x600 with 2 Axes>"
      ]
     },
     "metadata": {},
     "output_type": "display_data"
    }
   ],
   "source": [
    "fig = plt.figure(figsize=(8, 6))\n",
    "ax = fig.add_subplot(111)\n",
    "\n",
    "sns.histplot(gdpPerCapita_2015_2020, x='2015', y='2020', bins=(5, 5), cbar=True, ax=ax, cmap='RdPu')\n",
    "\n",
    "plt.show()"
   ]
  },
  {
   "cell_type": "markdown",
   "metadata": {
    "id": "mz4teGd2y2aM"
   },
   "source": [
    "## 앤스컴 데이터 4중주"
   ]
  },
  {
   "cell_type": "markdown",
   "metadata": {
    "id": "nsRdL5wxy2aM"
   },
   "source": [
    "지금까지 분산, 상관계수 등 수치 지표를 이용하여 데이터의 분포를 파악하였다.\n",
    "그런데 수치 지표가 동일하더라도 시각화를 진행하면 완전히 다른 데이터가 될 수도 있는데,\n",
    "앤스컴 데이터 4중주(Anscombe's quartet)가 대표적이다."
   ]
  },
  {
   "cell_type": "markdown",
   "metadata": {
    "id": "hlHBYDn9y2aM"
   },
   "source": [
    ":::{admonition} 프랜시스 앤스컴\n",
    ":class: note\n",
    "\n",
    "프랜시스 앤스컴<font size='2'>Francis J. Anscombe</font>는 영국 출식 통계학자이며,\n",
    "1973년에 앤스컴 데이터 4중주라고 불리는 4개의 데이터셋을 소개하였다.\n",
    ":::"
   ]
  },
  {
   "cell_type": "markdown",
   "metadata": {
    "id": "gEAWSsXcy2aM"
   },
   "source": [
    "**데이터 불러오기**"
   ]
  },
  {
   "cell_type": "markdown",
   "metadata": {
    "id": "1WzyZwfry2aN"
   },
   "source": [
    "앤스컴 데이터 4중주에 사용된 데이터셋은 인터넷의 여러 사이트에서 다양한 형식으로 제공된다.\n",
    "여기서는 데이터프레임 형식으로 제공되는 csv 파일을 이용한다."
   ]
  },
  {
   "cell_type": "code",
   "execution_count": 36,
   "metadata": {
    "ExecuteTime": {
     "end_time": "2018-08-14T06:40:20.034280Z",
     "start_time": "2018-08-14T06:40:20.029676Z"
    },
    "colab": {
     "base_uri": "https://localhost:8080/",
     "height": 394
    },
    "executionInfo": {
     "elapsed": 167,
     "status": "ok",
     "timestamp": 1752281566118,
     "user": {
      "displayName": "ter wa",
      "userId": "01448980402448893441"
     },
     "user_tz": -540
    },
    "id": "LuxGZY7Cy2aN",
    "outputId": "6f842246-8157-4fed-de44-2b50f98f479f"
   },
   "outputs": [
    {
     "data": {
      "text/html": [
       "<div>\n",
       "<style scoped>\n",
       "    .dataframe tbody tr th:only-of-type {\n",
       "        vertical-align: middle;\n",
       "    }\n",
       "\n",
       "    .dataframe tbody tr th {\n",
       "        vertical-align: top;\n",
       "    }\n",
       "\n",
       "    .dataframe thead th {\n",
       "        text-align: right;\n",
       "    }\n",
       "</style>\n",
       "<table border=\"1\" class=\"dataframe\">\n",
       "  <thead>\n",
       "    <tr style=\"text-align: right;\">\n",
       "      <th></th>\n",
       "      <th>x1</th>\n",
       "      <th>x2</th>\n",
       "      <th>x3</th>\n",
       "      <th>x4</th>\n",
       "      <th>y1</th>\n",
       "      <th>y2</th>\n",
       "      <th>y3</th>\n",
       "      <th>y4</th>\n",
       "    </tr>\n",
       "  </thead>\n",
       "  <tbody>\n",
       "    <tr>\n",
       "      <th>0</th>\n",
       "      <td>10</td>\n",
       "      <td>10</td>\n",
       "      <td>10</td>\n",
       "      <td>8</td>\n",
       "      <td>8.04</td>\n",
       "      <td>9.14</td>\n",
       "      <td>7.46</td>\n",
       "      <td>6.58</td>\n",
       "    </tr>\n",
       "    <tr>\n",
       "      <th>1</th>\n",
       "      <td>8</td>\n",
       "      <td>8</td>\n",
       "      <td>8</td>\n",
       "      <td>8</td>\n",
       "      <td>6.95</td>\n",
       "      <td>8.14</td>\n",
       "      <td>6.77</td>\n",
       "      <td>5.76</td>\n",
       "    </tr>\n",
       "    <tr>\n",
       "      <th>2</th>\n",
       "      <td>13</td>\n",
       "      <td>13</td>\n",
       "      <td>13</td>\n",
       "      <td>8</td>\n",
       "      <td>7.58</td>\n",
       "      <td>8.74</td>\n",
       "      <td>12.74</td>\n",
       "      <td>7.71</td>\n",
       "    </tr>\n",
       "    <tr>\n",
       "      <th>3</th>\n",
       "      <td>9</td>\n",
       "      <td>9</td>\n",
       "      <td>9</td>\n",
       "      <td>8</td>\n",
       "      <td>8.81</td>\n",
       "      <td>8.77</td>\n",
       "      <td>7.11</td>\n",
       "      <td>8.84</td>\n",
       "    </tr>\n",
       "    <tr>\n",
       "      <th>4</th>\n",
       "      <td>11</td>\n",
       "      <td>11</td>\n",
       "      <td>11</td>\n",
       "      <td>8</td>\n",
       "      <td>8.33</td>\n",
       "      <td>9.26</td>\n",
       "      <td>7.81</td>\n",
       "      <td>8.47</td>\n",
       "    </tr>\n",
       "    <tr>\n",
       "      <th>5</th>\n",
       "      <td>14</td>\n",
       "      <td>14</td>\n",
       "      <td>14</td>\n",
       "      <td>8</td>\n",
       "      <td>9.96</td>\n",
       "      <td>8.10</td>\n",
       "      <td>8.84</td>\n",
       "      <td>7.04</td>\n",
       "    </tr>\n",
       "    <tr>\n",
       "      <th>6</th>\n",
       "      <td>6</td>\n",
       "      <td>6</td>\n",
       "      <td>6</td>\n",
       "      <td>8</td>\n",
       "      <td>7.24</td>\n",
       "      <td>6.13</td>\n",
       "      <td>6.08</td>\n",
       "      <td>5.25</td>\n",
       "    </tr>\n",
       "    <tr>\n",
       "      <th>7</th>\n",
       "      <td>4</td>\n",
       "      <td>4</td>\n",
       "      <td>4</td>\n",
       "      <td>19</td>\n",
       "      <td>4.26</td>\n",
       "      <td>3.10</td>\n",
       "      <td>5.39</td>\n",
       "      <td>12.50</td>\n",
       "    </tr>\n",
       "    <tr>\n",
       "      <th>8</th>\n",
       "      <td>12</td>\n",
       "      <td>12</td>\n",
       "      <td>12</td>\n",
       "      <td>8</td>\n",
       "      <td>10.84</td>\n",
       "      <td>9.13</td>\n",
       "      <td>8.15</td>\n",
       "      <td>5.56</td>\n",
       "    </tr>\n",
       "    <tr>\n",
       "      <th>9</th>\n",
       "      <td>7</td>\n",
       "      <td>7</td>\n",
       "      <td>7</td>\n",
       "      <td>8</td>\n",
       "      <td>4.82</td>\n",
       "      <td>7.26</td>\n",
       "      <td>6.42</td>\n",
       "      <td>7.91</td>\n",
       "    </tr>\n",
       "    <tr>\n",
       "      <th>10</th>\n",
       "      <td>5</td>\n",
       "      <td>5</td>\n",
       "      <td>5</td>\n",
       "      <td>8</td>\n",
       "      <td>5.68</td>\n",
       "      <td>4.74</td>\n",
       "      <td>5.73</td>\n",
       "      <td>6.89</td>\n",
       "    </tr>\n",
       "  </tbody>\n",
       "</table>\n",
       "</div>"
      ],
      "text/plain": [
       "    x1  x2  x3  x4     y1    y2     y3     y4\n",
       "0   10  10  10   8   8.04  9.14   7.46   6.58\n",
       "1    8   8   8   8   6.95  8.14   6.77   5.76\n",
       "2   13  13  13   8   7.58  8.74  12.74   7.71\n",
       "3    9   9   9   8   8.81  8.77   7.11   8.84\n",
       "4   11  11  11   8   8.33  9.26   7.81   8.47\n",
       "5   14  14  14   8   9.96  8.10   8.84   7.04\n",
       "6    6   6   6   8   7.24  6.13   6.08   5.25\n",
       "7    4   4   4  19   4.26  3.10   5.39  12.50\n",
       "8   12  12  12   8  10.84  9.13   8.15   5.56\n",
       "9    7   7   7   8   4.82  7.26   6.42   7.91\n",
       "10   5   5   5   8   5.68  4.74   5.73   6.89"
      ]
     },
     "execution_count": 36,
     "metadata": {},
     "output_type": "execute_result"
    }
   ],
   "source": [
    "anscombe_df = pd.read_csv(data_url+'anscombe.csv')\n",
    "anscombe_df"
   ]
  },
  {
   "cell_type": "markdown",
   "metadata": {
    "id": "eXTo5WcMy2aN"
   },
   "source": [
    "**동일한 평균값, 표준편차, 분산, 4분위수**"
   ]
  },
  {
   "cell_type": "markdown",
   "metadata": {
    "id": "BteY5J0Wy2aN"
   },
   "source": [
    "`x1`부터 `x4`까지, 그리고 `y1`부터 `y4`까지의 데이터에 대한\n",
    "평균값, 편차, 분산, 4분위수가 모두 동일함이\n",
    "`describe()` 메서드로 확인된다."
   ]
  },
  {
   "cell_type": "code",
   "execution_count": 37,
   "metadata": {
    "colab": {
     "base_uri": "https://localhost:8080/",
     "height": 300
    },
    "executionInfo": {
     "elapsed": 38,
     "status": "ok",
     "timestamp": 1752281566157,
     "user": {
      "displayName": "ter wa",
      "userId": "01448980402448893441"
     },
     "user_tz": -540
    },
    "id": "lHP4uaXMy2aN",
    "outputId": "a2f745b3-c9d8-475c-8323-3c2742aad2f8"
   },
   "outputs": [
    {
     "data": {
      "text/html": [
       "<div>\n",
       "<style scoped>\n",
       "    .dataframe tbody tr th:only-of-type {\n",
       "        vertical-align: middle;\n",
       "    }\n",
       "\n",
       "    .dataframe tbody tr th {\n",
       "        vertical-align: top;\n",
       "    }\n",
       "\n",
       "    .dataframe thead th {\n",
       "        text-align: right;\n",
       "    }\n",
       "</style>\n",
       "<table border=\"1\" class=\"dataframe\">\n",
       "  <thead>\n",
       "    <tr style=\"text-align: right;\">\n",
       "      <th></th>\n",
       "      <th>x1</th>\n",
       "      <th>x2</th>\n",
       "      <th>x3</th>\n",
       "      <th>x4</th>\n",
       "      <th>y1</th>\n",
       "      <th>y2</th>\n",
       "      <th>y3</th>\n",
       "      <th>y4</th>\n",
       "    </tr>\n",
       "  </thead>\n",
       "  <tbody>\n",
       "    <tr>\n",
       "      <th>count</th>\n",
       "      <td>11.000000</td>\n",
       "      <td>11.000000</td>\n",
       "      <td>11.000000</td>\n",
       "      <td>11.000000</td>\n",
       "      <td>11.000000</td>\n",
       "      <td>11.000000</td>\n",
       "      <td>11.000000</td>\n",
       "      <td>11.000000</td>\n",
       "    </tr>\n",
       "    <tr>\n",
       "      <th>mean</th>\n",
       "      <td>9.000000</td>\n",
       "      <td>9.000000</td>\n",
       "      <td>9.000000</td>\n",
       "      <td>9.000000</td>\n",
       "      <td>7.500909</td>\n",
       "      <td>7.500909</td>\n",
       "      <td>7.500000</td>\n",
       "      <td>7.500909</td>\n",
       "    </tr>\n",
       "    <tr>\n",
       "      <th>std</th>\n",
       "      <td>3.316625</td>\n",
       "      <td>3.316625</td>\n",
       "      <td>3.316625</td>\n",
       "      <td>3.316625</td>\n",
       "      <td>2.031568</td>\n",
       "      <td>2.031657</td>\n",
       "      <td>2.030424</td>\n",
       "      <td>2.030579</td>\n",
       "    </tr>\n",
       "    <tr>\n",
       "      <th>min</th>\n",
       "      <td>4.000000</td>\n",
       "      <td>4.000000</td>\n",
       "      <td>4.000000</td>\n",
       "      <td>8.000000</td>\n",
       "      <td>4.260000</td>\n",
       "      <td>3.100000</td>\n",
       "      <td>5.390000</td>\n",
       "      <td>5.250000</td>\n",
       "    </tr>\n",
       "    <tr>\n",
       "      <th>25%</th>\n",
       "      <td>6.500000</td>\n",
       "      <td>6.500000</td>\n",
       "      <td>6.500000</td>\n",
       "      <td>8.000000</td>\n",
       "      <td>6.315000</td>\n",
       "      <td>6.695000</td>\n",
       "      <td>6.250000</td>\n",
       "      <td>6.170000</td>\n",
       "    </tr>\n",
       "    <tr>\n",
       "      <th>50%</th>\n",
       "      <td>9.000000</td>\n",
       "      <td>9.000000</td>\n",
       "      <td>9.000000</td>\n",
       "      <td>8.000000</td>\n",
       "      <td>7.580000</td>\n",
       "      <td>8.140000</td>\n",
       "      <td>7.110000</td>\n",
       "      <td>7.040000</td>\n",
       "    </tr>\n",
       "    <tr>\n",
       "      <th>75%</th>\n",
       "      <td>11.500000</td>\n",
       "      <td>11.500000</td>\n",
       "      <td>11.500000</td>\n",
       "      <td>8.000000</td>\n",
       "      <td>8.570000</td>\n",
       "      <td>8.950000</td>\n",
       "      <td>7.980000</td>\n",
       "      <td>8.190000</td>\n",
       "    </tr>\n",
       "    <tr>\n",
       "      <th>max</th>\n",
       "      <td>14.000000</td>\n",
       "      <td>14.000000</td>\n",
       "      <td>14.000000</td>\n",
       "      <td>19.000000</td>\n",
       "      <td>10.840000</td>\n",
       "      <td>9.260000</td>\n",
       "      <td>12.740000</td>\n",
       "      <td>12.500000</td>\n",
       "    </tr>\n",
       "  </tbody>\n",
       "</table>\n",
       "</div>"
      ],
      "text/plain": [
       "              x1         x2         x3         x4         y1         y2  \\\n",
       "count  11.000000  11.000000  11.000000  11.000000  11.000000  11.000000   \n",
       "mean    9.000000   9.000000   9.000000   9.000000   7.500909   7.500909   \n",
       "std     3.316625   3.316625   3.316625   3.316625   2.031568   2.031657   \n",
       "min     4.000000   4.000000   4.000000   8.000000   4.260000   3.100000   \n",
       "25%     6.500000   6.500000   6.500000   8.000000   6.315000   6.695000   \n",
       "50%     9.000000   9.000000   9.000000   8.000000   7.580000   8.140000   \n",
       "75%    11.500000  11.500000  11.500000   8.000000   8.570000   8.950000   \n",
       "max    14.000000  14.000000  14.000000  19.000000  10.840000   9.260000   \n",
       "\n",
       "              y3         y4  \n",
       "count  11.000000  11.000000  \n",
       "mean    7.500000   7.500909  \n",
       "std     2.030424   2.030579  \n",
       "min     5.390000   5.250000  \n",
       "25%     6.250000   6.170000  \n",
       "50%     7.110000   7.040000  \n",
       "75%     7.980000   8.190000  \n",
       "max    12.740000  12.500000  "
      ]
     },
     "execution_count": 37,
     "metadata": {},
     "output_type": "execute_result"
    }
   ],
   "source": [
    "anscombe_df.describe()"
   ]
  },
  {
   "cell_type": "markdown",
   "metadata": {
    "id": "_K75nquWy2aN"
   },
   "source": [
    "**`(xi, yi)` 를 담은 네 개의 어레이**"
   ]
  },
  {
   "cell_type": "markdown",
   "metadata": {
    "id": "8twmhi72y2aN"
   },
   "source": [
    "각각의 `i`에 대해 `(xi, yi)`로 구성된 네 개의 데이터셋을 선언한다.\n",
    "다양한 방식이 가능하지만 여기서는 가장 단순하게 네 개의 변수 각각이\n",
    "가리키는 데이터프레임으로 선언한다."
   ]
  },
  {
   "cell_type": "code",
   "execution_count": 38,
   "metadata": {
    "id": "Njl1_Tmiy2aN"
   },
   "outputs": [],
   "source": [
    "data1 = anscombe_df.iloc[:, [0, 4]]\n",
    "data2 = anscombe_df.iloc[:, [1, 5]]\n",
    "data3 = anscombe_df.iloc[:, [2, 6]]\n",
    "data4 = anscombe_df.iloc[:, [3, 7]]"
   ]
  },
  {
   "cell_type": "markdown",
   "metadata": {
    "id": "2wn_26P2y2aN"
   },
   "source": [
    "네 개의 데이터프레임을 묶어 하나의 리스트로 선언한다."
   ]
  },
  {
   "cell_type": "code",
   "execution_count": 39,
   "metadata": {
    "id": "SQ8nMY03y2aN"
   },
   "outputs": [],
   "source": [
    "anscombe_arr = np.array([data1, data2, data3, data4])"
   ]
  },
  {
   "cell_type": "markdown",
   "metadata": {
    "id": "MFukCp5Ey2aN"
   },
   "source": [
    "참고로 (4, 11, 2) 모양의 3차원 어레이가 생성된다."
   ]
  },
  {
   "cell_type": "code",
   "execution_count": 40,
   "metadata": {
    "colab": {
     "base_uri": "https://localhost:8080/"
    },
    "executionInfo": {
     "elapsed": 51,
     "status": "ok",
     "timestamp": 1752281566219,
     "user": {
      "displayName": "ter wa",
      "userId": "01448980402448893441"
     },
     "user_tz": -540
    },
    "id": "EvTtl4XAy2aN",
    "outputId": "f04f76da-8b13-46e6-f579-396340f2a314"
   },
   "outputs": [
    {
     "data": {
      "text/plain": [
       "(4, 11, 2)"
      ]
     },
     "execution_count": 40,
     "metadata": {},
     "output_type": "execute_result"
    }
   ],
   "source": [
    "anscombe_arr.shape"
   ]
  },
  {
   "cell_type": "markdown",
   "metadata": {
    "id": "R4TzBZymy2aO"
   },
   "source": [
    "(4, 11, 2) 모양의 3차원 어레이는\n",
    "4 개의 (11, 2) 모양의 어레이로 구성된 어레이로 이해하면 된다.\n",
    "3차원 어레이에 대한 보다 자세한 설명은 여기서는 하지 않는다."
   ]
  },
  {
   "cell_type": "markdown",
   "metadata": {
    "id": "w_KsckZ-y2aO"
   },
   "source": [
    "**산점도와 선형 회귀**"
   ]
  },
  {
   "cell_type": "markdown",
   "metadata": {
    "id": "FCCbBYfJy2aO"
   },
   "source": [
    "네 개의 데이터셋 각각을 대상으로 산점도와 회귀 직선을 그리기 위해\n",
    "(2, 2) 모양의 서브플롯 네 개를 이용한다.\n",
    "\n",
    "아래 코드에 사용된 `plt.subplots()` 함수는 `Figure` 객체와 서브플롯 구성방식을 동시에 지정한다.\n",
    "\n",
    "- `fig` 변수: 액자 역할 담당의 `Figure` 객체\n",
    "- `axes` 변수: (2,2) 모양으로 구성된 서브프플롯들의 `Axes` 정보를 담은 (2, 2) 모양의 어레이\n",
    "\n",
    "함수 호출에 필요한 키워드 인자의 기능은 다음과 같다.\n",
    "\n",
    "- `nrows=2`와 `ncols=2`: (2, 2) 모양으로 서브플롯 구성\n",
    "- `sharex`와 `sharey` 키워드 인자: 도화지들이 x-축, y-축 눈금의 공유 여부 지정. 여기서는 공유하기로 지정."
   ]
  },
  {
   "cell_type": "code",
   "execution_count": 41,
   "metadata": {
    "ExecuteTime": {
     "end_time": "2018-08-14T06:40:20.368592Z",
     "start_time": "2018-08-14T06:40:20.053270Z"
    },
    "colab": {
     "base_uri": "https://localhost:8080/",
     "height": 843
    },
    "executionInfo": {
     "elapsed": 682,
     "status": "ok",
     "timestamp": 1752281566899,
     "user": {
      "displayName": "ter wa",
      "userId": "01448980402448893441"
     },
     "user_tz": -540
    },
    "id": "V9oA661py2aO",
    "outputId": "ead81f14-05cb-4405-9559-5046e3384d3f"
   },
   "outputs": [
    {
     "data": {
      "image/png": "[encoded data removed]",
      "text/plain": [
       "<Figure size 1200x900 with 4 Axes>"
      ]
     },
     "metadata": {},
     "output_type": "display_data"
    }
   ],
   "source": [
    "# Figure 객체와 Axes 지정\n",
    "fig, axes = plt.subplots(nrows=2,\n",
    "                         ncols=2,\n",
    "                         figsize=(12, 9),\n",
    "                         sharex=True,\n",
    "                         sharey=True)\n",
    "\n",
    "xs = np.linspace(0, 30, 100)\n",
    "\n",
    "# 앤스컴 데이터 4중주 그래프 그리기\n",
    "for i, data in enumerate(anscombe_arr):\n",
    "    # 회귀 직선 데이터\n",
    "    poly_fit = np.polyfit(data[:,0], data[:,1], 1)\n",
    "    poly_1d = np.poly1d(poly_fit)\n",
    "    ys = poly_1d(xs)\n",
    "\n",
    "    # 서브플롯 지정\n",
    "    ax = axes[i//2, i%2] # i = 0, 1, 2, 3에 해당하는 서브폴롯\n",
    "\n",
    "    # 산점도와 회귀 직선\n",
    "    ax.scatter(data[:,0], data[:,1])\n",
    "    ax.plot(xs, ys, color='red')\n",
    "\n",
    "    # x-축, y-축 범위 지정\n",
    "    ax.set_xlim([4, 20])\n",
    "    ax.set_ylim([3, 13])\n",
    "\n",
    "    # 타이틀\n",
    "    ax.set_title(f'data{i+1}')\n",
    "\n",
    "# 그래프 사이의 간격을 좁힘\n",
    "plt.tight_layout()\n",
    "plt.show()"
   ]
  },
  {
   "cell_type": "markdown",
   "metadata": {
    "id": "YNgwO9Eqy2aO"
   },
   "source": [
    "**데이터 시각화의 중요성**"
   ]
  },
  {
   "cell_type": "markdown",
   "metadata": {
    "id": "eWLNA8pJy2aO"
   },
   "source": [
    "평균, 분산, 상관계수 등 모든 수치 지표가 동일하지만\n",
    "앤스컴 데이터 4중주에 포함된 네 개의 데이터는 완전히 다른 분포를 띠고 있다.\n",
    "따라서 수치 지표 뿐만 아니라 시각화된 그래프도 함께 확인하는 일이 매우 중요함을\n",
    "기억해야 한다."
   ]
  },
  {
   "cell_type": "markdown",
   "metadata": {
    "id": "dZDvXvEiy2aO"
   },
   "source": [
    "## 연습문제"
   ]
  },
  {
   "cell_type": "markdown",
   "metadata": {
    "id": "SAwApzS-y2aO"
   },
   "source": [
    "참고: [(연습) 2차원 데이터 시각화](https://colab.research.google.com/github/codingalzi/DataSci/blob/master/practices/practice-twoD_visualization.ipynb)"
   ]
  }
 ],
 "metadata": {
  "colab": {
   "provenance": [
    {
     "file_id": "https://github.com/codingalzi/DataSci/blob/master/jupyter-book/twoD_visualization.ipynb",
     "timestamp": 1751084920202
    }
   ]
  },
  "kernelspec": {
   "display_name": "Python 3 (ipykernel)",
   "language": "python",
   "name": "python3"
  },
  "language_info": {
   "codemirror_mode": {
    "name": "ipython",
    "version": 3
   },
   "file_extension": ".py",
   "mimetype": "text/x-python",
   "name": "python",
   "nbconvert_exporter": "python",
   "pygments_lexer": "ipython3",
   "version": "3.12.2"
  },
  "toc": {
   "nav_menu": {},
   "number_sections": true,
   "sideBar": true,
   "skip_h1_title": false,
   "toc_cell": false,
   "toc_position": {},
   "toc_section_display": "block",
   "toc_window_display": false
  }
 },
 "nbformat": 4,
 "nbformat_minor": 1
}
